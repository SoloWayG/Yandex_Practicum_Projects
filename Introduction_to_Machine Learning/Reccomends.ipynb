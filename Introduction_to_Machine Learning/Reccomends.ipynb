{
 "cells": [
  {
   "cell_type": "markdown",
   "metadata": {},
   "source": [
    "# Рекомендация тарифов"
   ]
  },
  {
   "cell_type": "markdown",
   "metadata": {},
   "source": [
    "В вашем распоряжении данные о поведении клиентов, которые уже перешли на эти тарифы (из проекта курса «Статистический анализ данных»). Нужно построить модель для задачи классификации, которая выберет подходящий тариф. Предобработка данных не понадобится — вы её уже сделали.\n",
    "\n",
    "Постройте модель с максимально большим значением *accuracy*. Чтобы сдать проект успешно, нужно довести долю правильных ответов по крайней мере до 0.75. Проверьте *accuracy* на тестовой выборке самостоятельно."
   ]
  },
  {
   "cell_type": "markdown",
   "metadata": {},
   "source": [
    "## Откройте и изучите файл"
   ]
  },
  {
   "cell_type": "code",
   "execution_count": 1,
   "metadata": {},
   "outputs": [
    {
     "name": "stdout",
     "output_type": "stream",
     "text": [
      "Requirement already satisfied: scikit-learn in /opt/conda/lib/python3.9/site-packages (1.1.3)\n",
      "Requirement already satisfied: scipy>=1.3.2 in /opt/conda/lib/python3.9/site-packages (from scikit-learn) (1.9.1)\n",
      "Requirement already satisfied: numpy>=1.17.3 in /opt/conda/lib/python3.9/site-packages (from scikit-learn) (1.21.1)\n",
      "Requirement already satisfied: joblib>=1.0.0 in /opt/conda/lib/python3.9/site-packages (from scikit-learn) (1.1.0)\n",
      "Requirement already satisfied: threadpoolctl>=2.0.0 in /opt/conda/lib/python3.9/site-packages (from scikit-learn) (3.1.0)\n"
     ]
    }
   ],
   "source": [
    "!pip install --upgrade scikit-learn"
   ]
  },
  {
   "cell_type": "code",
   "execution_count": 2,
   "metadata": {},
   "outputs": [],
   "source": [
    "import pandas as pd\n",
    "import numpy as np\n",
    "from sklearn.model_selection import train_test_split\n",
    "from sklearn.metrics import accuracy_score\n",
    "import matplotlib.pyplot as plt"
   ]
  },
  {
   "cell_type": "code",
   "execution_count": 3,
   "metadata": {},
   "outputs": [
    {
     "data": {
      "text/html": [
       "<div>\n",
       "<style scoped>\n",
       "    .dataframe tbody tr th:only-of-type {\n",
       "        vertical-align: middle;\n",
       "    }\n",
       "\n",
       "    .dataframe tbody tr th {\n",
       "        vertical-align: top;\n",
       "    }\n",
       "\n",
       "    .dataframe thead th {\n",
       "        text-align: right;\n",
       "    }\n",
       "</style>\n",
       "<table border=\"1\" class=\"dataframe\">\n",
       "  <thead>\n",
       "    <tr style=\"text-align: right;\">\n",
       "      <th></th>\n",
       "      <th>calls</th>\n",
       "      <th>minutes</th>\n",
       "      <th>messages</th>\n",
       "      <th>mb_used</th>\n",
       "      <th>is_ultra</th>\n",
       "    </tr>\n",
       "  </thead>\n",
       "  <tbody>\n",
       "    <tr>\n",
       "      <th>0</th>\n",
       "      <td>40.0</td>\n",
       "      <td>311.90</td>\n",
       "      <td>83.0</td>\n",
       "      <td>19915.42</td>\n",
       "      <td>0</td>\n",
       "    </tr>\n",
       "    <tr>\n",
       "      <th>1</th>\n",
       "      <td>85.0</td>\n",
       "      <td>516.75</td>\n",
       "      <td>56.0</td>\n",
       "      <td>22696.96</td>\n",
       "      <td>0</td>\n",
       "    </tr>\n",
       "    <tr>\n",
       "      <th>2</th>\n",
       "      <td>77.0</td>\n",
       "      <td>467.66</td>\n",
       "      <td>86.0</td>\n",
       "      <td>21060.45</td>\n",
       "      <td>0</td>\n",
       "    </tr>\n",
       "    <tr>\n",
       "      <th>3</th>\n",
       "      <td>106.0</td>\n",
       "      <td>745.53</td>\n",
       "      <td>81.0</td>\n",
       "      <td>8437.39</td>\n",
       "      <td>1</td>\n",
       "    </tr>\n",
       "    <tr>\n",
       "      <th>4</th>\n",
       "      <td>66.0</td>\n",
       "      <td>418.74</td>\n",
       "      <td>1.0</td>\n",
       "      <td>14502.75</td>\n",
       "      <td>0</td>\n",
       "    </tr>\n",
       "  </tbody>\n",
       "</table>\n",
       "</div>"
      ],
      "text/plain": [
       "   calls  minutes  messages   mb_used  is_ultra\n",
       "0   40.0   311.90      83.0  19915.42         0\n",
       "1   85.0   516.75      56.0  22696.96         0\n",
       "2   77.0   467.66      86.0  21060.45         0\n",
       "3  106.0   745.53      81.0   8437.39         1\n",
       "4   66.0   418.74       1.0  14502.75         0"
      ]
     },
     "execution_count": 3,
     "metadata": {},
     "output_type": "execute_result"
    }
   ],
   "source": [
    "df=pd.read_csv('/datasets/users_behavior.csv')\n",
    "df_x=df.drop('is_ultra',axis=1)\n",
    "df_y=df['is_ultra']\n",
    "df.head()"
   ]
  },
  {
   "cell_type": "code",
   "execution_count": 4,
   "metadata": {},
   "outputs": [
    {
     "data": {
      "text/html": [
       "<div>\n",
       "<style scoped>\n",
       "    .dataframe tbody tr th:only-of-type {\n",
       "        vertical-align: middle;\n",
       "    }\n",
       "\n",
       "    .dataframe tbody tr th {\n",
       "        vertical-align: top;\n",
       "    }\n",
       "\n",
       "    .dataframe thead th {\n",
       "        text-align: right;\n",
       "    }\n",
       "</style>\n",
       "<table border=\"1\" class=\"dataframe\">\n",
       "  <thead>\n",
       "    <tr style=\"text-align: right;\">\n",
       "      <th></th>\n",
       "      <th>calls</th>\n",
       "      <th>minutes</th>\n",
       "      <th>messages</th>\n",
       "      <th>mb_used</th>\n",
       "      <th>is_ultra</th>\n",
       "    </tr>\n",
       "  </thead>\n",
       "  <tbody>\n",
       "    <tr>\n",
       "      <th>count</th>\n",
       "      <td>3214.000000</td>\n",
       "      <td>3214.000000</td>\n",
       "      <td>3214.000000</td>\n",
       "      <td>3214.000000</td>\n",
       "      <td>3214.000000</td>\n",
       "    </tr>\n",
       "    <tr>\n",
       "      <th>mean</th>\n",
       "      <td>63.038892</td>\n",
       "      <td>438.208787</td>\n",
       "      <td>38.281269</td>\n",
       "      <td>17207.673836</td>\n",
       "      <td>0.306472</td>\n",
       "    </tr>\n",
       "    <tr>\n",
       "      <th>std</th>\n",
       "      <td>33.236368</td>\n",
       "      <td>234.569872</td>\n",
       "      <td>36.148326</td>\n",
       "      <td>7570.968246</td>\n",
       "      <td>0.461100</td>\n",
       "    </tr>\n",
       "    <tr>\n",
       "      <th>min</th>\n",
       "      <td>0.000000</td>\n",
       "      <td>0.000000</td>\n",
       "      <td>0.000000</td>\n",
       "      <td>0.000000</td>\n",
       "      <td>0.000000</td>\n",
       "    </tr>\n",
       "    <tr>\n",
       "      <th>25%</th>\n",
       "      <td>40.000000</td>\n",
       "      <td>274.575000</td>\n",
       "      <td>9.000000</td>\n",
       "      <td>12491.902500</td>\n",
       "      <td>0.000000</td>\n",
       "    </tr>\n",
       "    <tr>\n",
       "      <th>50%</th>\n",
       "      <td>62.000000</td>\n",
       "      <td>430.600000</td>\n",
       "      <td>30.000000</td>\n",
       "      <td>16943.235000</td>\n",
       "      <td>0.000000</td>\n",
       "    </tr>\n",
       "    <tr>\n",
       "      <th>75%</th>\n",
       "      <td>82.000000</td>\n",
       "      <td>571.927500</td>\n",
       "      <td>57.000000</td>\n",
       "      <td>21424.700000</td>\n",
       "      <td>1.000000</td>\n",
       "    </tr>\n",
       "    <tr>\n",
       "      <th>max</th>\n",
       "      <td>244.000000</td>\n",
       "      <td>1632.060000</td>\n",
       "      <td>224.000000</td>\n",
       "      <td>49745.730000</td>\n",
       "      <td>1.000000</td>\n",
       "    </tr>\n",
       "  </tbody>\n",
       "</table>\n",
       "</div>"
      ],
      "text/plain": [
       "             calls      minutes     messages       mb_used     is_ultra\n",
       "count  3214.000000  3214.000000  3214.000000   3214.000000  3214.000000\n",
       "mean     63.038892   438.208787    38.281269  17207.673836     0.306472\n",
       "std      33.236368   234.569872    36.148326   7570.968246     0.461100\n",
       "min       0.000000     0.000000     0.000000      0.000000     0.000000\n",
       "25%      40.000000   274.575000     9.000000  12491.902500     0.000000\n",
       "50%      62.000000   430.600000    30.000000  16943.235000     0.000000\n",
       "75%      82.000000   571.927500    57.000000  21424.700000     1.000000\n",
       "max     244.000000  1632.060000   224.000000  49745.730000     1.000000"
      ]
     },
     "execution_count": 4,
     "metadata": {},
     "output_type": "execute_result"
    }
   ],
   "source": [
    "df.describe()"
   ]
  },
  {
   "cell_type": "code",
   "execution_count": 5,
   "metadata": {},
   "outputs": [
    {
     "data": {
      "image/png": "[encoded data removed]",
      "text/plain": [
       "<Figure size 720x720 with 6 Axes>"
      ]
     },
     "metadata": {
      "needs_background": "light"
     },
     "output_type": "display_data"
    }
   ],
   "source": [
    "df.hist(bins=15,figsize=(10,10));"
   ]
  },
  {
   "cell_type": "code",
   "execution_count": 6,
   "metadata": {},
   "outputs": [
    {
     "data": {
      "text/html": [
       "<div>\n",
       "<style scoped>\n",
       "    .dataframe tbody tr th:only-of-type {\n",
       "        vertical-align: middle;\n",
       "    }\n",
       "\n",
       "    .dataframe tbody tr th {\n",
       "        vertical-align: top;\n",
       "    }\n",
       "\n",
       "    .dataframe thead th {\n",
       "        text-align: right;\n",
       "    }\n",
       "</style>\n",
       "<table border=\"1\" class=\"dataframe\">\n",
       "  <thead>\n",
       "    <tr style=\"text-align: right;\">\n",
       "      <th></th>\n",
       "      <th>calls</th>\n",
       "      <th>minutes</th>\n",
       "      <th>messages</th>\n",
       "      <th>mb_used</th>\n",
       "      <th>is_ultra</th>\n",
       "    </tr>\n",
       "  </thead>\n",
       "  <tbody>\n",
       "    <tr>\n",
       "      <th>calls</th>\n",
       "      <td>1.000000</td>\n",
       "      <td>0.982083</td>\n",
       "      <td>0.177385</td>\n",
       "      <td>0.286442</td>\n",
       "      <td>0.207122</td>\n",
       "    </tr>\n",
       "    <tr>\n",
       "      <th>minutes</th>\n",
       "      <td>0.982083</td>\n",
       "      <td>1.000000</td>\n",
       "      <td>0.173110</td>\n",
       "      <td>0.280967</td>\n",
       "      <td>0.206955</td>\n",
       "    </tr>\n",
       "    <tr>\n",
       "      <th>messages</th>\n",
       "      <td>0.177385</td>\n",
       "      <td>0.173110</td>\n",
       "      <td>1.000000</td>\n",
       "      <td>0.195721</td>\n",
       "      <td>0.203830</td>\n",
       "    </tr>\n",
       "    <tr>\n",
       "      <th>mb_used</th>\n",
       "      <td>0.286442</td>\n",
       "      <td>0.280967</td>\n",
       "      <td>0.195721</td>\n",
       "      <td>1.000000</td>\n",
       "      <td>0.198568</td>\n",
       "    </tr>\n",
       "    <tr>\n",
       "      <th>is_ultra</th>\n",
       "      <td>0.207122</td>\n",
       "      <td>0.206955</td>\n",
       "      <td>0.203830</td>\n",
       "      <td>0.198568</td>\n",
       "      <td>1.000000</td>\n",
       "    </tr>\n",
       "  </tbody>\n",
       "</table>\n",
       "</div>"
      ],
      "text/plain": [
       "             calls   minutes  messages   mb_used  is_ultra\n",
       "calls     1.000000  0.982083  0.177385  0.286442  0.207122\n",
       "minutes   0.982083  1.000000  0.173110  0.280967  0.206955\n",
       "messages  0.177385  0.173110  1.000000  0.195721  0.203830\n",
       "mb_used   0.286442  0.280967  0.195721  1.000000  0.198568\n",
       "is_ultra  0.207122  0.206955  0.203830  0.198568  1.000000"
      ]
     },
     "execution_count": 6,
     "metadata": {},
     "output_type": "execute_result"
    }
   ],
   "source": [
    "df.corr()"
   ]
  },
  {
   "cell_type": "code",
   "execution_count": 7,
   "metadata": {},
   "outputs": [],
   "source": [
    "df=df.drop('calls',axis=1)"
   ]
  },
  {
   "cell_type": "markdown",
   "metadata": {},
   "source": [
    "## Разбейте данные на выборки"
   ]
  },
  {
   "cell_type": "markdown",
   "metadata": {},
   "source": [
    "Необходимо разбить ДФ на 3 выборки Тренировочную, Тестовую и Валидационную. Буду делить 60:20:20"
   ]
  },
  {
   "cell_type": "code",
   "execution_count": 8,
   "metadata": {},
   "outputs": [],
   "source": [
    "df_train, df_test1 =train_test_split(df, test_size=0.4, random_state=42) #40% DF для теста и валидации\n",
    "df_test, df_val=train_test_split(df_test1, test_size=0.5, random_state=42) #50на 50 те 40% для теста и валидации"
   ]
  },
  {
   "cell_type": "code",
   "execution_count": 9,
   "metadata": {},
   "outputs": [
    {
     "name": "stdout",
     "output_type": "stream",
     "text": [
      "(1928, 3) (643, 3) (643, 3)\n",
      "2.998444790046656 : 1.0 : 1.0\n"
     ]
    }
   ],
   "source": [
    "#Фичи и лейблы для трейна\n",
    "X_train=df_train.drop('is_ultra',axis=1)\n",
    "y_train=df_train['is_ultra']\n",
    "\n",
    "#Фичи и лейблы для testa\n",
    "X_test=df_test.drop('is_ultra',axis=1)\n",
    "y_test=df_test['is_ultra']\n",
    "\n",
    "#Фичи и лейблы для валидации\n",
    "X_valid=df_val.drop('is_ultra',axis=1)\n",
    "y_valid=df_val['is_ultra']\n",
    "\n",
    "print(X_train.shape,X_test.shape,X_valid.shape)\n",
    "print((X_train.shape[0]/X_test.shape[0]),':',X_test.shape[0]/X_test.shape[0],':',X_test.shape[0]/X_test.shape[0])"
   ]
  },
  {
   "cell_type": "markdown",
   "metadata": {},
   "source": [
    "## Исследуйте модели"
   ]
  },
  {
   "cell_type": "code",
   "execution_count": 10,
   "metadata": {},
   "outputs": [],
   "source": [
    "from sklearn.linear_model import LogisticRegression\n",
    "from sklearn.ensemble import RandomForestClassifier\n",
    "from sklearn.tree import DecisionTreeClassifier\n",
    "from sklearn.metrics import mean_squared_error\n",
    "\n",
    "from sklearn.metrics import roc_auc_score,precision_score,recall_score,classification_report\n",
    "\n",
    "from catboost import CatBoostClassifier\n",
    "\n",
    "from sklearn.model_selection import GridSearchCV\n",
    "from sklearn.pipeline import make_pipeline\n",
    "from sklearn.pipeline import Pipeline\n",
    "from sklearn.preprocessing import StandardScaler\n",
    "\n",
    "from sklearn.metrics import RocCurveDisplay\n",
    "from sklearn.svm import SVC\n",
    "\n",
    "from sklearn.dummy import DummyClassifier"
   ]
  },
  {
   "cell_type": "code",
   "execution_count": 11,
   "metadata": {},
   "outputs": [],
   "source": [
    "scaler = StandardScaler()\n",
    "scaler.fit(X_train) \n",
    "\n",
    "X_train = scaler.transform(X_train)\n",
    "X_valid = scaler.transform(X_valid)\n",
    "X_test = scaler.transform(X_test)"
   ]
  },
  {
   "cell_type": "code",
   "execution_count": 12,
   "metadata": {},
   "outputs": [],
   "source": [
    "models=[RandomForestClassifier,DecisionTreeClassifier,LogisticRegression]\n",
    "models_gyper=[RandomForestClassifier,DecisionTreeClassifier]\n",
    "#Наши исследуемые модели"
   ]
  },
  {
   "cell_type": "markdown",
   "metadata": {},
   "source": [
    "parameters={'n_estimators':[50,100,150],\n",
    "            'max_depth':[1,2],\n",
    "            'min_samples_split':[2,3],\n",
    "            'min_samples_leaf':[1,2],\n",
    "           }\n",
    "\n",
    "\n",
    "for i in np.arange(3,0,-1):\n",
    "    for j in np.arange(1,3,1):\n",
    "        for k in np.arange(3,0,-1):\n",
    "            x=RandomForestClassifier(max_depth=i,min_samples_leaf=j,n_estimators=k)\n",
    "            \n",
    "for i in np.arange(3,0,-1):\n",
    "    for j in np.arange(2,3,1):\n",
    "        for k in np.arange(10,160,10):\n",
    "            x=DecisionTreeClassifier(max_depth=i,min_samples_split=j,min_samples_leaf=k)\n"
   ]
  },
  {
   "cell_type": "code",
   "execution_count": 13,
   "metadata": {},
   "outputs": [
    {
     "name": "stdout",
     "output_type": "stream",
     "text": [
      "RandomForestClassifier имеет accuracy= 0.8102643856920684 roc_auc= 0.7998798076923077\n",
      "DecisionTreeClassifier имеет accuracy= 0.8055987558320373 roc_auc= 0.7245135073260074\n",
      "LogisticRegression имеет accuracy= 0.7698289269051322 roc_auc= 0.6814331501831502\n"
     ]
    }
   ],
   "source": [
    "valid_acc=0\n",
    "roc_auc_valid=0\n",
    "for i in np.arange(3,0,-1):\n",
    "    for j in np.arange(1,3,1):\n",
    "        for k in np.arange(10,160,10):\n",
    "            model_test=RandomForestClassifier(max_depth=i,min_samples_leaf=j,n_estimators=k,random_state=1861)\n",
    "            model_test.fit(X_train,y_train)\n",
    "            pred=model_test.predict(X_valid)\n",
    "            acc=accuracy_score(y_valid, pred)\n",
    "            roc=roc_auc_score(y_valid, model_test.predict_proba(X_valid)[:,-1])\n",
    "            if acc>valid_acc:\n",
    "                valid_acc=acc\n",
    "                valid_mod_RF=model_test\n",
    "                roc_auc_valid=roc\n",
    "            \n",
    "print('RandomForestClassifier','имеет accuracy=',valid_acc,'roc_auc=',roc_auc_valid)\n",
    "valid_acc=0\n",
    "roc_auc_valid=0\n",
    "for i in np.arange(3,0,-1):\n",
    "    for j in np.arange(2,3,1):\n",
    "        for k in np.arange(3,0,-1):\n",
    "            \n",
    "            model_test=DecisionTreeClassifier(max_depth=i,min_samples_split=j,min_samples_leaf=k,random_state=1861)\n",
    "            \n",
    "            model_test.fit(X_train,y_train)\n",
    "            pred=model_test.predict(X_valid)\n",
    "            acc=accuracy_score(y_valid, pred)\n",
    "            roc=roc_auc_score(y_valid, model_test.predict_proba(X_valid)[:,-1])\n",
    "            if acc>valid_acc:\n",
    "                valid_acc=acc\n",
    "                valid_mod_DT=model_test\n",
    "                roc_auc_valid=roc\n",
    "            \n",
    "print('DecisionTreeClassifier','имеет accuracy=',valid_acc,'roc_auc=',roc_auc_valid)\n",
    "\n",
    "valid_acc=0\n",
    "roc_auc_valid=0\n",
    "model_test=LogisticRegression(random_state=1861).fit(X_train,y_train)\n",
    "pred=model_test.predict(X_valid)\n",
    "acc=accuracy_score(y_valid, pred)\n",
    "roc=roc_auc_score(y_valid, model_test.predict_proba(X_valid)[:,-1])\n",
    "\n",
    "if acc>valid_acc:\n",
    "    valid_acc=acc\n",
    "    valid_mod_LR=model_test\n",
    "    roc_auc_valid=roc\n",
    "\n",
    "print('LogisticRegression','имеет accuracy=',valid_acc,'roc_auc=',roc_auc_valid)"
   ]
  },
  {
   "cell_type": "markdown",
   "metadata": {},
   "source": [
    "Выполню сравнение с Baseline моделью."
   ]
  },
  {
   "cell_type": "code",
   "execution_count": 14,
   "metadata": {},
   "outputs": [
    {
     "name": "stdout",
     "output_type": "stream",
     "text": [
      "accuracy 0.6967340590979783 roc_auc 0.5\n"
     ]
    }
   ],
   "source": [
    "dmm=DummyClassifier(strategy='most_frequent', random_state=700).fit(X_train,y_train)\n",
    "pred_dmm=dmm.predict(X_valid)\n",
    "acc_dmm=accuracy_score(y_valid, pred_dmm)\n",
    "roc_dmm=roc_auc_score(y_valid, dmm.predict_proba(X_valid)[:,-1])\n",
    "print(\"accuracy\",acc_dmm,\"roc_auc\",roc_dmm)"
   ]
  },
  {
   "cell_type": "markdown",
   "metadata": {},
   "source": [
    "Данная модель значительно хуже выбранных мной для анализа, значит можно двигаться дальше."
   ]
  },
  {
   "cell_type": "code",
   "execution_count": 15,
   "metadata": {},
   "outputs": [
    {
     "name": "stdout",
     "output_type": "stream",
     "text": [
      "RandomForestClassifier(max_depth=3, n_estimators=10, random_state=1861) 0.8102643856920684 0.7998798076923077 Сохраню лучшую тестовую модель\n"
     ]
    }
   ],
   "source": [
    "pred=valid_mod_RF.predict(X_valid)\n",
    "acc=accuracy_score(y_valid, pred)\n",
    "roc=roc_auc_score(y_valid, valid_mod_RF.predict_proba(X_valid)[:,-1])\n",
    "print(valid_mod_RF,acc,roc,'Сохраню лучшую тестовую модель')"
   ]
  },
  {
   "cell_type": "markdown",
   "metadata": {},
   "source": [
    "Как видим, модель RandomForestClassifier справляется лучше всего. Далее работать буду с ней."
   ]
  },
  {
   "cell_type": "markdown",
   "metadata": {},
   "source": [
    "Вывод: \n",
    "\n",
    "По следующему выводу:\n",
    "\n",
    "RandomForestClassifier имеет accuracy= 0.8102643856920684 roc_auc= 0.7998798076923077\n",
    "DecisionTreeClassifier имеет accuracy= 0.8055987558320373 roc_auc= 0.7245135073260074\n",
    "LogisticRegression имеет accuracy= 0.7698289269051322 roc_auc= 0.6814331501831502\n",
    "\n",
    "можно сказать, что ЛогРегрессия показала себя хуже всего. Рандомный лес по accuracy на 0.5% лучше"
   ]
  },
  {
   "cell_type": "markdown",
   "metadata": {},
   "source": [
    "Проведу улучшение модели с помощью кроссвалидации. Это позволит нивелировать возможную перетренированность."
   ]
  },
  {
   "cell_type": "markdown",
   "metadata": {},
   "source": [
    "Разделю выборку на трейн и тест как 80к20 для обучения GridSearchCV"
   ]
  },
  {
   "cell_type": "code",
   "execution_count": 16,
   "metadata": {},
   "outputs": [
    {
     "data": {
      "text/plain": [
       "(2571, 3)"
      ]
     },
     "execution_count": 16,
     "metadata": {},
     "output_type": "execute_result"
    }
   ],
   "source": [
    "model_work=RandomForestClassifier(random_state=1861)\n",
    "\n",
    "df_train_cross, df_test_cross =train_test_split(df, test_size=0.2, random_state=42)\n",
    "\n",
    "X_cross=df_train_cross.drop('is_ultra',axis=1)\n",
    "y_cross=df_train_cross['is_ultra']\n",
    "X_cross.shape"
   ]
  },
  {
   "cell_type": "code",
   "execution_count": 17,
   "metadata": {},
   "outputs": [
    {
     "data": {
      "text/plain": [
       "\"\\n{'max_depth': 10, 'min_samples_leaf': 1, 'min_samples_split': 3, 'n_estimators': 500}\\n\""
      ]
     },
     "execution_count": 17,
     "metadata": {},
     "output_type": "execute_result"
    }
   ],
   "source": [
    "'''parameters={'n_estimators':np.arange(500,520,10),\n",
    "            'max_depth':np.arange(8,11,1),\n",
    "            'min_samples_split':[3],\n",
    "            'min_samples_leaf':[1],\n",
    "           }\n",
    "\n",
    "search = GridSearchCV(model_work, parameters, n_jobs=-1, cv=5, refit=True, scoring='accuracy',error_score='raise',verbose=True)\n",
    "# запустим поиск\n",
    "search.fit(X_cross, y_cross)\n",
    "\n",
    "# выведем наилучшие параметры\n",
    "print(search.best_params_)'''\n",
    "'''\n",
    "{'max_depth': 10, 'min_samples_leaf': 1, 'min_samples_split': 3, 'n_estimators': 500}\n",
    "'''\n"
   ]
  },
  {
   "cell_type": "code",
   "execution_count": 18,
   "metadata": {},
   "outputs": [
    {
     "name": "stdout",
     "output_type": "stream",
     "text": [
      "Валидация 0.8180404354587869\n"
     ]
    }
   ],
   "source": [
    "model_work_cross3=RandomForestClassifier(max_depth=10,\n",
    "                                        min_samples_leaf=1,min_samples_split=3,\n",
    "                                        n_estimators=500,random_state=1861)\n",
    "model_work_cross3.fit(X_train,y_train)\n",
    "\n",
    "print('Валидация',accuracy_score(y_valid, model_work_cross3.predict(X_valid)))"
   ]
  },
  {
   "cell_type": "markdown",
   "metadata": {},
   "source": [
    "По анализу из кросс-валидации были получены лучшие параметры для данной модели \n",
    "\n",
    "{'max_depth': 8, 'min_samples_leaf': 1, 'min_samples_split': 3, 'n_estimators': 500}"
   ]
  },
  {
   "cell_type": "markdown",
   "metadata": {},
   "source": [
    "Я выбрал лучшую модель, и улучшил ее на кросс-валидации. Это RandomForestClassifier\n",
    "со значением accuracy на валидации 0.818"
   ]
  },
  {
   "cell_type": "markdown",
   "metadata": {},
   "source": [
    "## Проверьте модель на тестовой выборке"
   ]
  },
  {
   "cell_type": "code",
   "execution_count": 19,
   "metadata": {},
   "outputs": [
    {
     "name": "stdout",
     "output_type": "stream",
     "text": [
      "Модель RandomForestClassifier имеет accuracy на тестовой выборке: 0.807153965785381 ,на валидационной: 0.8102643856920684\n"
     ]
    }
   ],
   "source": [
    "test_mod=model_work_cross3#RandomForestClassifier\n",
    "\n",
    "y_pred_test=test_mod.predict(X_test)\n",
    "acc_test=accuracy_score(y_test, y_pred_test)\n",
    "print('Модель RandomForestClassifier имеет accuracy на тестовой выборке:',acc_test,\",на валидационной:\",acc)\n"
   ]
  },
  {
   "cell_type": "markdown",
   "metadata": {},
   "source": [
    "Похоже что есть некоторое переобучение модели, попробую провести кроссвалидацию. Возможно это нормальное явление такого снижения качества"
   ]
  },
  {
   "cell_type": "markdown",
   "metadata": {},
   "source": [
    "Вывод: После итерационной кросс-валидации я получил модель с весьма хорошими параметрами\n",
    "\n",
    "Валидация 0.818\n",
    "Тест 0.807\n"
   ]
  },
  {
   "cell_type": "markdown",
   "metadata": {},
   "source": [
    "## (бонус) Проверьте модели на адекватность"
   ]
  },
  {
   "attachments": {
    "image.png": {
     "image/png": "[encoded data removed]"
    }
   },
   "cell_type": "markdown",
   "metadata": {},
   "source": [
    "Для проверки адекватности модели я буду использовать следующие метрики: roc_auc_score,precision_score,recall_score,classification_report\n",
    "\n",
    "roc_auc показывает отношение TruePositive ответов к FalsePositive, то есть как модель угадывает верные ответы к выдаче предсказаний по ложной классификаци.\n",
    "\n",
    "\n",
    "Recall показывает полноту, отношение TruePositive как разнице TP-FN: tp / (tp + fp)\n",
    "\n",
    "\n",
    "Precision показывае tp / (tp + fp), сколько TruePositive из всех предсказаний\n",
    "\n",
    "\n",
    "Precision можно интерпретировать как долю объектов, названных классификатором положительными и при этом действительно являющимися положительными, а recall показывает, какую долю объектов положительного класса из всех объектов положительного класса нашел алгоритм.\n",
    "\n",
    "![image.png](attachment:image.png)\n",
    "#https://habr.com/ru/company/ods/blog/328372/"
   ]
  },
  {
   "cell_type": "code",
   "execution_count": 20,
   "metadata": {},
   "outputs": [
    {
     "name": "stdout",
     "output_type": "stream",
     "text": [
      "roc_auc_score: 0.8273314971204844 precision_score: 0.7874015748031497 recall_score: 0.5076142131979695\n"
     ]
    }
   ],
   "source": [
    "print('roc_auc_score:',roc_auc_score(y_test, model_work_cross3.predict_proba(X_test)[:,-1]),\n",
    "      'precision_score:',precision_score(y_test, model_work_cross3.predict(X_test)),\n",
    "     'recall_score:',recall_score(y_test, model_work_cross3.predict(X_test)))\n",
    "\n"
   ]
  },
  {
   "cell_type": "code",
   "execution_count": 21,
   "metadata": {},
   "outputs": [
    {
     "data": {
      "image/png": "[encoded data removed]",
      "text/plain": [
       "<Figure size 432x288 with 1 Axes>"
      ]
     },
     "metadata": {
      "needs_background": "light"
     },
     "output_type": "display_data"
    }
   ],
   "source": [
    "\n",
    "RocCurveDisplay.from_predictions(y_test, model_work_cross3.predict_proba(X_test)[:,-1])\n",
    "plt.show()"
   ]
  },
  {
   "cell_type": "code",
   "execution_count": 22,
   "metadata": {},
   "outputs": [
    {
     "name": "stdout",
     "output_type": "stream",
     "text": [
      "              precision    recall  f1-score   support\n",
      "\n",
      "           0       0.81      0.94      0.87       446\n",
      "           1       0.79      0.51      0.62       197\n",
      "\n",
      "    accuracy                           0.81       643\n",
      "   macro avg       0.80      0.72      0.74       643\n",
      "weighted avg       0.80      0.81      0.79       643\n",
      "\n"
     ]
    }
   ],
   "source": [
    "print(classification_report(y_test,model_work_cross3.predict(X_test),target_names=['0','1']))"
   ]
  },
  {
   "cell_type": "code",
   "execution_count": 23,
   "metadata": {
    "scrolled": true
   },
   "outputs": [
    {
     "name": "stdout",
     "output_type": "stream",
     "text": [
      "              precision    recall  f1-score   support\n",
      "\n",
      "           0       0.69      1.00      0.82       446\n",
      "           1       0.00      0.00      0.00       197\n",
      "\n",
      "    accuracy                           0.69       643\n",
      "   macro avg       0.35      0.50      0.41       643\n",
      "weighted avg       0.48      0.69      0.57       643\n",
      "\n",
      "accuracy от DummyClassifier 0.6936236391912908\n"
     ]
    }
   ],
   "source": [
    "import warnings\n",
    "warnings.filterwarnings('ignore')\n",
    "print(classification_report(y_test,dmm.predict(X_test),target_names=['0','1']))\n",
    "print('accuracy от DummyClassifier',accuracy_score(y_test,dmm.predict(X_test)))\n"
   ]
  },
  {
   "cell_type": "markdown",
   "metadata": {},
   "source": [
    "В целом можно сказать, что модель адекватная, roc-auc=0.72, precision_score: 0.79. \n",
    "\n",
    "Меня смущает метрика Recall=0.51, если я правильно понимаю, то модель правильно определяет 51% целевых переменных. А остальные получается ложно отрицательные.\n",
    "\n",
    "Так же сравнение рабочей модели с элементарной DummyClassifier, показывает серьезный выйгрыш у рабочей модели, что говорит о ее адекватности."
   ]
  },
  {
   "cell_type": "markdown",
   "metadata": {},
   "source": [
    "Еще попробую кое-что)"
   ]
  },
  {
   "cell_type": "code",
   "execution_count": 25,
   "metadata": {},
   "outputs": [
    {
     "data": {
      "text/plain": [
       "0.8164852255054432"
      ]
     },
     "execution_count": 25,
     "metadata": {},
     "output_type": "execute_result"
    }
   ],
   "source": [
    "model_cat = CatBoostClassifier(iterations=100,learning_rate=0.1,\n",
    "                         depth=12,verbose=False)\n",
    "\n",
    "model_cat.fit(X_train,y_train)\n",
    "preds_cat= model_cat.predict(X_valid)\n",
    "acc_cat=accuracy_score(y_valid, preds_cat)\n",
    "acc_cat"
   ]
  },
  {
   "cell_type": "code",
   "execution_count": 26,
   "metadata": {},
   "outputs": [
    {
     "name": "stdout",
     "output_type": "stream",
     "text": [
      "precision_score: 0.7819548872180451 recall_score: 0.5279187817258884\n"
     ]
    }
   ],
   "source": [
    "\n",
    "preds_cat= model_cat.predict(X_test)\n",
    "\n",
    "print(\n",
    "      'precision_score:',precision_score(y_test, preds_cat),\n",
    "     'recall_score:',recall_score(y_test, preds_cat))"
   ]
  },
  {
   "cell_type": "markdown",
   "metadata": {},
   "source": [
    "Модель с градиентным бустингом CatBoostClassifier показала примерно такой же accuracy, но по другим метрикам она вышла менее адекватная чем Случайный Лес."
   ]
  },
  {
   "cell_type": "markdown",
   "metadata": {},
   "source": [
    "## Вывод:\n",
    "По выполнению проекта, была создана оптимизированная модель случайного леса, которая имеет:\n",
    "\n",
    "Валидация accuracy= 0.818 Тест accuracy= 0.807\n",
    "\n",
    "По условию задания удалось достичь accuracy не меньше 0.75, а по анализу адекватности первая модель показывает лучшие значения.\n",
    "\n",
    "Так же дополнительно была оценена модель с градиентным бустингом CatBoostClassifier, которая показала примерно такой же accuracy, но по другим метрикам она вышла менее адекватная чем Случайный Лес."
   ]
  }
 ],
 "metadata": {
  "ExecuteTimeLog": [
   {
    "duration": 491,
    "start_time": "2022-11-15T09:13:39.096Z"
   },
   {
    "duration": 144,
    "start_time": "2022-11-15T09:13:58.234Z"
   },
   {
    "duration": 12,
    "start_time": "2022-11-15T09:14:19.892Z"
   },
   {
    "duration": 8,
    "start_time": "2022-11-15T09:14:37.099Z"
   },
   {
    "duration": 871,
    "start_time": "2022-11-15T09:14:52.314Z"
   },
   {
    "duration": 676,
    "start_time": "2022-11-15T09:15:11.770Z"
   },
   {
    "duration": 644,
    "start_time": "2022-11-15T09:15:38.252Z"
   },
   {
    "duration": 6,
    "start_time": "2022-11-15T09:16:56.580Z"
   },
   {
    "duration": 731,
    "start_time": "2022-11-15T09:17:29.392Z"
   },
   {
    "duration": 6,
    "start_time": "2022-11-15T09:18:14.511Z"
   },
   {
    "duration": 18,
    "start_time": "2022-11-15T09:18:21.936Z"
   },
   {
    "duration": 27,
    "start_time": "2022-11-15T09:22:58.828Z"
   },
   {
    "duration": 54,
    "start_time": "2022-11-15T09:26:25.398Z"
   },
   {
    "duration": 2,
    "start_time": "2022-11-15T09:27:04.729Z"
   },
   {
    "duration": 5,
    "start_time": "2022-11-15T09:27:12.239Z"
   },
   {
    "duration": 114,
    "start_time": "2022-11-15T09:27:33.428Z"
   },
   {
    "duration": 10,
    "start_time": "2022-11-15T09:27:37.256Z"
   },
   {
    "duration": 4,
    "start_time": "2022-11-15T09:27:42.767Z"
   },
   {
    "duration": 3,
    "start_time": "2022-11-15T09:30:40.812Z"
   },
   {
    "duration": 14,
    "start_time": "2022-11-15T09:31:50.370Z"
   },
   {
    "duration": 18,
    "start_time": "2022-11-15T09:37:13.478Z"
   },
   {
    "duration": 22,
    "start_time": "2022-11-15T09:37:30.674Z"
   },
   {
    "duration": 4,
    "start_time": "2022-11-15T09:38:15.834Z"
   },
   {
    "duration": 4,
    "start_time": "2022-11-15T09:38:17.088Z"
   },
   {
    "duration": 999,
    "start_time": "2022-11-15T09:38:18.182Z"
   },
   {
    "duration": 803,
    "start_time": "2022-11-15T09:39:05.075Z"
   },
   {
    "duration": 1126,
    "start_time": "2022-11-15T09:39:08.178Z"
   },
   {
    "duration": 1257,
    "start_time": "2022-11-15T09:39:11.117Z"
   },
   {
    "duration": 216,
    "start_time": "2022-11-15T09:42:50.256Z"
   },
   {
    "duration": 185,
    "start_time": "2022-11-15T09:42:58.340Z"
   },
   {
    "duration": 65,
    "start_time": "2022-11-15T09:43:09.999Z"
   },
   {
    "duration": 256,
    "start_time": "2022-11-15T09:43:13.252Z"
   },
   {
    "duration": 270,
    "start_time": "2022-11-15T09:43:16.356Z"
   },
   {
    "duration": 306,
    "start_time": "2022-11-15T09:43:19.344Z"
   },
   {
    "duration": 283,
    "start_time": "2022-11-15T09:43:23.377Z"
   },
   {
    "duration": 273,
    "start_time": "2022-11-15T09:43:29.181Z"
   },
   {
    "duration": 2443,
    "start_time": "2022-11-15T09:44:21.569Z"
   },
   {
    "duration": 37,
    "start_time": "2022-11-15T09:44:29.770Z"
   },
   {
    "duration": 1179,
    "start_time": "2022-11-15T09:44:33.568Z"
   },
   {
    "duration": 241,
    "start_time": "2022-11-15T09:44:39.676Z"
   },
   {
    "duration": 258,
    "start_time": "2022-11-15T09:44:44.255Z"
   },
   {
    "duration": 7,
    "start_time": "2022-11-15T09:45:17.968Z"
   },
   {
    "duration": 288,
    "start_time": "2022-11-15T09:45:20.672Z"
   },
   {
    "duration": 6,
    "start_time": "2022-11-15T09:45:24.395Z"
   },
   {
    "duration": 270,
    "start_time": "2022-11-15T09:45:27.181Z"
   },
   {
    "duration": 7,
    "start_time": "2022-11-15T09:50:55.881Z"
   },
   {
    "duration": 5,
    "start_time": "2022-11-15T09:51:45.052Z"
   },
   {
    "duration": 31,
    "start_time": "2022-11-15T09:55:30.105Z"
   },
   {
    "duration": 20,
    "start_time": "2022-11-15T09:55:42.672Z"
   },
   {
    "duration": 22,
    "start_time": "2022-11-15T09:55:46.218Z"
   },
   {
    "duration": 8,
    "start_time": "2022-11-15T09:55:54.244Z"
   },
   {
    "duration": 20,
    "start_time": "2022-11-15T09:56:28.617Z"
   },
   {
    "duration": 88,
    "start_time": "2022-11-15T09:56:33.938Z"
   },
   {
    "duration": 12,
    "start_time": "2022-11-15T09:56:36.539Z"
   },
   {
    "duration": 8,
    "start_time": "2022-11-15T09:56:50.647Z"
   },
   {
    "duration": 9,
    "start_time": "2022-11-15T09:57:10.998Z"
   },
   {
    "duration": 11,
    "start_time": "2022-11-15T09:57:33.171Z"
   },
   {
    "duration": 11,
    "start_time": "2022-11-15T09:58:25.278Z"
   },
   {
    "duration": 10,
    "start_time": "2022-11-15T09:58:44.264Z"
   },
   {
    "duration": 88,
    "start_time": "2022-11-15T09:58:54.765Z"
   },
   {
    "duration": 20,
    "start_time": "2022-11-15T09:59:00.192Z"
   },
   {
    "duration": 21,
    "start_time": "2022-11-15T09:59:05.446Z"
   },
   {
    "duration": 8,
    "start_time": "2022-11-15T09:59:09.588Z"
   },
   {
    "duration": 537,
    "start_time": "2022-11-15T09:59:44.428Z"
   },
   {
    "duration": 610,
    "start_time": "2022-11-15T10:00:29.158Z"
   },
   {
    "duration": 708,
    "start_time": "2022-11-15T10:03:02.785Z"
   },
   {
    "duration": 7,
    "start_time": "2022-11-15T10:03:11.980Z"
   },
   {
    "duration": 4,
    "start_time": "2022-11-15T10:03:31.840Z"
   },
   {
    "duration": 5,
    "start_time": "2022-11-15T10:04:04.178Z"
   },
   {
    "duration": 42,
    "start_time": "2022-11-15T10:05:40.665Z"
   },
   {
    "duration": 34,
    "start_time": "2022-11-15T10:07:41.044Z"
   },
   {
    "duration": 3,
    "start_time": "2022-11-15T10:15:08.054Z"
   },
   {
    "duration": 556,
    "start_time": "2022-11-15T10:15:41.930Z"
   },
   {
    "duration": 6,
    "start_time": "2022-11-15T10:17:03.741Z"
   },
   {
    "duration": 8,
    "start_time": "2022-11-15T10:17:30.247Z"
   },
   {
    "duration": 231,
    "start_time": "2022-11-15T10:17:37.637Z"
   },
   {
    "duration": 243,
    "start_time": "2022-11-15T10:17:43.217Z"
   },
   {
    "duration": 251,
    "start_time": "2022-11-15T10:17:45.918Z"
   },
   {
    "duration": 235,
    "start_time": "2022-11-15T10:17:47.504Z"
   },
   {
    "duration": 199,
    "start_time": "2022-11-15T10:18:11.485Z"
   },
   {
    "duration": 440,
    "start_time": "2022-11-15T10:18:16.976Z"
   },
   {
    "duration": 6,
    "start_time": "2022-11-15T10:18:20.299Z"
   },
   {
    "duration": 9,
    "start_time": "2022-11-15T10:19:08.103Z"
   },
   {
    "duration": 417,
    "start_time": "2022-11-15T10:19:56.635Z"
   },
   {
    "duration": 7,
    "start_time": "2022-11-15T10:20:03.505Z"
   },
   {
    "duration": 9,
    "start_time": "2022-11-15T10:27:38.281Z"
   },
   {
    "duration": 3,
    "start_time": "2022-11-15T10:27:50.275Z"
   },
   {
    "duration": 3,
    "start_time": "2022-11-15T10:28:46.391Z"
   },
   {
    "duration": 17,
    "start_time": "2022-11-15T10:28:49.552Z"
   },
   {
    "duration": 10,
    "start_time": "2022-11-15T10:32:55.325Z"
   },
   {
    "duration": 7273,
    "start_time": "2022-11-15T10:33:47.335Z"
   },
   {
    "duration": 16,
    "start_time": "2022-11-15T10:33:58.011Z"
   },
   {
    "duration": 10,
    "start_time": "2022-11-15T10:34:03.562Z"
   },
   {
    "duration": 11,
    "start_time": "2022-11-15T10:35:59.043Z"
   },
   {
    "duration": 10,
    "start_time": "2022-11-15T10:36:17.879Z"
   },
   {
    "duration": 1244,
    "start_time": "2022-11-15T10:37:08.107Z"
   },
   {
    "duration": 43,
    "start_time": "2022-11-15T10:37:09.353Z"
   },
   {
    "duration": 24,
    "start_time": "2022-11-15T10:37:09.397Z"
   },
   {
    "duration": 642,
    "start_time": "2022-11-15T10:37:09.423Z"
   },
   {
    "duration": 7,
    "start_time": "2022-11-15T10:37:10.067Z"
   },
   {
    "duration": 38,
    "start_time": "2022-11-15T10:37:10.075Z"
   },
   {
    "duration": 72,
    "start_time": "2022-11-15T10:37:10.116Z"
   },
   {
    "duration": 3,
    "start_time": "2022-11-15T10:37:10.190Z"
   },
   {
    "duration": 498,
    "start_time": "2022-11-15T10:37:10.195Z"
   },
   {
    "duration": 4,
    "start_time": "2022-11-15T10:37:10.695Z"
   },
   {
    "duration": 41,
    "start_time": "2022-11-15T10:37:10.700Z"
   },
   {
    "duration": 468,
    "start_time": "2022-11-15T10:37:10.743Z"
   },
   {
    "duration": 7,
    "start_time": "2022-11-15T10:37:11.213Z"
   },
   {
    "duration": 2497,
    "start_time": "2022-11-15T10:37:11.223Z"
   },
   {
    "duration": 152,
    "start_time": "2022-11-15T10:37:13.722Z"
   },
   {
    "duration": 8,
    "start_time": "2022-11-15T10:37:44.200Z"
   },
   {
    "duration": 6,
    "start_time": "2022-11-15T10:37:51.585Z"
   },
   {
    "duration": 4,
    "start_time": "2022-11-15T10:41:43.451Z"
   },
   {
    "duration": 9,
    "start_time": "2022-11-15T10:42:48.915Z"
   },
   {
    "duration": 4,
    "start_time": "2022-11-15T11:25:46.500Z"
   },
   {
    "duration": 137,
    "start_time": "2022-11-15T11:26:38.213Z"
   },
   {
    "duration": 10,
    "start_time": "2022-11-15T11:27:20.196Z"
   },
   {
    "duration": 10,
    "start_time": "2022-11-15T11:27:34.228Z"
   },
   {
    "duration": 9,
    "start_time": "2022-11-15T11:27:47.103Z"
   },
   {
    "duration": 97,
    "start_time": "2022-11-15T11:31:06.712Z"
   },
   {
    "duration": 220,
    "start_time": "2022-11-15T11:31:10.723Z"
   },
   {
    "duration": 176,
    "start_time": "2022-11-15T11:31:15.656Z"
   },
   {
    "duration": 337,
    "start_time": "2022-11-15T11:31:19.304Z"
   },
   {
    "duration": 355,
    "start_time": "2022-11-15T11:31:23.923Z"
   },
   {
    "duration": 9,
    "start_time": "2022-11-15T11:31:29.004Z"
   },
   {
    "duration": 230,
    "start_time": "2022-11-15T11:31:37.966Z"
   },
   {
    "duration": 310,
    "start_time": "2022-11-15T11:31:42.124Z"
   },
   {
    "duration": 369,
    "start_time": "2022-11-15T11:31:50.801Z"
   },
   {
    "duration": 741,
    "start_time": "2022-11-15T11:31:58.112Z"
   },
   {
    "duration": 1549,
    "start_time": "2022-11-15T11:32:03.423Z"
   },
   {
    "duration": 1314,
    "start_time": "2022-11-15T11:32:09.039Z"
   },
   {
    "duration": 1229,
    "start_time": "2022-11-15T11:32:38.347Z"
   },
   {
    "duration": 1254,
    "start_time": "2022-11-15T11:32:45.008Z"
   },
   {
    "duration": 9,
    "start_time": "2022-11-15T11:33:13.239Z"
   },
   {
    "duration": 1235,
    "start_time": "2022-11-15T11:34:05.237Z"
   },
   {
    "duration": 1243,
    "start_time": "2022-11-15T11:34:10.559Z"
   },
   {
    "duration": 3,
    "start_time": "2022-11-15T11:36:48.417Z"
   },
   {
    "duration": 1215,
    "start_time": "2022-11-15T11:36:52.791Z"
   },
   {
    "duration": 1342,
    "start_time": "2022-11-15T11:37:16.521Z"
   },
   {
    "duration": 1287,
    "start_time": "2022-11-15T11:37:57.825Z"
   },
   {
    "duration": 1234,
    "start_time": "2022-11-15T11:40:39.504Z"
   },
   {
    "duration": 5,
    "start_time": "2022-11-15T11:41:34.214Z"
   },
   {
    "duration": 4,
    "start_time": "2022-11-15T11:41:43.246Z"
   },
   {
    "duration": 4,
    "start_time": "2022-11-15T11:41:49.361Z"
   },
   {
    "duration": 11,
    "start_time": "2022-11-15T11:42:42.251Z"
   },
   {
    "duration": 4,
    "start_time": "2022-11-15T11:43:42.933Z"
   },
   {
    "duration": 5,
    "start_time": "2022-11-15T11:43:57.338Z"
   },
   {
    "duration": 75,
    "start_time": "2022-11-15T11:50:12.916Z"
   },
   {
    "duration": 5,
    "start_time": "2022-11-15T11:50:21.904Z"
   },
   {
    "duration": 11,
    "start_time": "2022-11-15T11:50:38.120Z"
   },
   {
    "duration": 14,
    "start_time": "2022-11-15T11:50:44.931Z"
   },
   {
    "duration": 12,
    "start_time": "2022-11-15T11:50:53.548Z"
   },
   {
    "duration": 14,
    "start_time": "2022-11-15T11:51:29.943Z"
   },
   {
    "duration": 3,
    "start_time": "2022-11-15T11:51:43.536Z"
   },
   {
    "duration": 15,
    "start_time": "2022-11-15T11:51:45.076Z"
   },
   {
    "duration": 11,
    "start_time": "2022-11-15T11:53:09.825Z"
   },
   {
    "duration": 39,
    "start_time": "2022-11-15T11:53:36.031Z"
   },
   {
    "duration": 4,
    "start_time": "2022-11-15T11:53:41.921Z"
   },
   {
    "duration": 39,
    "start_time": "2022-11-15T11:53:41.927Z"
   },
   {
    "duration": 0,
    "start_time": "2022-11-15T11:53:41.968Z"
   },
   {
    "duration": 0,
    "start_time": "2022-11-15T11:53:41.969Z"
   },
   {
    "duration": 0,
    "start_time": "2022-11-15T11:53:41.970Z"
   },
   {
    "duration": 0,
    "start_time": "2022-11-15T11:53:41.972Z"
   },
   {
    "duration": 0,
    "start_time": "2022-11-15T11:53:41.973Z"
   },
   {
    "duration": 0,
    "start_time": "2022-11-15T11:53:41.974Z"
   },
   {
    "duration": 0,
    "start_time": "2022-11-15T11:53:41.974Z"
   },
   {
    "duration": 0,
    "start_time": "2022-11-15T11:53:41.975Z"
   },
   {
    "duration": 0,
    "start_time": "2022-11-15T11:53:41.976Z"
   },
   {
    "duration": 0,
    "start_time": "2022-11-15T11:53:41.977Z"
   },
   {
    "duration": 0,
    "start_time": "2022-11-15T11:53:41.978Z"
   },
   {
    "duration": 0,
    "start_time": "2022-11-15T11:53:41.979Z"
   },
   {
    "duration": 0,
    "start_time": "2022-11-15T11:53:41.980Z"
   },
   {
    "duration": 0,
    "start_time": "2022-11-15T11:53:41.981Z"
   },
   {
    "duration": 0,
    "start_time": "2022-11-15T11:53:41.982Z"
   },
   {
    "duration": 0,
    "start_time": "2022-11-15T11:53:41.982Z"
   },
   {
    "duration": 0,
    "start_time": "2022-11-15T11:53:41.983Z"
   },
   {
    "duration": 0,
    "start_time": "2022-11-15T11:53:41.984Z"
   },
   {
    "duration": 4,
    "start_time": "2022-11-15T11:54:06.920Z"
   },
   {
    "duration": 45,
    "start_time": "2022-11-15T11:54:06.926Z"
   },
   {
    "duration": 24,
    "start_time": "2022-11-15T11:54:06.973Z"
   },
   {
    "duration": 658,
    "start_time": "2022-11-15T11:54:06.999Z"
   },
   {
    "duration": 7,
    "start_time": "2022-11-15T11:54:07.660Z"
   },
   {
    "duration": 202,
    "start_time": "2022-11-15T11:54:07.669Z"
   },
   {
    "duration": 29,
    "start_time": "2022-11-15T11:54:07.873Z"
   },
   {
    "duration": 11,
    "start_time": "2022-11-15T11:54:07.903Z"
   },
   {
    "duration": 499,
    "start_time": "2022-11-15T11:54:07.916Z"
   },
   {
    "duration": 4,
    "start_time": "2022-11-15T11:54:08.417Z"
   },
   {
    "duration": 1288,
    "start_time": "2022-11-15T11:54:08.423Z"
   },
   {
    "duration": 31,
    "start_time": "2022-11-15T11:54:09.713Z"
   },
   {
    "duration": 9,
    "start_time": "2022-11-15T11:54:09.745Z"
   },
   {
    "duration": 2731,
    "start_time": "2022-11-15T11:54:09.756Z"
   },
   {
    "duration": 153,
    "start_time": "2022-11-15T11:54:12.490Z"
   },
   {
    "duration": 10,
    "start_time": "2022-11-15T11:54:12.645Z"
   },
   {
    "duration": 5,
    "start_time": "2022-11-15T11:54:12.657Z"
   },
   {
    "duration": 1281,
    "start_time": "2022-11-15T11:54:12.664Z"
   },
   {
    "duration": 1552,
    "start_time": "2022-11-15T12:58:46.739Z"
   },
   {
    "duration": 150,
    "start_time": "2022-11-15T12:58:48.294Z"
   },
   {
    "duration": 33,
    "start_time": "2022-11-15T12:58:48.446Z"
   },
   {
    "duration": 715,
    "start_time": "2022-11-15T12:58:48.481Z"
   },
   {
    "duration": 15,
    "start_time": "2022-11-15T12:58:49.200Z"
   },
   {
    "duration": 21,
    "start_time": "2022-11-15T12:58:49.217Z"
   },
   {
    "duration": 73,
    "start_time": "2022-11-15T12:58:49.240Z"
   },
   {
    "duration": 4,
    "start_time": "2022-11-15T12:58:49.315Z"
   },
   {
    "duration": 540,
    "start_time": "2022-11-15T12:58:49.320Z"
   },
   {
    "duration": 5,
    "start_time": "2022-11-15T12:58:49.862Z"
   },
   {
    "duration": 1299,
    "start_time": "2022-11-15T12:58:49.869Z"
   },
   {
    "duration": 32,
    "start_time": "2022-11-15T12:58:51.170Z"
   },
   {
    "duration": 8,
    "start_time": "2022-11-15T12:58:51.212Z"
   },
   {
    "duration": 7263,
    "start_time": "2022-11-15T12:58:51.224Z"
   },
   {
    "duration": 123,
    "start_time": "2022-11-15T12:58:58.489Z"
   },
   {
    "duration": 0,
    "start_time": "2022-11-15T12:58:58.614Z"
   },
   {
    "duration": 0,
    "start_time": "2022-11-15T12:58:58.616Z"
   },
   {
    "duration": 0,
    "start_time": "2022-11-15T12:58:58.617Z"
   },
   {
    "duration": 0,
    "start_time": "2022-11-15T12:58:58.619Z"
   },
   {
    "duration": 0,
    "start_time": "2022-11-15T12:58:58.620Z"
   },
   {
    "duration": 1542,
    "start_time": "2022-11-15T13:00:20.078Z"
   },
   {
    "duration": 44,
    "start_time": "2022-11-15T13:00:21.623Z"
   },
   {
    "duration": 26,
    "start_time": "2022-11-15T13:00:21.669Z"
   },
   {
    "duration": 665,
    "start_time": "2022-11-15T13:00:21.698Z"
   },
   {
    "duration": 7,
    "start_time": "2022-11-15T13:00:22.365Z"
   },
   {
    "duration": 10,
    "start_time": "2022-11-15T13:00:22.374Z"
   },
   {
    "duration": 74,
    "start_time": "2022-11-15T13:00:22.386Z"
   },
   {
    "duration": 3,
    "start_time": "2022-11-15T13:00:22.462Z"
   },
   {
    "duration": 515,
    "start_time": "2022-11-15T13:00:22.467Z"
   },
   {
    "duration": 4,
    "start_time": "2022-11-15T13:00:22.985Z"
   },
   {
    "duration": 1295,
    "start_time": "2022-11-15T13:00:22.991Z"
   },
   {
    "duration": 37,
    "start_time": "2022-11-15T13:00:24.288Z"
   },
   {
    "duration": 10,
    "start_time": "2022-11-15T13:00:24.327Z"
   },
   {
    "duration": 2814,
    "start_time": "2022-11-15T13:00:24.339Z"
   },
   {
    "duration": 158,
    "start_time": "2022-11-15T13:00:27.156Z"
   },
   {
    "duration": 8,
    "start_time": "2022-11-15T13:00:27.316Z"
   },
   {
    "duration": 10,
    "start_time": "2022-11-15T13:00:27.326Z"
   },
   {
    "duration": 1286,
    "start_time": "2022-11-15T13:00:27.338Z"
   },
   {
    "duration": 1704,
    "start_time": "2022-11-15T13:17:49.428Z"
   },
   {
    "duration": 134,
    "start_time": "2022-11-15T13:17:51.135Z"
   },
   {
    "duration": 26,
    "start_time": "2022-11-15T13:17:51.270Z"
   },
   {
    "duration": 674,
    "start_time": "2022-11-15T13:17:51.298Z"
   },
   {
    "duration": 8,
    "start_time": "2022-11-15T13:17:51.975Z"
   },
   {
    "duration": 70,
    "start_time": "2022-11-15T13:17:51.985Z"
   },
   {
    "duration": 73,
    "start_time": "2022-11-15T13:17:52.058Z"
   },
   {
    "duration": 4,
    "start_time": "2022-11-15T13:17:52.133Z"
   },
   {
    "duration": 615,
    "start_time": "2022-11-15T13:17:52.139Z"
   },
   {
    "duration": 5,
    "start_time": "2022-11-15T13:17:52.755Z"
   },
   {
    "duration": 1311,
    "start_time": "2022-11-15T13:17:52.762Z"
   },
   {
    "duration": 47,
    "start_time": "2022-11-15T13:17:54.075Z"
   },
   {
    "duration": 10,
    "start_time": "2022-11-15T13:17:54.124Z"
   },
   {
    "duration": 9320,
    "start_time": "2022-11-15T13:17:54.137Z"
   },
   {
    "duration": 119,
    "start_time": "2022-11-15T13:18:03.459Z"
   },
   {
    "duration": 0,
    "start_time": "2022-11-15T13:18:03.580Z"
   },
   {
    "duration": 0,
    "start_time": "2022-11-15T13:18:03.582Z"
   },
   {
    "duration": 0,
    "start_time": "2022-11-15T13:18:03.583Z"
   },
   {
    "duration": 0,
    "start_time": "2022-11-15T13:18:03.584Z"
   },
   {
    "duration": 0,
    "start_time": "2022-11-15T13:18:03.586Z"
   },
   {
    "duration": 1266,
    "start_time": "2022-11-15T13:18:17.189Z"
   },
   {
    "duration": 44,
    "start_time": "2022-11-15T13:18:18.458Z"
   },
   {
    "duration": 26,
    "start_time": "2022-11-15T13:18:18.504Z"
   },
   {
    "duration": 687,
    "start_time": "2022-11-15T13:18:18.532Z"
   },
   {
    "duration": 6,
    "start_time": "2022-11-15T13:18:19.222Z"
   },
   {
    "duration": 11,
    "start_time": "2022-11-15T13:18:19.230Z"
   },
   {
    "duration": 88,
    "start_time": "2022-11-15T13:18:19.243Z"
   },
   {
    "duration": 7,
    "start_time": "2022-11-15T13:18:19.333Z"
   },
   {
    "duration": 510,
    "start_time": "2022-11-15T13:18:19.342Z"
   },
   {
    "duration": 5,
    "start_time": "2022-11-15T13:18:19.854Z"
   },
   {
    "duration": 1293,
    "start_time": "2022-11-15T13:18:19.861Z"
   },
   {
    "duration": 32,
    "start_time": "2022-11-15T13:18:21.156Z"
   },
   {
    "duration": 26,
    "start_time": "2022-11-15T13:18:21.190Z"
   },
   {
    "duration": 2570,
    "start_time": "2022-11-15T13:18:21.218Z"
   },
   {
    "duration": 155,
    "start_time": "2022-11-15T13:18:23.790Z"
   },
   {
    "duration": 8,
    "start_time": "2022-11-15T13:18:23.947Z"
   },
   {
    "duration": 7,
    "start_time": "2022-11-15T13:18:23.957Z"
   },
   {
    "duration": 1270,
    "start_time": "2022-11-15T13:18:23.966Z"
   },
   {
    "duration": 441987,
    "start_time": "2022-11-15T13:18:25.238Z"
   },
   {
    "duration": 0,
    "start_time": "2022-11-15T13:25:47.227Z"
   },
   {
    "duration": 13357,
    "start_time": "2022-11-15T13:26:20.972Z"
   },
   {
    "duration": 87973,
    "start_time": "2022-11-15T13:26:53.902Z"
   },
   {
    "duration": 1288,
    "start_time": "2022-11-15T13:28:39.738Z"
   },
   {
    "duration": 31704,
    "start_time": "2022-11-15T13:29:37.688Z"
   },
   {
    "duration": 1291,
    "start_time": "2022-11-15T13:30:35.435Z"
   },
   {
    "duration": 1431,
    "start_time": "2022-11-15T13:30:40.216Z"
   },
   {
    "duration": 1328,
    "start_time": "2022-11-15T13:30:48.355Z"
   },
   {
    "duration": 1168,
    "start_time": "2022-11-15T13:30:55.208Z"
   },
   {
    "duration": 1258,
    "start_time": "2022-11-15T13:31:00.022Z"
   },
   {
    "duration": 47582,
    "start_time": "2022-11-15T13:31:41.522Z"
   },
   {
    "duration": 1393,
    "start_time": "2022-11-15T13:32:47.046Z"
   },
   {
    "duration": 1297,
    "start_time": "2022-11-15T13:32:51.615Z"
   },
   {
    "duration": 1236,
    "start_time": "2022-11-15T13:32:56.231Z"
   },
   {
    "duration": 1307,
    "start_time": "2022-11-15T13:33:03.954Z"
   },
   {
    "duration": 434,
    "start_time": "2022-11-15T13:34:08.906Z"
   },
   {
    "duration": 3,
    "start_time": "2022-11-15T13:34:14.760Z"
   },
   {
    "duration": 418,
    "start_time": "2022-11-15T13:34:18.617Z"
   },
   {
    "duration": 3,
    "start_time": "2022-11-15T13:34:54.661Z"
   },
   {
    "duration": 412,
    "start_time": "2022-11-15T13:34:57.384Z"
   },
   {
    "duration": 36,
    "start_time": "2022-11-15T13:35:59.834Z"
   },
   {
    "duration": 1152,
    "start_time": "2022-11-15T13:36:20.681Z"
   },
   {
    "duration": 85,
    "start_time": "2022-11-15T13:36:29.569Z"
   },
   {
    "duration": 1269,
    "start_time": "2022-11-15T13:38:25.466Z"
   },
   {
    "duration": 1170,
    "start_time": "2022-11-15T13:39:02.478Z"
   },
   {
    "duration": 78,
    "start_time": "2022-11-15T13:39:07.058Z"
   },
   {
    "duration": 1196,
    "start_time": "2022-11-15T13:39:34.211Z"
   },
   {
    "duration": 8,
    "start_time": "2022-11-15T13:40:41.855Z"
   },
   {
    "duration": 13,
    "start_time": "2022-11-15T13:40:45.273Z"
   },
   {
    "duration": 13,
    "start_time": "2022-11-15T13:40:54.975Z"
   },
   {
    "duration": 11,
    "start_time": "2022-11-15T13:41:19.708Z"
   },
   {
    "duration": 14,
    "start_time": "2022-11-15T13:41:29.062Z"
   },
   {
    "duration": 13,
    "start_time": "2022-11-15T13:41:44.455Z"
   },
   {
    "duration": 17,
    "start_time": "2022-11-15T13:41:53.280Z"
   },
   {
    "duration": 9,
    "start_time": "2022-11-15T13:42:08.676Z"
   },
   {
    "duration": 3,
    "start_time": "2022-11-15T13:43:35.759Z"
   },
   {
    "duration": 12,
    "start_time": "2022-11-15T13:44:29.211Z"
   },
   {
    "duration": 18,
    "start_time": "2022-11-15T13:46:24.504Z"
   },
   {
    "duration": 9,
    "start_time": "2022-11-15T13:46:31.254Z"
   },
   {
    "duration": 1256,
    "start_time": "2022-11-15T13:47:45.028Z"
   },
   {
    "duration": 1327,
    "start_time": "2022-11-15T13:48:15.525Z"
   },
   {
    "duration": 1255,
    "start_time": "2022-11-15T13:51:14.246Z"
   },
   {
    "duration": 321,
    "start_time": "2022-11-15T13:52:11.965Z"
   },
   {
    "duration": 1254,
    "start_time": "2022-11-15T13:55:00.250Z"
   },
   {
    "duration": 88,
    "start_time": "2022-11-15T13:56:12.165Z"
   },
   {
    "duration": 1084,
    "start_time": "2022-11-15T13:57:23.238Z"
   },
   {
    "duration": 390,
    "start_time": "2022-11-15T13:57:36.080Z"
   },
   {
    "duration": 716,
    "start_time": "2022-11-15T13:57:46.632Z"
   },
   {
    "duration": 621,
    "start_time": "2022-11-15T13:58:19.315Z"
   },
   {
    "duration": 47,
    "start_time": "2022-11-15T13:58:47.979Z"
   },
   {
    "duration": 441,
    "start_time": "2022-11-15T13:58:51.312Z"
   },
   {
    "duration": 689,
    "start_time": "2022-11-15T13:58:59.859Z"
   },
   {
    "duration": 590,
    "start_time": "2022-11-15T13:59:04.860Z"
   },
   {
    "duration": 540,
    "start_time": "2022-11-15T13:59:08.915Z"
   },
   {
    "duration": 576,
    "start_time": "2022-11-15T13:59:12.853Z"
   },
   {
    "duration": 537,
    "start_time": "2022-11-15T13:59:16.682Z"
   },
   {
    "duration": 505,
    "start_time": "2022-11-15T13:59:20.422Z"
   },
   {
    "duration": 4729,
    "start_time": "2022-11-15T13:59:23.692Z"
   },
   {
    "duration": 2590,
    "start_time": "2022-11-15T13:59:46.207Z"
   },
   {
    "duration": 17855,
    "start_time": "2022-11-15T13:59:55.986Z"
   },
   {
    "duration": 4772,
    "start_time": "2022-11-15T14:00:29.892Z"
   },
   {
    "duration": 264872,
    "start_time": "2022-11-15T14:01:39.478Z"
   },
   {
    "duration": 3798,
    "start_time": "2022-11-15T14:47:02.966Z"
   },
   {
    "duration": 4764,
    "start_time": "2022-11-15T14:47:12.641Z"
   },
   {
    "duration": 4589,
    "start_time": "2022-11-15T14:48:26.209Z"
   },
   {
    "duration": 80,
    "start_time": "2022-11-15T14:54:52.585Z"
   },
   {
    "duration": 9,
    "start_time": "2022-11-15T14:55:56.966Z"
   },
   {
    "duration": 39,
    "start_time": "2022-11-15T14:56:45.347Z"
   },
   {
    "duration": 1274,
    "start_time": "2022-11-15T14:57:30.345Z"
   },
   {
    "duration": 8,
    "start_time": "2022-11-15T14:58:02.898Z"
   },
   {
    "duration": 14,
    "start_time": "2022-11-15T14:59:43.370Z"
   },
   {
    "duration": 15,
    "start_time": "2022-11-15T15:00:28.905Z"
   },
   {
    "duration": 22,
    "start_time": "2022-11-15T15:01:21.909Z"
   },
   {
    "duration": 2037,
    "start_time": "2022-11-15T20:41:18.191Z"
   },
   {
    "duration": 143,
    "start_time": "2022-11-15T20:41:20.230Z"
   },
   {
    "duration": 22,
    "start_time": "2022-11-15T20:41:20.378Z"
   },
   {
    "duration": 590,
    "start_time": "2022-11-15T20:41:20.401Z"
   },
   {
    "duration": 7,
    "start_time": "2022-11-15T20:41:20.992Z"
   },
   {
    "duration": 20,
    "start_time": "2022-11-15T20:41:21.001Z"
   },
   {
    "duration": 43,
    "start_time": "2022-11-15T20:41:21.023Z"
   },
   {
    "duration": 3,
    "start_time": "2022-11-15T20:41:21.067Z"
   },
   {
    "duration": 508,
    "start_time": "2022-11-15T20:41:21.073Z"
   },
   {
    "duration": 5,
    "start_time": "2022-11-15T20:41:21.583Z"
   },
   {
    "duration": 305,
    "start_time": "2022-11-15T20:41:21.589Z"
   },
   {
    "duration": 40,
    "start_time": "2022-11-15T20:41:21.896Z"
   },
   {
    "duration": 8,
    "start_time": "2022-11-15T20:41:21.938Z"
   },
   {
    "duration": 6971,
    "start_time": "2022-11-15T20:41:21.948Z"
   },
   {
    "duration": 109,
    "start_time": "2022-11-15T20:41:28.921Z"
   },
   {
    "duration": 0,
    "start_time": "2022-11-15T20:41:29.032Z"
   },
   {
    "duration": 0,
    "start_time": "2022-11-15T20:41:29.033Z"
   },
   {
    "duration": 0,
    "start_time": "2022-11-15T20:41:29.034Z"
   },
   {
    "duration": 0,
    "start_time": "2022-11-15T20:41:29.035Z"
   },
   {
    "duration": 0,
    "start_time": "2022-11-15T20:41:29.036Z"
   },
   {
    "duration": 0,
    "start_time": "2022-11-15T20:41:29.038Z"
   },
   {
    "duration": 0,
    "start_time": "2022-11-15T20:41:29.039Z"
   },
   {
    "duration": 0,
    "start_time": "2022-11-15T20:41:29.040Z"
   },
   {
    "duration": 0,
    "start_time": "2022-11-15T20:41:29.041Z"
   },
   {
    "duration": 0,
    "start_time": "2022-11-15T20:41:29.043Z"
   },
   {
    "duration": 0,
    "start_time": "2022-11-15T20:41:29.043Z"
   },
   {
    "duration": 3404,
    "start_time": "2022-11-15T20:44:15.817Z"
   },
   {
    "duration": 4,
    "start_time": "2022-11-15T20:44:19.224Z"
   },
   {
    "duration": 45,
    "start_time": "2022-11-15T20:44:19.229Z"
   },
   {
    "duration": 26,
    "start_time": "2022-11-15T20:44:19.276Z"
   },
   {
    "duration": 654,
    "start_time": "2022-11-15T20:44:19.304Z"
   },
   {
    "duration": 6,
    "start_time": "2022-11-15T20:44:19.959Z"
   },
   {
    "duration": 7,
    "start_time": "2022-11-15T20:44:19.967Z"
   },
   {
    "duration": 9,
    "start_time": "2022-11-15T20:44:19.976Z"
   },
   {
    "duration": 26,
    "start_time": "2022-11-15T20:44:19.987Z"
   },
   {
    "duration": 475,
    "start_time": "2022-11-15T20:44:20.017Z"
   },
   {
    "duration": 3,
    "start_time": "2022-11-15T20:44:20.494Z"
   },
   {
    "duration": 306,
    "start_time": "2022-11-15T20:44:20.499Z"
   },
   {
    "duration": 36,
    "start_time": "2022-11-15T20:44:20.807Z"
   },
   {
    "duration": 8,
    "start_time": "2022-11-15T20:44:20.844Z"
   },
   {
    "duration": 2549,
    "start_time": "2022-11-15T20:44:20.854Z"
   },
   {
    "duration": 12,
    "start_time": "2022-11-15T20:44:23.406Z"
   },
   {
    "duration": 0,
    "start_time": "2022-11-15T20:44:23.420Z"
   },
   {
    "duration": 0,
    "start_time": "2022-11-15T20:44:23.421Z"
   },
   {
    "duration": 0,
    "start_time": "2022-11-15T20:44:23.423Z"
   },
   {
    "duration": 0,
    "start_time": "2022-11-15T20:44:23.424Z"
   },
   {
    "duration": 0,
    "start_time": "2022-11-15T20:44:23.425Z"
   },
   {
    "duration": 0,
    "start_time": "2022-11-15T20:44:23.427Z"
   },
   {
    "duration": 0,
    "start_time": "2022-11-15T20:44:23.428Z"
   },
   {
    "duration": 0,
    "start_time": "2022-11-15T20:44:23.429Z"
   },
   {
    "duration": 0,
    "start_time": "2022-11-15T20:44:23.430Z"
   },
   {
    "duration": 0,
    "start_time": "2022-11-15T20:44:23.431Z"
   },
   {
    "duration": 0,
    "start_time": "2022-11-15T20:44:23.432Z"
   },
   {
    "duration": 3436,
    "start_time": "2022-11-15T20:53:20.024Z"
   },
   {
    "duration": 1252,
    "start_time": "2022-11-15T20:53:23.463Z"
   },
   {
    "duration": 42,
    "start_time": "2022-11-15T20:53:24.717Z"
   },
   {
    "duration": 23,
    "start_time": "2022-11-15T20:53:24.762Z"
   },
   {
    "duration": 590,
    "start_time": "2022-11-15T20:53:24.786Z"
   },
   {
    "duration": 6,
    "start_time": "2022-11-15T20:53:25.378Z"
   },
   {
    "duration": 19,
    "start_time": "2022-11-15T20:53:25.385Z"
   },
   {
    "duration": 54,
    "start_time": "2022-11-15T20:53:25.406Z"
   },
   {
    "duration": 2,
    "start_time": "2022-11-15T20:53:25.462Z"
   },
   {
    "duration": 477,
    "start_time": "2022-11-15T20:53:25.467Z"
   },
   {
    "duration": 6,
    "start_time": "2022-11-15T20:53:25.945Z"
   },
   {
    "duration": 306,
    "start_time": "2022-11-15T20:53:25.953Z"
   },
   {
    "duration": 29,
    "start_time": "2022-11-15T20:53:26.260Z"
   },
   {
    "duration": 30,
    "start_time": "2022-11-15T20:53:26.291Z"
   },
   {
    "duration": 2764,
    "start_time": "2022-11-15T20:53:26.323Z"
   },
   {
    "duration": 135,
    "start_time": "2022-11-15T20:53:29.089Z"
   },
   {
    "duration": 8,
    "start_time": "2022-11-15T20:53:29.226Z"
   },
   {
    "duration": 7,
    "start_time": "2022-11-15T20:53:29.236Z"
   },
   {
    "duration": 1182,
    "start_time": "2022-11-15T20:53:29.244Z"
   },
   {
    "duration": 7,
    "start_time": "2022-11-15T20:53:30.428Z"
   },
   {
    "duration": 24,
    "start_time": "2022-11-15T20:53:30.436Z"
   },
   {
    "duration": 1174,
    "start_time": "2022-11-15T20:53:30.462Z"
   },
   {
    "duration": 81,
    "start_time": "2022-11-15T20:53:31.637Z"
   },
   {
    "duration": 47,
    "start_time": "2022-11-15T20:53:31.720Z"
   },
   {
    "duration": 3896,
    "start_time": "2022-11-15T20:53:31.769Z"
   },
   {
    "duration": 3992,
    "start_time": "2022-11-15T20:53:35.667Z"
   },
   {
    "duration": 14,
    "start_time": "2022-11-15T20:53:39.661Z"
   },
   {
    "duration": 1088,
    "start_time": "2022-11-15T21:21:03.643Z"
   },
   {
    "duration": 41,
    "start_time": "2022-11-15T21:21:04.733Z"
   },
   {
    "duration": 21,
    "start_time": "2022-11-15T21:21:04.776Z"
   },
   {
    "duration": 564,
    "start_time": "2022-11-15T21:21:04.799Z"
   },
   {
    "duration": 6,
    "start_time": "2022-11-15T21:21:05.365Z"
   },
   {
    "duration": 16,
    "start_time": "2022-11-15T21:21:05.372Z"
   },
   {
    "duration": 61,
    "start_time": "2022-11-15T21:21:05.390Z"
   },
   {
    "duration": 3,
    "start_time": "2022-11-15T21:21:05.452Z"
   },
   {
    "duration": 468,
    "start_time": "2022-11-15T21:21:05.458Z"
   },
   {
    "duration": 4,
    "start_time": "2022-11-15T21:21:05.929Z"
   },
   {
    "duration": 296,
    "start_time": "2022-11-15T21:21:05.934Z"
   },
   {
    "duration": 32,
    "start_time": "2022-11-15T21:21:06.232Z"
   },
   {
    "duration": 13,
    "start_time": "2022-11-15T21:21:06.266Z"
   },
   {
    "duration": 2528,
    "start_time": "2022-11-15T21:21:06.281Z"
   },
   {
    "duration": 135,
    "start_time": "2022-11-15T21:21:08.811Z"
   },
   {
    "duration": 7,
    "start_time": "2022-11-15T21:21:08.948Z"
   },
   {
    "duration": 4,
    "start_time": "2022-11-15T21:21:08.957Z"
   },
   {
    "duration": 1225,
    "start_time": "2022-11-15T21:21:08.962Z"
   },
   {
    "duration": 8,
    "start_time": "2022-11-15T21:21:10.188Z"
   },
   {
    "duration": 19,
    "start_time": "2022-11-15T21:21:10.197Z"
   },
   {
    "duration": 1188,
    "start_time": "2022-11-15T21:21:10.218Z"
   },
   {
    "duration": 81,
    "start_time": "2022-11-15T21:21:11.408Z"
   },
   {
    "duration": 59,
    "start_time": "2022-11-15T21:21:11.490Z"
   },
   {
    "duration": 4126,
    "start_time": "2022-11-15T21:21:11.551Z"
   },
   {
    "duration": 4160,
    "start_time": "2022-11-15T21:21:15.679Z"
   },
   {
    "duration": 13,
    "start_time": "2022-11-15T21:21:19.840Z"
   },
   {
    "duration": 45,
    "start_time": "2022-11-15T21:34:26.379Z"
   },
   {
    "duration": 1428,
    "start_time": "2022-11-15T21:34:52.723Z"
   },
   {
    "duration": 134,
    "start_time": "2022-11-15T21:34:54.152Z"
   },
   {
    "duration": 24,
    "start_time": "2022-11-15T21:34:54.288Z"
   },
   {
    "duration": 605,
    "start_time": "2022-11-15T21:34:54.314Z"
   },
   {
    "duration": 7,
    "start_time": "2022-11-15T21:34:54.922Z"
   },
   {
    "duration": 9,
    "start_time": "2022-11-15T21:34:54.930Z"
   },
   {
    "duration": 67,
    "start_time": "2022-11-15T21:34:54.941Z"
   },
   {
    "duration": 2,
    "start_time": "2022-11-15T21:34:55.010Z"
   },
   {
    "duration": 93,
    "start_time": "2022-11-15T21:35:01.017Z"
   },
   {
    "duration": 228,
    "start_time": "2022-11-15T21:35:12.192Z"
   },
   {
    "duration": 241,
    "start_time": "2022-11-15T21:37:08.377Z"
   },
   {
    "duration": 466,
    "start_time": "2022-11-15T21:38:19.852Z"
   },
   {
    "duration": 459,
    "start_time": "2022-11-15T21:40:59.516Z"
   },
   {
    "duration": 10,
    "start_time": "2022-11-15T21:43:00.477Z"
   },
   {
    "duration": 33,
    "start_time": "2022-11-15T21:43:58.851Z"
   },
   {
    "duration": 32,
    "start_time": "2022-11-15T21:44:41.710Z"
   },
   {
    "duration": 10,
    "start_time": "2022-11-15T21:45:19.752Z"
   },
   {
    "duration": 51,
    "start_time": "2022-11-15T21:46:12.614Z"
   },
   {
    "duration": 9,
    "start_time": "2022-11-15T21:46:16.983Z"
   },
   {
    "duration": 428,
    "start_time": "2022-11-15T21:46:25.542Z"
   },
   {
    "duration": 282,
    "start_time": "2022-11-15T21:46:54.236Z"
   },
   {
    "duration": 28,
    "start_time": "2022-11-15T21:46:57.801Z"
   },
   {
    "duration": 6581,
    "start_time": "2022-11-15T21:49:44.030Z"
   },
   {
    "duration": 3,
    "start_time": "2022-11-15T21:49:53.445Z"
   },
   {
    "duration": 4,
    "start_time": "2022-11-15T21:49:58.566Z"
   },
   {
    "duration": 12,
    "start_time": "2022-11-15T21:56:30.730Z"
   },
   {
    "duration": 5,
    "start_time": "2022-11-15T21:57:10.339Z"
   },
   {
    "duration": 9,
    "start_time": "2022-11-15T21:57:16.070Z"
   },
   {
    "duration": 11,
    "start_time": "2022-11-15T21:57:16.082Z"
   },
   {
    "duration": 27,
    "start_time": "2022-11-15T21:57:16.094Z"
   },
   {
    "duration": 29,
    "start_time": "2022-11-15T21:57:16.124Z"
   },
   {
    "duration": 10,
    "start_time": "2022-11-15T21:57:16.156Z"
   },
   {
    "duration": 356,
    "start_time": "2022-11-15T21:57:16.169Z"
   },
   {
    "duration": 4,
    "start_time": "2022-11-15T21:57:16.527Z"
   },
   {
    "duration": 242,
    "start_time": "2022-11-15T21:57:16.533Z"
   },
   {
    "duration": 34,
    "start_time": "2022-11-15T21:57:16.777Z"
   },
   {
    "duration": 15,
    "start_time": "2022-11-15T21:57:16.813Z"
   },
   {
    "duration": 0,
    "start_time": "2022-11-15T21:57:16.829Z"
   },
   {
    "duration": 0,
    "start_time": "2022-11-15T21:57:16.830Z"
   },
   {
    "duration": 0,
    "start_time": "2022-11-15T21:57:16.832Z"
   },
   {
    "duration": 0,
    "start_time": "2022-11-15T21:57:16.832Z"
   },
   {
    "duration": 0,
    "start_time": "2022-11-15T21:57:16.833Z"
   },
   {
    "duration": 0,
    "start_time": "2022-11-15T21:57:16.834Z"
   },
   {
    "duration": 0,
    "start_time": "2022-11-15T21:57:16.835Z"
   },
   {
    "duration": 0,
    "start_time": "2022-11-15T21:57:16.836Z"
   },
   {
    "duration": 0,
    "start_time": "2022-11-15T21:57:16.837Z"
   },
   {
    "duration": 0,
    "start_time": "2022-11-15T21:57:16.838Z"
   },
   {
    "duration": 10,
    "start_time": "2022-11-15T22:03:06.702Z"
   },
   {
    "duration": 8,
    "start_time": "2022-11-15T22:03:41.235Z"
   },
   {
    "duration": 29,
    "start_time": "2022-11-15T22:03:51.697Z"
   },
   {
    "duration": 3,
    "start_time": "2022-11-15T22:07:12.224Z"
   },
   {
    "duration": 4,
    "start_time": "2022-11-15T22:07:48.103Z"
   },
   {
    "duration": 4,
    "start_time": "2022-11-15T22:08:01.867Z"
   },
   {
    "duration": 5,
    "start_time": "2022-11-15T22:08:12.657Z"
   },
   {
    "duration": 5,
    "start_time": "2022-11-15T22:08:23.091Z"
   },
   {
    "duration": 9,
    "start_time": "2022-11-15T22:08:31.491Z"
   },
   {
    "duration": 42,
    "start_time": "2022-11-15T22:08:38.361Z"
   },
   {
    "duration": 4,
    "start_time": "2022-11-15T22:08:43.175Z"
   },
   {
    "duration": 5,
    "start_time": "2022-11-15T22:10:04.788Z"
   },
   {
    "duration": 5,
    "start_time": "2022-11-15T22:10:40.081Z"
   },
   {
    "duration": 4,
    "start_time": "2022-11-15T22:11:28.558Z"
   },
   {
    "duration": 4,
    "start_time": "2022-11-15T22:11:42.359Z"
   },
   {
    "duration": 2,
    "start_time": "2022-11-15T22:12:23.545Z"
   },
   {
    "duration": 11,
    "start_time": "2022-11-15T22:12:35.635Z"
   },
   {
    "duration": 3,
    "start_time": "2022-11-15T22:13:02.591Z"
   },
   {
    "duration": 3,
    "start_time": "2022-11-15T22:13:22.868Z"
   },
   {
    "duration": 3,
    "start_time": "2022-11-15T22:13:39.168Z"
   },
   {
    "duration": 3,
    "start_time": "2022-11-15T22:13:47.158Z"
   },
   {
    "duration": 4,
    "start_time": "2022-11-15T22:13:55.405Z"
   },
   {
    "duration": 12,
    "start_time": "2022-11-15T22:15:07.084Z"
   },
   {
    "duration": 11,
    "start_time": "2022-11-15T22:15:33.321Z"
   },
   {
    "duration": 12,
    "start_time": "2022-11-15T22:15:47.930Z"
   },
   {
    "duration": 6,
    "start_time": "2022-11-15T22:15:52.333Z"
   },
   {
    "duration": 7,
    "start_time": "2022-11-15T22:16:38.837Z"
   },
   {
    "duration": 7,
    "start_time": "2022-11-15T22:16:48.117Z"
   },
   {
    "duration": 11,
    "start_time": "2022-11-15T22:17:13.795Z"
   },
   {
    "duration": 6,
    "start_time": "2022-11-15T22:18:04.966Z"
   },
   {
    "duration": 7,
    "start_time": "2022-11-15T22:20:50.024Z"
   },
   {
    "duration": 8,
    "start_time": "2022-11-15T22:22:30.420Z"
   },
   {
    "duration": 14,
    "start_time": "2022-11-15T22:22:39.753Z"
   },
   {
    "duration": 12,
    "start_time": "2022-11-15T22:23:32.187Z"
   },
   {
    "duration": 46,
    "start_time": "2022-11-15T22:23:33.232Z"
   },
   {
    "duration": 10,
    "start_time": "2022-11-15T22:24:06.496Z"
   },
   {
    "duration": 4,
    "start_time": "2022-11-15T22:24:16.419Z"
   },
   {
    "duration": 12,
    "start_time": "2022-11-15T22:24:21.190Z"
   },
   {
    "duration": 18,
    "start_time": "2022-11-15T22:24:41.495Z"
   },
   {
    "duration": 12,
    "start_time": "2022-11-15T22:24:54.057Z"
   },
   {
    "duration": 4,
    "start_time": "2022-11-15T22:24:57.326Z"
   },
   {
    "duration": 20,
    "start_time": "2022-11-15T22:25:34.267Z"
   },
   {
    "duration": 12,
    "start_time": "2022-11-15T22:25:41.803Z"
   },
   {
    "duration": 13,
    "start_time": "2022-11-15T22:26:01.323Z"
   },
   {
    "duration": 5,
    "start_time": "2022-11-15T22:26:33.651Z"
   },
   {
    "duration": 2,
    "start_time": "2022-11-15T22:30:23.944Z"
   },
   {
    "duration": 54,
    "start_time": "2022-11-15T22:30:31.562Z"
   },
   {
    "duration": 47,
    "start_time": "2022-11-15T22:31:00.882Z"
   },
   {
    "duration": 51,
    "start_time": "2022-11-15T22:31:14.825Z"
   },
   {
    "duration": 6,
    "start_time": "2022-11-15T22:31:49.966Z"
   },
   {
    "duration": 48,
    "start_time": "2022-11-15T22:32:57.010Z"
   },
   {
    "duration": 7,
    "start_time": "2022-11-15T22:33:27.220Z"
   },
   {
    "duration": 4,
    "start_time": "2022-11-15T22:33:32.278Z"
   },
   {
    "duration": 49,
    "start_time": "2022-11-15T22:34:57.247Z"
   },
   {
    "duration": 53,
    "start_time": "2022-11-15T22:36:42.717Z"
   },
   {
    "duration": 47,
    "start_time": "2022-11-15T22:37:21.168Z"
   },
   {
    "duration": 51,
    "start_time": "2022-11-15T22:37:40.495Z"
   },
   {
    "duration": 47,
    "start_time": "2022-11-15T22:38:44.558Z"
   },
   {
    "duration": 2818,
    "start_time": "2022-11-15T22:39:10.111Z"
   },
   {
    "duration": 50,
    "start_time": "2022-11-15T22:39:42.899Z"
   },
   {
    "duration": 1468,
    "start_time": "2022-11-15T22:39:48.810Z"
   },
   {
    "duration": 1450,
    "start_time": "2022-11-15T22:40:54.356Z"
   },
   {
    "duration": 1381,
    "start_time": "2022-11-15T22:41:22.324Z"
   },
   {
    "duration": 59,
    "start_time": "2022-11-15T22:46:45.115Z"
   },
   {
    "duration": 4,
    "start_time": "2022-11-15T22:47:06.604Z"
   },
   {
    "duration": 1398,
    "start_time": "2022-11-15T22:47:31.590Z"
   },
   {
    "duration": 310,
    "start_time": "2022-11-15T22:50:26.334Z"
   },
   {
    "duration": 315,
    "start_time": "2022-11-15T22:50:39.597Z"
   },
   {
    "duration": 303,
    "start_time": "2022-11-15T22:54:13.610Z"
   },
   {
    "duration": 4,
    "start_time": "2022-11-15T22:55:27.937Z"
   },
   {
    "duration": 4,
    "start_time": "2022-11-15T22:55:43.274Z"
   },
   {
    "duration": 1474,
    "start_time": "2022-11-15T22:57:15.731Z"
   },
   {
    "duration": 1388,
    "start_time": "2022-11-15T22:57:33.382Z"
   },
   {
    "duration": 1390,
    "start_time": "2022-11-15T22:58:16.506Z"
   },
   {
    "duration": 1305,
    "start_time": "2022-11-15T22:58:41.235Z"
   },
   {
    "duration": 1485,
    "start_time": "2022-11-15T22:58:59.858Z"
   },
   {
    "duration": 51,
    "start_time": "2022-11-16T09:33:58.756Z"
   },
   {
    "duration": 5988,
    "start_time": "2022-11-16T09:34:06.404Z"
   },
   {
    "duration": 1149,
    "start_time": "2022-11-16T09:34:12.395Z"
   },
   {
    "duration": 71,
    "start_time": "2022-11-16T09:34:13.546Z"
   },
   {
    "duration": 18,
    "start_time": "2022-11-16T09:34:13.619Z"
   },
   {
    "duration": 486,
    "start_time": "2022-11-16T09:34:13.639Z"
   },
   {
    "duration": 8,
    "start_time": "2022-11-16T09:34:14.127Z"
   },
   {
    "duration": 3,
    "start_time": "2022-11-16T09:34:14.136Z"
   },
   {
    "duration": 5,
    "start_time": "2022-11-16T09:34:14.152Z"
   },
   {
    "duration": 9,
    "start_time": "2022-11-16T09:34:14.158Z"
   },
   {
    "duration": 91,
    "start_time": "2022-11-16T09:34:14.168Z"
   },
   {
    "duration": 10,
    "start_time": "2022-11-16T09:34:14.261Z"
   },
   {
    "duration": 4,
    "start_time": "2022-11-16T09:34:14.273Z"
   },
   {
    "duration": 83,
    "start_time": "2022-11-16T09:34:14.279Z"
   },
   {
    "duration": 0,
    "start_time": "2022-11-16T09:34:14.364Z"
   },
   {
    "duration": 0,
    "start_time": "2022-11-16T09:34:14.365Z"
   },
   {
    "duration": 0,
    "start_time": "2022-11-16T09:34:14.366Z"
   },
   {
    "duration": 0,
    "start_time": "2022-11-16T09:34:14.367Z"
   },
   {
    "duration": 0,
    "start_time": "2022-11-16T09:34:14.368Z"
   },
   {
    "duration": 0,
    "start_time": "2022-11-16T09:34:14.369Z"
   },
   {
    "duration": 0,
    "start_time": "2022-11-16T09:34:14.369Z"
   },
   {
    "duration": 0,
    "start_time": "2022-11-16T09:34:14.370Z"
   },
   {
    "duration": 0,
    "start_time": "2022-11-16T09:34:14.371Z"
   },
   {
    "duration": 0,
    "start_time": "2022-11-16T09:34:14.372Z"
   },
   {
    "duration": 0,
    "start_time": "2022-11-16T09:34:14.372Z"
   },
   {
    "duration": 0,
    "start_time": "2022-11-16T09:34:14.373Z"
   },
   {
    "duration": 0,
    "start_time": "2022-11-16T09:34:14.374Z"
   },
   {
    "duration": 0,
    "start_time": "2022-11-16T09:34:14.375Z"
   },
   {
    "duration": 0,
    "start_time": "2022-11-16T09:34:14.376Z"
   },
   {
    "duration": 0,
    "start_time": "2022-11-16T09:34:14.377Z"
   },
   {
    "duration": 0,
    "start_time": "2022-11-16T09:34:14.378Z"
   },
   {
    "duration": 4,
    "start_time": "2022-11-16T09:34:54.753Z"
   },
   {
    "duration": 13,
    "start_time": "2022-11-16T09:35:16.925Z"
   },
   {
    "duration": 78,
    "start_time": "2022-11-16T09:37:32.473Z"
   },
   {
    "duration": 239,
    "start_time": "2022-11-16T09:37:42.474Z"
   },
   {
    "duration": 161,
    "start_time": "2022-11-16T09:38:07.688Z"
   },
   {
    "duration": 158,
    "start_time": "2022-11-16T09:38:33.165Z"
   },
   {
    "duration": 159,
    "start_time": "2022-11-16T09:39:19.699Z"
   },
   {
    "duration": 159,
    "start_time": "2022-11-16T09:42:56.477Z"
   },
   {
    "duration": 173,
    "start_time": "2022-11-16T09:43:25.701Z"
   },
   {
    "duration": 1183,
    "start_time": "2022-11-16T09:44:06.508Z"
   },
   {
    "duration": 161,
    "start_time": "2022-11-16T09:44:34.393Z"
   },
   {
    "duration": 222,
    "start_time": "2022-11-16T09:44:59.717Z"
   },
   {
    "duration": 9926,
    "start_time": "2022-11-16T09:46:15.910Z"
   },
   {
    "duration": 9927,
    "start_time": "2022-11-16T09:49:44.103Z"
   },
   {
    "duration": 9624,
    "start_time": "2022-11-16T09:50:45.834Z"
   },
   {
    "duration": 10134,
    "start_time": "2022-11-16T09:51:45.450Z"
   },
   {
    "duration": 9710,
    "start_time": "2022-11-16T09:52:54.780Z"
   },
   {
    "duration": 8,
    "start_time": "2022-11-16T09:57:48.678Z"
   },
   {
    "duration": 8,
    "start_time": "2022-11-16T09:58:36.207Z"
   },
   {
    "duration": 9674,
    "start_time": "2022-11-16T09:59:42.426Z"
   },
   {
    "duration": 10066,
    "start_time": "2022-11-16T10:00:14.809Z"
   },
   {
    "duration": 5,
    "start_time": "2022-11-16T10:00:24.876Z"
   },
   {
    "duration": 10171,
    "start_time": "2022-11-16T10:01:51.840Z"
   },
   {
    "duration": 7,
    "start_time": "2022-11-16T10:03:01.965Z"
   },
   {
    "duration": 21,
    "start_time": "2022-11-16T10:04:00.058Z"
   },
   {
    "duration": 9756,
    "start_time": "2022-11-16T10:06:08.338Z"
   },
   {
    "duration": 75,
    "start_time": "2022-11-16T10:09:08.923Z"
   },
   {
    "duration": 82,
    "start_time": "2022-11-16T10:09:20.294Z"
   },
   {
    "duration": 5,
    "start_time": "2022-11-16T10:09:48.081Z"
   },
   {
    "duration": 6,
    "start_time": "2022-11-16T10:10:03.610Z"
   },
   {
    "duration": 6,
    "start_time": "2022-11-16T10:11:40.408Z"
   },
   {
    "duration": 6,
    "start_time": "2022-11-16T10:12:02.712Z"
   },
   {
    "duration": 7,
    "start_time": "2022-11-16T10:12:09.616Z"
   },
   {
    "duration": 9,
    "start_time": "2022-11-16T10:12:20.912Z"
   },
   {
    "duration": 3,
    "start_time": "2022-11-16T10:17:58.426Z"
   },
   {
    "duration": 7,
    "start_time": "2022-11-16T10:20:36.532Z"
   },
   {
    "duration": 6,
    "start_time": "2022-11-16T10:21:39.197Z"
   },
   {
    "duration": 7,
    "start_time": "2022-11-16T10:35:02.239Z"
   },
   {
    "duration": 5,
    "start_time": "2022-11-16T10:35:42.190Z"
   },
   {
    "duration": 9,
    "start_time": "2022-11-16T10:37:17.309Z"
   },
   {
    "duration": 14,
    "start_time": "2022-11-16T10:38:21.008Z"
   },
   {
    "duration": 13,
    "start_time": "2022-11-16T10:38:29.958Z"
   },
   {
    "duration": 13,
    "start_time": "2022-11-16T10:39:12.452Z"
   },
   {
    "duration": 3,
    "start_time": "2022-11-16T10:40:54.427Z"
   },
   {
    "duration": 4,
    "start_time": "2022-11-16T10:44:53.890Z"
   },
   {
    "duration": 10,
    "start_time": "2022-11-16T10:45:03.565Z"
   },
   {
    "duration": 5,
    "start_time": "2022-11-16T10:45:06.834Z"
   },
   {
    "duration": 16692,
    "start_time": "2022-11-16T10:46:38.775Z"
   },
   {
    "duration": 2,
    "start_time": "2022-11-16T11:01:43.218Z"
   },
   {
    "duration": 89,
    "start_time": "2022-11-16T11:03:42.437Z"
   },
   {
    "duration": 59,
    "start_time": "2022-11-16T11:04:02.795Z"
   },
   {
    "duration": 60,
    "start_time": "2022-11-16T11:04:54.010Z"
   },
   {
    "duration": 231,
    "start_time": "2022-11-16T11:05:21.671Z"
   },
   {
    "duration": 201,
    "start_time": "2022-11-16T11:05:35.313Z"
   },
   {
    "duration": 22810,
    "start_time": "2022-11-16T11:07:27.447Z"
   },
   {
    "duration": 48197,
    "start_time": "2022-11-16T11:09:34.887Z"
   },
   {
    "duration": 231,
    "start_time": "2022-11-16T11:11:00.113Z"
   },
   {
    "duration": 169,
    "start_time": "2022-11-16T11:11:24.042Z"
   },
   {
    "duration": 265,
    "start_time": "2022-11-16T11:11:27.696Z"
   },
   {
    "duration": 260,
    "start_time": "2022-11-16T11:11:34.208Z"
   },
   {
    "duration": 272,
    "start_time": "2022-11-16T11:11:44.137Z"
   },
   {
    "duration": 252,
    "start_time": "2022-11-16T11:11:54.900Z"
   },
   {
    "duration": 2784,
    "start_time": "2022-11-16T11:12:24.532Z"
   },
   {
    "duration": 2514,
    "start_time": "2022-11-16T11:12:34.634Z"
   },
   {
    "duration": 568,
    "start_time": "2022-11-16T11:12:48.675Z"
   },
   {
    "duration": 82,
    "start_time": "2022-11-16T11:12:56.553Z"
   },
   {
    "duration": 63,
    "start_time": "2022-11-16T11:13:01.425Z"
   },
   {
    "duration": 434883,
    "start_time": "2022-11-16T11:13:58.253Z"
   },
   {
    "duration": 218,
    "start_time": "2022-11-16T11:21:59.512Z"
   },
   {
    "duration": 1079,
    "start_time": "2022-11-16T11:22:28.191Z"
   },
   {
    "duration": 341867,
    "start_time": "2022-11-16T11:23:15.200Z"
   },
   {
    "duration": 1240,
    "start_time": "2022-11-16T11:33:55.893Z"
   },
   {
    "duration": 1199,
    "start_time": "2022-11-16T11:34:17.189Z"
   },
   {
    "duration": 216,
    "start_time": "2022-11-16T11:42:58.471Z"
   },
   {
    "duration": 183,
    "start_time": "2022-11-16T11:43:50.257Z"
   },
   {
    "duration": 79,
    "start_time": "2022-11-16T11:44:13.860Z"
   },
   {
    "duration": 84,
    "start_time": "2022-11-16T11:44:30.319Z"
   },
   {
    "duration": 8,
    "start_time": "2022-11-16T11:47:16.005Z"
   },
   {
    "duration": 9,
    "start_time": "2022-11-16T11:48:01.024Z"
   },
   {
    "duration": 9,
    "start_time": "2022-11-16T11:48:26.029Z"
   },
   {
    "duration": 4,
    "start_time": "2022-11-16T11:51:21.951Z"
   },
   {
    "duration": 2996,
    "start_time": "2022-11-16T11:52:13.393Z"
   },
   {
    "duration": 2834,
    "start_time": "2022-11-16T11:52:16.391Z"
   },
   {
    "duration": 8,
    "start_time": "2022-11-16T11:53:39.224Z"
   },
   {
    "duration": 8,
    "start_time": "2022-11-16T11:53:55.319Z"
   },
   {
    "duration": 2145,
    "start_time": "2022-11-16T11:59:32.413Z"
   },
   {
    "duration": 3,
    "start_time": "2022-11-16T11:59:34.561Z"
   },
   {
    "duration": 46,
    "start_time": "2022-11-16T11:59:34.565Z"
   },
   {
    "duration": 22,
    "start_time": "2022-11-16T11:59:34.612Z"
   },
   {
    "duration": 606,
    "start_time": "2022-11-16T11:59:34.636Z"
   },
   {
    "duration": 11,
    "start_time": "2022-11-16T11:59:35.244Z"
   },
   {
    "duration": 13,
    "start_time": "2022-11-16T11:59:35.256Z"
   },
   {
    "duration": 12,
    "start_time": "2022-11-16T11:59:35.270Z"
   },
   {
    "duration": 19,
    "start_time": "2022-11-16T11:59:35.283Z"
   },
   {
    "duration": 6,
    "start_time": "2022-11-16T11:59:35.303Z"
   },
   {
    "duration": 34,
    "start_time": "2022-11-16T11:59:35.311Z"
   },
   {
    "duration": 2,
    "start_time": "2022-11-16T11:59:35.347Z"
   },
   {
    "duration": 9767,
    "start_time": "2022-11-16T11:59:35.350Z"
   },
   {
    "duration": 5,
    "start_time": "2022-11-16T11:59:45.120Z"
   },
   {
    "duration": 9,
    "start_time": "2022-11-16T11:59:45.126Z"
   },
   {
    "duration": 19,
    "start_time": "2022-11-16T11:59:45.136Z"
   },
   {
    "duration": 6,
    "start_time": "2022-11-16T11:59:45.157Z"
   },
   {
    "duration": 15,
    "start_time": "2022-11-16T11:59:45.164Z"
   },
   {
    "duration": 17,
    "start_time": "2022-11-16T11:59:45.181Z"
   },
   {
    "duration": 62,
    "start_time": "2022-11-16T11:59:45.200Z"
   },
   {
    "duration": 3,
    "start_time": "2022-11-16T11:59:45.264Z"
   },
   {
    "duration": 226,
    "start_time": "2022-11-16T11:59:45.268Z"
   },
   {
    "duration": 4,
    "start_time": "2022-11-16T11:59:45.495Z"
   },
   {
    "duration": 1086,
    "start_time": "2022-11-16T11:59:45.500Z"
   },
   {
    "duration": 222,
    "start_time": "2022-11-16T11:59:46.588Z"
   },
   {
    "duration": 188,
    "start_time": "2022-11-16T11:59:46.811Z"
   },
   {
    "duration": 84,
    "start_time": "2022-11-16T11:59:47.001Z"
   },
   {
    "duration": 8,
    "start_time": "2022-11-16T11:59:47.086Z"
   },
   {
    "duration": 3,
    "start_time": "2022-11-16T11:59:47.096Z"
   },
   {
    "duration": 8,
    "start_time": "2022-11-16T11:59:47.100Z"
   },
   {
    "duration": 2852,
    "start_time": "2022-11-16T11:59:47.109Z"
   },
   {
    "duration": 7,
    "start_time": "2022-11-16T11:59:49.962Z"
   },
   {
    "duration": 22282,
    "start_time": "2022-11-17T09:35:15.831Z"
   },
   {
    "duration": 2063,
    "start_time": "2022-11-17T09:35:38.115Z"
   },
   {
    "duration": 30,
    "start_time": "2022-11-17T09:35:40.180Z"
   },
   {
    "duration": 83,
    "start_time": "2022-11-17T09:35:40.212Z"
   },
   {
    "duration": 1307,
    "start_time": "2022-11-17T09:35:40.296Z"
   },
   {
    "duration": 11,
    "start_time": "2022-11-17T09:35:41.604Z"
   },
   {
    "duration": 5,
    "start_time": "2022-11-17T09:35:41.616Z"
   },
   {
    "duration": 65,
    "start_time": "2022-11-17T09:35:41.622Z"
   },
   {
    "duration": 14,
    "start_time": "2022-11-17T09:35:41.689Z"
   },
   {
    "duration": 279,
    "start_time": "2022-11-17T09:35:41.706Z"
   },
   {
    "duration": 13,
    "start_time": "2022-11-17T09:35:41.987Z"
   },
   {
    "duration": 7,
    "start_time": "2022-11-17T09:35:42.002Z"
   },
   {
    "duration": 24673,
    "start_time": "2022-11-17T09:35:42.011Z"
   },
   {
    "duration": 7,
    "start_time": "2022-11-17T09:36:06.685Z"
   },
   {
    "duration": 14,
    "start_time": "2022-11-17T09:36:06.694Z"
   },
   {
    "duration": 74,
    "start_time": "2022-11-17T09:36:06.709Z"
   },
   {
    "duration": 3,
    "start_time": "2022-11-17T09:36:06.785Z"
   },
   {
    "duration": 8,
    "start_time": "2022-11-17T09:36:06.789Z"
   },
   {
    "duration": 7,
    "start_time": "2022-11-17T09:36:06.799Z"
   },
   {
    "duration": 189,
    "start_time": "2022-11-17T09:36:06.807Z"
   },
   {
    "duration": 4,
    "start_time": "2022-11-17T09:36:06.998Z"
   },
   {
    "duration": 576,
    "start_time": "2022-11-17T09:36:07.003Z"
   },
   {
    "duration": 4,
    "start_time": "2022-11-17T09:36:07.581Z"
   },
   {
    "duration": 2816,
    "start_time": "2022-11-17T09:36:07.586Z"
   },
   {
    "duration": 590,
    "start_time": "2022-11-17T09:36:10.404Z"
   },
   {
    "duration": 482,
    "start_time": "2022-11-17T09:36:10.996Z"
   },
   {
    "duration": 202,
    "start_time": "2022-11-17T09:36:11.480Z"
   },
   {
    "duration": 13,
    "start_time": "2022-11-17T09:36:11.686Z"
   },
   {
    "duration": 15,
    "start_time": "2022-11-17T09:36:11.700Z"
   },
   {
    "duration": 63,
    "start_time": "2022-11-17T09:36:11.716Z"
   },
   {
    "duration": 6998,
    "start_time": "2022-11-17T09:36:11.781Z"
   },
   {
    "duration": 10,
    "start_time": "2022-11-17T09:36:18.782Z"
   },
   {
    "duration": 43,
    "start_time": "2022-11-17T13:14:58.101Z"
   },
   {
    "duration": 6909,
    "start_time": "2022-11-17T13:15:45.365Z"
   },
   {
    "duration": 1278,
    "start_time": "2022-11-17T13:15:52.277Z"
   },
   {
    "duration": 137,
    "start_time": "2022-11-17T13:15:53.556Z"
   },
   {
    "duration": 637,
    "start_time": "2022-11-17T13:15:53.695Z"
   },
   {
    "duration": 819,
    "start_time": "2022-11-17T13:15:54.335Z"
   },
   {
    "duration": 10,
    "start_time": "2022-11-17T13:15:55.156Z"
   },
   {
    "duration": 29,
    "start_time": "2022-11-17T13:15:55.167Z"
   },
   {
    "duration": 27,
    "start_time": "2022-11-17T13:15:55.198Z"
   },
   {
    "duration": 36,
    "start_time": "2022-11-17T13:15:55.227Z"
   },
   {
    "duration": 155,
    "start_time": "2022-11-17T13:15:55.264Z"
   },
   {
    "duration": 9,
    "start_time": "2022-11-17T13:15:55.421Z"
   },
   {
    "duration": 47,
    "start_time": "2022-11-17T13:15:55.431Z"
   },
   {
    "duration": 11341,
    "start_time": "2022-11-17T13:15:55.480Z"
   },
   {
    "duration": 6,
    "start_time": "2022-11-17T13:16:06.823Z"
   },
   {
    "duration": 12,
    "start_time": "2022-11-17T13:16:06.830Z"
   },
   {
    "duration": 13,
    "start_time": "2022-11-17T13:16:06.844Z"
   },
   {
    "duration": 53678,
    "start_time": "2022-11-17T13:16:06.858Z"
   },
   {
    "duration": 1230,
    "start_time": "2022-11-17T13:17:00.538Z"
   },
   {
    "duration": 10,
    "start_time": "2022-11-17T13:17:01.770Z"
   },
   {
    "duration": 336,
    "start_time": "2022-11-17T13:17:01.781Z"
   },
   {
    "duration": 198,
    "start_time": "2022-11-17T13:17:02.119Z"
   },
   {
    "duration": 98,
    "start_time": "2022-11-17T13:17:02.318Z"
   },
   {
    "duration": 10,
    "start_time": "2022-11-17T13:17:02.418Z"
   },
   {
    "duration": 3,
    "start_time": "2022-11-17T13:17:02.429Z"
   },
   {
    "duration": 7,
    "start_time": "2022-11-17T13:17:02.434Z"
   },
   {
    "duration": 3293,
    "start_time": "2022-11-17T13:17:02.442Z"
   },
   {
    "duration": 7,
    "start_time": "2022-11-17T13:17:05.737Z"
   },
   {
    "duration": 1273,
    "start_time": "2022-11-17T13:17:48.289Z"
   },
   {
    "duration": 1205,
    "start_time": "2022-11-17T13:17:58.293Z"
   },
   {
    "duration": 35735,
    "start_time": "2022-11-17T13:18:25.380Z"
   },
   {
    "duration": 8,
    "start_time": "2022-11-17T13:19:19.941Z"
   },
   {
    "duration": 82,
    "start_time": "2022-11-17T13:19:41.417Z"
   },
   {
    "duration": 1097,
    "start_time": "2022-11-17T13:19:50.530Z"
   },
   {
    "duration": 9,
    "start_time": "2022-11-17T13:28:54.391Z"
   },
   {
    "duration": 3533,
    "start_time": "2022-11-17T13:32:15.030Z"
   },
   {
    "duration": 3203,
    "start_time": "2022-11-17T13:32:34.974Z"
   },
   {
    "duration": 3506,
    "start_time": "2022-11-17T13:33:00.981Z"
   },
   {
    "duration": 3190,
    "start_time": "2022-11-17T13:35:24.894Z"
   },
   {
    "duration": 3162,
    "start_time": "2022-11-17T13:42:28.554Z"
   },
   {
    "duration": 2965,
    "start_time": "2022-11-17T13:42:55.086Z"
   },
   {
    "duration": 2991,
    "start_time": "2022-11-17T13:43:10.454Z"
   },
   {
    "duration": 2978,
    "start_time": "2022-11-17T13:43:25.876Z"
   },
   {
    "duration": 3037,
    "start_time": "2022-11-17T13:43:44.226Z"
   },
   {
    "duration": 3362,
    "start_time": "2022-11-17T13:46:24.807Z"
   },
   {
    "duration": 7,
    "start_time": "2022-11-17T13:46:35.809Z"
   },
   {
    "duration": 251,
    "start_time": "2022-11-17T13:47:42.268Z"
   },
   {
    "duration": 190,
    "start_time": "2022-11-17T13:47:46.818Z"
   },
   {
    "duration": 10,
    "start_time": "2022-11-17T13:49:11.036Z"
   },
   {
    "duration": 8,
    "start_time": "2022-11-17T13:49:56.770Z"
   },
   {
    "duration": 10,
    "start_time": "2022-11-17T13:50:01.745Z"
   },
   {
    "duration": 8,
    "start_time": "2022-11-17T13:50:50.166Z"
   },
   {
    "duration": 8,
    "start_time": "2022-11-17T13:51:50.706Z"
   },
   {
    "duration": 11795,
    "start_time": "2022-11-17T13:53:38.767Z"
   },
   {
    "duration": 2568,
    "start_time": "2022-11-17T13:54:39.557Z"
   },
   {
    "duration": 3,
    "start_time": "2022-11-17T13:54:42.127Z"
   },
   {
    "duration": 49,
    "start_time": "2022-11-17T13:54:42.131Z"
   },
   {
    "duration": 21,
    "start_time": "2022-11-17T13:54:42.181Z"
   },
   {
    "duration": 576,
    "start_time": "2022-11-17T13:54:42.204Z"
   },
   {
    "duration": 16,
    "start_time": "2022-11-17T13:54:42.782Z"
   },
   {
    "duration": 12,
    "start_time": "2022-11-17T13:54:42.799Z"
   },
   {
    "duration": 9,
    "start_time": "2022-11-17T13:54:42.813Z"
   },
   {
    "duration": 9,
    "start_time": "2022-11-17T13:54:42.824Z"
   },
   {
    "duration": 8,
    "start_time": "2022-11-17T13:54:42.834Z"
   },
   {
    "duration": 11,
    "start_time": "2022-11-17T13:54:42.844Z"
   },
   {
    "duration": 4,
    "start_time": "2022-11-17T13:54:42.856Z"
   },
   {
    "duration": 12316,
    "start_time": "2022-11-17T13:54:42.861Z"
   },
   {
    "duration": 20,
    "start_time": "2022-11-17T13:54:55.180Z"
   },
   {
    "duration": 25,
    "start_time": "2022-11-17T13:54:55.202Z"
   },
   {
    "duration": 11,
    "start_time": "2022-11-17T13:54:55.228Z"
   },
   {
    "duration": 36504,
    "start_time": "2022-11-17T13:54:55.241Z"
   },
   {
    "duration": 1221,
    "start_time": "2022-11-17T13:55:31.746Z"
   },
   {
    "duration": 105,
    "start_time": "2022-11-17T13:55:32.969Z"
   },
   {
    "duration": 271,
    "start_time": "2022-11-17T13:55:33.075Z"
   },
   {
    "duration": 207,
    "start_time": "2022-11-17T13:55:33.347Z"
   },
   {
    "duration": 104,
    "start_time": "2022-11-17T13:55:33.556Z"
   },
   {
    "duration": 9,
    "start_time": "2022-11-17T13:55:33.662Z"
   },
   {
    "duration": 3,
    "start_time": "2022-11-17T13:55:33.673Z"
   },
   {
    "duration": 3443,
    "start_time": "2022-11-17T13:55:33.678Z"
   },
   {
    "duration": 7,
    "start_time": "2022-11-17T13:55:37.123Z"
   },
   {
    "duration": 1073,
    "start_time": "2022-11-17T13:55:53.667Z"
   },
   {
    "duration": 1149,
    "start_time": "2022-11-17T13:56:00.680Z"
   },
   {
    "duration": 4,
    "start_time": "2022-11-17T13:56:31.887Z"
   },
   {
    "duration": 11793,
    "start_time": "2022-11-17T19:22:27.496Z"
   },
   {
    "duration": 5016,
    "start_time": "2022-11-17T19:22:39.292Z"
   },
   {
    "duration": 298,
    "start_time": "2022-11-17T19:22:44.311Z"
   },
   {
    "duration": 136,
    "start_time": "2022-11-17T19:22:44.680Z"
   },
   {
    "duration": 2412,
    "start_time": "2022-11-17T19:22:44.879Z"
   },
   {
    "duration": 93,
    "start_time": "2022-11-17T19:22:47.293Z"
   },
   {
    "duration": 89,
    "start_time": "2022-11-17T19:22:47.389Z"
   },
   {
    "duration": 32,
    "start_time": "2022-11-17T19:22:47.480Z"
   },
   {
    "duration": 64,
    "start_time": "2022-11-17T19:22:47.517Z"
   },
   {
    "duration": 2825,
    "start_time": "2022-11-17T19:22:47.583Z"
   },
   {
    "duration": 13,
    "start_time": "2022-11-17T19:22:50.411Z"
   },
   {
    "duration": 55,
    "start_time": "2022-11-17T19:22:50.426Z"
   },
   {
    "duration": 43510,
    "start_time": "2022-11-17T19:22:50.484Z"
   },
   {
    "duration": 8,
    "start_time": "2022-11-17T19:23:33.996Z"
   },
   {
    "duration": 81,
    "start_time": "2022-11-17T19:23:34.006Z"
   },
   {
    "duration": 17,
    "start_time": "2022-11-17T19:23:34.089Z"
   },
   {
    "duration": 72,
    "start_time": "2022-11-17T19:23:34.108Z"
   },
   {
    "duration": 3205,
    "start_time": "2022-11-17T19:23:34.183Z"
   },
   {
    "duration": 221,
    "start_time": "2022-11-17T19:23:37.390Z"
   },
   {
    "duration": 706,
    "start_time": "2022-11-17T19:23:37.613Z"
   },
   {
    "duration": 541,
    "start_time": "2022-11-17T19:23:38.377Z"
   },
   {
    "duration": 266,
    "start_time": "2022-11-17T19:23:38.920Z"
   },
   {
    "duration": 15,
    "start_time": "2022-11-17T19:23:39.188Z"
   },
   {
    "duration": 72,
    "start_time": "2022-11-17T19:23:39.206Z"
   },
   {
    "duration": 13302,
    "start_time": "2022-11-17T19:23:39.281Z"
   },
   {
    "duration": 92,
    "start_time": "2022-11-17T19:23:52.589Z"
   },
   {
    "duration": 3021,
    "start_time": "2022-11-18T08:49:24.183Z"
   },
   {
    "duration": 2080,
    "start_time": "2022-11-18T08:49:27.206Z"
   },
   {
    "duration": 79,
    "start_time": "2022-11-18T08:49:29.287Z"
   },
   {
    "duration": 23,
    "start_time": "2022-11-18T08:49:29.368Z"
   },
   {
    "duration": 617,
    "start_time": "2022-11-18T08:49:29.393Z"
   },
   {
    "duration": 11,
    "start_time": "2022-11-18T08:49:30.012Z"
   },
   {
    "duration": 4,
    "start_time": "2022-11-18T08:49:30.024Z"
   },
   {
    "duration": 13,
    "start_time": "2022-11-18T08:49:30.030Z"
   },
   {
    "duration": 33,
    "start_time": "2022-11-18T08:49:30.045Z"
   },
   {
    "duration": 632,
    "start_time": "2022-11-18T08:49:30.081Z"
   },
   {
    "duration": 11,
    "start_time": "2022-11-18T08:49:30.714Z"
   },
   {
    "duration": 14,
    "start_time": "2022-11-18T08:49:30.727Z"
   },
   {
    "duration": 12606,
    "start_time": "2022-11-18T08:49:30.743Z"
   },
   {
    "duration": 9,
    "start_time": "2022-11-18T08:49:43.351Z"
   },
   {
    "duration": 23,
    "start_time": "2022-11-18T08:49:43.362Z"
   },
   {
    "duration": 7,
    "start_time": "2022-11-18T08:49:43.387Z"
   },
   {
    "duration": 4,
    "start_time": "2022-11-18T08:49:43.396Z"
   },
   {
    "duration": 1258,
    "start_time": "2022-11-18T08:49:43.401Z"
   },
   {
    "duration": 99,
    "start_time": "2022-11-18T08:49:44.661Z"
   },
   {
    "duration": 318,
    "start_time": "2022-11-18T08:49:44.762Z"
   },
   {
    "duration": 247,
    "start_time": "2022-11-18T08:49:45.082Z"
   },
   {
    "duration": 111,
    "start_time": "2022-11-18T08:49:45.331Z"
   },
   {
    "duration": 11,
    "start_time": "2022-11-18T08:49:45.444Z"
   },
   {
    "duration": 22,
    "start_time": "2022-11-18T08:49:45.456Z"
   },
   {
    "duration": 4143,
    "start_time": "2022-11-18T08:49:45.480Z"
   },
   {
    "duration": 6,
    "start_time": "2022-11-18T08:49:49.625Z"
   }
  ],
  "kernelspec": {
   "display_name": "Python 3 (ipykernel)",
   "language": "python",
   "name": "python3"
  },
  "language_info": {
   "codemirror_mode": {
    "name": "ipython",
    "version": 3
   },
   "file_extension": ".py",
   "mimetype": "text/x-python",
   "name": "python",
   "nbconvert_exporter": "python",
   "pygments_lexer": "ipython3",
   "version": "3.9.12"
  },
  "toc": {
   "base_numbering": 1,
   "nav_menu": {},
   "number_sections": true,
   "sideBar": true,
   "skip_h1_title": true,
   "title_cell": "Table of Contents",
   "title_sidebar": "Contents",
   "toc_cell": false,
   "toc_position": {
    "height": "calc(100% - 180px)",
    "left": "10px",
    "top": "150px",
    "width": "165px"
   },
   "toc_section_display": true,
   "toc_window_display": true
  }
 },
 "nbformat": 4,
 "nbformat_minor": 2
}
