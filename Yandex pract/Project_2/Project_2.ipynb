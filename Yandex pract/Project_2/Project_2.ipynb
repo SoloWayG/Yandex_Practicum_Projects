{
 "cells": [
  {
   "cell_type": "markdown",
   "metadata": {},
   "source": [
    "# Восстановление золота из руды"
   ]
  },
  {
   "cell_type": "markdown",
   "metadata": {},
   "source": [
    "Подготовьте прототип модели машинного обучения для «Цифры». Компания разрабатывает решения для эффективной работы промышленных предприятий.\n",
    "\n",
    "Модель должна предсказать коэффициент восстановления золота из золотосодержащей руды. Используйте данные с параметрами добычи и очистки. \n",
    "\n",
    "Модель поможет оптимизировать производство, чтобы не запускать предприятие с убыточными характеристиками.\n",
    "\n",
    "Вам нужно:\n",
    "\n",
    "1. Подготовить данные;\n",
    "2. Провести исследовательский анализ данных;\n",
    "3. Построить и обучить модель.\n",
    "\n",
    "Чтобы выполнить проект, обращайтесь к библиотекам *pandas*, *matplotlib* и *sklearn.* Вам поможет их документация."
   ]
  },
  {
   "cell_type": "code",
   "execution_count": 189,
   "metadata": {},
   "outputs": [],
   "source": [
    "import pandas as pd\n",
    "import numpy as np\n",
    "import matplotlib.pyplot as plt\n",
    "\n",
    "from sklearn.metrics import mean_absolute_error\n",
    "from sklearn.pipeline import  make_pipeline\n",
    "from sklearn.impute import KNNImputer\n",
    "from sklearn.ensemble import RandomForestRegressor\n",
    "from sklearn.preprocessing import StandardScaler\n",
    "from sklearn.model_selection import cross_val_score\n",
    "from sklearn.model_selection import GridSearchCV\n",
    "from sklearn.preprocessing import PolynomialFeatures\n",
    "from sklearn.linear_model import LinearRegression\n",
    "from sklearn.tree import DecisionTreeRegressor\n",
    "from sklearn.metrics import make_scorer\n",
    "from sklearn.dummy import DummyRegressor\n",
    "\n",
    "import seaborn as sns\n",
    "\n",
    "import warnings\n",
    "warnings.simplefilter(action='ignore', category=FutureWarning)"
   ]
  },
  {
   "cell_type": "markdown",
   "metadata": {},
   "source": [
    "## Подготовка данных"
   ]
  },
  {
   "cell_type": "code",
   "execution_count": 190,
   "metadata": {},
   "outputs": [],
   "source": [
    "data_train=pd.read_csv('/datasets/gold_recovery_train_new.csv')\n",
    "data_test=pd.read_csv('/datasets/gold_recovery_test_new.csv')\n",
    "data_full=pd.read_csv('/datasets/gold_recovery_full_new.csv')"
   ]
  },
  {
   "cell_type": "code",
   "execution_count": 240,
   "metadata": {},
   "outputs": [
    {
     "data": {
      "text/html": [
       "<div>\n",
       "<style scoped>\n",
       "    .dataframe tbody tr th:only-of-type {\n",
       "        vertical-align: middle;\n",
       "    }\n",
       "\n",
       "    .dataframe tbody tr th {\n",
       "        vertical-align: top;\n",
       "    }\n",
       "\n",
       "    .dataframe thead th {\n",
       "        text-align: right;\n",
       "    }\n",
       "</style>\n",
       "<table border=\"1\" class=\"dataframe\">\n",
       "  <thead>\n",
       "    <tr style=\"text-align: right;\">\n",
       "      <th></th>\n",
       "      <th>date</th>\n",
       "      <th>final.output.concentrate_ag</th>\n",
       "      <th>final.output.concentrate_pb</th>\n",
       "      <th>final.output.concentrate_sol</th>\n",
       "      <th>final.output.concentrate_au</th>\n",
       "      <th>final.output.recovery</th>\n",
       "      <th>final.output.tail_ag</th>\n",
       "      <th>final.output.tail_pb</th>\n",
       "      <th>final.output.tail_sol</th>\n",
       "      <th>final.output.tail_au</th>\n",
       "      <th>...</th>\n",
       "      <th>secondary_cleaner.state.floatbank4_a_level</th>\n",
       "      <th>secondary_cleaner.state.floatbank4_b_air</th>\n",
       "      <th>secondary_cleaner.state.floatbank4_b_level</th>\n",
       "      <th>secondary_cleaner.state.floatbank5_a_air</th>\n",
       "      <th>secondary_cleaner.state.floatbank5_a_level</th>\n",
       "      <th>secondary_cleaner.state.floatbank5_b_air</th>\n",
       "      <th>secondary_cleaner.state.floatbank5_b_level</th>\n",
       "      <th>secondary_cleaner.state.floatbank6_a_air</th>\n",
       "      <th>secondary_cleaner.state.floatbank6_a_level</th>\n",
       "      <th>recovery</th>\n",
       "    </tr>\n",
       "  </thead>\n",
       "  <tbody>\n",
       "    <tr>\n",
       "      <th>0</th>\n",
       "      <td>2016-01-15 00:00:00</td>\n",
       "      <td>6.055403</td>\n",
       "      <td>9.889648</td>\n",
       "      <td>5.507324</td>\n",
       "      <td>42.192020</td>\n",
       "      <td>70.541216</td>\n",
       "      <td>10.411962</td>\n",
       "      <td>0.895447</td>\n",
       "      <td>16.904297</td>\n",
       "      <td>2.143149</td>\n",
       "      <td>...</td>\n",
       "      <td>-502.488007</td>\n",
       "      <td>12.099931</td>\n",
       "      <td>-504.715942</td>\n",
       "      <td>9.925633</td>\n",
       "      <td>-498.310211</td>\n",
       "      <td>8.079666</td>\n",
       "      <td>-500.470978</td>\n",
       "      <td>14.151341</td>\n",
       "      <td>-605.841980</td>\n",
       "      <td>87.107763</td>\n",
       "    </tr>\n",
       "    <tr>\n",
       "      <th>1</th>\n",
       "      <td>2016-01-15 01:00:00</td>\n",
       "      <td>6.029369</td>\n",
       "      <td>9.968944</td>\n",
       "      <td>5.257781</td>\n",
       "      <td>42.701629</td>\n",
       "      <td>69.266198</td>\n",
       "      <td>10.462676</td>\n",
       "      <td>0.927452</td>\n",
       "      <td>16.634514</td>\n",
       "      <td>2.224930</td>\n",
       "      <td>...</td>\n",
       "      <td>-505.503262</td>\n",
       "      <td>11.950531</td>\n",
       "      <td>-501.331529</td>\n",
       "      <td>10.039245</td>\n",
       "      <td>-500.169983</td>\n",
       "      <td>7.984757</td>\n",
       "      <td>-500.582168</td>\n",
       "      <td>13.998353</td>\n",
       "      <td>-599.787184</td>\n",
       "      <td>86.843261</td>\n",
       "    </tr>\n",
       "    <tr>\n",
       "      <th>2</th>\n",
       "      <td>2016-01-15 02:00:00</td>\n",
       "      <td>6.055926</td>\n",
       "      <td>10.213995</td>\n",
       "      <td>5.383759</td>\n",
       "      <td>42.657501</td>\n",
       "      <td>68.116445</td>\n",
       "      <td>10.507046</td>\n",
       "      <td>0.953716</td>\n",
       "      <td>16.208849</td>\n",
       "      <td>2.257889</td>\n",
       "      <td>...</td>\n",
       "      <td>-502.520901</td>\n",
       "      <td>11.912783</td>\n",
       "      <td>-501.133383</td>\n",
       "      <td>10.070913</td>\n",
       "      <td>-500.129135</td>\n",
       "      <td>8.013877</td>\n",
       "      <td>-500.517572</td>\n",
       "      <td>14.028663</td>\n",
       "      <td>-601.427363</td>\n",
       "      <td>86.842308</td>\n",
       "    </tr>\n",
       "    <tr>\n",
       "      <th>3</th>\n",
       "      <td>2016-01-15 03:00:00</td>\n",
       "      <td>6.047977</td>\n",
       "      <td>9.977019</td>\n",
       "      <td>4.858634</td>\n",
       "      <td>42.689819</td>\n",
       "      <td>68.347543</td>\n",
       "      <td>10.422762</td>\n",
       "      <td>0.883763</td>\n",
       "      <td>16.532835</td>\n",
       "      <td>2.146849</td>\n",
       "      <td>...</td>\n",
       "      <td>-500.857308</td>\n",
       "      <td>11.999550</td>\n",
       "      <td>-501.193686</td>\n",
       "      <td>9.970366</td>\n",
       "      <td>-499.201640</td>\n",
       "      <td>7.977324</td>\n",
       "      <td>-500.255908</td>\n",
       "      <td>14.005551</td>\n",
       "      <td>-599.996129</td>\n",
       "      <td>87.226430</td>\n",
       "    </tr>\n",
       "    <tr>\n",
       "      <th>4</th>\n",
       "      <td>2016-01-15 04:00:00</td>\n",
       "      <td>6.148599</td>\n",
       "      <td>10.142511</td>\n",
       "      <td>4.939416</td>\n",
       "      <td>42.774141</td>\n",
       "      <td>66.927016</td>\n",
       "      <td>10.360302</td>\n",
       "      <td>0.792826</td>\n",
       "      <td>16.525686</td>\n",
       "      <td>2.055292</td>\n",
       "      <td>...</td>\n",
       "      <td>-499.838632</td>\n",
       "      <td>11.953070</td>\n",
       "      <td>-501.053894</td>\n",
       "      <td>9.925709</td>\n",
       "      <td>-501.686727</td>\n",
       "      <td>7.894242</td>\n",
       "      <td>-500.356035</td>\n",
       "      <td>13.996647</td>\n",
       "      <td>-601.496691</td>\n",
       "      <td>86.688794</td>\n",
       "    </tr>\n",
       "  </tbody>\n",
       "</table>\n",
       "<p>5 rows × 88 columns</p>\n",
       "</div>"
      ],
      "text/plain": [
       "                  date  final.output.concentrate_ag  \\\n",
       "0  2016-01-15 00:00:00                     6.055403   \n",
       "1  2016-01-15 01:00:00                     6.029369   \n",
       "2  2016-01-15 02:00:00                     6.055926   \n",
       "3  2016-01-15 03:00:00                     6.047977   \n",
       "4  2016-01-15 04:00:00                     6.148599   \n",
       "\n",
       "   final.output.concentrate_pb  final.output.concentrate_sol  \\\n",
       "0                     9.889648                      5.507324   \n",
       "1                     9.968944                      5.257781   \n",
       "2                    10.213995                      5.383759   \n",
       "3                     9.977019                      4.858634   \n",
       "4                    10.142511                      4.939416   \n",
       "\n",
       "   final.output.concentrate_au  final.output.recovery  final.output.tail_ag  \\\n",
       "0                    42.192020              70.541216             10.411962   \n",
       "1                    42.701629              69.266198             10.462676   \n",
       "2                    42.657501              68.116445             10.507046   \n",
       "3                    42.689819              68.347543             10.422762   \n",
       "4                    42.774141              66.927016             10.360302   \n",
       "\n",
       "   final.output.tail_pb  final.output.tail_sol  final.output.tail_au  ...  \\\n",
       "0              0.895447              16.904297              2.143149  ...   \n",
       "1              0.927452              16.634514              2.224930  ...   \n",
       "2              0.953716              16.208849              2.257889  ...   \n",
       "3              0.883763              16.532835              2.146849  ...   \n",
       "4              0.792826              16.525686              2.055292  ...   \n",
       "\n",
       "   secondary_cleaner.state.floatbank4_a_level  \\\n",
       "0                                 -502.488007   \n",
       "1                                 -505.503262   \n",
       "2                                 -502.520901   \n",
       "3                                 -500.857308   \n",
       "4                                 -499.838632   \n",
       "\n",
       "   secondary_cleaner.state.floatbank4_b_air  \\\n",
       "0                                 12.099931   \n",
       "1                                 11.950531   \n",
       "2                                 11.912783   \n",
       "3                                 11.999550   \n",
       "4                                 11.953070   \n",
       "\n",
       "   secondary_cleaner.state.floatbank4_b_level  \\\n",
       "0                                 -504.715942   \n",
       "1                                 -501.331529   \n",
       "2                                 -501.133383   \n",
       "3                                 -501.193686   \n",
       "4                                 -501.053894   \n",
       "\n",
       "   secondary_cleaner.state.floatbank5_a_air  \\\n",
       "0                                  9.925633   \n",
       "1                                 10.039245   \n",
       "2                                 10.070913   \n",
       "3                                  9.970366   \n",
       "4                                  9.925709   \n",
       "\n",
       "   secondary_cleaner.state.floatbank5_a_level  \\\n",
       "0                                 -498.310211   \n",
       "1                                 -500.169983   \n",
       "2                                 -500.129135   \n",
       "3                                 -499.201640   \n",
       "4                                 -501.686727   \n",
       "\n",
       "   secondary_cleaner.state.floatbank5_b_air  \\\n",
       "0                                  8.079666   \n",
       "1                                  7.984757   \n",
       "2                                  8.013877   \n",
       "3                                  7.977324   \n",
       "4                                  7.894242   \n",
       "\n",
       "   secondary_cleaner.state.floatbank5_b_level  \\\n",
       "0                                 -500.470978   \n",
       "1                                 -500.582168   \n",
       "2                                 -500.517572   \n",
       "3                                 -500.255908   \n",
       "4                                 -500.356035   \n",
       "\n",
       "   secondary_cleaner.state.floatbank6_a_air  \\\n",
       "0                                 14.151341   \n",
       "1                                 13.998353   \n",
       "2                                 14.028663   \n",
       "3                                 14.005551   \n",
       "4                                 13.996647   \n",
       "\n",
       "   secondary_cleaner.state.floatbank6_a_level   recovery  \n",
       "0                                 -605.841980  87.107763  \n",
       "1                                 -599.787184  86.843261  \n",
       "2                                 -601.427363  86.842308  \n",
       "3                                 -599.996129  87.226430  \n",
       "4                                 -601.496691  86.688794  \n",
       "\n",
       "[5 rows x 88 columns]"
      ]
     },
     "execution_count": 240,
     "metadata": {},
     "output_type": "execute_result"
    }
   ],
   "source": [
    "data_train.head()"
   ]
  },
  {
   "cell_type": "code",
   "execution_count": 192,
   "metadata": {},
   "outputs": [
    {
     "data": {
      "text/html": [
       "<div>\n",
       "<style scoped>\n",
       "    .dataframe tbody tr th:only-of-type {\n",
       "        vertical-align: middle;\n",
       "    }\n",
       "\n",
       "    .dataframe tbody tr th {\n",
       "        vertical-align: top;\n",
       "    }\n",
       "\n",
       "    .dataframe thead th {\n",
       "        text-align: right;\n",
       "    }\n",
       "</style>\n",
       "<table border=\"1\" class=\"dataframe\">\n",
       "  <thead>\n",
       "    <tr style=\"text-align: right;\">\n",
       "      <th></th>\n",
       "      <th>date</th>\n",
       "      <th>primary_cleaner.input.sulfate</th>\n",
       "      <th>primary_cleaner.input.depressant</th>\n",
       "      <th>primary_cleaner.input.feed_size</th>\n",
       "      <th>primary_cleaner.input.xanthate</th>\n",
       "      <th>primary_cleaner.state.floatbank8_a_air</th>\n",
       "      <th>primary_cleaner.state.floatbank8_a_level</th>\n",
       "      <th>primary_cleaner.state.floatbank8_b_air</th>\n",
       "      <th>primary_cleaner.state.floatbank8_b_level</th>\n",
       "      <th>primary_cleaner.state.floatbank8_c_air</th>\n",
       "      <th>...</th>\n",
       "      <th>secondary_cleaner.state.floatbank4_a_air</th>\n",
       "      <th>secondary_cleaner.state.floatbank4_a_level</th>\n",
       "      <th>secondary_cleaner.state.floatbank4_b_air</th>\n",
       "      <th>secondary_cleaner.state.floatbank4_b_level</th>\n",
       "      <th>secondary_cleaner.state.floatbank5_a_air</th>\n",
       "      <th>secondary_cleaner.state.floatbank5_a_level</th>\n",
       "      <th>secondary_cleaner.state.floatbank5_b_air</th>\n",
       "      <th>secondary_cleaner.state.floatbank5_b_level</th>\n",
       "      <th>secondary_cleaner.state.floatbank6_a_air</th>\n",
       "      <th>secondary_cleaner.state.floatbank6_a_level</th>\n",
       "    </tr>\n",
       "  </thead>\n",
       "  <tbody>\n",
       "    <tr>\n",
       "      <th>0</th>\n",
       "      <td>2016-09-01 00:59:59</td>\n",
       "      <td>210.800909</td>\n",
       "      <td>14.993118</td>\n",
       "      <td>8.080000</td>\n",
       "      <td>1.005021</td>\n",
       "      <td>1398.981301</td>\n",
       "      <td>-500.225577</td>\n",
       "      <td>1399.144926</td>\n",
       "      <td>-499.919735</td>\n",
       "      <td>1400.102998</td>\n",
       "      <td>...</td>\n",
       "      <td>12.023554</td>\n",
       "      <td>-497.795834</td>\n",
       "      <td>8.016656</td>\n",
       "      <td>-501.289139</td>\n",
       "      <td>7.946562</td>\n",
       "      <td>-432.317850</td>\n",
       "      <td>4.872511</td>\n",
       "      <td>-500.037437</td>\n",
       "      <td>26.705889</td>\n",
       "      <td>-499.709414</td>\n",
       "    </tr>\n",
       "    <tr>\n",
       "      <th>1</th>\n",
       "      <td>2016-09-01 01:59:59</td>\n",
       "      <td>215.392455</td>\n",
       "      <td>14.987471</td>\n",
       "      <td>8.080000</td>\n",
       "      <td>0.990469</td>\n",
       "      <td>1398.777912</td>\n",
       "      <td>-500.057435</td>\n",
       "      <td>1398.055362</td>\n",
       "      <td>-499.778182</td>\n",
       "      <td>1396.151033</td>\n",
       "      <td>...</td>\n",
       "      <td>12.058140</td>\n",
       "      <td>-498.695773</td>\n",
       "      <td>8.130979</td>\n",
       "      <td>-499.634209</td>\n",
       "      <td>7.958270</td>\n",
       "      <td>-525.839648</td>\n",
       "      <td>4.878850</td>\n",
       "      <td>-500.162375</td>\n",
       "      <td>25.019940</td>\n",
       "      <td>-499.819438</td>\n",
       "    </tr>\n",
       "    <tr>\n",
       "      <th>2</th>\n",
       "      <td>2016-09-01 02:59:59</td>\n",
       "      <td>215.259946</td>\n",
       "      <td>12.884934</td>\n",
       "      <td>7.786667</td>\n",
       "      <td>0.996043</td>\n",
       "      <td>1398.493666</td>\n",
       "      <td>-500.868360</td>\n",
       "      <td>1398.860436</td>\n",
       "      <td>-499.764529</td>\n",
       "      <td>1398.075709</td>\n",
       "      <td>...</td>\n",
       "      <td>11.962366</td>\n",
       "      <td>-498.767484</td>\n",
       "      <td>8.096893</td>\n",
       "      <td>-500.827423</td>\n",
       "      <td>8.071056</td>\n",
       "      <td>-500.801673</td>\n",
       "      <td>4.905125</td>\n",
       "      <td>-499.828510</td>\n",
       "      <td>24.994862</td>\n",
       "      <td>-500.622559</td>\n",
       "    </tr>\n",
       "    <tr>\n",
       "      <th>3</th>\n",
       "      <td>2016-09-01 03:59:59</td>\n",
       "      <td>215.336236</td>\n",
       "      <td>12.006805</td>\n",
       "      <td>7.640000</td>\n",
       "      <td>0.863514</td>\n",
       "      <td>1399.618111</td>\n",
       "      <td>-498.863574</td>\n",
       "      <td>1397.440120</td>\n",
       "      <td>-499.211024</td>\n",
       "      <td>1400.129303</td>\n",
       "      <td>...</td>\n",
       "      <td>12.033091</td>\n",
       "      <td>-498.350935</td>\n",
       "      <td>8.074946</td>\n",
       "      <td>-499.474407</td>\n",
       "      <td>7.897085</td>\n",
       "      <td>-500.868509</td>\n",
       "      <td>4.931400</td>\n",
       "      <td>-499.963623</td>\n",
       "      <td>24.948919</td>\n",
       "      <td>-498.709987</td>\n",
       "    </tr>\n",
       "    <tr>\n",
       "      <th>4</th>\n",
       "      <td>2016-09-01 04:59:59</td>\n",
       "      <td>199.099327</td>\n",
       "      <td>10.682530</td>\n",
       "      <td>7.530000</td>\n",
       "      <td>0.805575</td>\n",
       "      <td>1401.268123</td>\n",
       "      <td>-500.808305</td>\n",
       "      <td>1398.128818</td>\n",
       "      <td>-499.504543</td>\n",
       "      <td>1402.172226</td>\n",
       "      <td>...</td>\n",
       "      <td>12.025367</td>\n",
       "      <td>-500.786497</td>\n",
       "      <td>8.054678</td>\n",
       "      <td>-500.397500</td>\n",
       "      <td>8.107890</td>\n",
       "      <td>-509.526725</td>\n",
       "      <td>4.957674</td>\n",
       "      <td>-500.360026</td>\n",
       "      <td>25.003331</td>\n",
       "      <td>-500.856333</td>\n",
       "    </tr>\n",
       "  </tbody>\n",
       "</table>\n",
       "<p>5 rows × 53 columns</p>\n",
       "</div>"
      ],
      "text/plain": [
       "                  date  primary_cleaner.input.sulfate  \\\n",
       "0  2016-09-01 00:59:59                     210.800909   \n",
       "1  2016-09-01 01:59:59                     215.392455   \n",
       "2  2016-09-01 02:59:59                     215.259946   \n",
       "3  2016-09-01 03:59:59                     215.336236   \n",
       "4  2016-09-01 04:59:59                     199.099327   \n",
       "\n",
       "   primary_cleaner.input.depressant  primary_cleaner.input.feed_size  \\\n",
       "0                         14.993118                         8.080000   \n",
       "1                         14.987471                         8.080000   \n",
       "2                         12.884934                         7.786667   \n",
       "3                         12.006805                         7.640000   \n",
       "4                         10.682530                         7.530000   \n",
       "\n",
       "   primary_cleaner.input.xanthate  primary_cleaner.state.floatbank8_a_air  \\\n",
       "0                        1.005021                             1398.981301   \n",
       "1                        0.990469                             1398.777912   \n",
       "2                        0.996043                             1398.493666   \n",
       "3                        0.863514                             1399.618111   \n",
       "4                        0.805575                             1401.268123   \n",
       "\n",
       "   primary_cleaner.state.floatbank8_a_level  \\\n",
       "0                               -500.225577   \n",
       "1                               -500.057435   \n",
       "2                               -500.868360   \n",
       "3                               -498.863574   \n",
       "4                               -500.808305   \n",
       "\n",
       "   primary_cleaner.state.floatbank8_b_air  \\\n",
       "0                             1399.144926   \n",
       "1                             1398.055362   \n",
       "2                             1398.860436   \n",
       "3                             1397.440120   \n",
       "4                             1398.128818   \n",
       "\n",
       "   primary_cleaner.state.floatbank8_b_level  \\\n",
       "0                               -499.919735   \n",
       "1                               -499.778182   \n",
       "2                               -499.764529   \n",
       "3                               -499.211024   \n",
       "4                               -499.504543   \n",
       "\n",
       "   primary_cleaner.state.floatbank8_c_air  ...  \\\n",
       "0                             1400.102998  ...   \n",
       "1                             1396.151033  ...   \n",
       "2                             1398.075709  ...   \n",
       "3                             1400.129303  ...   \n",
       "4                             1402.172226  ...   \n",
       "\n",
       "   secondary_cleaner.state.floatbank4_a_air  \\\n",
       "0                                 12.023554   \n",
       "1                                 12.058140   \n",
       "2                                 11.962366   \n",
       "3                                 12.033091   \n",
       "4                                 12.025367   \n",
       "\n",
       "   secondary_cleaner.state.floatbank4_a_level  \\\n",
       "0                                 -497.795834   \n",
       "1                                 -498.695773   \n",
       "2                                 -498.767484   \n",
       "3                                 -498.350935   \n",
       "4                                 -500.786497   \n",
       "\n",
       "   secondary_cleaner.state.floatbank4_b_air  \\\n",
       "0                                  8.016656   \n",
       "1                                  8.130979   \n",
       "2                                  8.096893   \n",
       "3                                  8.074946   \n",
       "4                                  8.054678   \n",
       "\n",
       "   secondary_cleaner.state.floatbank4_b_level  \\\n",
       "0                                 -501.289139   \n",
       "1                                 -499.634209   \n",
       "2                                 -500.827423   \n",
       "3                                 -499.474407   \n",
       "4                                 -500.397500   \n",
       "\n",
       "   secondary_cleaner.state.floatbank5_a_air  \\\n",
       "0                                  7.946562   \n",
       "1                                  7.958270   \n",
       "2                                  8.071056   \n",
       "3                                  7.897085   \n",
       "4                                  8.107890   \n",
       "\n",
       "   secondary_cleaner.state.floatbank5_a_level  \\\n",
       "0                                 -432.317850   \n",
       "1                                 -525.839648   \n",
       "2                                 -500.801673   \n",
       "3                                 -500.868509   \n",
       "4                                 -509.526725   \n",
       "\n",
       "   secondary_cleaner.state.floatbank5_b_air  \\\n",
       "0                                  4.872511   \n",
       "1                                  4.878850   \n",
       "2                                  4.905125   \n",
       "3                                  4.931400   \n",
       "4                                  4.957674   \n",
       "\n",
       "   secondary_cleaner.state.floatbank5_b_level  \\\n",
       "0                                 -500.037437   \n",
       "1                                 -500.162375   \n",
       "2                                 -499.828510   \n",
       "3                                 -499.963623   \n",
       "4                                 -500.360026   \n",
       "\n",
       "   secondary_cleaner.state.floatbank6_a_air  \\\n",
       "0                                 26.705889   \n",
       "1                                 25.019940   \n",
       "2                                 24.994862   \n",
       "3                                 24.948919   \n",
       "4                                 25.003331   \n",
       "\n",
       "   secondary_cleaner.state.floatbank6_a_level  \n",
       "0                                 -499.709414  \n",
       "1                                 -499.819438  \n",
       "2                                 -500.622559  \n",
       "3                                 -498.709987  \n",
       "4                                 -500.856333  \n",
       "\n",
       "[5 rows x 53 columns]"
      ]
     },
     "execution_count": 192,
     "metadata": {},
     "output_type": "execute_result"
    }
   ],
   "source": [
    "data_test.head()"
   ]
  },
  {
   "cell_type": "code",
   "execution_count": 193,
   "metadata": {},
   "outputs": [
    {
     "data": {
      "text/html": [
       "<div>\n",
       "<style scoped>\n",
       "    .dataframe tbody tr th:only-of-type {\n",
       "        vertical-align: middle;\n",
       "    }\n",
       "\n",
       "    .dataframe tbody tr th {\n",
       "        vertical-align: top;\n",
       "    }\n",
       "\n",
       "    .dataframe thead th {\n",
       "        text-align: right;\n",
       "    }\n",
       "</style>\n",
       "<table border=\"1\" class=\"dataframe\">\n",
       "  <thead>\n",
       "    <tr style=\"text-align: right;\">\n",
       "      <th></th>\n",
       "      <th>date</th>\n",
       "      <th>final.output.concentrate_ag</th>\n",
       "      <th>final.output.concentrate_pb</th>\n",
       "      <th>final.output.concentrate_sol</th>\n",
       "      <th>final.output.concentrate_au</th>\n",
       "      <th>final.output.recovery</th>\n",
       "      <th>final.output.tail_ag</th>\n",
       "      <th>final.output.tail_pb</th>\n",
       "      <th>final.output.tail_sol</th>\n",
       "      <th>final.output.tail_au</th>\n",
       "      <th>...</th>\n",
       "      <th>secondary_cleaner.state.floatbank4_a_air</th>\n",
       "      <th>secondary_cleaner.state.floatbank4_a_level</th>\n",
       "      <th>secondary_cleaner.state.floatbank4_b_air</th>\n",
       "      <th>secondary_cleaner.state.floatbank4_b_level</th>\n",
       "      <th>secondary_cleaner.state.floatbank5_a_air</th>\n",
       "      <th>secondary_cleaner.state.floatbank5_a_level</th>\n",
       "      <th>secondary_cleaner.state.floatbank5_b_air</th>\n",
       "      <th>secondary_cleaner.state.floatbank5_b_level</th>\n",
       "      <th>secondary_cleaner.state.floatbank6_a_air</th>\n",
       "      <th>secondary_cleaner.state.floatbank6_a_level</th>\n",
       "    </tr>\n",
       "  </thead>\n",
       "  <tbody>\n",
       "    <tr>\n",
       "      <th>0</th>\n",
       "      <td>2016-01-15 00:00:00</td>\n",
       "      <td>6.055403</td>\n",
       "      <td>9.889648</td>\n",
       "      <td>5.507324</td>\n",
       "      <td>42.192020</td>\n",
       "      <td>70.541216</td>\n",
       "      <td>10.411962</td>\n",
       "      <td>0.895447</td>\n",
       "      <td>16.904297</td>\n",
       "      <td>2.143149</td>\n",
       "      <td>...</td>\n",
       "      <td>14.016835</td>\n",
       "      <td>-502.488007</td>\n",
       "      <td>12.099931</td>\n",
       "      <td>-504.715942</td>\n",
       "      <td>9.925633</td>\n",
       "      <td>-498.310211</td>\n",
       "      <td>8.079666</td>\n",
       "      <td>-500.470978</td>\n",
       "      <td>14.151341</td>\n",
       "      <td>-605.841980</td>\n",
       "    </tr>\n",
       "    <tr>\n",
       "      <th>1</th>\n",
       "      <td>2016-01-15 01:00:00</td>\n",
       "      <td>6.029369</td>\n",
       "      <td>9.968944</td>\n",
       "      <td>5.257781</td>\n",
       "      <td>42.701629</td>\n",
       "      <td>69.266198</td>\n",
       "      <td>10.462676</td>\n",
       "      <td>0.927452</td>\n",
       "      <td>16.634514</td>\n",
       "      <td>2.224930</td>\n",
       "      <td>...</td>\n",
       "      <td>13.992281</td>\n",
       "      <td>-505.503262</td>\n",
       "      <td>11.950531</td>\n",
       "      <td>-501.331529</td>\n",
       "      <td>10.039245</td>\n",
       "      <td>-500.169983</td>\n",
       "      <td>7.984757</td>\n",
       "      <td>-500.582168</td>\n",
       "      <td>13.998353</td>\n",
       "      <td>-599.787184</td>\n",
       "    </tr>\n",
       "    <tr>\n",
       "      <th>2</th>\n",
       "      <td>2016-01-15 02:00:00</td>\n",
       "      <td>6.055926</td>\n",
       "      <td>10.213995</td>\n",
       "      <td>5.383759</td>\n",
       "      <td>42.657501</td>\n",
       "      <td>68.116445</td>\n",
       "      <td>10.507046</td>\n",
       "      <td>0.953716</td>\n",
       "      <td>16.208849</td>\n",
       "      <td>2.257889</td>\n",
       "      <td>...</td>\n",
       "      <td>14.015015</td>\n",
       "      <td>-502.520901</td>\n",
       "      <td>11.912783</td>\n",
       "      <td>-501.133383</td>\n",
       "      <td>10.070913</td>\n",
       "      <td>-500.129135</td>\n",
       "      <td>8.013877</td>\n",
       "      <td>-500.517572</td>\n",
       "      <td>14.028663</td>\n",
       "      <td>-601.427363</td>\n",
       "    </tr>\n",
       "    <tr>\n",
       "      <th>3</th>\n",
       "      <td>2016-01-15 03:00:00</td>\n",
       "      <td>6.047977</td>\n",
       "      <td>9.977019</td>\n",
       "      <td>4.858634</td>\n",
       "      <td>42.689819</td>\n",
       "      <td>68.347543</td>\n",
       "      <td>10.422762</td>\n",
       "      <td>0.883763</td>\n",
       "      <td>16.532835</td>\n",
       "      <td>2.146849</td>\n",
       "      <td>...</td>\n",
       "      <td>14.036510</td>\n",
       "      <td>-500.857308</td>\n",
       "      <td>11.999550</td>\n",
       "      <td>-501.193686</td>\n",
       "      <td>9.970366</td>\n",
       "      <td>-499.201640</td>\n",
       "      <td>7.977324</td>\n",
       "      <td>-500.255908</td>\n",
       "      <td>14.005551</td>\n",
       "      <td>-599.996129</td>\n",
       "    </tr>\n",
       "    <tr>\n",
       "      <th>4</th>\n",
       "      <td>2016-01-15 04:00:00</td>\n",
       "      <td>6.148599</td>\n",
       "      <td>10.142511</td>\n",
       "      <td>4.939416</td>\n",
       "      <td>42.774141</td>\n",
       "      <td>66.927016</td>\n",
       "      <td>10.360302</td>\n",
       "      <td>0.792826</td>\n",
       "      <td>16.525686</td>\n",
       "      <td>2.055292</td>\n",
       "      <td>...</td>\n",
       "      <td>14.027298</td>\n",
       "      <td>-499.838632</td>\n",
       "      <td>11.953070</td>\n",
       "      <td>-501.053894</td>\n",
       "      <td>9.925709</td>\n",
       "      <td>-501.686727</td>\n",
       "      <td>7.894242</td>\n",
       "      <td>-500.356035</td>\n",
       "      <td>13.996647</td>\n",
       "      <td>-601.496691</td>\n",
       "    </tr>\n",
       "  </tbody>\n",
       "</table>\n",
       "<p>5 rows × 87 columns</p>\n",
       "</div>"
      ],
      "text/plain": [
       "                  date  final.output.concentrate_ag  \\\n",
       "0  2016-01-15 00:00:00                     6.055403   \n",
       "1  2016-01-15 01:00:00                     6.029369   \n",
       "2  2016-01-15 02:00:00                     6.055926   \n",
       "3  2016-01-15 03:00:00                     6.047977   \n",
       "4  2016-01-15 04:00:00                     6.148599   \n",
       "\n",
       "   final.output.concentrate_pb  final.output.concentrate_sol  \\\n",
       "0                     9.889648                      5.507324   \n",
       "1                     9.968944                      5.257781   \n",
       "2                    10.213995                      5.383759   \n",
       "3                     9.977019                      4.858634   \n",
       "4                    10.142511                      4.939416   \n",
       "\n",
       "   final.output.concentrate_au  final.output.recovery  final.output.tail_ag  \\\n",
       "0                    42.192020              70.541216             10.411962   \n",
       "1                    42.701629              69.266198             10.462676   \n",
       "2                    42.657501              68.116445             10.507046   \n",
       "3                    42.689819              68.347543             10.422762   \n",
       "4                    42.774141              66.927016             10.360302   \n",
       "\n",
       "   final.output.tail_pb  final.output.tail_sol  final.output.tail_au  ...  \\\n",
       "0              0.895447              16.904297              2.143149  ...   \n",
       "1              0.927452              16.634514              2.224930  ...   \n",
       "2              0.953716              16.208849              2.257889  ...   \n",
       "3              0.883763              16.532835              2.146849  ...   \n",
       "4              0.792826              16.525686              2.055292  ...   \n",
       "\n",
       "   secondary_cleaner.state.floatbank4_a_air  \\\n",
       "0                                 14.016835   \n",
       "1                                 13.992281   \n",
       "2                                 14.015015   \n",
       "3                                 14.036510   \n",
       "4                                 14.027298   \n",
       "\n",
       "   secondary_cleaner.state.floatbank4_a_level  \\\n",
       "0                                 -502.488007   \n",
       "1                                 -505.503262   \n",
       "2                                 -502.520901   \n",
       "3                                 -500.857308   \n",
       "4                                 -499.838632   \n",
       "\n",
       "   secondary_cleaner.state.floatbank4_b_air  \\\n",
       "0                                 12.099931   \n",
       "1                                 11.950531   \n",
       "2                                 11.912783   \n",
       "3                                 11.999550   \n",
       "4                                 11.953070   \n",
       "\n",
       "   secondary_cleaner.state.floatbank4_b_level  \\\n",
       "0                                 -504.715942   \n",
       "1                                 -501.331529   \n",
       "2                                 -501.133383   \n",
       "3                                 -501.193686   \n",
       "4                                 -501.053894   \n",
       "\n",
       "   secondary_cleaner.state.floatbank5_a_air  \\\n",
       "0                                  9.925633   \n",
       "1                                 10.039245   \n",
       "2                                 10.070913   \n",
       "3                                  9.970366   \n",
       "4                                  9.925709   \n",
       "\n",
       "   secondary_cleaner.state.floatbank5_a_level  \\\n",
       "0                                 -498.310211   \n",
       "1                                 -500.169983   \n",
       "2                                 -500.129135   \n",
       "3                                 -499.201640   \n",
       "4                                 -501.686727   \n",
       "\n",
       "   secondary_cleaner.state.floatbank5_b_air  \\\n",
       "0                                  8.079666   \n",
       "1                                  7.984757   \n",
       "2                                  8.013877   \n",
       "3                                  7.977324   \n",
       "4                                  7.894242   \n",
       "\n",
       "   secondary_cleaner.state.floatbank5_b_level  \\\n",
       "0                                 -500.470978   \n",
       "1                                 -500.582168   \n",
       "2                                 -500.517572   \n",
       "3                                 -500.255908   \n",
       "4                                 -500.356035   \n",
       "\n",
       "   secondary_cleaner.state.floatbank6_a_air  \\\n",
       "0                                 14.151341   \n",
       "1                                 13.998353   \n",
       "2                                 14.028663   \n",
       "3                                 14.005551   \n",
       "4                                 13.996647   \n",
       "\n",
       "   secondary_cleaner.state.floatbank6_a_level  \n",
       "0                                 -605.841980  \n",
       "1                                 -599.787184  \n",
       "2                                 -601.427363  \n",
       "3                                 -599.996129  \n",
       "4                                 -601.496691  \n",
       "\n",
       "[5 rows x 87 columns]"
      ]
     },
     "execution_count": 193,
     "metadata": {},
     "output_type": "execute_result"
    }
   ],
   "source": [
    "data_full.head()"
   ]
  },
  {
   "cell_type": "code",
   "execution_count": 194,
   "metadata": {},
   "outputs": [
    {
     "data": {
      "text/plain": [
       "0    87.107763\n",
       "1    86.843261\n",
       "2    86.842308\n",
       "3    87.226430\n",
       "4    86.688794\n",
       "Name: rougher.output.recovery, dtype: float64"
      ]
     },
     "execution_count": 194,
     "metadata": {},
     "output_type": "execute_result"
    }
   ],
   "source": [
    "data_train['rougher.output.recovery'].head()"
   ]
  },
  {
   "cell_type": "markdown",
   "metadata": {},
   "source": [
    "### Анализ признаков, недоступных в тестовой выборке"
   ]
  },
  {
   "cell_type": "code",
   "execution_count": 195,
   "metadata": {},
   "outputs": [
    {
     "data": {
      "text/plain": [
       "['final.output.concentrate_ag',\n",
       " 'final.output.concentrate_pb',\n",
       " 'final.output.concentrate_sol',\n",
       " 'final.output.concentrate_au',\n",
       " 'final.output.recovery',\n",
       " 'final.output.tail_ag',\n",
       " 'final.output.tail_pb',\n",
       " 'final.output.tail_sol',\n",
       " 'final.output.tail_au',\n",
       " 'primary_cleaner.output.concentrate_ag',\n",
       " 'primary_cleaner.output.concentrate_pb',\n",
       " 'primary_cleaner.output.concentrate_sol',\n",
       " 'primary_cleaner.output.concentrate_au',\n",
       " 'primary_cleaner.output.tail_ag',\n",
       " 'primary_cleaner.output.tail_pb',\n",
       " 'primary_cleaner.output.tail_sol',\n",
       " 'primary_cleaner.output.tail_au',\n",
       " 'rougher.calculation.sulfate_to_au_concentrate',\n",
       " 'rougher.calculation.floatbank10_sulfate_to_au_feed',\n",
       " 'rougher.calculation.floatbank11_sulfate_to_au_feed',\n",
       " 'rougher.calculation.au_pb_ratio',\n",
       " 'rougher.output.concentrate_ag',\n",
       " 'rougher.output.concentrate_pb',\n",
       " 'rougher.output.concentrate_sol',\n",
       " 'rougher.output.concentrate_au',\n",
       " 'rougher.output.recovery',\n",
       " 'rougher.output.tail_ag',\n",
       " 'rougher.output.tail_pb',\n",
       " 'rougher.output.tail_sol',\n",
       " 'rougher.output.tail_au',\n",
       " 'secondary_cleaner.output.tail_ag',\n",
       " 'secondary_cleaner.output.tail_pb',\n",
       " 'secondary_cleaner.output.tail_sol',\n",
       " 'secondary_cleaner.output.tail_au']"
      ]
     },
     "execution_count": 195,
     "metadata": {},
     "output_type": "execute_result"
    }
   ],
   "source": [
    "train_only_feature=[]\n",
    "for i in data_train.columns:\n",
    "    if i not in data_test.columns:\n",
    "        train_only_feature.append(i)\n",
    "train_only_feature"
   ]
  },
  {
   "cell_type": "markdown",
   "metadata": {},
   "source": [
    "В тестовом датафрейме отсуствуют параметры output, то есть параметры продукта измеряемые после каждого этапа. Очевидно, что мы строим модель для того, что бы не считать эти параметры эмпирическим путем. По трейну считаем целевой признак, руководствуясь output'ами. И обучаем модель по фичам из теста, и должны получить предсказания на сырой массе сырья"
   ]
  },
  {
   "cell_type": "markdown",
   "metadata": {},
   "source": [
    "### Проверка на пропуски и предобработка данных"
   ]
  },
  {
   "cell_type": "code",
   "execution_count": 196,
   "metadata": {},
   "outputs": [
    {
     "data": {
      "text/plain": [
       "date                                          0.000000\n",
       "final.output.concentrate_ag                   0.000071\n",
       "final.output.concentrate_pb                   0.000071\n",
       "final.output.concentrate_sol                  0.014913\n",
       "final.output.concentrate_au                   0.000000\n",
       "                                                ...   \n",
       "secondary_cleaner.state.floatbank5_a_level    0.000071\n",
       "secondary_cleaner.state.floatbank5_b_air      0.000071\n",
       "secondary_cleaner.state.floatbank5_b_level    0.000071\n",
       "secondary_cleaner.state.floatbank6_a_air      0.000141\n",
       "secondary_cleaner.state.floatbank6_a_level    0.000071\n",
       "Length: 87, dtype: float64"
      ]
     },
     "execution_count": 196,
     "metadata": {},
     "output_type": "execute_result"
    }
   ],
   "source": [
    "data_train.isna().mean()"
   ]
  },
  {
   "cell_type": "markdown",
   "metadata": {},
   "source": [
    "Так как измерения идут по времени, соответсвенно пропуски можно заполнить предыдущими/последующими замерами, которые должны находиться соизмеримом интервале"
   ]
  },
  {
   "cell_type": "code",
   "execution_count": 197,
   "metadata": {},
   "outputs": [],
   "source": [
    "\n",
    "data_train=data_train.fillna(method='bfill')\n",
    "data_test=data_test.fillna(method='bfill')\n",
    "data_full=data_full.fillna(method='bfill')"
   ]
  },
  {
   "cell_type": "code",
   "execution_count": 198,
   "metadata": {},
   "outputs": [],
   "source": [
    "train_frame = data_train.dropna(subset=[\"rougher.output.recovery\",\"final.output.recovery\"],axis = 0)\n",
    "\n",
    "imputer = KNNImputer()\n",
    "without_nan = pd.DataFrame(data = imputer.fit_transform(data_train.drop(['date'],axis = 1)),\n",
    "             columns= data_train.drop(['date'],axis = 1).columns,\n",
    "             index = data_train.index)\n",
    "#data_test=data_test.drop(['date'],axis = 1)\n",
    "data_test = data_test.dropna(subset= ['date'],axis = 0)\n",
    "test_frame_for_target = data_test.merge(data_full.loc[:,['date',\"rougher.output.recovery\",\"final.output.recovery\"]],on = 'date')\n",
    "test_frame_for_target = test_frame_for_target.dropna(subset=[\"rougher.output.recovery\",\"final.output.recovery\"],axis = 0)\n",
    "data_test = test_frame_for_target.loc[:,data_test.columns]\n",
    "target_test_rougher = test_frame_for_target[\"rougher.output.recovery\"]\n",
    "target_test_final = test_frame_for_target[\"final.output.recovery\"]\n",
    "data_test = data_test.drop(\"date\",axis =1)\n",
    "imputer_test = KNNImputer()\n",
    "test_without_nan = pd.DataFrame(data = imputer_test.fit_transform(data_test),\n",
    "             columns= data_test.columns,\n",
    "             index = data_test.index)"
   ]
  },
  {
   "cell_type": "markdown",
   "metadata": {},
   "source": [
    "Пропуски заполнены"
   ]
  },
  {
   "cell_type": "markdown",
   "metadata": {},
   "source": [
    "### Проверка, что эффективность обогащения рассчитана верно"
   ]
  },
  {
   "cell_type": "code",
   "execution_count": 199,
   "metadata": {},
   "outputs": [],
   "source": [
    "data_train['recovery']=\\\n",
    "data_train['rougher.output.concentrate_au']*\\\n",
    "(data_train['rougher.input.feed_au']-data_train['rougher.output.tail_au'])/\\\n",
    "(data_train['rougher.input.feed_au']*\\\n",
    "(data_train['rougher.output.concentrate_au']-data_train['rougher.output.tail_au']))*100\n"
   ]
  },
  {
   "cell_type": "code",
   "execution_count": 200,
   "metadata": {},
   "outputs": [],
   "source": [
    "#data_train['recovery']"
   ]
  },
  {
   "cell_type": "code",
   "execution_count": 201,
   "metadata": {},
   "outputs": [
    {
     "data": {
      "text/plain": [
       "9.73512347450521e-15"
      ]
     },
     "execution_count": 201,
     "metadata": {},
     "output_type": "execute_result"
    }
   ],
   "source": [
    "mean_absolute_error(data_train['rougher.output.recovery'],data_train['recovery'])"
   ]
  },
  {
   "cell_type": "markdown",
   "metadata": {},
   "source": [
    "Ошибка минимальна, проверка выполнена"
   ]
  },
  {
   "cell_type": "markdown",
   "metadata": {},
   "source": [
    "## Анализ данных"
   ]
  },
  {
   "cell_type": "markdown",
   "metadata": {},
   "source": [
    "### Концентрации металлов"
   ]
  },
  {
   "cell_type": "code",
   "execution_count": 202,
   "metadata": {},
   "outputs": [
    {
     "name": "stdout",
     "output_type": "stream",
     "text": [
      "Концентрация металлов до флотации\n",
      "Концентрация Серебра: 8.58,Свинца: 3.51,Золота: 7.87\n",
      "\n",
      "Концентрация металлов после флотации\n",
      "Коцентрация Серебра: 11.78,Свинца: 7.66,Золота: 19.44\n",
      "\n",
      "Концентрация металлов после первичной очистки\n",
      "Концентрация Серебра: 8.20,Свинца: 9.57,Золота: 32.39\n",
      "\n",
      "Концентрация металлов поcле вторичной очистки\n",
      "Концентрация Серебра: 5.14,Свинца: 10.13,Золота: 44.00\n"
     ]
    }
   ],
   "source": [
    "print(\"Концентрация металлов до флотации\")\n",
    "print(\"Концентрация Серебра:{: 0.2f},Свинца:{: 0.2f},Золота:{: 0.2f}\".\n",
    "format(data_train[\"rougher.input.feed_ag\"].mean(),\n",
    "data_train[\"rougher.input.feed_pb\"].mean(),\n",
    "data_train[\"rougher.input.feed_au\"].mean()))\n",
    "print()\n",
    "print(\"Концентрация металлов после флотации\")\n",
    "print(\"Коцентрация Серебра:{: 0.2f},Свинца:{: 0.2f},Золота:{: 0.2f}\".\n",
    "format(data_train[\"rougher.output.concentrate_ag\"].mean(),\n",
    "data_train[\"rougher.output.concentrate_pb\"].mean(),\n",
    "data_train[\"rougher.output.concentrate_au\"].mean()))\n",
    "print()\n",
    "print(\"Концентрация металлов после первичной очистки\")\n",
    "print(\"Концентрация Серебра:{: 0.2f},Свинца:{: 0.2f},Золота:{: 0.2f}\".\n",
    "format(data_train[\"primary_cleaner.output.concentrate_ag\"].mean(),\n",
    "data_train[\"primary_cleaner.output.concentrate_pb\"].mean(),\n",
    "data_train[\"primary_cleaner.output.concentrate_au\"].mean()))\n",
    "print()\n",
    "print(\"Концентрация металлов поcле вторичной очистки\")\n",
    "print(\"Концентрация Серебра:{: 0.2f},Свинца:{: 0.2f},Золота:{: 0.2f}\".\n",
    "format(data_train[\"final.output.concentrate_ag\"].mean(),\n",
    "data_train[\"final.output.concentrate_pb\"].mean(),\n",
    "data_train[\"final.output.concentrate_au\"].mean()))"
   ]
  },
  {
   "cell_type": "code",
   "execution_count": 260,
   "metadata": {},
   "outputs": [],
   "source": [
    "h_data_au=[data_train[\"rougher.input.feed_au\"],\n",
    "data_train[\"rougher.output.concentrate_au\"],\n",
    "data_train[\"primary_cleaner.output.concentrate_au\"],\n",
    "           data_train[\"final.output.concentrate_au\"]]\n",
    "\n",
    "h_data_pb=[data_train[\"rougher.input.feed_pb\"],\n",
    "data_train[\"rougher.output.concentrate_pb\"],\n",
    "data_train[\"primary_cleaner.output.concentrate_pb\"],\n",
    "           data_train[\"final.output.concentrate_pb\"]]\n",
    "\n",
    "h_data_ag=[data_train[\"rougher.input.feed_ag\"],\n",
    "data_train[\"rougher.output.concentrate_ag\"],\n",
    "data_train[\"primary_cleaner.output.concentrate_ag\"],\n",
    "           data_train[\"final.output.concentrate_ag\"]]\n",
    "\n",
    "hists=[h_data_au,h_data_pb,h_data_ag]\n",
    "name=['rougher.input.feed', 'rougher.output.concentrate', 'primary_cleaner.output.concentrate', 'final.output.concentrate']"
   ]
  },
  {
   "cell_type": "code",
   "execution_count": 291,
   "metadata": {},
   "outputs": [
    {
     "data": {
      "image/png": "[encoded data removed]",
      "text/plain": [
       "<Figure size 720x360 with 1 Axes>"
      ]
     },
     "metadata": {
      "needs_background": "light"
     },
     "output_type": "display_data"
    },
    {
     "data": {
      "image/png": "[encoded data removed]",
      "text/plain": [
       "<Figure size 720x360 with 1 Axes>"
      ]
     },
     "metadata": {
      "needs_background": "light"
     },
     "output_type": "display_data"
    },
    {
     "data": {
      "image/png": "[encoded data removed]",
      "text/plain": [
       "<Figure size 720x360 with 1 Axes>"
      ]
     },
     "metadata": {
      "needs_background": "light"
     },
     "output_type": "display_data"
    },
    {
     "data": {
      "text/plain": [
       "<Figure size 720x360 with 0 Axes>"
      ]
     },
     "metadata": {},
     "output_type": "display_data"
    }
   ],
   "source": [
    "fig=plt.figure(figsize=(10, 5))\n",
    "ax = fig.add_subplot(111)\n",
    "element=['Золото','Свинец','Серебро']\n",
    "for i in range(len(hists)):\n",
    "    plt.hist(hists[i],alpha = 0.5,label=name)\n",
    "    plt.legend()\n",
    "    plt.xlabel(element[i])\n",
    "    plt.grid()\n",
    "    plt.show();\n",
    "    fig=plt.figure(figsize=(10, 5))\n",
    "    \n",
    "\n"
   ]
  },
  {
   "cell_type": "markdown",
   "metadata": {},
   "source": [
    "Можно заметить, что концентрация золота и свинца после очисток растет, а серебро начинает истощаться в концетрате начиная с первичной очистки"
   ]
  },
  {
   "cell_type": "markdown",
   "metadata": {},
   "source": [
    "### Размеры гранул"
   ]
  },
  {
   "cell_type": "code",
   "execution_count": 210,
   "metadata": {},
   "outputs": [
    {
     "data": {
      "image/png": "[encoded data removed]",
      "text/plain": [
       "<Figure size 432x288 with 1 Axes>"
      ]
     },
     "metadata": {
      "needs_background": "light"
     },
     "output_type": "display_data"
    }
   ],
   "source": [
    "for frame,name in zip([data_train,data_test],\n",
    "                       [\"train\",\"test\"]):\n",
    "    subset = frame[\"rougher.input.feed_size\"]\n",
    "\n",
    "    sns.distplot(subset, hist = False, kde = True,\n",
    "                 label = name)\n",
    "plt.legend(prop={'size': 10}, title = 'Выборка')\n",
    "plt.title('Размер гранул');\n",
    "plt.grid(visible=True)"
   ]
  },
  {
   "cell_type": "markdown",
   "metadata": {},
   "source": [
    "Виден, незначительный дисбаланс в выборках."
   ]
  },
  {
   "cell_type": "markdown",
   "metadata": {},
   "source": [
    "### Суммарная концентрация всех веществ на разных стадиях"
   ]
  },
  {
   "cell_type": "code",
   "execution_count": 211,
   "metadata": {},
   "outputs": [],
   "source": [
    "def summ_conc(row):\n",
    "    list_of_steps = [\"rougher\",\"primary_cleaner\",\"final\"]\n",
    "    input_feed_au = row[\"rougher.input.feed_au\"]\n",
    "    input_feed_ag = row[\"rougher.input.feed_ag\"]\n",
    "    input_feed_pb = row[\"rougher.input.feed_pb\"]\n",
    "    input_feed_sol = row[\"rougher.input.feed_sol\"]\n",
    "    out_rougher = []\n",
    "    out_primary_cleaner = []\n",
    "    out_final = []\n",
    "    list_of_arrays =[out_rougher,out_primary_cleaner,out_final]\n",
    "    for step,array in zip(list_of_steps,list_of_arrays):\n",
    "        array.append(row[step+\".output.concentrate_au\"])\n",
    "        array.append(row[step+\".output.concentrate_ag\"])\n",
    "        array.append(row[step+\".output.concentrate_pb\"])\n",
    "        array.append(row[step+\".output.concentrate_sol\"])\n",
    "    sum_before_steps = input_feed_ag+input_feed_au+input_feed_pb+input_feed_sol\n",
    "    sum_rougher = sum(out_rougher)\n",
    "    sum_primary = sum(out_primary_cleaner)\n",
    "    sum_final = sum(out_final)\n",
    "    return pd.Series([sum_before_steps,sum_rougher,sum_primary,sum_final])\n",
    "    "
   ]
  },
  {
   "cell_type": "code",
   "execution_count": 212,
   "metadata": {},
   "outputs": [],
   "source": [
    "summ = data_train.apply(summ_conc,axis = 1)\n",
    "summ.columns = [\"before_rougher\",\"rougher\",\"primary_cleaner\",\"final\"]"
   ]
  },
  {
   "cell_type": "markdown",
   "metadata": {},
   "source": [
    "Построю распределение"
   ]
  },
  {
   "cell_type": "code",
   "execution_count": 213,
   "metadata": {},
   "outputs": [
    {
     "data": {
      "image/png": "[encoded data removed]",
      "text/plain": [
       "<Figure size 720x1440 with 4 Axes>"
      ]
     },
     "metadata": {
      "needs_background": "light"
     },
     "output_type": "display_data"
    }
   ],
   "source": [
    "fig,ax = plt.subplots(4,1,figsize = (10,20))\n",
    "\n",
    "ax[0].hist(summ[\"before_rougher\"],bins = 40)\n",
    "ax[1].hist(summ[\"rougher\"],bins = 40)\n",
    "ax[2].hist(summ[\"primary_cleaner\"],bins = 40)\n",
    "ax[3].hist(summ[\"final\"],bins = 40)\n",
    "ax[0].set_xlabel(\"Сумма долей компонентов\")\n",
    "ax[1].set_xlabel(\"Сумма долей компонентов\")\n",
    "ax[2].set_xlabel(\"Сумма долей компонентов\")\n",
    "ax[3].set_xlabel(\"Сумма долей компонентов\")\n",
    "ax[0].set_title(\"Концентрация компонентов до флотации\")\n",
    "ax[1].set_title(\"Концентрация компонентов после флотации\")\n",
    "ax[2].set_title(\"Концентрация компонентов после первичной очистки\")\n",
    "ax[3].set_title(\"Концентрация компонентов после финального этапа\")\n",
    "ax[0].grid()\n",
    "ax[1].grid()\n",
    "ax[2].grid()\n",
    "ax[3].grid()\n",
    "plt.show()"
   ]
  },
  {
   "cell_type": "markdown",
   "metadata": {},
   "source": [
    "Видно, что во всех распределениях присутствует пик около нулевого значения. Он далек от общего распределения, это выброс и его следует удалить. Так же это стоит проделать и в тестовой выборке."
   ]
  },
  {
   "cell_type": "code",
   "execution_count": 214,
   "metadata": {},
   "outputs": [],
   "source": [
    "data_train = data_train.drop(index = data_train[data_train[\"rougher.input.feed_au\"] < 1].index,\n",
    "                               axis = 0)\n",
    "data_train = data_train.drop(index = data_train[data_train[\"rougher.input.feed_ag\"] < 1].index,\n",
    "                               axis = 0)\n",
    "data_train = data_train.drop(index = data_train[data_train[\"rougher.input.feed_pb\"] < 1].index,\n",
    "                               axis = 0)\n",
    "data_train = data_train.drop(index = data_train[data_train[\"rougher.input.feed_sol\"] < 1].index,\n",
    "                               axis = 0)\n",
    "\n",
    "\n",
    "data_train = data_train.drop(index = data_train[data_train[\"rougher.output.concentrate_au\"] < 1].index,\n",
    "                               axis = 0)\n",
    "data_train = data_train.drop(index = data_train[data_train[\"rougher.output.concentrate_ag\"] < 1].index,\n",
    "                               axis = 0)\n",
    "data_train = data_train.drop(index = data_train[data_train[\"rougher.output.concentrate_pb\"] < 1].index,\n",
    "                               axis = 0)\n",
    "data_train = data_train.drop(index = data_train[data_train[\"rougher.output.concentrate_sol\"] < 1].index,\n",
    "                               axis = 0)\n",
    "\n",
    "data_train = data_train.drop(index = data_train[data_train[\"primary_cleaner.output.concentrate_au\"] < 1].index,\n",
    "                               axis = 0)\n",
    "data_train = data_train.drop(index = data_train[data_train[\"primary_cleaner.output.concentrate_ag\"] < 1].index,\n",
    "                               axis = 0)\n",
    "data_train = data_train.drop(index = data_train[data_train[\"primary_cleaner.output.concentrate_pb\"] < 1].index,\n",
    "                               axis = 0)\n",
    "data_train = data_train.drop(index = data_train[data_train[\"primary_cleaner.output.concentrate_sol\"] < 1].index,\n",
    "                               axis = 0)\n",
    "\n",
    "data_train = data_train.drop(index = data_train[data_train[\"final.output.concentrate_au\"] < 1].index,\n",
    "                               axis = 0)\n",
    "data_train = data_train.drop(index = data_train[data_train[\"final.output.concentrate_ag\"] < 1].index,\n",
    "                               axis = 0)\n",
    "data_train = data_train.drop(index = data_train[data_train[\"final.output.concentrate_pb\"] < 1].index,\n",
    "                               axis = 0)\n",
    "data_train = data_train.drop(index = data_train[data_train[\"final.output.concentrate_sol\"] < 1].index,\n",
    "                               axis = 0)"
   ]
  },
  {
   "cell_type": "code",
   "execution_count": 215,
   "metadata": {},
   "outputs": [],
   "source": [
    "summ = data_train.apply(summ_conc,axis = 1)\n",
    "summ.columns = [\"before_rougher\",\"rougher\",\"primary_cleaner\",\"final\"]"
   ]
  },
  {
   "cell_type": "code",
   "execution_count": 216,
   "metadata": {},
   "outputs": [
    {
     "data": {
      "image/png": "[encoded data removed]",
      "text/plain": [
       "<Figure size 720x1440 with 4 Axes>"
      ]
     },
     "metadata": {
      "needs_background": "light"
     },
     "output_type": "display_data"
    }
   ],
   "source": [
    "fig,ax = plt.subplots(4,1,figsize = (10,20))\n",
    "\n",
    "ax[0].hist(summ[\"before_rougher\"],bins = 40)\n",
    "ax[1].hist(summ[\"rougher\"],bins = 40)\n",
    "ax[2].hist(summ[\"primary_cleaner\"],bins = 40)\n",
    "ax[3].hist(summ[\"final\"],bins = 40)\n",
    "ax[0].set_xlabel(\"Сумма долей компонентов\")\n",
    "ax[1].set_xlabel(\"Сумма долей компонентов\")\n",
    "ax[2].set_xlabel(\"Сумма долей компонентов\")\n",
    "ax[3].set_xlabel(\"Сумма долей компонентов\")\n",
    "ax[0].set_title(\"Концентрация компонентов до флотации\")\n",
    "ax[1].set_title(\"Концентрация компонентов после флотации\")\n",
    "ax[2].set_title(\"Концентрация компонентов после первичной очистки\")\n",
    "ax[3].set_title(\"Концентрация компонентов после финального этапа\")\n",
    "ax[0].grid()\n",
    "ax[1].grid()\n",
    "ax[2].grid()\n",
    "ax[3].grid()\n",
    "plt.show()"
   ]
  },
  {
   "cell_type": "markdown",
   "metadata": {},
   "source": [
    "Уберу выбросы в тетсе"
   ]
  },
  {
   "cell_type": "code",
   "execution_count": 217,
   "metadata": {},
   "outputs": [],
   "source": [
    "data_test = data_test.drop(index = data_test[data_test[\"rougher.input.feed_au\"] < 1].index,\n",
    "                               axis = 0)\n",
    "data_test = data_test.drop(index = data_test[data_test[\"rougher.input.feed_ag\"] < 1].index,\n",
    "                               axis = 0)\n",
    "data_test = data_test.drop(index = data_test[data_test[\"rougher.input.feed_pb\"] < 1].index,\n",
    "                               axis = 0)\n",
    "data_test = data_test.drop(index = data_test[data_test[\"rougher.input.feed_sol\"] < 1].index,\n",
    "                               axis = 0)"
   ]
  },
  {
   "cell_type": "code",
   "execution_count": 218,
   "metadata": {},
   "outputs": [],
   "source": [
    "train_features_dataset_rougher = without_nan.loc[:,data_test.columns]\n",
    "train_target_dataset_rougher = without_nan['rougher.output.recovery']\n",
    "train_features_dataset_final = train_features_dataset_rougher \n",
    "train_target_dataset_final = without_nan['final.output.recovery']"
   ]
  },
  {
   "cell_type": "code",
   "execution_count": 219,
   "metadata": {},
   "outputs": [
    {
     "data": {
      "text/plain": [
       "0        87.107763\n",
       "1        86.843261\n",
       "2        86.842308\n",
       "3        87.226430\n",
       "4        86.688794\n",
       "           ...    \n",
       "14144    89.574376\n",
       "14145    87.724007\n",
       "14146    88.890579\n",
       "14147    89.858126\n",
       "14148    89.514960\n",
       "Name: rougher.output.recovery, Length: 14149, dtype: float64"
      ]
     },
     "execution_count": 219,
     "metadata": {},
     "output_type": "execute_result"
    }
   ],
   "source": [
    "train_target_dataset_rougher"
   ]
  },
  {
   "cell_type": "markdown",
   "metadata": {},
   "source": [
    "## Модель"
   ]
  },
  {
   "cell_type": "markdown",
   "metadata": {},
   "source": [
    "Выделю фичи и таргеты "
   ]
  },
  {
   "cell_type": "code",
   "execution_count": 220,
   "metadata": {},
   "outputs": [],
   "source": [
    "train_features_dataset_rougher = data_train.loc[:,data_test.columns]\n",
    "train_target_dataset_rougher = data_train['rougher.output.recovery']\n",
    "train_features_dataset_final = train_features_dataset_rougher \n",
    "train_target_dataset_final = data_train['final.output.recovery']"
   ]
  },
  {
   "cell_type": "markdown",
   "metadata": {},
   "source": [
    "### Инициализирую метрики по заданию"
   ]
  },
  {
   "cell_type": "code",
   "execution_count": 222,
   "metadata": {},
   "outputs": [],
   "source": [
    "def sMAPE(y_true,y_pred):\n",
    "    error = np.mean(abs(y_true - y_pred)/((abs(y_true)+abs(y_pred))/2))*100\n",
    "    return error"
   ]
  },
  {
   "cell_type": "code",
   "execution_count": 223,
   "metadata": {},
   "outputs": [],
   "source": [
    "def final_sMAPE(sMAPE_rougher,sMAPE_final):\n",
    "    return (0.25*sMAPE_rougher + 0.75*sMAPE_final)"
   ]
  },
  {
   "cell_type": "code",
   "execution_count": 224,
   "metadata": {},
   "outputs": [],
   "source": [
    "my_score = make_scorer(sMAPE,greater_is_better=False)"
   ]
  },
  {
   "cell_type": "markdown",
   "metadata": {},
   "source": [
    "### Обучение"
   ]
  },
  {
   "cell_type": "code",
   "execution_count": 225,
   "metadata": {},
   "outputs": [],
   "source": [
    "model = make_pipeline(StandardScaler(),RandomForestRegressor())\n",
    "model2 = make_pipeline(StandardScaler(),DecisionTreeRegressor())"
   ]
  },
  {
   "cell_type": "code",
   "execution_count": 226,
   "metadata": {},
   "outputs": [],
   "source": [
    "params_RF = {\"randomforestregressor__n_estimators\":[5,100],\n",
    "             \"randomforestregressor__max_depth\":[1,10]}\n",
    "params_DT= {\"decisiontreeregressor__max_depth\":[1,10]}\n",
    "grid_rougher = GridSearchCV(model,param_grid = params_RF,scoring=my_score)\n",
    "grid_final = GridSearchCV(model,param_grid = params_RF,scoring=my_score)\n",
    "grid_rougher_DT = GridSearchCV(model2,param_grid = params_DT,scoring=my_score)\n",
    "grid_final_DT = GridSearchCV(model2,param_grid = params_DT,scoring=my_score)"
   ]
  },
  {
   "cell_type": "code",
   "execution_count": 227,
   "metadata": {},
   "outputs": [
    {
     "data": {
      "text/plain": [
       "primary_cleaner.input.sulfate                 0\n",
       "primary_cleaner.input.depressant              0\n",
       "primary_cleaner.input.feed_size               0\n",
       "primary_cleaner.input.xanthate                0\n",
       "primary_cleaner.state.floatbank8_a_air        0\n",
       "primary_cleaner.state.floatbank8_a_level      0\n",
       "primary_cleaner.state.floatbank8_b_air        0\n",
       "primary_cleaner.state.floatbank8_b_level      0\n",
       "primary_cleaner.state.floatbank8_c_air        0\n",
       "primary_cleaner.state.floatbank8_c_level      0\n",
       "primary_cleaner.state.floatbank8_d_air        0\n",
       "primary_cleaner.state.floatbank8_d_level      0\n",
       "rougher.input.feed_ag                         0\n",
       "rougher.input.feed_pb                         0\n",
       "rougher.input.feed_rate                       0\n",
       "rougher.input.feed_size                       0\n",
       "rougher.input.feed_sol                        0\n",
       "rougher.input.feed_au                         0\n",
       "rougher.input.floatbank10_sulfate             0\n",
       "rougher.input.floatbank10_xanthate            0\n",
       "rougher.input.floatbank11_sulfate             0\n",
       "rougher.input.floatbank11_xanthate            0\n",
       "rougher.state.floatbank10_a_air               0\n",
       "rougher.state.floatbank10_a_level             0\n",
       "rougher.state.floatbank10_b_air               0\n",
       "rougher.state.floatbank10_b_level             0\n",
       "rougher.state.floatbank10_c_air               0\n",
       "rougher.state.floatbank10_c_level             0\n",
       "rougher.state.floatbank10_d_air               0\n",
       "rougher.state.floatbank10_d_level             0\n",
       "rougher.state.floatbank10_e_air               0\n",
       "rougher.state.floatbank10_e_level             0\n",
       "rougher.state.floatbank10_f_air               0\n",
       "rougher.state.floatbank10_f_level             0\n",
       "secondary_cleaner.state.floatbank2_a_air      0\n",
       "secondary_cleaner.state.floatbank2_a_level    0\n",
       "secondary_cleaner.state.floatbank2_b_air      0\n",
       "secondary_cleaner.state.floatbank2_b_level    0\n",
       "secondary_cleaner.state.floatbank3_a_air      0\n",
       "secondary_cleaner.state.floatbank3_a_level    0\n",
       "secondary_cleaner.state.floatbank3_b_air      0\n",
       "secondary_cleaner.state.floatbank3_b_level    0\n",
       "secondary_cleaner.state.floatbank4_a_air      0\n",
       "secondary_cleaner.state.floatbank4_a_level    0\n",
       "secondary_cleaner.state.floatbank4_b_air      0\n",
       "secondary_cleaner.state.floatbank4_b_level    0\n",
       "secondary_cleaner.state.floatbank5_a_air      0\n",
       "secondary_cleaner.state.floatbank5_a_level    0\n",
       "secondary_cleaner.state.floatbank5_b_air      0\n",
       "secondary_cleaner.state.floatbank5_b_level    0\n",
       "secondary_cleaner.state.floatbank6_a_air      0\n",
       "secondary_cleaner.state.floatbank6_a_level    0\n",
       "dtype: int64"
      ]
     },
     "execution_count": 227,
     "metadata": {},
     "output_type": "execute_result"
    }
   ],
   "source": [
    "train_features_dataset_rougher.isna().sum()"
   ]
  },
  {
   "cell_type": "code",
   "execution_count": 228,
   "metadata": {},
   "outputs": [
    {
     "data": {
      "text/plain": [
       "0        87.107763\n",
       "1        86.843261\n",
       "2        86.842308\n",
       "3        87.226430\n",
       "4        86.688794\n",
       "           ...    \n",
       "14144    89.574376\n",
       "14145    87.724007\n",
       "14146    88.890579\n",
       "14147    89.858126\n",
       "14148    89.514960\n",
       "Name: rougher.output.recovery, Length: 13323, dtype: float64"
      ]
     },
     "execution_count": 228,
     "metadata": {},
     "output_type": "execute_result"
    }
   ],
   "source": [
    "train_target_dataset_rougher"
   ]
  },
  {
   "cell_type": "code",
   "execution_count": 229,
   "metadata": {},
   "outputs": [
    {
     "data": {
      "text/plain": [
       "GridSearchCV(estimator=Pipeline(steps=[('standardscaler', StandardScaler()),\n",
       "                                       ('decisiontreeregressor',\n",
       "                                        DecisionTreeRegressor())]),\n",
       "             param_grid={'decisiontreeregressor__max_depth': [1, 10]},\n",
       "             scoring=make_scorer(sMAPE, greater_is_better=False))"
      ]
     },
     "execution_count": 229,
     "metadata": {},
     "output_type": "execute_result"
    }
   ],
   "source": [
    "grid_rougher.fit(train_features_dataset_rougher,train_target_dataset_rougher)\n",
    "grid_final.fit(train_features_dataset_final,train_target_dataset_final)\n",
    "grid_rougher_DT.fit(train_features_dataset_rougher,train_target_dataset_rougher)\n",
    "grid_final_DT.fit(train_features_dataset_final,train_target_dataset_final)"
   ]
  },
  {
   "cell_type": "code",
   "execution_count": 230,
   "metadata": {},
   "outputs": [
    {
     "name": "stdout",
     "output_type": "stream",
     "text": [
      "Лучшие модели\n",
      "Pipeline(steps=[('standardscaler', StandardScaler()),\n",
      "                ('randomforestregressor', RandomForestRegressor(max_depth=10))])\n",
      "Pipeline(steps=[('standardscaler', StandardScaler()),\n",
      "                ('randomforestregressor', RandomForestRegressor(max_depth=10))])\n",
      "Pipeline(steps=[('standardscaler', StandardScaler()),\n",
      "                ('decisiontreeregressor', DecisionTreeRegressor(max_depth=1))])\n",
      "Pipeline(steps=[('standardscaler', StandardScaler()),\n",
      "                ('decisiontreeregressor', DecisionTreeRegressor(max_depth=1))])\n"
     ]
    }
   ],
   "source": [
    "print(\"Лучшие модели\")\n",
    "print(grid_rougher.best_estimator_)\n",
    "print(grid_rougher.best_estimator_)\n",
    "print(grid_rougher_DT.best_estimator_)\n",
    "print(grid_final_DT.best_estimator_)"
   ]
  },
  {
   "cell_type": "code",
   "execution_count": 231,
   "metadata": {},
   "outputs": [],
   "source": [
    "best_score_rougher = grid_rougher.best_score_\n",
    "best_score_final = grid_final.best_score_\n",
    "best_score_rougher_DT = grid_rougher_DT.best_score_\n",
    "best_score_final_DT = grid_final_DT.best_score_"
   ]
  },
  {
   "cell_type": "markdown",
   "metadata": {},
   "source": [
    "Топ модель"
   ]
  },
  {
   "cell_type": "code",
   "execution_count": 232,
   "metadata": {},
   "outputs": [
    {
     "name": "stdout",
     "output_type": "stream",
     "text": [
      "rougher\n",
      "RandomForest -6.740341577251362 DecisionTree -7.7896651811057795\n",
      "final\n",
      "RandomForest -9.15969513652236 DecisionTree -9.205603540291179\n"
     ]
    }
   ],
   "source": [
    "print(\"rougher\")\n",
    "print(\"RandomForest\",best_score_rougher,\"DecisionTree\",best_score_rougher_DT)\n",
    "print(\"final\")\n",
    "print(\"RandomForest\",best_score_final,\"DecisionTree\",best_score_final_DT)"
   ]
  },
  {
   "cell_type": "markdown",
   "metadata": {},
   "source": [
    "Рандомный лес имеет меньшую ошибку"
   ]
  },
  {
   "cell_type": "markdown",
   "metadata": {},
   "source": [
    "### Проверяем результаты на лучшей модели"
   ]
  },
  {
   "cell_type": "code",
   "execution_count": 233,
   "metadata": {},
   "outputs": [
    {
     "data": {
      "text/plain": [
       "-8.554856746704612"
      ]
     },
     "execution_count": 233,
     "metadata": {},
     "output_type": "execute_result"
    }
   ],
   "source": [
    "final_sMAPE(best_score_rougher,best_score_final)"
   ]
  },
  {
   "cell_type": "code",
   "execution_count": 234,
   "metadata": {},
   "outputs": [
    {
     "data": {
      "text/plain": [
       "-8.85161895049483"
      ]
     },
     "execution_count": 234,
     "metadata": {},
     "output_type": "execute_result"
    }
   ],
   "source": [
    "final_sMAPE(best_score_rougher_DT,best_score_final_DT)"
   ]
  },
  {
   "cell_type": "code",
   "execution_count": 235,
   "metadata": {},
   "outputs": [],
   "source": [
    "#data_test=data_test.drop('date',axis=1)"
   ]
  },
  {
   "cell_type": "code",
   "execution_count": 236,
   "metadata": {},
   "outputs": [],
   "source": [
    "rogher_test = grid_rougher.predict(test_without_nan)\n",
    "final_test = grid_final.predict(test_without_nan)"
   ]
  },
  {
   "cell_type": "markdown",
   "metadata": {},
   "source": [
    "Итоговая ошибка"
   ]
  },
  {
   "cell_type": "code",
   "execution_count": 237,
   "metadata": {},
   "outputs": [
    {
     "data": {
      "text/plain": [
       "9.209102439639253"
      ]
     },
     "execution_count": 237,
     "metadata": {},
     "output_type": "execute_result"
    }
   ],
   "source": [
    "\n",
    "final_sMAPE(sMAPE(target_test_rougher,rogher_test),sMAPE(target_test_final,final_test))"
   ]
  },
  {
   "cell_type": "markdown",
   "metadata": {},
   "source": [
    "Протестирую baseline"
   ]
  },
  {
   "cell_type": "code",
   "execution_count": 238,
   "metadata": {},
   "outputs": [
    {
     "data": {
      "text/plain": [
       "DummyRegressor(strategy='median')"
      ]
     },
     "execution_count": 238,
     "metadata": {},
     "output_type": "execute_result"
    }
   ],
   "source": [
    "base = DummyRegressor(strategy=\"median\")\n",
    "base_final = DummyRegressor(strategy=\"median\")\n",
    "base.fit(train_features_dataset_rougher,train_target_dataset_rougher)\n",
    "base_final.fit(train_features_dataset_final,train_target_dataset_final)"
   ]
  },
  {
   "cell_type": "code",
   "execution_count": 239,
   "metadata": {},
   "outputs": [
    {
     "data": {
      "text/plain": [
       "9.423288652412822"
      ]
     },
     "execution_count": 239,
     "metadata": {},
     "output_type": "execute_result"
    }
   ],
   "source": [
    "base_rougher = base.predict(test_without_nan)\n",
    "base_final_pred = base_final.predict(test_without_nan)\n",
    "final_sMAPE(sMAPE(target_test_rougher,base_rougher),sMAPE(target_test_final,base_final_pred))\n"
   ]
  },
  {
   "cell_type": "markdown",
   "metadata": {},
   "source": [
    "Имеем адекватную ошибку полученню по sMAPE. Она меньше чем у baseline, что подтверждает ее адекавтность."
   ]
  },
  {
   "cell_type": "markdown",
   "metadata": {},
   "source": [
    "# Вывод"
   ]
  },
  {
   "cell_type": "markdown",
   "metadata": {},
   "source": [
    "В проекте был проанализирован тех процесс обработки золотой руды. Была обучена модель для предсказания коэффициента восстановления золота из золотосодержащей руды.\n",
    "Итоговая модель построена на моделе RandomForest, Ошибка на тестовой выборке: 9.17.\n",
    "Параметр recovery в тренировочной выборке был рассчитан верно.\n"
   ]
  }
 ],
 "metadata": {
  "ExecuteTimeLog": [
   {
    "duration": 793,
    "start_time": "2022-12-29T08:33:34.604Z"
   },
   {
    "duration": 3120,
    "start_time": "2022-12-29T08:35:27.164Z"
   },
   {
    "duration": 30,
    "start_time": "2022-12-29T08:35:34.538Z"
   },
   {
    "duration": 18,
    "start_time": "2022-12-29T08:35:59.609Z"
   },
   {
    "duration": 30,
    "start_time": "2022-12-29T08:36:05.687Z"
   },
   {
    "duration": 19,
    "start_time": "2022-12-29T08:36:10.210Z"
   },
   {
    "duration": 20,
    "start_time": "2022-12-29T08:37:59.524Z"
   },
   {
    "duration": 6,
    "start_time": "2022-12-29T08:40:54.300Z"
   },
   {
    "duration": 6,
    "start_time": "2022-12-29T08:42:39.023Z"
   },
   {
    "duration": 4,
    "start_time": "2022-12-29T08:43:02.051Z"
   },
   {
    "duration": 5,
    "start_time": "2022-12-29T09:06:51.427Z"
   },
   {
    "duration": 5,
    "start_time": "2022-12-29T09:07:04.887Z"
   },
   {
    "duration": 1030,
    "start_time": "2022-12-29T09:19:55.484Z"
   },
   {
    "duration": 3,
    "start_time": "2022-12-29T09:21:03.661Z"
   },
   {
    "duration": 6,
    "start_time": "2022-12-29T09:22:03.249Z"
   },
   {
    "duration": 6,
    "start_time": "2022-12-29T09:22:10.734Z"
   },
   {
    "duration": 571,
    "start_time": "2022-12-29T09:25:26.638Z"
   },
   {
    "duration": 56,
    "start_time": "2022-12-29T09:25:53.579Z"
   },
   {
    "duration": 8,
    "start_time": "2022-12-29T09:26:06.392Z"
   },
   {
    "duration": 10,
    "start_time": "2022-12-29T09:26:42.633Z"
   },
   {
    "duration": 9,
    "start_time": "2022-12-29T09:27:02.977Z"
   },
   {
    "duration": 45,
    "start_time": "2022-12-29T09:32:19.367Z"
   },
   {
    "duration": 16,
    "start_time": "2022-12-29T09:32:32.528Z"
   },
   {
    "duration": 23,
    "start_time": "2022-12-29T09:33:26.527Z"
   },
   {
    "duration": 5,
    "start_time": "2022-12-29T09:33:29.260Z"
   },
   {
    "duration": 6,
    "start_time": "2022-12-29T09:33:31.881Z"
   },
   {
    "duration": 5,
    "start_time": "2022-12-29T09:33:35.345Z"
   },
   {
    "duration": 8,
    "start_time": "2022-12-29T09:35:15.386Z"
   },
   {
    "duration": 46,
    "start_time": "2022-12-30T07:37:50.287Z"
   },
   {
    "duration": 1454,
    "start_time": "2022-12-30T07:38:02.205Z"
   },
   {
    "duration": 3010,
    "start_time": "2022-12-30T07:38:03.661Z"
   },
   {
    "duration": 23,
    "start_time": "2022-12-30T07:38:06.673Z"
   },
   {
    "duration": 18,
    "start_time": "2022-12-30T07:38:06.698Z"
   },
   {
    "duration": 19,
    "start_time": "2022-12-30T07:38:06.718Z"
   },
   {
    "duration": 10,
    "start_time": "2022-12-30T07:38:06.739Z"
   },
   {
    "duration": 13,
    "start_time": "2022-12-30T07:38:06.750Z"
   },
   {
    "duration": 17,
    "start_time": "2022-12-30T07:38:06.764Z"
   },
   {
    "duration": 28,
    "start_time": "2022-12-30T07:38:06.782Z"
   },
   {
    "duration": 15,
    "start_time": "2022-12-30T07:38:06.812Z"
   },
   {
    "duration": 5,
    "start_time": "2022-12-30T07:38:06.828Z"
   },
   {
    "duration": 23,
    "start_time": "2022-12-30T07:38:06.835Z"
   },
   {
    "duration": 5,
    "start_time": "2022-12-30T07:38:06.859Z"
   },
   {
    "duration": 12,
    "start_time": "2022-12-30T07:38:06.866Z"
   },
   {
    "duration": 6,
    "start_time": "2022-12-30T07:39:19.077Z"
   },
   {
    "duration": 4,
    "start_time": "2022-12-30T07:42:15.288Z"
   },
   {
    "duration": 302,
    "start_time": "2022-12-30T07:43:05.274Z"
   },
   {
    "duration": 3,
    "start_time": "2022-12-30T07:43:09.537Z"
   },
   {
    "duration": 301,
    "start_time": "2022-12-30T07:43:11.431Z"
   },
   {
    "duration": 233,
    "start_time": "2022-12-30T07:43:19.661Z"
   },
   {
    "duration": 3,
    "start_time": "2022-12-30T07:44:09.137Z"
   },
   {
    "duration": 228,
    "start_time": "2022-12-30T07:44:09.533Z"
   },
   {
    "duration": 6,
    "start_time": "2022-12-30T07:44:46.548Z"
   },
   {
    "duration": 5,
    "start_time": "2022-12-30T07:45:44.116Z"
   },
   {
    "duration": 5,
    "start_time": "2022-12-30T07:45:46.180Z"
   },
   {
    "duration": 5,
    "start_time": "2022-12-30T07:45:51.227Z"
   },
   {
    "duration": 5,
    "start_time": "2022-12-30T07:46:00.217Z"
   },
   {
    "duration": 5,
    "start_time": "2022-12-30T07:46:00.557Z"
   },
   {
    "duration": 5,
    "start_time": "2022-12-30T07:46:01.185Z"
   },
   {
    "duration": 1564,
    "start_time": "2023-01-05T10:48:21.653Z"
   },
   {
    "duration": 2932,
    "start_time": "2023-01-05T10:48:23.219Z"
   },
   {
    "duration": 25,
    "start_time": "2023-01-05T10:48:26.153Z"
   },
   {
    "duration": 23,
    "start_time": "2023-01-05T10:48:26.180Z"
   },
   {
    "duration": 39,
    "start_time": "2023-01-05T10:48:26.204Z"
   },
   {
    "duration": 29,
    "start_time": "2023-01-05T10:48:26.245Z"
   },
   {
    "duration": 16,
    "start_time": "2023-01-05T10:48:26.275Z"
   },
   {
    "duration": 26,
    "start_time": "2023-01-05T10:48:26.293Z"
   },
   {
    "duration": 29,
    "start_time": "2023-01-05T10:48:26.321Z"
   },
   {
    "duration": 9,
    "start_time": "2023-01-05T10:48:26.353Z"
   },
   {
    "duration": 7,
    "start_time": "2023-01-05T10:48:26.363Z"
   },
   {
    "duration": 13,
    "start_time": "2023-01-05T10:48:26.371Z"
   },
   {
    "duration": 23,
    "start_time": "2023-01-05T10:48:26.386Z"
   },
   {
    "duration": 2,
    "start_time": "2023-01-05T10:48:34.637Z"
   },
   {
    "duration": 6,
    "start_time": "2023-01-05T10:49:32.782Z"
   },
   {
    "duration": 5,
    "start_time": "2023-01-05T10:49:37.922Z"
   },
   {
    "duration": 4,
    "start_time": "2023-01-05T10:50:30.659Z"
   },
   {
    "duration": 12,
    "start_time": "2023-01-05T10:51:40.707Z"
   },
   {
    "duration": 117,
    "start_time": "2023-01-05T10:54:43.960Z"
   },
   {
    "duration": 114,
    "start_time": "2023-01-05T10:55:58.948Z"
   },
   {
    "duration": 458,
    "start_time": "2023-01-05T10:56:02.236Z"
   },
   {
    "duration": 370,
    "start_time": "2023-01-05T10:56:16.856Z"
   },
   {
    "duration": 425,
    "start_time": "2023-01-05T10:56:22.704Z"
   },
   {
    "duration": 436,
    "start_time": "2023-01-05T10:58:34.294Z"
   },
   {
    "duration": 370,
    "start_time": "2023-01-05T11:00:06.081Z"
   },
   {
    "duration": 22,
    "start_time": "2023-01-05T11:01:06.146Z"
   },
   {
    "duration": 438,
    "start_time": "2023-01-05T11:01:09.809Z"
   },
   {
    "duration": 490,
    "start_time": "2023-01-05T11:01:21.202Z"
   },
   {
    "duration": 394,
    "start_time": "2023-01-05T11:04:24.191Z"
   },
   {
    "duration": 6,
    "start_time": "2023-01-05T11:06:45.821Z"
   },
   {
    "duration": 5,
    "start_time": "2023-01-05T11:07:09.213Z"
   },
   {
    "duration": 3108,
    "start_time": "2023-01-05T11:07:45.384Z"
   },
   {
    "duration": 11,
    "start_time": "2023-01-05T11:07:52.148Z"
   },
   {
    "duration": 311,
    "start_time": "2023-01-05T11:09:24.352Z"
   },
   {
    "duration": 2895,
    "start_time": "2023-01-05T11:09:44.969Z"
   },
   {
    "duration": 759,
    "start_time": "2023-01-05T11:09:56.295Z"
   },
   {
    "duration": 645,
    "start_time": "2023-01-05T11:10:15.209Z"
   },
   {
    "duration": 702,
    "start_time": "2023-01-05T11:11:22.140Z"
   },
   {
    "duration": 808,
    "start_time": "2023-01-05T11:11:54.868Z"
   },
   {
    "duration": 52,
    "start_time": "2023-01-05T11:15:36.253Z"
   },
   {
    "duration": 65,
    "start_time": "2023-01-05T11:15:53.060Z"
   },
   {
    "duration": 682,
    "start_time": "2023-01-05T11:15:55.300Z"
   },
   {
    "duration": 55,
    "start_time": "2023-01-05T11:18:45.114Z"
   },
   {
    "duration": 645,
    "start_time": "2023-01-05T11:18:48.041Z"
   },
   {
    "duration": 2651,
    "start_time": "2023-01-05T11:19:34.347Z"
   },
   {
    "duration": 639,
    "start_time": "2023-01-05T11:19:37.000Z"
   },
   {
    "duration": 65,
    "start_time": "2023-01-05T11:19:52.791Z"
   },
   {
    "duration": 2734,
    "start_time": "2023-01-05T11:19:55.161Z"
   },
   {
    "duration": 788,
    "start_time": "2023-01-05T11:19:57.897Z"
   },
   {
    "duration": 12,
    "start_time": "2023-01-05T11:21:31.897Z"
   },
   {
    "duration": 10,
    "start_time": "2023-01-05T11:23:12.749Z"
   },
   {
    "duration": 6,
    "start_time": "2023-01-05T11:23:32.349Z"
   },
   {
    "duration": 3,
    "start_time": "2023-01-05T11:24:09.479Z"
   },
   {
    "duration": 3,
    "start_time": "2023-01-05T11:24:21.621Z"
   },
   {
    "duration": 3,
    "start_time": "2023-01-05T11:24:31.822Z"
   },
   {
    "duration": 3,
    "start_time": "2023-01-05T11:25:19.514Z"
   },
   {
    "duration": 13,
    "start_time": "2023-01-05T11:26:12.649Z"
   },
   {
    "duration": 3,
    "start_time": "2023-01-05T11:26:17.511Z"
   },
   {
    "duration": 6,
    "start_time": "2023-01-05T11:26:19.022Z"
   },
   {
    "duration": 531,
    "start_time": "2023-01-05T11:26:33.741Z"
   },
   {
    "duration": 7,
    "start_time": "2023-01-05T11:26:51.548Z"
   },
   {
    "duration": 604,
    "start_time": "2023-01-05T11:27:12.065Z"
   },
   {
    "duration": 4,
    "start_time": "2023-01-05T11:40:27.572Z"
   },
   {
    "duration": 537,
    "start_time": "2023-01-05T11:40:28.234Z"
   },
   {
    "duration": 29,
    "start_time": "2023-01-05T11:40:58.945Z"
   },
   {
    "duration": 5,
    "start_time": "2023-01-05T11:41:20.197Z"
   },
   {
    "duration": 15,
    "start_time": "2023-01-05T11:41:24.464Z"
   },
   {
    "duration": 27,
    "start_time": "2023-01-05T11:41:34.196Z"
   },
   {
    "duration": 14,
    "start_time": "2023-01-05T11:41:58.481Z"
   },
   {
    "duration": 6,
    "start_time": "2023-01-05T11:42:19.157Z"
   },
   {
    "duration": 5,
    "start_time": "2023-01-05T11:42:26.580Z"
   },
   {
    "duration": 777,
    "start_time": "2023-01-05T11:42:26.587Z"
   },
   {
    "duration": 24,
    "start_time": "2023-01-05T11:42:27.366Z"
   },
   {
    "duration": 34,
    "start_time": "2023-01-05T11:42:27.391Z"
   },
   {
    "duration": 28,
    "start_time": "2023-01-05T11:42:27.435Z"
   },
   {
    "duration": 30,
    "start_time": "2023-01-05T11:42:27.466Z"
   },
   {
    "duration": 27,
    "start_time": "2023-01-05T11:42:27.499Z"
   },
   {
    "duration": 25,
    "start_time": "2023-01-05T11:42:27.528Z"
   },
   {
    "duration": 35,
    "start_time": "2023-01-05T11:42:27.554Z"
   },
   {
    "duration": 10,
    "start_time": "2023-01-05T11:42:27.591Z"
   },
   {
    "duration": 31,
    "start_time": "2023-01-05T11:42:27.604Z"
   },
   {
    "duration": 27,
    "start_time": "2023-01-05T11:42:27.637Z"
   },
   {
    "duration": 26,
    "start_time": "2023-01-05T11:42:27.666Z"
   },
   {
    "duration": 18,
    "start_time": "2023-01-05T11:42:27.693Z"
   },
   {
    "duration": 437,
    "start_time": "2023-01-05T11:42:27.713Z"
   },
   {
    "duration": 5,
    "start_time": "2023-01-05T11:42:28.152Z"
   },
   {
    "duration": 3099,
    "start_time": "2023-01-05T11:42:28.158Z"
   },
   {
    "duration": 784,
    "start_time": "2023-01-05T11:42:31.259Z"
   },
   {
    "duration": 72,
    "start_time": "2023-01-05T11:42:32.045Z"
   },
   {
    "duration": 3004,
    "start_time": "2023-01-05T11:42:32.119Z"
   },
   {
    "duration": 810,
    "start_time": "2023-01-05T11:42:35.125Z"
   },
   {
    "duration": 13,
    "start_time": "2023-01-05T11:42:35.937Z"
   },
   {
    "duration": 10,
    "start_time": "2023-01-05T11:42:35.951Z"
   },
   {
    "duration": 13,
    "start_time": "2023-01-05T11:42:35.963Z"
   },
   {
    "duration": 22,
    "start_time": "2023-01-05T11:42:35.977Z"
   },
   {
    "duration": 17,
    "start_time": "2023-01-05T11:42:36.001Z"
   },
   {
    "duration": 15,
    "start_time": "2023-01-05T11:42:36.021Z"
   },
   {
    "duration": 26,
    "start_time": "2023-01-05T11:42:36.039Z"
   },
   {
    "duration": 22,
    "start_time": "2023-01-05T11:42:36.068Z"
   },
   {
    "duration": 208059,
    "start_time": "2023-01-05T11:42:36.092Z"
   },
   {
    "duration": 0,
    "start_time": "2023-01-05T11:46:04.153Z"
   },
   {
    "duration": 0,
    "start_time": "2023-01-05T11:46:04.154Z"
   },
   {
    "duration": 0,
    "start_time": "2023-01-05T11:46:04.156Z"
   },
   {
    "duration": 0,
    "start_time": "2023-01-05T11:46:04.157Z"
   },
   {
    "duration": 0,
    "start_time": "2023-01-05T11:46:04.158Z"
   },
   {
    "duration": 27,
    "start_time": "2023-01-05T11:47:14.592Z"
   },
   {
    "duration": 27,
    "start_time": "2023-01-05T11:47:23.585Z"
   },
   {
    "duration": 29,
    "start_time": "2023-01-05T11:47:33.254Z"
   },
   {
    "duration": 15,
    "start_time": "2023-01-05T11:47:50.233Z"
   },
   {
    "duration": 5,
    "start_time": "2023-01-05T11:47:53.674Z"
   },
   {
    "duration": 796,
    "start_time": "2023-01-05T11:47:53.682Z"
   },
   {
    "duration": 27,
    "start_time": "2023-01-05T11:47:54.480Z"
   },
   {
    "duration": 47,
    "start_time": "2023-01-05T11:47:54.509Z"
   },
   {
    "duration": 27,
    "start_time": "2023-01-05T11:47:54.559Z"
   },
   {
    "duration": 23,
    "start_time": "2023-01-05T11:47:54.587Z"
   },
   {
    "duration": 29,
    "start_time": "2023-01-05T11:47:54.612Z"
   },
   {
    "duration": 33,
    "start_time": "2023-01-05T11:47:54.642Z"
   },
   {
    "duration": 34,
    "start_time": "2023-01-05T11:47:54.677Z"
   },
   {
    "duration": 9,
    "start_time": "2023-01-05T11:47:54.713Z"
   },
   {
    "duration": 6,
    "start_time": "2023-01-05T11:47:54.724Z"
   },
   {
    "duration": 18,
    "start_time": "2023-01-05T11:47:54.732Z"
   },
   {
    "duration": 18,
    "start_time": "2023-01-05T11:47:54.753Z"
   },
   {
    "duration": 197,
    "start_time": "2023-01-05T11:47:54.773Z"
   },
   {
    "duration": 399,
    "start_time": "2023-01-05T11:47:54.971Z"
   },
   {
    "duration": 6,
    "start_time": "2023-01-05T11:47:55.372Z"
   },
   {
    "duration": 3188,
    "start_time": "2023-01-05T11:47:55.379Z"
   },
   {
    "duration": 705,
    "start_time": "2023-01-05T11:47:58.569Z"
   },
   {
    "duration": 84,
    "start_time": "2023-01-05T11:47:59.276Z"
   },
   {
    "duration": 2808,
    "start_time": "2023-01-05T11:47:59.361Z"
   },
   {
    "duration": 816,
    "start_time": "2023-01-05T11:48:02.171Z"
   },
   {
    "duration": 13,
    "start_time": "2023-01-05T11:48:02.989Z"
   },
   {
    "duration": 21,
    "start_time": "2023-01-05T11:48:03.004Z"
   },
   {
    "duration": 27,
    "start_time": "2023-01-05T11:48:03.027Z"
   },
   {
    "duration": 33,
    "start_time": "2023-01-05T11:48:03.056Z"
   },
   {
    "duration": 3,
    "start_time": "2023-01-05T11:48:03.091Z"
   },
   {
    "duration": 19,
    "start_time": "2023-01-05T11:48:03.096Z"
   },
   {
    "duration": 21,
    "start_time": "2023-01-05T11:48:03.116Z"
   },
   {
    "duration": 22,
    "start_time": "2023-01-05T11:48:03.138Z"
   },
   {
    "duration": 16,
    "start_time": "2023-01-05T11:48:03.162Z"
   },
   {
    "duration": 38,
    "start_time": "2023-01-05T11:48:03.180Z"
   },
   {
    "duration": 428517,
    "start_time": "2023-01-05T11:48:03.220Z"
   },
   {
    "duration": 10,
    "start_time": "2023-01-05T11:55:11.739Z"
   },
   {
    "duration": 16,
    "start_time": "2023-01-05T11:55:11.750Z"
   },
   {
    "duration": 26,
    "start_time": "2023-01-05T11:55:11.768Z"
   },
   {
    "duration": 12,
    "start_time": "2023-01-05T11:55:11.796Z"
   },
   {
    "duration": 30,
    "start_time": "2023-01-05T11:55:11.812Z"
   },
   {
    "duration": 26,
    "start_time": "2023-01-05T12:02:38.743Z"
   },
   {
    "duration": 15,
    "start_time": "2023-01-05T12:03:09.700Z"
   },
   {
    "duration": 26,
    "start_time": "2023-01-05T12:03:12.323Z"
   },
   {
    "duration": 28,
    "start_time": "2023-01-05T12:04:07.323Z"
   },
   {
    "duration": 4,
    "start_time": "2023-01-05T12:04:12.965Z"
   },
   {
    "duration": 80,
    "start_time": "2023-01-05T12:04:15.098Z"
   },
   {
    "duration": 9,
    "start_time": "2023-01-05T12:04:34.378Z"
   },
   {
    "duration": 14,
    "start_time": "2023-01-05T12:06:57.048Z"
   },
   {
    "duration": 27,
    "start_time": "2023-01-05T12:07:05.457Z"
   },
   {
    "duration": 14,
    "start_time": "2023-01-05T12:07:05.783Z"
   },
   {
    "duration": 6,
    "start_time": "2023-01-05T12:07:06.873Z"
   },
   {
    "duration": 6,
    "start_time": "2023-01-05T12:07:08.175Z"
   },
   {
    "duration": 6,
    "start_time": "2023-01-05T12:07:11.707Z"
   },
   {
    "duration": 14,
    "start_time": "2023-01-05T12:07:12.368Z"
   },
   {
    "duration": 11,
    "start_time": "2023-01-05T12:08:24.076Z"
   },
   {
    "duration": 10,
    "start_time": "2023-01-05T12:08:33.413Z"
   },
   {
    "duration": 18,
    "start_time": "2023-01-05T12:09:25.805Z"
   },
   {
    "duration": 5,
    "start_time": "2023-01-05T12:09:37.869Z"
   },
   {
    "duration": 674,
    "start_time": "2023-01-05T12:09:37.876Z"
   },
   {
    "duration": 19,
    "start_time": "2023-01-05T12:09:38.552Z"
   },
   {
    "duration": 32,
    "start_time": "2023-01-05T12:09:38.573Z"
   },
   {
    "duration": 21,
    "start_time": "2023-01-05T12:09:38.608Z"
   },
   {
    "duration": 9,
    "start_time": "2023-01-05T12:09:38.634Z"
   },
   {
    "duration": 7,
    "start_time": "2023-01-05T12:09:38.644Z"
   },
   {
    "duration": 12,
    "start_time": "2023-01-05T12:09:38.653Z"
   },
   {
    "duration": 22,
    "start_time": "2023-01-05T12:09:38.666Z"
   },
   {
    "duration": 8,
    "start_time": "2023-01-05T12:09:38.690Z"
   },
   {
    "duration": 35,
    "start_time": "2023-01-05T12:09:38.700Z"
   },
   {
    "duration": 6,
    "start_time": "2023-01-05T12:09:38.737Z"
   },
   {
    "duration": 5,
    "start_time": "2023-01-05T12:09:38.746Z"
   },
   {
    "duration": 23,
    "start_time": "2023-01-05T12:09:38.753Z"
   },
   {
    "duration": 0,
    "start_time": "2023-01-05T12:09:38.778Z"
   },
   {
    "duration": 0,
    "start_time": "2023-01-05T12:09:38.780Z"
   },
   {
    "duration": 0,
    "start_time": "2023-01-05T12:09:38.781Z"
   },
   {
    "duration": 0,
    "start_time": "2023-01-05T12:09:38.782Z"
   },
   {
    "duration": 0,
    "start_time": "2023-01-05T12:09:38.783Z"
   },
   {
    "duration": 0,
    "start_time": "2023-01-05T12:09:38.784Z"
   },
   {
    "duration": 0,
    "start_time": "2023-01-05T12:09:38.785Z"
   },
   {
    "duration": 0,
    "start_time": "2023-01-05T12:09:38.786Z"
   },
   {
    "duration": 0,
    "start_time": "2023-01-05T12:09:38.787Z"
   },
   {
    "duration": 0,
    "start_time": "2023-01-05T12:09:38.788Z"
   },
   {
    "duration": 0,
    "start_time": "2023-01-05T12:09:38.789Z"
   },
   {
    "duration": 0,
    "start_time": "2023-01-05T12:09:38.789Z"
   },
   {
    "duration": 0,
    "start_time": "2023-01-05T12:09:38.790Z"
   },
   {
    "duration": 0,
    "start_time": "2023-01-05T12:09:38.791Z"
   },
   {
    "duration": 0,
    "start_time": "2023-01-05T12:09:38.836Z"
   },
   {
    "duration": 0,
    "start_time": "2023-01-05T12:09:38.837Z"
   },
   {
    "duration": 0,
    "start_time": "2023-01-05T12:09:38.838Z"
   },
   {
    "duration": 0,
    "start_time": "2023-01-05T12:09:38.839Z"
   },
   {
    "duration": 0,
    "start_time": "2023-01-05T12:09:38.840Z"
   },
   {
    "duration": 0,
    "start_time": "2023-01-05T12:09:38.841Z"
   },
   {
    "duration": 1,
    "start_time": "2023-01-05T12:09:38.841Z"
   },
   {
    "duration": 0,
    "start_time": "2023-01-05T12:09:38.842Z"
   },
   {
    "duration": 0,
    "start_time": "2023-01-05T12:09:38.843Z"
   },
   {
    "duration": 0,
    "start_time": "2023-01-05T12:09:38.845Z"
   },
   {
    "duration": 0,
    "start_time": "2023-01-05T12:09:38.845Z"
   },
   {
    "duration": 17,
    "start_time": "2023-01-05T12:10:08.279Z"
   },
   {
    "duration": 22,
    "start_time": "2023-01-05T12:10:12.553Z"
   },
   {
    "duration": 13,
    "start_time": "2023-01-05T12:10:12.577Z"
   },
   {
    "duration": 442,
    "start_time": "2023-01-05T12:10:12.593Z"
   },
   {
    "duration": 5,
    "start_time": "2023-01-05T12:10:13.037Z"
   },
   {
    "duration": 3021,
    "start_time": "2023-01-05T12:10:13.045Z"
   },
   {
    "duration": 745,
    "start_time": "2023-01-05T12:10:16.068Z"
   },
   {
    "duration": 79,
    "start_time": "2023-01-05T12:10:16.816Z"
   },
   {
    "duration": 2899,
    "start_time": "2023-01-05T12:10:16.897Z"
   },
   {
    "duration": 719,
    "start_time": "2023-01-05T12:10:19.798Z"
   },
   {
    "duration": 20,
    "start_time": "2023-01-05T12:10:20.519Z"
   },
   {
    "duration": 5,
    "start_time": "2023-01-05T12:10:20.540Z"
   },
   {
    "duration": 10,
    "start_time": "2023-01-05T12:10:20.547Z"
   },
   {
    "duration": 14,
    "start_time": "2023-01-05T12:10:20.559Z"
   },
   {
    "duration": 12,
    "start_time": "2023-01-05T12:10:20.575Z"
   },
   {
    "duration": 17,
    "start_time": "2023-01-05T12:10:20.589Z"
   },
   {
    "duration": 11,
    "start_time": "2023-01-05T12:10:20.608Z"
   },
   {
    "duration": 12,
    "start_time": "2023-01-05T12:10:20.621Z"
   },
   {
    "duration": 384603,
    "start_time": "2023-01-05T12:10:20.634Z"
   },
   {
    "duration": 10,
    "start_time": "2023-01-05T12:16:45.238Z"
   },
   {
    "duration": 9,
    "start_time": "2023-01-05T12:16:45.249Z"
   },
   {
    "duration": 18,
    "start_time": "2023-01-05T12:16:45.260Z"
   },
   {
    "duration": 5,
    "start_time": "2023-01-05T12:16:45.280Z"
   },
   {
    "duration": 14,
    "start_time": "2023-01-05T12:16:45.286Z"
   },
   {
    "duration": 6,
    "start_time": "2023-01-05T12:16:45.301Z"
   },
   {
    "duration": 57,
    "start_time": "2023-01-05T12:16:45.309Z"
   },
   {
    "duration": 18,
    "start_time": "2023-01-05T12:16:45.368Z"
   },
   {
    "duration": 18,
    "start_time": "2023-01-05T12:20:28.172Z"
   },
   {
    "duration": 49,
    "start_time": "2023-01-05T12:30:43.820Z"
   },
   {
    "duration": 19,
    "start_time": "2023-01-05T12:31:31.790Z"
   },
   {
    "duration": 6,
    "start_time": "2023-01-05T12:32:03.273Z"
   },
   {
    "duration": 4,
    "start_time": "2023-01-05T12:32:10.126Z"
   },
   {
    "duration": 5,
    "start_time": "2023-01-05T12:32:28.556Z"
   },
   {
    "duration": 9,
    "start_time": "2023-01-05T12:32:38.865Z"
   },
   {
    "duration": 9,
    "start_time": "2023-01-05T12:32:48.182Z"
   },
   {
    "duration": 6,
    "start_time": "2023-01-05T12:33:00.613Z"
   },
   {
    "duration": 23,
    "start_time": "2023-01-05T12:34:29.880Z"
   },
   {
    "duration": 717,
    "start_time": "2023-01-05T12:34:37.394Z"
   },
   {
    "duration": 6,
    "start_time": "2023-01-05T12:34:54.975Z"
   },
   {
    "duration": 28,
    "start_time": "2023-01-05T12:35:33.343Z"
   },
   {
    "duration": 5,
    "start_time": "2023-01-05T12:40:52.842Z"
   },
   {
    "duration": 688,
    "start_time": "2023-01-05T12:40:52.849Z"
   },
   {
    "duration": 21,
    "start_time": "2023-01-05T12:40:53.538Z"
   },
   {
    "duration": 28,
    "start_time": "2023-01-05T12:40:53.561Z"
   },
   {
    "duration": 28,
    "start_time": "2023-01-05T12:40:53.591Z"
   },
   {
    "duration": 28,
    "start_time": "2023-01-05T12:40:53.620Z"
   },
   {
    "duration": 16,
    "start_time": "2023-01-05T12:40:53.649Z"
   },
   {
    "duration": 19,
    "start_time": "2023-01-05T12:40:53.667Z"
   },
   {
    "duration": 5,
    "start_time": "2023-01-05T12:40:53.689Z"
   },
   {
    "duration": 14,
    "start_time": "2023-01-05T12:40:53.696Z"
   },
   {
    "duration": 34,
    "start_time": "2023-01-05T12:40:53.712Z"
   },
   {
    "duration": 30,
    "start_time": "2023-01-05T12:40:53.748Z"
   },
   {
    "duration": 960,
    "start_time": "2023-01-05T12:40:53.780Z"
   },
   {
    "duration": 0,
    "start_time": "2023-01-05T12:40:54.742Z"
   },
   {
    "duration": 0,
    "start_time": "2023-01-05T12:40:54.744Z"
   },
   {
    "duration": 0,
    "start_time": "2023-01-05T12:40:54.745Z"
   },
   {
    "duration": 0,
    "start_time": "2023-01-05T12:40:54.747Z"
   },
   {
    "duration": 0,
    "start_time": "2023-01-05T12:40:54.748Z"
   },
   {
    "duration": 0,
    "start_time": "2023-01-05T12:40:54.749Z"
   },
   {
    "duration": 0,
    "start_time": "2023-01-05T12:40:54.750Z"
   },
   {
    "duration": 0,
    "start_time": "2023-01-05T12:40:54.752Z"
   },
   {
    "duration": 0,
    "start_time": "2023-01-05T12:40:54.753Z"
   },
   {
    "duration": 0,
    "start_time": "2023-01-05T12:40:54.754Z"
   },
   {
    "duration": 0,
    "start_time": "2023-01-05T12:40:54.756Z"
   },
   {
    "duration": 0,
    "start_time": "2023-01-05T12:40:54.757Z"
   },
   {
    "duration": 0,
    "start_time": "2023-01-05T12:40:54.759Z"
   },
   {
    "duration": 0,
    "start_time": "2023-01-05T12:40:54.760Z"
   },
   {
    "duration": 0,
    "start_time": "2023-01-05T12:40:54.761Z"
   },
   {
    "duration": 0,
    "start_time": "2023-01-05T12:40:54.763Z"
   },
   {
    "duration": 0,
    "start_time": "2023-01-05T12:40:54.764Z"
   },
   {
    "duration": 0,
    "start_time": "2023-01-05T12:40:54.765Z"
   },
   {
    "duration": 0,
    "start_time": "2023-01-05T12:40:54.766Z"
   },
   {
    "duration": 0,
    "start_time": "2023-01-05T12:40:54.767Z"
   },
   {
    "duration": 0,
    "start_time": "2023-01-05T12:40:54.768Z"
   },
   {
    "duration": 0,
    "start_time": "2023-01-05T12:40:54.769Z"
   },
   {
    "duration": 0,
    "start_time": "2023-01-05T12:40:54.771Z"
   },
   {
    "duration": 0,
    "start_time": "2023-01-05T12:40:54.772Z"
   },
   {
    "duration": 0,
    "start_time": "2023-01-05T12:40:54.773Z"
   },
   {
    "duration": 0,
    "start_time": "2023-01-05T12:40:54.774Z"
   },
   {
    "duration": 0,
    "start_time": "2023-01-05T12:40:54.775Z"
   },
   {
    "duration": 0,
    "start_time": "2023-01-05T12:40:54.777Z"
   },
   {
    "duration": 0,
    "start_time": "2023-01-05T12:40:54.778Z"
   },
   {
    "duration": 0,
    "start_time": "2023-01-05T12:40:54.780Z"
   },
   {
    "duration": 5,
    "start_time": "2023-01-05T12:41:17.810Z"
   },
   {
    "duration": 6,
    "start_time": "2023-01-05T12:41:20.599Z"
   },
   {
    "duration": 10704,
    "start_time": "2023-01-05T12:41:23.212Z"
   },
   {
    "duration": 10570,
    "start_time": "2023-01-05T12:42:09.569Z"
   },
   {
    "duration": 11284,
    "start_time": "2023-01-05T12:42:55.579Z"
   },
   {
    "duration": 12256,
    "start_time": "2023-01-05T12:43:18.166Z"
   },
   {
    "duration": 5,
    "start_time": "2023-01-05T12:43:40.609Z"
   },
   {
    "duration": 646,
    "start_time": "2023-01-05T12:43:40.616Z"
   },
   {
    "duration": 21,
    "start_time": "2023-01-05T12:43:41.264Z"
   },
   {
    "duration": 46,
    "start_time": "2023-01-05T12:43:41.287Z"
   },
   {
    "duration": 25,
    "start_time": "2023-01-05T12:43:41.335Z"
   },
   {
    "duration": 9,
    "start_time": "2023-01-05T12:43:41.362Z"
   },
   {
    "duration": 10,
    "start_time": "2023-01-05T12:43:41.372Z"
   },
   {
    "duration": 17,
    "start_time": "2023-01-05T12:43:41.384Z"
   },
   {
    "duration": 5,
    "start_time": "2023-01-05T12:43:41.403Z"
   },
   {
    "duration": 21,
    "start_time": "2023-01-05T12:43:41.410Z"
   },
   {
    "duration": 16,
    "start_time": "2023-01-05T12:43:41.432Z"
   },
   {
    "duration": 8,
    "start_time": "2023-01-05T12:43:41.450Z"
   },
   {
    "duration": 16,
    "start_time": "2023-01-05T12:43:41.461Z"
   },
   {
    "duration": 12378,
    "start_time": "2023-01-05T12:43:41.479Z"
   },
   {
    "duration": 12,
    "start_time": "2023-01-05T12:43:53.859Z"
   },
   {
    "duration": 456,
    "start_time": "2023-01-05T12:43:53.873Z"
   },
   {
    "duration": 5,
    "start_time": "2023-01-05T12:43:54.331Z"
   },
   {
    "duration": 2958,
    "start_time": "2023-01-05T12:43:54.338Z"
   },
   {
    "duration": 814,
    "start_time": "2023-01-05T12:43:57.298Z"
   },
   {
    "duration": 70,
    "start_time": "2023-01-05T12:43:58.114Z"
   },
   {
    "duration": 2793,
    "start_time": "2023-01-05T12:43:58.186Z"
   },
   {
    "duration": 726,
    "start_time": "2023-01-05T12:44:00.980Z"
   },
   {
    "duration": 12,
    "start_time": "2023-01-05T12:44:01.708Z"
   },
   {
    "duration": 19,
    "start_time": "2023-01-05T12:44:01.721Z"
   },
   {
    "duration": 41,
    "start_time": "2023-01-05T12:44:01.741Z"
   },
   {
    "duration": 0,
    "start_time": "2023-01-05T12:44:01.784Z"
   },
   {
    "duration": 0,
    "start_time": "2023-01-05T12:44:01.785Z"
   },
   {
    "duration": 0,
    "start_time": "2023-01-05T12:44:01.786Z"
   },
   {
    "duration": 0,
    "start_time": "2023-01-05T12:44:01.787Z"
   },
   {
    "duration": 0,
    "start_time": "2023-01-05T12:44:01.788Z"
   },
   {
    "duration": 0,
    "start_time": "2023-01-05T12:44:01.789Z"
   },
   {
    "duration": 0,
    "start_time": "2023-01-05T12:44:01.790Z"
   },
   {
    "duration": 0,
    "start_time": "2023-01-05T12:44:01.791Z"
   },
   {
    "duration": 0,
    "start_time": "2023-01-05T12:44:01.792Z"
   },
   {
    "duration": 0,
    "start_time": "2023-01-05T12:44:01.793Z"
   },
   {
    "duration": 0,
    "start_time": "2023-01-05T12:44:01.907Z"
   },
   {
    "duration": 0,
    "start_time": "2023-01-05T12:44:01.908Z"
   },
   {
    "duration": 0,
    "start_time": "2023-01-05T12:44:01.909Z"
   },
   {
    "duration": 0,
    "start_time": "2023-01-05T12:44:01.910Z"
   },
   {
    "duration": 0,
    "start_time": "2023-01-05T12:44:01.911Z"
   },
   {
    "duration": 0,
    "start_time": "2023-01-05T12:44:01.913Z"
   },
   {
    "duration": 0,
    "start_time": "2023-01-05T12:44:01.914Z"
   },
   {
    "duration": 0,
    "start_time": "2023-01-05T12:44:01.915Z"
   },
   {
    "duration": 13,
    "start_time": "2023-01-05T12:44:57.824Z"
   },
   {
    "duration": 3,
    "start_time": "2023-01-05T12:45:01.163Z"
   },
   {
    "duration": 2,
    "start_time": "2023-01-05T12:45:05.076Z"
   },
   {
    "duration": 27,
    "start_time": "2023-01-05T12:45:05.080Z"
   },
   {
    "duration": 20,
    "start_time": "2023-01-05T12:45:05.109Z"
   },
   {
    "duration": 26,
    "start_time": "2023-01-05T12:45:05.131Z"
   },
   {
    "duration": 23,
    "start_time": "2023-01-05T12:45:05.159Z"
   },
   {
    "duration": 19,
    "start_time": "2023-01-05T12:45:05.184Z"
   },
   {
    "duration": 363,
    "start_time": "2023-01-05T12:45:05.205Z"
   },
   {
    "duration": 0,
    "start_time": "2023-01-05T12:45:05.570Z"
   },
   {
    "duration": 0,
    "start_time": "2023-01-05T12:45:05.571Z"
   },
   {
    "duration": 0,
    "start_time": "2023-01-05T12:45:05.572Z"
   },
   {
    "duration": 0,
    "start_time": "2023-01-05T12:45:05.574Z"
   },
   {
    "duration": 0,
    "start_time": "2023-01-05T12:45:05.575Z"
   },
   {
    "duration": 0,
    "start_time": "2023-01-05T12:45:05.576Z"
   },
   {
    "duration": 0,
    "start_time": "2023-01-05T12:45:05.577Z"
   },
   {
    "duration": 0,
    "start_time": "2023-01-05T12:45:05.578Z"
   },
   {
    "duration": 0,
    "start_time": "2023-01-05T12:45:05.579Z"
   },
   {
    "duration": 0,
    "start_time": "2023-01-05T12:45:05.580Z"
   },
   {
    "duration": 0,
    "start_time": "2023-01-05T12:45:05.581Z"
   },
   {
    "duration": 0,
    "start_time": "2023-01-05T12:45:05.582Z"
   },
   {
    "duration": 28,
    "start_time": "2023-01-05T12:46:20.451Z"
   },
   {
    "duration": 6,
    "start_time": "2023-01-05T12:46:27.304Z"
   },
   {
    "duration": 7,
    "start_time": "2023-01-05T12:46:38.109Z"
   },
   {
    "duration": 5,
    "start_time": "2023-01-05T12:47:16.339Z"
   },
   {
    "duration": 679,
    "start_time": "2023-01-05T12:47:16.346Z"
   },
   {
    "duration": 28,
    "start_time": "2023-01-05T12:47:17.026Z"
   },
   {
    "duration": 34,
    "start_time": "2023-01-05T12:47:17.056Z"
   },
   {
    "duration": 21,
    "start_time": "2023-01-05T12:47:17.093Z"
   },
   {
    "duration": 23,
    "start_time": "2023-01-05T12:47:17.116Z"
   },
   {
    "duration": 15,
    "start_time": "2023-01-05T12:47:17.141Z"
   },
   {
    "duration": 18,
    "start_time": "2023-01-05T12:47:17.157Z"
   },
   {
    "duration": 25,
    "start_time": "2023-01-05T12:47:17.176Z"
   },
   {
    "duration": 2,
    "start_time": "2023-01-05T12:47:17.203Z"
   },
   {
    "duration": 21,
    "start_time": "2023-01-05T12:47:17.207Z"
   },
   {
    "duration": 18,
    "start_time": "2023-01-05T12:47:17.230Z"
   },
   {
    "duration": 15,
    "start_time": "2023-01-05T12:47:17.250Z"
   },
   {
    "duration": 66,
    "start_time": "2023-01-05T12:47:17.268Z"
   },
   {
    "duration": 11,
    "start_time": "2023-01-05T12:47:17.335Z"
   },
   {
    "duration": 391,
    "start_time": "2023-01-05T12:47:17.347Z"
   },
   {
    "duration": 6,
    "start_time": "2023-01-05T12:47:17.739Z"
   },
   {
    "duration": 3040,
    "start_time": "2023-01-05T12:47:17.747Z"
   },
   {
    "duration": 709,
    "start_time": "2023-01-05T12:47:20.788Z"
   },
   {
    "duration": 195,
    "start_time": "2023-01-05T12:47:21.499Z"
   },
   {
    "duration": 2841,
    "start_time": "2023-01-05T12:47:21.696Z"
   },
   {
    "duration": 726,
    "start_time": "2023-01-05T12:47:24.538Z"
   },
   {
    "duration": 11,
    "start_time": "2023-01-05T12:47:25.266Z"
   },
   {
    "duration": 13,
    "start_time": "2023-01-05T12:47:25.279Z"
   },
   {
    "duration": 20,
    "start_time": "2023-01-05T12:47:25.293Z"
   },
   {
    "duration": 16,
    "start_time": "2023-01-05T12:47:25.314Z"
   },
   {
    "duration": 23,
    "start_time": "2023-01-05T12:47:25.332Z"
   },
   {
    "duration": 11,
    "start_time": "2023-01-05T12:47:25.357Z"
   },
   {
    "duration": 13,
    "start_time": "2023-01-05T12:47:25.369Z"
   },
   {
    "duration": 24,
    "start_time": "2023-01-05T12:47:25.384Z"
   },
   {
    "duration": 25,
    "start_time": "2023-01-05T12:47:25.409Z"
   },
   {
    "duration": 9,
    "start_time": "2023-01-05T12:47:25.436Z"
   },
   {
    "duration": 384161,
    "start_time": "2023-01-05T12:47:25.447Z"
   },
   {
    "duration": 26,
    "start_time": "2023-01-05T12:53:49.610Z"
   },
   {
    "duration": 4,
    "start_time": "2023-01-05T12:53:49.638Z"
   },
   {
    "duration": 13,
    "start_time": "2023-01-05T12:53:49.644Z"
   },
   {
    "duration": 11,
    "start_time": "2023-01-05T12:53:49.659Z"
   },
   {
    "duration": 6,
    "start_time": "2023-01-05T12:53:49.672Z"
   },
   {
    "duration": 22,
    "start_time": "2023-01-05T12:53:49.680Z"
   },
   {
    "duration": 0,
    "start_time": "2023-01-05T12:53:49.704Z"
   },
   {
    "duration": 0,
    "start_time": "2023-01-05T12:53:49.706Z"
   },
   {
    "duration": 0,
    "start_time": "2023-01-05T12:53:49.707Z"
   },
   {
    "duration": 0,
    "start_time": "2023-01-05T12:53:49.734Z"
   },
   {
    "duration": 0,
    "start_time": "2023-01-05T12:53:49.737Z"
   },
   {
    "duration": 0,
    "start_time": "2023-01-05T12:53:49.738Z"
   },
   {
    "duration": 3,
    "start_time": "2023-01-05T12:54:22.372Z"
   },
   {
    "duration": 107,
    "start_time": "2023-01-05T12:54:22.378Z"
   },
   {
    "duration": 8,
    "start_time": "2023-01-05T12:54:22.487Z"
   },
   {
    "duration": 65,
    "start_time": "2023-01-05T12:54:22.497Z"
   },
   {
    "duration": 3,
    "start_time": "2023-01-05T12:54:22.565Z"
   },
   {
    "duration": 22,
    "start_time": "2023-01-05T12:54:22.572Z"
   },
   {
    "duration": 38,
    "start_time": "2023-01-05T12:54:22.596Z"
   },
   {
    "duration": 7,
    "start_time": "2023-01-05T13:05:36.716Z"
   },
   {
    "duration": 5,
    "start_time": "2023-01-05T13:05:45.649Z"
   },
   {
    "duration": 33,
    "start_time": "2023-01-05T13:05:53.541Z"
   },
   {
    "duration": 36,
    "start_time": "2023-01-05T13:08:13.373Z"
   },
   {
    "duration": 42,
    "start_time": "2023-01-05T13:08:22.718Z"
   },
   {
    "duration": 38,
    "start_time": "2023-01-05T13:08:44.649Z"
   },
   {
    "duration": 34,
    "start_time": "2023-01-05T13:08:54.635Z"
   },
   {
    "duration": 17,
    "start_time": "2023-01-05T13:08:59.292Z"
   },
   {
    "duration": 5,
    "start_time": "2023-01-05T13:09:59.128Z"
   },
   {
    "duration": 614,
    "start_time": "2023-01-05T13:09:59.135Z"
   },
   {
    "duration": 21,
    "start_time": "2023-01-05T13:09:59.751Z"
   },
   {
    "duration": 24,
    "start_time": "2023-01-05T13:09:59.774Z"
   },
   {
    "duration": 38,
    "start_time": "2023-01-05T13:09:59.800Z"
   },
   {
    "duration": 5,
    "start_time": "2023-01-05T13:09:59.840Z"
   },
   {
    "duration": 7,
    "start_time": "2023-01-05T13:09:59.847Z"
   },
   {
    "duration": 17,
    "start_time": "2023-01-05T13:09:59.856Z"
   },
   {
    "duration": 17,
    "start_time": "2023-01-05T13:09:59.875Z"
   },
   {
    "duration": 2,
    "start_time": "2023-01-05T13:09:59.894Z"
   },
   {
    "duration": 8,
    "start_time": "2023-01-05T13:09:59.898Z"
   },
   {
    "duration": 27,
    "start_time": "2023-01-05T13:09:59.908Z"
   },
   {
    "duration": 6,
    "start_time": "2023-01-05T13:09:59.938Z"
   },
   {
    "duration": 62,
    "start_time": "2023-01-05T13:09:59.945Z"
   },
   {
    "duration": 10,
    "start_time": "2023-01-05T13:10:00.009Z"
   },
   {
    "duration": 392,
    "start_time": "2023-01-05T13:10:00.020Z"
   },
   {
    "duration": 5,
    "start_time": "2023-01-05T13:10:00.414Z"
   },
   {
    "duration": 3036,
    "start_time": "2023-01-05T13:10:00.420Z"
   },
   {
    "duration": 686,
    "start_time": "2023-01-05T13:10:03.458Z"
   },
   {
    "duration": 62,
    "start_time": "2023-01-05T13:10:04.147Z"
   },
   {
    "duration": 2800,
    "start_time": "2023-01-05T13:10:04.211Z"
   },
   {
    "duration": 723,
    "start_time": "2023-01-05T13:10:07.013Z"
   },
   {
    "duration": 11,
    "start_time": "2023-01-05T13:10:07.738Z"
   },
   {
    "duration": 24,
    "start_time": "2023-01-05T13:10:07.751Z"
   },
   {
    "duration": 26,
    "start_time": "2023-01-05T13:10:07.777Z"
   },
   {
    "duration": 16,
    "start_time": "2023-01-05T13:10:07.805Z"
   },
   {
    "duration": 20,
    "start_time": "2023-01-05T13:10:07.822Z"
   },
   {
    "duration": 26,
    "start_time": "2023-01-05T13:10:07.843Z"
   },
   {
    "duration": 37,
    "start_time": "2023-01-05T13:10:07.871Z"
   },
   {
    "duration": 16,
    "start_time": "2023-01-05T13:10:07.910Z"
   },
   {
    "duration": 11,
    "start_time": "2023-01-05T13:10:07.928Z"
   },
   {
    "duration": 14,
    "start_time": "2023-01-05T13:10:07.941Z"
   },
   {
    "duration": 18,
    "start_time": "2023-01-05T13:10:07.956Z"
   },
   {
    "duration": 417556,
    "start_time": "2023-01-05T13:10:07.976Z"
   },
   {
    "duration": 9,
    "start_time": "2023-01-05T13:17:05.534Z"
   },
   {
    "duration": 8,
    "start_time": "2023-01-05T13:17:05.545Z"
   },
   {
    "duration": 13,
    "start_time": "2023-01-05T13:17:05.557Z"
   },
   {
    "duration": 12,
    "start_time": "2023-01-05T13:17:05.572Z"
   },
   {
    "duration": 11,
    "start_time": "2023-01-05T13:17:05.586Z"
   },
   {
    "duration": 11,
    "start_time": "2023-01-05T13:17:05.598Z"
   },
   {
    "duration": 105,
    "start_time": "2023-01-05T13:17:05.611Z"
   },
   {
    "duration": 31,
    "start_time": "2023-01-05T13:17:05.719Z"
   },
   {
    "duration": 2,
    "start_time": "2023-01-05T13:17:05.752Z"
   },
   {
    "duration": 30,
    "start_time": "2023-01-05T13:17:05.756Z"
   },
   {
    "duration": 4,
    "start_time": "2023-01-05T13:22:46.246Z"
   },
   {
    "duration": 4,
    "start_time": "2023-01-05T13:23:09.515Z"
   },
   {
    "duration": 5,
    "start_time": "2023-01-05T13:23:18.459Z"
   },
   {
    "duration": 5,
    "start_time": "2023-01-05T13:23:38.907Z"
   },
   {
    "duration": 7,
    "start_time": "2023-01-05T13:23:46.017Z"
   },
   {
    "duration": 86,
    "start_time": "2023-01-05T13:24:54.301Z"
   },
   {
    "duration": 5,
    "start_time": "2023-01-05T13:24:58.131Z"
   },
   {
    "duration": 7,
    "start_time": "2023-01-05T13:25:01.278Z"
   },
   {
    "duration": 6,
    "start_time": "2023-01-05T13:27:22.686Z"
   },
   {
    "duration": 3,
    "start_time": "2023-01-05T13:27:46.264Z"
   },
   {
    "duration": 8,
    "start_time": "2023-01-05T13:27:49.177Z"
   },
   {
    "duration": 5,
    "start_time": "2023-01-05T13:35:44.090Z"
   },
   {
    "duration": 718,
    "start_time": "2023-01-05T13:35:44.097Z"
   },
   {
    "duration": 25,
    "start_time": "2023-01-05T13:35:44.816Z"
   },
   {
    "duration": 21,
    "start_time": "2023-01-05T13:35:44.843Z"
   },
   {
    "duration": 36,
    "start_time": "2023-01-05T13:35:44.866Z"
   },
   {
    "duration": 17,
    "start_time": "2023-01-05T13:35:44.904Z"
   },
   {
    "duration": 18,
    "start_time": "2023-01-05T13:35:44.922Z"
   },
   {
    "duration": 28,
    "start_time": "2023-01-05T13:35:44.942Z"
   },
   {
    "duration": 31,
    "start_time": "2023-01-05T13:35:44.971Z"
   },
   {
    "duration": 70,
    "start_time": "2023-01-05T13:35:45.004Z"
   },
   {
    "duration": 5,
    "start_time": "2023-01-05T13:35:45.076Z"
   },
   {
    "duration": 18,
    "start_time": "2023-01-05T13:35:45.083Z"
   },
   {
    "duration": 19,
    "start_time": "2023-01-05T13:35:45.103Z"
   },
   {
    "duration": 22,
    "start_time": "2023-01-05T13:35:45.125Z"
   },
   {
    "duration": 503,
    "start_time": "2023-01-05T13:35:45.149Z"
   },
   {
    "duration": 8,
    "start_time": "2023-01-05T13:35:45.656Z"
   },
   {
    "duration": 3274,
    "start_time": "2023-01-05T13:35:45.666Z"
   },
   {
    "duration": 852,
    "start_time": "2023-01-05T13:35:48.942Z"
   },
   {
    "duration": 80,
    "start_time": "2023-01-05T13:35:49.797Z"
   },
   {
    "duration": 2995,
    "start_time": "2023-01-05T13:35:49.879Z"
   },
   {
    "duration": 716,
    "start_time": "2023-01-05T13:35:52.876Z"
   },
   {
    "duration": 12,
    "start_time": "2023-01-05T13:35:53.595Z"
   },
   {
    "duration": 9,
    "start_time": "2023-01-05T13:35:53.608Z"
   },
   {
    "duration": 19,
    "start_time": "2023-01-05T13:35:53.618Z"
   },
   {
    "duration": 15,
    "start_time": "2023-01-05T13:35:53.639Z"
   },
   {
    "duration": 29,
    "start_time": "2023-01-05T13:35:53.656Z"
   },
   {
    "duration": 19,
    "start_time": "2023-01-05T13:35:53.687Z"
   },
   {
    "duration": 15,
    "start_time": "2023-01-05T13:35:53.707Z"
   },
   {
    "duration": 16,
    "start_time": "2023-01-05T13:35:53.724Z"
   },
   {
    "duration": 14,
    "start_time": "2023-01-05T13:35:53.742Z"
   },
   {
    "duration": 25,
    "start_time": "2023-01-05T13:35:53.758Z"
   },
   {
    "duration": 20,
    "start_time": "2023-01-05T13:35:53.785Z"
   },
   {
    "duration": 14,
    "start_time": "2023-01-05T13:35:53.807Z"
   },
   {
    "duration": 420699,
    "start_time": "2023-01-05T13:35:53.823Z"
   },
   {
    "duration": 17,
    "start_time": "2023-01-05T13:42:54.523Z"
   },
   {
    "duration": 23,
    "start_time": "2023-01-05T13:42:54.542Z"
   },
   {
    "duration": 35,
    "start_time": "2023-01-05T13:42:54.567Z"
   },
   {
    "duration": 17,
    "start_time": "2023-01-05T13:42:54.604Z"
   },
   {
    "duration": 14,
    "start_time": "2023-01-05T13:42:54.623Z"
   },
   {
    "duration": 10,
    "start_time": "2023-01-05T13:42:54.639Z"
   },
   {
    "duration": 120,
    "start_time": "2023-01-05T13:42:54.653Z"
   },
   {
    "duration": 8,
    "start_time": "2023-01-05T13:42:54.776Z"
   },
   {
    "duration": 15,
    "start_time": "2023-01-05T13:42:54.785Z"
   },
   {
    "duration": 17,
    "start_time": "2023-01-05T13:42:54.801Z"
   },
   {
    "duration": 1541,
    "start_time": "2023-01-09T14:15:52.411Z"
   },
   {
    "duration": 1488,
    "start_time": "2023-01-09T14:15:53.955Z"
   },
   {
    "duration": 24,
    "start_time": "2023-01-09T14:15:55.445Z"
   },
   {
    "duration": 18,
    "start_time": "2023-01-09T14:15:55.471Z"
   },
   {
    "duration": 19,
    "start_time": "2023-01-09T14:15:55.497Z"
   },
   {
    "duration": 7,
    "start_time": "2023-01-09T14:15:55.517Z"
   },
   {
    "duration": 9,
    "start_time": "2023-01-09T14:15:55.525Z"
   },
   {
    "duration": 12,
    "start_time": "2023-01-09T14:15:55.535Z"
   },
   {
    "duration": 23,
    "start_time": "2023-01-09T14:15:55.549Z"
   },
   {
    "duration": 91,
    "start_time": "2023-01-09T14:15:55.574Z"
   },
   {
    "duration": 6,
    "start_time": "2023-01-09T14:15:55.667Z"
   },
   {
    "duration": 7,
    "start_time": "2023-01-09T14:15:55.675Z"
   },
   {
    "duration": 21,
    "start_time": "2023-01-09T14:15:55.684Z"
   },
   {
    "duration": 12,
    "start_time": "2023-01-09T14:15:55.708Z"
   },
   {
    "duration": 4,
    "start_time": "2023-01-09T14:15:55.721Z"
   },
   {
    "duration": 458,
    "start_time": "2023-01-09T14:15:55.727Z"
   },
   {
    "duration": 4,
    "start_time": "2023-01-09T14:15:56.186Z"
   },
   {
    "duration": 109,
    "start_time": "2023-01-09T14:15:56.192Z"
   },
   {
    "duration": 0,
    "start_time": "2023-01-09T14:15:56.303Z"
   },
   {
    "duration": 0,
    "start_time": "2023-01-09T14:15:56.304Z"
   },
   {
    "duration": 0,
    "start_time": "2023-01-09T14:15:56.305Z"
   },
   {
    "duration": 0,
    "start_time": "2023-01-09T14:15:56.306Z"
   },
   {
    "duration": 0,
    "start_time": "2023-01-09T14:15:56.307Z"
   },
   {
    "duration": 0,
    "start_time": "2023-01-09T14:15:56.308Z"
   },
   {
    "duration": 0,
    "start_time": "2023-01-09T14:15:56.310Z"
   },
   {
    "duration": 0,
    "start_time": "2023-01-09T14:15:56.311Z"
   },
   {
    "duration": 0,
    "start_time": "2023-01-09T14:15:56.312Z"
   },
   {
    "duration": 0,
    "start_time": "2023-01-09T14:15:56.313Z"
   },
   {
    "duration": 0,
    "start_time": "2023-01-09T14:15:56.314Z"
   },
   {
    "duration": 0,
    "start_time": "2023-01-09T14:15:56.315Z"
   },
   {
    "duration": 0,
    "start_time": "2023-01-09T14:15:56.316Z"
   },
   {
    "duration": 0,
    "start_time": "2023-01-09T14:15:56.317Z"
   },
   {
    "duration": 0,
    "start_time": "2023-01-09T14:15:56.317Z"
   },
   {
    "duration": 0,
    "start_time": "2023-01-09T14:15:56.318Z"
   },
   {
    "duration": 0,
    "start_time": "2023-01-09T14:15:56.319Z"
   },
   {
    "duration": 0,
    "start_time": "2023-01-09T14:15:56.321Z"
   },
   {
    "duration": 0,
    "start_time": "2023-01-09T14:15:56.322Z"
   },
   {
    "duration": 0,
    "start_time": "2023-01-09T14:15:56.323Z"
   },
   {
    "duration": 0,
    "start_time": "2023-01-09T14:15:56.324Z"
   },
   {
    "duration": 0,
    "start_time": "2023-01-09T14:15:56.326Z"
   },
   {
    "duration": 0,
    "start_time": "2023-01-09T14:15:56.326Z"
   },
   {
    "duration": 0,
    "start_time": "2023-01-09T14:15:56.327Z"
   },
   {
    "duration": 0,
    "start_time": "2023-01-09T14:15:56.329Z"
   },
   {
    "duration": 0,
    "start_time": "2023-01-09T14:15:56.330Z"
   },
   {
    "duration": 0,
    "start_time": "2023-01-09T14:15:56.331Z"
   },
   {
    "duration": 3254,
    "start_time": "2023-01-09T14:19:43.302Z"
   },
   {
    "duration": 5,
    "start_time": "2023-01-09T14:19:55.173Z"
   },
   {
    "duration": 721,
    "start_time": "2023-01-09T14:19:55.181Z"
   },
   {
    "duration": 27,
    "start_time": "2023-01-09T14:19:55.904Z"
   },
   {
    "duration": 29,
    "start_time": "2023-01-09T14:19:55.933Z"
   },
   {
    "duration": 63,
    "start_time": "2023-01-09T14:19:55.965Z"
   },
   {
    "duration": 6,
    "start_time": "2023-01-09T14:19:56.031Z"
   },
   {
    "duration": 6,
    "start_time": "2023-01-09T14:19:56.039Z"
   },
   {
    "duration": 12,
    "start_time": "2023-01-09T14:19:56.047Z"
   },
   {
    "duration": 57,
    "start_time": "2023-01-09T14:19:56.062Z"
   },
   {
    "duration": 75,
    "start_time": "2023-01-09T14:19:56.121Z"
   },
   {
    "duration": 7,
    "start_time": "2023-01-09T14:19:56.198Z"
   },
   {
    "duration": 5,
    "start_time": "2023-01-09T14:19:56.207Z"
   },
   {
    "duration": 10,
    "start_time": "2023-01-09T14:19:56.214Z"
   },
   {
    "duration": 20,
    "start_time": "2023-01-09T14:19:56.227Z"
   },
   {
    "duration": 7,
    "start_time": "2023-01-09T14:19:56.248Z"
   },
   {
    "duration": 424,
    "start_time": "2023-01-09T14:19:56.257Z"
   },
   {
    "duration": 5,
    "start_time": "2023-01-09T14:19:56.682Z"
   },
   {
    "duration": 2972,
    "start_time": "2023-01-09T14:19:56.689Z"
   },
   {
    "duration": 691,
    "start_time": "2023-01-09T14:19:59.662Z"
   },
   {
    "duration": 85,
    "start_time": "2023-01-09T14:20:00.355Z"
   },
   {
    "duration": 2893,
    "start_time": "2023-01-09T14:20:00.443Z"
   },
   {
    "duration": 720,
    "start_time": "2023-01-09T14:20:03.338Z"
   },
   {
    "duration": 11,
    "start_time": "2023-01-09T14:20:04.060Z"
   },
   {
    "duration": 26,
    "start_time": "2023-01-09T14:20:04.072Z"
   },
   {
    "duration": 0,
    "start_time": "2023-01-09T14:20:04.100Z"
   },
   {
    "duration": 0,
    "start_time": "2023-01-09T14:20:04.101Z"
   },
   {
    "duration": 0,
    "start_time": "2023-01-09T14:20:04.102Z"
   },
   {
    "duration": 0,
    "start_time": "2023-01-09T14:20:04.103Z"
   },
   {
    "duration": 0,
    "start_time": "2023-01-09T14:20:04.106Z"
   },
   {
    "duration": 0,
    "start_time": "2023-01-09T14:20:04.107Z"
   },
   {
    "duration": 0,
    "start_time": "2023-01-09T14:20:04.109Z"
   },
   {
    "duration": 0,
    "start_time": "2023-01-09T14:20:04.111Z"
   },
   {
    "duration": 0,
    "start_time": "2023-01-09T14:20:04.112Z"
   },
   {
    "duration": 0,
    "start_time": "2023-01-09T14:20:04.114Z"
   },
   {
    "duration": 0,
    "start_time": "2023-01-09T14:20:04.116Z"
   },
   {
    "duration": 0,
    "start_time": "2023-01-09T14:20:04.117Z"
   },
   {
    "duration": 0,
    "start_time": "2023-01-09T14:20:04.118Z"
   },
   {
    "duration": 0,
    "start_time": "2023-01-09T14:20:04.120Z"
   },
   {
    "duration": 0,
    "start_time": "2023-01-09T14:20:04.121Z"
   },
   {
    "duration": 0,
    "start_time": "2023-01-09T14:20:04.122Z"
   },
   {
    "duration": 0,
    "start_time": "2023-01-09T14:20:04.123Z"
   },
   {
    "duration": 0,
    "start_time": "2023-01-09T14:20:04.124Z"
   },
   {
    "duration": 0,
    "start_time": "2023-01-09T14:20:04.125Z"
   },
   {
    "duration": 0,
    "start_time": "2023-01-09T14:20:04.126Z"
   },
   {
    "duration": 0,
    "start_time": "2023-01-09T14:20:04.128Z"
   },
   {
    "duration": 7,
    "start_time": "2023-01-09T14:20:43.307Z"
   },
   {
    "duration": 6,
    "start_time": "2023-01-09T14:20:47.230Z"
   },
   {
    "duration": 5,
    "start_time": "2023-01-09T14:20:47.247Z"
   },
   {
    "duration": 6,
    "start_time": "2023-01-09T14:20:47.254Z"
   },
   {
    "duration": 6,
    "start_time": "2023-01-09T14:20:47.261Z"
   },
   {
    "duration": 9,
    "start_time": "2023-01-09T14:20:47.269Z"
   },
   {
    "duration": 5,
    "start_time": "2023-01-09T14:20:47.281Z"
   },
   {
    "duration": 7,
    "start_time": "2023-01-09T14:20:47.287Z"
   },
   {
    "duration": 8,
    "start_time": "2023-01-09T14:20:47.296Z"
   },
   {
    "duration": 19,
    "start_time": "2023-01-09T14:20:47.306Z"
   },
   {
    "duration": 5,
    "start_time": "2023-01-09T14:20:47.327Z"
   },
   {
    "duration": 387521,
    "start_time": "2023-01-09T14:20:47.334Z"
   },
   {
    "duration": 11,
    "start_time": "2023-01-09T14:27:14.857Z"
   },
   {
    "duration": 11,
    "start_time": "2023-01-09T14:27:14.870Z"
   },
   {
    "duration": 17,
    "start_time": "2023-01-09T14:27:14.883Z"
   },
   {
    "duration": 19,
    "start_time": "2023-01-09T14:27:14.904Z"
   },
   {
    "duration": 11,
    "start_time": "2023-01-09T14:27:14.925Z"
   },
   {
    "duration": 17,
    "start_time": "2023-01-09T14:27:14.938Z"
   },
   {
    "duration": 97,
    "start_time": "2023-01-09T14:27:14.957Z"
   },
   {
    "duration": 10,
    "start_time": "2023-01-09T14:27:15.055Z"
   },
   {
    "duration": 12,
    "start_time": "2023-01-09T14:27:15.067Z"
   },
   {
    "duration": 20,
    "start_time": "2023-01-09T14:27:15.080Z"
   },
   {
    "duration": 4,
    "start_time": "2023-01-09T14:28:04.453Z"
   },
   {
    "duration": 8,
    "start_time": "2023-01-09T14:28:07.795Z"
   },
   {
    "duration": 167,
    "start_time": "2023-01-09T14:28:20.073Z"
   },
   {
    "duration": 170,
    "start_time": "2023-01-09T14:28:54.517Z"
   },
   {
    "duration": 9,
    "start_time": "2023-01-09T14:29:13.475Z"
   },
   {
    "duration": 5,
    "start_time": "2023-01-09T14:29:28.220Z"
   },
   {
    "duration": 153,
    "start_time": "2023-01-09T14:29:29.929Z"
   },
   {
    "duration": 4,
    "start_time": "2023-01-09T14:30:11.614Z"
   },
   {
    "duration": 122,
    "start_time": "2023-01-09T14:30:19.239Z"
   },
   {
    "duration": 9,
    "start_time": "2023-01-09T14:30:30.614Z"
   },
   {
    "duration": 8,
    "start_time": "2023-01-09T14:30:42.800Z"
   },
   {
    "duration": 133,
    "start_time": "2023-01-09T14:31:07.421Z"
   },
   {
    "duration": 125,
    "start_time": "2023-01-09T14:31:14.342Z"
   },
   {
    "duration": 126,
    "start_time": "2023-01-09T14:32:36.378Z"
   },
   {
    "duration": 227,
    "start_time": "2023-01-09T14:32:57.817Z"
   },
   {
    "duration": 137,
    "start_time": "2023-01-09T14:33:12.527Z"
   },
   {
    "duration": 133,
    "start_time": "2023-01-09T14:33:22.907Z"
   },
   {
    "duration": 108,
    "start_time": "2023-01-09T14:33:26.480Z"
   },
   {
    "duration": 117,
    "start_time": "2023-01-09T14:33:34.801Z"
   },
   {
    "duration": 122,
    "start_time": "2023-01-09T14:33:37.927Z"
   },
   {
    "duration": 122,
    "start_time": "2023-01-09T14:33:47.790Z"
   },
   {
    "duration": 5,
    "start_time": "2023-01-09T14:34:08.540Z"
   },
   {
    "duration": 14,
    "start_time": "2023-01-09T14:34:38.101Z"
   },
   {
    "duration": 138,
    "start_time": "2023-01-09T14:34:48.238Z"
   },
   {
    "duration": 671,
    "start_time": "2023-01-09T14:35:21.739Z"
   },
   {
    "duration": 549,
    "start_time": "2023-01-09T14:35:26.218Z"
   },
   {
    "duration": 111,
    "start_time": "2023-01-09T14:36:09.498Z"
   },
   {
    "duration": 682,
    "start_time": "2023-01-09T14:36:24.891Z"
   },
   {
    "duration": 7,
    "start_time": "2023-01-09T14:36:58.819Z"
   },
   {
    "duration": 218,
    "start_time": "2023-01-09T14:37:18.795Z"
   },
   {
    "duration": 6,
    "start_time": "2023-01-09T14:38:03.619Z"
   },
   {
    "duration": 10,
    "start_time": "2023-01-09T14:39:41.339Z"
   },
   {
    "duration": 17,
    "start_time": "2023-01-09T14:41:55.815Z"
   },
   {
    "duration": 13,
    "start_time": "2023-01-09T14:42:07.488Z"
   },
   {
    "duration": 7,
    "start_time": "2023-01-09T14:43:26.796Z"
   },
   {
    "duration": 6,
    "start_time": "2023-01-09T14:43:56.755Z"
   },
   {
    "duration": 7,
    "start_time": "2023-01-09T14:44:03.618Z"
   },
   {
    "duration": 7,
    "start_time": "2023-01-09T14:45:02.417Z"
   },
   {
    "duration": 6,
    "start_time": "2023-01-09T14:45:23.396Z"
   },
   {
    "duration": 6,
    "start_time": "2023-01-09T14:45:30.777Z"
   },
   {
    "duration": 8,
    "start_time": "2023-01-09T14:46:06.996Z"
   },
   {
    "duration": 4,
    "start_time": "2023-01-09T14:46:12.019Z"
   },
   {
    "duration": 11,
    "start_time": "2023-01-09T14:46:19.037Z"
   },
   {
    "duration": 8,
    "start_time": "2023-01-09T14:46:41.497Z"
   },
   {
    "duration": 4,
    "start_time": "2023-01-09T14:46:54.737Z"
   },
   {
    "duration": 8,
    "start_time": "2023-01-09T14:48:05.856Z"
   },
   {
    "duration": 3,
    "start_time": "2023-01-09T14:48:54.187Z"
   },
   {
    "duration": 6,
    "start_time": "2023-01-09T14:48:57.113Z"
   },
   {
    "duration": 51,
    "start_time": "2023-01-09T14:49:55.166Z"
   },
   {
    "duration": 334,
    "start_time": "2023-01-09T14:50:24.205Z"
   },
   {
    "duration": 7,
    "start_time": "2023-01-09T14:50:45.357Z"
   },
   {
    "duration": 119,
    "start_time": "2023-01-09T14:50:59.685Z"
   },
   {
    "duration": 369,
    "start_time": "2023-01-09T14:53:29.256Z"
   },
   {
    "duration": 493,
    "start_time": "2023-01-09T14:53:41.661Z"
   },
   {
    "duration": 11,
    "start_time": "2023-01-09T14:54:10.225Z"
   },
   {
    "duration": 21,
    "start_time": "2023-01-09T14:54:40.143Z"
   },
   {
    "duration": 848,
    "start_time": "2023-01-09T14:55:07.943Z"
   },
   {
    "duration": 19,
    "start_time": "2023-01-09T14:55:18.886Z"
   },
   {
    "duration": 125,
    "start_time": "2023-01-09T14:55:28.594Z"
   },
   {
    "duration": 685,
    "start_time": "2023-01-09T14:55:34.108Z"
   },
   {
    "duration": 23,
    "start_time": "2023-01-09T14:55:53.070Z"
   },
   {
    "duration": 120,
    "start_time": "2023-01-09T14:57:56.966Z"
   },
   {
    "duration": 144,
    "start_time": "2023-01-09T14:58:13.986Z"
   },
   {
    "duration": 107,
    "start_time": "2023-01-09T14:58:22.966Z"
   },
   {
    "duration": 8,
    "start_time": "2023-01-09T15:00:42.501Z"
   },
   {
    "duration": 6,
    "start_time": "2023-01-09T15:01:25.596Z"
   },
   {
    "duration": 12,
    "start_time": "2023-01-09T15:01:34.974Z"
   },
   {
    "duration": 128,
    "start_time": "2023-01-09T15:01:57.436Z"
   },
   {
    "duration": 117,
    "start_time": "2023-01-09T15:04:11.236Z"
   },
   {
    "duration": 118,
    "start_time": "2023-01-09T15:08:28.570Z"
   },
   {
    "duration": 12,
    "start_time": "2023-01-09T15:09:01.004Z"
   },
   {
    "duration": 11,
    "start_time": "2023-01-09T15:09:05.601Z"
   },
   {
    "duration": 116,
    "start_time": "2023-01-09T15:09:24.544Z"
   },
   {
    "duration": 110,
    "start_time": "2023-01-09T15:10:21.360Z"
   },
   {
    "duration": 107,
    "start_time": "2023-01-09T15:12:34.411Z"
   },
   {
    "duration": 123,
    "start_time": "2023-01-09T15:13:11.918Z"
   },
   {
    "duration": 113,
    "start_time": "2023-01-09T15:13:19.878Z"
   },
   {
    "duration": 91,
    "start_time": "2023-01-09T15:16:00.858Z"
   },
   {
    "duration": 131,
    "start_time": "2023-01-09T15:16:25.613Z"
   },
   {
    "duration": 110,
    "start_time": "2023-01-09T15:16:31.936Z"
   },
   {
    "duration": 115,
    "start_time": "2023-01-09T15:16:49.663Z"
   },
   {
    "duration": 121,
    "start_time": "2023-01-09T15:17:17.737Z"
   },
   {
    "duration": 123,
    "start_time": "2023-01-09T15:17:55.943Z"
   },
   {
    "duration": 114,
    "start_time": "2023-01-09T15:18:00.458Z"
   },
   {
    "duration": 56,
    "start_time": "2023-01-09T15:19:03.267Z"
   },
   {
    "duration": 131,
    "start_time": "2023-01-09T15:19:20.136Z"
   },
   {
    "duration": 104,
    "start_time": "2023-01-09T15:20:42.909Z"
   },
   {
    "duration": 29,
    "start_time": "2023-01-09T15:21:25.196Z"
   },
   {
    "duration": 7,
    "start_time": "2023-01-09T15:21:43.230Z"
   },
   {
    "duration": 6,
    "start_time": "2023-01-09T15:21:47.974Z"
   },
   {
    "duration": 122,
    "start_time": "2023-01-09T15:22:02.594Z"
   },
   {
    "duration": 115,
    "start_time": "2023-01-09T15:22:08.522Z"
   },
   {
    "duration": 126,
    "start_time": "2023-01-09T15:25:25.309Z"
   },
   {
    "duration": 128,
    "start_time": "2023-01-09T15:25:31.604Z"
   },
   {
    "duration": 125,
    "start_time": "2023-01-09T15:25:48.085Z"
   },
   {
    "duration": 133,
    "start_time": "2023-01-09T15:25:53.136Z"
   },
   {
    "duration": 116,
    "start_time": "2023-01-09T15:26:20.751Z"
   },
   {
    "duration": 126,
    "start_time": "2023-01-09T15:26:26.947Z"
   },
   {
    "duration": 127,
    "start_time": "2023-01-09T15:26:31.174Z"
   },
   {
    "duration": 124,
    "start_time": "2023-01-09T15:26:38.634Z"
   },
   {
    "duration": 3,
    "start_time": "2023-01-09T15:26:56.538Z"
   },
   {
    "duration": 118,
    "start_time": "2023-01-09T15:27:03.855Z"
   },
   {
    "duration": 8,
    "start_time": "2023-01-09T15:27:13.623Z"
   },
   {
    "duration": 8,
    "start_time": "2023-01-09T15:27:17.032Z"
   },
   {
    "duration": 120,
    "start_time": "2023-01-09T15:29:43.911Z"
   },
   {
    "duration": 108,
    "start_time": "2023-01-09T15:29:53.126Z"
   },
   {
    "duration": 176,
    "start_time": "2023-01-09T15:30:48.993Z"
   },
   {
    "duration": 159,
    "start_time": "2023-01-09T15:31:09.963Z"
   },
   {
    "duration": 568,
    "start_time": "2023-01-09T15:31:14.519Z"
   },
   {
    "duration": 166,
    "start_time": "2023-01-09T15:34:00.986Z"
   },
   {
    "duration": 151,
    "start_time": "2023-01-09T15:34:05.811Z"
   },
   {
    "duration": 123,
    "start_time": "2023-01-09T15:34:36.394Z"
   },
   {
    "duration": 127,
    "start_time": "2023-01-09T15:34:47.229Z"
   },
   {
    "duration": 157,
    "start_time": "2023-01-09T15:34:51.968Z"
   },
   {
    "duration": 197,
    "start_time": "2023-01-09T15:34:57.611Z"
   },
   {
    "duration": 17,
    "start_time": "2023-01-09T15:35:08.819Z"
   },
   {
    "duration": 13,
    "start_time": "2023-01-09T15:35:11.439Z"
   },
   {
    "duration": 18,
    "start_time": "2023-01-09T15:35:21.251Z"
   },
   {
    "duration": 185,
    "start_time": "2023-01-09T15:35:27.309Z"
   },
   {
    "duration": 192,
    "start_time": "2023-01-09T15:35:50.919Z"
   },
   {
    "duration": 101,
    "start_time": "2023-01-09T15:35:59.720Z"
   },
   {
    "duration": 214,
    "start_time": "2023-01-09T15:36:47.885Z"
   },
   {
    "duration": 201,
    "start_time": "2023-01-09T15:36:57.014Z"
   },
   {
    "duration": 6,
    "start_time": "2023-01-09T19:54:32.080Z"
   },
   {
    "duration": 716,
    "start_time": "2023-01-09T19:54:32.088Z"
   },
   {
    "duration": 19,
    "start_time": "2023-01-09T19:54:32.806Z"
   },
   {
    "duration": 23,
    "start_time": "2023-01-09T19:54:32.827Z"
   },
   {
    "duration": 19,
    "start_time": "2023-01-09T19:54:32.851Z"
   },
   {
    "duration": 4,
    "start_time": "2023-01-09T19:54:32.872Z"
   },
   {
    "duration": 4,
    "start_time": "2023-01-09T19:54:32.897Z"
   },
   {
    "duration": 11,
    "start_time": "2023-01-09T19:54:32.903Z"
   },
   {
    "duration": 21,
    "start_time": "2023-01-09T19:54:32.915Z"
   },
   {
    "duration": 83,
    "start_time": "2023-01-09T19:54:32.938Z"
   },
   {
    "duration": 5,
    "start_time": "2023-01-09T19:54:33.023Z"
   },
   {
    "duration": 12,
    "start_time": "2023-01-09T19:54:33.030Z"
   },
   {
    "duration": 9,
    "start_time": "2023-01-09T19:54:33.044Z"
   },
   {
    "duration": 12,
    "start_time": "2023-01-09T19:54:33.055Z"
   },
   {
    "duration": 5,
    "start_time": "2023-01-09T19:54:33.069Z"
   },
   {
    "duration": 146,
    "start_time": "2023-01-09T19:54:33.075Z"
   },
   {
    "duration": 157,
    "start_time": "2023-01-09T19:54:33.222Z"
   },
   {
    "duration": 17,
    "start_time": "2023-01-09T19:54:33.381Z"
   },
   {
    "duration": 3,
    "start_time": "2023-01-09T19:54:33.399Z"
   },
   {
    "duration": 198,
    "start_time": "2023-01-09T19:54:33.404Z"
   },
   {
    "duration": 106,
    "start_time": "2023-01-09T19:54:33.604Z"
   },
   {
    "duration": 382,
    "start_time": "2023-01-09T19:54:33.712Z"
   },
   {
    "duration": 5,
    "start_time": "2023-01-09T19:54:34.095Z"
   },
   {
    "duration": 2991,
    "start_time": "2023-01-09T19:54:34.101Z"
   },
   {
    "duration": 594,
    "start_time": "2023-01-09T19:54:37.094Z"
   },
   {
    "duration": 61,
    "start_time": "2023-01-09T19:54:37.690Z"
   },
   {
    "duration": 2776,
    "start_time": "2023-01-09T19:54:37.753Z"
   },
   {
    "duration": 976,
    "start_time": "2023-01-09T19:54:40.532Z"
   },
   {
    "duration": 12,
    "start_time": "2023-01-09T19:54:41.510Z"
   },
   {
    "duration": 8,
    "start_time": "2023-01-09T19:54:41.523Z"
   },
   {
    "duration": 12,
    "start_time": "2023-01-09T19:54:41.532Z"
   },
   {
    "duration": 10,
    "start_time": "2023-01-09T19:54:41.545Z"
   },
   {
    "duration": 10,
    "start_time": "2023-01-09T19:54:41.557Z"
   },
   {
    "duration": 15,
    "start_time": "2023-01-09T19:54:41.569Z"
   },
   {
    "duration": 12,
    "start_time": "2023-01-09T19:54:41.586Z"
   },
   {
    "duration": 11,
    "start_time": "2023-01-09T19:54:41.599Z"
   },
   {
    "duration": 12,
    "start_time": "2023-01-09T19:54:41.611Z"
   },
   {
    "duration": 12,
    "start_time": "2023-01-09T19:54:41.624Z"
   },
   {
    "duration": 17,
    "start_time": "2023-01-09T19:54:41.637Z"
   },
   {
    "duration": 8,
    "start_time": "2023-01-09T19:54:41.656Z"
   },
   {
    "duration": 380799,
    "start_time": "2023-01-09T19:54:41.665Z"
   },
   {
    "duration": 8,
    "start_time": "2023-01-09T20:01:02.466Z"
   },
   {
    "duration": 29,
    "start_time": "2023-01-09T20:01:02.476Z"
   },
   {
    "duration": 15,
    "start_time": "2023-01-09T20:01:02.507Z"
   },
   {
    "duration": 12,
    "start_time": "2023-01-09T20:01:02.523Z"
   },
   {
    "duration": 5,
    "start_time": "2023-01-09T20:01:02.537Z"
   },
   {
    "duration": 5,
    "start_time": "2023-01-09T20:01:02.543Z"
   },
   {
    "duration": 113,
    "start_time": "2023-01-09T20:01:02.549Z"
   },
   {
    "duration": 7,
    "start_time": "2023-01-09T20:01:02.663Z"
   },
   {
    "duration": 16,
    "start_time": "2023-01-09T20:01:02.671Z"
   },
   {
    "duration": 12,
    "start_time": "2023-01-09T20:01:02.688Z"
   },
   {
    "duration": 20,
    "start_time": "2023-01-09T20:48:52.854Z"
   },
   {
    "duration": 4,
    "start_time": "2023-01-09T20:49:02.565Z"
   },
   {
    "duration": 143,
    "start_time": "2023-01-09T20:49:04.340Z"
   },
   {
    "duration": 144,
    "start_time": "2023-01-09T20:49:34.088Z"
   },
   {
    "duration": 11,
    "start_time": "2023-01-09T20:50:55.643Z"
   },
   {
    "duration": 149,
    "start_time": "2023-01-09T20:51:36.063Z"
   },
   {
    "duration": 152,
    "start_time": "2023-01-09T20:51:52.178Z"
   },
   {
    "duration": 198,
    "start_time": "2023-01-09T20:53:16.969Z"
   },
   {
    "duration": 190,
    "start_time": "2023-01-09T20:53:25.659Z"
   },
   {
    "duration": 200,
    "start_time": "2023-01-09T20:53:30.308Z"
   },
   {
    "duration": 190,
    "start_time": "2023-01-09T20:53:51.383Z"
   },
   {
    "duration": 51,
    "start_time": "2023-01-09T20:55:25.217Z"
   },
   {
    "duration": 45,
    "start_time": "2023-01-09T20:55:48.297Z"
   },
   {
    "duration": 211,
    "start_time": "2023-01-09T20:55:55.979Z"
   },
   {
    "duration": 203,
    "start_time": "2023-01-09T20:56:00.113Z"
   },
   {
    "duration": 212,
    "start_time": "2023-01-09T20:56:08.307Z"
   },
   {
    "duration": 235,
    "start_time": "2023-01-09T20:56:39.962Z"
   },
   {
    "duration": 217,
    "start_time": "2023-01-09T20:56:55.262Z"
   },
   {
    "duration": 215,
    "start_time": "2023-01-09T20:57:01.082Z"
   },
   {
    "duration": 102,
    "start_time": "2023-01-09T20:59:37.795Z"
   },
   {
    "duration": 4,
    "start_time": "2023-01-09T21:00:26.930Z"
   },
   {
    "duration": 258,
    "start_time": "2023-01-09T21:00:35.786Z"
   },
   {
    "duration": 190,
    "start_time": "2023-01-09T21:00:41.781Z"
   },
   {
    "duration": 715,
    "start_time": "2023-01-09T21:01:17.442Z"
   },
   {
    "duration": 603,
    "start_time": "2023-01-09T21:01:33.166Z"
   },
   {
    "duration": 161,
    "start_time": "2023-01-09T21:02:56.942Z"
   },
   {
    "duration": 48,
    "start_time": "2023-01-09T21:03:15.656Z"
   },
   {
    "duration": 44,
    "start_time": "2023-01-09T21:03:20.676Z"
   },
   {
    "duration": 1112,
    "start_time": "2023-01-09T21:03:26.313Z"
   },
   {
    "duration": 630,
    "start_time": "2023-01-09T21:03:39.783Z"
   },
   {
    "duration": 1007,
    "start_time": "2023-01-09T21:03:48.868Z"
   },
   {
    "duration": 8,
    "start_time": "2023-01-09T21:04:30.016Z"
   },
   {
    "duration": 4,
    "start_time": "2023-01-09T21:04:45.276Z"
   },
   {
    "duration": 168,
    "start_time": "2023-01-09T21:05:34.296Z"
   },
   {
    "duration": 607,
    "start_time": "2023-01-09T21:05:43.737Z"
   },
   {
    "duration": 736,
    "start_time": "2023-01-09T21:06:09.807Z"
   },
   {
    "duration": 601,
    "start_time": "2023-01-09T21:06:23.972Z"
   },
   {
    "duration": 651,
    "start_time": "2023-01-09T21:06:34.546Z"
   },
   {
    "duration": 216,
    "start_time": "2023-01-09T21:07:50.898Z"
   },
   {
    "duration": 1501,
    "start_time": "2023-01-09T21:08:03.018Z"
   },
   {
    "duration": 1825,
    "start_time": "2023-01-09T21:08:24.484Z"
   },
   {
    "duration": 678,
    "start_time": "2023-01-09T21:08:39.068Z"
   },
   {
    "duration": 10,
    "start_time": "2023-01-09T21:09:54.686Z"
   },
   {
    "duration": 15,
    "start_time": "2023-01-09T21:10:05.272Z"
   },
   {
    "duration": 7,
    "start_time": "2023-01-09T21:10:10.661Z"
   },
   {
    "duration": 6,
    "start_time": "2023-01-09T21:10:15.858Z"
   },
   {
    "duration": 4,
    "start_time": "2023-01-09T21:10:28.710Z"
   },
   {
    "duration": 609,
    "start_time": "2023-01-09T21:11:51.371Z"
   },
   {
    "duration": 616,
    "start_time": "2023-01-09T21:12:52.711Z"
   },
   {
    "duration": 107,
    "start_time": "2023-01-09T21:15:14.919Z"
   },
   {
    "duration": 109,
    "start_time": "2023-01-09T21:15:18.950Z"
   },
   {
    "duration": 613,
    "start_time": "2023-01-09T21:15:23.132Z"
   }
  ],
  "kernelspec": {
   "display_name": "Python 3 (ipykernel)",
   "language": "python",
   "name": "python3"
  },
  "language_info": {
   "codemirror_mode": {
    "name": "ipython",
    "version": 3
   },
   "file_extension": ".py",
   "mimetype": "text/x-python",
   "name": "python",
   "nbconvert_exporter": "python",
   "pygments_lexer": "ipython3",
   "version": "3.9.12"
  },
  "toc": {
   "base_numbering": 1,
   "nav_menu": {},
   "number_sections": true,
   "sideBar": true,
   "skip_h1_title": true,
   "title_cell": "Содержание",
   "title_sidebar": "Contents",
   "toc_cell": true,
   "toc_position": {
    "height": "calc(100% - 180px)",
    "left": "10px",
    "top": "150px",
    "width": "318.188px"
   },
   "toc_section_display": true,
   "toc_window_display": false
  }
 },
 "nbformat": 4,
 "nbformat_minor": 2
}
