{
 "cells": [
  {
   "cell_type": "markdown",
   "metadata": {
    "toc": true
   },
   "source": [
    "<h1>Содержание<span class=\"tocSkip\"></span></h1>\n",
    "<div class=\"toc\"><ul class=\"toc-item\"><li><span><a href=\"#Загрузка-данных\" data-toc-modified-id=\"Загрузка-данных-1\"><span class=\"toc-item-num\">1&nbsp;&nbsp;</span>Загрузка данных</a></span></li><li><span><a href=\"#Умножение-матриц\" data-toc-modified-id=\"Умножение-матриц-2\"><span class=\"toc-item-num\">2&nbsp;&nbsp;</span>Умножение матриц</a></span></li><li><span><a href=\"#Алгоритм-преобразования\" data-toc-modified-id=\"Алгоритм-преобразования-3\"><span class=\"toc-item-num\">3&nbsp;&nbsp;</span>Алгоритм преобразования</a></span></li><li><span><a href=\"#Проверка-алгоритма\" data-toc-modified-id=\"Проверка-алгоритма-4\"><span class=\"toc-item-num\">4&nbsp;&nbsp;</span>Проверка алгоритма</a></span></li><li><span><a href=\"#Общий-вывод\" data-toc-modified-id=\"Общий-вывод-5\"><span class=\"toc-item-num\">5&nbsp;&nbsp;</span>Общий вывод</a></span></li><li><span><a href=\"#Чек-лист-проверки\" data-toc-modified-id=\"Чек-лист-проверки-6\"><span class=\"toc-item-num\">6&nbsp;&nbsp;</span>Чек-лист проверки</a></span></li></ul></div>"
   ]
  },
  {
   "cell_type": "markdown",
   "metadata": {},
   "source": [
    "# Защита персональных данных клиентов"
   ]
  },
  {
   "cell_type": "markdown",
   "metadata": {},
   "source": [
    "Вам нужно защитить данные клиентов страховой компании «Хоть потоп». Разработайте такой метод преобразования данных, чтобы по ним было сложно восстановить персональную информацию. Обоснуйте корректность его работы.\n",
    "\n",
    "Нужно защитить данные, чтобы при преобразовании качество моделей машинного обучения не ухудшилось. Подбирать наилучшую модель не требуется."
   ]
  },
  {
   "cell_type": "markdown",
   "metadata": {},
   "source": [
    "## Загрузка данных"
   ]
  },
  {
   "cell_type": "code",
   "execution_count": 1,
   "metadata": {},
   "outputs": [],
   "source": [
    "import pandas as pd\n",
    "import numpy as np\n",
    "import matplotlib.pyplot as plt\n",
    "import seaborn as sns\n",
    "from sklearn.metrics import r2_score\n",
    "from sklearn.preprocessing import StandardScaler\n",
    "from sklearn.linear_model import LinearRegression"
   ]
  },
  {
   "cell_type": "code",
   "execution_count": 2,
   "metadata": {},
   "outputs": [],
   "source": [
    "data=pd.read_csv('/datasets/insurance.csv')"
   ]
  },
  {
   "cell_type": "code",
   "execution_count": 3,
   "metadata": {},
   "outputs": [
    {
     "data": {
      "text/html": [
       "<div>\n",
       "<style scoped>\n",
       "    .dataframe tbody tr th:only-of-type {\n",
       "        vertical-align: middle;\n",
       "    }\n",
       "\n",
       "    .dataframe tbody tr th {\n",
       "        vertical-align: top;\n",
       "    }\n",
       "\n",
       "    .dataframe thead th {\n",
       "        text-align: right;\n",
       "    }\n",
       "</style>\n",
       "<table border=\"1\" class=\"dataframe\">\n",
       "  <thead>\n",
       "    <tr style=\"text-align: right;\">\n",
       "      <th></th>\n",
       "      <th>Пол</th>\n",
       "      <th>Возраст</th>\n",
       "      <th>Зарплата</th>\n",
       "      <th>Члены семьи</th>\n",
       "      <th>Страховые выплаты</th>\n",
       "    </tr>\n",
       "  </thead>\n",
       "  <tbody>\n",
       "    <tr>\n",
       "      <th>0</th>\n",
       "      <td>1</td>\n",
       "      <td>41.0</td>\n",
       "      <td>49600.0</td>\n",
       "      <td>1</td>\n",
       "      <td>0</td>\n",
       "    </tr>\n",
       "    <tr>\n",
       "      <th>1</th>\n",
       "      <td>0</td>\n",
       "      <td>46.0</td>\n",
       "      <td>38000.0</td>\n",
       "      <td>1</td>\n",
       "      <td>1</td>\n",
       "    </tr>\n",
       "    <tr>\n",
       "      <th>2</th>\n",
       "      <td>0</td>\n",
       "      <td>29.0</td>\n",
       "      <td>21000.0</td>\n",
       "      <td>0</td>\n",
       "      <td>0</td>\n",
       "    </tr>\n",
       "    <tr>\n",
       "      <th>3</th>\n",
       "      <td>0</td>\n",
       "      <td>21.0</td>\n",
       "      <td>41700.0</td>\n",
       "      <td>2</td>\n",
       "      <td>0</td>\n",
       "    </tr>\n",
       "    <tr>\n",
       "      <th>4</th>\n",
       "      <td>1</td>\n",
       "      <td>28.0</td>\n",
       "      <td>26100.0</td>\n",
       "      <td>0</td>\n",
       "      <td>0</td>\n",
       "    </tr>\n",
       "  </tbody>\n",
       "</table>\n",
       "</div>"
      ],
      "text/plain": [
       "   Пол  Возраст  Зарплата  Члены семьи  Страховые выплаты\n",
       "0    1     41.0   49600.0            1                  0\n",
       "1    0     46.0   38000.0            1                  1\n",
       "2    0     29.0   21000.0            0                  0\n",
       "3    0     21.0   41700.0            2                  0\n",
       "4    1     28.0   26100.0            0                  0"
      ]
     },
     "execution_count": 3,
     "metadata": {},
     "output_type": "execute_result"
    }
   ],
   "source": [
    "data.head()"
   ]
  },
  {
   "cell_type": "code",
   "execution_count": 23,
   "metadata": {},
   "outputs": [
    {
     "data": {
      "text/plain": [
       "Пол                  0.0\n",
       "Возраст              0.0\n",
       "Зарплата             0.0\n",
       "Члены семьи          0.0\n",
       "Страховые выплаты    0.0\n",
       "dtype: float64"
      ]
     },
     "execution_count": 23,
     "metadata": {},
     "output_type": "execute_result"
    }
   ],
   "source": [
    "data.isna().mean()"
   ]
  },
  {
   "cell_type": "markdown",
   "metadata": {},
   "source": [
    "Пропусков нет."
   ]
  },
  {
   "cell_type": "code",
   "execution_count": 18,
   "metadata": {},
   "outputs": [
    {
     "data": {
      "text/html": [
       "<div>\n",
       "<style scoped>\n",
       "    .dataframe tbody tr th:only-of-type {\n",
       "        vertical-align: middle;\n",
       "    }\n",
       "\n",
       "    .dataframe tbody tr th {\n",
       "        vertical-align: top;\n",
       "    }\n",
       "\n",
       "    .dataframe thead th {\n",
       "        text-align: right;\n",
       "    }\n",
       "</style>\n",
       "<table border=\"1\" class=\"dataframe\">\n",
       "  <thead>\n",
       "    <tr style=\"text-align: right;\">\n",
       "      <th></th>\n",
       "      <th>Пол</th>\n",
       "      <th>Возраст</th>\n",
       "      <th>Зарплата</th>\n",
       "      <th>Члены семьи</th>\n",
       "      <th>Страховые выплаты</th>\n",
       "    </tr>\n",
       "  </thead>\n",
       "  <tbody>\n",
       "    <tr>\n",
       "      <th>count</th>\n",
       "      <td>5000.000000</td>\n",
       "      <td>5000.000000</td>\n",
       "      <td>5000.000000</td>\n",
       "      <td>5000.000000</td>\n",
       "      <td>5000.000000</td>\n",
       "    </tr>\n",
       "    <tr>\n",
       "      <th>mean</th>\n",
       "      <td>0.499000</td>\n",
       "      <td>30.952800</td>\n",
       "      <td>39916.360000</td>\n",
       "      <td>1.194200</td>\n",
       "      <td>0.148000</td>\n",
       "    </tr>\n",
       "    <tr>\n",
       "      <th>std</th>\n",
       "      <td>0.500049</td>\n",
       "      <td>8.440807</td>\n",
       "      <td>9900.083569</td>\n",
       "      <td>1.091387</td>\n",
       "      <td>0.463183</td>\n",
       "    </tr>\n",
       "    <tr>\n",
       "      <th>min</th>\n",
       "      <td>0.000000</td>\n",
       "      <td>18.000000</td>\n",
       "      <td>5300.000000</td>\n",
       "      <td>0.000000</td>\n",
       "      <td>0.000000</td>\n",
       "    </tr>\n",
       "    <tr>\n",
       "      <th>25%</th>\n",
       "      <td>0.000000</td>\n",
       "      <td>24.000000</td>\n",
       "      <td>33300.000000</td>\n",
       "      <td>0.000000</td>\n",
       "      <td>0.000000</td>\n",
       "    </tr>\n",
       "    <tr>\n",
       "      <th>50%</th>\n",
       "      <td>0.000000</td>\n",
       "      <td>30.000000</td>\n",
       "      <td>40200.000000</td>\n",
       "      <td>1.000000</td>\n",
       "      <td>0.000000</td>\n",
       "    </tr>\n",
       "    <tr>\n",
       "      <th>75%</th>\n",
       "      <td>1.000000</td>\n",
       "      <td>37.000000</td>\n",
       "      <td>46600.000000</td>\n",
       "      <td>2.000000</td>\n",
       "      <td>0.000000</td>\n",
       "    </tr>\n",
       "    <tr>\n",
       "      <th>max</th>\n",
       "      <td>1.000000</td>\n",
       "      <td>65.000000</td>\n",
       "      <td>79000.000000</td>\n",
       "      <td>6.000000</td>\n",
       "      <td>5.000000</td>\n",
       "    </tr>\n",
       "  </tbody>\n",
       "</table>\n",
       "</div>"
      ],
      "text/plain": [
       "               Пол      Возраст      Зарплата  Члены семьи  Страховые выплаты\n",
       "count  5000.000000  5000.000000   5000.000000  5000.000000        5000.000000\n",
       "mean      0.499000    30.952800  39916.360000     1.194200           0.148000\n",
       "std       0.500049     8.440807   9900.083569     1.091387           0.463183\n",
       "min       0.000000    18.000000   5300.000000     0.000000           0.000000\n",
       "25%       0.000000    24.000000  33300.000000     0.000000           0.000000\n",
       "50%       0.000000    30.000000  40200.000000     1.000000           0.000000\n",
       "75%       1.000000    37.000000  46600.000000     2.000000           0.000000\n",
       "max       1.000000    65.000000  79000.000000     6.000000           5.000000"
      ]
     },
     "execution_count": 18,
     "metadata": {},
     "output_type": "execute_result"
    }
   ],
   "source": [
    "data.describe()"
   ]
  },
  {
   "cell_type": "code",
   "execution_count": 21,
   "metadata": {},
   "outputs": [
    {
     "data": {
      "image/png": "[encoded data removed]",
      "text/plain": [
       "<Figure size 720x720 with 6 Axes>"
      ]
     },
     "metadata": {
      "needs_background": "light"
     },
     "output_type": "display_data"
    }
   ],
   "source": [
    "data.hist(figsize=(10,10));"
   ]
  },
  {
   "cell_type": "markdown",
   "metadata": {},
   "source": [
    "В целом данные без выбросов. Хорошее распределение, можно приступать к работе."
   ]
  },
  {
   "cell_type": "code",
   "execution_count": 28,
   "metadata": {},
   "outputs": [
    {
     "data": {
      "text/plain": [
       "0.0306"
      ]
     },
     "execution_count": 28,
     "metadata": {},
     "output_type": "execute_result"
    }
   ],
   "source": [
    "data.duplicated().mean()"
   ]
  },
  {
   "cell_type": "markdown",
   "metadata": {},
   "source": [
    "Выделю целевой фичи и целевой признак"
   ]
  },
  {
   "cell_type": "code",
   "execution_count": 4,
   "metadata": {},
   "outputs": [],
   "source": [
    "features = data.drop('Страховые выплаты', axis=1)\n",
    "target = data['Страховые выплаты']"
   ]
  },
  {
   "cell_type": "code",
   "execution_count": 5,
   "metadata": {},
   "outputs": [
    {
     "data": {
      "text/html": [
       "<div>\n",
       "<style scoped>\n",
       "    .dataframe tbody tr th:only-of-type {\n",
       "        vertical-align: middle;\n",
       "    }\n",
       "\n",
       "    .dataframe tbody tr th {\n",
       "        vertical-align: top;\n",
       "    }\n",
       "\n",
       "    .dataframe thead th {\n",
       "        text-align: right;\n",
       "    }\n",
       "</style>\n",
       "<table border=\"1\" class=\"dataframe\">\n",
       "  <thead>\n",
       "    <tr style=\"text-align: right;\">\n",
       "      <th></th>\n",
       "      <th>Пол</th>\n",
       "      <th>Возраст</th>\n",
       "      <th>Зарплата</th>\n",
       "      <th>Члены семьи</th>\n",
       "    </tr>\n",
       "  </thead>\n",
       "  <tbody>\n",
       "    <tr>\n",
       "      <th>0</th>\n",
       "      <td>1</td>\n",
       "      <td>41.0</td>\n",
       "      <td>49600.0</td>\n",
       "      <td>1</td>\n",
       "    </tr>\n",
       "    <tr>\n",
       "      <th>1</th>\n",
       "      <td>0</td>\n",
       "      <td>46.0</td>\n",
       "      <td>38000.0</td>\n",
       "      <td>1</td>\n",
       "    </tr>\n",
       "    <tr>\n",
       "      <th>2</th>\n",
       "      <td>0</td>\n",
       "      <td>29.0</td>\n",
       "      <td>21000.0</td>\n",
       "      <td>0</td>\n",
       "    </tr>\n",
       "    <tr>\n",
       "      <th>3</th>\n",
       "      <td>0</td>\n",
       "      <td>21.0</td>\n",
       "      <td>41700.0</td>\n",
       "      <td>2</td>\n",
       "    </tr>\n",
       "    <tr>\n",
       "      <th>4</th>\n",
       "      <td>1</td>\n",
       "      <td>28.0</td>\n",
       "      <td>26100.0</td>\n",
       "      <td>0</td>\n",
       "    </tr>\n",
       "  </tbody>\n",
       "</table>\n",
       "</div>"
      ],
      "text/plain": [
       "   Пол  Возраст  Зарплата  Члены семьи\n",
       "0    1     41.0   49600.0            1\n",
       "1    0     46.0   38000.0            1\n",
       "2    0     29.0   21000.0            0\n",
       "3    0     21.0   41700.0            2\n",
       "4    1     28.0   26100.0            0"
      ]
     },
     "execution_count": 5,
     "metadata": {},
     "output_type": "execute_result"
    }
   ],
   "source": [
    "features.head()"
   ]
  },
  {
   "cell_type": "markdown",
   "metadata": {},
   "source": [
    "Вывод: Данные не нуждаются в предобрабтке. Пропуски и выбросы отсуствуют. Есть 3% дубликатов, но в целом возможно это не дубликаты, а совпадения. Так как в случае данной задачи эти дубликаты никак на результат не скажутся, даже если они настоящие, то и удалять я не вижу смысла."
   ]
  },
  {
   "cell_type": "markdown",
   "metadata": {},
   "source": [
    "## Умножение матриц"
   ]
  },
  {
   "cell_type": "markdown",
   "metadata": {},
   "source": [
    "В этом задании вы можете записывать формулы в *Jupyter Notebook.*\n",
    "\n",
    "Чтобы записать формулу внутри текста, окружите её символами доллара \\\\$; если снаружи —  двойными символами \\\\$\\\\$. Эти формулы записываются на языке вёрстки *LaTeX.* \n",
    "\n",
    "Для примера мы записали формулы линейной регрессии. Можете их скопировать и отредактировать, чтобы решить задачу.\n",
    "\n",
    "Работать в *LaTeX* необязательно."
   ]
  },
  {
   "cell_type": "markdown",
   "metadata": {},
   "source": [
    "Обозначения:\n",
    "\n",
    "- $X$ — матрица признаков (нулевой столбец состоит из единиц)\n",
    "\n",
    "- $y$ — вектор целевого признака\n",
    "\n",
    "- $P$ — матрица, на которую умножаются признаки\n",
    "\n",
    "- $w$ — вектор весов линейной регрессии (нулевой элемент равен сдвигу)"
   ]
  },
  {
   "cell_type": "markdown",
   "metadata": {},
   "source": [
    "Предсказания:\n",
    "\n",
    "$$\n",
    "a = Xw\n",
    "$$\n",
    "\n",
    "Задача обучения:\n",
    "\n",
    "$$\n",
    "w = \\arg\\min_w MSE(Xw, y)\n",
    "$$\n",
    "\n",
    "Формула обучения:\n",
    "\n",
    "$$\n",
    "w = (X^T X)^{-1} X^T y\n",
    "$$"
   ]
  },
  {
   "cell_type": "markdown",
   "metadata": {},
   "source": [
    "Создам класс LinReg и напишу 2 метода fit и predict.\n",
    "Первый находит веса w, второй делает предсказания:"
   ]
  },
  {
   "cell_type": "code",
   "execution_count": 6,
   "metadata": {},
   "outputs": [],
   "source": [
    "class LinReg:\n",
    "    def fit(self, train_features, train_target):\n",
    "        X = np.concatenate((np.ones((train_features.shape[0], 1)), train_features), axis=1)\n",
    "        y = train_target\n",
    "        w = np.linalg.inv((X.T @ X)).dot(X.T).dot(y)\n",
    "        self.w = w[1:]\n",
    "        self.w0 = w[0]\n",
    "        print(w)\n",
    "        \n",
    "    def predict(self, test_features):\n",
    "        return test_features.dot(self.w) + self.w0"
   ]
  },
  {
   "cell_type": "markdown",
   "metadata": {},
   "source": [
    "Создам модель и обучу. Найду её предсказания на обучающей выборке и сохраню их в переменной predictions. Напечатаем на экране веса и значение метрики R2. Она вычисляется по MSE."
   ]
  },
  {
   "cell_type": "code",
   "execution_count": 7,
   "metadata": {},
   "outputs": [
    {
     "name": "stdout",
     "output_type": "stream",
     "text": [
      "[-9.38235504e-01  7.92580543e-03  3.57083050e-02 -1.70080492e-07\n",
      " -1.35676623e-02]\n"
     ]
    },
    {
     "data": {
      "text/plain": [
       "0.42494550286668"
      ]
     },
     "execution_count": 7,
     "metadata": {},
     "output_type": "execute_result"
    }
   ],
   "source": [
    "model = LinReg()\n",
    "model.fit(features, target)\n",
    "predictions = model.predict(features)\n",
    "r2_score(target, predictions)"
   ]
  },
  {
   "cell_type": "markdown",
   "metadata": {},
   "source": [
    "Создадим случайную квадратную матрицу, размером по количеству столбцов features"
   ]
  },
  {
   "cell_type": "code",
   "execution_count": 8,
   "metadata": {},
   "outputs": [
    {
     "data": {
      "text/plain": [
       "array([[-0.39600963, -1.18333334, -0.87910373, -0.69455622],\n",
       "       [ 1.23314733, -0.51552164, -0.01915819, -2.2709233 ],\n",
       "       [-0.96905721, -0.20723418,  0.67823996, -0.92832885],\n",
       "       [-0.76368037,  0.18925172,  0.19161151,  0.82716712]])"
      ]
     },
     "execution_count": 8,
     "metadata": {},
     "output_type": "execute_result"
    }
   ],
   "source": [
    "random_matrix = np.random.normal(0, 1, (features.shape[1], features.shape[1]))\n",
    "random_matrix"
   ]
  },
  {
   "cell_type": "code",
   "execution_count": 9,
   "metadata": {},
   "outputs": [
    {
     "data": {
      "text/plain": [
       "array([[ 6.48403109e-03,  5.88222453e+00, -3.33266566e+00,\n",
       "         1.24143893e+01],\n",
       "       [-9.96054306e-01, -1.44450331e+01,  7.39602142e+00,\n",
       "        -3.21935404e+01],\n",
       "       [ 1.90120476e-02,  1.21084632e+01, -5.73622024e+00,\n",
       "         2.68210583e+01],\n",
       "       [ 2.29474540e-01,  5.93080372e+00, -3.44026645e+00,\n",
       "         1.38231858e+01]])"
      ]
     },
     "execution_count": 9,
     "metadata": {},
     "output_type": "execute_result"
    }
   ],
   "source": [
    "np.linalg.inv(random_matrix)"
   ]
  },
  {
   "cell_type": "markdown",
   "metadata": {},
   "source": [
    "Матрица обратима"
   ]
  },
  {
   "cell_type": "markdown",
   "metadata": {},
   "source": [
    "И перемножу исходную на обратную матрицы, должна получиться единичная матрица:"
   ]
  },
  {
   "cell_type": "code",
   "execution_count": 10,
   "metadata": {},
   "outputs": [
    {
     "data": {
      "text/plain": [
       "array([[ 1.00000000e+00,  1.90443991e-15, -1.84988292e-16,\n",
       "        -8.70746705e-16],\n",
       "       [ 9.17065418e-18,  1.00000000e+00, -1.99233786e-16,\n",
       "        -6.26262591e-16],\n",
       "       [ 1.36064082e-17,  1.76749125e-15,  1.00000000e+00,\n",
       "         4.02625127e-15],\n",
       "       [-3.26295119e-17, -1.15165930e-15, -5.25671401e-16,\n",
       "         1.00000000e+00]])"
      ]
     },
     "execution_count": 10,
     "metadata": {},
     "output_type": "execute_result"
    }
   ],
   "source": [
    "random_matrix @ np.linalg.inv(random_matrix)"
   ]
  },
  {
   "cell_type": "code",
   "execution_count": 11,
   "metadata": {},
   "outputs": [
    {
     "data": {
      "text/html": [
       "<div>\n",
       "<style scoped>\n",
       "    .dataframe tbody tr th:only-of-type {\n",
       "        vertical-align: middle;\n",
       "    }\n",
       "\n",
       "    .dataframe tbody tr th {\n",
       "        vertical-align: top;\n",
       "    }\n",
       "\n",
       "    .dataframe thead th {\n",
       "        text-align: right;\n",
       "    }\n",
       "</style>\n",
       "<table border=\"1\" class=\"dataframe\">\n",
       "  <thead>\n",
       "    <tr style=\"text-align: right;\">\n",
       "      <th></th>\n",
       "      <th>0</th>\n",
       "      <th>1</th>\n",
       "      <th>2</th>\n",
       "      <th>3</th>\n",
       "    </tr>\n",
       "  </thead>\n",
       "  <tbody>\n",
       "    <tr>\n",
       "      <th>0</th>\n",
       "      <td>-48015.838162</td>\n",
       "      <td>-10300.945985</td>\n",
       "      <td>33639.229140</td>\n",
       "      <td>-46138.086003</td>\n",
       "    </tr>\n",
       "    <tr>\n",
       "      <th>1</th>\n",
       "      <td>-36768.212804</td>\n",
       "      <td>-7898.423728</td>\n",
       "      <td>25772.428893</td>\n",
       "      <td>-35380.131450</td>\n",
       "    </tr>\n",
       "    <tr>\n",
       "      <th>2</th>\n",
       "      <td>-20314.440094</td>\n",
       "      <td>-4366.867987</td>\n",
       "      <td>14242.483616</td>\n",
       "      <td>-19560.762540</td>\n",
       "    </tr>\n",
       "    <tr>\n",
       "      <th>3</th>\n",
       "      <td>-40385.316837</td>\n",
       "      <td>-8652.112915</td>\n",
       "      <td>28282.587319</td>\n",
       "      <td>-38757.347931</td>\n",
       "    </tr>\n",
       "    <tr>\n",
       "      <th>4</th>\n",
       "      <td>-25258.261011</td>\n",
       "      <td>-5424.430136</td>\n",
       "      <td>17700.647477</td>\n",
       "      <td>-24293.663288</td>\n",
       "    </tr>\n",
       "    <tr>\n",
       "      <th>...</th>\n",
       "      <td>...</td>\n",
       "      <td>...</td>\n",
       "      <td>...</td>\n",
       "      <td>...</td>\n",
       "    </tr>\n",
       "    <tr>\n",
       "      <th>4995</th>\n",
       "      <td>-34562.341558</td>\n",
       "      <td>-7412.316464</td>\n",
       "      <td>24213.013439</td>\n",
       "      <td>-33203.271318</td>\n",
       "    </tr>\n",
       "    <tr>\n",
       "      <th>4996</th>\n",
       "      <td>-50737.434366</td>\n",
       "      <td>-10876.409715</td>\n",
       "      <td>35539.314245</td>\n",
       "      <td>-48720.815752</td>\n",
       "    </tr>\n",
       "    <tr>\n",
       "      <th>4997</th>\n",
       "      <td>-32827.903763</td>\n",
       "      <td>-7035.170760</td>\n",
       "      <td>22992.334773</td>\n",
       "      <td>-31514.112009</td>\n",
       "    </tr>\n",
       "    <tr>\n",
       "      <th>4998</th>\n",
       "      <td>-31663.728508</td>\n",
       "      <td>-6788.514864</td>\n",
       "      <td>22177.721010</td>\n",
       "      <td>-30404.526630</td>\n",
       "    </tr>\n",
       "    <tr>\n",
       "      <th>4999</th>\n",
       "      <td>-39310.354206</td>\n",
       "      <td>-8429.136550</td>\n",
       "      <td>27535.318538</td>\n",
       "      <td>-37753.604386</td>\n",
       "    </tr>\n",
       "  </tbody>\n",
       "</table>\n",
       "<p>5000 rows × 4 columns</p>\n",
       "</div>"
      ],
      "text/plain": [
       "                 0             1             2             3\n",
       "0    -48015.838162 -10300.945985  33639.229140 -46138.086003\n",
       "1    -36768.212804  -7898.423728  25772.428893 -35380.131450\n",
       "2    -20314.440094  -4366.867987  14242.483616 -19560.762540\n",
       "3    -40385.316837  -8652.112915  28282.587319 -38757.347931\n",
       "4    -25258.261011  -5424.430136  17700.647477 -24293.663288\n",
       "...            ...           ...           ...           ...\n",
       "4995 -34562.341558  -7412.316464  24213.013439 -33203.271318\n",
       "4996 -50737.434366 -10876.409715  35539.314245 -48720.815752\n",
       "4997 -32827.903763  -7035.170760  22992.334773 -31514.112009\n",
       "4998 -31663.728508  -6788.514864  22177.721010 -30404.526630\n",
       "4999 -39310.354206  -8429.136550  27535.318538 -37753.604386\n",
       "\n",
       "[5000 rows x 4 columns]"
      ]
     },
     "execution_count": 11,
     "metadata": {},
     "output_type": "execute_result"
    }
   ],
   "source": [
    "encoded_features = features.dot(random_matrix)\n",
    "encoded_features"
   ]
  },
  {
   "cell_type": "markdown",
   "metadata": {},
   "source": [
    "Обучу модель на новых признаках, найду предсказания, веса и посчитаю R2:"
   ]
  },
  {
   "cell_type": "code",
   "execution_count": 12,
   "metadata": {},
   "outputs": [
    {
     "name": "stdout",
     "output_type": "stream",
     "text": [
      "[-0.93821757  0.04165228 -0.08688716  0.06860434  0.02603918]\n"
     ]
    },
    {
     "data": {
      "text/plain": [
       "0.4249455023598889"
      ]
     },
     "execution_count": 12,
     "metadata": {},
     "output_type": "execute_result"
    }
   ],
   "source": [
    "model = LinReg()\n",
    "model.fit(encoded_features, target)\n",
    "predictions = model.predict(encoded_features)\n",
    "r2_score(target, predictions)"
   ]
  },
  {
   "cell_type": "markdown",
   "metadata": {},
   "source": [
    "Вывод:"
   ]
  },
  {
   "cell_type": "markdown",
   "metadata": {},
   "source": [
    "**Ответ:** Умножив признаки на обратимую матрицу, качество линейной регрессии не меняется.\n",
    "\n",
    "**Обоснование:** Веса изменились под новые значения, т.е. признаки исходной матрицы и преобразованной выражаются через коэффициенты(веса w), поэтому качество линейной регресии не изменилось"
   ]
  },
  {
   "cell_type": "markdown",
   "metadata": {},
   "source": [
    "## Алгоритм преобразования"
   ]
  },
  {
   "cell_type": "markdown",
   "metadata": {},
   "source": [
    "Напишу алгоритм - функцию преобразования исходных данных в зашифрованный вид, закодировав исходную матрицу:"
   ]
  },
  {
   "cell_type": "markdown",
   "metadata": {},
   "source": [
    "**Алгоритм**\n"
   ]
  },
  {
   "cell_type": "code",
   "execution_count": 13,
   "metadata": {},
   "outputs": [],
   "source": [
    "def encode(features):\n",
    "    random_matrix = np.random.normal(0, 1, (features.shape[1], features.shape[1]))\n",
    "    encoded_features = features.dot(random_matrix)\n",
    "    return encoded_features"
   ]
  },
  {
   "cell_type": "code",
   "execution_count": 14,
   "metadata": {},
   "outputs": [
    {
     "data": {
      "text/html": [
       "<div>\n",
       "<style scoped>\n",
       "    .dataframe tbody tr th:only-of-type {\n",
       "        vertical-align: middle;\n",
       "    }\n",
       "\n",
       "    .dataframe tbody tr th {\n",
       "        vertical-align: top;\n",
       "    }\n",
       "\n",
       "    .dataframe thead th {\n",
       "        text-align: right;\n",
       "    }\n",
       "</style>\n",
       "<table border=\"1\" class=\"dataframe\">\n",
       "  <thead>\n",
       "    <tr style=\"text-align: right;\">\n",
       "      <th></th>\n",
       "      <th>0</th>\n",
       "      <th>1</th>\n",
       "      <th>2</th>\n",
       "      <th>3</th>\n",
       "    </tr>\n",
       "  </thead>\n",
       "  <tbody>\n",
       "    <tr>\n",
       "      <th>0</th>\n",
       "      <td>52017.490307</td>\n",
       "      <td>-71655.288248</td>\n",
       "      <td>-135281.882689</td>\n",
       "      <td>26925.930901</td>\n",
       "    </tr>\n",
       "    <tr>\n",
       "      <th>1</th>\n",
       "      <td>39859.990928</td>\n",
       "      <td>-54907.126554</td>\n",
       "      <td>-103633.801954</td>\n",
       "      <td>20622.743485</td>\n",
       "    </tr>\n",
       "    <tr>\n",
       "      <th>2</th>\n",
       "      <td>22030.141161</td>\n",
       "      <td>-30345.454957</td>\n",
       "      <td>-57270.118675</td>\n",
       "      <td>11395.655948</td>\n",
       "    </tr>\n",
       "    <tr>\n",
       "      <th>3</th>\n",
       "      <td>43723.157468</td>\n",
       "      <td>-60231.825301</td>\n",
       "      <td>-113741.980174</td>\n",
       "      <td>22640.145539</td>\n",
       "    </tr>\n",
       "    <tr>\n",
       "      <th>4</th>\n",
       "      <td>27376.617232</td>\n",
       "      <td>-37710.960383</td>\n",
       "      <td>-71183.185138</td>\n",
       "      <td>14167.463803</td>\n",
       "    </tr>\n",
       "    <tr>\n",
       "      <th>...</th>\n",
       "      <td>...</td>\n",
       "      <td>...</td>\n",
       "      <td>...</td>\n",
       "      <td>...</td>\n",
       "    </tr>\n",
       "    <tr>\n",
       "      <th>4995</th>\n",
       "      <td>37438.054911</td>\n",
       "      <td>-51573.456933</td>\n",
       "      <td>-97369.018596</td>\n",
       "      <td>19379.352011</td>\n",
       "    </tr>\n",
       "    <tr>\n",
       "      <th>4996</th>\n",
       "      <td>54947.133412</td>\n",
       "      <td>-75690.904005</td>\n",
       "      <td>-142925.747406</td>\n",
       "      <td>28447.111825</td>\n",
       "    </tr>\n",
       "    <tr>\n",
       "      <th>4997</th>\n",
       "      <td>35546.429745</td>\n",
       "      <td>-48968.174960</td>\n",
       "      <td>-92463.784201</td>\n",
       "      <td>18404.346217</td>\n",
       "    </tr>\n",
       "    <tr>\n",
       "      <th>4998</th>\n",
       "      <td>34290.757058</td>\n",
       "      <td>-47240.332899</td>\n",
       "      <td>-89185.998868</td>\n",
       "      <td>17753.673154</td>\n",
       "    </tr>\n",
       "    <tr>\n",
       "      <th>4999</th>\n",
       "      <td>42575.656434</td>\n",
       "      <td>-58649.653579</td>\n",
       "      <td>-110737.922582</td>\n",
       "      <td>22042.261224</td>\n",
       "    </tr>\n",
       "  </tbody>\n",
       "</table>\n",
       "<p>5000 rows × 4 columns</p>\n",
       "</div>"
      ],
      "text/plain": [
       "                 0             1              2             3\n",
       "0     52017.490307 -71655.288248 -135281.882689  26925.930901\n",
       "1     39859.990928 -54907.126554 -103633.801954  20622.743485\n",
       "2     22030.141161 -30345.454957  -57270.118675  11395.655948\n",
       "3     43723.157468 -60231.825301 -113741.980174  22640.145539\n",
       "4     27376.617232 -37710.960383  -71183.185138  14167.463803\n",
       "...            ...           ...            ...           ...\n",
       "4995  37438.054911 -51573.456933  -97369.018596  19379.352011\n",
       "4996  54947.133412 -75690.904005 -142925.747406  28447.111825\n",
       "4997  35546.429745 -48968.174960  -92463.784201  18404.346217\n",
       "4998  34290.757058 -47240.332899  -89185.998868  17753.673154\n",
       "4999  42575.656434 -58649.653579 -110737.922582  22042.261224\n",
       "\n",
       "[5000 rows x 4 columns]"
      ]
     },
     "execution_count": 14,
     "metadata": {},
     "output_type": "execute_result"
    }
   ],
   "source": [
    "encode(features)"
   ]
  },
  {
   "cell_type": "markdown",
   "metadata": {},
   "source": [
    "Для расшифровки данных напишу алгоритм - функцию дешифрования, принимающая на вход зашифрованную матрицу encoded_features и возвращающая исходную features:"
   ]
  },
  {
   "cell_type": "code",
   "execution_count": 15,
   "metadata": {},
   "outputs": [
    {
     "data": {
      "text/html": [
       "<div>\n",
       "<style scoped>\n",
       "    .dataframe tbody tr th:only-of-type {\n",
       "        vertical-align: middle;\n",
       "    }\n",
       "\n",
       "    .dataframe tbody tr th {\n",
       "        vertical-align: top;\n",
       "    }\n",
       "\n",
       "    .dataframe thead th {\n",
       "        text-align: right;\n",
       "    }\n",
       "</style>\n",
       "<table border=\"1\" class=\"dataframe\">\n",
       "  <thead>\n",
       "    <tr style=\"text-align: right;\">\n",
       "      <th></th>\n",
       "      <th>Пол</th>\n",
       "      <th>Возраст</th>\n",
       "      <th>Зарплата</th>\n",
       "      <th>Члены семьи</th>\n",
       "    </tr>\n",
       "  </thead>\n",
       "  <tbody>\n",
       "    <tr>\n",
       "      <th>0</th>\n",
       "      <td>1</td>\n",
       "      <td>41.0</td>\n",
       "      <td>49600.0</td>\n",
       "      <td>1</td>\n",
       "    </tr>\n",
       "    <tr>\n",
       "      <th>1</th>\n",
       "      <td>0</td>\n",
       "      <td>46.0</td>\n",
       "      <td>38000.0</td>\n",
       "      <td>1</td>\n",
       "    </tr>\n",
       "    <tr>\n",
       "      <th>2</th>\n",
       "      <td>0</td>\n",
       "      <td>29.0</td>\n",
       "      <td>21000.0</td>\n",
       "      <td>0</td>\n",
       "    </tr>\n",
       "    <tr>\n",
       "      <th>3</th>\n",
       "      <td>0</td>\n",
       "      <td>21.0</td>\n",
       "      <td>41700.0</td>\n",
       "      <td>2</td>\n",
       "    </tr>\n",
       "    <tr>\n",
       "      <th>4</th>\n",
       "      <td>1</td>\n",
       "      <td>28.0</td>\n",
       "      <td>26100.0</td>\n",
       "      <td>0</td>\n",
       "    </tr>\n",
       "    <tr>\n",
       "      <th>...</th>\n",
       "      <td>...</td>\n",
       "      <td>...</td>\n",
       "      <td>...</td>\n",
       "      <td>...</td>\n",
       "    </tr>\n",
       "    <tr>\n",
       "      <th>4995</th>\n",
       "      <td>0</td>\n",
       "      <td>28.0</td>\n",
       "      <td>35700.0</td>\n",
       "      <td>2</td>\n",
       "    </tr>\n",
       "    <tr>\n",
       "      <th>4996</th>\n",
       "      <td>0</td>\n",
       "      <td>34.0</td>\n",
       "      <td>52400.0</td>\n",
       "      <td>1</td>\n",
       "    </tr>\n",
       "    <tr>\n",
       "      <th>4997</th>\n",
       "      <td>0</td>\n",
       "      <td>20.0</td>\n",
       "      <td>33900.0</td>\n",
       "      <td>2</td>\n",
       "    </tr>\n",
       "    <tr>\n",
       "      <th>4998</th>\n",
       "      <td>1</td>\n",
       "      <td>22.0</td>\n",
       "      <td>32700.0</td>\n",
       "      <td>3</td>\n",
       "    </tr>\n",
       "    <tr>\n",
       "      <th>4999</th>\n",
       "      <td>1</td>\n",
       "      <td>28.0</td>\n",
       "      <td>40600.0</td>\n",
       "      <td>1</td>\n",
       "    </tr>\n",
       "  </tbody>\n",
       "</table>\n",
       "<p>5000 rows × 4 columns</p>\n",
       "</div>"
      ],
      "text/plain": [
       "      Пол  Возраст  Зарплата  Члены семьи\n",
       "0       1     41.0   49600.0            1\n",
       "1       0     46.0   38000.0            1\n",
       "2       0     29.0   21000.0            0\n",
       "3       0     21.0   41700.0            2\n",
       "4       1     28.0   26100.0            0\n",
       "...   ...      ...       ...          ...\n",
       "4995    0     28.0   35700.0            2\n",
       "4996    0     34.0   52400.0            1\n",
       "4997    0     20.0   33900.0            2\n",
       "4998    1     22.0   32700.0            3\n",
       "4999    1     28.0   40600.0            1\n",
       "\n",
       "[5000 rows x 4 columns]"
      ]
     },
     "execution_count": 15,
     "metadata": {},
     "output_type": "execute_result"
    }
   ],
   "source": [
    "def decode(encoded_features):\n",
    "    decoded_features = round(abs(encoded_features.dot(np.linalg.inv(random_matrix))))\n",
    "    for i in decoded_features.iloc[:, [0, 3]]:\n",
    "        decoded_features[i] = decoded_features[i].astype(int)\n",
    "    decoded_features.columns = features.columns\n",
    "    return decoded_features\n",
    "\n",
    "decode(encoded_features)"
   ]
  },
  {
   "cell_type": "markdown",
   "metadata": {},
   "source": [
    "Полученная матрица полностью соответсвует изначальной"
   ]
  },
  {
   "cell_type": "markdown",
   "metadata": {},
   "source": [
    "**Обоснование**\n",
    "\n",
    "Докажем, почему качество линейной регрессии не поменяется. Предсказания высчитываются по формуле:\n",
    "$$\n",
    "a = Xw\n",
    "$$\n",
    "\n",
    "\n",
    "\n",
    "Т.к. новая матрица признаков получается умножением исходной Х на рандомную(обозначим М), то формула применит вид:\n",
    "\n",
    "$$\n",
    "a' = Xmw'\n",
    "$$\n",
    "Подставив вычисленное значение весов $w'=M^{-1}w$ получаем:\n",
    "$$\n",
    "a' = XmM^{-1}w\n",
    "$$\n",
    "$mM^{-1}$ это еденичная матрица E , т.е. можно сократить:\n",
    "$$\n",
    "a' = Xw=a\n",
    "$$\n",
    "Предсказания по исходной и преобразованной матрицам равны.\n",
    "\n"
   ]
  },
  {
   "cell_type": "markdown",
   "metadata": {},
   "source": [
    "Вывод:"
   ]
  },
  {
   "cell_type": "markdown",
   "metadata": {},
   "source": [
    "Предложенный алгоритм преобразования данных справляется для решения задачи."
   ]
  },
  {
   "cell_type": "markdown",
   "metadata": {},
   "source": [
    "Качество линейной регрессии не меняется, т.к. новые признаки равны $XМ$, а новые веса $w'=M^{-1}w$, поэтому a' = Xw=a. Новые признаки выражаются через исходную, умножив на случайную матрицу, соответственно и новые коэффициенты весов. Но так как оба множителя в произведении выражают исходные через определенные коэффициенты, то качество линейной регресии не измениться."
   ]
  },
  {
   "cell_type": "markdown",
   "metadata": {},
   "source": [
    "## Проверка алгоритма"
   ]
  },
  {
   "cell_type": "markdown",
   "metadata": {},
   "source": [
    "Проверю, что качество линейной регрессии из sklearn не отличается до и после преобразования. Применю метрику R2.\n",
    "\n",
    "Создам модель sklearn_model и обучу на 2 обучающих матрицах:\n",
    "\n",
    "исходной features\n",
    "кодированной encoded_features"
   ]
  },
  {
   "cell_type": "code",
   "execution_count": 16,
   "metadata": {},
   "outputs": [
    {
     "data": {
      "text/plain": [
       "0.4249455028666801"
      ]
     },
     "execution_count": 16,
     "metadata": {},
     "output_type": "execute_result"
    }
   ],
   "source": [
    "sklearn_model = LinearRegression().fit(features, target)\n",
    "pred = sklearn_model.predict(features)\n",
    "r2_score(target, pred)"
   ]
  },
  {
   "cell_type": "code",
   "execution_count": 17,
   "metadata": {},
   "outputs": [
    {
     "data": {
      "text/plain": [
       "0.4249455028666782"
      ]
     },
     "execution_count": 17,
     "metadata": {},
     "output_type": "execute_result"
    }
   ],
   "source": [
    "\n",
    "sklearn_model.fit(encoded_features, target)\n",
    "pred = sklearn_model.predict(encoded_features)\n",
    "r2_score(target, pred)"
   ]
  },
  {
   "cell_type": "markdown",
   "metadata": {},
   "source": [
    "Качество модели по двум наборам признаков совпадает."
   ]
  },
  {
   "cell_type": "markdown",
   "metadata": {},
   "source": [
    "Вывод:"
   ]
  },
  {
   "cell_type": "markdown",
   "metadata": {},
   "source": [
    "Качество метрики R2 для 2 матриц признаков: до преобразования и после равны, а также равны R2 по написанному класс линейной регресии LinReg, что говорит о ее правильном написании в сравнении с моделью из sklearn."
   ]
  },
  {
   "cell_type": "markdown",
   "metadata": {},
   "source": [
    "## Общий вывод"
   ]
  },
  {
   "cell_type": "markdown",
   "metadata": {},
   "source": [
    "В ходе выполнения проекта можно сделать следующий вывод:\n",
    "\n",
    "- Умножая признаки на обратимую матрицу, качество линейной регрессии не меняется. Это обусловленно тем, что Веса изменились под новые значения, т.е. признаки исходной матрицы и преобразованной выражаются через коэффициенты(веса w), поэтому качество линейной регресии не изменилось\n",
    "\n",
    "- Предложенный алгоритм преобразования данных справляется для решения задачи шифрования признаков.\n",
    "\n",
    "- Зашифрованные данные так же пригодны для предсказаний с помощью линейной регресии\n",
    "\n",
    "- Алгоритм позволяет дешифровать данные в любой момент\n",
    "\n",
    "- Случайность реализованная в алгоритме каждый раз меняется при запуске, что делает зашифрованные данные каждый раз новыми. Такой вид исходных данных становиться очень сложно восстановить без кода программы.\n",
    "\n",
    "- Реализованный алгоритм полностью удовлетворяет поставленной задаче Защиты персональных данных клиентов страховой компании"
   ]
  }
 ],
 "metadata": {
  "ExecuteTimeLog": [
   {
    "duration": 379,
    "start_time": "2023-01-21T15:05:23.132Z"
   },
   {
    "duration": 92,
    "start_time": "2023-01-21T15:05:23.865Z"
   },
   {
    "duration": 20,
    "start_time": "2023-01-21T15:06:10.581Z"
   },
   {
    "duration": 8,
    "start_time": "2023-01-21T15:06:20.595Z"
   },
   {
    "duration": 4,
    "start_time": "2023-01-21T15:08:13.464Z"
   },
   {
    "duration": 8,
    "start_time": "2023-01-21T15:08:21.224Z"
   },
   {
    "duration": 640,
    "start_time": "2023-01-21T15:12:10.093Z"
   },
   {
    "duration": 92,
    "start_time": "2023-01-21T15:36:31.369Z"
   },
   {
    "duration": 4,
    "start_time": "2023-01-21T15:36:40.328Z"
   },
   {
    "duration": 11,
    "start_time": "2023-01-21T15:36:40.649Z"
   },
   {
    "duration": 6,
    "start_time": "2023-01-21T15:38:45.856Z"
   },
   {
    "duration": 59,
    "start_time": "2023-01-21T15:38:47.609Z"
   },
   {
    "duration": 494,
    "start_time": "2023-01-21T15:39:05.289Z"
   },
   {
    "duration": 18,
    "start_time": "2023-01-21T15:39:09.620Z"
   },
   {
    "duration": 5,
    "start_time": "2023-01-21T15:39:38.969Z"
   },
   {
    "duration": 6,
    "start_time": "2023-01-21T15:39:57.529Z"
   },
   {
    "duration": 5,
    "start_time": "2023-01-21T15:40:19.759Z"
   },
   {
    "duration": 12,
    "start_time": "2023-01-21T15:40:58.889Z"
   },
   {
    "duration": 8,
    "start_time": "2023-01-21T15:41:39.518Z"
   },
   {
    "duration": 3,
    "start_time": "2023-01-21T15:43:33.868Z"
   },
   {
    "duration": 11,
    "start_time": "2023-01-21T15:43:42.589Z"
   },
   {
    "duration": 60,
    "start_time": "2023-01-21T15:44:18.509Z"
   },
   {
    "duration": 170,
    "start_time": "2023-01-21T15:53:32.298Z"
   },
   {
    "duration": 14,
    "start_time": "2023-01-21T15:53:40.547Z"
   },
   {
    "duration": 3,
    "start_time": "2023-01-21T15:56:47.183Z"
   },
   {
    "duration": 32,
    "start_time": "2023-01-21T15:56:47.188Z"
   },
   {
    "duration": 8,
    "start_time": "2023-01-21T15:56:47.221Z"
   },
   {
    "duration": 4,
    "start_time": "2023-01-21T15:56:47.231Z"
   },
   {
    "duration": 11,
    "start_time": "2023-01-21T15:56:47.237Z"
   },
   {
    "duration": 4,
    "start_time": "2023-01-21T15:56:47.252Z"
   },
   {
    "duration": 16,
    "start_time": "2023-01-21T15:56:47.259Z"
   },
   {
    "duration": 192,
    "start_time": "2023-01-21T15:56:47.277Z"
   },
   {
    "duration": 6,
    "start_time": "2023-01-21T15:56:47.471Z"
   },
   {
    "duration": 9,
    "start_time": "2023-01-21T15:56:47.480Z"
   },
   {
    "duration": 101,
    "start_time": "2023-01-21T15:56:47.567Z"
   },
   {
    "duration": 99,
    "start_time": "2023-01-21T15:56:47.670Z"
   },
   {
    "duration": 101,
    "start_time": "2023-01-21T15:56:47.772Z"
   },
   {
    "duration": 13,
    "start_time": "2023-01-21T15:56:47.875Z"
   },
   {
    "duration": 79,
    "start_time": "2023-01-21T15:56:47.891Z"
   },
   {
    "duration": 102,
    "start_time": "2023-01-21T15:56:47.972Z"
   },
   {
    "duration": 99,
    "start_time": "2023-01-21T15:56:48.076Z"
   },
   {
    "duration": 1597,
    "start_time": "2023-01-23T06:44:17.212Z"
   },
   {
    "duration": 84,
    "start_time": "2023-01-23T06:44:18.812Z"
   },
   {
    "duration": 14,
    "start_time": "2023-01-23T06:44:18.899Z"
   },
   {
    "duration": 21,
    "start_time": "2023-01-23T06:44:18.916Z"
   },
   {
    "duration": 24,
    "start_time": "2023-01-23T06:44:18.939Z"
   },
   {
    "duration": 10,
    "start_time": "2023-01-23T06:44:18.965Z"
   },
   {
    "duration": 66,
    "start_time": "2023-01-23T06:44:18.977Z"
   },
   {
    "duration": 112,
    "start_time": "2023-01-23T06:44:19.045Z"
   },
   {
    "duration": 16,
    "start_time": "2023-01-23T06:44:19.159Z"
   },
   {
    "duration": 12,
    "start_time": "2023-01-23T06:44:19.178Z"
   },
   {
    "duration": 14,
    "start_time": "2023-01-23T06:44:19.241Z"
   },
   {
    "duration": 182,
    "start_time": "2023-01-23T06:44:19.257Z"
   },
   {
    "duration": 96,
    "start_time": "2023-01-23T06:44:19.445Z"
   },
   {
    "duration": 33,
    "start_time": "2023-01-23T06:44:19.543Z"
   },
   {
    "duration": 69,
    "start_time": "2023-01-23T06:44:19.578Z"
   },
   {
    "duration": 96,
    "start_time": "2023-01-23T06:44:19.649Z"
   },
   {
    "duration": 104,
    "start_time": "2023-01-23T06:44:19.749Z"
   },
   {
    "duration": 26,
    "start_time": "2023-01-23T06:44:40.349Z"
   },
   {
    "duration": 451,
    "start_time": "2023-01-23T06:49:22.978Z"
   },
   {
    "duration": 524,
    "start_time": "2023-01-23T06:49:30.879Z"
   },
   {
    "duration": 581,
    "start_time": "2023-01-23T06:49:39.927Z"
   },
   {
    "duration": 19,
    "start_time": "2023-01-23T06:50:28.293Z"
   },
   {
    "duration": 8,
    "start_time": "2023-01-23T06:50:35.582Z"
   },
   {
    "duration": 9,
    "start_time": "2023-01-23T06:52:09.799Z"
   },
   {
    "duration": 6,
    "start_time": "2023-01-23T06:52:15.232Z"
   },
   {
    "duration": 8,
    "start_time": "2023-01-23T06:52:21.057Z"
   },
   {
    "duration": 11,
    "start_time": "2023-01-23T06:52:37.391Z"
   },
   {
    "duration": 7,
    "start_time": "2023-01-23T06:52:57.127Z"
   }
  ],
  "kernelspec": {
   "display_name": "Python 3 (ipykernel)",
   "language": "python",
   "name": "python3"
  },
  "language_info": {
   "codemirror_mode": {
    "name": "ipython",
    "version": 3
   },
   "file_extension": ".py",
   "mimetype": "text/x-python",
   "name": "python",
   "nbconvert_exporter": "python",
   "pygments_lexer": "ipython3",
   "version": "3.9.12"
  },
  "toc": {
   "base_numbering": 1,
   "nav_menu": {},
   "number_sections": true,
   "sideBar": true,
   "skip_h1_title": true,
   "title_cell": "Содержание",
   "title_sidebar": "Contents",
   "toc_cell": true,
   "toc_position": {},
   "toc_section_display": true,
   "toc_window_display": true
  }
 },
 "nbformat": 4,
 "nbformat_minor": 2
}
