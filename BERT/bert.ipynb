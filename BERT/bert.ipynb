{
 "cells": [
  {
   "cell_type": "markdown",
   "metadata": {
    "toc": true
   },
   "source": [
    "<h1>Table of Contents<span class=\"tocSkip\"></span></h1>\n",
    "<div class=\"toc\"><ul class=\"toc-item\"><li><span><a href=\"#Решение-с-помощью-BERT\" data-toc-modified-id=\"Решение-с-помощью-BERT-1\"><span class=\"toc-item-num\">1&nbsp;&nbsp;</span>Решение с помощью <strong>BERT</strong></a></span><ul class=\"toc-item\"><li><span><a href=\"#Библиотеки\" data-toc-modified-id=\"Библиотеки-1.1\"><span class=\"toc-item-num\">1.1&nbsp;&nbsp;</span>Библиотеки</a></span></li><li><span><a href=\"#Загрузка-датасета\" data-toc-modified-id=\"Загрузка-датасета-1.2\"><span class=\"toc-item-num\">1.2&nbsp;&nbsp;</span>Загрузка датасета</a></span></li><li><span><a href=\"#Токинезация-и-эмбеддинг\" data-toc-modified-id=\"Токинезация-и-эмбеддинг-1.3\"><span class=\"toc-item-num\">1.3&nbsp;&nbsp;</span>Токинезация и эмбеддинг</a></span></li><li><span><a href=\"#Разбиение-датасета-на-тест-и-трейн\" data-toc-modified-id=\"Разбиение-датасета-на-тест-и-трейн-1.4\"><span class=\"toc-item-num\">1.4&nbsp;&nbsp;</span>Разбиение датасета на тест и трейн</a></span></li><li><span><a href=\"#Подбор-гипперпараметров-и-обучение-моделей\" data-toc-modified-id=\"Подбор-гипперпараметров-и-обучение-моделей-1.5\"><span class=\"toc-item-num\">1.5&nbsp;&nbsp;</span>Подбор гипперпараметров и обучение моделей</a></span><ul class=\"toc-item\"><li><span><a href=\"#Логистическая-регрессия\" data-toc-modified-id=\"Логистическая-регрессия-1.5.1\"><span class=\"toc-item-num\">1.5.1&nbsp;&nbsp;</span>Логистическая регрессия</a></span></li><li><span><a href=\"#CatBoost\" data-toc-modified-id=\"CatBoost-1.5.2\"><span class=\"toc-item-num\">1.5.2&nbsp;&nbsp;</span>CatBoost</a></span></li><li><span><a href=\"#Лес\" data-toc-modified-id=\"Лес-1.5.3\"><span class=\"toc-item-num\">1.5.3&nbsp;&nbsp;</span>Лес</a></span></li><li><span><a href=\"#Эксперимент\" data-toc-modified-id=\"Эксперимент-1.5.4\"><span class=\"toc-item-num\">1.5.4&nbsp;&nbsp;</span>Эксперимент</a></span></li></ul></li></ul></li><li><span><a href=\"#Вывод\" data-toc-modified-id=\"Вывод-2\"><span class=\"toc-item-num\">2&nbsp;&nbsp;</span>Вывод</a></span></li></ul></div>"
   ]
  },
  {
   "cell_type": "markdown",
   "metadata": {
    "id": "QEEVLOI_SGBv"
   },
   "source": [
    "# Решение с помощью **BERT**"
   ]
  },
  {
   "cell_type": "markdown",
   "metadata": {
    "id": "TDQ84XHPSfzO"
   },
   "source": [
    "## Библиотеки"
   ]
  },
  {
   "cell_type": "code",
   "execution_count": 515,
   "metadata": {
    "executionInfo": {
     "elapsed": 51,
     "status": "ok",
     "timestamp": 1676994958536,
     "user": {
      "displayName": "Глеб Соловьёв",
      "userId": "14953811678176238433"
     },
     "user_tz": -300
    },
    "id": "te8nU6ktBR8E"
   },
   "outputs": [],
   "source": [
    "import numpy as np\n",
    "import pandas as pd\n",
    "import torch\n",
    "import transformers\n",
    "import tqdm\n",
    "from sklearn.linear_model import LogisticRegression,LinearRegression\n",
    "from sklearn.model_selection import cross_val_score\n",
    "from sklearn.model_selection import train_test_split\n",
    "from sklearn.metrics import accuracy_score,f1_score\n",
    "from deeppavlov.core.common.file import read_json\n",
    "from deeppavlov import build_model, configs\n",
    "from transformers import BertTokenizer, BertModel,BertConfig\n",
    "from sklearn.model_selection import GridSearchCV,RandomizedSearchCV\n",
    "from catboost import CatBoostClassifier\n",
    "from sklearn.ensemble import RandomForestClassifier"
   ]
  },
  {
   "cell_type": "code",
   "execution_count": 443,
   "metadata": {
    "colab": {
     "base_uri": "https://localhost:8080/"
    },
    "executionInfo": {
     "elapsed": 10018,
     "status": "ok",
     "timestamp": 1676982469789,
     "user": {
      "displayName": "Глеб Соловьёв",
      "userId": "14953811678176238433"
     },
     "user_tz": -300
    },
    "id": "L0BWc2h7tEP-",
    "outputId": "19e1e742-b282-44ab-bb7a-1dad0973b795"
   },
   "outputs": [
    {
     "name": "stdout",
     "output_type": "stream",
     "text": [
      "Looking in indexes: https://pypi.org/simple, https://us-python.pkg.dev/colab-wheels/public/simple/\n",
      "Requirement already satisfied: catboost in /usr/local/lib/python3.8/dist-packages (1.1.1)\n",
      "Requirement already satisfied: graphviz in /usr/local/lib/python3.8/dist-packages (from catboost) (0.10.1)\n",
      "Requirement already satisfied: numpy>=1.16.0 in /usr/local/lib/python3.8/dist-packages (from catboost) (1.21.6)\n",
      "Requirement already satisfied: six in /usr/local/lib/python3.8/dist-packages (from catboost) (1.15.0)\n",
      "Requirement already satisfied: scipy in /usr/local/lib/python3.8/dist-packages (from catboost) (1.7.3)\n",
      "Requirement already satisfied: pandas>=0.24.0 in /usr/local/lib/python3.8/dist-packages (from catboost) (1.3.5)\n",
      "Requirement already satisfied: matplotlib in /usr/local/lib/python3.8/dist-packages (from catboost) (3.2.2)\n",
      "Requirement already satisfied: plotly in /usr/local/lib/python3.8/dist-packages (from catboost) (5.5.0)\n",
      "Requirement already satisfied: pytz>=2017.3 in /usr/local/lib/python3.8/dist-packages (from pandas>=0.24.0->catboost) (2022.7.1)\n",
      "Requirement already satisfied: python-dateutil>=2.7.3 in /usr/local/lib/python3.8/dist-packages (from pandas>=0.24.0->catboost) (2.8.2)\n",
      "Requirement already satisfied: cycler>=0.10 in /usr/local/lib/python3.8/dist-packages (from matplotlib->catboost) (0.11.0)\n",
      "Requirement already satisfied: kiwisolver>=1.0.1 in /usr/local/lib/python3.8/dist-packages (from matplotlib->catboost) (1.4.4)\n",
      "Requirement already satisfied: pyparsing!=2.0.4,!=2.1.2,!=2.1.6,>=2.0.1 in /usr/local/lib/python3.8/dist-packages (from matplotlib->catboost) (3.0.9)\n",
      "Requirement already satisfied: tenacity>=6.2.0 in /usr/local/lib/python3.8/dist-packages (from plotly->catboost) (8.2.1)\n"
     ]
    }
   ],
   "source": [
    "#pip install catboost\n"
   ]
  },
  {
   "cell_type": "code",
   "execution_count": 444,
   "metadata": {
    "colab": {
     "base_uri": "https://localhost:8080/"
    },
    "executionInfo": {
     "elapsed": 7834,
     "status": "ok",
     "timestamp": 1676982477612,
     "user": {
      "displayName": "Глеб Соловьёв",
      "userId": "14953811678176238433"
     },
     "user_tz": -300
    },
    "id": "n--Qk8ZYtIZL",
    "outputId": "4a759b5e-c7c9-49d1-a7c6-c836e239a2d3"
   },
   "outputs": [
    {
     "name": "stdout",
     "output_type": "stream",
     "text": [
      "Looking in indexes: https://pypi.org/simple, https://us-python.pkg.dev/colab-wheels/public/simple/\n",
      "Requirement already satisfied: ipywidgets in /usr/local/lib/python3.8/dist-packages (7.7.1)\n",
      "Requirement already satisfied: ipython-genutils~=0.2.0 in /usr/local/lib/python3.8/dist-packages (from ipywidgets) (0.2.0)\n",
      "Requirement already satisfied: ipython>=4.0.0 in /usr/local/lib/python3.8/dist-packages (from ipywidgets) (7.9.0)\n",
      "Requirement already satisfied: widgetsnbextension~=3.6.0 in /usr/local/lib/python3.8/dist-packages (from ipywidgets) (3.6.2)\n",
      "Requirement already satisfied: traitlets>=4.3.1 in /usr/local/lib/python3.8/dist-packages (from ipywidgets) (5.7.1)\n",
      "Requirement already satisfied: ipykernel>=4.5.1 in /usr/local/lib/python3.8/dist-packages (from ipywidgets) (5.3.4)\n",
      "Requirement already satisfied: jupyterlab-widgets>=1.0.0 in /usr/local/lib/python3.8/dist-packages (from ipywidgets) (3.0.5)\n",
      "Requirement already satisfied: tornado>=4.2 in /usr/local/lib/python3.8/dist-packages (from ipykernel>=4.5.1->ipywidgets) (6.2)\n",
      "Requirement already satisfied: jupyter-client in /usr/local/lib/python3.8/dist-packages (from ipykernel>=4.5.1->ipywidgets) (6.1.12)\n",
      "Requirement already satisfied: pickleshare in /usr/local/lib/python3.8/dist-packages (from ipython>=4.0.0->ipywidgets) (0.7.5)\n",
      "Requirement already satisfied: backcall in /usr/local/lib/python3.8/dist-packages (from ipython>=4.0.0->ipywidgets) (0.2.0)\n",
      "Requirement already satisfied: decorator in /usr/local/lib/python3.8/dist-packages (from ipython>=4.0.0->ipywidgets) (4.4.2)\n",
      "Requirement already satisfied: pygments in /usr/local/lib/python3.8/dist-packages (from ipython>=4.0.0->ipywidgets) (2.6.1)\n",
      "Requirement already satisfied: jedi>=0.10 in /usr/local/lib/python3.8/dist-packages (from ipython>=4.0.0->ipywidgets) (0.18.2)\n",
      "Requirement already satisfied: prompt-toolkit<2.1.0,>=2.0.0 in /usr/local/lib/python3.8/dist-packages (from ipython>=4.0.0->ipywidgets) (2.0.10)\n",
      "Requirement already satisfied: pexpect in /usr/local/lib/python3.8/dist-packages (from ipython>=4.0.0->ipywidgets) (4.8.0)\n",
      "Requirement already satisfied: setuptools>=18.5 in /usr/local/lib/python3.8/dist-packages (from ipython>=4.0.0->ipywidgets) (57.4.0)\n",
      "Requirement already satisfied: notebook>=4.4.1 in /usr/local/lib/python3.8/dist-packages (from widgetsnbextension~=3.6.0->ipywidgets) (6.3.0)\n",
      "Requirement already satisfied: parso<0.9.0,>=0.8.0 in /usr/local/lib/python3.8/dist-packages (from jedi>=0.10->ipython>=4.0.0->ipywidgets) (0.8.3)\n",
      "Requirement already satisfied: prometheus-client in /usr/local/lib/python3.8/dist-packages (from notebook>=4.4.1->widgetsnbextension~=3.6.0->ipywidgets) (0.14.1)\n",
      "Requirement already satisfied: jinja2 in /usr/local/lib/python3.8/dist-packages (from notebook>=4.4.1->widgetsnbextension~=3.6.0->ipywidgets) (2.11.3)\n",
      "Requirement already satisfied: jupyter-core>=4.6.1 in /usr/local/lib/python3.8/dist-packages (from notebook>=4.4.1->widgetsnbextension~=3.6.0->ipywidgets) (5.2.0)\n",
      "Requirement already satisfied: pyzmq>=17 in /usr/local/lib/python3.8/dist-packages (from notebook>=4.4.1->widgetsnbextension~=3.6.0->ipywidgets) (23.2.1)\n",
      "Requirement already satisfied: nbformat in /usr/local/lib/python3.8/dist-packages (from notebook>=4.4.1->widgetsnbextension~=3.6.0->ipywidgets) (5.7.3)\n",
      "Requirement already satisfied: Send2Trash>=1.5.0 in /usr/local/lib/python3.8/dist-packages (from notebook>=4.4.1->widgetsnbextension~=3.6.0->ipywidgets) (1.8.0)\n",
      "Requirement already satisfied: argon2-cffi in /usr/local/lib/python3.8/dist-packages (from notebook>=4.4.1->widgetsnbextension~=3.6.0->ipywidgets) (21.3.0)\n",
      "Requirement already satisfied: nbconvert in /usr/local/lib/python3.8/dist-packages (from notebook>=4.4.1->widgetsnbextension~=3.6.0->ipywidgets) (5.6.1)\n",
      "Requirement already satisfied: terminado>=0.8.3 in /usr/local/lib/python3.8/dist-packages (from notebook>=4.4.1->widgetsnbextension~=3.6.0->ipywidgets) (0.13.3)\n",
      "Requirement already satisfied: python-dateutil>=2.1 in /usr/local/lib/python3.8/dist-packages (from jupyter-client->ipykernel>=4.5.1->ipywidgets) (2.8.2)\n",
      "Requirement already satisfied: wcwidth in /usr/local/lib/python3.8/dist-packages (from prompt-toolkit<2.1.0,>=2.0.0->ipython>=4.0.0->ipywidgets) (0.2.6)\n",
      "Requirement already satisfied: six>=1.9.0 in /usr/local/lib/python3.8/dist-packages (from prompt-toolkit<2.1.0,>=2.0.0->ipython>=4.0.0->ipywidgets) (1.15.0)\n",
      "Requirement already satisfied: ptyprocess>=0.5 in /usr/local/lib/python3.8/dist-packages (from pexpect->ipython>=4.0.0->ipywidgets) (0.7.0)\n",
      "Requirement already satisfied: platformdirs>=2.5 in /usr/local/lib/python3.8/dist-packages (from jupyter-core>=4.6.1->notebook>=4.4.1->widgetsnbextension~=3.6.0->ipywidgets) (3.0.0)\n",
      "Requirement already satisfied: argon2-cffi-bindings in /usr/local/lib/python3.8/dist-packages (from argon2-cffi->notebook>=4.4.1->widgetsnbextension~=3.6.0->ipywidgets) (21.2.0)\n",
      "Requirement already satisfied: MarkupSafe>=0.23 in /usr/local/lib/python3.8/dist-packages (from jinja2->notebook>=4.4.1->widgetsnbextension~=3.6.0->ipywidgets) (2.0.1)\n",
      "Requirement already satisfied: bleach in /usr/local/lib/python3.8/dist-packages (from nbconvert->notebook>=4.4.1->widgetsnbextension~=3.6.0->ipywidgets) (6.0.0)\n",
      "Requirement already satisfied: mistune<2,>=0.8.1 in /usr/local/lib/python3.8/dist-packages (from nbconvert->notebook>=4.4.1->widgetsnbextension~=3.6.0->ipywidgets) (0.8.4)\n",
      "Requirement already satisfied: entrypoints>=0.2.2 in /usr/local/lib/python3.8/dist-packages (from nbconvert->notebook>=4.4.1->widgetsnbextension~=3.6.0->ipywidgets) (0.4)\n",
      "Requirement already satisfied: defusedxml in /usr/local/lib/python3.8/dist-packages (from nbconvert->notebook>=4.4.1->widgetsnbextension~=3.6.0->ipywidgets) (0.7.1)\n",
      "Requirement already satisfied: testpath in /usr/local/lib/python3.8/dist-packages (from nbconvert->notebook>=4.4.1->widgetsnbextension~=3.6.0->ipywidgets) (0.6.0)\n",
      "Requirement already satisfied: pandocfilters>=1.4.1 in /usr/local/lib/python3.8/dist-packages (from nbconvert->notebook>=4.4.1->widgetsnbextension~=3.6.0->ipywidgets) (1.5.0)\n",
      "Requirement already satisfied: fastjsonschema in /usr/local/lib/python3.8/dist-packages (from nbformat->notebook>=4.4.1->widgetsnbextension~=3.6.0->ipywidgets) (2.16.2)\n",
      "Requirement already satisfied: jsonschema>=2.6 in /usr/local/lib/python3.8/dist-packages (from nbformat->notebook>=4.4.1->widgetsnbextension~=3.6.0->ipywidgets) (4.3.3)\n",
      "Requirement already satisfied: importlib-resources>=1.4.0 in /usr/local/lib/python3.8/dist-packages (from jsonschema>=2.6->nbformat->notebook>=4.4.1->widgetsnbextension~=3.6.0->ipywidgets) (5.10.2)\n",
      "Requirement already satisfied: attrs>=17.4.0 in /usr/local/lib/python3.8/dist-packages (from jsonschema>=2.6->nbformat->notebook>=4.4.1->widgetsnbextension~=3.6.0->ipywidgets) (22.2.0)\n",
      "Requirement already satisfied: pyrsistent!=0.17.0,!=0.17.1,!=0.17.2,>=0.14.0 in /usr/local/lib/python3.8/dist-packages (from jsonschema>=2.6->nbformat->notebook>=4.4.1->widgetsnbextension~=3.6.0->ipywidgets) (0.19.3)\n",
      "Requirement already satisfied: cffi>=1.0.1 in /usr/local/lib/python3.8/dist-packages (from argon2-cffi-bindings->argon2-cffi->notebook>=4.4.1->widgetsnbextension~=3.6.0->ipywidgets) (1.15.1)\n",
      "Requirement already satisfied: webencodings in /usr/local/lib/python3.8/dist-packages (from bleach->nbconvert->notebook>=4.4.1->widgetsnbextension~=3.6.0->ipywidgets) (0.5.1)\n",
      "Requirement already satisfied: pycparser in /usr/local/lib/python3.8/dist-packages (from cffi>=1.0.1->argon2-cffi-bindings->argon2-cffi->notebook>=4.4.1->widgetsnbextension~=3.6.0->ipywidgets) (2.21)\n",
      "Requirement already satisfied: zipp>=3.1.0 in /usr/local/lib/python3.8/dist-packages (from importlib-resources>=1.4.0->jsonschema>=2.6->nbformat->notebook>=4.4.1->widgetsnbextension~=3.6.0->ipywidgets) (3.13.0)\n"
     ]
    }
   ],
   "source": [
    "#pip install ipywidgets\n"
   ]
  },
  {
   "cell_type": "code",
   "execution_count": null,
   "metadata": {
    "executionInfo": {
     "elapsed": 914,
     "status": "aborted",
     "timestamp": 1676982477654,
     "user": {
      "displayName": "Глеб Соловьёв",
      "userId": "14953811678176238433"
     },
     "user_tz": -300
    },
    "id": "X5s-UsxH7c89"
   },
   "outputs": [],
   "source": [
    "#pip install transformers"
   ]
  },
  {
   "cell_type": "code",
   "execution_count": 446,
   "metadata": {
    "colab": {
     "base_uri": "https://localhost:8080/"
    },
    "executionInfo": {
     "elapsed": 12577,
     "status": "ok",
     "timestamp": 1676982612462,
     "user": {
      "displayName": "Глеб Соловьёв",
      "userId": "14953811678176238433"
     },
     "user_tz": -300
    },
    "id": "wADCMcMszME3",
    "outputId": "f54bae54-6960-4d81-ed14-005c3a91d76f"
   },
   "outputs": [
    {
     "name": "stdout",
     "output_type": "stream",
     "text": [
      "Looking in indexes: https://pypi.org/simple, https://us-python.pkg.dev/colab-wheels/public/simple/\n",
      "Requirement already satisfied: huggingface_hub in /usr/local/lib/python3.8/dist-packages (0.12.1)\n",
      "Requirement already satisfied: pyyaml>=5.1 in /usr/local/lib/python3.8/dist-packages (from huggingface_hub) (6.0)\n",
      "Requirement already satisfied: filelock in /usr/local/lib/python3.8/dist-packages (from huggingface_hub) (3.9.0)\n",
      "Requirement already satisfied: requests in /usr/local/lib/python3.8/dist-packages (from huggingface_hub) (2.25.1)\n",
      "Requirement already satisfied: packaging>=20.9 in /usr/local/lib/python3.8/dist-packages (from huggingface_hub) (23.0)\n",
      "Requirement already satisfied: tqdm>=4.42.1 in /usr/local/lib/python3.8/dist-packages (from huggingface_hub) (4.64.1)\n",
      "Requirement already satisfied: typing-extensions>=3.7.4.3 in /usr/local/lib/python3.8/dist-packages (from huggingface_hub) (4.5.0)\n",
      "Requirement already satisfied: urllib3<1.27,>=1.21.1 in /usr/local/lib/python3.8/dist-packages (from requests->huggingface_hub) (1.24.3)\n",
      "Requirement already satisfied: chardet<5,>=3.0.2 in /usr/local/lib/python3.8/dist-packages (from requests->huggingface_hub) (4.0.0)\n",
      "Requirement already satisfied: certifi>=2017.4.17 in /usr/local/lib/python3.8/dist-packages (from requests->huggingface_hub) (2022.12.7)\n",
      "Requirement already satisfied: idna<3,>=2.5 in /usr/local/lib/python3.8/dist-packages (from requests->huggingface_hub) (2.10)\n"
     ]
    }
   ],
   "source": [
    "#pip install huggingface_hub"
   ]
  },
  {
   "cell_type": "markdown",
   "metadata": {
    "id": "GFuXyKPDScQ1"
   },
   "source": [
    "## Загрузка датасета"
   ]
  },
  {
   "cell_type": "code",
   "execution_count": 447,
   "metadata": {
    "executionInfo": {
     "elapsed": 2380,
     "status": "ok",
     "timestamp": 1676982614834,
     "user": {
      "displayName": "Глеб Соловьёв",
      "userId": "14953811678176238433"
     },
     "user_tz": -300
    },
    "id": "o9CynISfZ3pS"
   },
   "outputs": [],
   "source": [
    "df_tweets=pd.read_csv('/content/drive/MyDrive/Bert/toxic_comments.csv')"
   ]
  },
  {
   "cell_type": "markdown",
   "metadata": {
    "id": "98u56gzLQcNY"
   },
   "source": [
    "В датасете имеется дисбаланс классов. Исправлю его сравняв ответы 0 и 1 путем DawnSampling. Так же, посколько в конфигах BERT'а установлено 512 максимум фичей на вход, но выбрав часть выборки для расчета, я выберу те твиты, которые не длиннее 512 символов."
   ]
  },
  {
   "cell_type": "code",
   "execution_count": 448,
   "metadata": {
    "colab": {
     "base_uri": "https://localhost:8080/"
    },
    "executionInfo": {
     "elapsed": 746,
     "status": "ok",
     "timestamp": 1676982615565,
     "user": {
      "displayName": "Глеб Соловьёв",
      "userId": "14953811678176238433"
     },
     "user_tz": -300
    },
    "id": "_tN1xiEg1SXE",
    "outputId": "389e7b47-5a41-4466-8ff5-a7480018dd84"
   },
   "outputs": [
    {
     "name": "stdout",
     "output_type": "stream",
     "text": [
      "0.10161213369158527\n"
     ]
    }
   ],
   "source": [
    "\n",
    "print(df_tweets['toxic'].mean())\n",
    "df_tweets['lenght']=df_tweets['text'].str.len()\n",
    "#df_tweets = df_tweets.sample(200).reset_index(drop=True) \n",
    "df_tweets = df_tweets[df_tweets['lenght']<=512]\n",
    "df_tweets[df_tweets['toxic'] == 0] = df_tweets[df_tweets['toxic']== 0].sample(frac=0.125, random_state=42)\n",
    "df_tweets = df_tweets.dropna()\n",
    "df_tweets=df_tweets.sample(500).reset_index(drop=True) "
   ]
  },
  {
   "cell_type": "code",
   "execution_count": 449,
   "metadata": {
    "colab": {
     "base_uri": "https://localhost:8080/"
    },
    "executionInfo": {
     "elapsed": 52,
     "status": "ok",
     "timestamp": 1676982615567,
     "user": {
      "displayName": "Глеб Соловьёв",
      "userId": "14953811678176238433"
     },
     "user_tz": -300
    },
    "id": "-TrYFEMlVZk_",
    "outputId": "1bd68311-584d-409a-cc0d-c346b051c359"
   },
   "outputs": [
    {
     "name": "stdout",
     "output_type": "stream",
     "text": [
      "0.498\n"
     ]
    }
   ],
   "source": [
    "print(df_tweets['toxic'].mean())"
   ]
  },
  {
   "cell_type": "code",
   "execution_count": 450,
   "metadata": {
    "colab": {
     "base_uri": "https://localhost:8080/"
    },
    "executionInfo": {
     "elapsed": 55,
     "status": "ok",
     "timestamp": 1676982615573,
     "user": {
      "displayName": "Глеб Соловьёв",
      "userId": "14953811678176238433"
     },
     "user_tz": -300
    },
    "id": "z2ndp4UgG6yD",
    "outputId": "7d265ec5-c808-4f11-a0ea-d4fcc45abb8d"
   },
   "outputs": [
    {
     "data": {
      "text/plain": [
       "0.0"
      ]
     },
     "execution_count": 450,
     "metadata": {},
     "output_type": "execute_result"
    }
   ],
   "source": [
    "df_tweets['toxic'].isna().mean()"
   ]
  },
  {
   "cell_type": "code",
   "execution_count": 451,
   "metadata": {
    "colab": {
     "base_uri": "https://localhost:8080/",
     "height": 424
    },
    "executionInfo": {
     "elapsed": 59,
     "status": "ok",
     "timestamp": 1676982615587,
     "user": {
      "displayName": "Глеб Соловьёв",
      "userId": "14953811678176238433"
     },
     "user_tz": -300
    },
    "id": "rB9sGKnHaCQu",
    "outputId": "50448036-ca82-473c-99c1-3eff4253b514"
   },
   "outputs": [
    {
     "data": {
      "text/html": [
       "\n",
       "  <div id=\"df-b34bebd3-690a-4d18-9725-12545130d52a\">\n",
       "    <div class=\"colab-df-container\">\n",
       "      <div>\n",
       "<style scoped>\n",
       "    .dataframe tbody tr th:only-of-type {\n",
       "        vertical-align: middle;\n",
       "    }\n",
       "\n",
       "    .dataframe tbody tr th {\n",
       "        vertical-align: top;\n",
       "    }\n",
       "\n",
       "    .dataframe thead th {\n",
       "        text-align: right;\n",
       "    }\n",
       "</style>\n",
       "<table border=\"1\" class=\"dataframe\">\n",
       "  <thead>\n",
       "    <tr style=\"text-align: right;\">\n",
       "      <th></th>\n",
       "      <th>Unnamed: 0</th>\n",
       "      <th>text</th>\n",
       "      <th>toxic</th>\n",
       "      <th>lenght</th>\n",
       "    </tr>\n",
       "  </thead>\n",
       "  <tbody>\n",
       "    <tr>\n",
       "      <th>0</th>\n",
       "      <td>30990.0</td>\n",
       "      <td>Take a look at the page now- an actual Douche ...</td>\n",
       "      <td>1.0</td>\n",
       "      <td>477.0</td>\n",
       "    </tr>\n",
       "    <tr>\n",
       "      <th>1</th>\n",
       "      <td>84200.0</td>\n",
       "      <td>\"\\n\\nWhimsical?\\n\\nThought that \"\"whimsical\"\" ...</td>\n",
       "      <td>0.0</td>\n",
       "      <td>217.0</td>\n",
       "    </tr>\n",
       "    <tr>\n",
       "      <th>2</th>\n",
       "      <td>118023.0</td>\n",
       "      <td>Hello, and welcome to Wikipedia! We welcome an...</td>\n",
       "      <td>0.0</td>\n",
       "      <td>290.0</td>\n",
       "    </tr>\n",
       "    <tr>\n",
       "      <th>3</th>\n",
       "      <td>57707.0</td>\n",
       "      <td>Yes, and this page is wayyyyy too long as well...</td>\n",
       "      <td>1.0</td>\n",
       "      <td>181.0</td>\n",
       "    </tr>\n",
       "    <tr>\n",
       "      <th>4</th>\n",
       "      <td>10489.0</td>\n",
       "      <td>And when another Cfd inhabitant asked why the ...</td>\n",
       "      <td>0.0</td>\n",
       "      <td>401.0</td>\n",
       "    </tr>\n",
       "    <tr>\n",
       "      <th>...</th>\n",
       "      <td>...</td>\n",
       "      <td>...</td>\n",
       "      <td>...</td>\n",
       "      <td>...</td>\n",
       "    </tr>\n",
       "    <tr>\n",
       "      <th>495</th>\n",
       "      <td>79063.0</td>\n",
       "      <td>Hey now!! Nice. One never know what might happ...</td>\n",
       "      <td>0.0</td>\n",
       "      <td>92.0</td>\n",
       "    </tr>\n",
       "    <tr>\n",
       "      <th>496</th>\n",
       "      <td>156489.0</td>\n",
       "      <td>now that he's blocked me so that I can't respo...</td>\n",
       "      <td>1.0</td>\n",
       "      <td>60.0</td>\n",
       "    </tr>\n",
       "    <tr>\n",
       "      <th>497</th>\n",
       "      <td>61493.0</td>\n",
       "      <td>Is this Bugs person a particularly unsavoury t...</td>\n",
       "      <td>0.0</td>\n",
       "      <td>333.0</td>\n",
       "    </tr>\n",
       "    <tr>\n",
       "      <th>498</th>\n",
       "      <td>24773.0</td>\n",
       "      <td>Er, what is the precise opposite of what the r...</td>\n",
       "      <td>1.0</td>\n",
       "      <td>273.0</td>\n",
       "    </tr>\n",
       "    <tr>\n",
       "      <th>499</th>\n",
       "      <td>14247.0</td>\n",
       "      <td>Bullshit \\n\\nWilliam Penn used the phrase too....</td>\n",
       "      <td>1.0</td>\n",
       "      <td>84.0</td>\n",
       "    </tr>\n",
       "  </tbody>\n",
       "</table>\n",
       "<p>500 rows × 4 columns</p>\n",
       "</div>\n",
       "      <button class=\"colab-df-convert\" onclick=\"convertToInteractive('df-b34bebd3-690a-4d18-9725-12545130d52a')\"\n",
       "              title=\"Convert this dataframe to an interactive table.\"\n",
       "              style=\"display:none;\">\n",
       "        \n",
       "  <svg xmlns=\"http://www.w3.org/2000/svg\" height=\"24px\"viewBox=\"0 0 24 24\"\n",
       "       width=\"24px\">\n",
       "    <path d=\"M0 0h24v24H0V0z\" fill=\"none\"/>\n",
       "    <path d=\"M18.56 5.44l.94 2.06.94-2.06 2.06-.94-2.06-.94-.94-2.06-.94 2.06-2.06.94zm-11 1L8.5 8.5l.94-2.06 2.06-.94-2.06-.94L8.5 2.5l-.94 2.06-2.06.94zm10 10l.94 2.06.94-2.06 2.06-.94-2.06-.94-.94-2.06-.94 2.06-2.06.94z\"/><path d=\"M17.41 7.96l-1.37-1.37c-.4-.4-.92-.59-1.43-.59-.52 0-1.04.2-1.43.59L10.3 9.45l-7.72 7.72c-.78.78-.78 2.05 0 2.83L4 21.41c.39.39.9.59 1.41.59.51 0 1.02-.2 1.41-.59l7.78-7.78 2.81-2.81c.8-.78.8-2.07 0-2.86zM5.41 20L4 18.59l7.72-7.72 1.47 1.35L5.41 20z\"/>\n",
       "  </svg>\n",
       "      </button>\n",
       "      \n",
       "  <style>\n",
       "    .colab-df-container {\n",
       "      display:flex;\n",
       "      flex-wrap:wrap;\n",
       "      gap: 12px;\n",
       "    }\n",
       "\n",
       "    .colab-df-convert {\n",
       "      background-color: #E8F0FE;\n",
       "      border: none;\n",
       "      border-radius: 50%;\n",
       "      cursor: pointer;\n",
       "      display: none;\n",
       "      fill: #1967D2;\n",
       "      height: 32px;\n",
       "      padding: 0 0 0 0;\n",
       "      width: 32px;\n",
       "    }\n",
       "\n",
       "    .colab-df-convert:hover {\n",
       "      background-color: #E2EBFA;\n",
       "      box-shadow: 0px 1px 2px rgba(60, 64, 67, 0.3), 0px 1px 3px 1px rgba(60, 64, 67, 0.15);\n",
       "      fill: #174EA6;\n",
       "    }\n",
       "\n",
       "    [theme=dark] .colab-df-convert {\n",
       "      background-color: #3B4455;\n",
       "      fill: #D2E3FC;\n",
       "    }\n",
       "\n",
       "    [theme=dark] .colab-df-convert:hover {\n",
       "      background-color: #434B5C;\n",
       "      box-shadow: 0px 1px 3px 1px rgba(0, 0, 0, 0.15);\n",
       "      filter: drop-shadow(0px 1px 2px rgba(0, 0, 0, 0.3));\n",
       "      fill: #FFFFFF;\n",
       "    }\n",
       "  </style>\n",
       "\n",
       "      <script>\n",
       "        const buttonEl =\n",
       "          document.querySelector('#df-b34bebd3-690a-4d18-9725-12545130d52a button.colab-df-convert');\n",
       "        buttonEl.style.display =\n",
       "          google.colab.kernel.accessAllowed ? 'block' : 'none';\n",
       "\n",
       "        async function convertToInteractive(key) {\n",
       "          const element = document.querySelector('#df-b34bebd3-690a-4d18-9725-12545130d52a');\n",
       "          const dataTable =\n",
       "            await google.colab.kernel.invokeFunction('convertToInteractive',\n",
       "                                                     [key], {});\n",
       "          if (!dataTable) return;\n",
       "\n",
       "          const docLinkHtml = 'Like what you see? Visit the ' +\n",
       "            '<a target=\"_blank\" href=https://colab.research.google.com/notebooks/data_table.ipynb>data table notebook</a>'\n",
       "            + ' to learn more about interactive tables.';\n",
       "          element.innerHTML = '';\n",
       "          dataTable['output_type'] = 'display_data';\n",
       "          await google.colab.output.renderOutput(dataTable, element);\n",
       "          const docLink = document.createElement('div');\n",
       "          docLink.innerHTML = docLinkHtml;\n",
       "          element.appendChild(docLink);\n",
       "        }\n",
       "      </script>\n",
       "    </div>\n",
       "  </div>\n",
       "  "
      ],
      "text/plain": [
       "     Unnamed: 0                                               text  toxic  \\\n",
       "0       30990.0  Take a look at the page now- an actual Douche ...    1.0   \n",
       "1       84200.0  \"\\n\\nWhimsical?\\n\\nThought that \"\"whimsical\"\" ...    0.0   \n",
       "2      118023.0  Hello, and welcome to Wikipedia! We welcome an...    0.0   \n",
       "3       57707.0  Yes, and this page is wayyyyy too long as well...    1.0   \n",
       "4       10489.0  And when another Cfd inhabitant asked why the ...    0.0   \n",
       "..          ...                                                ...    ...   \n",
       "495     79063.0  Hey now!! Nice. One never know what might happ...    0.0   \n",
       "496    156489.0  now that he's blocked me so that I can't respo...    1.0   \n",
       "497     61493.0  Is this Bugs person a particularly unsavoury t...    0.0   \n",
       "498     24773.0  Er, what is the precise opposite of what the r...    1.0   \n",
       "499     14247.0  Bullshit \\n\\nWilliam Penn used the phrase too....    1.0   \n",
       "\n",
       "     lenght  \n",
       "0     477.0  \n",
       "1     217.0  \n",
       "2     290.0  \n",
       "3     181.0  \n",
       "4     401.0  \n",
       "..      ...  \n",
       "495    92.0  \n",
       "496    60.0  \n",
       "497   333.0  \n",
       "498   273.0  \n",
       "499    84.0  \n",
       "\n",
       "[500 rows x 4 columns]"
      ]
     },
     "execution_count": 451,
     "metadata": {},
     "output_type": "execute_result"
    }
   ],
   "source": [
    "df_tweets"
   ]
  },
  {
   "cell_type": "markdown",
   "metadata": {
    "id": "QXwhzpLYSsUW"
   },
   "source": [
    "## Токинезация и эмбеддинг"
   ]
  },
  {
   "cell_type": "markdown",
   "metadata": {
    "id": "n5iBPvtHQ_KV"
   },
   "source": [
    "Загружу токенизатор и модель уже предтренерованные"
   ]
  },
  {
   "cell_type": "code",
   "execution_count": 452,
   "metadata": {
    "colab": {
     "base_uri": "https://localhost:8080/"
    },
    "executionInfo": {
     "elapsed": 3344,
     "status": "ok",
     "timestamp": 1676982618874,
     "user": {
      "displayName": "Глеб Соловьёв",
      "userId": "14953811678176238433"
     },
     "user_tz": -300
    },
    "id": "3RTXiYYNzPKY",
    "outputId": "70a2a97a-7bc0-4878-c5a4-6204a55a9c7d"
   },
   "outputs": [
    {
     "name": "stderr",
     "output_type": "stream",
     "text": [
      "Some weights of the model checkpoint at bert-base-uncased were not used when initializing BertModel: ['cls.predictions.transform.dense.bias', 'cls.predictions.bias', 'cls.predictions.decoder.weight', 'cls.seq_relationship.weight', 'cls.seq_relationship.bias', 'cls.predictions.transform.LayerNorm.weight', 'cls.predictions.transform.dense.weight', 'cls.predictions.transform.LayerNorm.bias']\n",
      "- This IS expected if you are initializing BertModel from the checkpoint of a model trained on another task or with another architecture (e.g. initializing a BertForSequenceClassification model from a BertForPreTraining model).\n",
      "- This IS NOT expected if you are initializing BertModel from the checkpoint of a model that you expect to be exactly identical (initializing a BertForSequenceClassification model from a BertForSequenceClassification model).\n"
     ]
    }
   ],
   "source": [
    "tokenizer = BertTokenizer.from_pretrained('bert-base-uncased')\n",
    "model = BertModel.from_pretrained(\"bert-base-uncased\")"
   ]
  },
  {
   "cell_type": "code",
   "execution_count": 453,
   "metadata": {
    "colab": {
     "base_uri": "https://localhost:8080/"
    },
    "executionInfo": {
     "elapsed": 10,
     "status": "ok",
     "timestamp": 1676982618875,
     "user": {
      "displayName": "Глеб Соловьёв",
      "userId": "14953811678176238433"
     },
     "user_tz": -300
    },
    "id": "_5_xPryI0A3x",
    "outputId": "e699e119-25c8-42fc-c239-e1a90bb9e9f8"
   },
   "outputs": [
    {
     "data": {
      "text/plain": [
       "BertTokenizer(name_or_path='bert-base-uncased', vocab_size=30522, model_max_length=512, is_fast=False, padding_side='right', truncation_side='right', special_tokens={'unk_token': '[UNK]', 'sep_token': '[SEP]', 'pad_token': '[PAD]', 'cls_token': '[CLS]', 'mask_token': '[MASK]'})"
      ]
     },
     "execution_count": 453,
     "metadata": {},
     "output_type": "execute_result"
    }
   ],
   "source": [
    "tokenizer"
   ]
  },
  {
   "cell_type": "markdown",
   "metadata": {
    "id": "muke8LkERHt6"
   },
   "source": [
    "Создам маску и паддинг"
   ]
  },
  {
   "cell_type": "code",
   "execution_count": 454,
   "metadata": {
    "executionInfo": {
     "elapsed": 266,
     "status": "ok",
     "timestamp": 1676982619134,
     "user": {
      "displayName": "Глеб Соловьёв",
      "userId": "14953811678176238433"
     },
     "user_tz": -300
    },
    "id": "0mUwoPcv0GCK"
   },
   "outputs": [],
   "source": [
    "tokenized = df_tweets['text'].apply(\n",
    "    lambda x: tokenizer.encode(x, add_special_tokens=True))\n",
    "\n",
    "max_len = 0\n",
    "for i in tokenized.values:\n",
    "    if len(i) > max_len:\n",
    "        max_len = len(i)\n",
    "\n",
    "padded = np.array([i + [0]*(max_len - len(i)) for i in tokenized.values])\n",
    "\n",
    "attention_mask = np.where(padded != 0, 1, 0)"
   ]
  },
  {
   "cell_type": "code",
   "execution_count": 455,
   "metadata": {
    "colab": {
     "base_uri": "https://localhost:8080/",
     "height": 488
    },
    "executionInfo": {
     "elapsed": 17,
     "status": "ok",
     "timestamp": 1676982619136,
     "user": {
      "displayName": "Глеб Соловьёв",
      "userId": "14953811678176238433"
     },
     "user_tz": -300
    },
    "id": "aBvJilio03H4",
    "outputId": "7c811aa1-7917-4f9b-92d2-449f02e1d58e"
   },
   "outputs": [
    {
     "data": {
      "text/html": [
       "\n",
       "  <div id=\"df-ac5c26ac-58d4-478e-bff0-8924e4d86273\">\n",
       "    <div class=\"colab-df-container\">\n",
       "      <div>\n",
       "<style scoped>\n",
       "    .dataframe tbody tr th:only-of-type {\n",
       "        vertical-align: middle;\n",
       "    }\n",
       "\n",
       "    .dataframe tbody tr th {\n",
       "        vertical-align: top;\n",
       "    }\n",
       "\n",
       "    .dataframe thead th {\n",
       "        text-align: right;\n",
       "    }\n",
       "</style>\n",
       "<table border=\"1\" class=\"dataframe\">\n",
       "  <thead>\n",
       "    <tr style=\"text-align: right;\">\n",
       "      <th></th>\n",
       "      <th>0</th>\n",
       "      <th>1</th>\n",
       "      <th>2</th>\n",
       "      <th>3</th>\n",
       "      <th>4</th>\n",
       "      <th>5</th>\n",
       "      <th>6</th>\n",
       "      <th>7</th>\n",
       "      <th>8</th>\n",
       "      <th>9</th>\n",
       "      <th>...</th>\n",
       "      <th>234</th>\n",
       "      <th>235</th>\n",
       "      <th>236</th>\n",
       "      <th>237</th>\n",
       "      <th>238</th>\n",
       "      <th>239</th>\n",
       "      <th>240</th>\n",
       "      <th>241</th>\n",
       "      <th>242</th>\n",
       "      <th>243</th>\n",
       "    </tr>\n",
       "  </thead>\n",
       "  <tbody>\n",
       "    <tr>\n",
       "      <th>0</th>\n",
       "      <td>101</td>\n",
       "      <td>2202</td>\n",
       "      <td>1037</td>\n",
       "      <td>2298</td>\n",
       "      <td>2012</td>\n",
       "      <td>1996</td>\n",
       "      <td>3931</td>\n",
       "      <td>2085</td>\n",
       "      <td>1011</td>\n",
       "      <td>2019</td>\n",
       "      <td>...</td>\n",
       "      <td>0</td>\n",
       "      <td>0</td>\n",
       "      <td>0</td>\n",
       "      <td>0</td>\n",
       "      <td>0</td>\n",
       "      <td>0</td>\n",
       "      <td>0</td>\n",
       "      <td>0</td>\n",
       "      <td>0</td>\n",
       "      <td>0</td>\n",
       "    </tr>\n",
       "    <tr>\n",
       "      <th>1</th>\n",
       "      <td>101</td>\n",
       "      <td>1000</td>\n",
       "      <td>1059</td>\n",
       "      <td>14341</td>\n",
       "      <td>19570</td>\n",
       "      <td>2389</td>\n",
       "      <td>1029</td>\n",
       "      <td>2245</td>\n",
       "      <td>2008</td>\n",
       "      <td>1000</td>\n",
       "      <td>...</td>\n",
       "      <td>0</td>\n",
       "      <td>0</td>\n",
       "      <td>0</td>\n",
       "      <td>0</td>\n",
       "      <td>0</td>\n",
       "      <td>0</td>\n",
       "      <td>0</td>\n",
       "      <td>0</td>\n",
       "      <td>0</td>\n",
       "      <td>0</td>\n",
       "    </tr>\n",
       "    <tr>\n",
       "      <th>2</th>\n",
       "      <td>101</td>\n",
       "      <td>7592</td>\n",
       "      <td>1010</td>\n",
       "      <td>1998</td>\n",
       "      <td>6160</td>\n",
       "      <td>2000</td>\n",
       "      <td>16948</td>\n",
       "      <td>999</td>\n",
       "      <td>2057</td>\n",
       "      <td>6160</td>\n",
       "      <td>...</td>\n",
       "      <td>0</td>\n",
       "      <td>0</td>\n",
       "      <td>0</td>\n",
       "      <td>0</td>\n",
       "      <td>0</td>\n",
       "      <td>0</td>\n",
       "      <td>0</td>\n",
       "      <td>0</td>\n",
       "      <td>0</td>\n",
       "      <td>0</td>\n",
       "    </tr>\n",
       "    <tr>\n",
       "      <th>3</th>\n",
       "      <td>101</td>\n",
       "      <td>2748</td>\n",
       "      <td>1010</td>\n",
       "      <td>1998</td>\n",
       "      <td>2023</td>\n",
       "      <td>3931</td>\n",
       "      <td>2003</td>\n",
       "      <td>2126</td>\n",
       "      <td>2100</td>\n",
       "      <td>2100</td>\n",
       "      <td>...</td>\n",
       "      <td>0</td>\n",
       "      <td>0</td>\n",
       "      <td>0</td>\n",
       "      <td>0</td>\n",
       "      <td>0</td>\n",
       "      <td>0</td>\n",
       "      <td>0</td>\n",
       "      <td>0</td>\n",
       "      <td>0</td>\n",
       "      <td>0</td>\n",
       "    </tr>\n",
       "    <tr>\n",
       "      <th>4</th>\n",
       "      <td>101</td>\n",
       "      <td>1998</td>\n",
       "      <td>2043</td>\n",
       "      <td>2178</td>\n",
       "      <td>12935</td>\n",
       "      <td>2094</td>\n",
       "      <td>21490</td>\n",
       "      <td>4630</td>\n",
       "      <td>2356</td>\n",
       "      <td>2339</td>\n",
       "      <td>...</td>\n",
       "      <td>0</td>\n",
       "      <td>0</td>\n",
       "      <td>0</td>\n",
       "      <td>0</td>\n",
       "      <td>0</td>\n",
       "      <td>0</td>\n",
       "      <td>0</td>\n",
       "      <td>0</td>\n",
       "      <td>0</td>\n",
       "      <td>0</td>\n",
       "    </tr>\n",
       "    <tr>\n",
       "      <th>...</th>\n",
       "      <td>...</td>\n",
       "      <td>...</td>\n",
       "      <td>...</td>\n",
       "      <td>...</td>\n",
       "      <td>...</td>\n",
       "      <td>...</td>\n",
       "      <td>...</td>\n",
       "      <td>...</td>\n",
       "      <td>...</td>\n",
       "      <td>...</td>\n",
       "      <td>...</td>\n",
       "      <td>...</td>\n",
       "      <td>...</td>\n",
       "      <td>...</td>\n",
       "      <td>...</td>\n",
       "      <td>...</td>\n",
       "      <td>...</td>\n",
       "      <td>...</td>\n",
       "      <td>...</td>\n",
       "      <td>...</td>\n",
       "      <td>...</td>\n",
       "    </tr>\n",
       "    <tr>\n",
       "      <th>495</th>\n",
       "      <td>101</td>\n",
       "      <td>4931</td>\n",
       "      <td>2085</td>\n",
       "      <td>999</td>\n",
       "      <td>999</td>\n",
       "      <td>3835</td>\n",
       "      <td>1012</td>\n",
       "      <td>2028</td>\n",
       "      <td>2196</td>\n",
       "      <td>2113</td>\n",
       "      <td>...</td>\n",
       "      <td>0</td>\n",
       "      <td>0</td>\n",
       "      <td>0</td>\n",
       "      <td>0</td>\n",
       "      <td>0</td>\n",
       "      <td>0</td>\n",
       "      <td>0</td>\n",
       "      <td>0</td>\n",
       "      <td>0</td>\n",
       "      <td>0</td>\n",
       "    </tr>\n",
       "    <tr>\n",
       "      <th>496</th>\n",
       "      <td>101</td>\n",
       "      <td>2085</td>\n",
       "      <td>2008</td>\n",
       "      <td>2002</td>\n",
       "      <td>1005</td>\n",
       "      <td>1055</td>\n",
       "      <td>8534</td>\n",
       "      <td>2033</td>\n",
       "      <td>2061</td>\n",
       "      <td>2008</td>\n",
       "      <td>...</td>\n",
       "      <td>0</td>\n",
       "      <td>0</td>\n",
       "      <td>0</td>\n",
       "      <td>0</td>\n",
       "      <td>0</td>\n",
       "      <td>0</td>\n",
       "      <td>0</td>\n",
       "      <td>0</td>\n",
       "      <td>0</td>\n",
       "      <td>0</td>\n",
       "    </tr>\n",
       "    <tr>\n",
       "      <th>497</th>\n",
       "      <td>101</td>\n",
       "      <td>2003</td>\n",
       "      <td>2023</td>\n",
       "      <td>12883</td>\n",
       "      <td>2711</td>\n",
       "      <td>1037</td>\n",
       "      <td>3391</td>\n",
       "      <td>4895</td>\n",
       "      <td>3736</td>\n",
       "      <td>6767</td>\n",
       "      <td>...</td>\n",
       "      <td>0</td>\n",
       "      <td>0</td>\n",
       "      <td>0</td>\n",
       "      <td>0</td>\n",
       "      <td>0</td>\n",
       "      <td>0</td>\n",
       "      <td>0</td>\n",
       "      <td>0</td>\n",
       "      <td>0</td>\n",
       "      <td>0</td>\n",
       "    </tr>\n",
       "    <tr>\n",
       "      <th>498</th>\n",
       "      <td>101</td>\n",
       "      <td>9413</td>\n",
       "      <td>1010</td>\n",
       "      <td>2054</td>\n",
       "      <td>2003</td>\n",
       "      <td>1996</td>\n",
       "      <td>10480</td>\n",
       "      <td>4500</td>\n",
       "      <td>1997</td>\n",
       "      <td>2054</td>\n",
       "      <td>...</td>\n",
       "      <td>0</td>\n",
       "      <td>0</td>\n",
       "      <td>0</td>\n",
       "      <td>0</td>\n",
       "      <td>0</td>\n",
       "      <td>0</td>\n",
       "      <td>0</td>\n",
       "      <td>0</td>\n",
       "      <td>0</td>\n",
       "      <td>0</td>\n",
       "    </tr>\n",
       "    <tr>\n",
       "      <th>499</th>\n",
       "      <td>101</td>\n",
       "      <td>14636</td>\n",
       "      <td>2520</td>\n",
       "      <td>9502</td>\n",
       "      <td>2109</td>\n",
       "      <td>1996</td>\n",
       "      <td>7655</td>\n",
       "      <td>2205</td>\n",
       "      <td>1012</td>\n",
       "      <td>1045</td>\n",
       "      <td>...</td>\n",
       "      <td>0</td>\n",
       "      <td>0</td>\n",
       "      <td>0</td>\n",
       "      <td>0</td>\n",
       "      <td>0</td>\n",
       "      <td>0</td>\n",
       "      <td>0</td>\n",
       "      <td>0</td>\n",
       "      <td>0</td>\n",
       "      <td>0</td>\n",
       "    </tr>\n",
       "  </tbody>\n",
       "</table>\n",
       "<p>500 rows × 244 columns</p>\n",
       "</div>\n",
       "      <button class=\"colab-df-convert\" onclick=\"convertToInteractive('df-ac5c26ac-58d4-478e-bff0-8924e4d86273')\"\n",
       "              title=\"Convert this dataframe to an interactive table.\"\n",
       "              style=\"display:none;\">\n",
       "        \n",
       "  <svg xmlns=\"http://www.w3.org/2000/svg\" height=\"24px\"viewBox=\"0 0 24 24\"\n",
       "       width=\"24px\">\n",
       "    <path d=\"M0 0h24v24H0V0z\" fill=\"none\"/>\n",
       "    <path d=\"M18.56 5.44l.94 2.06.94-2.06 2.06-.94-2.06-.94-.94-2.06-.94 2.06-2.06.94zm-11 1L8.5 8.5l.94-2.06 2.06-.94-2.06-.94L8.5 2.5l-.94 2.06-2.06.94zm10 10l.94 2.06.94-2.06 2.06-.94-2.06-.94-.94-2.06-.94 2.06-2.06.94z\"/><path d=\"M17.41 7.96l-1.37-1.37c-.4-.4-.92-.59-1.43-.59-.52 0-1.04.2-1.43.59L10.3 9.45l-7.72 7.72c-.78.78-.78 2.05 0 2.83L4 21.41c.39.39.9.59 1.41.59.51 0 1.02-.2 1.41-.59l7.78-7.78 2.81-2.81c.8-.78.8-2.07 0-2.86zM5.41 20L4 18.59l7.72-7.72 1.47 1.35L5.41 20z\"/>\n",
       "  </svg>\n",
       "      </button>\n",
       "      \n",
       "  <style>\n",
       "    .colab-df-container {\n",
       "      display:flex;\n",
       "      flex-wrap:wrap;\n",
       "      gap: 12px;\n",
       "    }\n",
       "\n",
       "    .colab-df-convert {\n",
       "      background-color: #E8F0FE;\n",
       "      border: none;\n",
       "      border-radius: 50%;\n",
       "      cursor: pointer;\n",
       "      display: none;\n",
       "      fill: #1967D2;\n",
       "      height: 32px;\n",
       "      padding: 0 0 0 0;\n",
       "      width: 32px;\n",
       "    }\n",
       "\n",
       "    .colab-df-convert:hover {\n",
       "      background-color: #E2EBFA;\n",
       "      box-shadow: 0px 1px 2px rgba(60, 64, 67, 0.3), 0px 1px 3px 1px rgba(60, 64, 67, 0.15);\n",
       "      fill: #174EA6;\n",
       "    }\n",
       "\n",
       "    [theme=dark] .colab-df-convert {\n",
       "      background-color: #3B4455;\n",
       "      fill: #D2E3FC;\n",
       "    }\n",
       "\n",
       "    [theme=dark] .colab-df-convert:hover {\n",
       "      background-color: #434B5C;\n",
       "      box-shadow: 0px 1px 3px 1px rgba(0, 0, 0, 0.15);\n",
       "      filter: drop-shadow(0px 1px 2px rgba(0, 0, 0, 0.3));\n",
       "      fill: #FFFFFF;\n",
       "    }\n",
       "  </style>\n",
       "\n",
       "      <script>\n",
       "        const buttonEl =\n",
       "          document.querySelector('#df-ac5c26ac-58d4-478e-bff0-8924e4d86273 button.colab-df-convert');\n",
       "        buttonEl.style.display =\n",
       "          google.colab.kernel.accessAllowed ? 'block' : 'none';\n",
       "\n",
       "        async function convertToInteractive(key) {\n",
       "          const element = document.querySelector('#df-ac5c26ac-58d4-478e-bff0-8924e4d86273');\n",
       "          const dataTable =\n",
       "            await google.colab.kernel.invokeFunction('convertToInteractive',\n",
       "                                                     [key], {});\n",
       "          if (!dataTable) return;\n",
       "\n",
       "          const docLinkHtml = 'Like what you see? Visit the ' +\n",
       "            '<a target=\"_blank\" href=https://colab.research.google.com/notebooks/data_table.ipynb>data table notebook</a>'\n",
       "            + ' to learn more about interactive tables.';\n",
       "          element.innerHTML = '';\n",
       "          dataTable['output_type'] = 'display_data';\n",
       "          await google.colab.output.renderOutput(dataTable, element);\n",
       "          const docLink = document.createElement('div');\n",
       "          docLink.innerHTML = docLinkHtml;\n",
       "          element.appendChild(docLink);\n",
       "        }\n",
       "      </script>\n",
       "    </div>\n",
       "  </div>\n",
       "  "
      ],
      "text/plain": [
       "     0      1     2      3      4     5      6     7     8     9    ...  234  \\\n",
       "0    101   2202  1037   2298   2012  1996   3931  2085  1011  2019  ...    0   \n",
       "1    101   1000  1059  14341  19570  2389   1029  2245  2008  1000  ...    0   \n",
       "2    101   7592  1010   1998   6160  2000  16948   999  2057  6160  ...    0   \n",
       "3    101   2748  1010   1998   2023  3931   2003  2126  2100  2100  ...    0   \n",
       "4    101   1998  2043   2178  12935  2094  21490  4630  2356  2339  ...    0   \n",
       "..   ...    ...   ...    ...    ...   ...    ...   ...   ...   ...  ...  ...   \n",
       "495  101   4931  2085    999    999  3835   1012  2028  2196  2113  ...    0   \n",
       "496  101   2085  2008   2002   1005  1055   8534  2033  2061  2008  ...    0   \n",
       "497  101   2003  2023  12883   2711  1037   3391  4895  3736  6767  ...    0   \n",
       "498  101   9413  1010   2054   2003  1996  10480  4500  1997  2054  ...    0   \n",
       "499  101  14636  2520   9502   2109  1996   7655  2205  1012  1045  ...    0   \n",
       "\n",
       "     235  236  237  238  239  240  241  242  243  \n",
       "0      0    0    0    0    0    0    0    0    0  \n",
       "1      0    0    0    0    0    0    0    0    0  \n",
       "2      0    0    0    0    0    0    0    0    0  \n",
       "3      0    0    0    0    0    0    0    0    0  \n",
       "4      0    0    0    0    0    0    0    0    0  \n",
       "..   ...  ...  ...  ...  ...  ...  ...  ...  ...  \n",
       "495    0    0    0    0    0    0    0    0    0  \n",
       "496    0    0    0    0    0    0    0    0    0  \n",
       "497    0    0    0    0    0    0    0    0    0  \n",
       "498    0    0    0    0    0    0    0    0    0  \n",
       "499    0    0    0    0    0    0    0    0    0  \n",
       "\n",
       "[500 rows x 244 columns]"
      ]
     },
     "execution_count": 455,
     "metadata": {},
     "output_type": "execute_result"
    }
   ],
   "source": [
    "pd.DataFrame(padded)"
   ]
  },
  {
   "cell_type": "code",
   "execution_count": 455,
   "metadata": {
    "executionInfo": {
     "elapsed": 16,
     "status": "ok",
     "timestamp": 1676982619137,
     "user": {
      "displayName": "Глеб Соловьёв",
      "userId": "14953811678176238433"
     },
     "user_tz": -300
    },
    "id": "3ATSg__80GX4"
   },
   "outputs": [],
   "source": []
  },
  {
   "cell_type": "markdown",
   "metadata": {
    "id": "37ysGr4CRQyr"
   },
   "source": [
    "Теперь сгенерирую Эмбэддинги и запишу их в ДФ features"
   ]
  },
  {
   "cell_type": "code",
   "execution_count": 456,
   "metadata": {
    "executionInfo": {
     "elapsed": 542593,
     "status": "ok",
     "timestamp": 1676983161714,
     "user": {
      "displayName": "Глеб Соловьёв",
      "userId": "14953811678176238433"
     },
     "user_tz": -300
    },
    "id": "AT8EatRMD65-"
   },
   "outputs": [],
   "source": [
    "batch_size = 100\n",
    "embeddings = []\n",
    "for i in range(padded.shape[0] // batch_size):\n",
    "        batch = torch.LongTensor(padded[batch_size*i:batch_size*(i+1)]) \n",
    "        attention_mask_batch = torch.LongTensor(attention_mask[batch_size*i:batch_size*(i+1)])\n",
    "        \n",
    "        with torch.no_grad():\n",
    "            batch_embeddings = model(batch, attention_mask=attention_mask_batch)\n",
    "        \n",
    "        embeddings.append(batch_embeddings[0][:,0,:].numpy())"
   ]
  },
  {
   "cell_type": "code",
   "execution_count": 457,
   "metadata": {
    "executionInfo": {
     "elapsed": 36,
     "status": "ok",
     "timestamp": 1676983161715,
     "user": {
      "displayName": "Глеб Соловьёв",
      "userId": "14953811678176238433"
     },
     "user_tz": -300
    },
    "id": "KT7g84SVD-dZ"
   },
   "outputs": [],
   "source": [
    "features = np.concatenate(embeddings)"
   ]
  },
  {
   "cell_type": "code",
   "execution_count": 458,
   "metadata": {
    "colab": {
     "base_uri": "https://localhost:8080/",
     "height": 488
    },
    "executionInfo": {
     "elapsed": 36,
     "status": "ok",
     "timestamp": 1676983161716,
     "user": {
      "displayName": "Глеб Соловьёв",
      "userId": "14953811678176238433"
     },
     "user_tz": -300
    },
    "id": "2Z_5tSdjXzYA",
    "outputId": "03bf86e1-f8ff-41c8-f1f1-5182a3125256"
   },
   "outputs": [
    {
     "data": {
      "text/html": [
       "\n",
       "  <div id=\"df-da6713da-8e4b-4565-8ff6-1c3d1f36ccd4\">\n",
       "    <div class=\"colab-df-container\">\n",
       "      <div>\n",
       "<style scoped>\n",
       "    .dataframe tbody tr th:only-of-type {\n",
       "        vertical-align: middle;\n",
       "    }\n",
       "\n",
       "    .dataframe tbody tr th {\n",
       "        vertical-align: top;\n",
       "    }\n",
       "\n",
       "    .dataframe thead th {\n",
       "        text-align: right;\n",
       "    }\n",
       "</style>\n",
       "<table border=\"1\" class=\"dataframe\">\n",
       "  <thead>\n",
       "    <tr style=\"text-align: right;\">\n",
       "      <th></th>\n",
       "      <th>0</th>\n",
       "      <th>1</th>\n",
       "      <th>2</th>\n",
       "      <th>3</th>\n",
       "      <th>4</th>\n",
       "      <th>5</th>\n",
       "      <th>6</th>\n",
       "      <th>7</th>\n",
       "      <th>8</th>\n",
       "      <th>9</th>\n",
       "      <th>...</th>\n",
       "      <th>758</th>\n",
       "      <th>759</th>\n",
       "      <th>760</th>\n",
       "      <th>761</th>\n",
       "      <th>762</th>\n",
       "      <th>763</th>\n",
       "      <th>764</th>\n",
       "      <th>765</th>\n",
       "      <th>766</th>\n",
       "      <th>767</th>\n",
       "    </tr>\n",
       "  </thead>\n",
       "  <tbody>\n",
       "    <tr>\n",
       "      <th>0</th>\n",
       "      <td>0.123755</td>\n",
       "      <td>-0.106025</td>\n",
       "      <td>0.337740</td>\n",
       "      <td>-0.209775</td>\n",
       "      <td>-0.259691</td>\n",
       "      <td>-0.399717</td>\n",
       "      <td>0.476832</td>\n",
       "      <td>0.337581</td>\n",
       "      <td>0.316370</td>\n",
       "      <td>-0.475825</td>\n",
       "      <td>...</td>\n",
       "      <td>0.184848</td>\n",
       "      <td>-0.117560</td>\n",
       "      <td>0.025740</td>\n",
       "      <td>-0.741329</td>\n",
       "      <td>0.044063</td>\n",
       "      <td>0.250636</td>\n",
       "      <td>-0.506035</td>\n",
       "      <td>-0.116799</td>\n",
       "      <td>0.353760</td>\n",
       "      <td>0.585995</td>\n",
       "    </tr>\n",
       "    <tr>\n",
       "      <th>1</th>\n",
       "      <td>-0.187295</td>\n",
       "      <td>-0.267015</td>\n",
       "      <td>-0.260842</td>\n",
       "      <td>0.106950</td>\n",
       "      <td>-0.020278</td>\n",
       "      <td>0.010692</td>\n",
       "      <td>0.008199</td>\n",
       "      <td>0.091521</td>\n",
       "      <td>-0.088589</td>\n",
       "      <td>0.098095</td>\n",
       "      <td>...</td>\n",
       "      <td>0.077596</td>\n",
       "      <td>-0.042208</td>\n",
       "      <td>0.031694</td>\n",
       "      <td>0.042395</td>\n",
       "      <td>0.070803</td>\n",
       "      <td>0.027808</td>\n",
       "      <td>-0.409127</td>\n",
       "      <td>-0.266150</td>\n",
       "      <td>0.576978</td>\n",
       "      <td>0.549775</td>\n",
       "    </tr>\n",
       "    <tr>\n",
       "      <th>2</th>\n",
       "      <td>-0.130140</td>\n",
       "      <td>-0.339838</td>\n",
       "      <td>0.083788</td>\n",
       "      <td>0.051761</td>\n",
       "      <td>-0.311028</td>\n",
       "      <td>-0.825008</td>\n",
       "      <td>0.509609</td>\n",
       "      <td>0.593285</td>\n",
       "      <td>0.067492</td>\n",
       "      <td>-0.326785</td>\n",
       "      <td>...</td>\n",
       "      <td>0.180445</td>\n",
       "      <td>-0.139543</td>\n",
       "      <td>-0.299203</td>\n",
       "      <td>-0.366841</td>\n",
       "      <td>0.519180</td>\n",
       "      <td>0.239429</td>\n",
       "      <td>-0.295304</td>\n",
       "      <td>-0.197659</td>\n",
       "      <td>0.615162</td>\n",
       "      <td>0.686166</td>\n",
       "    </tr>\n",
       "    <tr>\n",
       "      <th>3</th>\n",
       "      <td>0.040030</td>\n",
       "      <td>0.099532</td>\n",
       "      <td>0.010963</td>\n",
       "      <td>-0.033622</td>\n",
       "      <td>-0.364336</td>\n",
       "      <td>-0.421667</td>\n",
       "      <td>0.191631</td>\n",
       "      <td>0.781923</td>\n",
       "      <td>0.185273</td>\n",
       "      <td>-0.130633</td>\n",
       "      <td>...</td>\n",
       "      <td>-0.079110</td>\n",
       "      <td>-0.087618</td>\n",
       "      <td>-0.095687</td>\n",
       "      <td>-0.348013</td>\n",
       "      <td>-0.075865</td>\n",
       "      <td>0.017607</td>\n",
       "      <td>-0.288373</td>\n",
       "      <td>-0.164290</td>\n",
       "      <td>0.400713</td>\n",
       "      <td>0.689111</td>\n",
       "    </tr>\n",
       "    <tr>\n",
       "      <th>4</th>\n",
       "      <td>0.048188</td>\n",
       "      <td>0.030478</td>\n",
       "      <td>0.230015</td>\n",
       "      <td>-0.007081</td>\n",
       "      <td>-0.141841</td>\n",
       "      <td>-0.301290</td>\n",
       "      <td>0.092908</td>\n",
       "      <td>0.752162</td>\n",
       "      <td>-0.099184</td>\n",
       "      <td>-0.271400</td>\n",
       "      <td>...</td>\n",
       "      <td>-0.000491</td>\n",
       "      <td>-0.040868</td>\n",
       "      <td>-0.012738</td>\n",
       "      <td>0.058175</td>\n",
       "      <td>0.262360</td>\n",
       "      <td>0.195151</td>\n",
       "      <td>-0.508119</td>\n",
       "      <td>-0.090298</td>\n",
       "      <td>0.524383</td>\n",
       "      <td>0.615540</td>\n",
       "    </tr>\n",
       "    <tr>\n",
       "      <th>...</th>\n",
       "      <td>...</td>\n",
       "      <td>...</td>\n",
       "      <td>...</td>\n",
       "      <td>...</td>\n",
       "      <td>...</td>\n",
       "      <td>...</td>\n",
       "      <td>...</td>\n",
       "      <td>...</td>\n",
       "      <td>...</td>\n",
       "      <td>...</td>\n",
       "      <td>...</td>\n",
       "      <td>...</td>\n",
       "      <td>...</td>\n",
       "      <td>...</td>\n",
       "      <td>...</td>\n",
       "      <td>...</td>\n",
       "      <td>...</td>\n",
       "      <td>...</td>\n",
       "      <td>...</td>\n",
       "      <td>...</td>\n",
       "      <td>...</td>\n",
       "    </tr>\n",
       "    <tr>\n",
       "      <th>495</th>\n",
       "      <td>0.183561</td>\n",
       "      <td>-0.203617</td>\n",
       "      <td>0.223840</td>\n",
       "      <td>-0.086837</td>\n",
       "      <td>-0.386004</td>\n",
       "      <td>-0.449291</td>\n",
       "      <td>0.648740</td>\n",
       "      <td>0.846546</td>\n",
       "      <td>0.195980</td>\n",
       "      <td>-0.905144</td>\n",
       "      <td>...</td>\n",
       "      <td>-0.365974</td>\n",
       "      <td>-0.084881</td>\n",
       "      <td>0.061610</td>\n",
       "      <td>-0.051828</td>\n",
       "      <td>0.101859</td>\n",
       "      <td>-0.148377</td>\n",
       "      <td>-0.151947</td>\n",
       "      <td>0.037575</td>\n",
       "      <td>0.368775</td>\n",
       "      <td>0.326369</td>\n",
       "    </tr>\n",
       "    <tr>\n",
       "      <th>496</th>\n",
       "      <td>-0.037299</td>\n",
       "      <td>0.260283</td>\n",
       "      <td>-0.016207</td>\n",
       "      <td>-0.015196</td>\n",
       "      <td>-0.192107</td>\n",
       "      <td>-0.243083</td>\n",
       "      <td>0.132104</td>\n",
       "      <td>0.241418</td>\n",
       "      <td>-0.162050</td>\n",
       "      <td>-0.318341</td>\n",
       "      <td>...</td>\n",
       "      <td>0.045470</td>\n",
       "      <td>-0.259458</td>\n",
       "      <td>0.070598</td>\n",
       "      <td>-0.143383</td>\n",
       "      <td>0.069786</td>\n",
       "      <td>0.022542</td>\n",
       "      <td>0.008019</td>\n",
       "      <td>-0.036899</td>\n",
       "      <td>0.206848</td>\n",
       "      <td>0.412416</td>\n",
       "    </tr>\n",
       "    <tr>\n",
       "      <th>497</th>\n",
       "      <td>0.026393</td>\n",
       "      <td>-0.053288</td>\n",
       "      <td>0.142881</td>\n",
       "      <td>-0.146705</td>\n",
       "      <td>-0.247270</td>\n",
       "      <td>-0.265700</td>\n",
       "      <td>0.479407</td>\n",
       "      <td>0.415640</td>\n",
       "      <td>-0.006921</td>\n",
       "      <td>-0.211179</td>\n",
       "      <td>...</td>\n",
       "      <td>0.101757</td>\n",
       "      <td>0.038214</td>\n",
       "      <td>-0.012887</td>\n",
       "      <td>-0.390732</td>\n",
       "      <td>0.031235</td>\n",
       "      <td>0.253130</td>\n",
       "      <td>-0.082880</td>\n",
       "      <td>-0.028364</td>\n",
       "      <td>0.551593</td>\n",
       "      <td>0.745340</td>\n",
       "    </tr>\n",
       "    <tr>\n",
       "      <th>498</th>\n",
       "      <td>0.137219</td>\n",
       "      <td>0.050578</td>\n",
       "      <td>0.010386</td>\n",
       "      <td>-0.373457</td>\n",
       "      <td>-0.366369</td>\n",
       "      <td>-0.450904</td>\n",
       "      <td>0.567493</td>\n",
       "      <td>0.499609</td>\n",
       "      <td>0.126013</td>\n",
       "      <td>-0.259215</td>\n",
       "      <td>...</td>\n",
       "      <td>-0.006776</td>\n",
       "      <td>-0.074343</td>\n",
       "      <td>-0.072544</td>\n",
       "      <td>-0.522449</td>\n",
       "      <td>0.323080</td>\n",
       "      <td>0.201090</td>\n",
       "      <td>-0.273104</td>\n",
       "      <td>-0.391786</td>\n",
       "      <td>0.487330</td>\n",
       "      <td>0.661489</td>\n",
       "    </tr>\n",
       "    <tr>\n",
       "      <th>499</th>\n",
       "      <td>-0.053102</td>\n",
       "      <td>0.291886</td>\n",
       "      <td>-0.296946</td>\n",
       "      <td>0.002142</td>\n",
       "      <td>-0.432774</td>\n",
       "      <td>-0.733708</td>\n",
       "      <td>0.207064</td>\n",
       "      <td>0.662965</td>\n",
       "      <td>0.464936</td>\n",
       "      <td>-0.137004</td>\n",
       "      <td>...</td>\n",
       "      <td>-0.084293</td>\n",
       "      <td>-0.242952</td>\n",
       "      <td>-0.178171</td>\n",
       "      <td>-0.198483</td>\n",
       "      <td>0.012006</td>\n",
       "      <td>0.321827</td>\n",
       "      <td>-0.099274</td>\n",
       "      <td>-0.219520</td>\n",
       "      <td>0.584162</td>\n",
       "      <td>0.541563</td>\n",
       "    </tr>\n",
       "  </tbody>\n",
       "</table>\n",
       "<p>500 rows × 768 columns</p>\n",
       "</div>\n",
       "      <button class=\"colab-df-convert\" onclick=\"convertToInteractive('df-da6713da-8e4b-4565-8ff6-1c3d1f36ccd4')\"\n",
       "              title=\"Convert this dataframe to an interactive table.\"\n",
       "              style=\"display:none;\">\n",
       "        \n",
       "  <svg xmlns=\"http://www.w3.org/2000/svg\" height=\"24px\"viewBox=\"0 0 24 24\"\n",
       "       width=\"24px\">\n",
       "    <path d=\"M0 0h24v24H0V0z\" fill=\"none\"/>\n",
       "    <path d=\"M18.56 5.44l.94 2.06.94-2.06 2.06-.94-2.06-.94-.94-2.06-.94 2.06-2.06.94zm-11 1L8.5 8.5l.94-2.06 2.06-.94-2.06-.94L8.5 2.5l-.94 2.06-2.06.94zm10 10l.94 2.06.94-2.06 2.06-.94-2.06-.94-.94-2.06-.94 2.06-2.06.94z\"/><path d=\"M17.41 7.96l-1.37-1.37c-.4-.4-.92-.59-1.43-.59-.52 0-1.04.2-1.43.59L10.3 9.45l-7.72 7.72c-.78.78-.78 2.05 0 2.83L4 21.41c.39.39.9.59 1.41.59.51 0 1.02-.2 1.41-.59l7.78-7.78 2.81-2.81c.8-.78.8-2.07 0-2.86zM5.41 20L4 18.59l7.72-7.72 1.47 1.35L5.41 20z\"/>\n",
       "  </svg>\n",
       "      </button>\n",
       "      \n",
       "  <style>\n",
       "    .colab-df-container {\n",
       "      display:flex;\n",
       "      flex-wrap:wrap;\n",
       "      gap: 12px;\n",
       "    }\n",
       "\n",
       "    .colab-df-convert {\n",
       "      background-color: #E8F0FE;\n",
       "      border: none;\n",
       "      border-radius: 50%;\n",
       "      cursor: pointer;\n",
       "      display: none;\n",
       "      fill: #1967D2;\n",
       "      height: 32px;\n",
       "      padding: 0 0 0 0;\n",
       "      width: 32px;\n",
       "    }\n",
       "\n",
       "    .colab-df-convert:hover {\n",
       "      background-color: #E2EBFA;\n",
       "      box-shadow: 0px 1px 2px rgba(60, 64, 67, 0.3), 0px 1px 3px 1px rgba(60, 64, 67, 0.15);\n",
       "      fill: #174EA6;\n",
       "    }\n",
       "\n",
       "    [theme=dark] .colab-df-convert {\n",
       "      background-color: #3B4455;\n",
       "      fill: #D2E3FC;\n",
       "    }\n",
       "\n",
       "    [theme=dark] .colab-df-convert:hover {\n",
       "      background-color: #434B5C;\n",
       "      box-shadow: 0px 1px 3px 1px rgba(0, 0, 0, 0.15);\n",
       "      filter: drop-shadow(0px 1px 2px rgba(0, 0, 0, 0.3));\n",
       "      fill: #FFFFFF;\n",
       "    }\n",
       "  </style>\n",
       "\n",
       "      <script>\n",
       "        const buttonEl =\n",
       "          document.querySelector('#df-da6713da-8e4b-4565-8ff6-1c3d1f36ccd4 button.colab-df-convert');\n",
       "        buttonEl.style.display =\n",
       "          google.colab.kernel.accessAllowed ? 'block' : 'none';\n",
       "\n",
       "        async function convertToInteractive(key) {\n",
       "          const element = document.querySelector('#df-da6713da-8e4b-4565-8ff6-1c3d1f36ccd4');\n",
       "          const dataTable =\n",
       "            await google.colab.kernel.invokeFunction('convertToInteractive',\n",
       "                                                     [key], {});\n",
       "          if (!dataTable) return;\n",
       "\n",
       "          const docLinkHtml = 'Like what you see? Visit the ' +\n",
       "            '<a target=\"_blank\" href=https://colab.research.google.com/notebooks/data_table.ipynb>data table notebook</a>'\n",
       "            + ' to learn more about interactive tables.';\n",
       "          element.innerHTML = '';\n",
       "          dataTable['output_type'] = 'display_data';\n",
       "          await google.colab.output.renderOutput(dataTable, element);\n",
       "          const docLink = document.createElement('div');\n",
       "          docLink.innerHTML = docLinkHtml;\n",
       "          element.appendChild(docLink);\n",
       "        }\n",
       "      </script>\n",
       "    </div>\n",
       "  </div>\n",
       "  "
      ],
      "text/plain": [
       "          0         1         2         3         4         5         6    \\\n",
       "0    0.123755 -0.106025  0.337740 -0.209775 -0.259691 -0.399717  0.476832   \n",
       "1   -0.187295 -0.267015 -0.260842  0.106950 -0.020278  0.010692  0.008199   \n",
       "2   -0.130140 -0.339838  0.083788  0.051761 -0.311028 -0.825008  0.509609   \n",
       "3    0.040030  0.099532  0.010963 -0.033622 -0.364336 -0.421667  0.191631   \n",
       "4    0.048188  0.030478  0.230015 -0.007081 -0.141841 -0.301290  0.092908   \n",
       "..        ...       ...       ...       ...       ...       ...       ...   \n",
       "495  0.183561 -0.203617  0.223840 -0.086837 -0.386004 -0.449291  0.648740   \n",
       "496 -0.037299  0.260283 -0.016207 -0.015196 -0.192107 -0.243083  0.132104   \n",
       "497  0.026393 -0.053288  0.142881 -0.146705 -0.247270 -0.265700  0.479407   \n",
       "498  0.137219  0.050578  0.010386 -0.373457 -0.366369 -0.450904  0.567493   \n",
       "499 -0.053102  0.291886 -0.296946  0.002142 -0.432774 -0.733708  0.207064   \n",
       "\n",
       "          7         8         9    ...       758       759       760  \\\n",
       "0    0.337581  0.316370 -0.475825  ...  0.184848 -0.117560  0.025740   \n",
       "1    0.091521 -0.088589  0.098095  ...  0.077596 -0.042208  0.031694   \n",
       "2    0.593285  0.067492 -0.326785  ...  0.180445 -0.139543 -0.299203   \n",
       "3    0.781923  0.185273 -0.130633  ... -0.079110 -0.087618 -0.095687   \n",
       "4    0.752162 -0.099184 -0.271400  ... -0.000491 -0.040868 -0.012738   \n",
       "..        ...       ...       ...  ...       ...       ...       ...   \n",
       "495  0.846546  0.195980 -0.905144  ... -0.365974 -0.084881  0.061610   \n",
       "496  0.241418 -0.162050 -0.318341  ...  0.045470 -0.259458  0.070598   \n",
       "497  0.415640 -0.006921 -0.211179  ...  0.101757  0.038214 -0.012887   \n",
       "498  0.499609  0.126013 -0.259215  ... -0.006776 -0.074343 -0.072544   \n",
       "499  0.662965  0.464936 -0.137004  ... -0.084293 -0.242952 -0.178171   \n",
       "\n",
       "          761       762       763       764       765       766       767  \n",
       "0   -0.741329  0.044063  0.250636 -0.506035 -0.116799  0.353760  0.585995  \n",
       "1    0.042395  0.070803  0.027808 -0.409127 -0.266150  0.576978  0.549775  \n",
       "2   -0.366841  0.519180  0.239429 -0.295304 -0.197659  0.615162  0.686166  \n",
       "3   -0.348013 -0.075865  0.017607 -0.288373 -0.164290  0.400713  0.689111  \n",
       "4    0.058175  0.262360  0.195151 -0.508119 -0.090298  0.524383  0.615540  \n",
       "..        ...       ...       ...       ...       ...       ...       ...  \n",
       "495 -0.051828  0.101859 -0.148377 -0.151947  0.037575  0.368775  0.326369  \n",
       "496 -0.143383  0.069786  0.022542  0.008019 -0.036899  0.206848  0.412416  \n",
       "497 -0.390732  0.031235  0.253130 -0.082880 -0.028364  0.551593  0.745340  \n",
       "498 -0.522449  0.323080  0.201090 -0.273104 -0.391786  0.487330  0.661489  \n",
       "499 -0.198483  0.012006  0.321827 -0.099274 -0.219520  0.584162  0.541563  \n",
       "\n",
       "[500 rows x 768 columns]"
      ]
     },
     "execution_count": 458,
     "metadata": {},
     "output_type": "execute_result"
    }
   ],
   "source": [
    "f=pd.DataFrame(features)\n",
    "f=f.dropna()\n",
    "f"
   ]
  },
  {
   "cell_type": "markdown",
   "metadata": {
    "id": "ou_x8xgQR1zN"
   },
   "source": [
    "## Разбиение датасета на тест и трейн"
   ]
  },
  {
   "cell_type": "code",
   "execution_count": 459,
   "metadata": {
    "executionInfo": {
     "elapsed": 35,
     "status": "ok",
     "timestamp": 1676983161717,
     "user": {
      "displayName": "Глеб Соловьёв",
      "userId": "14953811678176238433"
     },
     "user_tz": -300
    },
    "id": "ra28U1wyItbk"
   },
   "outputs": [],
   "source": [
    "df=pd.DataFrame(f)\n",
    "df['y']=df_tweets['toxic']\n",
    "X=df.drop('y',axis=1)\n",
    "Y=df_tweets['toxic']"
   ]
  },
  {
   "cell_type": "code",
   "execution_count": 460,
   "metadata": {
    "colab": {
     "base_uri": "https://localhost:8080/"
    },
    "executionInfo": {
     "elapsed": 35,
     "status": "ok",
     "timestamp": 1676983161718,
     "user": {
      "displayName": "Глеб Соловьёв",
      "userId": "14953811678176238433"
     },
     "user_tz": -300
    },
    "id": "1yIsrK-TYsXZ",
    "outputId": "4db1eb0e-8220-427c-d663-d772cfb258d4"
   },
   "outputs": [
    {
     "data": {
      "text/plain": [
       "0      1.0\n",
       "1      0.0\n",
       "2      0.0\n",
       "3      1.0\n",
       "4      0.0\n",
       "      ... \n",
       "495    0.0\n",
       "496    1.0\n",
       "497    0.0\n",
       "498    1.0\n",
       "499    1.0\n",
       "Name: toxic, Length: 500, dtype: float64"
      ]
     },
     "execution_count": 460,
     "metadata": {},
     "output_type": "execute_result"
    }
   ],
   "source": [
    "Y\n"
   ]
  },
  {
   "cell_type": "code",
   "execution_count": 460,
   "metadata": {
    "executionInfo": {
     "elapsed": 32,
     "status": "ok",
     "timestamp": 1676983161719,
     "user": {
      "displayName": "Глеб Соловьёв",
      "userId": "14953811678176238433"
     },
     "user_tz": -300
    },
    "id": "AOEPYjinI_zW"
   },
   "outputs": [],
   "source": []
  },
  {
   "cell_type": "code",
   "execution_count": 461,
   "metadata": {
    "executionInfo": {
     "elapsed": 33,
     "status": "ok",
     "timestamp": 1676983161720,
     "user": {
      "displayName": "Глеб Соловьёв",
      "userId": "14953811678176238433"
     },
     "user_tz": -300
    },
    "id": "QuEhiy-SJC8m"
   },
   "outputs": [],
   "source": [
    "X_train,X_test,Y_train,Y_test=train_test_split(X,Y,test_size=0.25)"
   ]
  },
  {
   "cell_type": "code",
   "execution_count": 462,
   "metadata": {
    "colab": {
     "base_uri": "https://localhost:8080/"
    },
    "executionInfo": {
     "elapsed": 33,
     "status": "ok",
     "timestamp": 1676983161721,
     "user": {
      "displayName": "Глеб Соловьёв",
      "userId": "14953811678176238433"
     },
     "user_tz": -300
    },
    "id": "_CrK4s7AZGSe",
    "outputId": "9d3f35f5-0762-411e-f8a3-397a2fa1a45f"
   },
   "outputs": [
    {
     "data": {
      "text/plain": [
       "230    0.0\n",
       "35     0.0\n",
       "246    0.0\n",
       "53     0.0\n",
       "150    1.0\n",
       "      ... \n",
       "411    1.0\n",
       "200    1.0\n",
       "484    1.0\n",
       "371    1.0\n",
       "262    1.0\n",
       "Name: toxic, Length: 375, dtype: float64"
      ]
     },
     "execution_count": 462,
     "metadata": {},
     "output_type": "execute_result"
    }
   ],
   "source": [
    "Y_train"
   ]
  },
  {
   "cell_type": "markdown",
   "metadata": {
    "id": "VVl-3imCR6cu"
   },
   "source": [
    "## Подбор гипперпараметров и обучение моделей"
   ]
  },
  {
   "cell_type": "markdown",
   "metadata": {
    "id": "yCXK-zr1S8BZ"
   },
   "source": [
    "### Логистическая регрессия"
   ]
  },
  {
   "cell_type": "code",
   "execution_count": 481,
   "metadata": {
    "colab": {
     "base_uri": "https://localhost:8080/"
    },
    "executionInfo": {
     "elapsed": 11427,
     "status": "ok",
     "timestamp": 1676993249674,
     "user": {
      "displayName": "Глеб Соловьёв",
      "userId": "14953811678176238433"
     },
     "user_tz": -300
    },
    "id": "5Hn_Yu6jcF5k",
    "outputId": "ec83b0dd-4721-4fd9-cccb-70c2f63c8fc3"
   },
   "outputs": [
    {
     "name": "stdout",
     "output_type": "stream",
     "text": [
      "Fitting 5 folds for each of 28 candidates, totalling 140 fits\n",
      "0.8307465159702729 {'C': 0.005999999999999998, 'max_iter': 900}\n"
     ]
    }
   ],
   "source": [
    "\"\"\"Fitting 5 folds for each of 28 candidates, totalling 140 fits\n",
    "0.8307465159702729 {'C': 0.005999999999999998, 'max_iter': 900}\"\"\"\n",
    "param_grid = {'C': np.arange(0.0045, 0.0065, 0.0005),\n",
    "              'max_iter':range(900, 1250, 50),\n",
    "             }\n",
    "grd_rf = GridSearchCV(LogisticRegression(random_state=0),\n",
    "                            param_grid=param_grid,cv=5,\n",
    "                            scoring='f1', n_jobs=-1,verbose=3)\n",
    "grd_rf.fit(X_train,Y_train)\n",
    "print(grd_rf.best_score_,grd_rf.best_params_)"
   ]
  },
  {
   "cell_type": "code",
   "execution_count": 482,
   "metadata": {
    "colab": {
     "base_uri": "https://localhost:8080/"
    },
    "executionInfo": {
     "elapsed": 1943,
     "status": "ok",
     "timestamp": 1676993276329,
     "user": {
      "displayName": "Глеб Соловьёв",
      "userId": "14953811678176238433"
     },
     "user_tz": -300
    },
    "id": "dG29EjvRJGL1",
    "outputId": "8465ff79-ce25-4e90-c981-62ca033b2a20"
   },
   "outputs": [
    {
     "data": {
      "text/plain": [
       "0.8428571428571429"
      ]
     },
     "execution_count": 482,
     "metadata": {},
     "output_type": "execute_result"
    }
   ],
   "source": [
    "lr=LogisticRegression(C=0.006,max_iter=900,random_state=0)\n",
    "lr.fit(X_train,Y_train)\n",
    "f1_score(Y_test,lr.predict(X_test))"
   ]
  },
  {
   "cell_type": "code",
   "execution_count": 483,
   "metadata": {
    "executionInfo": {
     "elapsed": 266,
     "status": "ok",
     "timestamp": 1676993298673,
     "user": {
      "displayName": "Глеб Соловьёв",
      "userId": "14953811678176238433"
     },
     "user_tz": -300
    },
    "id": "azrGkrKPNmqS"
   },
   "outputs": [],
   "source": [
    "preds=pd.DataFrame(Y_test)\n",
    "preds['pred']=lr.predict(X_test)"
   ]
  },
  {
   "cell_type": "code",
   "execution_count": 494,
   "metadata": {
    "colab": {
     "base_uri": "https://localhost:8080/",
     "height": 424
    },
    "executionInfo": {
     "elapsed": 266,
     "status": "ok",
     "timestamp": 1676993953955,
     "user": {
      "displayName": "Глеб Соловьёв",
      "userId": "14953811678176238433"
     },
     "user_tz": -300
    },
    "id": "Ya7UgQzqNzge",
    "outputId": "14d4041d-de31-4dd1-88d7-0fb062298113"
   },
   "outputs": [
    {
     "data": {
      "text/html": [
       "\n",
       "  <div id=\"df-40f69c01-118e-4780-a420-0c53ca9d1538\">\n",
       "    <div class=\"colab-df-container\">\n",
       "      <div>\n",
       "<style scoped>\n",
       "    .dataframe tbody tr th:only-of-type {\n",
       "        vertical-align: middle;\n",
       "    }\n",
       "\n",
       "    .dataframe tbody tr th {\n",
       "        vertical-align: top;\n",
       "    }\n",
       "\n",
       "    .dataframe thead th {\n",
       "        text-align: right;\n",
       "    }\n",
       "</style>\n",
       "<table border=\"1\" class=\"dataframe\">\n",
       "  <thead>\n",
       "    <tr style=\"text-align: right;\">\n",
       "      <th></th>\n",
       "      <th>toxic</th>\n",
       "      <th>pred</th>\n",
       "      <th>cat</th>\n",
       "    </tr>\n",
       "  </thead>\n",
       "  <tbody>\n",
       "    <tr>\n",
       "      <th>111</th>\n",
       "      <td>1.0</td>\n",
       "      <td>1.0</td>\n",
       "      <td>1.0</td>\n",
       "    </tr>\n",
       "    <tr>\n",
       "      <th>241</th>\n",
       "      <td>1.0</td>\n",
       "      <td>1.0</td>\n",
       "      <td>1.0</td>\n",
       "    </tr>\n",
       "    <tr>\n",
       "      <th>180</th>\n",
       "      <td>1.0</td>\n",
       "      <td>0.0</td>\n",
       "      <td>0.0</td>\n",
       "    </tr>\n",
       "    <tr>\n",
       "      <th>295</th>\n",
       "      <td>1.0</td>\n",
       "      <td>1.0</td>\n",
       "      <td>1.0</td>\n",
       "    </tr>\n",
       "    <tr>\n",
       "      <th>448</th>\n",
       "      <td>1.0</td>\n",
       "      <td>0.0</td>\n",
       "      <td>0.0</td>\n",
       "    </tr>\n",
       "    <tr>\n",
       "      <th>...</th>\n",
       "      <td>...</td>\n",
       "      <td>...</td>\n",
       "      <td>...</td>\n",
       "    </tr>\n",
       "    <tr>\n",
       "      <th>273</th>\n",
       "      <td>1.0</td>\n",
       "      <td>0.0</td>\n",
       "      <td>0.0</td>\n",
       "    </tr>\n",
       "    <tr>\n",
       "      <th>487</th>\n",
       "      <td>0.0</td>\n",
       "      <td>0.0</td>\n",
       "      <td>0.0</td>\n",
       "    </tr>\n",
       "    <tr>\n",
       "      <th>223</th>\n",
       "      <td>1.0</td>\n",
       "      <td>1.0</td>\n",
       "      <td>1.0</td>\n",
       "    </tr>\n",
       "    <tr>\n",
       "      <th>245</th>\n",
       "      <td>0.0</td>\n",
       "      <td>0.0</td>\n",
       "      <td>0.0</td>\n",
       "    </tr>\n",
       "    <tr>\n",
       "      <th>18</th>\n",
       "      <td>0.0</td>\n",
       "      <td>0.0</td>\n",
       "      <td>0.0</td>\n",
       "    </tr>\n",
       "  </tbody>\n",
       "</table>\n",
       "<p>125 rows × 3 columns</p>\n",
       "</div>\n",
       "      <button class=\"colab-df-convert\" onclick=\"convertToInteractive('df-40f69c01-118e-4780-a420-0c53ca9d1538')\"\n",
       "              title=\"Convert this dataframe to an interactive table.\"\n",
       "              style=\"display:none;\">\n",
       "        \n",
       "  <svg xmlns=\"http://www.w3.org/2000/svg\" height=\"24px\"viewBox=\"0 0 24 24\"\n",
       "       width=\"24px\">\n",
       "    <path d=\"M0 0h24v24H0V0z\" fill=\"none\"/>\n",
       "    <path d=\"M18.56 5.44l.94 2.06.94-2.06 2.06-.94-2.06-.94-.94-2.06-.94 2.06-2.06.94zm-11 1L8.5 8.5l.94-2.06 2.06-.94-2.06-.94L8.5 2.5l-.94 2.06-2.06.94zm10 10l.94 2.06.94-2.06 2.06-.94-2.06-.94-.94-2.06-.94 2.06-2.06.94z\"/><path d=\"M17.41 7.96l-1.37-1.37c-.4-.4-.92-.59-1.43-.59-.52 0-1.04.2-1.43.59L10.3 9.45l-7.72 7.72c-.78.78-.78 2.05 0 2.83L4 21.41c.39.39.9.59 1.41.59.51 0 1.02-.2 1.41-.59l7.78-7.78 2.81-2.81c.8-.78.8-2.07 0-2.86zM5.41 20L4 18.59l7.72-7.72 1.47 1.35L5.41 20z\"/>\n",
       "  </svg>\n",
       "      </button>\n",
       "      \n",
       "  <style>\n",
       "    .colab-df-container {\n",
       "      display:flex;\n",
       "      flex-wrap:wrap;\n",
       "      gap: 12px;\n",
       "    }\n",
       "\n",
       "    .colab-df-convert {\n",
       "      background-color: #E8F0FE;\n",
       "      border: none;\n",
       "      border-radius: 50%;\n",
       "      cursor: pointer;\n",
       "      display: none;\n",
       "      fill: #1967D2;\n",
       "      height: 32px;\n",
       "      padding: 0 0 0 0;\n",
       "      width: 32px;\n",
       "    }\n",
       "\n",
       "    .colab-df-convert:hover {\n",
       "      background-color: #E2EBFA;\n",
       "      box-shadow: 0px 1px 2px rgba(60, 64, 67, 0.3), 0px 1px 3px 1px rgba(60, 64, 67, 0.15);\n",
       "      fill: #174EA6;\n",
       "    }\n",
       "\n",
       "    [theme=dark] .colab-df-convert {\n",
       "      background-color: #3B4455;\n",
       "      fill: #D2E3FC;\n",
       "    }\n",
       "\n",
       "    [theme=dark] .colab-df-convert:hover {\n",
       "      background-color: #434B5C;\n",
       "      box-shadow: 0px 1px 3px 1px rgba(0, 0, 0, 0.15);\n",
       "      filter: drop-shadow(0px 1px 2px rgba(0, 0, 0, 0.3));\n",
       "      fill: #FFFFFF;\n",
       "    }\n",
       "  </style>\n",
       "\n",
       "      <script>\n",
       "        const buttonEl =\n",
       "          document.querySelector('#df-40f69c01-118e-4780-a420-0c53ca9d1538 button.colab-df-convert');\n",
       "        buttonEl.style.display =\n",
       "          google.colab.kernel.accessAllowed ? 'block' : 'none';\n",
       "\n",
       "        async function convertToInteractive(key) {\n",
       "          const element = document.querySelector('#df-40f69c01-118e-4780-a420-0c53ca9d1538');\n",
       "          const dataTable =\n",
       "            await google.colab.kernel.invokeFunction('convertToInteractive',\n",
       "                                                     [key], {});\n",
       "          if (!dataTable) return;\n",
       "\n",
       "          const docLinkHtml = 'Like what you see? Visit the ' +\n",
       "            '<a target=\"_blank\" href=https://colab.research.google.com/notebooks/data_table.ipynb>data table notebook</a>'\n",
       "            + ' to learn more about interactive tables.';\n",
       "          element.innerHTML = '';\n",
       "          dataTable['output_type'] = 'display_data';\n",
       "          await google.colab.output.renderOutput(dataTable, element);\n",
       "          const docLink = document.createElement('div');\n",
       "          docLink.innerHTML = docLinkHtml;\n",
       "          element.appendChild(docLink);\n",
       "        }\n",
       "      </script>\n",
       "    </div>\n",
       "  </div>\n",
       "  "
      ],
      "text/plain": [
       "     toxic  pred  cat\n",
       "111    1.0   1.0  1.0\n",
       "241    1.0   1.0  1.0\n",
       "180    1.0   0.0  0.0\n",
       "295    1.0   1.0  1.0\n",
       "448    1.0   0.0  0.0\n",
       "..     ...   ...  ...\n",
       "273    1.0   0.0  0.0\n",
       "487    0.0   0.0  0.0\n",
       "223    1.0   1.0  1.0\n",
       "245    0.0   0.0  0.0\n",
       "18     0.0   0.0  0.0\n",
       "\n",
       "[125 rows x 3 columns]"
      ]
     },
     "execution_count": 494,
     "metadata": {},
     "output_type": "execute_result"
    }
   ],
   "source": [
    "preds"
   ]
  },
  {
   "cell_type": "markdown",
   "metadata": {
    "id": "6T9363quTAoa"
   },
   "source": [
    "### CatBoost"
   ]
  },
  {
   "cell_type": "code",
   "execution_count": 467,
   "metadata": {
    "executionInfo": {
     "elapsed": 12,
     "status": "ok",
     "timestamp": 1676983185129,
     "user": {
      "displayName": "Глеб Соловьёв",
      "userId": "14953811678176238433"
     },
     "user_tz": -300
    },
    "id": "I723BwSUt3NR"
   },
   "outputs": [],
   "source": [
    "cat=CatBoostClassifier(iterations=4000,\n",
    "                           depth=2,\n",
    "                           learning_rate=0.001,\n",
    "                           loss_function='Logloss')"
   ]
  },
  {
   "cell_type": "code",
   "execution_count": null,
   "metadata": {
    "id": "IJBoCu8Xzo6J"
   },
   "outputs": [],
   "source": [
    "\"\"\"0.8444624624624625 {'depth': 5, 'iterations': 500, 'learning_rate': 0.05} 2.5 часа)\"\"\"\n",
    "param_grid2 = {'depth': [1, 2, 5],\n",
    "              'iterations':range(500, 2000, 500),\n",
    "              'learning_rate':[0.001,0.0001,0.05]\n",
    "             }\n",
    "grd_rf2 = GridSearchCV(CatBoostClassifier(),\n",
    "                            param_grid=param_grid2,cv=5,\n",
    "                            scoring='f1', n_jobs=-1,verbose=1)\n",
    "grd_rf2.fit(X_train,Y_train)\n",
    "print(grd_rf2.best_score_,grd_rf2.best_params_)"
   ]
  },
  {
   "cell_type": "code",
   "execution_count": 472,
   "metadata": {
    "colab": {
     "base_uri": "https://localhost:8080/"
    },
    "executionInfo": {
     "elapsed": 79457,
     "status": "ok",
     "timestamp": 1676993003050,
     "user": {
      "displayName": "Глеб Соловьёв",
      "userId": "14953811678176238433"
     },
     "user_tz": -300
    },
    "id": "ce0nKwIjt4du",
    "outputId": "d5b77e4a-1a18-4ef7-d32a-877df68d50b8"
   },
   "outputs": [
    {
     "name": "stdout",
     "output_type": "stream",
     "text": [
      "0:\tlearn: 0.6699305\ttotal: 424ms\tremaining: 3m 31s\n",
      "100:\tlearn: 0.1041691\ttotal: 16.8s\tremaining: 1m 6s\n",
      "200:\tlearn: 0.0218770\ttotal: 38.2s\tremaining: 56.8s\n",
      "300:\tlearn: 0.0078040\ttotal: 49.9s\tremaining: 33s\n",
      "400:\tlearn: 0.0041360\ttotal: 1m 4s\tremaining: 15.9s\n",
      "499:\tlearn: 0.0027318\ttotal: 1m 18s\tremaining: 0us\n"
     ]
    },
    {
     "data": {
      "text/plain": [
       "<catboost.core.CatBoostClassifier at 0x7fb6ffbe6df0>"
      ]
     },
     "execution_count": 472,
     "metadata": {},
     "output_type": "execute_result"
    }
   ],
   "source": [
    "grd_rf2.best_estimator_.fit(X_train,Y_train,verbose=100)"
   ]
  },
  {
   "cell_type": "code",
   "execution_count": 473,
   "metadata": {
    "colab": {
     "base_uri": "https://localhost:8080/"
    },
    "executionInfo": {
     "elapsed": 24,
     "status": "ok",
     "timestamp": 1676993003050,
     "user": {
      "displayName": "Глеб Соловьёв",
      "userId": "14953811678176238433"
     },
     "user_tz": -300
    },
    "id": "3iTK2YOnuB_V",
    "outputId": "e37bf58b-ab6b-404a-8d5d-11d3dc0bc870"
   },
   "outputs": [
    {
     "data": {
      "text/plain": [
       "0.8358208955223881"
      ]
     },
     "execution_count": 473,
     "metadata": {},
     "output_type": "execute_result"
    }
   ],
   "source": [
    "f1_score(Y_test,grd_rf2.best_estimator_.predict(X_test))"
   ]
  },
  {
   "cell_type": "markdown",
   "metadata": {
    "id": "ClV1xfFCkybt"
   },
   "source": [
    "В целом f1 = 0.835 хороший результат."
   ]
  },
  {
   "cell_type": "code",
   "execution_count": 485,
   "metadata": {
    "executionInfo": {
     "elapsed": 397,
     "status": "ok",
     "timestamp": 1676993320307,
     "user": {
      "displayName": "Глеб Соловьёв",
      "userId": "14953811678176238433"
     },
     "user_tz": -300
    },
    "id": "0SeXm0e1vNeP"
   },
   "outputs": [],
   "source": [
    "preds['cat']=grd_rf2.best_estimator_.predict(X_test)"
   ]
  },
  {
   "cell_type": "code",
   "execution_count": 493,
   "metadata": {
    "colab": {
     "base_uri": "https://localhost:8080/",
     "height": 424
    },
    "executionInfo": {
     "elapsed": 283,
     "status": "ok",
     "timestamp": 1676993510001,
     "user": {
      "displayName": "Глеб Соловьёв",
      "userId": "14953811678176238433"
     },
     "user_tz": -300
    },
    "id": "xMqQ2zh4mQvY",
    "outputId": "e5f4e4a7-64fd-4e71-9a14-c5f1261dcb06"
   },
   "outputs": [
    {
     "data": {
      "text/html": [
       "\n",
       "  <div id=\"df-a6467da6-a210-49ed-880b-3119bc6f055c\">\n",
       "    <div class=\"colab-df-container\">\n",
       "      <div>\n",
       "<style scoped>\n",
       "    .dataframe tbody tr th:only-of-type {\n",
       "        vertical-align: middle;\n",
       "    }\n",
       "\n",
       "    .dataframe tbody tr th {\n",
       "        vertical-align: top;\n",
       "    }\n",
       "\n",
       "    .dataframe thead th {\n",
       "        text-align: right;\n",
       "    }\n",
       "</style>\n",
       "<table border=\"1\" class=\"dataframe\">\n",
       "  <thead>\n",
       "    <tr style=\"text-align: right;\">\n",
       "      <th></th>\n",
       "      <th>toxic</th>\n",
       "      <th>pred</th>\n",
       "      <th>cat</th>\n",
       "    </tr>\n",
       "  </thead>\n",
       "  <tbody>\n",
       "    <tr>\n",
       "      <th>111</th>\n",
       "      <td>1.0</td>\n",
       "      <td>1.0</td>\n",
       "      <td>1.0</td>\n",
       "    </tr>\n",
       "    <tr>\n",
       "      <th>241</th>\n",
       "      <td>1.0</td>\n",
       "      <td>1.0</td>\n",
       "      <td>1.0</td>\n",
       "    </tr>\n",
       "    <tr>\n",
       "      <th>180</th>\n",
       "      <td>1.0</td>\n",
       "      <td>0.0</td>\n",
       "      <td>0.0</td>\n",
       "    </tr>\n",
       "    <tr>\n",
       "      <th>295</th>\n",
       "      <td>1.0</td>\n",
       "      <td>1.0</td>\n",
       "      <td>1.0</td>\n",
       "    </tr>\n",
       "    <tr>\n",
       "      <th>448</th>\n",
       "      <td>1.0</td>\n",
       "      <td>0.0</td>\n",
       "      <td>0.0</td>\n",
       "    </tr>\n",
       "    <tr>\n",
       "      <th>...</th>\n",
       "      <td>...</td>\n",
       "      <td>...</td>\n",
       "      <td>...</td>\n",
       "    </tr>\n",
       "    <tr>\n",
       "      <th>273</th>\n",
       "      <td>1.0</td>\n",
       "      <td>0.0</td>\n",
       "      <td>0.0</td>\n",
       "    </tr>\n",
       "    <tr>\n",
       "      <th>487</th>\n",
       "      <td>0.0</td>\n",
       "      <td>0.0</td>\n",
       "      <td>0.0</td>\n",
       "    </tr>\n",
       "    <tr>\n",
       "      <th>223</th>\n",
       "      <td>1.0</td>\n",
       "      <td>1.0</td>\n",
       "      <td>1.0</td>\n",
       "    </tr>\n",
       "    <tr>\n",
       "      <th>245</th>\n",
       "      <td>0.0</td>\n",
       "      <td>0.0</td>\n",
       "      <td>0.0</td>\n",
       "    </tr>\n",
       "    <tr>\n",
       "      <th>18</th>\n",
       "      <td>0.0</td>\n",
       "      <td>0.0</td>\n",
       "      <td>0.0</td>\n",
       "    </tr>\n",
       "  </tbody>\n",
       "</table>\n",
       "<p>125 rows × 3 columns</p>\n",
       "</div>\n",
       "      <button class=\"colab-df-convert\" onclick=\"convertToInteractive('df-a6467da6-a210-49ed-880b-3119bc6f055c')\"\n",
       "              title=\"Convert this dataframe to an interactive table.\"\n",
       "              style=\"display:none;\">\n",
       "        \n",
       "  <svg xmlns=\"http://www.w3.org/2000/svg\" height=\"24px\"viewBox=\"0 0 24 24\"\n",
       "       width=\"24px\">\n",
       "    <path d=\"M0 0h24v24H0V0z\" fill=\"none\"/>\n",
       "    <path d=\"M18.56 5.44l.94 2.06.94-2.06 2.06-.94-2.06-.94-.94-2.06-.94 2.06-2.06.94zm-11 1L8.5 8.5l.94-2.06 2.06-.94-2.06-.94L8.5 2.5l-.94 2.06-2.06.94zm10 10l.94 2.06.94-2.06 2.06-.94-2.06-.94-.94-2.06-.94 2.06-2.06.94z\"/><path d=\"M17.41 7.96l-1.37-1.37c-.4-.4-.92-.59-1.43-.59-.52 0-1.04.2-1.43.59L10.3 9.45l-7.72 7.72c-.78.78-.78 2.05 0 2.83L4 21.41c.39.39.9.59 1.41.59.51 0 1.02-.2 1.41-.59l7.78-7.78 2.81-2.81c.8-.78.8-2.07 0-2.86zM5.41 20L4 18.59l7.72-7.72 1.47 1.35L5.41 20z\"/>\n",
       "  </svg>\n",
       "      </button>\n",
       "      \n",
       "  <style>\n",
       "    .colab-df-container {\n",
       "      display:flex;\n",
       "      flex-wrap:wrap;\n",
       "      gap: 12px;\n",
       "    }\n",
       "\n",
       "    .colab-df-convert {\n",
       "      background-color: #E8F0FE;\n",
       "      border: none;\n",
       "      border-radius: 50%;\n",
       "      cursor: pointer;\n",
       "      display: none;\n",
       "      fill: #1967D2;\n",
       "      height: 32px;\n",
       "      padding: 0 0 0 0;\n",
       "      width: 32px;\n",
       "    }\n",
       "\n",
       "    .colab-df-convert:hover {\n",
       "      background-color: #E2EBFA;\n",
       "      box-shadow: 0px 1px 2px rgba(60, 64, 67, 0.3), 0px 1px 3px 1px rgba(60, 64, 67, 0.15);\n",
       "      fill: #174EA6;\n",
       "    }\n",
       "\n",
       "    [theme=dark] .colab-df-convert {\n",
       "      background-color: #3B4455;\n",
       "      fill: #D2E3FC;\n",
       "    }\n",
       "\n",
       "    [theme=dark] .colab-df-convert:hover {\n",
       "      background-color: #434B5C;\n",
       "      box-shadow: 0px 1px 3px 1px rgba(0, 0, 0, 0.15);\n",
       "      filter: drop-shadow(0px 1px 2px rgba(0, 0, 0, 0.3));\n",
       "      fill: #FFFFFF;\n",
       "    }\n",
       "  </style>\n",
       "\n",
       "      <script>\n",
       "        const buttonEl =\n",
       "          document.querySelector('#df-a6467da6-a210-49ed-880b-3119bc6f055c button.colab-df-convert');\n",
       "        buttonEl.style.display =\n",
       "          google.colab.kernel.accessAllowed ? 'block' : 'none';\n",
       "\n",
       "        async function convertToInteractive(key) {\n",
       "          const element = document.querySelector('#df-a6467da6-a210-49ed-880b-3119bc6f055c');\n",
       "          const dataTable =\n",
       "            await google.colab.kernel.invokeFunction('convertToInteractive',\n",
       "                                                     [key], {});\n",
       "          if (!dataTable) return;\n",
       "\n",
       "          const docLinkHtml = 'Like what you see? Visit the ' +\n",
       "            '<a target=\"_blank\" href=https://colab.research.google.com/notebooks/data_table.ipynb>data table notebook</a>'\n",
       "            + ' to learn more about interactive tables.';\n",
       "          element.innerHTML = '';\n",
       "          dataTable['output_type'] = 'display_data';\n",
       "          await google.colab.output.renderOutput(dataTable, element);\n",
       "          const docLink = document.createElement('div');\n",
       "          docLink.innerHTML = docLinkHtml;\n",
       "          element.appendChild(docLink);\n",
       "        }\n",
       "      </script>\n",
       "    </div>\n",
       "  </div>\n",
       "  "
      ],
      "text/plain": [
       "     toxic  pred  cat\n",
       "111    1.0   1.0  1.0\n",
       "241    1.0   1.0  1.0\n",
       "180    1.0   0.0  0.0\n",
       "295    1.0   1.0  1.0\n",
       "448    1.0   0.0  0.0\n",
       "..     ...   ...  ...\n",
       "273    1.0   0.0  0.0\n",
       "487    0.0   0.0  0.0\n",
       "223    1.0   1.0  1.0\n",
       "245    0.0   0.0  0.0\n",
       "18     0.0   0.0  0.0\n",
       "\n",
       "[125 rows x 3 columns]"
      ]
     },
     "execution_count": 493,
     "metadata": {},
     "output_type": "execute_result"
    }
   ],
   "source": [
    "preds"
   ]
  },
  {
   "cell_type": "markdown",
   "metadata": {
    "id": "Tdigl7FPof-G"
   },
   "source": [
    "### Лес"
   ]
  },
  {
   "cell_type": "code",
   "execution_count": 498,
   "metadata": {
    "executionInfo": {
     "elapsed": 3,
     "status": "ok",
     "timestamp": 1676994324593,
     "user": {
      "displayName": "Глеб Соловьёв",
      "userId": "14953811678176238433"
     },
     "user_tz": -300
    },
    "id": "179saUZTpJO0"
   },
   "outputs": [],
   "source": [
    "rf=RandomForestClassifier(random_state=42)"
   ]
  },
  {
   "cell_type": "code",
   "execution_count": null,
   "metadata": {
    "id": "1CSeyUsfqCF6"
   },
   "outputs": [],
   "source": [
    "rf.fit(X_train,Y_train)\n",
    "f1_score(Y_test,rf.predict(X_test))"
   ]
  },
  {
   "cell_type": "code",
   "execution_count": 511,
   "metadata": {
    "colab": {
     "base_uri": "https://localhost:8080/"
    },
    "executionInfo": {
     "elapsed": 49883,
     "status": "ok",
     "timestamp": 1676994956072,
     "user": {
      "displayName": "Глеб Соловьёв",
      "userId": "14953811678176238433"
     },
     "user_tz": -300
    },
    "id": "sxL89od2ojAC",
    "outputId": "8181c64b-7fec-4188-b75b-f57b0603c766"
   },
   "outputs": [
    {
     "name": "stdout",
     "output_type": "stream",
     "text": [
      "0.8261195400632021 {'n_estimators': 120, 'min_samples_split': 2, 'min_samples_leaf': 1, 'max_depth': 4}\n"
     ]
    }
   ],
   "source": [
    "param_grid = {'n_estimators': range(120, 200, 5),\n",
    "              'max_depth':np.arange(1, 8, 1),\n",
    "              'min_samples_split':range(2, 4),\n",
    "              'min_samples_leaf':range(1, 3)\n",
    "             }\n",
    "grd_rf3 = RandomizedSearchCV(rf, param_distributions=param_grid,cv=5, scoring='f1', n_jobs=-1,random_state=42)\n",
    "\n",
    "grd_rf3.fit(X_train,Y_train)\n",
    "print(grd_rf3.best_score_,grd_rf3.best_params_)"
   ]
  },
  {
   "cell_type": "code",
   "execution_count": 516,
   "metadata": {
    "colab": {
     "base_uri": "https://localhost:8080/"
    },
    "executionInfo": {
     "elapsed": 1015,
     "status": "ok",
     "timestamp": 1676995060260,
     "user": {
      "displayName": "Глеб Соловьёв",
      "userId": "14953811678176238433"
     },
     "user_tz": -300
    },
    "id": "ml3XRWTkpjsO",
    "outputId": "742aea1a-a47f-4106-9d5f-53aae5c4e38e"
   },
   "outputs": [
    {
     "data": {
      "text/plain": [
       "0.8088235294117647"
      ]
     },
     "execution_count": 516,
     "metadata": {},
     "output_type": "execute_result"
    }
   ],
   "source": [
    "grd_rf3.best_estimator_.fit(X_train,Y_train)\n",
    "f1_score(Y_test,grd_rf3.best_estimator_.predict(X_test))"
   ]
  },
  {
   "cell_type": "code",
   "execution_count": 517,
   "metadata": {
    "executionInfo": {
     "elapsed": 1382,
     "status": "ok",
     "timestamp": 1676995064210,
     "user": {
      "displayName": "Глеб Соловьёв",
      "userId": "14953811678176238433"
     },
     "user_tz": -300
    },
    "id": "AKF2bZhArKAR"
   },
   "outputs": [],
   "source": [
    "preds['forest']=grd_rf3.best_estimator_.predict(X_test)"
   ]
  },
  {
   "cell_type": "code",
   "execution_count": 533,
   "metadata": {
    "colab": {
     "base_uri": "https://localhost:8080/",
     "height": 424
    },
    "executionInfo": {
     "elapsed": 332,
     "status": "ok",
     "timestamp": 1676995683912,
     "user": {
      "displayName": "Глеб Соловьёв",
      "userId": "14953811678176238433"
     },
     "user_tz": -300
    },
    "id": "41aMk2ClsHMV",
    "outputId": "623f6a02-ce59-4148-ff34-e043ebc42752"
   },
   "outputs": [
    {
     "data": {
      "text/html": [
       "\n",
       "  <div id=\"df-45729acc-6f69-4618-be48-816394f4166a\">\n",
       "    <div class=\"colab-df-container\">\n",
       "      <div>\n",
       "<style scoped>\n",
       "    .dataframe tbody tr th:only-of-type {\n",
       "        vertical-align: middle;\n",
       "    }\n",
       "\n",
       "    .dataframe tbody tr th {\n",
       "        vertical-align: top;\n",
       "    }\n",
       "\n",
       "    .dataframe thead th {\n",
       "        text-align: right;\n",
       "    }\n",
       "</style>\n",
       "<table border=\"1\" class=\"dataframe\">\n",
       "  <thead>\n",
       "    <tr style=\"text-align: right;\">\n",
       "      <th></th>\n",
       "      <th>toxic</th>\n",
       "      <th>pred</th>\n",
       "      <th>cat</th>\n",
       "      <th>forest</th>\n",
       "    </tr>\n",
       "  </thead>\n",
       "  <tbody>\n",
       "    <tr>\n",
       "      <th>0</th>\n",
       "      <td>1.0</td>\n",
       "      <td>1.0</td>\n",
       "      <td>1.0</td>\n",
       "      <td>1.0</td>\n",
       "    </tr>\n",
       "    <tr>\n",
       "      <th>1</th>\n",
       "      <td>1.0</td>\n",
       "      <td>1.0</td>\n",
       "      <td>1.0</td>\n",
       "      <td>1.0</td>\n",
       "    </tr>\n",
       "    <tr>\n",
       "      <th>2</th>\n",
       "      <td>1.0</td>\n",
       "      <td>0.0</td>\n",
       "      <td>0.0</td>\n",
       "      <td>0.0</td>\n",
       "    </tr>\n",
       "    <tr>\n",
       "      <th>3</th>\n",
       "      <td>1.0</td>\n",
       "      <td>1.0</td>\n",
       "      <td>1.0</td>\n",
       "      <td>1.0</td>\n",
       "    </tr>\n",
       "    <tr>\n",
       "      <th>4</th>\n",
       "      <td>1.0</td>\n",
       "      <td>0.0</td>\n",
       "      <td>0.0</td>\n",
       "      <td>0.0</td>\n",
       "    </tr>\n",
       "    <tr>\n",
       "      <th>...</th>\n",
       "      <td>...</td>\n",
       "      <td>...</td>\n",
       "      <td>...</td>\n",
       "      <td>...</td>\n",
       "    </tr>\n",
       "    <tr>\n",
       "      <th>120</th>\n",
       "      <td>1.0</td>\n",
       "      <td>0.0</td>\n",
       "      <td>0.0</td>\n",
       "      <td>0.0</td>\n",
       "    </tr>\n",
       "    <tr>\n",
       "      <th>121</th>\n",
       "      <td>0.0</td>\n",
       "      <td>0.0</td>\n",
       "      <td>0.0</td>\n",
       "      <td>0.0</td>\n",
       "    </tr>\n",
       "    <tr>\n",
       "      <th>122</th>\n",
       "      <td>1.0</td>\n",
       "      <td>1.0</td>\n",
       "      <td>1.0</td>\n",
       "      <td>1.0</td>\n",
       "    </tr>\n",
       "    <tr>\n",
       "      <th>123</th>\n",
       "      <td>0.0</td>\n",
       "      <td>0.0</td>\n",
       "      <td>0.0</td>\n",
       "      <td>0.0</td>\n",
       "    </tr>\n",
       "    <tr>\n",
       "      <th>124</th>\n",
       "      <td>0.0</td>\n",
       "      <td>0.0</td>\n",
       "      <td>0.0</td>\n",
       "      <td>0.0</td>\n",
       "    </tr>\n",
       "  </tbody>\n",
       "</table>\n",
       "<p>125 rows × 4 columns</p>\n",
       "</div>\n",
       "      <button class=\"colab-df-convert\" onclick=\"convertToInteractive('df-45729acc-6f69-4618-be48-816394f4166a')\"\n",
       "              title=\"Convert this dataframe to an interactive table.\"\n",
       "              style=\"display:none;\">\n",
       "        \n",
       "  <svg xmlns=\"http://www.w3.org/2000/svg\" height=\"24px\"viewBox=\"0 0 24 24\"\n",
       "       width=\"24px\">\n",
       "    <path d=\"M0 0h24v24H0V0z\" fill=\"none\"/>\n",
       "    <path d=\"M18.56 5.44l.94 2.06.94-2.06 2.06-.94-2.06-.94-.94-2.06-.94 2.06-2.06.94zm-11 1L8.5 8.5l.94-2.06 2.06-.94-2.06-.94L8.5 2.5l-.94 2.06-2.06.94zm10 10l.94 2.06.94-2.06 2.06-.94-2.06-.94-.94-2.06-.94 2.06-2.06.94z\"/><path d=\"M17.41 7.96l-1.37-1.37c-.4-.4-.92-.59-1.43-.59-.52 0-1.04.2-1.43.59L10.3 9.45l-7.72 7.72c-.78.78-.78 2.05 0 2.83L4 21.41c.39.39.9.59 1.41.59.51 0 1.02-.2 1.41-.59l7.78-7.78 2.81-2.81c.8-.78.8-2.07 0-2.86zM5.41 20L4 18.59l7.72-7.72 1.47 1.35L5.41 20z\"/>\n",
       "  </svg>\n",
       "      </button>\n",
       "      \n",
       "  <style>\n",
       "    .colab-df-container {\n",
       "      display:flex;\n",
       "      flex-wrap:wrap;\n",
       "      gap: 12px;\n",
       "    }\n",
       "\n",
       "    .colab-df-convert {\n",
       "      background-color: #E8F0FE;\n",
       "      border: none;\n",
       "      border-radius: 50%;\n",
       "      cursor: pointer;\n",
       "      display: none;\n",
       "      fill: #1967D2;\n",
       "      height: 32px;\n",
       "      padding: 0 0 0 0;\n",
       "      width: 32px;\n",
       "    }\n",
       "\n",
       "    .colab-df-convert:hover {\n",
       "      background-color: #E2EBFA;\n",
       "      box-shadow: 0px 1px 2px rgba(60, 64, 67, 0.3), 0px 1px 3px 1px rgba(60, 64, 67, 0.15);\n",
       "      fill: #174EA6;\n",
       "    }\n",
       "\n",
       "    [theme=dark] .colab-df-convert {\n",
       "      background-color: #3B4455;\n",
       "      fill: #D2E3FC;\n",
       "    }\n",
       "\n",
       "    [theme=dark] .colab-df-convert:hover {\n",
       "      background-color: #434B5C;\n",
       "      box-shadow: 0px 1px 3px 1px rgba(0, 0, 0, 0.15);\n",
       "      filter: drop-shadow(0px 1px 2px rgba(0, 0, 0, 0.3));\n",
       "      fill: #FFFFFF;\n",
       "    }\n",
       "  </style>\n",
       "\n",
       "      <script>\n",
       "        const buttonEl =\n",
       "          document.querySelector('#df-45729acc-6f69-4618-be48-816394f4166a button.colab-df-convert');\n",
       "        buttonEl.style.display =\n",
       "          google.colab.kernel.accessAllowed ? 'block' : 'none';\n",
       "\n",
       "        async function convertToInteractive(key) {\n",
       "          const element = document.querySelector('#df-45729acc-6f69-4618-be48-816394f4166a');\n",
       "          const dataTable =\n",
       "            await google.colab.kernel.invokeFunction('convertToInteractive',\n",
       "                                                     [key], {});\n",
       "          if (!dataTable) return;\n",
       "\n",
       "          const docLinkHtml = 'Like what you see? Visit the ' +\n",
       "            '<a target=\"_blank\" href=https://colab.research.google.com/notebooks/data_table.ipynb>data table notebook</a>'\n",
       "            + ' to learn more about interactive tables.';\n",
       "          element.innerHTML = '';\n",
       "          dataTable['output_type'] = 'display_data';\n",
       "          await google.colab.output.renderOutput(dataTable, element);\n",
       "          const docLink = document.createElement('div');\n",
       "          docLink.innerHTML = docLinkHtml;\n",
       "          element.appendChild(docLink);\n",
       "        }\n",
       "      </script>\n",
       "    </div>\n",
       "  </div>\n",
       "  "
      ],
      "text/plain": [
       "     toxic  pred  cat  forest\n",
       "0      1.0   1.0  1.0     1.0\n",
       "1      1.0   1.0  1.0     1.0\n",
       "2      1.0   0.0  0.0     0.0\n",
       "3      1.0   1.0  1.0     1.0\n",
       "4      1.0   0.0  0.0     0.0\n",
       "..     ...   ...  ...     ...\n",
       "120    1.0   0.0  0.0     0.0\n",
       "121    0.0   0.0  0.0     0.0\n",
       "122    1.0   1.0  1.0     1.0\n",
       "123    0.0   0.0  0.0     0.0\n",
       "124    0.0   0.0  0.0     0.0\n",
       "\n",
       "[125 rows x 4 columns]"
      ]
     },
     "execution_count": 533,
     "metadata": {},
     "output_type": "execute_result"
    }
   ],
   "source": [
    "preds=preds.reset_index(drop=True)\n",
    "preds"
   ]
  },
  {
   "cell_type": "markdown",
   "metadata": {
    "id": "SMlNtdaSsHt1"
   },
   "source": [
    "### Эксперимент "
   ]
  },
  {
   "cell_type": "markdown",
   "metadata": {
    "id": "PTnMXulov_uo"
   },
   "source": [
    "Здесь я закинул результаты трех моделей в ДФ и по ним пропустить линейную регрессию, и получить более полный результат (да я здесь сделал из тестовой выборки еще выборки, но я думаю для эксперимента хватати, это проще чем заново все переобучать на новой выборке большего размера)"
   ]
  },
  {
   "cell_type": "code",
   "execution_count": 534,
   "metadata": {
    "executionInfo": {
     "elapsed": 820,
     "status": "ok",
     "timestamp": 1676995689879,
     "user": {
      "displayName": "Глеб Соловьёв",
      "userId": "14953811678176238433"
     },
     "user_tz": -300
    },
    "id": "CmVvcWlrrKhE"
   },
   "outputs": [],
   "source": [
    "Y_ens=preds['toxic']\n",
    "X_ens=preds.drop('toxic',axis=1)"
   ]
  },
  {
   "cell_type": "code",
   "execution_count": 535,
   "metadata": {
    "colab": {
     "base_uri": "https://localhost:8080/"
    },
    "executionInfo": {
     "elapsed": 5,
     "status": "ok",
     "timestamp": 1676995691821,
     "user": {
      "displayName": "Глеб Соловьёв",
      "userId": "14953811678176238433"
     },
     "user_tz": -300
    },
    "id": "-gFh2SfXuLyG",
    "outputId": "c71e92b3-8359-4c17-a090-751c75fb5623"
   },
   "outputs": [
    {
     "data": {
      "text/plain": [
       "0.0"
      ]
     },
     "execution_count": 535,
     "metadata": {},
     "output_type": "execute_result"
    }
   ],
   "source": [
    "Y_ens.isna().mean()"
   ]
  },
  {
   "cell_type": "code",
   "execution_count": 536,
   "metadata": {
    "executionInfo": {
     "elapsed": 32,
     "status": "ok",
     "timestamp": 1676995694550,
     "user": {
      "displayName": "Глеб Соловьёв",
      "userId": "14953811678176238433"
     },
     "user_tz": -300
    },
    "id": "zliMtLigromI"
   },
   "outputs": [],
   "source": [
    "X_train_en,X_test_en,Y_train_en,Y_test_en=train_test_split(X_ens,Y_ens,test_size=0.25)"
   ]
  },
  {
   "cell_type": "code",
   "execution_count": 537,
   "metadata": {
    "executionInfo": {
     "elapsed": 13,
     "status": "ok",
     "timestamp": 1676995694550,
     "user": {
      "displayName": "Глеб Соловьёв",
      "userId": "14953811678176238433"
     },
     "user_tz": -300
    },
    "id": "DpktnDpKr-kz"
   },
   "outputs": [],
   "source": [
    "lin_regr=LinearRegression()\n",
    "lin_regr.fit(X_train_en,Y_train_en)\n",
    "pred_tot=lin_regr.predict(X_test_en)\n"
   ]
  },
  {
   "cell_type": "code",
   "execution_count": 539,
   "metadata": {
    "colab": {
     "base_uri": "https://localhost:8080/"
    },
    "executionInfo": {
     "elapsed": 307,
     "status": "ok",
     "timestamp": 1676995760747,
     "user": {
      "displayName": "Глеб Соловьёв",
      "userId": "14953811678176238433"
     },
     "user_tz": -300
    },
    "id": "M_b8sZD-vHmV",
    "outputId": "9ca90d7f-1ff5-44cc-afc8-d46419a604a0"
   },
   "outputs": [
    {
     "data": {
      "text/plain": [
       "array([0.93585418, 0.93585418, 0.20756949, 0.93585418, 0.20756949,\n",
       "       0.20756949, 0.93585418, 0.93585418, 0.6941246 , 0.93585418,\n",
       "       0.93585418, 0.20756949, 0.93585418, 0.20756949, 1.24566042,\n",
       "       0.93585418, 0.93585418, 0.20756949, 0.93585418, 0.20756949,\n",
       "       0.93585418, 0.93585418, 0.93585418, 0.93585418, 0.20756949,\n",
       "       0.93585418, 0.20756949, 0.20756949, 0.93585418, 0.93585418,\n",
       "       0.44929906, 0.93585418])"
      ]
     },
     "execution_count": 539,
     "metadata": {},
     "output_type": "execute_result"
    }
   ],
   "source": [
    "pred_tot"
   ]
  },
  {
   "cell_type": "code",
   "execution_count": 546,
   "metadata": {
    "colab": {
     "base_uri": "https://localhost:8080/",
     "height": 206
    },
    "executionInfo": {
     "elapsed": 6,
     "status": "ok",
     "timestamp": 1676996132458,
     "user": {
      "displayName": "Глеб Соловьёв",
      "userId": "14953811678176238433"
     },
     "user_tz": -300
    },
    "id": "zGjR8UjtugGi",
    "outputId": "70f1749f-2539-4e8b-a98a-b8528daf2580"
   },
   "outputs": [
    {
     "data": {
      "text/html": [
       "\n",
       "  <div id=\"df-c85c9fbf-1a7c-416d-bf3f-2e4dc7d7bab0\">\n",
       "    <div class=\"colab-df-container\">\n",
       "      <div>\n",
       "<style scoped>\n",
       "    .dataframe tbody tr th:only-of-type {\n",
       "        vertical-align: middle;\n",
       "    }\n",
       "\n",
       "    .dataframe tbody tr th {\n",
       "        vertical-align: top;\n",
       "    }\n",
       "\n",
       "    .dataframe thead th {\n",
       "        text-align: right;\n",
       "    }\n",
       "</style>\n",
       "<table border=\"1\" class=\"dataframe\">\n",
       "  <thead>\n",
       "    <tr style=\"text-align: right;\">\n",
       "      <th></th>\n",
       "      <th>toxic</th>\n",
       "      <th>tot</th>\n",
       "    </tr>\n",
       "  </thead>\n",
       "  <tbody>\n",
       "    <tr>\n",
       "      <th>0</th>\n",
       "      <td>1.0</td>\n",
       "      <td>0.935854</td>\n",
       "    </tr>\n",
       "    <tr>\n",
       "      <th>1</th>\n",
       "      <td>1.0</td>\n",
       "      <td>0.935854</td>\n",
       "    </tr>\n",
       "    <tr>\n",
       "      <th>2</th>\n",
       "      <td>0.0</td>\n",
       "      <td>0.207569</td>\n",
       "    </tr>\n",
       "    <tr>\n",
       "      <th>3</th>\n",
       "      <td>1.0</td>\n",
       "      <td>0.935854</td>\n",
       "    </tr>\n",
       "    <tr>\n",
       "      <th>4</th>\n",
       "      <td>0.0</td>\n",
       "      <td>0.207569</td>\n",
       "    </tr>\n",
       "  </tbody>\n",
       "</table>\n",
       "</div>\n",
       "      <button class=\"colab-df-convert\" onclick=\"convertToInteractive('df-c85c9fbf-1a7c-416d-bf3f-2e4dc7d7bab0')\"\n",
       "              title=\"Convert this dataframe to an interactive table.\"\n",
       "              style=\"display:none;\">\n",
       "        \n",
       "  <svg xmlns=\"http://www.w3.org/2000/svg\" height=\"24px\"viewBox=\"0 0 24 24\"\n",
       "       width=\"24px\">\n",
       "    <path d=\"M0 0h24v24H0V0z\" fill=\"none\"/>\n",
       "    <path d=\"M18.56 5.44l.94 2.06.94-2.06 2.06-.94-2.06-.94-.94-2.06-.94 2.06-2.06.94zm-11 1L8.5 8.5l.94-2.06 2.06-.94-2.06-.94L8.5 2.5l-.94 2.06-2.06.94zm10 10l.94 2.06.94-2.06 2.06-.94-2.06-.94-.94-2.06-.94 2.06-2.06.94z\"/><path d=\"M17.41 7.96l-1.37-1.37c-.4-.4-.92-.59-1.43-.59-.52 0-1.04.2-1.43.59L10.3 9.45l-7.72 7.72c-.78.78-.78 2.05 0 2.83L4 21.41c.39.39.9.59 1.41.59.51 0 1.02-.2 1.41-.59l7.78-7.78 2.81-2.81c.8-.78.8-2.07 0-2.86zM5.41 20L4 18.59l7.72-7.72 1.47 1.35L5.41 20z\"/>\n",
       "  </svg>\n",
       "      </button>\n",
       "      \n",
       "  <style>\n",
       "    .colab-df-container {\n",
       "      display:flex;\n",
       "      flex-wrap:wrap;\n",
       "      gap: 12px;\n",
       "    }\n",
       "\n",
       "    .colab-df-convert {\n",
       "      background-color: #E8F0FE;\n",
       "      border: none;\n",
       "      border-radius: 50%;\n",
       "      cursor: pointer;\n",
       "      display: none;\n",
       "      fill: #1967D2;\n",
       "      height: 32px;\n",
       "      padding: 0 0 0 0;\n",
       "      width: 32px;\n",
       "    }\n",
       "\n",
       "    .colab-df-convert:hover {\n",
       "      background-color: #E2EBFA;\n",
       "      box-shadow: 0px 1px 2px rgba(60, 64, 67, 0.3), 0px 1px 3px 1px rgba(60, 64, 67, 0.15);\n",
       "      fill: #174EA6;\n",
       "    }\n",
       "\n",
       "    [theme=dark] .colab-df-convert {\n",
       "      background-color: #3B4455;\n",
       "      fill: #D2E3FC;\n",
       "    }\n",
       "\n",
       "    [theme=dark] .colab-df-convert:hover {\n",
       "      background-color: #434B5C;\n",
       "      box-shadow: 0px 1px 3px 1px rgba(0, 0, 0, 0.15);\n",
       "      filter: drop-shadow(0px 1px 2px rgba(0, 0, 0, 0.3));\n",
       "      fill: #FFFFFF;\n",
       "    }\n",
       "  </style>\n",
       "\n",
       "      <script>\n",
       "        const buttonEl =\n",
       "          document.querySelector('#df-c85c9fbf-1a7c-416d-bf3f-2e4dc7d7bab0 button.colab-df-convert');\n",
       "        buttonEl.style.display =\n",
       "          google.colab.kernel.accessAllowed ? 'block' : 'none';\n",
       "\n",
       "        async function convertToInteractive(key) {\n",
       "          const element = document.querySelector('#df-c85c9fbf-1a7c-416d-bf3f-2e4dc7d7bab0');\n",
       "          const dataTable =\n",
       "            await google.colab.kernel.invokeFunction('convertToInteractive',\n",
       "                                                     [key], {});\n",
       "          if (!dataTable) return;\n",
       "\n",
       "          const docLinkHtml = 'Like what you see? Visit the ' +\n",
       "            '<a target=\"_blank\" href=https://colab.research.google.com/notebooks/data_table.ipynb>data table notebook</a>'\n",
       "            + ' to learn more about interactive tables.';\n",
       "          element.innerHTML = '';\n",
       "          dataTable['output_type'] = 'display_data';\n",
       "          await google.colab.output.renderOutput(dataTable, element);\n",
       "          const docLink = document.createElement('div');\n",
       "          docLink.innerHTML = docLinkHtml;\n",
       "          element.appendChild(docLink);\n",
       "        }\n",
       "      </script>\n",
       "    </div>\n",
       "  </div>\n",
       "  "
      ],
      "text/plain": [
       "   toxic       tot\n",
       "0    1.0  0.935854\n",
       "1    1.0  0.935854\n",
       "2    0.0  0.207569\n",
       "3    1.0  0.935854\n",
       "4    0.0  0.207569"
      ]
     },
     "execution_count": 546,
     "metadata": {},
     "output_type": "execute_result"
    }
   ],
   "source": [
    "test_pred=pd.DataFrame(Y_test_en)\n",
    "test_pred=test_pred.reset_index(drop=True)\n",
    "test_pred['tot']=pred_tot\n",
    "test_pred.head(5)"
   ]
  },
  {
   "cell_type": "code",
   "execution_count": 552,
   "metadata": {
    "colab": {
     "base_uri": "https://localhost:8080/",
     "height": 206
    },
    "executionInfo": {
     "elapsed": 1596,
     "status": "ok",
     "timestamp": 1676996496913,
     "user": {
      "displayName": "Глеб Соловьёв",
      "userId": "14953811678176238433"
     },
     "user_tz": -300
    },
    "id": "IOXpEDtdxY1s",
    "outputId": "9e4f96e2-b6c2-4cdf-85b3-4e8f9e3ac4bc"
   },
   "outputs": [
    {
     "data": {
      "text/html": [
       "\n",
       "  <div id=\"df-7a1ac708-bec3-4e07-b20a-787075bff5c0\">\n",
       "    <div class=\"colab-df-container\">\n",
       "      <div>\n",
       "<style scoped>\n",
       "    .dataframe tbody tr th:only-of-type {\n",
       "        vertical-align: middle;\n",
       "    }\n",
       "\n",
       "    .dataframe tbody tr th {\n",
       "        vertical-align: top;\n",
       "    }\n",
       "\n",
       "    .dataframe thead th {\n",
       "        text-align: right;\n",
       "    }\n",
       "</style>\n",
       "<table border=\"1\" class=\"dataframe\">\n",
       "  <thead>\n",
       "    <tr style=\"text-align: right;\">\n",
       "      <th></th>\n",
       "      <th>toxic</th>\n",
       "      <th>tot</th>\n",
       "      <th>sum</th>\n",
       "      <th>goal</th>\n",
       "    </tr>\n",
       "  </thead>\n",
       "  <tbody>\n",
       "    <tr>\n",
       "      <th>0</th>\n",
       "      <td>1.0</td>\n",
       "      <td>0.935854</td>\n",
       "      <td>3.0</td>\n",
       "      <td>1.0</td>\n",
       "    </tr>\n",
       "    <tr>\n",
       "      <th>1</th>\n",
       "      <td>1.0</td>\n",
       "      <td>0.935854</td>\n",
       "      <td>3.0</td>\n",
       "      <td>NaN</td>\n",
       "    </tr>\n",
       "    <tr>\n",
       "      <th>2</th>\n",
       "      <td>0.0</td>\n",
       "      <td>0.207569</td>\n",
       "      <td>0.0</td>\n",
       "      <td>NaN</td>\n",
       "    </tr>\n",
       "    <tr>\n",
       "      <th>3</th>\n",
       "      <td>1.0</td>\n",
       "      <td>0.935854</td>\n",
       "      <td>3.0</td>\n",
       "      <td>NaN</td>\n",
       "    </tr>\n",
       "    <tr>\n",
       "      <th>4</th>\n",
       "      <td>0.0</td>\n",
       "      <td>0.207569</td>\n",
       "      <td>0.0</td>\n",
       "      <td>NaN</td>\n",
       "    </tr>\n",
       "  </tbody>\n",
       "</table>\n",
       "</div>\n",
       "      <button class=\"colab-df-convert\" onclick=\"convertToInteractive('df-7a1ac708-bec3-4e07-b20a-787075bff5c0')\"\n",
       "              title=\"Convert this dataframe to an interactive table.\"\n",
       "              style=\"display:none;\">\n",
       "        \n",
       "  <svg xmlns=\"http://www.w3.org/2000/svg\" height=\"24px\"viewBox=\"0 0 24 24\"\n",
       "       width=\"24px\">\n",
       "    <path d=\"M0 0h24v24H0V0z\" fill=\"none\"/>\n",
       "    <path d=\"M18.56 5.44l.94 2.06.94-2.06 2.06-.94-2.06-.94-.94-2.06-.94 2.06-2.06.94zm-11 1L8.5 8.5l.94-2.06 2.06-.94-2.06-.94L8.5 2.5l-.94 2.06-2.06.94zm10 10l.94 2.06.94-2.06 2.06-.94-2.06-.94-.94-2.06-.94 2.06-2.06.94z\"/><path d=\"M17.41 7.96l-1.37-1.37c-.4-.4-.92-.59-1.43-.59-.52 0-1.04.2-1.43.59L10.3 9.45l-7.72 7.72c-.78.78-.78 2.05 0 2.83L4 21.41c.39.39.9.59 1.41.59.51 0 1.02-.2 1.41-.59l7.78-7.78 2.81-2.81c.8-.78.8-2.07 0-2.86zM5.41 20L4 18.59l7.72-7.72 1.47 1.35L5.41 20z\"/>\n",
       "  </svg>\n",
       "      </button>\n",
       "      \n",
       "  <style>\n",
       "    .colab-df-container {\n",
       "      display:flex;\n",
       "      flex-wrap:wrap;\n",
       "      gap: 12px;\n",
       "    }\n",
       "\n",
       "    .colab-df-convert {\n",
       "      background-color: #E8F0FE;\n",
       "      border: none;\n",
       "      border-radius: 50%;\n",
       "      cursor: pointer;\n",
       "      display: none;\n",
       "      fill: #1967D2;\n",
       "      height: 32px;\n",
       "      padding: 0 0 0 0;\n",
       "      width: 32px;\n",
       "    }\n",
       "\n",
       "    .colab-df-convert:hover {\n",
       "      background-color: #E2EBFA;\n",
       "      box-shadow: 0px 1px 2px rgba(60, 64, 67, 0.3), 0px 1px 3px 1px rgba(60, 64, 67, 0.15);\n",
       "      fill: #174EA6;\n",
       "    }\n",
       "\n",
       "    [theme=dark] .colab-df-convert {\n",
       "      background-color: #3B4455;\n",
       "      fill: #D2E3FC;\n",
       "    }\n",
       "\n",
       "    [theme=dark] .colab-df-convert:hover {\n",
       "      background-color: #434B5C;\n",
       "      box-shadow: 0px 1px 3px 1px rgba(0, 0, 0, 0.15);\n",
       "      filter: drop-shadow(0px 1px 2px rgba(0, 0, 0, 0.3));\n",
       "      fill: #FFFFFF;\n",
       "    }\n",
       "  </style>\n",
       "\n",
       "      <script>\n",
       "        const buttonEl =\n",
       "          document.querySelector('#df-7a1ac708-bec3-4e07-b20a-787075bff5c0 button.colab-df-convert');\n",
       "        buttonEl.style.display =\n",
       "          google.colab.kernel.accessAllowed ? 'block' : 'none';\n",
       "\n",
       "        async function convertToInteractive(key) {\n",
       "          const element = document.querySelector('#df-7a1ac708-bec3-4e07-b20a-787075bff5c0');\n",
       "          const dataTable =\n",
       "            await google.colab.kernel.invokeFunction('convertToInteractive',\n",
       "                                                     [key], {});\n",
       "          if (!dataTable) return;\n",
       "\n",
       "          const docLinkHtml = 'Like what you see? Visit the ' +\n",
       "            '<a target=\"_blank\" href=https://colab.research.google.com/notebooks/data_table.ipynb>data table notebook</a>'\n",
       "            + ' to learn more about interactive tables.';\n",
       "          element.innerHTML = '';\n",
       "          dataTable['output_type'] = 'display_data';\n",
       "          await google.colab.output.renderOutput(dataTable, element);\n",
       "          const docLink = document.createElement('div');\n",
       "          docLink.innerHTML = docLinkHtml;\n",
       "          element.appendChild(docLink);\n",
       "        }\n",
       "      </script>\n",
       "    </div>\n",
       "  </div>\n",
       "  "
      ],
      "text/plain": [
       "   toxic       tot  sum  goal\n",
       "0    1.0  0.935854  3.0   1.0\n",
       "1    1.0  0.935854  3.0   NaN\n",
       "2    0.0  0.207569  0.0   NaN\n",
       "3    1.0  0.935854  3.0   NaN\n",
       "4    0.0  0.207569  0.0   NaN"
      ]
     },
     "execution_count": 552,
     "metadata": {},
     "output_type": "execute_result"
    }
   ],
   "source": [
    "X_test_en=X_test_en.reset_index(drop=True)\n",
    "test_pred['sum']=X_test_en['pred']+X_test_en['cat']+X_test_en['forest']\n",
    "test_pred.head(5)"
   ]
  },
  {
   "cell_type": "code",
   "execution_count": 556,
   "metadata": {
    "colab": {
     "base_uri": "https://localhost:8080/",
     "height": 206
    },
    "executionInfo": {
     "elapsed": 528,
     "status": "ok",
     "timestamp": 1676996607825,
     "user": {
      "displayName": "Глеб Соловьёв",
      "userId": "14953811678176238433"
     },
     "user_tz": -300
    },
    "id": "r4hFoZD6t7Ni",
    "outputId": "fe19ff19-538e-42f1-a317-9ff1f9c33127"
   },
   "outputs": [
    {
     "data": {
      "text/html": [
       "\n",
       "  <div id=\"df-8c577a0f-4c50-4323-92a6-bb931f022dee\">\n",
       "    <div class=\"colab-df-container\">\n",
       "      <div>\n",
       "<style scoped>\n",
       "    .dataframe tbody tr th:only-of-type {\n",
       "        vertical-align: middle;\n",
       "    }\n",
       "\n",
       "    .dataframe tbody tr th {\n",
       "        vertical-align: top;\n",
       "    }\n",
       "\n",
       "    .dataframe thead th {\n",
       "        text-align: right;\n",
       "    }\n",
       "</style>\n",
       "<table border=\"1\" class=\"dataframe\">\n",
       "  <thead>\n",
       "    <tr style=\"text-align: right;\">\n",
       "      <th></th>\n",
       "      <th>toxic</th>\n",
       "      <th>tot</th>\n",
       "      <th>sum</th>\n",
       "      <th>goal</th>\n",
       "      <th>sum_goal</th>\n",
       "    </tr>\n",
       "  </thead>\n",
       "  <tbody>\n",
       "    <tr>\n",
       "      <th>0</th>\n",
       "      <td>1.0</td>\n",
       "      <td>0.935854</td>\n",
       "      <td>3.0</td>\n",
       "      <td>1.0</td>\n",
       "      <td>1.0</td>\n",
       "    </tr>\n",
       "    <tr>\n",
       "      <th>1</th>\n",
       "      <td>1.0</td>\n",
       "      <td>0.935854</td>\n",
       "      <td>3.0</td>\n",
       "      <td>1.0</td>\n",
       "      <td>1.0</td>\n",
       "    </tr>\n",
       "    <tr>\n",
       "      <th>2</th>\n",
       "      <td>0.0</td>\n",
       "      <td>0.207569</td>\n",
       "      <td>0.0</td>\n",
       "      <td>0.0</td>\n",
       "      <td>0.0</td>\n",
       "    </tr>\n",
       "    <tr>\n",
       "      <th>3</th>\n",
       "      <td>1.0</td>\n",
       "      <td>0.935854</td>\n",
       "      <td>3.0</td>\n",
       "      <td>1.0</td>\n",
       "      <td>1.0</td>\n",
       "    </tr>\n",
       "    <tr>\n",
       "      <th>4</th>\n",
       "      <td>0.0</td>\n",
       "      <td>0.207569</td>\n",
       "      <td>0.0</td>\n",
       "      <td>0.0</td>\n",
       "      <td>0.0</td>\n",
       "    </tr>\n",
       "  </tbody>\n",
       "</table>\n",
       "</div>\n",
       "      <button class=\"colab-df-convert\" onclick=\"convertToInteractive('df-8c577a0f-4c50-4323-92a6-bb931f022dee')\"\n",
       "              title=\"Convert this dataframe to an interactive table.\"\n",
       "              style=\"display:none;\">\n",
       "        \n",
       "  <svg xmlns=\"http://www.w3.org/2000/svg\" height=\"24px\"viewBox=\"0 0 24 24\"\n",
       "       width=\"24px\">\n",
       "    <path d=\"M0 0h24v24H0V0z\" fill=\"none\"/>\n",
       "    <path d=\"M18.56 5.44l.94 2.06.94-2.06 2.06-.94-2.06-.94-.94-2.06-.94 2.06-2.06.94zm-11 1L8.5 8.5l.94-2.06 2.06-.94-2.06-.94L8.5 2.5l-.94 2.06-2.06.94zm10 10l.94 2.06.94-2.06 2.06-.94-2.06-.94-.94-2.06-.94 2.06-2.06.94z\"/><path d=\"M17.41 7.96l-1.37-1.37c-.4-.4-.92-.59-1.43-.59-.52 0-1.04.2-1.43.59L10.3 9.45l-7.72 7.72c-.78.78-.78 2.05 0 2.83L4 21.41c.39.39.9.59 1.41.59.51 0 1.02-.2 1.41-.59l7.78-7.78 2.81-2.81c.8-.78.8-2.07 0-2.86zM5.41 20L4 18.59l7.72-7.72 1.47 1.35L5.41 20z\"/>\n",
       "  </svg>\n",
       "      </button>\n",
       "      \n",
       "  <style>\n",
       "    .colab-df-container {\n",
       "      display:flex;\n",
       "      flex-wrap:wrap;\n",
       "      gap: 12px;\n",
       "    }\n",
       "\n",
       "    .colab-df-convert {\n",
       "      background-color: #E8F0FE;\n",
       "      border: none;\n",
       "      border-radius: 50%;\n",
       "      cursor: pointer;\n",
       "      display: none;\n",
       "      fill: #1967D2;\n",
       "      height: 32px;\n",
       "      padding: 0 0 0 0;\n",
       "      width: 32px;\n",
       "    }\n",
       "\n",
       "    .colab-df-convert:hover {\n",
       "      background-color: #E2EBFA;\n",
       "      box-shadow: 0px 1px 2px rgba(60, 64, 67, 0.3), 0px 1px 3px 1px rgba(60, 64, 67, 0.15);\n",
       "      fill: #174EA6;\n",
       "    }\n",
       "\n",
       "    [theme=dark] .colab-df-convert {\n",
       "      background-color: #3B4455;\n",
       "      fill: #D2E3FC;\n",
       "    }\n",
       "\n",
       "    [theme=dark] .colab-df-convert:hover {\n",
       "      background-color: #434B5C;\n",
       "      box-shadow: 0px 1px 3px 1px rgba(0, 0, 0, 0.15);\n",
       "      filter: drop-shadow(0px 1px 2px rgba(0, 0, 0, 0.3));\n",
       "      fill: #FFFFFF;\n",
       "    }\n",
       "  </style>\n",
       "\n",
       "      <script>\n",
       "        const buttonEl =\n",
       "          document.querySelector('#df-8c577a0f-4c50-4323-92a6-bb931f022dee button.colab-df-convert');\n",
       "        buttonEl.style.display =\n",
       "          google.colab.kernel.accessAllowed ? 'block' : 'none';\n",
       "\n",
       "        async function convertToInteractive(key) {\n",
       "          const element = document.querySelector('#df-8c577a0f-4c50-4323-92a6-bb931f022dee');\n",
       "          const dataTable =\n",
       "            await google.colab.kernel.invokeFunction('convertToInteractive',\n",
       "                                                     [key], {});\n",
       "          if (!dataTable) return;\n",
       "\n",
       "          const docLinkHtml = 'Like what you see? Visit the ' +\n",
       "            '<a target=\"_blank\" href=https://colab.research.google.com/notebooks/data_table.ipynb>data table notebook</a>'\n",
       "            + ' to learn more about interactive tables.';\n",
       "          element.innerHTML = '';\n",
       "          dataTable['output_type'] = 'display_data';\n",
       "          await google.colab.output.renderOutput(dataTable, element);\n",
       "          const docLink = document.createElement('div');\n",
       "          docLink.innerHTML = docLinkHtml;\n",
       "          element.appendChild(docLink);\n",
       "        }\n",
       "      </script>\n",
       "    </div>\n",
       "  </div>\n",
       "  "
      ],
      "text/plain": [
       "   toxic       tot  sum  goal  sum_goal\n",
       "0    1.0  0.935854  3.0   1.0       1.0\n",
       "1    1.0  0.935854  3.0   1.0       1.0\n",
       "2    0.0  0.207569  0.0   0.0       0.0\n",
       "3    1.0  0.935854  3.0   1.0       1.0\n",
       "4    0.0  0.207569  0.0   0.0       0.0"
      ]
     },
     "execution_count": 556,
     "metadata": {},
     "output_type": "execute_result"
    }
   ],
   "source": [
    "for i in range(len(test_pred)):\n",
    "  if test_pred.loc[i,'tot']>0.5:\n",
    "    test_pred.loc[i,'goal']=1\n",
    "  else:\n",
    "    test_pred.loc[i,'goal']=0\n",
    "\n",
    "  if test_pred.loc[i,'sum']>=2:\n",
    "    test_pred.loc[i,'sum_goal']=1\n",
    "  else:\n",
    "    test_pred.loc[i,'sum_goal']=0\n",
    "test_pred.head()"
   ]
  },
  {
   "cell_type": "code",
   "execution_count": 544,
   "metadata": {
    "colab": {
     "base_uri": "https://localhost:8080/"
    },
    "executionInfo": {
     "elapsed": 4,
     "status": "ok",
     "timestamp": 1676995970960,
     "user": {
      "displayName": "Глеб Соловьёв",
      "userId": "14953811678176238433"
     },
     "user_tz": -300
    },
    "id": "Z3NyRenFsoFM",
    "outputId": "6d264a66-b025-42e8-84f1-e65bce24ea67"
   },
   "outputs": [
    {
     "data": {
      "text/plain": [
       "0.8421052631578947"
      ]
     },
     "execution_count": 544,
     "metadata": {},
     "output_type": "execute_result"
    }
   ],
   "source": [
    "f1_score(Y_test_en,test_pred['goal'])#Линейная регрессия"
   ]
  },
  {
   "cell_type": "code",
   "execution_count": 557,
   "metadata": {
    "colab": {
     "base_uri": "https://localhost:8080/"
    },
    "executionInfo": {
     "elapsed": 356,
     "status": "ok",
     "timestamp": 1676996624323,
     "user": {
      "displayName": "Глеб Соловьёв",
      "userId": "14953811678176238433"
     },
     "user_tz": -300
    },
    "id": "pOtyD0p0wo3t",
    "outputId": "5223e724-ca11-49e0-d1cf-da13ef2d9435"
   },
   "outputs": [
    {
     "data": {
      "text/plain": [
       "0.7894736842105262"
      ]
     },
     "execution_count": 557,
     "metadata": {},
     "output_type": "execute_result"
    }
   ],
   "source": [
    "f1_score(Y_test_en,test_pred['sum_goal'])#Сумма голосования по 2 из 3"
   ]
  },
  {
   "cell_type": "markdown",
   "metadata": {
    "id": "caqW8R_Vmgd-"
   },
   "source": [
    "# Вывод"
   ]
  },
  {
   "cell_type": "markdown",
   "metadata": {
    "id": "Ug0JpSWZmo16"
   },
   "source": [
    "По итогу выполнения проекта, были получены эмбеддинги от BERT, на основе которых были созданы модели обучения предсказания токсичности комментариев.\n",
    "\n",
    "f1 score Логистической Регресси на тесте 0.8428\n",
    "\n",
    "f1 score CatBoost на тесте 0.8358\n",
    "\n",
    "f1 score RandomForest на тесте 0.808\n",
    "\n",
    "В данном решении результат ЛогРегрессии выше, чем CatBoost. Это связанно с тем, что подбор гипперпараметров весьма времязатратное занятие. И это совсем не плохо, данная ситуация доказывает то, что не существует одного лучшего решения на все случаи, и иногда намного быстрее использовать не самый мощный инструмент, но получить отличный результат!\n",
    "\n",
    "Провел тест по предикту по 3 предиктам,\n",
    "получился результат f1 score 0.842."
   ]
  },
  {
   "cell_type": "code",
   "execution_count": null,
   "metadata": {
    "id": "jQUCdK78nwtX"
   },
   "outputs": [],
   "source": []
  }
 ],
 "metadata": {
  "colab": {
   "authorship_tag": "ABX9TyN+6BhlsQpcF8cpTyQMBYNc",
   "mount_file_id": "1pI5THLsWKfOaaz44Tp2C2kLd7py8X45h",
   "provenance": [
    {
     "file_id": "19EkRE93uIZrJ50Db-KpOSoxINhLAZGqZ",
     "timestamp": 1676916748392
    }
   ],
   "toc_visible": true
  },
  "kernelspec": {
   "display_name": "Python 3 (ipykernel)",
   "language": "python",
   "name": "python3"
  },
  "language_info": {
   "codemirror_mode": {
    "name": "ipython",
    "version": 3
   },
   "file_extension": ".py",
   "mimetype": "text/x-python",
   "name": "python",
   "nbconvert_exporter": "python",
   "pygments_lexer": "ipython3",
   "version": "3.9.12"
  },
  "toc": {
   "base_numbering": 1,
   "nav_menu": {},
   "number_sections": true,
   "sideBar": true,
   "skip_h1_title": false,
   "title_cell": "Table of Contents",
   "title_sidebar": "Contents",
   "toc_cell": true,
   "toc_position": {},
   "toc_section_display": true,
   "toc_window_display": false
  }
 },
 "nbformat": 4,
 "nbformat_minor": 1
}
