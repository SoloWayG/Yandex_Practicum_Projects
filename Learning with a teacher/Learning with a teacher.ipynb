{
 "cells": [
  {
   "cell_type": "markdown",
   "metadata": {
    "toc": true
   },
   "source": [
    "<h1>Содержание<span class=\"tocSkip\"></span></h1>\n",
    "<div class=\"toc\"><ul class=\"toc-item\"><li><span><a href=\"#Подготовка-данных\" data-toc-modified-id=\"Подготовка-данных-1\"><span class=\"toc-item-num\">1&nbsp;&nbsp;</span>Подготовка данных</a></span></li><li><span><a href=\"#Исследование-задачи\" data-toc-modified-id=\"Исследование-задачи-2\"><span class=\"toc-item-num\">2&nbsp;&nbsp;</span>Исследование задачи</a></span></li><li><span><a href=\"#Решение-с-дисбалансом\" data-toc-modified-id=\"Решение-с-дисбалансом-3\"><span class=\"toc-item-num\">3&nbsp;&nbsp;</span>Решение с дисбалансом</a></span></li><li><span><a href=\"#Борьба-с-дисбалансом\" data-toc-modified-id=\"Борьба-с-дисбалансом-4\"><span class=\"toc-item-num\">4&nbsp;&nbsp;</span>Борьба с дисбалансом</a></span><ul class=\"toc-item\"><li><span><a href=\"#imblearn\" data-toc-modified-id=\"imblearn-4.1\"><span class=\"toc-item-num\">4.1&nbsp;&nbsp;</span>imblearn</a></span></li><li><span><a href=\"#Downsampling\" data-toc-modified-id=\"Downsampling-4.2\"><span class=\"toc-item-num\">4.2&nbsp;&nbsp;</span>Downsampling</a></span><ul class=\"toc-item\"><li><span><a href=\"#Разобью-выборку-на-обучающую,-тестовую-и-валидационную\" data-toc-modified-id=\"Разобью-выборку-на-обучающую,-тестовую-и-валидационную-4.2.1\"><span class=\"toc-item-num\">4.2.1&nbsp;&nbsp;</span>Разобью выборку на обучающую, тестовую и валидационную</a></span></li></ul></li></ul></li><li><span><a href=\"#Тестирование-модели-(GridSearch)\" data-toc-modified-id=\"Тестирование-модели-(GridSearch)-5\"><span class=\"toc-item-num\">5&nbsp;&nbsp;</span>Тестирование модели (GridSearch)</a></span></li><li><span><a href=\"#Моя-гипотеза-с-другими-фичами\" data-toc-modified-id=\"Моя-гипотеза-с-другими-фичами-6\"><span class=\"toc-item-num\">6&nbsp;&nbsp;</span>Моя гипотеза с другими фичами</a></span></li><li><span><a href=\"#Вывод\" data-toc-modified-id=\"Вывод-7\"><span class=\"toc-item-num\">7&nbsp;&nbsp;</span>Вывод</a></span></li><li><span><a href=\"#Чек-лист-готовности-проекта\" data-toc-modified-id=\"Чек-лист-готовности-проекта-8\"><span class=\"toc-item-num\">8&nbsp;&nbsp;</span>Чек-лист готовности проекта</a></span></li></ul></div>"
   ]
  },
  {
   "cell_type": "markdown",
   "metadata": {},
   "source": [
    "# Отток клиентов"
   ]
  },
  {
   "cell_type": "markdown",
   "metadata": {},
   "source": [
    "Из «Бета-Банка» стали уходить клиенты. Каждый месяц. Немного, но заметно. Банковские маркетологи посчитали: сохранять текущих клиентов дешевле, чем привлекать новых.\n",
    "\n",
    "Нужно спрогнозировать, уйдёт клиент из банка в ближайшее время или нет. Вам предоставлены исторические данные о поведении клиентов и расторжении договоров с банком. \n",
    "\n",
    "Постройте модель с предельно большим значением *F1*-меры. Чтобы сдать проект успешно, нужно довести метрику до 0.59. Проверьте *F1*-меру на тестовой выборке самостоятельно.\n",
    "\n",
    "Дополнительно измеряйте *AUC-ROC*, сравнивайте её значение с *F1*-мерой.\n",
    "\n",
    "Источник данных: [https://www.kaggle.com/barelydedicated/bank-customer-churn-modeling](https://www.kaggle.com/barelydedicated/bank-customer-churn-modeling)"
   ]
  },
  {
   "cell_type": "markdown",
   "metadata": {},
   "source": [
    "## Подготовка данных"
   ]
  },
  {
   "cell_type": "code",
   "execution_count": 214,
   "metadata": {},
   "outputs": [
    {
     "name": "stdout",
     "output_type": "stream",
     "text": [
      "Requirement already satisfied: scikit-learn in /opt/conda/lib/python3.9/site-packages (1.2.0)\n",
      "Requirement already satisfied: threadpoolctl>=2.0.0 in /opt/conda/lib/python3.9/site-packages (from scikit-learn) (3.1.0)\n",
      "Requirement already satisfied: scipy>=1.3.2 in /opt/conda/lib/python3.9/site-packages (from scikit-learn) (1.9.1)\n",
      "Requirement already satisfied: numpy>=1.17.3 in /opt/conda/lib/python3.9/site-packages (from scikit-learn) (1.21.1)\n",
      "Requirement already satisfied: joblib>=1.1.1 in /opt/conda/lib/python3.9/site-packages (from scikit-learn) (1.2.0)\n",
      "Requirement already satisfied: imbalanced-learn in /opt/conda/lib/python3.9/site-packages (0.10.0)\n",
      "Requirement already satisfied: scipy>=1.3.2 in /opt/conda/lib/python3.9/site-packages (from imbalanced-learn) (1.9.1)\n",
      "Requirement already satisfied: scikit-learn>=1.0.2 in /opt/conda/lib/python3.9/site-packages (from imbalanced-learn) (1.2.0)\n",
      "Requirement already satisfied: numpy>=1.17.3 in /opt/conda/lib/python3.9/site-packages (from imbalanced-learn) (1.21.1)\n",
      "Requirement already satisfied: joblib>=1.1.1 in /opt/conda/lib/python3.9/site-packages (from imbalanced-learn) (1.2.0)\n",
      "Requirement already satisfied: threadpoolctl>=2.0.0 in /opt/conda/lib/python3.9/site-packages (from imbalanced-learn) (3.1.0)\n",
      "Requirement already satisfied: scikit-learn in /opt/conda/lib/python3.9/site-packages (1.2.0)\n",
      "Requirement already satisfied: joblib>=1.1.1 in /opt/conda/lib/python3.9/site-packages (from scikit-learn) (1.2.0)\n",
      "Requirement already satisfied: numpy>=1.17.3 in /opt/conda/lib/python3.9/site-packages (from scikit-learn) (1.21.1)\n",
      "Requirement already satisfied: threadpoolctl>=2.0.0 in /opt/conda/lib/python3.9/site-packages (from scikit-learn) (3.1.0)\n",
      "Requirement already satisfied: scipy>=1.3.2 in /opt/conda/lib/python3.9/site-packages (from scikit-learn) (1.9.1)\n"
     ]
    }
   ],
   "source": [
    "#!pip install XGBoost\n",
    "!pip install --upgrade scikit-learn\n",
    "!pip install -U imbalanced-learn\n",
    "!pip install -U scikit-learn"
   ]
  },
  {
   "cell_type": "code",
   "execution_count": 215,
   "metadata": {},
   "outputs": [],
   "source": [
    "from scipy.stats import chi2_contingency\n",
    "from sklearn.metrics import RocCurveDisplay, f1_score\n",
    "from sklearn.model_selection import GridSearchCV,RandomizedSearchCV\n",
    "from sklearn.compose import ColumnTransformer\n",
    "from sklearn.base import BaseEstimator, TransformerMixin\n",
    "from sklearn.tree import DecisionTreeClassifier\n",
    "from sklearn.ensemble import RandomForestClassifier\n",
    "from sklearn.preprocessing import OneHotEncoder\n",
    "from sklearn.preprocessing import OrdinalEncoder\n",
    "from sklearn.preprocessing import StandardScaler\n",
    "from sklearn.pipeline import make_pipeline\n",
    "from sklearn.svm import SVC\n",
    "from sklearn.metrics import roc_auc_score, precision_score, recall_score, classification_report, accuracy_score\n",
    "from sklearn.model_selection import train_test_split\n",
    "from xgboost import XGBClassifier\n",
    "from sklearn.linear_model import LogisticRegression\n",
    "import seaborn as sns\n",
    "import pandas as pd\n",
    "import numpy as np\n",
    "import matplotlib as mpl\n",
    "import matplotlib.pyplot as plt\n",
    "from sklearn.feature_selection import SequentialFeatureSelector\n",
    "%matplotlib inline\n",
    "from sklearn.model_selection import cross_val_score\n",
    "from sklearn.ensemble import GradientBoostingClassifier"
   ]
  },
  {
   "cell_type": "code",
   "execution_count": 216,
   "metadata": {},
   "outputs": [],
   "source": [
    "from imblearn.under_sampling import RandomUnderSampler"
   ]
  },
  {
   "cell_type": "code",
   "execution_count": 217,
   "metadata": {},
   "outputs": [
    {
     "data": {
      "text/html": [
       "<div>\n",
       "<style scoped>\n",
       "    .dataframe tbody tr th:only-of-type {\n",
       "        vertical-align: middle;\n",
       "    }\n",
       "\n",
       "    .dataframe tbody tr th {\n",
       "        vertical-align: top;\n",
       "    }\n",
       "\n",
       "    .dataframe thead th {\n",
       "        text-align: right;\n",
       "    }\n",
       "</style>\n",
       "<table border=\"1\" class=\"dataframe\">\n",
       "  <thead>\n",
       "    <tr style=\"text-align: right;\">\n",
       "      <th></th>\n",
       "      <th>RowNumber</th>\n",
       "      <th>CustomerId</th>\n",
       "      <th>Surname</th>\n",
       "      <th>CreditScore</th>\n",
       "      <th>Geography</th>\n",
       "      <th>Gender</th>\n",
       "      <th>Age</th>\n",
       "      <th>Tenure</th>\n",
       "      <th>Balance</th>\n",
       "      <th>NumOfProducts</th>\n",
       "      <th>HasCrCard</th>\n",
       "      <th>IsActiveMember</th>\n",
       "      <th>EstimatedSalary</th>\n",
       "      <th>Exited</th>\n",
       "    </tr>\n",
       "  </thead>\n",
       "  <tbody>\n",
       "    <tr>\n",
       "      <th>0</th>\n",
       "      <td>1</td>\n",
       "      <td>15634602</td>\n",
       "      <td>Hargrave</td>\n",
       "      <td>619</td>\n",
       "      <td>France</td>\n",
       "      <td>Female</td>\n",
       "      <td>42</td>\n",
       "      <td>2.0</td>\n",
       "      <td>0.00</td>\n",
       "      <td>1</td>\n",
       "      <td>1</td>\n",
       "      <td>1</td>\n",
       "      <td>101348.88</td>\n",
       "      <td>1</td>\n",
       "    </tr>\n",
       "    <tr>\n",
       "      <th>1</th>\n",
       "      <td>2</td>\n",
       "      <td>15647311</td>\n",
       "      <td>Hill</td>\n",
       "      <td>608</td>\n",
       "      <td>Spain</td>\n",
       "      <td>Female</td>\n",
       "      <td>41</td>\n",
       "      <td>1.0</td>\n",
       "      <td>83807.86</td>\n",
       "      <td>1</td>\n",
       "      <td>0</td>\n",
       "      <td>1</td>\n",
       "      <td>112542.58</td>\n",
       "      <td>0</td>\n",
       "    </tr>\n",
       "    <tr>\n",
       "      <th>2</th>\n",
       "      <td>3</td>\n",
       "      <td>15619304</td>\n",
       "      <td>Onio</td>\n",
       "      <td>502</td>\n",
       "      <td>France</td>\n",
       "      <td>Female</td>\n",
       "      <td>42</td>\n",
       "      <td>8.0</td>\n",
       "      <td>159660.80</td>\n",
       "      <td>3</td>\n",
       "      <td>1</td>\n",
       "      <td>0</td>\n",
       "      <td>113931.57</td>\n",
       "      <td>1</td>\n",
       "    </tr>\n",
       "  </tbody>\n",
       "</table>\n",
       "</div>"
      ],
      "text/plain": [
       "   RowNumber  CustomerId   Surname  CreditScore Geography  Gender  Age  \\\n",
       "0          1    15634602  Hargrave          619    France  Female   42   \n",
       "1          2    15647311      Hill          608     Spain  Female   41   \n",
       "2          3    15619304      Onio          502    France  Female   42   \n",
       "\n",
       "   Tenure    Balance  NumOfProducts  HasCrCard  IsActiveMember  \\\n",
       "0     2.0       0.00              1          1               1   \n",
       "1     1.0   83807.86              1          0               1   \n",
       "2     8.0  159660.80              3          1               0   \n",
       "\n",
       "   EstimatedSalary  Exited  \n",
       "0        101348.88       1  \n",
       "1        112542.58       0  \n",
       "2        113931.57       1  "
      ]
     },
     "execution_count": 217,
     "metadata": {},
     "output_type": "execute_result"
    }
   ],
   "source": [
    "df = pd.read_csv('/datasets/Churn.csv')\n",
    "df.head(3)"
   ]
  },
  {
   "cell_type": "code",
   "execution_count": 218,
   "metadata": {},
   "outputs": [
    {
     "name": "stdout",
     "output_type": "stream",
     "text": [
      "<class 'pandas.core.frame.DataFrame'>\n",
      "RangeIndex: 10000 entries, 0 to 9999\n",
      "Data columns (total 14 columns):\n",
      " #   Column           Non-Null Count  Dtype  \n",
      "---  ------           --------------  -----  \n",
      " 0   RowNumber        10000 non-null  int64  \n",
      " 1   CustomerId       10000 non-null  int64  \n",
      " 2   Surname          10000 non-null  object \n",
      " 3   CreditScore      10000 non-null  int64  \n",
      " 4   Geography        10000 non-null  object \n",
      " 5   Gender           10000 non-null  object \n",
      " 6   Age              10000 non-null  int64  \n",
      " 7   Tenure           9091 non-null   float64\n",
      " 8   Balance          10000 non-null  float64\n",
      " 9   NumOfProducts    10000 non-null  int64  \n",
      " 10  HasCrCard        10000 non-null  int64  \n",
      " 11  IsActiveMember   10000 non-null  int64  \n",
      " 12  EstimatedSalary  10000 non-null  float64\n",
      " 13  Exited           10000 non-null  int64  \n",
      "dtypes: float64(3), int64(8), object(3)\n",
      "memory usage: 1.1+ MB\n"
     ]
    }
   ],
   "source": [
    "df.info()"
   ]
  },
  {
   "cell_type": "code",
   "execution_count": 219,
   "metadata": {},
   "outputs": [
    {
     "data": {
      "text/plain": [
       "RowNumber          0.0000\n",
       "CustomerId         0.0000\n",
       "Surname            0.0000\n",
       "CreditScore        0.0000\n",
       "Geography          0.0000\n",
       "Gender             0.0000\n",
       "Age                0.0000\n",
       "Tenure             0.0909\n",
       "Balance            0.0000\n",
       "NumOfProducts      0.0000\n",
       "HasCrCard          0.0000\n",
       "IsActiveMember     0.0000\n",
       "EstimatedSalary    0.0000\n",
       "Exited             0.0000\n",
       "dtype: float64"
      ]
     },
     "execution_count": 219,
     "metadata": {},
     "output_type": "execute_result"
    }
   ],
   "source": [
    "df.isna().mean()"
   ]
  },
  {
   "cell_type": "markdown",
   "metadata": {},
   "source": [
    "Имеются пропуски в столбце Tenure, он показывает сколько лет человек является клиентом банка. Возможно пропуски связаны с тем, что клиент меньше года пользуется услугами банка"
   ]
  },
  {
   "cell_type": "code",
   "execution_count": 220,
   "metadata": {
    "scrolled": true
   },
   "outputs": [
    {
     "data": {
      "text/html": [
       "<div>\n",
       "<style scoped>\n",
       "    .dataframe tbody tr th:only-of-type {\n",
       "        vertical-align: middle;\n",
       "    }\n",
       "\n",
       "    .dataframe tbody tr th {\n",
       "        vertical-align: top;\n",
       "    }\n",
       "\n",
       "    .dataframe thead th {\n",
       "        text-align: right;\n",
       "    }\n",
       "</style>\n",
       "<table border=\"1\" class=\"dataframe\">\n",
       "  <thead>\n",
       "    <tr style=\"text-align: right;\">\n",
       "      <th></th>\n",
       "      <th>RowNumber</th>\n",
       "      <th>CustomerId</th>\n",
       "      <th>Surname</th>\n",
       "      <th>CreditScore</th>\n",
       "      <th>Geography</th>\n",
       "      <th>Gender</th>\n",
       "      <th>Age</th>\n",
       "      <th>Tenure</th>\n",
       "      <th>Balance</th>\n",
       "      <th>NumOfProducts</th>\n",
       "      <th>HasCrCard</th>\n",
       "      <th>IsActiveMember</th>\n",
       "      <th>EstimatedSalary</th>\n",
       "      <th>Exited</th>\n",
       "    </tr>\n",
       "  </thead>\n",
       "  <tbody>\n",
       "    <tr>\n",
       "      <th>29</th>\n",
       "      <td>30</td>\n",
       "      <td>15656300</td>\n",
       "      <td>Lucciano</td>\n",
       "      <td>411</td>\n",
       "      <td>France</td>\n",
       "      <td>Male</td>\n",
       "      <td>29</td>\n",
       "      <td>0.0</td>\n",
       "      <td>59697.17</td>\n",
       "      <td>2</td>\n",
       "      <td>1</td>\n",
       "      <td>1</td>\n",
       "      <td>53483.21</td>\n",
       "      <td>0</td>\n",
       "    </tr>\n",
       "    <tr>\n",
       "      <th>35</th>\n",
       "      <td>36</td>\n",
       "      <td>15794171</td>\n",
       "      <td>Lombardo</td>\n",
       "      <td>475</td>\n",
       "      <td>France</td>\n",
       "      <td>Female</td>\n",
       "      <td>45</td>\n",
       "      <td>0.0</td>\n",
       "      <td>134264.04</td>\n",
       "      <td>1</td>\n",
       "      <td>1</td>\n",
       "      <td>0</td>\n",
       "      <td>27822.99</td>\n",
       "      <td>1</td>\n",
       "    </tr>\n",
       "    <tr>\n",
       "      <th>57</th>\n",
       "      <td>58</td>\n",
       "      <td>15647091</td>\n",
       "      <td>Endrizzi</td>\n",
       "      <td>725</td>\n",
       "      <td>Germany</td>\n",
       "      <td>Male</td>\n",
       "      <td>19</td>\n",
       "      <td>0.0</td>\n",
       "      <td>75888.20</td>\n",
       "      <td>1</td>\n",
       "      <td>0</td>\n",
       "      <td>0</td>\n",
       "      <td>45613.75</td>\n",
       "      <td>0</td>\n",
       "    </tr>\n",
       "    <tr>\n",
       "      <th>72</th>\n",
       "      <td>73</td>\n",
       "      <td>15812518</td>\n",
       "      <td>Palermo</td>\n",
       "      <td>657</td>\n",
       "      <td>Spain</td>\n",
       "      <td>Female</td>\n",
       "      <td>37</td>\n",
       "      <td>0.0</td>\n",
       "      <td>163607.18</td>\n",
       "      <td>1</td>\n",
       "      <td>0</td>\n",
       "      <td>1</td>\n",
       "      <td>44203.55</td>\n",
       "      <td>0</td>\n",
       "    </tr>\n",
       "    <tr>\n",
       "      <th>127</th>\n",
       "      <td>128</td>\n",
       "      <td>15782688</td>\n",
       "      <td>Piccio</td>\n",
       "      <td>625</td>\n",
       "      <td>Germany</td>\n",
       "      <td>Male</td>\n",
       "      <td>56</td>\n",
       "      <td>0.0</td>\n",
       "      <td>148507.24</td>\n",
       "      <td>1</td>\n",
       "      <td>1</td>\n",
       "      <td>0</td>\n",
       "      <td>46824.08</td>\n",
       "      <td>1</td>\n",
       "    </tr>\n",
       "  </tbody>\n",
       "</table>\n",
       "</div>"
      ],
      "text/plain": [
       "     RowNumber  CustomerId   Surname  CreditScore Geography  Gender  Age  \\\n",
       "29          30    15656300  Lucciano          411    France    Male   29   \n",
       "35          36    15794171  Lombardo          475    France  Female   45   \n",
       "57          58    15647091  Endrizzi          725   Germany    Male   19   \n",
       "72          73    15812518   Palermo          657     Spain  Female   37   \n",
       "127        128    15782688    Piccio          625   Germany    Male   56   \n",
       "\n",
       "     Tenure    Balance  NumOfProducts  HasCrCard  IsActiveMember  \\\n",
       "29      0.0   59697.17              2          1               1   \n",
       "35      0.0  134264.04              1          1               0   \n",
       "57      0.0   75888.20              1          0               0   \n",
       "72      0.0  163607.18              1          0               1   \n",
       "127     0.0  148507.24              1          1               0   \n",
       "\n",
       "     EstimatedSalary  Exited  \n",
       "29          53483.21       0  \n",
       "35          27822.99       1  \n",
       "57          45613.75       0  \n",
       "72          44203.55       0  \n",
       "127         46824.08       1  "
      ]
     },
     "execution_count": 220,
     "metadata": {},
     "output_type": "execute_result"
    }
   ],
   "source": [
    "df[df['Tenure'] < 1].head()"
   ]
  },
  {
   "cell_type": "code",
   "execution_count": 221,
   "metadata": {
    "scrolled": true
   },
   "outputs": [
    {
     "data": {
      "text/html": [
       "<div>\n",
       "<style scoped>\n",
       "    .dataframe tbody tr th:only-of-type {\n",
       "        vertical-align: middle;\n",
       "    }\n",
       "\n",
       "    .dataframe tbody tr th {\n",
       "        vertical-align: top;\n",
       "    }\n",
       "\n",
       "    .dataframe thead th {\n",
       "        text-align: right;\n",
       "    }\n",
       "</style>\n",
       "<table border=\"1\" class=\"dataframe\">\n",
       "  <thead>\n",
       "    <tr style=\"text-align: right;\">\n",
       "      <th></th>\n",
       "      <th>RowNumber</th>\n",
       "      <th>CustomerId</th>\n",
       "      <th>Surname</th>\n",
       "      <th>CreditScore</th>\n",
       "      <th>Geography</th>\n",
       "      <th>Gender</th>\n",
       "      <th>Age</th>\n",
       "      <th>Tenure</th>\n",
       "      <th>Balance</th>\n",
       "      <th>NumOfProducts</th>\n",
       "      <th>HasCrCard</th>\n",
       "      <th>IsActiveMember</th>\n",
       "      <th>EstimatedSalary</th>\n",
       "      <th>Exited</th>\n",
       "    </tr>\n",
       "  </thead>\n",
       "  <tbody>\n",
       "    <tr>\n",
       "      <th>30</th>\n",
       "      <td>31</td>\n",
       "      <td>15589475</td>\n",
       "      <td>Azikiwe</td>\n",
       "      <td>591</td>\n",
       "      <td>Spain</td>\n",
       "      <td>Female</td>\n",
       "      <td>39</td>\n",
       "      <td>NaN</td>\n",
       "      <td>0.00</td>\n",
       "      <td>3</td>\n",
       "      <td>1</td>\n",
       "      <td>0</td>\n",
       "      <td>140469.38</td>\n",
       "      <td>1</td>\n",
       "    </tr>\n",
       "    <tr>\n",
       "      <th>48</th>\n",
       "      <td>49</td>\n",
       "      <td>15766205</td>\n",
       "      <td>Yin</td>\n",
       "      <td>550</td>\n",
       "      <td>Germany</td>\n",
       "      <td>Male</td>\n",
       "      <td>38</td>\n",
       "      <td>NaN</td>\n",
       "      <td>103391.38</td>\n",
       "      <td>1</td>\n",
       "      <td>0</td>\n",
       "      <td>1</td>\n",
       "      <td>90878.13</td>\n",
       "      <td>0</td>\n",
       "    </tr>\n",
       "    <tr>\n",
       "      <th>51</th>\n",
       "      <td>52</td>\n",
       "      <td>15768193</td>\n",
       "      <td>Trevisani</td>\n",
       "      <td>585</td>\n",
       "      <td>Germany</td>\n",
       "      <td>Male</td>\n",
       "      <td>36</td>\n",
       "      <td>NaN</td>\n",
       "      <td>146050.97</td>\n",
       "      <td>2</td>\n",
       "      <td>0</td>\n",
       "      <td>0</td>\n",
       "      <td>86424.57</td>\n",
       "      <td>0</td>\n",
       "    </tr>\n",
       "    <tr>\n",
       "      <th>53</th>\n",
       "      <td>54</td>\n",
       "      <td>15702298</td>\n",
       "      <td>Parkhill</td>\n",
       "      <td>655</td>\n",
       "      <td>Germany</td>\n",
       "      <td>Male</td>\n",
       "      <td>41</td>\n",
       "      <td>NaN</td>\n",
       "      <td>125561.97</td>\n",
       "      <td>1</td>\n",
       "      <td>0</td>\n",
       "      <td>0</td>\n",
       "      <td>164040.94</td>\n",
       "      <td>1</td>\n",
       "    </tr>\n",
       "    <tr>\n",
       "      <th>60</th>\n",
       "      <td>61</td>\n",
       "      <td>15651280</td>\n",
       "      <td>Hunter</td>\n",
       "      <td>742</td>\n",
       "      <td>Germany</td>\n",
       "      <td>Male</td>\n",
       "      <td>35</td>\n",
       "      <td>NaN</td>\n",
       "      <td>136857.00</td>\n",
       "      <td>1</td>\n",
       "      <td>0</td>\n",
       "      <td>0</td>\n",
       "      <td>84509.57</td>\n",
       "      <td>0</td>\n",
       "    </tr>\n",
       "  </tbody>\n",
       "</table>\n",
       "</div>"
      ],
      "text/plain": [
       "    RowNumber  CustomerId    Surname  CreditScore Geography  Gender  Age  \\\n",
       "30         31    15589475    Azikiwe          591     Spain  Female   39   \n",
       "48         49    15766205        Yin          550   Germany    Male   38   \n",
       "51         52    15768193  Trevisani          585   Germany    Male   36   \n",
       "53         54    15702298   Parkhill          655   Germany    Male   41   \n",
       "60         61    15651280     Hunter          742   Germany    Male   35   \n",
       "\n",
       "    Tenure    Balance  NumOfProducts  HasCrCard  IsActiveMember  \\\n",
       "30     NaN       0.00              3          1               0   \n",
       "48     NaN  103391.38              1          0               1   \n",
       "51     NaN  146050.97              2          0               0   \n",
       "53     NaN  125561.97              1          0               0   \n",
       "60     NaN  136857.00              1          0               0   \n",
       "\n",
       "    EstimatedSalary  Exited  \n",
       "30        140469.38       1  \n",
       "48         90878.13       0  \n",
       "51         86424.57       0  \n",
       "53        164040.94       1  \n",
       "60         84509.57       0  "
      ]
     },
     "execution_count": 221,
     "metadata": {},
     "output_type": "execute_result"
    }
   ],
   "source": [
    "df[df['Tenure'].isna() == True].head()"
   ]
  },
  {
   "cell_type": "code",
   "execution_count": 222,
   "metadata": {},
   "outputs": [
    {
     "data": {
      "text/plain": [
       "<AxesSubplot:>"
      ]
     },
     "execution_count": 222,
     "metadata": {},
     "output_type": "execute_result"
    },
    {
     "data": {
      "image/png": "[encoded data removed]",
      "text/plain": [
       "<Figure size 432x288 with 1 Axes>"
      ]
     },
     "metadata": {
      "needs_background": "light"
     },
     "output_type": "display_data"
    }
   ],
   "source": [
    "df.groupby('Age').mean()['Tenure'].hist()"
   ]
  },
  {
   "cell_type": "code",
   "execution_count": 223,
   "metadata": {},
   "outputs": [
    {
     "data": {
      "text/html": [
       "<div>\n",
       "<style scoped>\n",
       "    .dataframe tbody tr th:only-of-type {\n",
       "        vertical-align: middle;\n",
       "    }\n",
       "\n",
       "    .dataframe tbody tr th {\n",
       "        vertical-align: top;\n",
       "    }\n",
       "\n",
       "    .dataframe thead th {\n",
       "        text-align: right;\n",
       "    }\n",
       "</style>\n",
       "<table border=\"1\" class=\"dataframe\">\n",
       "  <thead>\n",
       "    <tr style=\"text-align: right;\">\n",
       "      <th></th>\n",
       "      <th>count</th>\n",
       "    </tr>\n",
       "    <tr>\n",
       "      <th>Tenure</th>\n",
       "      <th></th>\n",
       "    </tr>\n",
       "  </thead>\n",
       "  <tbody>\n",
       "    <tr>\n",
       "      <th>0.0</th>\n",
       "      <td>382</td>\n",
       "    </tr>\n",
       "    <tr>\n",
       "      <th>1.0</th>\n",
       "      <td>952</td>\n",
       "    </tr>\n",
       "    <tr>\n",
       "      <th>2.0</th>\n",
       "      <td>950</td>\n",
       "    </tr>\n",
       "    <tr>\n",
       "      <th>3.0</th>\n",
       "      <td>928</td>\n",
       "    </tr>\n",
       "    <tr>\n",
       "      <th>4.0</th>\n",
       "      <td>885</td>\n",
       "    </tr>\n",
       "    <tr>\n",
       "      <th>5.0</th>\n",
       "      <td>927</td>\n",
       "    </tr>\n",
       "    <tr>\n",
       "      <th>6.0</th>\n",
       "      <td>881</td>\n",
       "    </tr>\n",
       "    <tr>\n",
       "      <th>7.0</th>\n",
       "      <td>925</td>\n",
       "    </tr>\n",
       "    <tr>\n",
       "      <th>8.0</th>\n",
       "      <td>933</td>\n",
       "    </tr>\n",
       "    <tr>\n",
       "      <th>9.0</th>\n",
       "      <td>882</td>\n",
       "    </tr>\n",
       "    <tr>\n",
       "      <th>10.0</th>\n",
       "      <td>446</td>\n",
       "    </tr>\n",
       "  </tbody>\n",
       "</table>\n",
       "</div>"
      ],
      "text/plain": [
       "        count\n",
       "Tenure       \n",
       "0.0       382\n",
       "1.0       952\n",
       "2.0       950\n",
       "3.0       928\n",
       "4.0       885\n",
       "5.0       927\n",
       "6.0       881\n",
       "7.0       925\n",
       "8.0       933\n",
       "9.0       882\n",
       "10.0      446"
      ]
     },
     "execution_count": 223,
     "metadata": {},
     "output_type": "execute_result"
    }
   ],
   "source": [
    "piv = df.groupby('Tenure')['RowNumber'].agg(['count'])\n",
    "piv"
   ]
  },
  {
   "cell_type": "code",
   "execution_count": 224,
   "metadata": {},
   "outputs": [
    {
     "data": {
      "text/plain": [
       "<AxesSubplot:>"
      ]
     },
     "execution_count": 224,
     "metadata": {},
     "output_type": "execute_result"
    },
    {
     "data": {
      "image/png": "[encoded data removed]",
      "text/plain": [
       "<Figure size 432x288 with 1 Axes>"
      ]
     },
     "metadata": {
      "needs_background": "light"
     },
     "output_type": "display_data"
    }
   ],
   "source": [
    "df[(df['Balance'] < 1)]['Tenure'].hist()"
   ]
  },
  {
   "cell_type": "code",
   "execution_count": 225,
   "metadata": {},
   "outputs": [
    {
     "data": {
      "text/plain": [
       "<AxesSubplot:>"
      ]
     },
     "execution_count": 225,
     "metadata": {},
     "output_type": "execute_result"
    },
    {
     "data": {
      "image/png": "[encoded data removed]",
      "text/plain": [
       "<Figure size 432x288 with 1 Axes>"
      ]
     },
     "metadata": {
      "needs_background": "light"
     },
     "output_type": "display_data"
    }
   ],
   "source": [
    "df[(df['Balance'] != 0)]['Tenure'].hist()"
   ]
  },
  {
   "cell_type": "markdown",
   "metadata": {},
   "source": [
    "Те у кого нулевой баланс, не обязательно являются первогодними клиентами"
   ]
  },
  {
   "cell_type": "code",
   "execution_count": 226,
   "metadata": {
    "scrolled": true
   },
   "outputs": [
    {
     "data": {
      "text/html": [
       "<div>\n",
       "<style scoped>\n",
       "    .dataframe tbody tr th:only-of-type {\n",
       "        vertical-align: middle;\n",
       "    }\n",
       "\n",
       "    .dataframe tbody tr th {\n",
       "        vertical-align: top;\n",
       "    }\n",
       "\n",
       "    .dataframe thead th {\n",
       "        text-align: right;\n",
       "    }\n",
       "</style>\n",
       "<table border=\"1\" class=\"dataframe\">\n",
       "  <thead>\n",
       "    <tr style=\"text-align: right;\">\n",
       "      <th></th>\n",
       "      <th>RowNumber</th>\n",
       "      <th>CustomerId</th>\n",
       "      <th>Surname</th>\n",
       "      <th>CreditScore</th>\n",
       "      <th>Geography</th>\n",
       "      <th>Gender</th>\n",
       "      <th>Age</th>\n",
       "      <th>Tenure</th>\n",
       "      <th>Balance</th>\n",
       "      <th>NumOfProducts</th>\n",
       "      <th>HasCrCard</th>\n",
       "      <th>IsActiveMember</th>\n",
       "      <th>EstimatedSalary</th>\n",
       "      <th>Exited</th>\n",
       "    </tr>\n",
       "  </thead>\n",
       "  <tbody>\n",
       "    <tr>\n",
       "      <th>30</th>\n",
       "      <td>31</td>\n",
       "      <td>15589475</td>\n",
       "      <td>Azikiwe</td>\n",
       "      <td>591</td>\n",
       "      <td>Spain</td>\n",
       "      <td>Female</td>\n",
       "      <td>39</td>\n",
       "      <td>NaN</td>\n",
       "      <td>0.0</td>\n",
       "      <td>3</td>\n",
       "      <td>1</td>\n",
       "      <td>0</td>\n",
       "      <td>140469.38</td>\n",
       "      <td>1</td>\n",
       "    </tr>\n",
       "    <tr>\n",
       "      <th>82</th>\n",
       "      <td>83</td>\n",
       "      <td>15641732</td>\n",
       "      <td>Mills</td>\n",
       "      <td>543</td>\n",
       "      <td>France</td>\n",
       "      <td>Female</td>\n",
       "      <td>36</td>\n",
       "      <td>NaN</td>\n",
       "      <td>0.0</td>\n",
       "      <td>2</td>\n",
       "      <td>0</td>\n",
       "      <td>0</td>\n",
       "      <td>26019.59</td>\n",
       "      <td>0</td>\n",
       "    </tr>\n",
       "    <tr>\n",
       "      <th>85</th>\n",
       "      <td>86</td>\n",
       "      <td>15805254</td>\n",
       "      <td>Ndukaku</td>\n",
       "      <td>652</td>\n",
       "      <td>Spain</td>\n",
       "      <td>Female</td>\n",
       "      <td>75</td>\n",
       "      <td>NaN</td>\n",
       "      <td>0.0</td>\n",
       "      <td>2</td>\n",
       "      <td>1</td>\n",
       "      <td>1</td>\n",
       "      <td>114675.75</td>\n",
       "      <td>0</td>\n",
       "    </tr>\n",
       "    <tr>\n",
       "      <th>94</th>\n",
       "      <td>95</td>\n",
       "      <td>15676966</td>\n",
       "      <td>Capon</td>\n",
       "      <td>730</td>\n",
       "      <td>Spain</td>\n",
       "      <td>Male</td>\n",
       "      <td>42</td>\n",
       "      <td>NaN</td>\n",
       "      <td>0.0</td>\n",
       "      <td>2</td>\n",
       "      <td>0</td>\n",
       "      <td>1</td>\n",
       "      <td>85982.47</td>\n",
       "      <td>0</td>\n",
       "    </tr>\n",
       "    <tr>\n",
       "      <th>99</th>\n",
       "      <td>100</td>\n",
       "      <td>15633059</td>\n",
       "      <td>Fanucci</td>\n",
       "      <td>413</td>\n",
       "      <td>France</td>\n",
       "      <td>Male</td>\n",
       "      <td>34</td>\n",
       "      <td>NaN</td>\n",
       "      <td>0.0</td>\n",
       "      <td>2</td>\n",
       "      <td>0</td>\n",
       "      <td>0</td>\n",
       "      <td>6534.18</td>\n",
       "      <td>0</td>\n",
       "    </tr>\n",
       "  </tbody>\n",
       "</table>\n",
       "</div>"
      ],
      "text/plain": [
       "    RowNumber  CustomerId  Surname  CreditScore Geography  Gender  Age  \\\n",
       "30         31    15589475  Azikiwe          591     Spain  Female   39   \n",
       "82         83    15641732    Mills          543    France  Female   36   \n",
       "85         86    15805254  Ndukaku          652     Spain  Female   75   \n",
       "94         95    15676966    Capon          730     Spain    Male   42   \n",
       "99        100    15633059  Fanucci          413    France    Male   34   \n",
       "\n",
       "    Tenure  Balance  NumOfProducts  HasCrCard  IsActiveMember  \\\n",
       "30     NaN      0.0              3          1               0   \n",
       "82     NaN      0.0              2          0               0   \n",
       "85     NaN      0.0              2          1               1   \n",
       "94     NaN      0.0              2          0               1   \n",
       "99     NaN      0.0              2          0               0   \n",
       "\n",
       "    EstimatedSalary  Exited  \n",
       "30        140469.38       1  \n",
       "82         26019.59       0  \n",
       "85        114675.75       0  \n",
       "94         85982.47       0  \n",
       "99          6534.18       0  "
      ]
     },
     "execution_count": 226,
     "metadata": {},
     "output_type": "execute_result"
    }
   ],
   "source": [
    "df[(df['Balance'] < 1) & (df['Tenure'].isna() == True)].head()"
   ]
  },
  {
   "cell_type": "markdown",
   "metadata": {},
   "source": [
    "Сложно понять можно ли как-то логично заполнить данные пропуски, учитывая, что пропусков всего 9%, то я их просто оставлю."
   ]
  },
  {
   "cell_type": "markdown",
   "metadata": {},
   "source": [
    "## Исследование задачи"
   ]
  },
  {
   "cell_type": "code",
   "execution_count": 227,
   "metadata": {},
   "outputs": [
    {
     "data": {
      "text/plain": [
       "Index(['RowNumber', 'CustomerId', 'CreditScore', 'Age', 'Tenure', 'Balance',\n",
       "       'NumOfProducts', 'HasCrCard', 'IsActiveMember', 'EstimatedSalary',\n",
       "       'Exited'],\n",
       "      dtype='object')"
      ]
     },
     "execution_count": 227,
     "metadata": {},
     "output_type": "execute_result"
    }
   ],
   "source": [
    "cat_cols = df.select_dtypes(include='object').columns\n",
    "num_cols = df.select_dtypes(exclude='object').columns\n",
    "num_cols"
   ]
  },
  {
   "cell_type": "markdown",
   "metadata": {},
   "source": [
    "Поищем зависимости целевого признака"
   ]
  },
  {
   "cell_type": "code",
   "execution_count": 228,
   "metadata": {},
   "outputs": [
    {
     "data": {
      "text/html": [
       "<div>\n",
       "<style scoped>\n",
       "    .dataframe tbody tr th:only-of-type {\n",
       "        vertical-align: middle;\n",
       "    }\n",
       "\n",
       "    .dataframe tbody tr th {\n",
       "        vertical-align: top;\n",
       "    }\n",
       "\n",
       "    .dataframe thead th {\n",
       "        text-align: right;\n",
       "    }\n",
       "</style>\n",
       "<table border=\"1\" class=\"dataframe\">\n",
       "  <thead>\n",
       "    <tr style=\"text-align: right;\">\n",
       "      <th></th>\n",
       "      <th>mean</th>\n",
       "      <th>count</th>\n",
       "    </tr>\n",
       "    <tr>\n",
       "      <th>Surname</th>\n",
       "      <th></th>\n",
       "      <th></th>\n",
       "    </tr>\n",
       "  </thead>\n",
       "  <tbody>\n",
       "    <tr>\n",
       "      <th>Smith</th>\n",
       "      <td>0.281250</td>\n",
       "      <td>32</td>\n",
       "    </tr>\n",
       "    <tr>\n",
       "      <th>Martin</th>\n",
       "      <td>0.310345</td>\n",
       "      <td>29</td>\n",
       "    </tr>\n",
       "    <tr>\n",
       "      <th>Scott</th>\n",
       "      <td>0.103448</td>\n",
       "      <td>29</td>\n",
       "    </tr>\n",
       "    <tr>\n",
       "      <th>Walker</th>\n",
       "      <td>0.142857</td>\n",
       "      <td>28</td>\n",
       "    </tr>\n",
       "    <tr>\n",
       "      <th>Brown</th>\n",
       "      <td>0.192308</td>\n",
       "      <td>26</td>\n",
       "    </tr>\n",
       "    <tr>\n",
       "      <th>...</th>\n",
       "      <td>...</td>\n",
       "      <td>...</td>\n",
       "    </tr>\n",
       "    <tr>\n",
       "      <th>Etheridge</th>\n",
       "      <td>0.000000</td>\n",
       "      <td>1</td>\n",
       "    </tr>\n",
       "    <tr>\n",
       "      <th>Milliner</th>\n",
       "      <td>0.000000</td>\n",
       "      <td>1</td>\n",
       "    </tr>\n",
       "    <tr>\n",
       "      <th>Milligan</th>\n",
       "      <td>1.000000</td>\n",
       "      <td>1</td>\n",
       "    </tr>\n",
       "    <tr>\n",
       "      <th>Eva</th>\n",
       "      <td>0.000000</td>\n",
       "      <td>1</td>\n",
       "    </tr>\n",
       "    <tr>\n",
       "      <th>Kuykendall</th>\n",
       "      <td>0.000000</td>\n",
       "      <td>1</td>\n",
       "    </tr>\n",
       "  </tbody>\n",
       "</table>\n",
       "<p>2932 rows × 2 columns</p>\n",
       "</div>"
      ],
      "text/plain": [
       "                mean  count\n",
       "Surname                    \n",
       "Smith       0.281250     32\n",
       "Martin      0.310345     29\n",
       "Scott       0.103448     29\n",
       "Walker      0.142857     28\n",
       "Brown       0.192308     26\n",
       "...              ...    ...\n",
       "Etheridge   0.000000      1\n",
       "Milliner    0.000000      1\n",
       "Milligan    1.000000      1\n",
       "Eva         0.000000      1\n",
       "Kuykendall  0.000000      1\n",
       "\n",
       "[2932 rows x 2 columns]"
      ]
     },
     "execution_count": 228,
     "metadata": {},
     "output_type": "execute_result"
    }
   ],
   "source": [
    "df.groupby('Surname')['Exited'].agg(['mean', 'count']\n",
    "                                    ).sort_values(ascending=False, by='count')"
   ]
  },
  {
   "cell_type": "markdown",
   "metadata": {},
   "source": [
    "Признак с именем стоит удалить из фичей. Он на мой взгляд добавит лишь шума для модели. Здесь есть как тезки так и единственные фамилии. Возможно, для людей с одной фамилией модель будет лучше составлять свзяи с целевым признаком, но не будет толку при новой фамилии. То есть этот признак только нагрузит модель вычеслительно, а толку не даст. К тому же, не все Смитты одинаковы, правда?)"
   ]
  },
  {
   "cell_type": "markdown",
   "metadata": {},
   "source": [
    "Так как численные признаки бывают очень разбросанные, то я бы хотел их немного сгруппировать."
   ]
  },
  {
   "cell_type": "code",
   "execution_count": 229,
   "metadata": {},
   "outputs": [],
   "source": [
    "df_2 = df.drop(['CustomerId', 'Surname'], axis=1)\n",
    "df_2 = df_2.set_index(\"RowNumber\")\n",
    "num_cols_2 = df_2.select_dtypes(exclude='object').columns\n",
    "\n",
    "for i in num_cols_2:\n",
    "    if df_2[i].mean() > 10:\n",
    "        df_2[i] = (pd.qcut(df_2[i], 10, duplicates='drop'))"
   ]
  },
  {
   "cell_type": "code",
   "execution_count": 230,
   "metadata": {},
   "outputs": [
    {
     "data": {
      "text/html": [
       "<div>\n",
       "<style scoped>\n",
       "    .dataframe tbody tr th:only-of-type {\n",
       "        vertical-align: middle;\n",
       "    }\n",
       "\n",
       "    .dataframe tbody tr th {\n",
       "        vertical-align: top;\n",
       "    }\n",
       "\n",
       "    .dataframe thead th {\n",
       "        text-align: right;\n",
       "    }\n",
       "</style>\n",
       "<table border=\"1\" class=\"dataframe\">\n",
       "  <thead>\n",
       "    <tr style=\"text-align: right;\">\n",
       "      <th></th>\n",
       "      <th>CreditScore</th>\n",
       "      <th>Geography</th>\n",
       "      <th>Gender</th>\n",
       "      <th>Age</th>\n",
       "      <th>Tenure</th>\n",
       "      <th>Balance</th>\n",
       "      <th>NumOfProducts</th>\n",
       "      <th>HasCrCard</th>\n",
       "      <th>IsActiveMember</th>\n",
       "      <th>EstimatedSalary</th>\n",
       "      <th>Exited</th>\n",
       "    </tr>\n",
       "    <tr>\n",
       "      <th>RowNumber</th>\n",
       "      <th></th>\n",
       "      <th></th>\n",
       "      <th></th>\n",
       "      <th></th>\n",
       "      <th></th>\n",
       "      <th></th>\n",
       "      <th></th>\n",
       "      <th></th>\n",
       "      <th></th>\n",
       "      <th></th>\n",
       "      <th></th>\n",
       "    </tr>\n",
       "  </thead>\n",
       "  <tbody>\n",
       "    <tr>\n",
       "      <th>1</th>\n",
       "      <td>(598.7, 627.0]</td>\n",
       "      <td>France</td>\n",
       "      <td>Female</td>\n",
       "      <td>(40.0, 42.0]</td>\n",
       "      <td>2.0</td>\n",
       "      <td>(-0.001, 73080.908]</td>\n",
       "      <td>1</td>\n",
       "      <td>1</td>\n",
       "      <td>1</td>\n",
       "      <td>(100193.915, 119710.038]</td>\n",
       "      <td>1</td>\n",
       "    </tr>\n",
       "    <tr>\n",
       "      <th>2</th>\n",
       "      <td>(598.7, 627.0]</td>\n",
       "      <td>Spain</td>\n",
       "      <td>Female</td>\n",
       "      <td>(40.0, 42.0]</td>\n",
       "      <td>1.0</td>\n",
       "      <td>(73080.908, 97198.54]</td>\n",
       "      <td>1</td>\n",
       "      <td>0</td>\n",
       "      <td>1</td>\n",
       "      <td>(100193.915, 119710.038]</td>\n",
       "      <td>0</td>\n",
       "    </tr>\n",
       "    <tr>\n",
       "      <th>3</th>\n",
       "      <td>(349.999, 521.0]</td>\n",
       "      <td>France</td>\n",
       "      <td>Female</td>\n",
       "      <td>(40.0, 42.0]</td>\n",
       "      <td>8.0</td>\n",
       "      <td>(149244.792, 250898.09]</td>\n",
       "      <td>3</td>\n",
       "      <td>1</td>\n",
       "      <td>0</td>\n",
       "      <td>(100193.915, 119710.038]</td>\n",
       "      <td>1</td>\n",
       "    </tr>\n",
       "    <tr>\n",
       "      <th>4</th>\n",
       "      <td>(678.0, 704.0]</td>\n",
       "      <td>France</td>\n",
       "      <td>Female</td>\n",
       "      <td>(37.0, 40.0]</td>\n",
       "      <td>1.0</td>\n",
       "      <td>(-0.001, 73080.908]</td>\n",
       "      <td>2</td>\n",
       "      <td>0</td>\n",
       "      <td>0</td>\n",
       "      <td>(80238.34, 100193.915]</td>\n",
       "      <td>0</td>\n",
       "    </tr>\n",
       "    <tr>\n",
       "      <th>5</th>\n",
       "      <td>(778.0, 850.0]</td>\n",
       "      <td>Spain</td>\n",
       "      <td>Female</td>\n",
       "      <td>(42.0, 46.0]</td>\n",
       "      <td>2.0</td>\n",
       "      <td>(122029.87, 133710.358]</td>\n",
       "      <td>1</td>\n",
       "      <td>1</td>\n",
       "      <td>1</td>\n",
       "      <td>(60736.079, 80238.34]</td>\n",
       "      <td>0</td>\n",
       "    </tr>\n",
       "    <tr>\n",
       "      <th>...</th>\n",
       "      <td>...</td>\n",
       "      <td>...</td>\n",
       "      <td>...</td>\n",
       "      <td>...</td>\n",
       "      <td>...</td>\n",
       "      <td>...</td>\n",
       "      <td>...</td>\n",
       "      <td>...</td>\n",
       "      <td>...</td>\n",
       "      <td>...</td>\n",
       "      <td>...</td>\n",
       "    </tr>\n",
       "    <tr>\n",
       "      <th>9996</th>\n",
       "      <td>(735.0, 778.0]</td>\n",
       "      <td>France</td>\n",
       "      <td>Male</td>\n",
       "      <td>(37.0, 40.0]</td>\n",
       "      <td>5.0</td>\n",
       "      <td>(-0.001, 73080.908]</td>\n",
       "      <td>2</td>\n",
       "      <td>1</td>\n",
       "      <td>0</td>\n",
       "      <td>(80238.34, 100193.915]</td>\n",
       "      <td>0</td>\n",
       "    </tr>\n",
       "    <tr>\n",
       "      <th>9997</th>\n",
       "      <td>(349.999, 521.0]</td>\n",
       "      <td>France</td>\n",
       "      <td>Male</td>\n",
       "      <td>(33.0, 35.0]</td>\n",
       "      <td>10.0</td>\n",
       "      <td>(-0.001, 73080.908]</td>\n",
       "      <td>1</td>\n",
       "      <td>1</td>\n",
       "      <td>1</td>\n",
       "      <td>(100193.915, 119710.038]</td>\n",
       "      <td>0</td>\n",
       "    </tr>\n",
       "    <tr>\n",
       "      <th>9998</th>\n",
       "      <td>(704.0, 735.0]</td>\n",
       "      <td>France</td>\n",
       "      <td>Female</td>\n",
       "      <td>(35.0, 37.0]</td>\n",
       "      <td>7.0</td>\n",
       "      <td>(-0.001, 73080.908]</td>\n",
       "      <td>1</td>\n",
       "      <td>0</td>\n",
       "      <td>1</td>\n",
       "      <td>(41050.736, 60736.079]</td>\n",
       "      <td>1</td>\n",
       "    </tr>\n",
       "    <tr>\n",
       "      <th>9999</th>\n",
       "      <td>(735.0, 778.0]</td>\n",
       "      <td>Germany</td>\n",
       "      <td>Male</td>\n",
       "      <td>(40.0, 42.0]</td>\n",
       "      <td>3.0</td>\n",
       "      <td>(73080.908, 97198.54]</td>\n",
       "      <td>2</td>\n",
       "      <td>1</td>\n",
       "      <td>0</td>\n",
       "      <td>(80238.34, 100193.915]</td>\n",
       "      <td>1</td>\n",
       "    </tr>\n",
       "    <tr>\n",
       "      <th>10000</th>\n",
       "      <td>(778.0, 850.0]</td>\n",
       "      <td>France</td>\n",
       "      <td>Female</td>\n",
       "      <td>(27.0, 31.0]</td>\n",
       "      <td>NaN</td>\n",
       "      <td>(122029.87, 133710.358]</td>\n",
       "      <td>1</td>\n",
       "      <td>1</td>\n",
       "      <td>0</td>\n",
       "      <td>(20273.58, 41050.736]</td>\n",
       "      <td>0</td>\n",
       "    </tr>\n",
       "  </tbody>\n",
       "</table>\n",
       "<p>10000 rows × 11 columns</p>\n",
       "</div>"
      ],
      "text/plain": [
       "                CreditScore Geography  Gender           Age  Tenure  \\\n",
       "RowNumber                                                             \n",
       "1            (598.7, 627.0]    France  Female  (40.0, 42.0]     2.0   \n",
       "2            (598.7, 627.0]     Spain  Female  (40.0, 42.0]     1.0   \n",
       "3          (349.999, 521.0]    France  Female  (40.0, 42.0]     8.0   \n",
       "4            (678.0, 704.0]    France  Female  (37.0, 40.0]     1.0   \n",
       "5            (778.0, 850.0]     Spain  Female  (42.0, 46.0]     2.0   \n",
       "...                     ...       ...     ...           ...     ...   \n",
       "9996         (735.0, 778.0]    France    Male  (37.0, 40.0]     5.0   \n",
       "9997       (349.999, 521.0]    France    Male  (33.0, 35.0]    10.0   \n",
       "9998         (704.0, 735.0]    France  Female  (35.0, 37.0]     7.0   \n",
       "9999         (735.0, 778.0]   Germany    Male  (40.0, 42.0]     3.0   \n",
       "10000        (778.0, 850.0]    France  Female  (27.0, 31.0]     NaN   \n",
       "\n",
       "                           Balance  NumOfProducts  HasCrCard  IsActiveMember  \\\n",
       "RowNumber                                                                      \n",
       "1              (-0.001, 73080.908]              1          1               1   \n",
       "2            (73080.908, 97198.54]              1          0               1   \n",
       "3          (149244.792, 250898.09]              3          1               0   \n",
       "4              (-0.001, 73080.908]              2          0               0   \n",
       "5          (122029.87, 133710.358]              1          1               1   \n",
       "...                            ...            ...        ...             ...   \n",
       "9996           (-0.001, 73080.908]              2          1               0   \n",
       "9997           (-0.001, 73080.908]              1          1               1   \n",
       "9998           (-0.001, 73080.908]              1          0               1   \n",
       "9999         (73080.908, 97198.54]              2          1               0   \n",
       "10000      (122029.87, 133710.358]              1          1               0   \n",
       "\n",
       "                    EstimatedSalary  Exited  \n",
       "RowNumber                                    \n",
       "1          (100193.915, 119710.038]       1  \n",
       "2          (100193.915, 119710.038]       0  \n",
       "3          (100193.915, 119710.038]       1  \n",
       "4            (80238.34, 100193.915]       0  \n",
       "5             (60736.079, 80238.34]       0  \n",
       "...                             ...     ...  \n",
       "9996         (80238.34, 100193.915]       0  \n",
       "9997       (100193.915, 119710.038]       0  \n",
       "9998         (41050.736, 60736.079]       1  \n",
       "9999         (80238.34, 100193.915]       1  \n",
       "10000         (20273.58, 41050.736]       0  \n",
       "\n",
       "[10000 rows x 11 columns]"
      ]
     },
     "execution_count": 230,
     "metadata": {},
     "output_type": "execute_result"
    }
   ],
   "source": [
    "df_2"
   ]
  },
  {
   "cell_type": "code",
   "execution_count": 231,
   "metadata": {},
   "outputs": [
    {
     "data": {
      "text/plain": [
       "Index(['CreditScore', 'Geography', 'Gender', 'Age', 'Tenure', 'Balance',\n",
       "       'NumOfProducts', 'HasCrCard', 'IsActiveMember', 'EstimatedSalary',\n",
       "       'Exited'],\n",
       "      dtype='object')"
      ]
     },
     "execution_count": 231,
     "metadata": {},
     "output_type": "execute_result"
    }
   ],
   "source": [
    "df_2.columns"
   ]
  },
  {
   "cell_type": "code",
   "execution_count": 232,
   "metadata": {},
   "outputs": [],
   "source": [
    "pipe = make_pipeline(ColumnTransformer(transformers=[('ohe', OrdinalEncoder(),\n",
    "                                                      ['CreditScore', 'Geography', 'Gender',\n",
    "                                                       'Age', 'Balance', 'EstimatedSalary'])],\n",
    "                                       remainder='passthrough'),\n",
    "\n",
    "                     )\n",
    "data_encoded = pd.DataFrame(pipe.fit_transform(df_2))"
   ]
  },
  {
   "cell_type": "code",
   "execution_count": 233,
   "metadata": {},
   "outputs": [],
   "source": [
    "def cramers_V(var1, var2):\n",
    "    # Cross table building\n",
    "    crosstab = np.array(pd.crosstab(var1, var2, rownames=None, colnames=None))\n",
    "    # Keeping of the test statistic of the Chi2 test\n",
    "    stat = chi2_contingency(crosstab)[0]\n",
    "    obs = np.sum(crosstab)  # Number of observations\n",
    "    # Take the minimum value between the columns and the rows of the cross table\n",
    "    mini = min(crosstab.shape)-1\n",
    "    return (stat/(obs*mini))"
   ]
  },
  {
   "cell_type": "code",
   "execution_count": 234,
   "metadata": {},
   "outputs": [
    {
     "data": {
      "text/plain": [
       "<AxesSubplot:>"
      ]
     },
     "execution_count": 234,
     "metadata": {},
     "output_type": "execute_result"
    },
    {
     "data": {
      "image/png": "[encoded data removed]",
      "text/plain": [
       "<Figure size 432x288 with 2 Axes>"
      ]
     },
     "metadata": {
      "needs_background": "light"
     },
     "output_type": "display_data"
    }
   ],
   "source": [
    "rows = []\n",
    "\n",
    "for var1 in data_encoded:\n",
    "    col = []\n",
    "    for var2 in data_encoded:\n",
    "\n",
    "        # Cramer's V test\n",
    "        cramers = cramers_V(data_encoded[var1], data_encoded[var2])\n",
    "        # Keeping of the rounded value of the Cramer's V\n",
    "        col.append(round(cramers, 2))\n",
    "    rows.append(col)\n",
    "\n",
    "cramers_results = np.array(rows)\n",
    "df_cramer = pd.DataFrame(\n",
    "    cramers_results, columns=data_encoded.columns, index=data_encoded.columns)\n",
    "\n",
    "\n",
    "sns.heatmap(df_cramer.corr())"
   ]
  },
  {
   "cell_type": "markdown",
   "metadata": {},
   "source": [
    "Я хотел построить корреляцию по всему ДФ, Но во-первых не смог вытащить из пайалайна/колом трансформера названия колонок. Ну это ладно, в целом если это сработало правильно, то мы не имеем мультиколленарных фичей."
   ]
  },
  {
   "cell_type": "code",
   "execution_count": 237,
   "metadata": {},
   "outputs": [
    {
     "data": {
      "image/png": "[encoded data removed]",
      "text/plain": [
       "<Figure size 432x288 with 1 Axes>"
      ]
     },
     "metadata": {
      "needs_background": "light"
     },
     "output_type": "display_data"
    },
    {
     "data": {
      "image/png": "[encoded data removed]",
      "text/plain": [
       "<Figure size 432x288 with 1 Axes>"
      ]
     },
     "metadata": {
      "needs_background": "light"
     },
     "output_type": "display_data"
    },
    {
     "data": {
      "image/png": "[encoded data removed]",
      "text/plain": [
       "<Figure size 432x288 with 1 Axes>"
      ]
     },
     "metadata": {
      "needs_background": "light"
     },
     "output_type": "display_data"
    },
    {
     "data": {
      "image/png": "[encoded data removed]",
      "text/plain": [
       "<Figure size 432x288 with 1 Axes>"
      ]
     },
     "metadata": {
      "needs_background": "light"
     },
     "output_type": "display_data"
    },
    {
     "data": {
      "image/png": "[encoded data removed]",
      "text/plain": [
       "<Figure size 432x288 with 1 Axes>"
      ]
     },
     "metadata": {
      "needs_background": "light"
     },
     "output_type": "display_data"
    },
    {
     "data": {
      "image/png": "[encoded data removed]",
      "text/plain": [
       "<Figure size 432x288 with 1 Axes>"
      ]
     },
     "metadata": {
      "needs_background": "light"
     },
     "output_type": "display_data"
    },
    {
     "data": {
      "image/png": "[encoded data removed]",
      "text/plain": [
       "<Figure size 432x288 with 1 Axes>"
      ]
     },
     "metadata": {
      "needs_background": "light"
     },
     "output_type": "display_data"
    },
    {
     "data": {
      "image/png": "[encoded data removed]",
      "text/plain": [
       "<Figure size 432x288 with 1 Axes>"
      ]
     },
     "metadata": {
      "needs_background": "light"
     },
     "output_type": "display_data"
    }
   ],
   "source": [
    "for i in num_cols_2[:-1]:\n",
    "    df_2.groupby(i).mean()['Exited'].plot(kind='bar')\n",
    "\n",
    "    plt.show()"
   ]
  },
  {
   "cell_type": "code",
   "execution_count": 238,
   "metadata": {},
   "outputs": [
    {
     "data": {
      "image/png": "[encoded data removed]",
      "text/plain": [
       "<Figure size 432x288 with 1 Axes>"
      ]
     },
     "metadata": {
      "needs_background": "light"
     },
     "output_type": "display_data"
    },
    {
     "data": {
      "image/png": "[encoded data removed]",
      "text/plain": [
       "<Figure size 432x288 with 1 Axes>"
      ]
     },
     "metadata": {
      "needs_background": "light"
     },
     "output_type": "display_data"
    }
   ],
   "source": [
    "for i in cat_cols[1:]:\n",
    "    df_2.groupby(i).mean()['Exited'].plot(kind='bar')\n",
    "\n",
    "    plt.show()"
   ]
  },
  {
   "cell_type": "markdown",
   "metadata": {},
   "source": [
    "По построенным графикам можно определить какие признаки влияют на на целевой признак а какие нет.\n",
    "\n",
    "Так видно, что наблюдается зависимость от признаков Geography, Gander,NumOfProducts, IsActiveMember,Balance,Age. По этим данным отчетливо видна зависимость искомой переменной. Остальные выглядят как шумовые, или мало коррелируемые. \n",
    "\n",
    "Мое внимание привлек признак CreditScore, которые вроде бы как должен показывать кредитный рейтинг клиента. Но видимо уйдет ли клиент или нет не зависит от его кредитоплатежности."
   ]
  },
  {
   "cell_type": "markdown",
   "metadata": {},
   "source": [
    "## Решение с дисбалансом"
   ]
  },
  {
   "cell_type": "code",
   "execution_count": 239,
   "metadata": {},
   "outputs": [],
   "source": [
    "data_dis = df.dropna().drop(\n",
    "    ['RowNumber', 'Surname', 'CustomerId'], axis=1).copy()"
   ]
  },
  {
   "cell_type": "markdown",
   "metadata": {},
   "source": [
    "Разобьем датасет на тестовую и тренеровочную выборку"
   ]
  },
  {
   "cell_type": "code",
   "execution_count": 240,
   "metadata": {},
   "outputs": [
    {
     "name": "stdout",
     "output_type": "stream",
     "text": [
      "(7272, 11) (1819, 11)\n"
     ]
    }
   ],
   "source": [
    "data_train, data_test = train_test_split(\n",
    "    data_dis, test_size=0.2, random_state=42)\n",
    "print(data_train.shape, data_test.shape)\n",
    "\n",
    "X_train1 = data_train.drop('Exited', axis=1)\n",
    "y_train1 = data_train['Exited']\n",
    "\n",
    "X_test1 = data_test.drop('Exited', axis=1)\n",
    "y_test1 = data_test['Exited']\n"
   ]
  },
  {
   "cell_type": "code",
   "execution_count": 241,
   "metadata": {},
   "outputs": [],
   "source": [
    "Standart_scale_cols = ['CreditScore', 'Age', 'Balance', 'EstimatedSalary']\n",
    "cat_cols = X_test1.select_dtypes(include='object').columns"
   ]
  },
  {
   "cell_type": "markdown",
   "metadata": {},
   "source": [
    "Базовые модели для проверки"
   ]
  },
  {
   "cell_type": "code",
   "execution_count": 242,
   "metadata": {},
   "outputs": [],
   "source": [
    "rf=RandomForestClassifier(random_state=42)\n",
    "xgbs=GradientBoostingClassifier(random_state=42)\n",
    "lreg=LogisticRegression(random_state=42)"
   ]
  },
  {
   "cell_type": "code",
   "execution_count": 243,
   "metadata": {},
   "outputs": [
    {
     "name": "stdout",
     "output_type": "stream",
     "text": [
      "RandomForestClassifier(random_state=42) 0.5702077517864984\n",
      "GradientBoostingClassifier(random_state=42) 0.5897486237382848\n",
      "LogisticRegression(random_state=42) 0.3136218897816902\n"
     ]
    }
   ],
   "source": [
    "models=[rf,xgbs,lreg]\n",
    "for i in models:\n",
    "    pipe_dis = make_pipeline(ColumnTransformer(transformers=[('sts', StandardScaler(), Standart_scale_cols),\n",
    "                                                         ('ohe', OneHotEncoder(), cat_cols)],\n",
    "                                           remainder='passthrough'),i)\n",
    "    print(i,cross_val_score(pipe_dis,X_train1, y_train1,cv=5, scoring='f1').mean())"
   ]
  },
  {
   "cell_type": "markdown",
   "metadata": {},
   "source": [
    "оптимальные модели GradientBoostingClassifier  и RandomForestClassifier"
   ]
  },
  {
   "cell_type": "code",
   "execution_count": 244,
   "metadata": {},
   "outputs": [],
   "source": [
    "GradientBoostingClassifiermodels=[rf,xgbs]\n",
    "#pipe_dis.fit(X_train1, y_train1)\n",
    "#roc_auc_score(y_test1, pipe_dis.predict_proba(X_test1)[:, -1])"
   ]
  },
  {
   "cell_type": "markdown",
   "metadata": {},
   "source": [
    "f1-мера с дисбалансом класса показывает просто ужасные значения 0,55- это нужно исправлять.\n",
    "\n",
    "Что интересно, roc_auc не такой и низкий..."
   ]
  },
  {
   "cell_type": "markdown",
   "metadata": {},
   "source": [
    "Подберем параметры для моделей"
   ]
  },
  {
   "cell_type": "code",
   "execution_count": 245,
   "metadata": {},
   "outputs": [],
   "source": [
    "from sklearn.utils.fixes import loguniform"
   ]
  },
  {
   "cell_type": "code",
   "execution_count": 246,
   "metadata": {},
   "outputs": [
    {
     "name": "stdout",
     "output_type": "stream",
     "text": [
      "0.5625044023795596 {'n_estimators': 90, 'min_samples_split': 3, 'min_samples_leaf': 1, 'max_depth': 6, 'class_weight': 'balanced'}\n"
     ]
    }
   ],
   "source": [
    "#RandomForest\n",
    "param_grid = {'n_estimators': range(70, 120, 5),\n",
    "              'max_depth':np.arange(1, 12, 1),\n",
    "              'min_samples_split':range(2, 6),\n",
    "              'min_samples_leaf':range(1, 3),\n",
    "              'class_weight':[None, 'balanced']\n",
    "             }\n",
    "grd_rf = RandomizedSearchCV(rf, param_distributions=param_grid,cv=5, scoring='f1', n_jobs=4,random_state=42)\n",
    "pipe_grd_rf = make_pipeline(ColumnTransformer(transformers=[('sts', StandardScaler(), Standart_scale_cols),\n",
    "                                                           ('ohe', OneHotEncoder(), cat_cols)],\n",
    "                                             remainder='passthrough'),\n",
    "                           grd_rf)\n",
    "\n",
    "pipe_grd_rf.fit(X_test1,y_test1)\n",
    "print(grd_rf.best_score_,grd_rf.best_params_)"
   ]
  },
  {
   "cell_type": "code",
   "execution_count": 247,
   "metadata": {},
   "outputs": [
    {
     "name": "stderr",
     "output_type": "stream",
     "text": [
      "/opt/conda/lib/python3.9/site-packages/sklearn/ensemble/_gb.py:280: FutureWarning: The loss parameter name 'deviance' was deprecated in v1.1 and will be removed in version 1.3. Use the new parameter name 'log_loss' which is equivalent.\n",
      "  warnings.warn(\n",
      "/opt/conda/lib/python3.9/site-packages/sklearn/ensemble/_gb.py:280: FutureWarning: The loss parameter name 'deviance' was deprecated in v1.1 and will be removed in version 1.3. Use the new parameter name 'log_loss' which is equivalent.\n",
      "  warnings.warn(\n",
      "/opt/conda/lib/python3.9/site-packages/sklearn/ensemble/_gb.py:280: FutureWarning: The loss parameter name 'deviance' was deprecated in v1.1 and will be removed in version 1.3. Use the new parameter name 'log_loss' which is equivalent.\n",
      "  warnings.warn(\n",
      "/opt/conda/lib/python3.9/site-packages/sklearn/ensemble/_gb.py:280: FutureWarning: The loss parameter name 'deviance' was deprecated in v1.1 and will be removed in version 1.3. Use the new parameter name 'log_loss' which is equivalent.\n",
      "  warnings.warn(\n",
      "/opt/conda/lib/python3.9/site-packages/sklearn/ensemble/_gb.py:280: FutureWarning: The loss parameter name 'deviance' was deprecated in v1.1 and will be removed in version 1.3. Use the new parameter name 'log_loss' which is equivalent.\n",
      "  warnings.warn(\n",
      "/opt/conda/lib/python3.9/site-packages/sklearn/ensemble/_gb.py:280: FutureWarning: The loss parameter name 'deviance' was deprecated in v1.1 and will be removed in version 1.3. Use the new parameter name 'log_loss' which is equivalent.\n",
      "  warnings.warn(\n",
      "/opt/conda/lib/python3.9/site-packages/sklearn/ensemble/_gb.py:280: FutureWarning: The loss parameter name 'deviance' was deprecated in v1.1 and will be removed in version 1.3. Use the new parameter name 'log_loss' which is equivalent.\n",
      "  warnings.warn(\n",
      "/opt/conda/lib/python3.9/site-packages/sklearn/ensemble/_gb.py:280: FutureWarning: The loss parameter name 'deviance' was deprecated in v1.1 and will be removed in version 1.3. Use the new parameter name 'log_loss' which is equivalent.\n",
      "  warnings.warn(\n",
      "/opt/conda/lib/python3.9/site-packages/sklearn/ensemble/_gb.py:280: FutureWarning: The loss parameter name 'deviance' was deprecated in v1.1 and will be removed in version 1.3. Use the new parameter name 'log_loss' which is equivalent.\n",
      "  warnings.warn(\n",
      "/opt/conda/lib/python3.9/site-packages/sklearn/ensemble/_gb.py:280: FutureWarning: The loss parameter name 'deviance' was deprecated in v1.1 and will be removed in version 1.3. Use the new parameter name 'log_loss' which is equivalent.\n",
      "  warnings.warn(\n",
      "/opt/conda/lib/python3.9/site-packages/sklearn/ensemble/_gb.py:280: FutureWarning: The loss parameter name 'deviance' was deprecated in v1.1 and will be removed in version 1.3. Use the new parameter name 'log_loss' which is equivalent.\n",
      "  warnings.warn(\n",
      "/opt/conda/lib/python3.9/site-packages/sklearn/ensemble/_gb.py:280: FutureWarning: The loss parameter name 'deviance' was deprecated in v1.1 and will be removed in version 1.3. Use the new parameter name 'log_loss' which is equivalent.\n",
      "  warnings.warn(\n",
      "/opt/conda/lib/python3.9/site-packages/sklearn/ensemble/_gb.py:280: FutureWarning: The loss parameter name 'deviance' was deprecated in v1.1 and will be removed in version 1.3. Use the new parameter name 'log_loss' which is equivalent.\n",
      "  warnings.warn(\n",
      "/opt/conda/lib/python3.9/site-packages/sklearn/ensemble/_gb.py:280: FutureWarning: The loss parameter name 'deviance' was deprecated in v1.1 and will be removed in version 1.3. Use the new parameter name 'log_loss' which is equivalent.\n",
      "  warnings.warn(\n",
      "/opt/conda/lib/python3.9/site-packages/sklearn/ensemble/_gb.py:280: FutureWarning: The loss parameter name 'deviance' was deprecated in v1.1 and will be removed in version 1.3. Use the new parameter name 'log_loss' which is equivalent.\n",
      "  warnings.warn(\n",
      "/opt/conda/lib/python3.9/site-packages/sklearn/ensemble/_gb.py:280: FutureWarning: The loss parameter name 'deviance' was deprecated in v1.1 and will be removed in version 1.3. Use the new parameter name 'log_loss' which is equivalent.\n",
      "  warnings.warn(\n",
      "/opt/conda/lib/python3.9/site-packages/sklearn/ensemble/_gb.py:280: FutureWarning: The loss parameter name 'deviance' was deprecated in v1.1 and will be removed in version 1.3. Use the new parameter name 'log_loss' which is equivalent.\n",
      "  warnings.warn(\n",
      "/opt/conda/lib/python3.9/site-packages/sklearn/ensemble/_gb.py:280: FutureWarning: The loss parameter name 'deviance' was deprecated in v1.1 and will be removed in version 1.3. Use the new parameter name 'log_loss' which is equivalent.\n",
      "  warnings.warn(\n",
      "/opt/conda/lib/python3.9/site-packages/sklearn/ensemble/_gb.py:280: FutureWarning: The loss parameter name 'deviance' was deprecated in v1.1 and will be removed in version 1.3. Use the new parameter name 'log_loss' which is equivalent.\n",
      "  warnings.warn(\n",
      "/opt/conda/lib/python3.9/site-packages/sklearn/ensemble/_gb.py:280: FutureWarning: The loss parameter name 'deviance' was deprecated in v1.1 and will be removed in version 1.3. Use the new parameter name 'log_loss' which is equivalent.\n",
      "  warnings.warn(\n",
      "/opt/conda/lib/python3.9/site-packages/sklearn/ensemble/_gb.py:280: FutureWarning: The loss parameter name 'deviance' was deprecated in v1.1 and will be removed in version 1.3. Use the new parameter name 'log_loss' which is equivalent.\n",
      "  warnings.warn(\n",
      "/opt/conda/lib/python3.9/site-packages/sklearn/ensemble/_gb.py:280: FutureWarning: The loss parameter name 'deviance' was deprecated in v1.1 and will be removed in version 1.3. Use the new parameter name 'log_loss' which is equivalent.\n",
      "  warnings.warn(\n",
      "/opt/conda/lib/python3.9/site-packages/sklearn/ensemble/_gb.py:280: FutureWarning: The loss parameter name 'deviance' was deprecated in v1.1 and will be removed in version 1.3. Use the new parameter name 'log_loss' which is equivalent.\n",
      "  warnings.warn(\n",
      "/opt/conda/lib/python3.9/site-packages/sklearn/ensemble/_gb.py:280: FutureWarning: The loss parameter name 'deviance' was deprecated in v1.1 and will be removed in version 1.3. Use the new parameter name 'log_loss' which is equivalent.\n",
      "  warnings.warn(\n",
      "/opt/conda/lib/python3.9/site-packages/sklearn/ensemble/_gb.py:280: FutureWarning: The loss parameter name 'deviance' was deprecated in v1.1 and will be removed in version 1.3. Use the new parameter name 'log_loss' which is equivalent.\n",
      "  warnings.warn(\n",
      "/opt/conda/lib/python3.9/site-packages/sklearn/ensemble/_gb.py:280: FutureWarning: The loss parameter name 'deviance' was deprecated in v1.1 and will be removed in version 1.3. Use the new parameter name 'log_loss' which is equivalent.\n",
      "  warnings.warn(\n"
     ]
    },
    {
     "name": "stdout",
     "output_type": "stream",
     "text": [
      "0.5330336257309942 {'n_estimators': 125, 'min_samples_split': 5, 'min_samples_leaf': 2, 'max_depth': 11, 'loss': 'deviance', 'learning_rate': 0.2700000000000001}\n"
     ]
    }
   ],
   "source": [
    "param_grid2 = {'learning_rate': np.arange(0.19, 0.29, 0.01),\n",
    "              'max_depth': np.arange(1, 25, 1),\n",
    "               'n_estimators':np.arange(125, 150, 5),\n",
    "               'min_samples_split':range(2,6),\n",
    "               'min_samples_leaf':range(1,3),\n",
    "               'loss': [ 'deviance', 'exponential']\n",
    "              }\n",
    "\n",
    "grd_xg = RandomizedSearchCV(xgbs, param_distributions=param_grid2,cv=5, scoring='f1', n_jobs=8,random_state=42, verbose=False)\n",
    "pipe_grd_xg = make_pipeline(ColumnTransformer(transformers=[('sts', StandardScaler(), Standart_scale_cols),\n",
    "                                                           ('ohe', OneHotEncoder(), cat_cols)], \n",
    "                                             remainder='passthrough'),\n",
    "                           grd_xg)\n",
    "\n",
    "\n",
    "pipe_grd_xg.fit(X_test1,y_test1)\n",
    "print(grd_xg.best_score_,grd_xg.best_params_)"
   ]
  },
  {
   "cell_type": "markdown",
   "metadata": {},
   "source": [
    "## Борьба с дисбалансом"
   ]
  },
  {
   "cell_type": "markdown",
   "metadata": {},
   "source": [
    "Как мы все знаем есть два варианта борьбы с дисбалансом. Это upscale, и downscale. Я использую downscale. Так как мне кажется так у нас получится наиболее \"честная\" выборка. А когда мы будем копировать при помощи upscale, то мне кажется это грозит утечке фичей в тест и валди выборку. Может я не прав поправьте, но downscale звучит логичнее"
   ]
  },
  {
   "cell_type": "markdown",
   "metadata": {},
   "source": [
    "### imblearn"
   ]
  },
  {
   "cell_type": "code",
   "execution_count": 248,
   "metadata": {},
   "outputs": [],
   "source": [
    "from imblearn.under_sampling import RandomUnderSampler"
   ]
  },
  {
   "cell_type": "code",
   "execution_count": 249,
   "metadata": {},
   "outputs": [],
   "source": [
    "data_imb = df.dropna().drop(['RowNumber', 'Surname', 'CustomerId'], axis=1)\n",
    "data_train_i, data_test_i = train_test_split(\n",
    "    data_imb, test_size=0.2, random_state=42)\n",
    "\n",
    "X_train_imb = data_train_i.drop('Exited', axis=1)\n",
    "y_train_imb = data_train_i['Exited']\n",
    "\n",
    "X_test_imb = data_test_i.drop('Exited', axis=1)\n",
    "y_test_imb = data_test_i['Exited']"
   ]
  },
  {
   "cell_type": "code",
   "execution_count": 250,
   "metadata": {},
   "outputs": [
    {
     "data": {
      "text/plain": [
       "(7272, 10)"
      ]
     },
     "execution_count": 250,
     "metadata": {},
     "output_type": "execute_result"
    }
   ],
   "source": [
    "X_train_imb.shape"
   ]
  },
  {
   "cell_type": "code",
   "execution_count": 251,
   "metadata": {},
   "outputs": [],
   "source": [
    "X_resampled, y_resampled = RandomUnderSampler(\n",
    "    random_state=42).fit_resample(X_train_imb, y_train_imb)"
   ]
  },
  {
   "cell_type": "code",
   "execution_count": 252,
   "metadata": {},
   "outputs": [
    {
     "data": {
      "text/plain": [
       "0    1480\n",
       "1    1480\n",
       "Name: Exited, dtype: int64"
      ]
     },
     "execution_count": 252,
     "metadata": {},
     "output_type": "execute_result"
    }
   ],
   "source": [
    "y_resampled.value_counts()"
   ]
  },
  {
   "cell_type": "code",
   "execution_count": 253,
   "metadata": {},
   "outputs": [
    {
     "name": "stdout",
     "output_type": "stream",
     "text": [
      "0.7709543623948714 {'n_estimators': 70, 'min_samples_split': 4, 'min_samples_leaf': 2, 'max_depth': 11, 'class_weight': None}\n"
     ]
    }
   ],
   "source": [
    "param_grid = {'n_estimators': range(70, 120, 5),\n",
    "              'max_depth':np.arange(1, 12, 1),\n",
    "              'min_samples_split':range(2, 6),\n",
    "              'min_samples_leaf':range(1, 3),\n",
    "              'class_weight':[None, 'balanced']\n",
    "             }\n",
    "grd_rf = RandomizedSearchCV(rf, param_distributions=param_grid,cv=5, scoring='f1', n_jobs=4,random_state=42)\n",
    "pipe_grd_rf = make_pipeline(ColumnTransformer(transformers=[('sts', StandardScaler(), Standart_scale_cols),\n",
    "                                                           ('ohe', OneHotEncoder(), cat_cols)],\n",
    "                                             remainder='passthrough'),\n",
    "                           grd_rf)\n",
    "\n",
    "pipe_grd_rf.fit(X_resampled,y_resampled)\n",
    "print(grd_rf.best_score_,grd_rf.best_params_)"
   ]
  },
  {
   "cell_type": "code",
   "execution_count": 255,
   "metadata": {},
   "outputs": [
    {
     "name": "stderr",
     "output_type": "stream",
     "text": [
      "/opt/conda/lib/python3.9/site-packages/sklearn/ensemble/_gb.py:280: FutureWarning: The loss parameter name 'deviance' was deprecated in v1.1 and will be removed in version 1.3. Use the new parameter name 'log_loss' which is equivalent.\n",
      "  warnings.warn(\n",
      "/opt/conda/lib/python3.9/site-packages/sklearn/ensemble/_gb.py:280: FutureWarning: The loss parameter name 'deviance' was deprecated in v1.1 and will be removed in version 1.3. Use the new parameter name 'log_loss' which is equivalent.\n",
      "  warnings.warn(\n",
      "/opt/conda/lib/python3.9/site-packages/sklearn/ensemble/_gb.py:280: FutureWarning: The loss parameter name 'deviance' was deprecated in v1.1 and will be removed in version 1.3. Use the new parameter name 'log_loss' which is equivalent.\n",
      "  warnings.warn(\n",
      "/opt/conda/lib/python3.9/site-packages/sklearn/ensemble/_gb.py:280: FutureWarning: The loss parameter name 'deviance' was deprecated in v1.1 and will be removed in version 1.3. Use the new parameter name 'log_loss' which is equivalent.\n",
      "  warnings.warn(\n",
      "/opt/conda/lib/python3.9/site-packages/sklearn/ensemble/_gb.py:280: FutureWarning: The loss parameter name 'deviance' was deprecated in v1.1 and will be removed in version 1.3. Use the new parameter name 'log_loss' which is equivalent.\n",
      "  warnings.warn(\n",
      "/opt/conda/lib/python3.9/site-packages/sklearn/ensemble/_gb.py:280: FutureWarning: The loss parameter name 'deviance' was deprecated in v1.1 and will be removed in version 1.3. Use the new parameter name 'log_loss' which is equivalent.\n",
      "  warnings.warn(\n",
      "/opt/conda/lib/python3.9/site-packages/sklearn/ensemble/_gb.py:280: FutureWarning: The loss parameter name 'deviance' was deprecated in v1.1 and will be removed in version 1.3. Use the new parameter name 'log_loss' which is equivalent.\n",
      "  warnings.warn(\n",
      "/opt/conda/lib/python3.9/site-packages/sklearn/ensemble/_gb.py:280: FutureWarning: The loss parameter name 'deviance' was deprecated in v1.1 and will be removed in version 1.3. Use the new parameter name 'log_loss' which is equivalent.\n",
      "  warnings.warn(\n",
      "/opt/conda/lib/python3.9/site-packages/sklearn/ensemble/_gb.py:280: FutureWarning: The loss parameter name 'deviance' was deprecated in v1.1 and will be removed in version 1.3. Use the new parameter name 'log_loss' which is equivalent.\n",
      "  warnings.warn(\n",
      "/opt/conda/lib/python3.9/site-packages/sklearn/ensemble/_gb.py:280: FutureWarning: The loss parameter name 'deviance' was deprecated in v1.1 and will be removed in version 1.3. Use the new parameter name 'log_loss' which is equivalent.\n",
      "  warnings.warn(\n",
      "/opt/conda/lib/python3.9/site-packages/sklearn/ensemble/_gb.py:280: FutureWarning: The loss parameter name 'deviance' was deprecated in v1.1 and will be removed in version 1.3. Use the new parameter name 'log_loss' which is equivalent.\n",
      "  warnings.warn(\n",
      "/opt/conda/lib/python3.9/site-packages/sklearn/ensemble/_gb.py:280: FutureWarning: The loss parameter name 'deviance' was deprecated in v1.1 and will be removed in version 1.3. Use the new parameter name 'log_loss' which is equivalent.\n",
      "  warnings.warn(\n",
      "/opt/conda/lib/python3.9/site-packages/sklearn/ensemble/_gb.py:280: FutureWarning: The loss parameter name 'deviance' was deprecated in v1.1 and will be removed in version 1.3. Use the new parameter name 'log_loss' which is equivalent.\n",
      "  warnings.warn(\n",
      "/opt/conda/lib/python3.9/site-packages/sklearn/ensemble/_gb.py:280: FutureWarning: The loss parameter name 'deviance' was deprecated in v1.1 and will be removed in version 1.3. Use the new parameter name 'log_loss' which is equivalent.\n",
      "  warnings.warn(\n",
      "/opt/conda/lib/python3.9/site-packages/sklearn/ensemble/_gb.py:280: FutureWarning: The loss parameter name 'deviance' was deprecated in v1.1 and will be removed in version 1.3. Use the new parameter name 'log_loss' which is equivalent.\n",
      "  warnings.warn(\n",
      "/opt/conda/lib/python3.9/site-packages/sklearn/ensemble/_gb.py:280: FutureWarning: The loss parameter name 'deviance' was deprecated in v1.1 and will be removed in version 1.3. Use the new parameter name 'log_loss' which is equivalent.\n",
      "  warnings.warn(\n",
      "/opt/conda/lib/python3.9/site-packages/sklearn/ensemble/_gb.py:280: FutureWarning: The loss parameter name 'deviance' was deprecated in v1.1 and will be removed in version 1.3. Use the new parameter name 'log_loss' which is equivalent.\n",
      "  warnings.warn(\n",
      "/opt/conda/lib/python3.9/site-packages/sklearn/ensemble/_gb.py:280: FutureWarning: The loss parameter name 'deviance' was deprecated in v1.1 and will be removed in version 1.3. Use the new parameter name 'log_loss' which is equivalent.\n",
      "  warnings.warn(\n",
      "/opt/conda/lib/python3.9/site-packages/sklearn/ensemble/_gb.py:280: FutureWarning: The loss parameter name 'deviance' was deprecated in v1.1 and will be removed in version 1.3. Use the new parameter name 'log_loss' which is equivalent.\n",
      "  warnings.warn(\n",
      "/opt/conda/lib/python3.9/site-packages/sklearn/ensemble/_gb.py:280: FutureWarning: The loss parameter name 'deviance' was deprecated in v1.1 and will be removed in version 1.3. Use the new parameter name 'log_loss' which is equivalent.\n",
      "  warnings.warn(\n",
      "/opt/conda/lib/python3.9/site-packages/sklearn/ensemble/_gb.py:280: FutureWarning: The loss parameter name 'deviance' was deprecated in v1.1 and will be removed in version 1.3. Use the new parameter name 'log_loss' which is equivalent.\n",
      "  warnings.warn(\n",
      "/opt/conda/lib/python3.9/site-packages/sklearn/ensemble/_gb.py:280: FutureWarning: The loss parameter name 'deviance' was deprecated in v1.1 and will be removed in version 1.3. Use the new parameter name 'log_loss' which is equivalent.\n",
      "  warnings.warn(\n",
      "/opt/conda/lib/python3.9/site-packages/sklearn/ensemble/_gb.py:280: FutureWarning: The loss parameter name 'deviance' was deprecated in v1.1 and will be removed in version 1.3. Use the new parameter name 'log_loss' which is equivalent.\n",
      "  warnings.warn(\n",
      "/opt/conda/lib/python3.9/site-packages/sklearn/ensemble/_gb.py:280: FutureWarning: The loss parameter name 'deviance' was deprecated in v1.1 and will be removed in version 1.3. Use the new parameter name 'log_loss' which is equivalent.\n",
      "  warnings.warn(\n",
      "/opt/conda/lib/python3.9/site-packages/sklearn/ensemble/_gb.py:280: FutureWarning: The loss parameter name 'deviance' was deprecated in v1.1 and will be removed in version 1.3. Use the new parameter name 'log_loss' which is equivalent.\n",
      "  warnings.warn(\n"
     ]
    },
    {
     "name": "stdout",
     "output_type": "stream",
     "text": [
      "0.7617328334069742 {'n_estimators': 140, 'min_samples_split': 2, 'min_samples_leaf': 2, 'max_depth': 1, 'loss': 'exponential', 'learning_rate': 0.26000000000000006}\n"
     ]
    }
   ],
   "source": [
    "param_grid2 = {'learning_rate': np.arange(0.19, 0.29, 0.01),\n",
    "              'max_depth': np.arange(1, 25, 1),\n",
    "               'n_estimators':np.arange(125, 150, 5),\n",
    "               'min_samples_split':range(2,6),\n",
    "               'min_samples_leaf':range(1,3),\n",
    "               'loss': [ 'deviance', 'exponential']\n",
    "              }\n",
    "\n",
    "grd_xg = RandomizedSearchCV(xgbs, param_distributions=param_grid2,cv=5, scoring='f1', n_jobs=8,random_state=42, verbose=False)\n",
    "pipe_grd_xg = make_pipeline(ColumnTransformer(transformers=[('sts', StandardScaler(), Standart_scale_cols),\n",
    "                                                           ('ohe', OneHotEncoder(), cat_cols)], \n",
    "                                             remainder='passthrough'),\n",
    "                           grd_xg)\n",
    "\n",
    "\n",
    "pipe_grd_xg.fit(X_resampled,y_resampled)\n",
    "print(grd_xg.best_score_,grd_xg.best_params_)"
   ]
  },
  {
   "cell_type": "markdown",
   "metadata": {},
   "source": [
    "При помощи борьбы с дисбалансом методом RandomUnderSampler удалось повысить точность по f1 мере до 0,77 у RandomForesta и до 0.76 у GradientBosstinga"
   ]
  },
  {
   "cell_type": "markdown",
   "metadata": {},
   "source": [
    "OverSampling"
   ]
  },
  {
   "cell_type": "code",
   "execution_count": 256,
   "metadata": {},
   "outputs": [],
   "source": [
    "from imblearn.over_sampling import SMOTE\n",
    "from imblearn.pipeline import Pipeline"
   ]
  },
  {
   "cell_type": "code",
   "execution_count": 257,
   "metadata": {},
   "outputs": [],
   "source": [
    "ctm = ColumnTransformer(\n",
    "    transformers=[('ord', OrdinalEncoder(), cat_cols)], remainder='passthrough')\n",
    "pipe_over = Pipeline([('columntr', ctm),\n",
    "                      ('smote', SMOTE(random_state=42)),\n",
    "                      ('RandForest', grd_rf.best_estimator_)])"
   ]
  },
  {
   "cell_type": "code",
   "execution_count": 258,
   "metadata": {},
   "outputs": [
    {
     "data": {
      "text/html": [
       "<style>#sk-container-id-15 {color: black;background-color: white;}#sk-container-id-15 pre{padding: 0;}#sk-container-id-15 div.sk-toggleable {background-color: white;}#sk-container-id-15 label.sk-toggleable__label {cursor: pointer;display: block;width: 100%;margin-bottom: 0;padding: 0.3em;box-sizing: border-box;text-align: center;}#sk-container-id-15 label.sk-toggleable__label-arrow:before {content: \"▸\";float: left;margin-right: 0.25em;color: #696969;}#sk-container-id-15 label.sk-toggleable__label-arrow:hover:before {color: black;}#sk-container-id-15 div.sk-estimator:hover label.sk-toggleable__label-arrow:before {color: black;}#sk-container-id-15 div.sk-toggleable__content {max-height: 0;max-width: 0;overflow: hidden;text-align: left;background-color: #f0f8ff;}#sk-container-id-15 div.sk-toggleable__content pre {margin: 0.2em;color: black;border-radius: 0.25em;background-color: #f0f8ff;}#sk-container-id-15 input.sk-toggleable__control:checked~div.sk-toggleable__content {max-height: 200px;max-width: 100%;overflow: auto;}#sk-container-id-15 input.sk-toggleable__control:checked~label.sk-toggleable__label-arrow:before {content: \"▾\";}#sk-container-id-15 div.sk-estimator input.sk-toggleable__control:checked~label.sk-toggleable__label {background-color: #d4ebff;}#sk-container-id-15 div.sk-label input.sk-toggleable__control:checked~label.sk-toggleable__label {background-color: #d4ebff;}#sk-container-id-15 input.sk-hidden--visually {border: 0;clip: rect(1px 1px 1px 1px);clip: rect(1px, 1px, 1px, 1px);height: 1px;margin: -1px;overflow: hidden;padding: 0;position: absolute;width: 1px;}#sk-container-id-15 div.sk-estimator {font-family: monospace;background-color: #f0f8ff;border: 1px dotted black;border-radius: 0.25em;box-sizing: border-box;margin-bottom: 0.5em;}#sk-container-id-15 div.sk-estimator:hover {background-color: #d4ebff;}#sk-container-id-15 div.sk-parallel-item::after {content: \"\";width: 100%;border-bottom: 1px solid gray;flex-grow: 1;}#sk-container-id-15 div.sk-label:hover label.sk-toggleable__label {background-color: #d4ebff;}#sk-container-id-15 div.sk-serial::before {content: \"\";position: absolute;border-left: 1px solid gray;box-sizing: border-box;top: 0;bottom: 0;left: 50%;z-index: 0;}#sk-container-id-15 div.sk-serial {display: flex;flex-direction: column;align-items: center;background-color: white;padding-right: 0.2em;padding-left: 0.2em;position: relative;}#sk-container-id-15 div.sk-item {position: relative;z-index: 1;}#sk-container-id-15 div.sk-parallel {display: flex;align-items: stretch;justify-content: center;background-color: white;position: relative;}#sk-container-id-15 div.sk-item::before, #sk-container-id-15 div.sk-parallel-item::before {content: \"\";position: absolute;border-left: 1px solid gray;box-sizing: border-box;top: 0;bottom: 0;left: 50%;z-index: -1;}#sk-container-id-15 div.sk-parallel-item {display: flex;flex-direction: column;z-index: 1;position: relative;background-color: white;}#sk-container-id-15 div.sk-parallel-item:first-child::after {align-self: flex-end;width: 50%;}#sk-container-id-15 div.sk-parallel-item:last-child::after {align-self: flex-start;width: 50%;}#sk-container-id-15 div.sk-parallel-item:only-child::after {width: 0;}#sk-container-id-15 div.sk-dashed-wrapped {border: 1px dashed gray;margin: 0 0.4em 0.5em 0.4em;box-sizing: border-box;padding-bottom: 0.4em;background-color: white;}#sk-container-id-15 div.sk-label label {font-family: monospace;font-weight: bold;display: inline-block;line-height: 1.2em;}#sk-container-id-15 div.sk-label-container {text-align: center;}#sk-container-id-15 div.sk-container {/* jupyter's `normalize.less` sets `[hidden] { display: none; }` but bootstrap.min.css set `[hidden] { display: none !important; }` so we also need the `!important` here to be able to override the default hidden behavior on the sphinx rendered scikit-learn.org. See: https://github.com/scikit-learn/scikit-learn/issues/21755 */display: inline-block !important;position: relative;}#sk-container-id-15 div.sk-text-repr-fallback {display: none;}</style><div id=\"sk-container-id-15\" class=\"sk-top-container\"><div class=\"sk-text-repr-fallback\"><pre>Pipeline(steps=[(&#x27;columntr&#x27;,\n",
       "                 ColumnTransformer(remainder=&#x27;passthrough&#x27;,\n",
       "                                   transformers=[(&#x27;ord&#x27;, OrdinalEncoder(),\n",
       "                                                  Index([&#x27;Geography&#x27;, &#x27;Gender&#x27;], dtype=&#x27;object&#x27;))])),\n",
       "                (&#x27;smote&#x27;, SMOTE(random_state=42)),\n",
       "                (&#x27;RandForest&#x27;,\n",
       "                 RandomForestClassifier(max_depth=11, min_samples_leaf=2,\n",
       "                                        min_samples_split=4, n_estimators=70,\n",
       "                                        random_state=42))])</pre><b>In a Jupyter environment, please rerun this cell to show the HTML representation or trust the notebook. <br />On GitHub, the HTML representation is unable to render, please try loading this page with nbviewer.org.</b></div><div class=\"sk-container\" hidden><div class=\"sk-item sk-dashed-wrapped\"><div class=\"sk-label-container\"><div class=\"sk-label sk-toggleable\"><input class=\"sk-toggleable__control sk-hidden--visually\" id=\"sk-estimator-id-104\" type=\"checkbox\" ><label for=\"sk-estimator-id-104\" class=\"sk-toggleable__label sk-toggleable__label-arrow\">Pipeline</label><div class=\"sk-toggleable__content\"><pre>Pipeline(steps=[(&#x27;columntr&#x27;,\n",
       "                 ColumnTransformer(remainder=&#x27;passthrough&#x27;,\n",
       "                                   transformers=[(&#x27;ord&#x27;, OrdinalEncoder(),\n",
       "                                                  Index([&#x27;Geography&#x27;, &#x27;Gender&#x27;], dtype=&#x27;object&#x27;))])),\n",
       "                (&#x27;smote&#x27;, SMOTE(random_state=42)),\n",
       "                (&#x27;RandForest&#x27;,\n",
       "                 RandomForestClassifier(max_depth=11, min_samples_leaf=2,\n",
       "                                        min_samples_split=4, n_estimators=70,\n",
       "                                        random_state=42))])</pre></div></div></div><div class=\"sk-serial\"><div class=\"sk-item sk-dashed-wrapped\"><div class=\"sk-label-container\"><div class=\"sk-label sk-toggleable\"><input class=\"sk-toggleable__control sk-hidden--visually\" id=\"sk-estimator-id-105\" type=\"checkbox\" ><label for=\"sk-estimator-id-105\" class=\"sk-toggleable__label sk-toggleable__label-arrow\">columntr: ColumnTransformer</label><div class=\"sk-toggleable__content\"><pre>ColumnTransformer(remainder=&#x27;passthrough&#x27;,\n",
       "                  transformers=[(&#x27;ord&#x27;, OrdinalEncoder(),\n",
       "                                 Index([&#x27;Geography&#x27;, &#x27;Gender&#x27;], dtype=&#x27;object&#x27;))])</pre></div></div></div><div class=\"sk-parallel\"><div class=\"sk-parallel-item\"><div class=\"sk-item\"><div class=\"sk-label-container\"><div class=\"sk-label sk-toggleable\"><input class=\"sk-toggleable__control sk-hidden--visually\" id=\"sk-estimator-id-106\" type=\"checkbox\" ><label for=\"sk-estimator-id-106\" class=\"sk-toggleable__label sk-toggleable__label-arrow\">ord</label><div class=\"sk-toggleable__content\"><pre>Index([&#x27;Geography&#x27;, &#x27;Gender&#x27;], dtype=&#x27;object&#x27;)</pre></div></div></div><div class=\"sk-serial\"><div class=\"sk-item\"><div class=\"sk-estimator sk-toggleable\"><input class=\"sk-toggleable__control sk-hidden--visually\" id=\"sk-estimator-id-107\" type=\"checkbox\" ><label for=\"sk-estimator-id-107\" class=\"sk-toggleable__label sk-toggleable__label-arrow\">OrdinalEncoder</label><div class=\"sk-toggleable__content\"><pre>OrdinalEncoder()</pre></div></div></div></div></div></div><div class=\"sk-parallel-item\"><div class=\"sk-item\"><div class=\"sk-label-container\"><div class=\"sk-label sk-toggleable\"><input class=\"sk-toggleable__control sk-hidden--visually\" id=\"sk-estimator-id-108\" type=\"checkbox\" ><label for=\"sk-estimator-id-108\" class=\"sk-toggleable__label sk-toggleable__label-arrow\">remainder</label><div class=\"sk-toggleable__content\"><pre>[&#x27;CreditScore&#x27;, &#x27;Age&#x27;, &#x27;Tenure&#x27;, &#x27;Balance&#x27;, &#x27;NumOfProducts&#x27;, &#x27;HasCrCard&#x27;, &#x27;IsActiveMember&#x27;, &#x27;EstimatedSalary&#x27;]</pre></div></div></div><div class=\"sk-serial\"><div class=\"sk-item\"><div class=\"sk-estimator sk-toggleable\"><input class=\"sk-toggleable__control sk-hidden--visually\" id=\"sk-estimator-id-109\" type=\"checkbox\" ><label for=\"sk-estimator-id-109\" class=\"sk-toggleable__label sk-toggleable__label-arrow\">passthrough</label><div class=\"sk-toggleable__content\"><pre>passthrough</pre></div></div></div></div></div></div></div></div><div class=\"sk-item\"><div class=\"sk-estimator sk-toggleable\"><input class=\"sk-toggleable__control sk-hidden--visually\" id=\"sk-estimator-id-110\" type=\"checkbox\" ><label for=\"sk-estimator-id-110\" class=\"sk-toggleable__label sk-toggleable__label-arrow\">SMOTE</label><div class=\"sk-toggleable__content\"><pre>SMOTE(random_state=42)</pre></div></div></div><div class=\"sk-item\"><div class=\"sk-estimator sk-toggleable\"><input class=\"sk-toggleable__control sk-hidden--visually\" id=\"sk-estimator-id-111\" type=\"checkbox\" ><label for=\"sk-estimator-id-111\" class=\"sk-toggleable__label sk-toggleable__label-arrow\">RandomForestClassifier</label><div class=\"sk-toggleable__content\"><pre>RandomForestClassifier(max_depth=11, min_samples_leaf=2, min_samples_split=4,\n",
       "                       n_estimators=70, random_state=42)</pre></div></div></div></div></div></div></div>"
      ],
      "text/plain": [
       "Pipeline(steps=[('columntr',\n",
       "                 ColumnTransformer(remainder='passthrough',\n",
       "                                   transformers=[('ord', OrdinalEncoder(),\n",
       "                                                  Index(['Geography', 'Gender'], dtype='object'))])),\n",
       "                ('smote', SMOTE(random_state=42)),\n",
       "                ('RandForest',\n",
       "                 RandomForestClassifier(max_depth=11, min_samples_leaf=2,\n",
       "                                        min_samples_split=4, n_estimators=70,\n",
       "                                        random_state=42))])"
      ]
     },
     "execution_count": 258,
     "metadata": {},
     "output_type": "execute_result"
    }
   ],
   "source": [
    "pipe_over.fit(X_train_imb, y_train_imb)"
   ]
  },
  {
   "cell_type": "markdown",
   "metadata": {},
   "source": [
    "### Downsampling"
   ]
  },
  {
   "cell_type": "code",
   "execution_count": 259,
   "metadata": {},
   "outputs": [
    {
     "data": {
      "text/plain": [
       "<AxesSubplot:>"
      ]
     },
     "execution_count": 259,
     "metadata": {},
     "output_type": "execute_result"
    },
    {
     "data": {
      "image/png": "[encoded data removed]",
      "text/plain": [
       "<Figure size 432x288 with 1 Axes>"
      ]
     },
     "metadata": {
      "needs_background": "light"
     },
     "output_type": "display_data"
    }
   ],
   "source": [
    "df['Exited'].hist()"
   ]
  },
  {
   "cell_type": "code",
   "execution_count": 260,
   "metadata": {},
   "outputs": [
    {
     "data": {
      "text/plain": [
       "0    0.7963\n",
       "1    0.2037\n",
       "Name: Exited, dtype: float64"
      ]
     },
     "execution_count": 260,
     "metadata": {},
     "output_type": "execute_result"
    }
   ],
   "source": [
    "df['Exited'].value_counts(normalize=True)"
   ]
  },
  {
   "cell_type": "markdown",
   "metadata": {},
   "source": [
    "Видно, что данные сильно не сбалансированы в соотношении 1к4\n",
    "Попробую применить downsampling, и уберем лишние данные клиентов, которые остались"
   ]
  },
  {
   "cell_type": "code",
   "execution_count": 261,
   "metadata": {},
   "outputs": [],
   "source": [
    "data_test = df.copy()"
   ]
  },
  {
   "cell_type": "code",
   "execution_count": 262,
   "metadata": {},
   "outputs": [],
   "source": [
    "data = df.dropna().drop(['RowNumber', 'Surname', 'CustomerId'], axis=1)\n",
    "data[data['Exited'] == 0] = data[data['Exited']\n",
    "                                 == 0].sample(frac=0.25, random_state=42)\n",
    "data = data.dropna()"
   ]
  },
  {
   "cell_type": "code",
   "execution_count": 263,
   "metadata": {},
   "outputs": [
    {
     "data": {
      "text/plain": [
       "1.0    0.506143\n",
       "0.0    0.493857\n",
       "Name: Exited, dtype: float64"
      ]
     },
     "execution_count": 263,
     "metadata": {},
     "output_type": "execute_result"
    }
   ],
   "source": [
    "data['Exited'].value_counts(normalize=True)"
   ]
  },
  {
   "cell_type": "code",
   "execution_count": 264,
   "metadata": {},
   "outputs": [
    {
     "data": {
      "text/html": [
       "<div>\n",
       "<style scoped>\n",
       "    .dataframe tbody tr th:only-of-type {\n",
       "        vertical-align: middle;\n",
       "    }\n",
       "\n",
       "    .dataframe tbody tr th {\n",
       "        vertical-align: top;\n",
       "    }\n",
       "\n",
       "    .dataframe thead th {\n",
       "        text-align: right;\n",
       "    }\n",
       "</style>\n",
       "<table border=\"1\" class=\"dataframe\">\n",
       "  <thead>\n",
       "    <tr style=\"text-align: right;\">\n",
       "      <th></th>\n",
       "      <th>CreditScore</th>\n",
       "      <th>Geography</th>\n",
       "      <th>Gender</th>\n",
       "      <th>Age</th>\n",
       "      <th>Tenure</th>\n",
       "      <th>Balance</th>\n",
       "      <th>NumOfProducts</th>\n",
       "      <th>HasCrCard</th>\n",
       "      <th>IsActiveMember</th>\n",
       "      <th>EstimatedSalary</th>\n",
       "      <th>Exited</th>\n",
       "    </tr>\n",
       "  </thead>\n",
       "  <tbody>\n",
       "    <tr>\n",
       "      <th>0</th>\n",
       "      <td>619.0</td>\n",
       "      <td>France</td>\n",
       "      <td>Female</td>\n",
       "      <td>42.0</td>\n",
       "      <td>2.0</td>\n",
       "      <td>0.00</td>\n",
       "      <td>1.0</td>\n",
       "      <td>1.0</td>\n",
       "      <td>1.0</td>\n",
       "      <td>101348.88</td>\n",
       "      <td>1.0</td>\n",
       "    </tr>\n",
       "    <tr>\n",
       "      <th>1</th>\n",
       "      <td>608.0</td>\n",
       "      <td>Spain</td>\n",
       "      <td>Female</td>\n",
       "      <td>41.0</td>\n",
       "      <td>1.0</td>\n",
       "      <td>83807.86</td>\n",
       "      <td>1.0</td>\n",
       "      <td>0.0</td>\n",
       "      <td>1.0</td>\n",
       "      <td>112542.58</td>\n",
       "      <td>0.0</td>\n",
       "    </tr>\n",
       "    <tr>\n",
       "      <th>2</th>\n",
       "      <td>502.0</td>\n",
       "      <td>France</td>\n",
       "      <td>Female</td>\n",
       "      <td>42.0</td>\n",
       "      <td>8.0</td>\n",
       "      <td>159660.80</td>\n",
       "      <td>3.0</td>\n",
       "      <td>1.0</td>\n",
       "      <td>0.0</td>\n",
       "      <td>113931.57</td>\n",
       "      <td>1.0</td>\n",
       "    </tr>\n",
       "    <tr>\n",
       "      <th>5</th>\n",
       "      <td>645.0</td>\n",
       "      <td>Spain</td>\n",
       "      <td>Male</td>\n",
       "      <td>44.0</td>\n",
       "      <td>8.0</td>\n",
       "      <td>113755.78</td>\n",
       "      <td>2.0</td>\n",
       "      <td>1.0</td>\n",
       "      <td>0.0</td>\n",
       "      <td>149756.71</td>\n",
       "      <td>1.0</td>\n",
       "    </tr>\n",
       "    <tr>\n",
       "      <th>7</th>\n",
       "      <td>376.0</td>\n",
       "      <td>Germany</td>\n",
       "      <td>Female</td>\n",
       "      <td>29.0</td>\n",
       "      <td>4.0</td>\n",
       "      <td>115046.74</td>\n",
       "      <td>4.0</td>\n",
       "      <td>1.0</td>\n",
       "      <td>0.0</td>\n",
       "      <td>119346.88</td>\n",
       "      <td>1.0</td>\n",
       "    </tr>\n",
       "    <tr>\n",
       "      <th>...</th>\n",
       "      <td>...</td>\n",
       "      <td>...</td>\n",
       "      <td>...</td>\n",
       "      <td>...</td>\n",
       "      <td>...</td>\n",
       "      <td>...</td>\n",
       "      <td>...</td>\n",
       "      <td>...</td>\n",
       "      <td>...</td>\n",
       "      <td>...</td>\n",
       "      <td>...</td>\n",
       "    </tr>\n",
       "    <tr>\n",
       "      <th>9987</th>\n",
       "      <td>606.0</td>\n",
       "      <td>Spain</td>\n",
       "      <td>Male</td>\n",
       "      <td>30.0</td>\n",
       "      <td>8.0</td>\n",
       "      <td>180307.73</td>\n",
       "      <td>2.0</td>\n",
       "      <td>1.0</td>\n",
       "      <td>1.0</td>\n",
       "      <td>1914.41</td>\n",
       "      <td>0.0</td>\n",
       "    </tr>\n",
       "    <tr>\n",
       "      <th>9991</th>\n",
       "      <td>597.0</td>\n",
       "      <td>France</td>\n",
       "      <td>Female</td>\n",
       "      <td>53.0</td>\n",
       "      <td>4.0</td>\n",
       "      <td>88381.21</td>\n",
       "      <td>1.0</td>\n",
       "      <td>1.0</td>\n",
       "      <td>0.0</td>\n",
       "      <td>69384.71</td>\n",
       "      <td>1.0</td>\n",
       "    </tr>\n",
       "    <tr>\n",
       "      <th>9992</th>\n",
       "      <td>726.0</td>\n",
       "      <td>Spain</td>\n",
       "      <td>Male</td>\n",
       "      <td>36.0</td>\n",
       "      <td>2.0</td>\n",
       "      <td>0.00</td>\n",
       "      <td>1.0</td>\n",
       "      <td>1.0</td>\n",
       "      <td>0.0</td>\n",
       "      <td>195192.40</td>\n",
       "      <td>0.0</td>\n",
       "    </tr>\n",
       "    <tr>\n",
       "      <th>9997</th>\n",
       "      <td>709.0</td>\n",
       "      <td>France</td>\n",
       "      <td>Female</td>\n",
       "      <td>36.0</td>\n",
       "      <td>7.0</td>\n",
       "      <td>0.00</td>\n",
       "      <td>1.0</td>\n",
       "      <td>0.0</td>\n",
       "      <td>1.0</td>\n",
       "      <td>42085.58</td>\n",
       "      <td>1.0</td>\n",
       "    </tr>\n",
       "    <tr>\n",
       "      <th>9998</th>\n",
       "      <td>772.0</td>\n",
       "      <td>Germany</td>\n",
       "      <td>Male</td>\n",
       "      <td>42.0</td>\n",
       "      <td>3.0</td>\n",
       "      <td>75075.31</td>\n",
       "      <td>2.0</td>\n",
       "      <td>1.0</td>\n",
       "      <td>0.0</td>\n",
       "      <td>92888.52</td>\n",
       "      <td>1.0</td>\n",
       "    </tr>\n",
       "  </tbody>\n",
       "</table>\n",
       "<p>3663 rows × 11 columns</p>\n",
       "</div>"
      ],
      "text/plain": [
       "      CreditScore Geography  Gender   Age  Tenure    Balance  NumOfProducts  \\\n",
       "0           619.0    France  Female  42.0     2.0       0.00            1.0   \n",
       "1           608.0     Spain  Female  41.0     1.0   83807.86            1.0   \n",
       "2           502.0    France  Female  42.0     8.0  159660.80            3.0   \n",
       "5           645.0     Spain    Male  44.0     8.0  113755.78            2.0   \n",
       "7           376.0   Germany  Female  29.0     4.0  115046.74            4.0   \n",
       "...           ...       ...     ...   ...     ...        ...            ...   \n",
       "9987        606.0     Spain    Male  30.0     8.0  180307.73            2.0   \n",
       "9991        597.0    France  Female  53.0     4.0   88381.21            1.0   \n",
       "9992        726.0     Spain    Male  36.0     2.0       0.00            1.0   \n",
       "9997        709.0    France  Female  36.0     7.0       0.00            1.0   \n",
       "9998        772.0   Germany    Male  42.0     3.0   75075.31            2.0   \n",
       "\n",
       "      HasCrCard  IsActiveMember  EstimatedSalary  Exited  \n",
       "0           1.0             1.0        101348.88     1.0  \n",
       "1           0.0             1.0        112542.58     0.0  \n",
       "2           1.0             0.0        113931.57     1.0  \n",
       "5           1.0             0.0        149756.71     1.0  \n",
       "7           1.0             0.0        119346.88     1.0  \n",
       "...         ...             ...              ...     ...  \n",
       "9987        1.0             1.0          1914.41     0.0  \n",
       "9991        1.0             0.0         69384.71     1.0  \n",
       "9992        1.0             0.0        195192.40     0.0  \n",
       "9997        0.0             1.0         42085.58     1.0  \n",
       "9998        1.0             0.0         92888.52     1.0  \n",
       "\n",
       "[3663 rows x 11 columns]"
      ]
     },
     "execution_count": 264,
     "metadata": {},
     "output_type": "execute_result"
    }
   ],
   "source": [
    "data"
   ]
  },
  {
   "cell_type": "code",
   "execution_count": 265,
   "metadata": {},
   "outputs": [
    {
     "data": {
      "text/plain": [
       "<AxesSubplot:>"
      ]
     },
     "execution_count": 265,
     "metadata": {},
     "output_type": "execute_result"
    },
    {
     "data": {
      "image/png": "[encoded data removed]",
      "text/plain": [
       "<Figure size 432x288 with 1 Axes>"
      ]
     },
     "metadata": {
      "needs_background": "light"
     },
     "output_type": "display_data"
    }
   ],
   "source": [
    "data['Exited'].hist()"
   ]
  },
  {
   "cell_type": "code",
   "execution_count": 266,
   "metadata": {},
   "outputs": [
    {
     "data": {
      "text/html": [
       "<div>\n",
       "<style scoped>\n",
       "    .dataframe tbody tr th:only-of-type {\n",
       "        vertical-align: middle;\n",
       "    }\n",
       "\n",
       "    .dataframe tbody tr th {\n",
       "        vertical-align: top;\n",
       "    }\n",
       "\n",
       "    .dataframe thead th {\n",
       "        text-align: right;\n",
       "    }\n",
       "</style>\n",
       "<table border=\"1\" class=\"dataframe\">\n",
       "  <thead>\n",
       "    <tr style=\"text-align: right;\">\n",
       "      <th></th>\n",
       "      <th>CreditScore</th>\n",
       "      <th>Geography</th>\n",
       "      <th>Gender</th>\n",
       "      <th>Age</th>\n",
       "      <th>Tenure</th>\n",
       "      <th>Balance</th>\n",
       "      <th>NumOfProducts</th>\n",
       "      <th>HasCrCard</th>\n",
       "      <th>IsActiveMember</th>\n",
       "      <th>EstimatedSalary</th>\n",
       "      <th>Exited</th>\n",
       "    </tr>\n",
       "  </thead>\n",
       "  <tbody>\n",
       "    <tr>\n",
       "      <th>0</th>\n",
       "      <td>619.0</td>\n",
       "      <td>France</td>\n",
       "      <td>Female</td>\n",
       "      <td>42.0</td>\n",
       "      <td>2.0</td>\n",
       "      <td>0.00</td>\n",
       "      <td>1.0</td>\n",
       "      <td>1.0</td>\n",
       "      <td>1.0</td>\n",
       "      <td>101348.88</td>\n",
       "      <td>1.0</td>\n",
       "    </tr>\n",
       "    <tr>\n",
       "      <th>1</th>\n",
       "      <td>608.0</td>\n",
       "      <td>Spain</td>\n",
       "      <td>Female</td>\n",
       "      <td>41.0</td>\n",
       "      <td>1.0</td>\n",
       "      <td>83807.86</td>\n",
       "      <td>1.0</td>\n",
       "      <td>0.0</td>\n",
       "      <td>1.0</td>\n",
       "      <td>112542.58</td>\n",
       "      <td>0.0</td>\n",
       "    </tr>\n",
       "    <tr>\n",
       "      <th>2</th>\n",
       "      <td>502.0</td>\n",
       "      <td>France</td>\n",
       "      <td>Female</td>\n",
       "      <td>42.0</td>\n",
       "      <td>8.0</td>\n",
       "      <td>159660.80</td>\n",
       "      <td>3.0</td>\n",
       "      <td>1.0</td>\n",
       "      <td>0.0</td>\n",
       "      <td>113931.57</td>\n",
       "      <td>1.0</td>\n",
       "    </tr>\n",
       "  </tbody>\n",
       "</table>\n",
       "</div>"
      ],
      "text/plain": [
       "   CreditScore Geography  Gender   Age  Tenure    Balance  NumOfProducts  \\\n",
       "0        619.0    France  Female  42.0     2.0       0.00            1.0   \n",
       "1        608.0     Spain  Female  41.0     1.0   83807.86            1.0   \n",
       "2        502.0    France  Female  42.0     8.0  159660.80            3.0   \n",
       "\n",
       "   HasCrCard  IsActiveMember  EstimatedSalary  Exited  \n",
       "0        1.0             1.0        101348.88     1.0  \n",
       "1        0.0             1.0        112542.58     0.0  \n",
       "2        1.0             0.0        113931.57     1.0  "
      ]
     },
     "execution_count": 266,
     "metadata": {},
     "output_type": "execute_result"
    }
   ],
   "source": [
    "data.head(3)"
   ]
  },
  {
   "cell_type": "markdown",
   "metadata": {},
   "source": [
    "прекрасно\n",
    "\n",
    "Я бы еще проверил что будет если применить class_weight=balanced в модели"
   ]
  },
  {
   "cell_type": "markdown",
   "metadata": {},
   "source": [
    "Я убираю фичи 'RowNumber','Surname','CustomerId', так они не влияют на решения моедели(разве что в худшую сторону)\n",
    "\n",
    "Я имею гипотезу, что наилучший результат покажет модель с фичами Geography, Gander,NumOfProducts, IsActiveMember,Balance,Age. возможно потом ее проверю"
   ]
  },
  {
   "cell_type": "code",
   "execution_count": 267,
   "metadata": {},
   "outputs": [
    {
     "data": {
      "text/plain": [
       "CreditScore        0.0\n",
       "Geography          0.0\n",
       "Gender             0.0\n",
       "Age                0.0\n",
       "Tenure             0.0\n",
       "Balance            0.0\n",
       "NumOfProducts      0.0\n",
       "HasCrCard          0.0\n",
       "IsActiveMember     0.0\n",
       "EstimatedSalary    0.0\n",
       "Exited             0.0\n",
       "dtype: float64"
      ]
     },
     "execution_count": 267,
     "metadata": {},
     "output_type": "execute_result"
    }
   ],
   "source": [
    "data.isna().mean()"
   ]
  },
  {
   "cell_type": "code",
   "execution_count": 268,
   "metadata": {},
   "outputs": [],
   "source": [
    "X = data.drop('Exited', axis=1)\n",
    "y = data['Exited']\n",
    "cat_cols = X.select_dtypes(include='object').columns\n",
    "num_cols = X.select_dtypes(exclude='object').columns"
   ]
  },
  {
   "cell_type": "code",
   "execution_count": 269,
   "metadata": {},
   "outputs": [
    {
     "data": {
      "text/html": [
       "<div>\n",
       "<style scoped>\n",
       "    .dataframe tbody tr th:only-of-type {\n",
       "        vertical-align: middle;\n",
       "    }\n",
       "\n",
       "    .dataframe tbody tr th {\n",
       "        vertical-align: top;\n",
       "    }\n",
       "\n",
       "    .dataframe thead th {\n",
       "        text-align: right;\n",
       "    }\n",
       "</style>\n",
       "<table border=\"1\" class=\"dataframe\">\n",
       "  <thead>\n",
       "    <tr style=\"text-align: right;\">\n",
       "      <th></th>\n",
       "      <th>0</th>\n",
       "      <th>1</th>\n",
       "      <th>2</th>\n",
       "      <th>3</th>\n",
       "      <th>4</th>\n",
       "      <th>5</th>\n",
       "      <th>6</th>\n",
       "      <th>7</th>\n",
       "      <th>8</th>\n",
       "      <th>9</th>\n",
       "      <th>10</th>\n",
       "      <th>11</th>\n",
       "      <th>12</th>\n",
       "    </tr>\n",
       "  </thead>\n",
       "  <tbody>\n",
       "    <tr>\n",
       "      <th>0</th>\n",
       "      <td>-0.305660</td>\n",
       "      <td>0.078704</td>\n",
       "      <td>-1.324104</td>\n",
       "      <td>0.024120</td>\n",
       "      <td>1.0</td>\n",
       "      <td>0.0</td>\n",
       "      <td>0.0</td>\n",
       "      <td>1.0</td>\n",
       "      <td>0.0</td>\n",
       "      <td>2.0</td>\n",
       "      <td>1.0</td>\n",
       "      <td>1.0</td>\n",
       "      <td>1.0</td>\n",
       "    </tr>\n",
       "    <tr>\n",
       "      <th>1</th>\n",
       "      <td>-0.418462</td>\n",
       "      <td>-0.015141</td>\n",
       "      <td>0.040167</td>\n",
       "      <td>0.218021</td>\n",
       "      <td>0.0</td>\n",
       "      <td>0.0</td>\n",
       "      <td>1.0</td>\n",
       "      <td>1.0</td>\n",
       "      <td>0.0</td>\n",
       "      <td>1.0</td>\n",
       "      <td>1.0</td>\n",
       "      <td>0.0</td>\n",
       "      <td>1.0</td>\n",
       "    </tr>\n",
       "    <tr>\n",
       "      <th>2</th>\n",
       "      <td>-1.505463</td>\n",
       "      <td>0.078704</td>\n",
       "      <td>1.274945</td>\n",
       "      <td>0.242081</td>\n",
       "      <td>1.0</td>\n",
       "      <td>0.0</td>\n",
       "      <td>0.0</td>\n",
       "      <td>1.0</td>\n",
       "      <td>0.0</td>\n",
       "      <td>8.0</td>\n",
       "      <td>3.0</td>\n",
       "      <td>1.0</td>\n",
       "      <td>0.0</td>\n",
       "    </tr>\n",
       "    <tr>\n",
       "      <th>3</th>\n",
       "      <td>-0.039037</td>\n",
       "      <td>0.266395</td>\n",
       "      <td>0.527677</td>\n",
       "      <td>0.862655</td>\n",
       "      <td>0.0</td>\n",
       "      <td>0.0</td>\n",
       "      <td>1.0</td>\n",
       "      <td>0.0</td>\n",
       "      <td>1.0</td>\n",
       "      <td>8.0</td>\n",
       "      <td>2.0</td>\n",
       "      <td>1.0</td>\n",
       "      <td>0.0</td>\n",
       "    </tr>\n",
       "    <tr>\n",
       "      <th>4</th>\n",
       "      <td>-2.797560</td>\n",
       "      <td>-1.141285</td>\n",
       "      <td>0.548692</td>\n",
       "      <td>0.335887</td>\n",
       "      <td>0.0</td>\n",
       "      <td>1.0</td>\n",
       "      <td>0.0</td>\n",
       "      <td>1.0</td>\n",
       "      <td>0.0</td>\n",
       "      <td>4.0</td>\n",
       "      <td>4.0</td>\n",
       "      <td>1.0</td>\n",
       "      <td>0.0</td>\n",
       "    </tr>\n",
       "    <tr>\n",
       "      <th>...</th>\n",
       "      <td>...</td>\n",
       "      <td>...</td>\n",
       "      <td>...</td>\n",
       "      <td>...</td>\n",
       "      <td>...</td>\n",
       "      <td>...</td>\n",
       "      <td>...</td>\n",
       "      <td>...</td>\n",
       "      <td>...</td>\n",
       "      <td>...</td>\n",
       "      <td>...</td>\n",
       "      <td>...</td>\n",
       "      <td>...</td>\n",
       "    </tr>\n",
       "    <tr>\n",
       "      <th>3658</th>\n",
       "      <td>-0.438971</td>\n",
       "      <td>-1.047440</td>\n",
       "      <td>1.611047</td>\n",
       "      <td>-1.698314</td>\n",
       "      <td>0.0</td>\n",
       "      <td>0.0</td>\n",
       "      <td>1.0</td>\n",
       "      <td>0.0</td>\n",
       "      <td>1.0</td>\n",
       "      <td>8.0</td>\n",
       "      <td>2.0</td>\n",
       "      <td>1.0</td>\n",
       "      <td>1.0</td>\n",
       "    </tr>\n",
       "    <tr>\n",
       "      <th>3659</th>\n",
       "      <td>-0.531264</td>\n",
       "      <td>1.111003</td>\n",
       "      <td>0.114615</td>\n",
       "      <td>-0.529573</td>\n",
       "      <td>1.0</td>\n",
       "      <td>0.0</td>\n",
       "      <td>0.0</td>\n",
       "      <td>1.0</td>\n",
       "      <td>0.0</td>\n",
       "      <td>4.0</td>\n",
       "      <td>1.0</td>\n",
       "      <td>1.0</td>\n",
       "      <td>0.0</td>\n",
       "    </tr>\n",
       "    <tr>\n",
       "      <th>3660</th>\n",
       "      <td>0.791596</td>\n",
       "      <td>-0.484368</td>\n",
       "      <td>-1.324104</td>\n",
       "      <td>1.649706</td>\n",
       "      <td>0.0</td>\n",
       "      <td>0.0</td>\n",
       "      <td>1.0</td>\n",
       "      <td>0.0</td>\n",
       "      <td>1.0</td>\n",
       "      <td>2.0</td>\n",
       "      <td>1.0</td>\n",
       "      <td>1.0</td>\n",
       "      <td>0.0</td>\n",
       "    </tr>\n",
       "    <tr>\n",
       "      <th>3661</th>\n",
       "      <td>0.617266</td>\n",
       "      <td>-0.484368</td>\n",
       "      <td>-1.324104</td>\n",
       "      <td>-1.002457</td>\n",
       "      <td>1.0</td>\n",
       "      <td>0.0</td>\n",
       "      <td>0.0</td>\n",
       "      <td>1.0</td>\n",
       "      <td>0.0</td>\n",
       "      <td>7.0</td>\n",
       "      <td>1.0</td>\n",
       "      <td>0.0</td>\n",
       "      <td>1.0</td>\n",
       "    </tr>\n",
       "    <tr>\n",
       "      <th>3662</th>\n",
       "      <td>1.263314</td>\n",
       "      <td>0.078704</td>\n",
       "      <td>-0.101986</td>\n",
       "      <td>-0.122433</td>\n",
       "      <td>0.0</td>\n",
       "      <td>1.0</td>\n",
       "      <td>0.0</td>\n",
       "      <td>0.0</td>\n",
       "      <td>1.0</td>\n",
       "      <td>3.0</td>\n",
       "      <td>2.0</td>\n",
       "      <td>1.0</td>\n",
       "      <td>0.0</td>\n",
       "    </tr>\n",
       "  </tbody>\n",
       "</table>\n",
       "<p>3663 rows × 13 columns</p>\n",
       "</div>"
      ],
      "text/plain": [
       "            0         1         2         3    4    5    6    7    8    9   \\\n",
       "0    -0.305660  0.078704 -1.324104  0.024120  1.0  0.0  0.0  1.0  0.0  2.0   \n",
       "1    -0.418462 -0.015141  0.040167  0.218021  0.0  0.0  1.0  1.0  0.0  1.0   \n",
       "2    -1.505463  0.078704  1.274945  0.242081  1.0  0.0  0.0  1.0  0.0  8.0   \n",
       "3    -0.039037  0.266395  0.527677  0.862655  0.0  0.0  1.0  0.0  1.0  8.0   \n",
       "4    -2.797560 -1.141285  0.548692  0.335887  0.0  1.0  0.0  1.0  0.0  4.0   \n",
       "...        ...       ...       ...       ...  ...  ...  ...  ...  ...  ...   \n",
       "3658 -0.438971 -1.047440  1.611047 -1.698314  0.0  0.0  1.0  0.0  1.0  8.0   \n",
       "3659 -0.531264  1.111003  0.114615 -0.529573  1.0  0.0  0.0  1.0  0.0  4.0   \n",
       "3660  0.791596 -0.484368 -1.324104  1.649706  0.0  0.0  1.0  0.0  1.0  2.0   \n",
       "3661  0.617266 -0.484368 -1.324104 -1.002457  1.0  0.0  0.0  1.0  0.0  7.0   \n",
       "3662  1.263314  0.078704 -0.101986 -0.122433  0.0  1.0  0.0  0.0  1.0  3.0   \n",
       "\n",
       "       10   11   12  \n",
       "0     1.0  1.0  1.0  \n",
       "1     1.0  0.0  1.0  \n",
       "2     3.0  1.0  0.0  \n",
       "3     2.0  1.0  0.0  \n",
       "4     4.0  1.0  0.0  \n",
       "...   ...  ...  ...  \n",
       "3658  2.0  1.0  1.0  \n",
       "3659  1.0  1.0  0.0  \n",
       "3660  1.0  1.0  0.0  \n",
       "3661  1.0  0.0  1.0  \n",
       "3662  2.0  1.0  0.0  \n",
       "\n",
       "[3663 rows x 13 columns]"
      ]
     },
     "execution_count": 269,
     "metadata": {},
     "output_type": "execute_result"
    }
   ],
   "source": [
    "pipe = make_pipeline(ColumnTransformer(transformers=[('sts', StandardScaler(), Standart_scale_cols),\n",
    "                                                     ('ohe', OneHotEncoder(), cat_cols)],\n",
    "                                       remainder='passthrough')\n",
    "                     )\n",
    "pd.DataFrame(pipe.fit_transform(X))"
   ]
  },
  {
   "cell_type": "markdown",
   "metadata": {},
   "source": [
    "Вот этот датафрейм будем кормить моделькам. "
   ]
  },
  {
   "cell_type": "markdown",
   "metadata": {},
   "source": [
    "#### Разобью выборку на обучающую, тестовую и валидационную"
   ]
  },
  {
   "cell_type": "code",
   "execution_count": 270,
   "metadata": {},
   "outputs": [
    {
     "name": "stdout",
     "output_type": "stream",
     "text": [
      "(2930, 11) (733, 11)\n"
     ]
    }
   ],
   "source": [
    "data_train, data_test  = train_test_split(\n",
    "    data, test_size=0.2, random_state=42)\n",
    "print(data_train.shape,  data_test.shape)"
   ]
  },
  {
   "cell_type": "markdown",
   "metadata": {},
   "source": [
    "Поделил выборку на обучающую:тестовую:валидационную как 60:20:20"
   ]
  },
  {
   "cell_type": "code",
   "execution_count": 271,
   "metadata": {},
   "outputs": [],
   "source": [
    "X_train = data_train.drop('Exited', axis=1)\n",
    "y_train = data_train['Exited']\n",
    "\n",
    "X_test = data_test.drop('Exited', axis=1)\n",
    "y_test = data_test['Exited']\n"
   ]
  },
  {
   "cell_type": "code",
   "execution_count": 272,
   "metadata": {},
   "outputs": [
    {
     "data": {
      "text/html": [
       "<div>\n",
       "<style scoped>\n",
       "    .dataframe tbody tr th:only-of-type {\n",
       "        vertical-align: middle;\n",
       "    }\n",
       "\n",
       "    .dataframe tbody tr th {\n",
       "        vertical-align: top;\n",
       "    }\n",
       "\n",
       "    .dataframe thead th {\n",
       "        text-align: right;\n",
       "    }\n",
       "</style>\n",
       "<table border=\"1\" class=\"dataframe\">\n",
       "  <thead>\n",
       "    <tr style=\"text-align: right;\">\n",
       "      <th></th>\n",
       "      <th>CreditScore</th>\n",
       "      <th>Geography</th>\n",
       "      <th>Gender</th>\n",
       "      <th>Age</th>\n",
       "      <th>Tenure</th>\n",
       "      <th>Balance</th>\n",
       "      <th>NumOfProducts</th>\n",
       "      <th>HasCrCard</th>\n",
       "      <th>IsActiveMember</th>\n",
       "      <th>EstimatedSalary</th>\n",
       "    </tr>\n",
       "  </thead>\n",
       "  <tbody>\n",
       "    <tr>\n",
       "      <th>3955</th>\n",
       "      <td>625.0</td>\n",
       "      <td>France</td>\n",
       "      <td>Male</td>\n",
       "      <td>39.0</td>\n",
       "      <td>2.0</td>\n",
       "      <td>0.00</td>\n",
       "      <td>2.0</td>\n",
       "      <td>1.0</td>\n",
       "      <td>0.0</td>\n",
       "      <td>100403.05</td>\n",
       "    </tr>\n",
       "    <tr>\n",
       "      <th>236</th>\n",
       "      <td>712.0</td>\n",
       "      <td>France</td>\n",
       "      <td>Female</td>\n",
       "      <td>29.0</td>\n",
       "      <td>2.0</td>\n",
       "      <td>0.00</td>\n",
       "      <td>1.0</td>\n",
       "      <td>1.0</td>\n",
       "      <td>1.0</td>\n",
       "      <td>144375.00</td>\n",
       "    </tr>\n",
       "    <tr>\n",
       "      <th>797</th>\n",
       "      <td>488.0</td>\n",
       "      <td>Germany</td>\n",
       "      <td>Male</td>\n",
       "      <td>32.0</td>\n",
       "      <td>3.0</td>\n",
       "      <td>114540.38</td>\n",
       "      <td>1.0</td>\n",
       "      <td>1.0</td>\n",
       "      <td>0.0</td>\n",
       "      <td>92568.07</td>\n",
       "    </tr>\n",
       "    <tr>\n",
       "      <th>9376</th>\n",
       "      <td>567.0</td>\n",
       "      <td>France</td>\n",
       "      <td>Female</td>\n",
       "      <td>47.0</td>\n",
       "      <td>2.0</td>\n",
       "      <td>0.00</td>\n",
       "      <td>1.0</td>\n",
       "      <td>0.0</td>\n",
       "      <td>0.0</td>\n",
       "      <td>110900.43</td>\n",
       "    </tr>\n",
       "    <tr>\n",
       "      <th>8424</th>\n",
       "      <td>702.0</td>\n",
       "      <td>France</td>\n",
       "      <td>Male</td>\n",
       "      <td>26.0</td>\n",
       "      <td>2.0</td>\n",
       "      <td>71281.29</td>\n",
       "      <td>1.0</td>\n",
       "      <td>1.0</td>\n",
       "      <td>1.0</td>\n",
       "      <td>108747.12</td>\n",
       "    </tr>\n",
       "    <tr>\n",
       "      <th>...</th>\n",
       "      <td>...</td>\n",
       "      <td>...</td>\n",
       "      <td>...</td>\n",
       "      <td>...</td>\n",
       "      <td>...</td>\n",
       "      <td>...</td>\n",
       "      <td>...</td>\n",
       "      <td>...</td>\n",
       "      <td>...</td>\n",
       "      <td>...</td>\n",
       "    </tr>\n",
       "    <tr>\n",
       "      <th>164</th>\n",
       "      <td>683.0</td>\n",
       "      <td>Spain</td>\n",
       "      <td>Male</td>\n",
       "      <td>29.0</td>\n",
       "      <td>0.0</td>\n",
       "      <td>133702.89</td>\n",
       "      <td>1.0</td>\n",
       "      <td>1.0</td>\n",
       "      <td>0.0</td>\n",
       "      <td>55582.54</td>\n",
       "    </tr>\n",
       "    <tr>\n",
       "      <th>4935</th>\n",
       "      <td>505.0</td>\n",
       "      <td>Germany</td>\n",
       "      <td>Male</td>\n",
       "      <td>43.0</td>\n",
       "      <td>6.0</td>\n",
       "      <td>127146.68</td>\n",
       "      <td>1.0</td>\n",
       "      <td>0.0</td>\n",
       "      <td>0.0</td>\n",
       "      <td>137565.87</td>\n",
       "    </tr>\n",
       "    <tr>\n",
       "      <th>9856</th>\n",
       "      <td>763.0</td>\n",
       "      <td>Germany</td>\n",
       "      <td>Female</td>\n",
       "      <td>32.0</td>\n",
       "      <td>1.0</td>\n",
       "      <td>108465.65</td>\n",
       "      <td>2.0</td>\n",
       "      <td>1.0</td>\n",
       "      <td>0.0</td>\n",
       "      <td>60552.44</td>\n",
       "    </tr>\n",
       "    <tr>\n",
       "      <th>6249</th>\n",
       "      <td>705.0</td>\n",
       "      <td>France</td>\n",
       "      <td>Female</td>\n",
       "      <td>48.0</td>\n",
       "      <td>0.0</td>\n",
       "      <td>0.00</td>\n",
       "      <td>2.0</td>\n",
       "      <td>0.0</td>\n",
       "      <td>0.0</td>\n",
       "      <td>149772.61</td>\n",
       "    </tr>\n",
       "    <tr>\n",
       "      <th>8495</th>\n",
       "      <td>696.0</td>\n",
       "      <td>France</td>\n",
       "      <td>Male</td>\n",
       "      <td>42.0</td>\n",
       "      <td>4.0</td>\n",
       "      <td>0.00</td>\n",
       "      <td>1.0</td>\n",
       "      <td>0.0</td>\n",
       "      <td>0.0</td>\n",
       "      <td>126353.13</td>\n",
       "    </tr>\n",
       "  </tbody>\n",
       "</table>\n",
       "<p>733 rows × 10 columns</p>\n",
       "</div>"
      ],
      "text/plain": [
       "      CreditScore Geography  Gender   Age  Tenure    Balance  NumOfProducts  \\\n",
       "3955        625.0    France    Male  39.0     2.0       0.00            2.0   \n",
       "236         712.0    France  Female  29.0     2.0       0.00            1.0   \n",
       "797         488.0   Germany    Male  32.0     3.0  114540.38            1.0   \n",
       "9376        567.0    France  Female  47.0     2.0       0.00            1.0   \n",
       "8424        702.0    France    Male  26.0     2.0   71281.29            1.0   \n",
       "...           ...       ...     ...   ...     ...        ...            ...   \n",
       "164         683.0     Spain    Male  29.0     0.0  133702.89            1.0   \n",
       "4935        505.0   Germany    Male  43.0     6.0  127146.68            1.0   \n",
       "9856        763.0   Germany  Female  32.0     1.0  108465.65            2.0   \n",
       "6249        705.0    France  Female  48.0     0.0       0.00            2.0   \n",
       "8495        696.0    France    Male  42.0     4.0       0.00            1.0   \n",
       "\n",
       "      HasCrCard  IsActiveMember  EstimatedSalary  \n",
       "3955        1.0             0.0        100403.05  \n",
       "236         1.0             1.0        144375.00  \n",
       "797         1.0             0.0         92568.07  \n",
       "9376        0.0             0.0        110900.43  \n",
       "8424        1.0             1.0        108747.12  \n",
       "...         ...             ...              ...  \n",
       "164         1.0             0.0         55582.54  \n",
       "4935        0.0             0.0        137565.87  \n",
       "9856        1.0             0.0         60552.44  \n",
       "6249        0.0             0.0        149772.61  \n",
       "8495        0.0             0.0        126353.13  \n",
       "\n",
       "[733 rows x 10 columns]"
      ]
     },
     "execution_count": 272,
     "metadata": {},
     "output_type": "execute_result"
    }
   ],
   "source": [
    "X_test"
   ]
  },
  {
   "cell_type": "code",
   "execution_count": 273,
   "metadata": {},
   "outputs": [],
   "source": [
    "models = [RandomForestClassifier, DecisionTreeClassifier, LogisticRegression]\n",
    "num_cols = ['CreditScore', 'Age', 'Balance', 'EstimatedSalary']"
   ]
  },
  {
   "cell_type": "code",
   "execution_count": 274,
   "metadata": {},
   "outputs": [],
   "source": [
    "def model_testing(X_train, y_train, X_test, y_test, models, metric, num_cols,\n",
    "                  cat_cols=X_train.select_dtypes(include='object').columns):\n",
    "\n",
    "    f1_score_val = 0\n",
    "    roc_auc_valid = 0\n",
    "    pipe_0 = make_pipeline(ColumnTransformer(transformers=[('sts', StandardScaler(), Standart_scale_cols),\n",
    "                                                           ('ohe', OneHotEncoder(), cat_cols)], remainder='passthrough'))\n",
    "\n",
    "    for i in models:\n",
    "\n",
    "        pipe = make_pipeline(pipe_0, i(random_state=42))\n",
    "        pipe.fit(X_train, y_train)\n",
    "        pred = pipe.predict(X_valid)\n",
    "        f1 = f1_score(y_valid, pred)\n",
    "        roc = roc_auc_score(y_valid, pipe.predict_proba(X_valid)[:, -1])\n",
    "\n",
    "        if metric == 'roc_auc':\n",
    "            if roc > roc_auc_valid:\n",
    "                f1_score_val = f1\n",
    "                best_model = pipe\n",
    "                roc_auc_valid = roc\n",
    "        if metric == 'f1_score':\n",
    "            if f1 > f1_score_val:\n",
    "                f1_score_val = f1\n",
    "                best_model = pipe\n",
    "                roc_auc_valid = roc\n",
    "    return f1_score_val, roc_auc_valid, best_model"
   ]
  },
  {
   "cell_type": "code",
   "execution_count": 275,
   "metadata": {},
   "outputs": [],
   "source": [
    "f1_score_val, roc_auc_valid, mod = model_testing(\n",
    "    X_train, y_train, X_test, y_test, models, metric='f1_score', num_cols=num_cols)"
   ]
  },
  {
   "cell_type": "code",
   "execution_count": 276,
   "metadata": {},
   "outputs": [
    {
     "data": {
      "text/plain": [
       "(Pipeline(steps=[('pipeline',\n",
       "                  Pipeline(steps=[('columntransformer',\n",
       "                                   ColumnTransformer(remainder='passthrough',\n",
       "                                                     transformers=[('sts',\n",
       "                                                                    StandardScaler(),\n",
       "                                                                    ['CreditScore',\n",
       "                                                                     'Age',\n",
       "                                                                     'Balance',\n",
       "                                                                     'EstimatedSalary']),\n",
       "                                                                   ('ohe',\n",
       "                                                                    OneHotEncoder(),\n",
       "                                                                    Index(['Geography', 'Gender'], dtype='object'))]))])),\n",
       "                 ('randomforestclassifier',\n",
       "                  RandomForestClassifier(random_state=42))]),\n",
       " 'roc_auc',\n",
       " 0.9546687532603026,\n",
       " 'f1_score',\n",
       " 0.8918558077436582)"
      ]
     },
     "execution_count": 276,
     "metadata": {},
     "output_type": "execute_result"
    }
   ],
   "source": [
    "mod, 'roc_auc', roc_auc_valid, 'f1_score', f1_score_val"
   ]
  },
  {
   "cell_type": "markdown",
   "metadata": {},
   "source": [
    "Лучшая модель из коробки - RandomForestClassifier. XGBClassifier чет ругается"
   ]
  },
  {
   "cell_type": "markdown",
   "metadata": {},
   "source": [
    "## Тестирование модели (GridSearch)"
   ]
  },
  {
   "cell_type": "markdown",
   "metadata": {},
   "source": [
    "Возьмем выборки, которые были избавлены от дисбаланса при помощи бибилиотеки imblearn"
   ]
  },
  {
   "cell_type": "code",
   "execution_count": 277,
   "metadata": {},
   "outputs": [],
   "source": [
    "X_resampled_train, y_resampled_train = RandomUnderSampler(\n",
    "    random_state=42).fit_resample(X_train_imb, y_train_imb)\n",
    "X_train=X_resampled_train\n",
    "y_train=y_resampled_train\n",
    "\n",
    "X_resampled_test, y_resampled_test = RandomUnderSampler(\n",
    "    random_state=42).fit_resample(X_test_imb, y_test_imb)\n",
    "X_test=X_resampled_test\n",
    "y_test=y_resampled_test"
   ]
  },
  {
   "cell_type": "code",
   "execution_count": 278,
   "metadata": {},
   "outputs": [
    {
     "data": {
      "text/html": [
       "<div>\n",
       "<style scoped>\n",
       "    .dataframe tbody tr th:only-of-type {\n",
       "        vertical-align: middle;\n",
       "    }\n",
       "\n",
       "    .dataframe tbody tr th {\n",
       "        vertical-align: top;\n",
       "    }\n",
       "\n",
       "    .dataframe thead th {\n",
       "        text-align: right;\n",
       "    }\n",
       "</style>\n",
       "<table border=\"1\" class=\"dataframe\">\n",
       "  <thead>\n",
       "    <tr style=\"text-align: right;\">\n",
       "      <th></th>\n",
       "      <th>CreditScore</th>\n",
       "      <th>Geography</th>\n",
       "      <th>Gender</th>\n",
       "      <th>Age</th>\n",
       "      <th>Tenure</th>\n",
       "      <th>Balance</th>\n",
       "      <th>NumOfProducts</th>\n",
       "      <th>HasCrCard</th>\n",
       "      <th>IsActiveMember</th>\n",
       "      <th>EstimatedSalary</th>\n",
       "    </tr>\n",
       "  </thead>\n",
       "  <tbody>\n",
       "    <tr>\n",
       "      <th>0</th>\n",
       "      <td>742</td>\n",
       "      <td>Germany</td>\n",
       "      <td>Male</td>\n",
       "      <td>33</td>\n",
       "      <td>0.0</td>\n",
       "      <td>181656.51</td>\n",
       "      <td>1</td>\n",
       "      <td>1</td>\n",
       "      <td>1</td>\n",
       "      <td>107667.91</td>\n",
       "    </tr>\n",
       "    <tr>\n",
       "      <th>1</th>\n",
       "      <td>627</td>\n",
       "      <td>Germany</td>\n",
       "      <td>Male</td>\n",
       "      <td>52</td>\n",
       "      <td>1.0</td>\n",
       "      <td>76101.81</td>\n",
       "      <td>2</td>\n",
       "      <td>0</td>\n",
       "      <td>1</td>\n",
       "      <td>177238.35</td>\n",
       "    </tr>\n",
       "    <tr>\n",
       "      <th>2</th>\n",
       "      <td>850</td>\n",
       "      <td>France</td>\n",
       "      <td>Male</td>\n",
       "      <td>35</td>\n",
       "      <td>2.0</td>\n",
       "      <td>0.00</td>\n",
       "      <td>2</td>\n",
       "      <td>1</td>\n",
       "      <td>1</td>\n",
       "      <td>56991.66</td>\n",
       "    </tr>\n",
       "    <tr>\n",
       "      <th>3</th>\n",
       "      <td>676</td>\n",
       "      <td>Germany</td>\n",
       "      <td>Male</td>\n",
       "      <td>28</td>\n",
       "      <td>1.0</td>\n",
       "      <td>69459.05</td>\n",
       "      <td>2</td>\n",
       "      <td>1</td>\n",
       "      <td>1</td>\n",
       "      <td>128461.29</td>\n",
       "    </tr>\n",
       "    <tr>\n",
       "      <th>4</th>\n",
       "      <td>654</td>\n",
       "      <td>France</td>\n",
       "      <td>Male</td>\n",
       "      <td>29</td>\n",
       "      <td>1.0</td>\n",
       "      <td>0.00</td>\n",
       "      <td>1</td>\n",
       "      <td>1</td>\n",
       "      <td>0</td>\n",
       "      <td>180345.44</td>\n",
       "    </tr>\n",
       "    <tr>\n",
       "      <th>...</th>\n",
       "      <td>...</td>\n",
       "      <td>...</td>\n",
       "      <td>...</td>\n",
       "      <td>...</td>\n",
       "      <td>...</td>\n",
       "      <td>...</td>\n",
       "      <td>...</td>\n",
       "      <td>...</td>\n",
       "      <td>...</td>\n",
       "      <td>...</td>\n",
       "    </tr>\n",
       "    <tr>\n",
       "      <th>743</th>\n",
       "      <td>629</td>\n",
       "      <td>France</td>\n",
       "      <td>Male</td>\n",
       "      <td>59</td>\n",
       "      <td>9.0</td>\n",
       "      <td>113657.83</td>\n",
       "      <td>1</td>\n",
       "      <td>1</td>\n",
       "      <td>1</td>\n",
       "      <td>116848.79</td>\n",
       "    </tr>\n",
       "    <tr>\n",
       "      <th>744</th>\n",
       "      <td>688</td>\n",
       "      <td>Spain</td>\n",
       "      <td>Female</td>\n",
       "      <td>33</td>\n",
       "      <td>2.0</td>\n",
       "      <td>0.00</td>\n",
       "      <td>1</td>\n",
       "      <td>0</td>\n",
       "      <td>0</td>\n",
       "      <td>27557.18</td>\n",
       "    </tr>\n",
       "    <tr>\n",
       "      <th>745</th>\n",
       "      <td>781</td>\n",
       "      <td>France</td>\n",
       "      <td>Male</td>\n",
       "      <td>38</td>\n",
       "      <td>2.0</td>\n",
       "      <td>117810.79</td>\n",
       "      <td>1</td>\n",
       "      <td>0</td>\n",
       "      <td>1</td>\n",
       "      <td>65632.33</td>\n",
       "    </tr>\n",
       "    <tr>\n",
       "      <th>746</th>\n",
       "      <td>601</td>\n",
       "      <td>France</td>\n",
       "      <td>Female</td>\n",
       "      <td>40</td>\n",
       "      <td>3.0</td>\n",
       "      <td>92055.36</td>\n",
       "      <td>1</td>\n",
       "      <td>0</td>\n",
       "      <td>1</td>\n",
       "      <td>164652.02</td>\n",
       "    </tr>\n",
       "    <tr>\n",
       "      <th>747</th>\n",
       "      <td>538</td>\n",
       "      <td>Spain</td>\n",
       "      <td>Female</td>\n",
       "      <td>49</td>\n",
       "      <td>9.0</td>\n",
       "      <td>141434.04</td>\n",
       "      <td>1</td>\n",
       "      <td>0</td>\n",
       "      <td>0</td>\n",
       "      <td>173779.25</td>\n",
       "    </tr>\n",
       "  </tbody>\n",
       "</table>\n",
       "<p>748 rows × 10 columns</p>\n",
       "</div>"
      ],
      "text/plain": [
       "     CreditScore Geography  Gender  Age  Tenure    Balance  NumOfProducts  \\\n",
       "0            742   Germany    Male   33     0.0  181656.51              1   \n",
       "1            627   Germany    Male   52     1.0   76101.81              2   \n",
       "2            850    France    Male   35     2.0       0.00              2   \n",
       "3            676   Germany    Male   28     1.0   69459.05              2   \n",
       "4            654    France    Male   29     1.0       0.00              1   \n",
       "..           ...       ...     ...  ...     ...        ...            ...   \n",
       "743          629    France    Male   59     9.0  113657.83              1   \n",
       "744          688     Spain  Female   33     2.0       0.00              1   \n",
       "745          781    France    Male   38     2.0  117810.79              1   \n",
       "746          601    France  Female   40     3.0   92055.36              1   \n",
       "747          538     Spain  Female   49     9.0  141434.04              1   \n",
       "\n",
       "     HasCrCard  IsActiveMember  EstimatedSalary  \n",
       "0            1               1        107667.91  \n",
       "1            0               1        177238.35  \n",
       "2            1               1         56991.66  \n",
       "3            1               1        128461.29  \n",
       "4            1               0        180345.44  \n",
       "..         ...             ...              ...  \n",
       "743          1               1        116848.79  \n",
       "744          0               0         27557.18  \n",
       "745          0               1         65632.33  \n",
       "746          0               1        164652.02  \n",
       "747          0               0        173779.25  \n",
       "\n",
       "[748 rows x 10 columns]"
      ]
     },
     "execution_count": 278,
     "metadata": {},
     "output_type": "execute_result"
    }
   ],
   "source": [
    "X_test"
   ]
  },
  {
   "cell_type": "markdown",
   "metadata": {},
   "source": [
    "X_test_imb \n",
    "y_test_imb"
   ]
  },
  {
   "cell_type": "markdown",
   "metadata": {},
   "source": [
    "И теперь протестируем лучшую модели на тестовых выборках"
   ]
  },
  {
   "cell_type": "code",
   "execution_count": 279,
   "metadata": {},
   "outputs": [
    {
     "name": "stdout",
     "output_type": "stream",
     "text": [
      "0.7709543623948714 {'n_estimators': 70, 'min_samples_split': 4, 'min_samples_leaf': 2, 'max_depth': 11, 'class_weight': None}\n"
     ]
    }
   ],
   "source": [
    "param_grid = {'n_estimators': range(70, 120, 5),\n",
    "              'max_depth':np.arange(1, 12, 1),\n",
    "              'min_samples_split':range(2, 6),\n",
    "              'min_samples_leaf':range(1, 3),\n",
    "              'class_weight':[None, 'balanced']\n",
    "             }\n",
    "grd_rf = RandomizedSearchCV(rf, param_distributions=param_grid,cv=5, scoring='f1', n_jobs=4,random_state=42)\n",
    "pipe_grd_rf = make_pipeline(ColumnTransformer(transformers=[('sts', StandardScaler(), Standart_scale_cols),\n",
    "                                                           ('ohe', OneHotEncoder(), cat_cols)],\n",
    "                                             remainder='passthrough'),\n",
    "                           grd_rf)\n",
    "\n",
    "pipe_grd_rf.fit(X_resampled_train,y_resampled_train)\n",
    "print(grd_rf.best_score_,grd_rf.best_params_)"
   ]
  },
  {
   "cell_type": "code",
   "execution_count": 280,
   "metadata": {},
   "outputs": [
    {
     "data": {
      "text/html": [
       "<style>#sk-container-id-16 {color: black;background-color: white;}#sk-container-id-16 pre{padding: 0;}#sk-container-id-16 div.sk-toggleable {background-color: white;}#sk-container-id-16 label.sk-toggleable__label {cursor: pointer;display: block;width: 100%;margin-bottom: 0;padding: 0.3em;box-sizing: border-box;text-align: center;}#sk-container-id-16 label.sk-toggleable__label-arrow:before {content: \"▸\";float: left;margin-right: 0.25em;color: #696969;}#sk-container-id-16 label.sk-toggleable__label-arrow:hover:before {color: black;}#sk-container-id-16 div.sk-estimator:hover label.sk-toggleable__label-arrow:before {color: black;}#sk-container-id-16 div.sk-toggleable__content {max-height: 0;max-width: 0;overflow: hidden;text-align: left;background-color: #f0f8ff;}#sk-container-id-16 div.sk-toggleable__content pre {margin: 0.2em;color: black;border-radius: 0.25em;background-color: #f0f8ff;}#sk-container-id-16 input.sk-toggleable__control:checked~div.sk-toggleable__content {max-height: 200px;max-width: 100%;overflow: auto;}#sk-container-id-16 input.sk-toggleable__control:checked~label.sk-toggleable__label-arrow:before {content: \"▾\";}#sk-container-id-16 div.sk-estimator input.sk-toggleable__control:checked~label.sk-toggleable__label {background-color: #d4ebff;}#sk-container-id-16 div.sk-label input.sk-toggleable__control:checked~label.sk-toggleable__label {background-color: #d4ebff;}#sk-container-id-16 input.sk-hidden--visually {border: 0;clip: rect(1px 1px 1px 1px);clip: rect(1px, 1px, 1px, 1px);height: 1px;margin: -1px;overflow: hidden;padding: 0;position: absolute;width: 1px;}#sk-container-id-16 div.sk-estimator {font-family: monospace;background-color: #f0f8ff;border: 1px dotted black;border-radius: 0.25em;box-sizing: border-box;margin-bottom: 0.5em;}#sk-container-id-16 div.sk-estimator:hover {background-color: #d4ebff;}#sk-container-id-16 div.sk-parallel-item::after {content: \"\";width: 100%;border-bottom: 1px solid gray;flex-grow: 1;}#sk-container-id-16 div.sk-label:hover label.sk-toggleable__label {background-color: #d4ebff;}#sk-container-id-16 div.sk-serial::before {content: \"\";position: absolute;border-left: 1px solid gray;box-sizing: border-box;top: 0;bottom: 0;left: 50%;z-index: 0;}#sk-container-id-16 div.sk-serial {display: flex;flex-direction: column;align-items: center;background-color: white;padding-right: 0.2em;padding-left: 0.2em;position: relative;}#sk-container-id-16 div.sk-item {position: relative;z-index: 1;}#sk-container-id-16 div.sk-parallel {display: flex;align-items: stretch;justify-content: center;background-color: white;position: relative;}#sk-container-id-16 div.sk-item::before, #sk-container-id-16 div.sk-parallel-item::before {content: \"\";position: absolute;border-left: 1px solid gray;box-sizing: border-box;top: 0;bottom: 0;left: 50%;z-index: -1;}#sk-container-id-16 div.sk-parallel-item {display: flex;flex-direction: column;z-index: 1;position: relative;background-color: white;}#sk-container-id-16 div.sk-parallel-item:first-child::after {align-self: flex-end;width: 50%;}#sk-container-id-16 div.sk-parallel-item:last-child::after {align-self: flex-start;width: 50%;}#sk-container-id-16 div.sk-parallel-item:only-child::after {width: 0;}#sk-container-id-16 div.sk-dashed-wrapped {border: 1px dashed gray;margin: 0 0.4em 0.5em 0.4em;box-sizing: border-box;padding-bottom: 0.4em;background-color: white;}#sk-container-id-16 div.sk-label label {font-family: monospace;font-weight: bold;display: inline-block;line-height: 1.2em;}#sk-container-id-16 div.sk-label-container {text-align: center;}#sk-container-id-16 div.sk-container {/* jupyter's `normalize.less` sets `[hidden] { display: none; }` but bootstrap.min.css set `[hidden] { display: none !important; }` so we also need the `!important` here to be able to override the default hidden behavior on the sphinx rendered scikit-learn.org. See: https://github.com/scikit-learn/scikit-learn/issues/21755 */display: inline-block !important;position: relative;}#sk-container-id-16 div.sk-text-repr-fallback {display: none;}</style><div id=\"sk-container-id-16\" class=\"sk-top-container\"><div class=\"sk-text-repr-fallback\"><pre>Pipeline(steps=[(&#x27;columntr&#x27;,\n",
       "                 ColumnTransformer(remainder=&#x27;passthrough&#x27;,\n",
       "                                   transformers=[(&#x27;ord&#x27;, OrdinalEncoder(),\n",
       "                                                  Index([&#x27;Geography&#x27;, &#x27;Gender&#x27;], dtype=&#x27;object&#x27;))])),\n",
       "                (&#x27;smote&#x27;, SMOTE(random_state=42)),\n",
       "                (&#x27;RandForest&#x27;,\n",
       "                 RandomForestClassifier(max_depth=11, min_samples_leaf=2,\n",
       "                                        min_samples_split=4, n_estimators=70,\n",
       "                                        random_state=42))])</pre><b>In a Jupyter environment, please rerun this cell to show the HTML representation or trust the notebook. <br />On GitHub, the HTML representation is unable to render, please try loading this page with nbviewer.org.</b></div><div class=\"sk-container\" hidden><div class=\"sk-item sk-dashed-wrapped\"><div class=\"sk-label-container\"><div class=\"sk-label sk-toggleable\"><input class=\"sk-toggleable__control sk-hidden--visually\" id=\"sk-estimator-id-112\" type=\"checkbox\" ><label for=\"sk-estimator-id-112\" class=\"sk-toggleable__label sk-toggleable__label-arrow\">Pipeline</label><div class=\"sk-toggleable__content\"><pre>Pipeline(steps=[(&#x27;columntr&#x27;,\n",
       "                 ColumnTransformer(remainder=&#x27;passthrough&#x27;,\n",
       "                                   transformers=[(&#x27;ord&#x27;, OrdinalEncoder(),\n",
       "                                                  Index([&#x27;Geography&#x27;, &#x27;Gender&#x27;], dtype=&#x27;object&#x27;))])),\n",
       "                (&#x27;smote&#x27;, SMOTE(random_state=42)),\n",
       "                (&#x27;RandForest&#x27;,\n",
       "                 RandomForestClassifier(max_depth=11, min_samples_leaf=2,\n",
       "                                        min_samples_split=4, n_estimators=70,\n",
       "                                        random_state=42))])</pre></div></div></div><div class=\"sk-serial\"><div class=\"sk-item sk-dashed-wrapped\"><div class=\"sk-label-container\"><div class=\"sk-label sk-toggleable\"><input class=\"sk-toggleable__control sk-hidden--visually\" id=\"sk-estimator-id-113\" type=\"checkbox\" ><label for=\"sk-estimator-id-113\" class=\"sk-toggleable__label sk-toggleable__label-arrow\">columntr: ColumnTransformer</label><div class=\"sk-toggleable__content\"><pre>ColumnTransformer(remainder=&#x27;passthrough&#x27;,\n",
       "                  transformers=[(&#x27;ord&#x27;, OrdinalEncoder(),\n",
       "                                 Index([&#x27;Geography&#x27;, &#x27;Gender&#x27;], dtype=&#x27;object&#x27;))])</pre></div></div></div><div class=\"sk-parallel\"><div class=\"sk-parallel-item\"><div class=\"sk-item\"><div class=\"sk-label-container\"><div class=\"sk-label sk-toggleable\"><input class=\"sk-toggleable__control sk-hidden--visually\" id=\"sk-estimator-id-114\" type=\"checkbox\" ><label for=\"sk-estimator-id-114\" class=\"sk-toggleable__label sk-toggleable__label-arrow\">ord</label><div class=\"sk-toggleable__content\"><pre>Index([&#x27;Geography&#x27;, &#x27;Gender&#x27;], dtype=&#x27;object&#x27;)</pre></div></div></div><div class=\"sk-serial\"><div class=\"sk-item\"><div class=\"sk-estimator sk-toggleable\"><input class=\"sk-toggleable__control sk-hidden--visually\" id=\"sk-estimator-id-115\" type=\"checkbox\" ><label for=\"sk-estimator-id-115\" class=\"sk-toggleable__label sk-toggleable__label-arrow\">OrdinalEncoder</label><div class=\"sk-toggleable__content\"><pre>OrdinalEncoder()</pre></div></div></div></div></div></div><div class=\"sk-parallel-item\"><div class=\"sk-item\"><div class=\"sk-label-container\"><div class=\"sk-label sk-toggleable\"><input class=\"sk-toggleable__control sk-hidden--visually\" id=\"sk-estimator-id-116\" type=\"checkbox\" ><label for=\"sk-estimator-id-116\" class=\"sk-toggleable__label sk-toggleable__label-arrow\">remainder</label><div class=\"sk-toggleable__content\"><pre>[&#x27;CreditScore&#x27;, &#x27;Age&#x27;, &#x27;Tenure&#x27;, &#x27;Balance&#x27;, &#x27;NumOfProducts&#x27;, &#x27;HasCrCard&#x27;, &#x27;IsActiveMember&#x27;, &#x27;EstimatedSalary&#x27;]</pre></div></div></div><div class=\"sk-serial\"><div class=\"sk-item\"><div class=\"sk-estimator sk-toggleable\"><input class=\"sk-toggleable__control sk-hidden--visually\" id=\"sk-estimator-id-117\" type=\"checkbox\" ><label for=\"sk-estimator-id-117\" class=\"sk-toggleable__label sk-toggleable__label-arrow\">passthrough</label><div class=\"sk-toggleable__content\"><pre>passthrough</pre></div></div></div></div></div></div></div></div><div class=\"sk-item\"><div class=\"sk-estimator sk-toggleable\"><input class=\"sk-toggleable__control sk-hidden--visually\" id=\"sk-estimator-id-118\" type=\"checkbox\" ><label for=\"sk-estimator-id-118\" class=\"sk-toggleable__label sk-toggleable__label-arrow\">SMOTE</label><div class=\"sk-toggleable__content\"><pre>SMOTE(random_state=42)</pre></div></div></div><div class=\"sk-item\"><div class=\"sk-estimator sk-toggleable\"><input class=\"sk-toggleable__control sk-hidden--visually\" id=\"sk-estimator-id-119\" type=\"checkbox\" ><label for=\"sk-estimator-id-119\" class=\"sk-toggleable__label sk-toggleable__label-arrow\">RandomForestClassifier</label><div class=\"sk-toggleable__content\"><pre>RandomForestClassifier(max_depth=11, min_samples_leaf=2, min_samples_split=4,\n",
       "                       n_estimators=70, random_state=42)</pre></div></div></div></div></div></div></div>"
      ],
      "text/plain": [
       "Pipeline(steps=[('columntr',\n",
       "                 ColumnTransformer(remainder='passthrough',\n",
       "                                   transformers=[('ord', OrdinalEncoder(),\n",
       "                                                  Index(['Geography', 'Gender'], dtype='object'))])),\n",
       "                ('smote', SMOTE(random_state=42)),\n",
       "                ('RandForest',\n",
       "                 RandomForestClassifier(max_depth=11, min_samples_leaf=2,\n",
       "                                        min_samples_split=4, n_estimators=70,\n",
       "                                        random_state=42))])"
      ]
     },
     "execution_count": 280,
     "metadata": {},
     "output_type": "execute_result"
    }
   ],
   "source": [
    "ctm = ColumnTransformer(\n",
    "    transformers=[('ord', OrdinalEncoder(), cat_cols)], remainder='passthrough')\n",
    "pipe_over = Pipeline([('columntr', ctm),\n",
    "                      ('smote', SMOTE(random_state=42)),\n",
    "                      ('RandForest', grd_rf.best_estimator_)])\n",
    "pipe_over.fit(X_train,y_train)"
   ]
  },
  {
   "cell_type": "code",
   "execution_count": 281,
   "metadata": {},
   "outputs": [
    {
     "name": "stdout",
     "output_type": "stream",
     "text": [
      "________________________________________________________________________\n",
      "{'n_estimators': 70, 'min_samples_split': 4, 'min_samples_leaf': 2, 'max_depth': 11, 'class_weight': None}\n",
      "________________________________________________________________________\n",
      "тестовая выборка:               precision    recall  f1-score   support\n",
      "\n",
      "           0       0.75      0.79      0.77       374\n",
      "           1       0.78      0.74      0.76       374\n",
      "\n",
      "    accuracy                           0.76       748\n",
      "   macro avg       0.76      0.76      0.76       748\n",
      "weighted avg       0.76      0.76      0.76       748\n",
      "\n",
      "________________________________________________________________________\n",
      "Roc_Auc 0.8422531384940949\n"
     ]
    }
   ],
   "source": [
    "print('__'*36)\n",
    "print(grd_rf.best_params_)\n",
    "\n",
    "print('__'*36)\n",
    "print('тестовая выборка:',\n",
    "      classification_report(y_test, pipe_over.predict(X_test))\n",
    "      )\n",
    "print('__'*36)\n",
    "print('Roc_Auc', roc_auc_score(y_test, pipe_over.predict_proba(X_test)[:, -1]))"
   ]
  },
  {
   "cell_type": "code",
   "execution_count": 282,
   "metadata": {},
   "outputs": [
    {
     "data": {
      "image/png": "[encoded data removed]",
      "text/plain": [
       "<Figure size 432x288 with 1 Axes>"
      ]
     },
     "metadata": {
      "needs_background": "light"
     },
     "output_type": "display_data"
    }
   ],
   "source": [
    "fig, ax = plt.subplots()\n",
    "RocCurveDisplay.from_predictions(\n",
    "    y_test, pipe_over.predict_proba(X_test)[:, -1], ax=ax)\n",
    "ax.plot([0, 1], [0, 1], label='0,5', linestyle='--')\n",
    "ax.set_title('ROC-Curve')\n",
    "ax.grid(True)\n",
    "plt.legend()\n",
    "plt.show()"
   ]
  },
  {
   "cell_type": "code",
   "execution_count": null,
   "metadata": {},
   "outputs": [],
   "source": []
  },
  {
   "cell_type": "markdown",
   "metadata": {},
   "source": [
    "По итогу на тесте было получено f1 -мера 0,76, и roc_auc_score  0.842"
   ]
  },
  {
   "cell_type": "markdown",
   "metadata": {},
   "source": [
    "## Моя гипотеза с другими фичами"
   ]
  },
  {
   "cell_type": "markdown",
   "metadata": {},
   "source": [
    "Я имею гипотезу, что наилучший результат покажет модель с фичами Geography, Gender,NumOfProducts, IsActiveMember,Balance,Age. возможно потом ее проверю"
   ]
  },
  {
   "cell_type": "code",
   "execution_count": 283,
   "metadata": {},
   "outputs": [
    {
     "name": "stdout",
     "output_type": "stream",
     "text": [
      "(2197, 7) (733, 7) (733, 7)\n"
     ]
    }
   ],
   "source": [
    "data2 = data[['Geography', 'Gender', 'NumOfProducts',\n",
    "              'IsActiveMember', 'Balance', 'Age', 'Exited']].copy()\n",
    "data_train, data_tes_val = train_test_split(\n",
    "    data2, test_size=0.4, random_state=42)\n",
    "data_valid, data_test = train_test_split(\n",
    "    data_tes_val, test_size=0.5, random_state=42)\n",
    "print(data_train.shape, data_valid.shape, data_test.shape)\n",
    "\n",
    "X_train2 = data_train.drop('Exited', axis=1)\n",
    "y_train2 = data_train['Exited']\n",
    "\n",
    "X_test2 = data_test.drop('Exited', axis=1)\n",
    "y_test2 = data_test['Exited']\n",
    "\n",
    "X_valid2 = data_valid.drop('Exited', axis=1)\n",
    "y_valid2 = data_valid['Exited']"
   ]
  },
  {
   "cell_type": "code",
   "execution_count": 284,
   "metadata": {},
   "outputs": [
    {
     "data": {
      "text/html": [
       "<div>\n",
       "<style scoped>\n",
       "    .dataframe tbody tr th:only-of-type {\n",
       "        vertical-align: middle;\n",
       "    }\n",
       "\n",
       "    .dataframe tbody tr th {\n",
       "        vertical-align: top;\n",
       "    }\n",
       "\n",
       "    .dataframe thead th {\n",
       "        text-align: right;\n",
       "    }\n",
       "</style>\n",
       "<table border=\"1\" class=\"dataframe\">\n",
       "  <thead>\n",
       "    <tr style=\"text-align: right;\">\n",
       "      <th></th>\n",
       "      <th>Geography</th>\n",
       "      <th>Gender</th>\n",
       "      <th>NumOfProducts</th>\n",
       "      <th>IsActiveMember</th>\n",
       "      <th>Balance</th>\n",
       "      <th>Age</th>\n",
       "    </tr>\n",
       "  </thead>\n",
       "  <tbody>\n",
       "    <tr>\n",
       "      <th>7240</th>\n",
       "      <td>France</td>\n",
       "      <td>Female</td>\n",
       "      <td>1.0</td>\n",
       "      <td>0.0</td>\n",
       "      <td>98877.95</td>\n",
       "      <td>32.0</td>\n",
       "    </tr>\n",
       "    <tr>\n",
       "      <th>6023</th>\n",
       "      <td>France</td>\n",
       "      <td>Female</td>\n",
       "      <td>1.0</td>\n",
       "      <td>1.0</td>\n",
       "      <td>83036.05</td>\n",
       "      <td>33.0</td>\n",
       "    </tr>\n",
       "    <tr>\n",
       "      <th>3658</th>\n",
       "      <td>France</td>\n",
       "      <td>Female</td>\n",
       "      <td>1.0</td>\n",
       "      <td>0.0</td>\n",
       "      <td>80764.03</td>\n",
       "      <td>43.0</td>\n",
       "    </tr>\n",
       "    <tr>\n",
       "      <th>3406</th>\n",
       "      <td>Spain</td>\n",
       "      <td>Female</td>\n",
       "      <td>1.0</td>\n",
       "      <td>0.0</td>\n",
       "      <td>80922.75</td>\n",
       "      <td>29.0</td>\n",
       "    </tr>\n",
       "    <tr>\n",
       "      <th>894</th>\n",
       "      <td>Germany</td>\n",
       "      <td>Female</td>\n",
       "      <td>2.0</td>\n",
       "      <td>0.0</td>\n",
       "      <td>125884.95</td>\n",
       "      <td>35.0</td>\n",
       "    </tr>\n",
       "    <tr>\n",
       "      <th>...</th>\n",
       "      <td>...</td>\n",
       "      <td>...</td>\n",
       "      <td>...</td>\n",
       "      <td>...</td>\n",
       "      <td>...</td>\n",
       "      <td>...</td>\n",
       "    </tr>\n",
       "    <tr>\n",
       "      <th>3000</th>\n",
       "      <td>France</td>\n",
       "      <td>Female</td>\n",
       "      <td>2.0</td>\n",
       "      <td>1.0</td>\n",
       "      <td>0.00</td>\n",
       "      <td>40.0</td>\n",
       "    </tr>\n",
       "    <tr>\n",
       "      <th>3435</th>\n",
       "      <td>Germany</td>\n",
       "      <td>Female</td>\n",
       "      <td>1.0</td>\n",
       "      <td>1.0</td>\n",
       "      <td>89437.03</td>\n",
       "      <td>34.0</td>\n",
       "    </tr>\n",
       "    <tr>\n",
       "      <th>2265</th>\n",
       "      <td>France</td>\n",
       "      <td>Female</td>\n",
       "      <td>2.0</td>\n",
       "      <td>0.0</td>\n",
       "      <td>0.00</td>\n",
       "      <td>35.0</td>\n",
       "    </tr>\n",
       "    <tr>\n",
       "      <th>9558</th>\n",
       "      <td>Spain</td>\n",
       "      <td>Male</td>\n",
       "      <td>1.0</td>\n",
       "      <td>0.0</td>\n",
       "      <td>0.00</td>\n",
       "      <td>46.0</td>\n",
       "    </tr>\n",
       "    <tr>\n",
       "      <th>8597</th>\n",
       "      <td>Germany</td>\n",
       "      <td>Female</td>\n",
       "      <td>2.0</td>\n",
       "      <td>1.0</td>\n",
       "      <td>113781.50</td>\n",
       "      <td>53.0</td>\n",
       "    </tr>\n",
       "  </tbody>\n",
       "</table>\n",
       "<p>2197 rows × 6 columns</p>\n",
       "</div>"
      ],
      "text/plain": [
       "     Geography  Gender  NumOfProducts  IsActiveMember    Balance   Age\n",
       "7240    France  Female            1.0             0.0   98877.95  32.0\n",
       "6023    France  Female            1.0             1.0   83036.05  33.0\n",
       "3658    France  Female            1.0             0.0   80764.03  43.0\n",
       "3406     Spain  Female            1.0             0.0   80922.75  29.0\n",
       "894    Germany  Female            2.0             0.0  125884.95  35.0\n",
       "...        ...     ...            ...             ...        ...   ...\n",
       "3000    France  Female            2.0             1.0       0.00  40.0\n",
       "3435   Germany  Female            1.0             1.0   89437.03  34.0\n",
       "2265    France  Female            2.0             0.0       0.00  35.0\n",
       "9558     Spain    Male            1.0             0.0       0.00  46.0\n",
       "8597   Germany  Female            2.0             1.0  113781.50  53.0\n",
       "\n",
       "[2197 rows x 6 columns]"
      ]
     },
     "execution_count": 284,
     "metadata": {},
     "output_type": "execute_result"
    }
   ],
   "source": [
    "X_train2"
   ]
  },
  {
   "cell_type": "code",
   "execution_count": 285,
   "metadata": {},
   "outputs": [],
   "source": [
    "Standart_scale_cols = ['Age', 'Balance']\n",
    "cat_cols = X_train2.select_dtypes(include='object').columns"
   ]
  },
  {
   "cell_type": "code",
   "execution_count": 286,
   "metadata": {},
   "outputs": [
    {
     "data": {
      "text/html": [
       "<style>#sk-container-id-17 {color: black;background-color: white;}#sk-container-id-17 pre{padding: 0;}#sk-container-id-17 div.sk-toggleable {background-color: white;}#sk-container-id-17 label.sk-toggleable__label {cursor: pointer;display: block;width: 100%;margin-bottom: 0;padding: 0.3em;box-sizing: border-box;text-align: center;}#sk-container-id-17 label.sk-toggleable__label-arrow:before {content: \"▸\";float: left;margin-right: 0.25em;color: #696969;}#sk-container-id-17 label.sk-toggleable__label-arrow:hover:before {color: black;}#sk-container-id-17 div.sk-estimator:hover label.sk-toggleable__label-arrow:before {color: black;}#sk-container-id-17 div.sk-toggleable__content {max-height: 0;max-width: 0;overflow: hidden;text-align: left;background-color: #f0f8ff;}#sk-container-id-17 div.sk-toggleable__content pre {margin: 0.2em;color: black;border-radius: 0.25em;background-color: #f0f8ff;}#sk-container-id-17 input.sk-toggleable__control:checked~div.sk-toggleable__content {max-height: 200px;max-width: 100%;overflow: auto;}#sk-container-id-17 input.sk-toggleable__control:checked~label.sk-toggleable__label-arrow:before {content: \"▾\";}#sk-container-id-17 div.sk-estimator input.sk-toggleable__control:checked~label.sk-toggleable__label {background-color: #d4ebff;}#sk-container-id-17 div.sk-label input.sk-toggleable__control:checked~label.sk-toggleable__label {background-color: #d4ebff;}#sk-container-id-17 input.sk-hidden--visually {border: 0;clip: rect(1px 1px 1px 1px);clip: rect(1px, 1px, 1px, 1px);height: 1px;margin: -1px;overflow: hidden;padding: 0;position: absolute;width: 1px;}#sk-container-id-17 div.sk-estimator {font-family: monospace;background-color: #f0f8ff;border: 1px dotted black;border-radius: 0.25em;box-sizing: border-box;margin-bottom: 0.5em;}#sk-container-id-17 div.sk-estimator:hover {background-color: #d4ebff;}#sk-container-id-17 div.sk-parallel-item::after {content: \"\";width: 100%;border-bottom: 1px solid gray;flex-grow: 1;}#sk-container-id-17 div.sk-label:hover label.sk-toggleable__label {background-color: #d4ebff;}#sk-container-id-17 div.sk-serial::before {content: \"\";position: absolute;border-left: 1px solid gray;box-sizing: border-box;top: 0;bottom: 0;left: 50%;z-index: 0;}#sk-container-id-17 div.sk-serial {display: flex;flex-direction: column;align-items: center;background-color: white;padding-right: 0.2em;padding-left: 0.2em;position: relative;}#sk-container-id-17 div.sk-item {position: relative;z-index: 1;}#sk-container-id-17 div.sk-parallel {display: flex;align-items: stretch;justify-content: center;background-color: white;position: relative;}#sk-container-id-17 div.sk-item::before, #sk-container-id-17 div.sk-parallel-item::before {content: \"\";position: absolute;border-left: 1px solid gray;box-sizing: border-box;top: 0;bottom: 0;left: 50%;z-index: -1;}#sk-container-id-17 div.sk-parallel-item {display: flex;flex-direction: column;z-index: 1;position: relative;background-color: white;}#sk-container-id-17 div.sk-parallel-item:first-child::after {align-self: flex-end;width: 50%;}#sk-container-id-17 div.sk-parallel-item:last-child::after {align-self: flex-start;width: 50%;}#sk-container-id-17 div.sk-parallel-item:only-child::after {width: 0;}#sk-container-id-17 div.sk-dashed-wrapped {border: 1px dashed gray;margin: 0 0.4em 0.5em 0.4em;box-sizing: border-box;padding-bottom: 0.4em;background-color: white;}#sk-container-id-17 div.sk-label label {font-family: monospace;font-weight: bold;display: inline-block;line-height: 1.2em;}#sk-container-id-17 div.sk-label-container {text-align: center;}#sk-container-id-17 div.sk-container {/* jupyter's `normalize.less` sets `[hidden] { display: none; }` but bootstrap.min.css set `[hidden] { display: none !important; }` so we also need the `!important` here to be able to override the default hidden behavior on the sphinx rendered scikit-learn.org. See: https://github.com/scikit-learn/scikit-learn/issues/21755 */display: inline-block !important;position: relative;}#sk-container-id-17 div.sk-text-repr-fallback {display: none;}</style><div id=\"sk-container-id-17\" class=\"sk-top-container\"><div class=\"sk-text-repr-fallback\"><pre>Pipeline(steps=[(&#x27;columntransformer&#x27;,\n",
       "                 ColumnTransformer(remainder=&#x27;passthrough&#x27;,\n",
       "                                   transformers=[(&#x27;sts&#x27;, StandardScaler(),\n",
       "                                                  [&#x27;Age&#x27;, &#x27;Balance&#x27;]),\n",
       "                                                 (&#x27;ohe&#x27;, OneHotEncoder(),\n",
       "                                                  Index([&#x27;Geography&#x27;, &#x27;Gender&#x27;], dtype=&#x27;object&#x27;))])),\n",
       "                (&#x27;gridsearchcv&#x27;,\n",
       "                 GridSearchCV(cv=5,\n",
       "                              estimator=RandomForestClassifier(random_state=42),\n",
       "                              n_jobs=-1,\n",
       "                              param_grid={&#x27;criterion&#x27;: [&#x27;gini&#x27;, &#x27;entropy&#x27;],\n",
       "                                          &#x27;max_depth&#x27;: array([5, 6, 7, 8, 9]),\n",
       "                                          &#x27;n_estimators&#x27;: array([46, 47, 48, 49, 50, 51, 52, 53, 54, 55, 56, 57, 58, 59])},\n",
       "                              scoring=&#x27;f1&#x27;))])</pre><b>In a Jupyter environment, please rerun this cell to show the HTML representation or trust the notebook. <br />On GitHub, the HTML representation is unable to render, please try loading this page with nbviewer.org.</b></div><div class=\"sk-container\" hidden><div class=\"sk-item sk-dashed-wrapped\"><div class=\"sk-label-container\"><div class=\"sk-label sk-toggleable\"><input class=\"sk-toggleable__control sk-hidden--visually\" id=\"sk-estimator-id-120\" type=\"checkbox\" ><label for=\"sk-estimator-id-120\" class=\"sk-toggleable__label sk-toggleable__label-arrow\">Pipeline</label><div class=\"sk-toggleable__content\"><pre>Pipeline(steps=[(&#x27;columntransformer&#x27;,\n",
       "                 ColumnTransformer(remainder=&#x27;passthrough&#x27;,\n",
       "                                   transformers=[(&#x27;sts&#x27;, StandardScaler(),\n",
       "                                                  [&#x27;Age&#x27;, &#x27;Balance&#x27;]),\n",
       "                                                 (&#x27;ohe&#x27;, OneHotEncoder(),\n",
       "                                                  Index([&#x27;Geography&#x27;, &#x27;Gender&#x27;], dtype=&#x27;object&#x27;))])),\n",
       "                (&#x27;gridsearchcv&#x27;,\n",
       "                 GridSearchCV(cv=5,\n",
       "                              estimator=RandomForestClassifier(random_state=42),\n",
       "                              n_jobs=-1,\n",
       "                              param_grid={&#x27;criterion&#x27;: [&#x27;gini&#x27;, &#x27;entropy&#x27;],\n",
       "                                          &#x27;max_depth&#x27;: array([5, 6, 7, 8, 9]),\n",
       "                                          &#x27;n_estimators&#x27;: array([46, 47, 48, 49, 50, 51, 52, 53, 54, 55, 56, 57, 58, 59])},\n",
       "                              scoring=&#x27;f1&#x27;))])</pre></div></div></div><div class=\"sk-serial\"><div class=\"sk-item sk-dashed-wrapped\"><div class=\"sk-label-container\"><div class=\"sk-label sk-toggleable\"><input class=\"sk-toggleable__control sk-hidden--visually\" id=\"sk-estimator-id-121\" type=\"checkbox\" ><label for=\"sk-estimator-id-121\" class=\"sk-toggleable__label sk-toggleable__label-arrow\">columntransformer: ColumnTransformer</label><div class=\"sk-toggleable__content\"><pre>ColumnTransformer(remainder=&#x27;passthrough&#x27;,\n",
       "                  transformers=[(&#x27;sts&#x27;, StandardScaler(), [&#x27;Age&#x27;, &#x27;Balance&#x27;]),\n",
       "                                (&#x27;ohe&#x27;, OneHotEncoder(),\n",
       "                                 Index([&#x27;Geography&#x27;, &#x27;Gender&#x27;], dtype=&#x27;object&#x27;))])</pre></div></div></div><div class=\"sk-parallel\"><div class=\"sk-parallel-item\"><div class=\"sk-item\"><div class=\"sk-label-container\"><div class=\"sk-label sk-toggleable\"><input class=\"sk-toggleable__control sk-hidden--visually\" id=\"sk-estimator-id-122\" type=\"checkbox\" ><label for=\"sk-estimator-id-122\" class=\"sk-toggleable__label sk-toggleable__label-arrow\">sts</label><div class=\"sk-toggleable__content\"><pre>[&#x27;Age&#x27;, &#x27;Balance&#x27;]</pre></div></div></div><div class=\"sk-serial\"><div class=\"sk-item\"><div class=\"sk-estimator sk-toggleable\"><input class=\"sk-toggleable__control sk-hidden--visually\" id=\"sk-estimator-id-123\" type=\"checkbox\" ><label for=\"sk-estimator-id-123\" class=\"sk-toggleable__label sk-toggleable__label-arrow\">StandardScaler</label><div class=\"sk-toggleable__content\"><pre>StandardScaler()</pre></div></div></div></div></div></div><div class=\"sk-parallel-item\"><div class=\"sk-item\"><div class=\"sk-label-container\"><div class=\"sk-label sk-toggleable\"><input class=\"sk-toggleable__control sk-hidden--visually\" id=\"sk-estimator-id-124\" type=\"checkbox\" ><label for=\"sk-estimator-id-124\" class=\"sk-toggleable__label sk-toggleable__label-arrow\">ohe</label><div class=\"sk-toggleable__content\"><pre>Index([&#x27;Geography&#x27;, &#x27;Gender&#x27;], dtype=&#x27;object&#x27;)</pre></div></div></div><div class=\"sk-serial\"><div class=\"sk-item\"><div class=\"sk-estimator sk-toggleable\"><input class=\"sk-toggleable__control sk-hidden--visually\" id=\"sk-estimator-id-125\" type=\"checkbox\" ><label for=\"sk-estimator-id-125\" class=\"sk-toggleable__label sk-toggleable__label-arrow\">OneHotEncoder</label><div class=\"sk-toggleable__content\"><pre>OneHotEncoder()</pre></div></div></div></div></div></div><div class=\"sk-parallel-item\"><div class=\"sk-item\"><div class=\"sk-label-container\"><div class=\"sk-label sk-toggleable\"><input class=\"sk-toggleable__control sk-hidden--visually\" id=\"sk-estimator-id-126\" type=\"checkbox\" ><label for=\"sk-estimator-id-126\" class=\"sk-toggleable__label sk-toggleable__label-arrow\">remainder</label><div class=\"sk-toggleable__content\"><pre>[&#x27;NumOfProducts&#x27;, &#x27;IsActiveMember&#x27;]</pre></div></div></div><div class=\"sk-serial\"><div class=\"sk-item\"><div class=\"sk-estimator sk-toggleable\"><input class=\"sk-toggleable__control sk-hidden--visually\" id=\"sk-estimator-id-127\" type=\"checkbox\" ><label for=\"sk-estimator-id-127\" class=\"sk-toggleable__label sk-toggleable__label-arrow\">passthrough</label><div class=\"sk-toggleable__content\"><pre>passthrough</pre></div></div></div></div></div></div></div></div><div class=\"sk-item sk-dashed-wrapped\"><div class=\"sk-label-container\"><div class=\"sk-label sk-toggleable\"><input class=\"sk-toggleable__control sk-hidden--visually\" id=\"sk-estimator-id-128\" type=\"checkbox\" ><label for=\"sk-estimator-id-128\" class=\"sk-toggleable__label sk-toggleable__label-arrow\">gridsearchcv: GridSearchCV</label><div class=\"sk-toggleable__content\"><pre>GridSearchCV(cv=5, estimator=RandomForestClassifier(random_state=42), n_jobs=-1,\n",
       "             param_grid={&#x27;criterion&#x27;: [&#x27;gini&#x27;, &#x27;entropy&#x27;],\n",
       "                         &#x27;max_depth&#x27;: array([5, 6, 7, 8, 9]),\n",
       "                         &#x27;n_estimators&#x27;: array([46, 47, 48, 49, 50, 51, 52, 53, 54, 55, 56, 57, 58, 59])},\n",
       "             scoring=&#x27;f1&#x27;)</pre></div></div></div><div class=\"sk-parallel\"><div class=\"sk-parallel-item\"><div class=\"sk-item\"><div class=\"sk-label-container\"><div class=\"sk-label sk-toggleable\"><input class=\"sk-toggleable__control sk-hidden--visually\" id=\"sk-estimator-id-129\" type=\"checkbox\" ><label for=\"sk-estimator-id-129\" class=\"sk-toggleable__label sk-toggleable__label-arrow\">estimator: RandomForestClassifier</label><div class=\"sk-toggleable__content\"><pre>RandomForestClassifier(random_state=42)</pre></div></div></div><div class=\"sk-serial\"><div class=\"sk-item\"><div class=\"sk-estimator sk-toggleable\"><input class=\"sk-toggleable__control sk-hidden--visually\" id=\"sk-estimator-id-130\" type=\"checkbox\" ><label for=\"sk-estimator-id-130\" class=\"sk-toggleable__label sk-toggleable__label-arrow\">RandomForestClassifier</label><div class=\"sk-toggleable__content\"><pre>RandomForestClassifier(random_state=42)</pre></div></div></div></div></div></div></div></div></div></div></div></div>"
      ],
      "text/plain": [
       "Pipeline(steps=[('columntransformer',\n",
       "                 ColumnTransformer(remainder='passthrough',\n",
       "                                   transformers=[('sts', StandardScaler(),\n",
       "                                                  ['Age', 'Balance']),\n",
       "                                                 ('ohe', OneHotEncoder(),\n",
       "                                                  Index(['Geography', 'Gender'], dtype='object'))])),\n",
       "                ('gridsearchcv',\n",
       "                 GridSearchCV(cv=5,\n",
       "                              estimator=RandomForestClassifier(random_state=42),\n",
       "                              n_jobs=-1,\n",
       "                              param_grid={'criterion': ['gini', 'entropy'],\n",
       "                                          'max_depth': array([5, 6, 7, 8, 9]),\n",
       "                                          'n_estimators': array([46, 47, 48, 49, 50, 51, 52, 53, 54, 55, 56, 57, 58, 59])},\n",
       "                              scoring='f1'))])"
      ]
     },
     "execution_count": 286,
     "metadata": {},
     "output_type": "execute_result"
    }
   ],
   "source": [
    "param_grid2 = {'criterion': ['gini', 'entropy'],\n",
    "               'n_estimators': np.arange(46, 60, 1),\n",
    "               'max_depth': np.arange(5, 10, 1),\n",
    "               }\n",
    "\n",
    "grd2 = GridSearchCV(RandomForestClassifier(random_state=42), param_grid=param_grid2,\n",
    "                    cv=5, scoring='f1', n_jobs=-1)\n",
    "pipe_grd2 = make_pipeline(ColumnTransformer(transformers=[('sts', StandardScaler(), Standart_scale_cols),\n",
    "                                                          ('ohe', OneHotEncoder(), cat_cols)], remainder='passthrough'),\n",
    "                          grd2)\n",
    "\n",
    "pipe_grd2.fit(X_train2, y_train2)"
   ]
  },
  {
   "cell_type": "code",
   "execution_count": 287,
   "metadata": {},
   "outputs": [
    {
     "name": "stdout",
     "output_type": "stream",
     "text": [
      "{'criterion': 'gini', 'max_depth': 7, 'n_estimators': 59}\n",
      "________________________________________________________________________\n",
      "Валид выборка:               precision    recall  f1-score   support\n",
      "\n",
      "         0.0       0.77      0.79      0.78       355\n",
      "         1.0       0.80      0.78      0.79       378\n",
      "\n",
      "    accuracy                           0.78       733\n",
      "   macro avg       0.78      0.78      0.78       733\n",
      "weighted avg       0.78      0.78      0.78       733\n",
      " Roc_Auc 0.8714360235486998\n",
      "________________________________________________________________________\n",
      "тестовая выборка:               precision    recall  f1-score   support\n",
      "\n",
      "         0.0       0.75      0.76      0.76       373\n",
      "         1.0       0.75      0.74      0.75       360\n",
      "\n",
      "    accuracy                           0.75       733\n",
      "   macro avg       0.75      0.75      0.75       733\n",
      "weighted avg       0.75      0.75      0.75       733\n",
      "\n",
      "Roc_Auc 0.8563784629133153\n"
     ]
    }
   ],
   "source": [
    "print(grd2.best_params_)\n",
    "print('__'*36)\n",
    "print('Валид выборка:',\n",
    "      classification_report(y_valid2, pipe_grd2.predict(X_valid2)),\n",
    "      'Roc_Auc', roc_auc_score(y_valid2, pipe_grd2.predict_proba(X_valid2)[:, -1]))\n",
    "print('__'*36)\n",
    "print('тестовая выборка:',\n",
    "      classification_report(y_test2, pipe_grd2.predict(X_test2))\n",
    "      )\n",
    "print('Roc_Auc', roc_auc_score(\n",
    "    y_test2, pipe_grd2.predict_proba(X_test2)[:, -1]))\n",
    "# .8563784629133153"
   ]
  },
  {
   "cell_type": "code",
   "execution_count": 290,
   "metadata": {},
   "outputs": [
    {
     "data": {
      "image/png": "[encoded data removed]",
      "text/plain": [
       "<Figure size 720x720 with 1 Axes>"
      ]
     },
     "metadata": {
      "needs_background": "light"
     },
     "output_type": "display_data"
    }
   ],
   "source": [
    "fig, ax = plt.subplots(figsize=(10, 10))\n",
    "RocCurveDisplay.from_predictions(y_test2, pipe_grd2.predict_proba(X_test2)[\n",
    "                                 :, -1], ax=ax)  # Гипотеза\n",
    "RocCurveDisplay.from_predictions(\n",
    "    y_test, pipe_over.predict_proba(X_test)[:, -1], ax=ax) #Модель из основной задачи\n",
    "ax.plot([0, 1], [0, 1], label='0,5', linestyle='--')\n",
    "ax.set_title('ROC-Curve')\n",
    "ax.grid(True)\n",
    "plt.legend()\n",
    "plt.show()"
   ]
  },
  {
   "cell_type": "markdown",
   "metadata": {},
   "source": [
    "Не все фичи нам важны, не все фичи нам нужны. Если выбросить фичи, которые в П. 2 были определены мной как шумовые/не нужные, то мы можем получить модель с лучшими параметрами. \n",
    "\n",
    "Так, я получил модель с f1-мерой на тесте =0,75, и roc_auc =0.8563. Как и в предыдущей моделе, рок растет лучше, чем f1-мера."
   ]
  },
  {
   "cell_type": "markdown",
   "metadata": {},
   "source": [
    "## Вывод"
   ]
  },
  {
   "cell_type": "markdown",
   "metadata": {},
   "source": [
    "В заключении подытожу: в ходе проекта был проанализирован датасет исторических данных о поведении клиентов и расторжении договоров с банком.\n",
    "\n",
    "Из анализа были определены наиболее важные для алгоритма предсказания фичи: 'Geography', 'Gender','NumOfProducts', 'IsActiveMember','Balance','Age'.\n",
    "\n",
    "Был выполнен расчет модели с дисбалансом классов, по результатам которого были получены метрики f1-меры 0.562 , roc_auc=0,84.\n",
    "\n",
    "По итогу борьбы с дисбалансом методом RandomUnderSampler, а так же построения оптимальной моедели при помощи GridSearchCV, и использовании оптимальных признаков была получена метрика f1-мера =0,76 на стесте и roc_auc=0.842 на тесте. Были построение roc кривые для расчетных моделей.\n"
   ]
  }
 ],
 "metadata": {
  "ExecuteTimeLog": [
   {
    "duration": 404,
    "start_time": "2022-11-30T07:25:55.958Z"
   },
   {
    "duration": 82,
    "start_time": "2022-11-30T07:26:10.600Z"
   },
   {
    "duration": 20,
    "start_time": "2022-11-30T07:26:18.046Z"
   },
   {
    "duration": 8,
    "start_time": "2022-11-30T07:26:43.998Z"
   },
   {
    "duration": 8,
    "start_time": "2022-11-30T07:26:53.231Z"
   },
   {
    "duration": 10,
    "start_time": "2022-11-30T07:28:58.330Z"
   },
   {
    "duration": 23,
    "start_time": "2022-11-30T07:29:06.173Z"
   },
   {
    "duration": 12,
    "start_time": "2022-11-30T07:29:41.502Z"
   },
   {
    "duration": 27,
    "start_time": "2022-11-30T07:30:27.404Z"
   },
   {
    "duration": 21,
    "start_time": "2022-11-30T07:30:44.250Z"
   },
   {
    "duration": 26,
    "start_time": "2022-11-30T07:32:25.127Z"
   },
   {
    "duration": 66,
    "start_time": "2022-11-30T07:34:03.634Z"
   },
   {
    "duration": 21,
    "start_time": "2022-11-30T07:34:55.753Z"
   },
   {
    "duration": 9,
    "start_time": "2022-11-30T07:35:18.532Z"
   },
   {
    "duration": 555,
    "start_time": "2022-11-30T07:35:25.464Z"
   },
   {
    "duration": 23,
    "start_time": "2022-11-30T07:36:42.102Z"
   },
   {
    "duration": 882,
    "start_time": "2022-11-30T07:37:40.965Z"
   },
   {
    "duration": 4,
    "start_time": "2022-11-30T07:38:11.451Z"
   },
   {
    "duration": 4,
    "start_time": "2022-11-30T07:38:31.520Z"
   },
   {
    "duration": 4,
    "start_time": "2022-11-30T07:39:55.721Z"
   },
   {
    "duration": 3,
    "start_time": "2022-11-30T07:40:00.490Z"
   },
   {
    "duration": 23,
    "start_time": "2022-11-30T07:40:06.899Z"
   },
   {
    "duration": 43,
    "start_time": "2022-11-30T07:40:31.991Z"
   },
   {
    "duration": 37,
    "start_time": "2022-11-30T07:41:13.931Z"
   },
   {
    "duration": 15,
    "start_time": "2022-11-30T07:42:23.948Z"
   },
   {
    "duration": 18,
    "start_time": "2022-11-30T07:44:03.755Z"
   },
   {
    "duration": 16,
    "start_time": "2022-11-30T07:44:08.133Z"
   },
   {
    "duration": 15,
    "start_time": "2022-11-30T07:44:22.272Z"
   },
   {
    "duration": 23,
    "start_time": "2022-11-30T07:44:34.991Z"
   },
   {
    "duration": 28,
    "start_time": "2022-11-30T07:45:15.488Z"
   },
   {
    "duration": 34,
    "start_time": "2022-11-30T07:45:57.261Z"
   },
   {
    "duration": 452,
    "start_time": "2022-11-30T07:46:20.914Z"
   },
   {
    "duration": 459,
    "start_time": "2022-11-30T07:46:31.383Z"
   },
   {
    "duration": 10,
    "start_time": "2022-11-30T07:46:44.616Z"
   },
   {
    "duration": 137,
    "start_time": "2022-11-30T07:46:48.574Z"
   },
   {
    "duration": 2,
    "start_time": "2022-11-30T07:48:30.981Z"
   },
   {
    "duration": 148,
    "start_time": "2022-11-30T07:49:02.704Z"
   },
   {
    "duration": 143,
    "start_time": "2022-11-30T07:49:19.218Z"
   },
   {
    "duration": 147,
    "start_time": "2022-11-30T07:49:25.925Z"
   },
   {
    "duration": 106,
    "start_time": "2022-11-30T07:49:29.413Z"
   },
   {
    "duration": 112,
    "start_time": "2022-11-30T07:49:34.858Z"
   },
   {
    "duration": 121,
    "start_time": "2022-11-30T07:50:25.295Z"
   },
   {
    "duration": 352,
    "start_time": "2022-11-30T07:52:00.823Z"
   },
   {
    "duration": 11294,
    "start_time": "2022-11-30T07:52:12.229Z"
   },
   {
    "duration": 101,
    "start_time": "2022-11-30T07:52:46.414Z"
   },
   {
    "duration": 139,
    "start_time": "2022-11-30T07:52:51.382Z"
   },
   {
    "duration": 128,
    "start_time": "2022-11-30T07:53:04.453Z"
   },
   {
    "duration": 171,
    "start_time": "2022-11-30T07:53:10.245Z"
   },
   {
    "duration": 178,
    "start_time": "2022-11-30T07:53:19.064Z"
   },
   {
    "duration": 106,
    "start_time": "2022-11-30T07:54:28.979Z"
   },
   {
    "duration": 375,
    "start_time": "2022-11-30T07:54:43.150Z"
   },
   {
    "duration": 102,
    "start_time": "2022-11-30T07:54:49.548Z"
   },
   {
    "duration": 119,
    "start_time": "2022-11-30T07:55:12.586Z"
   },
   {
    "duration": 655,
    "start_time": "2022-11-30T08:00:49.288Z"
   },
   {
    "duration": 156,
    "start_time": "2022-11-30T08:01:39.477Z"
   },
   {
    "duration": 145,
    "start_time": "2022-11-30T08:01:48.698Z"
   },
   {
    "duration": 88121,
    "start_time": "2022-11-30T08:02:13.644Z"
   },
   {
    "duration": 149,
    "start_time": "2022-11-30T08:04:30.429Z"
   },
   {
    "duration": 133,
    "start_time": "2022-11-30T08:04:32.911Z"
   },
   {
    "duration": 132,
    "start_time": "2022-11-30T08:04:37.337Z"
   },
   {
    "duration": 150,
    "start_time": "2022-11-30T08:04:45.169Z"
   },
   {
    "duration": 185,
    "start_time": "2022-11-30T08:05:06.808Z"
   },
   {
    "duration": 156,
    "start_time": "2022-11-30T08:05:10.404Z"
   },
   {
    "duration": 54,
    "start_time": "2022-11-30T08:05:48.661Z"
   },
   {
    "duration": 17,
    "start_time": "2022-11-30T08:08:23.202Z"
   },
   {
    "duration": 12,
    "start_time": "2022-11-30T08:10:11.873Z"
   },
   {
    "duration": 9,
    "start_time": "2022-11-30T08:10:19.525Z"
   },
   {
    "duration": 10,
    "start_time": "2022-11-30T08:11:03.369Z"
   },
   {
    "duration": 23,
    "start_time": "2022-11-30T08:12:54.154Z"
   },
   {
    "duration": 1621,
    "start_time": "2022-11-30T08:13:14.423Z"
   },
   {
    "duration": 8,
    "start_time": "2022-11-30T08:13:41.650Z"
   },
   {
    "duration": 160,
    "start_time": "2022-11-30T08:13:46.300Z"
   },
   {
    "duration": 133,
    "start_time": "2022-11-30T08:13:52.645Z"
   },
   {
    "duration": 10,
    "start_time": "2022-11-30T08:13:59.181Z"
   },
   {
    "duration": 12,
    "start_time": "2022-11-30T08:14:16.129Z"
   },
   {
    "duration": 9,
    "start_time": "2022-11-30T08:14:25.835Z"
   },
   {
    "duration": 9,
    "start_time": "2022-11-30T08:14:44.278Z"
   },
   {
    "duration": 10,
    "start_time": "2022-11-30T08:14:49.966Z"
   },
   {
    "duration": 1515,
    "start_time": "2022-11-30T08:15:03.472Z"
   },
   {
    "duration": 1484,
    "start_time": "2022-11-30T08:15:40.341Z"
   },
   {
    "duration": 1531,
    "start_time": "2022-11-30T08:16:10.495Z"
   },
   {
    "duration": 1479,
    "start_time": "2022-11-30T08:17:04.067Z"
   },
   {
    "duration": 2351,
    "start_time": "2022-11-30T08:17:18.315Z"
   },
   {
    "duration": 12,
    "start_time": "2022-11-30T08:17:37.906Z"
   },
   {
    "duration": 1513,
    "start_time": "2022-11-30T08:17:54.251Z"
   },
   {
    "duration": 1489,
    "start_time": "2022-11-30T08:18:19.782Z"
   },
   {
    "duration": 1291,
    "start_time": "2022-11-30T08:18:53.274Z"
   },
   {
    "duration": 57813,
    "start_time": "2022-11-30T08:19:26.964Z"
   },
   {
    "duration": 1765,
    "start_time": "2022-11-30T08:20:29.720Z"
   },
   {
    "duration": 21,
    "start_time": "2022-11-30T08:20:43.165Z"
   },
   {
    "duration": 334,
    "start_time": "2022-11-30T08:21:12.946Z"
   },
   {
    "duration": 11,
    "start_time": "2022-11-30T08:21:44.019Z"
   },
   {
    "duration": 475,
    "start_time": "2022-11-30T08:22:02.747Z"
   },
   {
    "duration": 14,
    "start_time": "2022-11-30T08:22:27.496Z"
   },
   {
    "duration": 13,
    "start_time": "2022-11-30T08:22:34.520Z"
   },
   {
    "duration": 13,
    "start_time": "2022-11-30T08:22:40.110Z"
   },
   {
    "duration": 17,
    "start_time": "2022-11-30T08:22:52.036Z"
   },
   {
    "duration": 13,
    "start_time": "2022-11-30T08:22:55.993Z"
   },
   {
    "duration": 13,
    "start_time": "2022-11-30T08:23:01.867Z"
   },
   {
    "duration": 15,
    "start_time": "2022-11-30T08:23:06.492Z"
   },
   {
    "duration": 15,
    "start_time": "2022-11-30T08:23:19.079Z"
   },
   {
    "duration": 13,
    "start_time": "2022-11-30T08:23:24.142Z"
   },
   {
    "duration": 16,
    "start_time": "2022-11-30T08:23:37.881Z"
   },
   {
    "duration": 23,
    "start_time": "2022-11-30T08:24:06.018Z"
   },
   {
    "duration": 17,
    "start_time": "2022-11-30T08:24:32.509Z"
   },
   {
    "duration": 412,
    "start_time": "2022-11-30T08:29:05.566Z"
   },
   {
    "duration": 4,
    "start_time": "2022-11-30T08:30:18.068Z"
   },
   {
    "duration": 22,
    "start_time": "2022-11-30T08:30:25.173Z"
   },
   {
    "duration": 434,
    "start_time": "2022-11-30T08:30:46.386Z"
   },
   {
    "duration": 433,
    "start_time": "2022-11-30T08:31:06.779Z"
   },
   {
    "duration": 374,
    "start_time": "2022-11-30T08:31:51.848Z"
   },
   {
    "duration": 478,
    "start_time": "2022-11-30T08:31:58.898Z"
   },
   {
    "duration": 1133,
    "start_time": "2022-11-30T08:32:30.372Z"
   },
   {
    "duration": 1092,
    "start_time": "2022-11-30T08:32:43.632Z"
   },
   {
    "duration": 1477,
    "start_time": "2022-11-30T08:32:58.729Z"
   },
   {
    "duration": 18,
    "start_time": "2022-11-30T08:33:34.490Z"
   },
   {
    "duration": 491,
    "start_time": "2022-11-30T08:33:45.491Z"
   },
   {
    "duration": 0,
    "start_time": "2022-11-30T08:37:34.325Z"
   },
   {
    "duration": 112,
    "start_time": "2022-11-30T08:39:20.887Z"
   },
   {
    "duration": 39498,
    "start_time": "2022-11-30T08:39:39.983Z"
   },
   {
    "duration": 0,
    "start_time": "2022-11-30T08:40:19.483Z"
   },
   {
    "duration": 274,
    "start_time": "2022-11-30T08:40:26.498Z"
   },
   {
    "duration": 38756,
    "start_time": "2022-11-30T08:41:16.148Z"
   },
   {
    "duration": 19,
    "start_time": "2022-11-30T08:41:56.647Z"
   },
   {
    "duration": 10,
    "start_time": "2022-11-30T08:42:11.360Z"
   },
   {
    "duration": 117,
    "start_time": "2022-11-30T08:42:18.095Z"
   },
   {
    "duration": 7231,
    "start_time": "2022-11-30T08:42:48.906Z"
   },
   {
    "duration": 44166,
    "start_time": "2022-11-30T08:43:07.893Z"
   },
   {
    "duration": 535732,
    "start_time": "2022-11-30T08:44:26.045Z"
   },
   {
    "duration": 4,
    "start_time": "2022-11-30T09:04:08.059Z"
   },
   {
    "duration": 21,
    "start_time": "2022-11-30T09:04:11.646Z"
   },
   {
    "duration": 43,
    "start_time": "2022-11-30T09:04:53.482Z"
   },
   {
    "duration": 52,
    "start_time": "2022-11-30T09:05:18.259Z"
   },
   {
    "duration": 41,
    "start_time": "2022-11-30T09:05:34.838Z"
   },
   {
    "duration": 46,
    "start_time": "2022-11-30T09:06:38.716Z"
   },
   {
    "duration": 52,
    "start_time": "2022-11-30T09:06:46.330Z"
   },
   {
    "duration": 47,
    "start_time": "2022-11-30T09:06:51.877Z"
   },
   {
    "duration": 47,
    "start_time": "2022-11-30T09:07:02.083Z"
   },
   {
    "duration": 46,
    "start_time": "2022-11-30T09:07:51.998Z"
   },
   {
    "duration": 46,
    "start_time": "2022-11-30T09:08:29.644Z"
   },
   {
    "duration": 45,
    "start_time": "2022-11-30T09:08:51.068Z"
   },
   {
    "duration": 339,
    "start_time": "2022-11-30T09:08:59.073Z"
   },
   {
    "duration": 40,
    "start_time": "2022-11-30T09:09:45.622Z"
   },
   {
    "duration": 41,
    "start_time": "2022-11-30T09:09:48.823Z"
   },
   {
    "duration": 43,
    "start_time": "2022-11-30T09:09:58.754Z"
   },
   {
    "duration": 110,
    "start_time": "2022-11-30T09:11:19.733Z"
   },
   {
    "duration": 52,
    "start_time": "2022-11-30T09:11:54.208Z"
   },
   {
    "duration": 1028,
    "start_time": "2022-11-30T09:12:12.026Z"
   },
   {
    "duration": 879,
    "start_time": "2022-11-30T09:12:28.493Z"
   },
   {
    "duration": 6,
    "start_time": "2022-11-30T09:12:33.212Z"
   },
   {
    "duration": 70,
    "start_time": "2022-11-30T09:13:54.749Z"
   },
   {
    "duration": 12,
    "start_time": "2022-11-30T09:14:38.824Z"
   },
   {
    "duration": 38,
    "start_time": "2022-11-30T09:16:11.667Z"
   },
   {
    "duration": 18,
    "start_time": "2022-11-30T09:16:44.327Z"
   },
   {
    "duration": 24,
    "start_time": "2022-11-30T09:17:23.168Z"
   },
   {
    "duration": 9,
    "start_time": "2022-11-30T09:18:04.830Z"
   },
   {
    "duration": 9,
    "start_time": "2022-11-30T09:18:08.645Z"
   },
   {
    "duration": 10,
    "start_time": "2022-11-30T09:18:10.735Z"
   },
   {
    "duration": 15,
    "start_time": "2022-11-30T09:19:12.207Z"
   },
   {
    "duration": 14,
    "start_time": "2022-11-30T09:20:08.151Z"
   },
   {
    "duration": 23,
    "start_time": "2022-11-30T09:20:21.829Z"
   },
   {
    "duration": 5,
    "start_time": "2022-11-30T09:20:53.762Z"
   },
   {
    "duration": 23,
    "start_time": "2022-11-30T09:21:05.888Z"
   },
   {
    "duration": 17,
    "start_time": "2022-11-30T09:21:18.990Z"
   },
   {
    "duration": 2,
    "start_time": "2022-11-30T09:21:35.938Z"
   },
   {
    "duration": 17,
    "start_time": "2022-11-30T09:21:39.048Z"
   },
   {
    "duration": 13,
    "start_time": "2022-11-30T09:24:27.569Z"
   },
   {
    "duration": 7,
    "start_time": "2022-11-30T09:24:40.300Z"
   },
   {
    "duration": 27,
    "start_time": "2022-11-30T09:24:49.987Z"
   },
   {
    "duration": 13,
    "start_time": "2022-11-30T09:25:13.198Z"
   },
   {
    "duration": 146,
    "start_time": "2022-11-30T09:25:21.254Z"
   },
   {
    "duration": 8,
    "start_time": "2022-11-30T09:25:55.858Z"
   },
   {
    "duration": 27,
    "start_time": "2022-11-30T09:25:56.542Z"
   },
   {
    "duration": 193,
    "start_time": "2022-11-30T09:26:00.106Z"
   },
   {
    "duration": 14,
    "start_time": "2022-11-30T09:30:19.088Z"
   },
   {
    "duration": 17,
    "start_time": "2022-11-30T09:30:37.833Z"
   },
   {
    "duration": 21,
    "start_time": "2022-11-30T09:31:15.415Z"
   },
   {
    "duration": 22,
    "start_time": "2022-11-30T09:33:09.759Z"
   },
   {
    "duration": 5,
    "start_time": "2022-11-30T09:37:52.011Z"
   },
   {
    "duration": 20,
    "start_time": "2022-11-30T09:39:17.096Z"
   },
   {
    "duration": 36,
    "start_time": "2022-11-30T09:40:40.310Z"
   },
   {
    "duration": 16,
    "start_time": "2022-11-30T09:41:54.695Z"
   },
   {
    "duration": 70,
    "start_time": "2022-11-30T09:42:02.677Z"
   },
   {
    "duration": 973,
    "start_time": "2022-11-30T09:48:43.738Z"
   },
   {
    "duration": 38,
    "start_time": "2022-11-30T09:49:48.478Z"
   },
   {
    "duration": 24,
    "start_time": "2022-11-30T09:50:56.614Z"
   },
   {
    "duration": 25,
    "start_time": "2022-11-30T09:53:09.533Z"
   },
   {
    "duration": 32,
    "start_time": "2022-11-30T09:53:15.278Z"
   },
   {
    "duration": 128904,
    "start_time": "2022-11-30T09:53:59.221Z"
   },
   {
    "duration": 1838,
    "start_time": "2022-11-30T09:56:46.489Z"
   },
   {
    "duration": 25,
    "start_time": "2022-11-30T09:58:07.053Z"
   },
   {
    "duration": 10,
    "start_time": "2022-11-30T09:58:22.250Z"
   },
   {
    "duration": 5,
    "start_time": "2022-11-30T09:58:30.627Z"
   },
   {
    "duration": 8,
    "start_time": "2022-11-30T09:58:48.532Z"
   },
   {
    "duration": 4,
    "start_time": "2022-11-30T09:59:17.833Z"
   },
   {
    "duration": 972,
    "start_time": "2022-11-30T09:59:24.274Z"
   },
   {
    "duration": 23,
    "start_time": "2022-11-30T09:59:43.697Z"
   },
   {
    "duration": 45,
    "start_time": "2022-11-30T09:59:46.134Z"
   },
   {
    "duration": 1099,
    "start_time": "2022-11-30T10:00:10.748Z"
   },
   {
    "duration": 5,
    "start_time": "2022-11-30T10:01:55.285Z"
   },
   {
    "duration": 10,
    "start_time": "2022-11-30T10:02:42.431Z"
   },
   {
    "duration": 11,
    "start_time": "2022-11-30T10:02:50.518Z"
   },
   {
    "duration": 9,
    "start_time": "2022-11-30T10:02:59.166Z"
   },
   {
    "duration": 9,
    "start_time": "2022-11-30T10:03:12.724Z"
   },
   {
    "duration": 5,
    "start_time": "2022-11-30T10:03:19.869Z"
   },
   {
    "duration": 250,
    "start_time": "2022-11-30T10:03:26.018Z"
   },
   {
    "duration": 748,
    "start_time": "2022-11-30T11:29:38.867Z"
   },
   {
    "duration": 184,
    "start_time": "2022-11-30T11:29:39.617Z"
   },
   {
    "duration": 12,
    "start_time": "2022-11-30T11:29:39.803Z"
   },
   {
    "duration": 7,
    "start_time": "2022-11-30T11:29:39.816Z"
   },
   {
    "duration": 14,
    "start_time": "2022-11-30T11:29:39.825Z"
   },
   {
    "duration": 12,
    "start_time": "2022-11-30T11:29:39.840Z"
   },
   {
    "duration": 133,
    "start_time": "2022-11-30T11:29:39.853Z"
   },
   {
    "duration": 9,
    "start_time": "2022-11-30T11:29:39.988Z"
   },
   {
    "duration": 139,
    "start_time": "2022-11-30T11:29:39.999Z"
   },
   {
    "duration": 163,
    "start_time": "2022-11-30T11:29:40.140Z"
   },
   {
    "duration": 17,
    "start_time": "2022-11-30T11:29:40.304Z"
   },
   {
    "duration": 29,
    "start_time": "2022-11-30T11:29:40.323Z"
   },
   {
    "duration": 15,
    "start_time": "2022-11-30T11:29:40.354Z"
   },
   {
    "duration": 0,
    "start_time": "2022-11-30T11:30:16.475Z"
   },
   {
    "duration": 0,
    "start_time": "2022-11-30T11:30:16.476Z"
   },
   {
    "duration": 0,
    "start_time": "2022-11-30T11:30:16.477Z"
   },
   {
    "duration": 0,
    "start_time": "2022-11-30T11:30:16.478Z"
   },
   {
    "duration": 0,
    "start_time": "2022-11-30T11:30:16.479Z"
   },
   {
    "duration": 0,
    "start_time": "2022-11-30T11:30:16.481Z"
   },
   {
    "duration": 0,
    "start_time": "2022-11-30T11:30:16.482Z"
   },
   {
    "duration": 0,
    "start_time": "2022-11-30T11:30:16.483Z"
   },
   {
    "duration": 0,
    "start_time": "2022-11-30T11:30:16.484Z"
   },
   {
    "duration": 0,
    "start_time": "2022-11-30T11:30:16.485Z"
   },
   {
    "duration": 0,
    "start_time": "2022-11-30T11:30:16.486Z"
   },
   {
    "duration": 0,
    "start_time": "2022-11-30T11:30:16.486Z"
   },
   {
    "duration": 0,
    "start_time": "2022-11-30T11:30:16.487Z"
   },
   {
    "duration": 0,
    "start_time": "2022-11-30T11:30:16.489Z"
   },
   {
    "duration": 0,
    "start_time": "2022-11-30T11:30:16.489Z"
   },
   {
    "duration": 0,
    "start_time": "2022-11-30T11:30:16.490Z"
   },
   {
    "duration": 0,
    "start_time": "2022-11-30T11:30:16.491Z"
   },
   {
    "duration": 0,
    "start_time": "2022-11-30T11:30:16.492Z"
   },
   {
    "duration": 0,
    "start_time": "2022-11-30T11:30:16.493Z"
   },
   {
    "duration": 0,
    "start_time": "2022-11-30T11:30:16.494Z"
   },
   {
    "duration": 600,
    "start_time": "2022-11-30T11:30:31.818Z"
   },
   {
    "duration": 57,
    "start_time": "2022-11-30T11:30:32.421Z"
   },
   {
    "duration": 15,
    "start_time": "2022-11-30T11:30:32.481Z"
   },
   {
    "duration": 11,
    "start_time": "2022-11-30T11:30:32.498Z"
   },
   {
    "duration": 49,
    "start_time": "2022-11-30T11:30:32.511Z"
   },
   {
    "duration": 28,
    "start_time": "2022-11-30T11:30:32.563Z"
   },
   {
    "duration": 170,
    "start_time": "2022-11-30T11:30:32.593Z"
   },
   {
    "duration": 10,
    "start_time": "2022-11-30T11:30:32.765Z"
   },
   {
    "duration": 150,
    "start_time": "2022-11-30T11:30:32.776Z"
   },
   {
    "duration": 155,
    "start_time": "2022-11-30T11:30:32.928Z"
   },
   {
    "duration": 15,
    "start_time": "2022-11-30T11:30:33.084Z"
   },
   {
    "duration": 28,
    "start_time": "2022-11-30T11:30:33.101Z"
   },
   {
    "duration": 33,
    "start_time": "2022-11-30T11:30:33.131Z"
   },
   {
    "duration": 25243,
    "start_time": "2022-11-30T11:30:33.166Z"
   },
   {
    "duration": 0,
    "start_time": "2022-11-30T11:30:58.411Z"
   },
   {
    "duration": 0,
    "start_time": "2022-11-30T11:30:58.412Z"
   },
   {
    "duration": 0,
    "start_time": "2022-11-30T11:30:58.413Z"
   },
   {
    "duration": 0,
    "start_time": "2022-11-30T11:30:58.414Z"
   },
   {
    "duration": 0,
    "start_time": "2022-11-30T11:30:58.415Z"
   },
   {
    "duration": 0,
    "start_time": "2022-11-30T11:30:58.416Z"
   },
   {
    "duration": 7,
    "start_time": "2022-11-30T11:31:13.874Z"
   },
   {
    "duration": 0,
    "start_time": "2022-11-30T11:31:13.883Z"
   },
   {
    "duration": 0,
    "start_time": "2022-11-30T11:31:13.885Z"
   },
   {
    "duration": 0,
    "start_time": "2022-11-30T11:31:13.886Z"
   },
   {
    "duration": 0,
    "start_time": "2022-11-30T11:31:13.887Z"
   },
   {
    "duration": 0,
    "start_time": "2022-11-30T11:31:13.888Z"
   },
   {
    "duration": 22,
    "start_time": "2022-11-30T11:31:57.664Z"
   },
   {
    "duration": 40,
    "start_time": "2022-11-30T11:32:02.554Z"
   },
   {
    "duration": 4,
    "start_time": "2022-11-30T11:32:06.433Z"
   },
   {
    "duration": 1335,
    "start_time": "2022-11-30T11:32:07.512Z"
   },
   {
    "duration": 184,
    "start_time": "2022-11-30T11:32:14.292Z"
   },
   {
    "duration": 126,
    "start_time": "2022-11-30T11:38:24.101Z"
   },
   {
    "duration": 5,
    "start_time": "2022-11-30T11:38:55.618Z"
   },
   {
    "duration": 8,
    "start_time": "2022-11-30T11:39:05.160Z"
   },
   {
    "duration": 7,
    "start_time": "2022-11-30T11:39:09.699Z"
   },
   {
    "duration": 6,
    "start_time": "2022-11-30T11:39:40.653Z"
   },
   {
    "duration": 5,
    "start_time": "2022-11-30T11:48:23.162Z"
   },
   {
    "duration": 20,
    "start_time": "2022-11-30T11:48:29.000Z"
   },
   {
    "duration": 14,
    "start_time": "2022-11-30T11:49:48.782Z"
   },
   {
    "duration": 4,
    "start_time": "2022-11-30T11:49:54.086Z"
   },
   {
    "duration": 5,
    "start_time": "2022-11-30T11:51:20.331Z"
   },
   {
    "duration": 6,
    "start_time": "2022-11-30T11:51:31.004Z"
   },
   {
    "duration": 13,
    "start_time": "2022-11-30T11:52:22.184Z"
   },
   {
    "duration": 6,
    "start_time": "2022-11-30T11:52:23.085Z"
   },
   {
    "duration": 136,
    "start_time": "2022-11-30T11:52:35.679Z"
   },
   {
    "duration": 13,
    "start_time": "2022-11-30T11:52:49.996Z"
   },
   {
    "duration": 13,
    "start_time": "2022-11-30T11:53:05.345Z"
   },
   {
    "duration": 5,
    "start_time": "2022-11-30T11:53:05.839Z"
   },
   {
    "duration": 143,
    "start_time": "2022-11-30T11:53:06.570Z"
   },
   {
    "duration": 14,
    "start_time": "2022-11-30T11:54:12.522Z"
   },
   {
    "duration": 1058,
    "start_time": "2022-11-30T11:54:13.703Z"
   },
   {
    "duration": 190,
    "start_time": "2022-11-30T11:54:37.066Z"
   },
   {
    "duration": 3,
    "start_time": "2022-11-30T11:55:12.803Z"
   },
   {
    "duration": 49,
    "start_time": "2022-11-30T11:55:12.807Z"
   },
   {
    "duration": 11,
    "start_time": "2022-11-30T11:55:12.857Z"
   },
   {
    "duration": 10,
    "start_time": "2022-11-30T11:55:12.870Z"
   },
   {
    "duration": 12,
    "start_time": "2022-11-30T11:55:12.882Z"
   },
   {
    "duration": 12,
    "start_time": "2022-11-30T11:55:12.895Z"
   },
   {
    "duration": 131,
    "start_time": "2022-11-30T11:55:12.908Z"
   },
   {
    "duration": 19,
    "start_time": "2022-11-30T11:55:13.041Z"
   },
   {
    "duration": 120,
    "start_time": "2022-11-30T11:55:13.062Z"
   },
   {
    "duration": 202,
    "start_time": "2022-11-30T11:55:13.184Z"
   },
   {
    "duration": 14,
    "start_time": "2022-11-30T11:55:13.387Z"
   },
   {
    "duration": 8,
    "start_time": "2022-11-30T11:55:13.403Z"
   },
   {
    "duration": 18,
    "start_time": "2022-11-30T11:55:13.412Z"
   },
   {
    "duration": 37,
    "start_time": "2022-11-30T11:55:13.432Z"
   },
   {
    "duration": 32,
    "start_time": "2022-11-30T11:55:13.471Z"
   },
   {
    "duration": 4,
    "start_time": "2022-11-30T11:55:13.505Z"
   },
   {
    "duration": 5,
    "start_time": "2022-11-30T11:55:13.511Z"
   },
   {
    "duration": 976,
    "start_time": "2022-11-30T11:55:13.518Z"
   },
   {
    "duration": 213,
    "start_time": "2022-11-30T11:55:14.496Z"
   },
   {
    "duration": 205,
    "start_time": "2022-11-30T11:55:14.711Z"
   },
   {
    "duration": 5,
    "start_time": "2022-11-30T11:55:14.918Z"
   },
   {
    "duration": 8,
    "start_time": "2022-11-30T11:55:14.925Z"
   },
   {
    "duration": 23,
    "start_time": "2022-11-30T11:55:14.934Z"
   },
   {
    "duration": 7,
    "start_time": "2022-11-30T11:55:14.959Z"
   },
   {
    "duration": 146,
    "start_time": "2022-11-30T11:55:14.967Z"
   },
   {
    "duration": 13,
    "start_time": "2022-11-30T11:55:15.114Z"
   },
   {
    "duration": 6,
    "start_time": "2022-11-30T11:58:15.710Z"
   },
   {
    "duration": 11,
    "start_time": "2022-11-30T11:59:56.933Z"
   },
   {
    "duration": 863,
    "start_time": "2022-11-30T12:00:50.955Z"
   },
   {
    "duration": 4,
    "start_time": "2022-11-30T12:05:49.360Z"
   },
   {
    "duration": 53,
    "start_time": "2022-11-30T12:07:38.030Z"
   },
   {
    "duration": 13,
    "start_time": "2022-11-30T12:08:01.104Z"
   },
   {
    "duration": 13,
    "start_time": "2022-11-30T12:14:57.405Z"
   },
   {
    "duration": 13,
    "start_time": "2022-11-30T12:15:10.870Z"
   },
   {
    "duration": 12,
    "start_time": "2022-11-30T12:20:31.107Z"
   },
   {
    "duration": 10,
    "start_time": "2022-11-30T12:20:52.230Z"
   },
   {
    "duration": 10,
    "start_time": "2022-11-30T12:21:15.235Z"
   },
   {
    "duration": 10,
    "start_time": "2022-11-30T12:22:44.451Z"
   },
   {
    "duration": 12,
    "start_time": "2022-11-30T12:24:59.109Z"
   },
   {
    "duration": 204,
    "start_time": "2022-11-30T12:25:23.739Z"
   },
   {
    "duration": 5,
    "start_time": "2022-11-30T12:25:42.008Z"
   },
   {
    "duration": 9,
    "start_time": "2022-11-30T12:25:46.586Z"
   },
   {
    "duration": 19,
    "start_time": "2022-11-30T12:26:10.901Z"
   },
   {
    "duration": 202,
    "start_time": "2022-11-30T12:27:41.236Z"
   },
   {
    "duration": 19,
    "start_time": "2022-11-30T12:27:41.953Z"
   },
   {
    "duration": 18,
    "start_time": "2022-11-30T12:27:56.612Z"
   },
   {
    "duration": 238,
    "start_time": "2022-11-30T12:28:48.873Z"
   },
   {
    "duration": 225,
    "start_time": "2022-11-30T12:29:14.423Z"
   },
   {
    "duration": 217,
    "start_time": "2022-11-30T12:31:22.057Z"
   },
   {
    "duration": 221,
    "start_time": "2022-11-30T12:31:27.066Z"
   },
   {
    "duration": 113,
    "start_time": "2022-11-30T12:31:36.704Z"
   },
   {
    "duration": 9,
    "start_time": "2022-11-30T12:32:55.957Z"
   },
   {
    "duration": 10,
    "start_time": "2022-11-30T12:32:59.656Z"
   },
   {
    "duration": 9,
    "start_time": "2022-11-30T12:33:20.632Z"
   },
   {
    "duration": 199,
    "start_time": "2022-11-30T12:33:38.101Z"
   },
   {
    "duration": 229,
    "start_time": "2022-11-30T12:36:48.899Z"
   },
   {
    "duration": 8,
    "start_time": "2022-11-30T12:36:58.232Z"
   },
   {
    "duration": 224,
    "start_time": "2022-11-30T12:37:01.111Z"
   },
   {
    "duration": 9,
    "start_time": "2022-11-30T12:37:03.331Z"
   },
   {
    "duration": 11,
    "start_time": "2022-11-30T12:37:30.935Z"
   },
   {
    "duration": 9,
    "start_time": "2022-11-30T12:37:34.980Z"
   },
   {
    "duration": 215,
    "start_time": "2022-11-30T12:37:47.783Z"
   },
   {
    "duration": 204,
    "start_time": "2022-11-30T12:37:50.319Z"
   },
   {
    "duration": 12,
    "start_time": "2022-11-30T12:37:52.423Z"
   },
   {
    "duration": 8,
    "start_time": "2022-11-30T12:38:11.587Z"
   },
   {
    "duration": 11,
    "start_time": "2022-11-30T12:42:08.271Z"
   },
   {
    "duration": 11,
    "start_time": "2022-11-30T12:42:12.577Z"
   },
   {
    "duration": 9,
    "start_time": "2022-11-30T12:42:16.117Z"
   },
   {
    "duration": 14,
    "start_time": "2022-11-30T12:45:58.840Z"
   },
   {
    "duration": 213,
    "start_time": "2022-11-30T12:46:50.539Z"
   },
   {
    "duration": 9,
    "start_time": "2022-11-30T12:47:42.706Z"
   },
   {
    "duration": 11,
    "start_time": "2022-11-30T12:47:48.171Z"
   },
   {
    "duration": 13,
    "start_time": "2022-11-30T12:47:58.544Z"
   },
   {
    "duration": 9,
    "start_time": "2022-11-30T12:48:06.729Z"
   },
   {
    "duration": 127,
    "start_time": "2022-11-30T12:48:17.788Z"
   },
   {
    "duration": 113,
    "start_time": "2022-11-30T12:48:27.958Z"
   },
   {
    "duration": 9,
    "start_time": "2022-11-30T12:48:31.789Z"
   },
   {
    "duration": 4,
    "start_time": "2022-11-30T12:48:51.200Z"
   },
   {
    "duration": 4,
    "start_time": "2022-11-30T12:48:58.311Z"
   },
   {
    "duration": 4,
    "start_time": "2022-11-30T12:49:06.286Z"
   },
   {
    "duration": 4,
    "start_time": "2022-11-30T12:49:09.233Z"
   },
   {
    "duration": 9,
    "start_time": "2022-11-30T12:49:20.339Z"
   },
   {
    "duration": 10,
    "start_time": "2022-11-30T12:49:27.542Z"
   },
   {
    "duration": 10,
    "start_time": "2022-11-30T12:49:38.464Z"
   },
   {
    "duration": 10,
    "start_time": "2022-11-30T12:49:45.119Z"
   },
   {
    "duration": 4,
    "start_time": "2022-11-30T12:49:58.422Z"
   },
   {
    "duration": 10,
    "start_time": "2022-11-30T12:50:37.352Z"
   },
   {
    "duration": 120,
    "start_time": "2022-11-30T12:51:27.261Z"
   },
   {
    "duration": 532,
    "start_time": "2022-11-30T12:51:50.608Z"
   },
   {
    "duration": 28,
    "start_time": "2022-11-30T12:57:58.653Z"
   },
   {
    "duration": 16,
    "start_time": "2022-11-30T12:58:53.446Z"
   },
   {
    "duration": 6,
    "start_time": "2022-11-30T12:58:55.448Z"
   },
   {
    "duration": 118,
    "start_time": "2022-11-30T12:58:57.471Z"
   },
   {
    "duration": 13,
    "start_time": "2022-11-30T12:58:59.651Z"
   },
   {
    "duration": 8,
    "start_time": "2022-11-30T12:59:05.465Z"
   },
   {
    "duration": 25,
    "start_time": "2022-11-30T12:59:07.424Z"
   },
   {
    "duration": 7,
    "start_time": "2022-11-30T12:59:29.030Z"
   },
   {
    "duration": 10,
    "start_time": "2022-11-30T12:59:45.594Z"
   },
   {
    "duration": 7,
    "start_time": "2022-11-30T12:59:51.507Z"
   },
   {
    "duration": 135,
    "start_time": "2022-11-30T13:03:36.977Z"
   },
   {
    "duration": 36,
    "start_time": "2022-11-30T13:10:58.544Z"
   },
   {
    "duration": 6,
    "start_time": "2022-11-30T13:11:08.779Z"
   },
   {
    "duration": 8,
    "start_time": "2022-11-30T13:11:18.480Z"
   },
   {
    "duration": 20,
    "start_time": "2022-11-30T13:11:44.767Z"
   },
   {
    "duration": 7,
    "start_time": "2022-11-30T13:11:47.640Z"
   },
   {
    "duration": 21,
    "start_time": "2022-11-30T13:11:54.523Z"
   },
   {
    "duration": 7,
    "start_time": "2022-11-30T13:13:17.474Z"
   },
   {
    "duration": 14,
    "start_time": "2022-11-30T13:13:20.858Z"
   },
   {
    "duration": 27,
    "start_time": "2022-11-30T13:13:48.078Z"
   },
   {
    "duration": 7,
    "start_time": "2022-11-30T13:14:07.076Z"
   },
   {
    "duration": 80,
    "start_time": "2022-11-30T13:16:58.125Z"
   },
   {
    "duration": 73,
    "start_time": "2022-11-30T13:17:02.109Z"
   },
   {
    "duration": 68,
    "start_time": "2022-11-30T13:17:10.395Z"
   },
   {
    "duration": 30,
    "start_time": "2022-11-30T13:17:46.185Z"
   },
   {
    "duration": 4,
    "start_time": "2022-11-30T13:18:15.459Z"
   },
   {
    "duration": 6,
    "start_time": "2022-11-30T13:20:01.930Z"
   },
   {
    "duration": 42,
    "start_time": "2022-11-30T13:20:10.376Z"
   },
   {
    "duration": 4,
    "start_time": "2022-11-30T13:21:12.507Z"
   },
   {
    "duration": 31,
    "start_time": "2022-11-30T13:21:28.295Z"
   },
   {
    "duration": 15,
    "start_time": "2022-11-30T13:21:45.203Z"
   },
   {
    "duration": 7,
    "start_time": "2022-11-30T13:22:49.681Z"
   },
   {
    "duration": 12,
    "start_time": "2022-11-30T13:32:46.689Z"
   },
   {
    "duration": 7,
    "start_time": "2022-11-30T13:32:50.641Z"
   },
   {
    "duration": 6,
    "start_time": "2022-11-30T13:45:36.459Z"
   },
   {
    "duration": 3,
    "start_time": "2022-11-30T13:59:17.893Z"
   },
   {
    "duration": 5,
    "start_time": "2022-11-30T14:05:05.131Z"
   },
   {
    "duration": 4,
    "start_time": "2022-11-30T14:05:40.055Z"
   },
   {
    "duration": 24,
    "start_time": "2022-11-30T14:05:52.568Z"
   },
   {
    "duration": 19,
    "start_time": "2022-11-30T14:06:17.288Z"
   },
   {
    "duration": 3,
    "start_time": "2022-11-30T14:08:47.406Z"
   },
   {
    "duration": 73,
    "start_time": "2022-11-30T14:12:21.701Z"
   },
   {
    "duration": 7,
    "start_time": "2022-11-30T14:14:05.050Z"
   },
   {
    "duration": 9,
    "start_time": "2022-11-30T14:14:09.685Z"
   },
   {
    "duration": 585,
    "start_time": "2022-11-30T14:14:31.677Z"
   },
   {
    "duration": 20,
    "start_time": "2022-11-30T14:14:53.712Z"
   },
   {
    "duration": 7,
    "start_time": "2022-11-30T14:15:26.573Z"
   },
   {
    "duration": 597,
    "start_time": "2022-11-30T14:15:28.055Z"
   },
   {
    "duration": 17,
    "start_time": "2022-11-30T14:15:30.470Z"
   },
   {
    "duration": 4,
    "start_time": "2022-11-30T14:17:53.253Z"
   },
   {
    "duration": 4,
    "start_time": "2022-11-30T14:17:58.495Z"
   },
   {
    "duration": 560,
    "start_time": "2022-11-30T14:18:59.602Z"
   },
   {
    "duration": 18,
    "start_time": "2022-11-30T14:19:01.675Z"
   },
   {
    "duration": 4,
    "start_time": "2022-11-30T14:19:05.048Z"
   },
   {
    "duration": 4,
    "start_time": "2022-11-30T14:19:06.354Z"
   },
   {
    "duration": 3,
    "start_time": "2022-11-30T14:23:06.783Z"
   },
   {
    "duration": 336,
    "start_time": "2022-11-30T14:23:14.781Z"
   },
   {
    "duration": 18,
    "start_time": "2022-11-30T14:23:16.399Z"
   },
   {
    "duration": 4,
    "start_time": "2022-11-30T14:23:20.467Z"
   },
   {
    "duration": 4,
    "start_time": "2022-11-30T14:23:21.851Z"
   },
   {
    "duration": 337,
    "start_time": "2022-11-30T14:24:20.518Z"
   },
   {
    "duration": 12,
    "start_time": "2022-11-30T14:25:07.687Z"
   },
   {
    "duration": 43,
    "start_time": "2022-11-30T14:25:40.420Z"
   },
   {
    "duration": 80,
    "start_time": "2022-11-30T14:26:08.272Z"
   },
   {
    "duration": 18,
    "start_time": "2022-11-30T14:26:12.645Z"
   },
   {
    "duration": 17,
    "start_time": "2022-11-30T14:26:23.960Z"
   },
   {
    "duration": 116,
    "start_time": "2022-11-30T14:27:18.135Z"
   },
   {
    "duration": 45,
    "start_time": "2022-11-30T14:27:30.211Z"
   },
   {
    "duration": 310,
    "start_time": "2022-11-30T14:28:01.791Z"
   },
   {
    "duration": 68,
    "start_time": "2022-11-30T14:28:04.860Z"
   },
   {
    "duration": 7,
    "start_time": "2022-11-30T14:28:41.554Z"
   },
   {
    "duration": 337,
    "start_time": "2022-11-30T14:28:43.647Z"
   },
   {
    "duration": 20,
    "start_time": "2022-11-30T14:28:44.572Z"
   },
   {
    "duration": 19,
    "start_time": "2022-11-30T14:28:57.499Z"
   },
   {
    "duration": 17,
    "start_time": "2022-11-30T14:29:16.630Z"
   },
   {
    "duration": 3,
    "start_time": "2022-11-30T14:30:08.703Z"
   },
   {
    "duration": 7,
    "start_time": "2022-11-30T14:30:09.597Z"
   },
   {
    "duration": 3830,
    "start_time": "2022-11-30T14:30:10.536Z"
   },
   {
    "duration": 22,
    "start_time": "2022-11-30T14:30:17.232Z"
   },
   {
    "duration": 2208,
    "start_time": "2022-11-30T14:30:52.417Z"
   },
   {
    "duration": 26,
    "start_time": "2022-11-30T14:40:29.800Z"
   },
   {
    "duration": 22,
    "start_time": "2022-11-30T14:41:04.727Z"
   },
   {
    "duration": 19,
    "start_time": "2022-11-30T14:41:15.055Z"
   },
   {
    "duration": 24,
    "start_time": "2022-11-30T14:43:27.180Z"
   },
   {
    "duration": 21,
    "start_time": "2022-11-30T14:43:48.518Z"
   },
   {
    "duration": 21,
    "start_time": "2022-11-30T14:43:56.550Z"
   },
   {
    "duration": 18,
    "start_time": "2022-11-30T14:44:32.391Z"
   },
   {
    "duration": 16,
    "start_time": "2022-11-30T14:45:08.343Z"
   },
   {
    "duration": 14,
    "start_time": "2022-11-30T14:45:13.362Z"
   },
   {
    "duration": 13,
    "start_time": "2022-11-30T14:48:16.054Z"
   },
   {
    "duration": 179558,
    "start_time": "2022-11-30T14:48:21.034Z"
   },
   {
    "duration": 66,
    "start_time": "2022-11-30T14:51:55.482Z"
   },
   {
    "duration": 39921,
    "start_time": "2022-11-30T14:52:52.951Z"
   },
   {
    "duration": 120,
    "start_time": "2022-11-30T14:53:41.043Z"
   },
   {
    "duration": 73,
    "start_time": "2022-11-30T14:53:50.934Z"
   },
   {
    "duration": 133,
    "start_time": "2022-11-30T14:53:58.264Z"
   },
   {
    "duration": 56,
    "start_time": "2022-11-30T14:54:04.369Z"
   },
   {
    "duration": 115,
    "start_time": "2022-11-30T14:54:08.400Z"
   },
   {
    "duration": 66,
    "start_time": "2022-11-30T14:54:12.741Z"
   },
   {
    "duration": 72,
    "start_time": "2022-11-30T14:54:18.818Z"
   },
   {
    "duration": 83,
    "start_time": "2022-11-30T14:54:21.547Z"
   },
   {
    "duration": 74,
    "start_time": "2022-11-30T14:54:25.873Z"
   },
   {
    "duration": 89,
    "start_time": "2022-11-30T14:54:29.144Z"
   },
   {
    "duration": 58,
    "start_time": "2022-11-30T14:54:31.939Z"
   },
   {
    "duration": 25,
    "start_time": "2022-11-30T14:54:57.952Z"
   },
   {
    "duration": 10,
    "start_time": "2022-11-30T14:55:09.209Z"
   },
   {
    "duration": 4,
    "start_time": "2022-11-30T14:55:27.292Z"
   },
   {
    "duration": 20644,
    "start_time": "2022-11-30T14:56:10.593Z"
   },
   {
    "duration": 49,
    "start_time": "2022-11-30T14:56:33.975Z"
   },
   {
    "duration": 46,
    "start_time": "2022-11-30T14:57:01.068Z"
   },
   {
    "duration": 45,
    "start_time": "2022-11-30T14:59:37.372Z"
   },
   {
    "duration": 47,
    "start_time": "2022-11-30T15:00:00.883Z"
   },
   {
    "duration": 5,
    "start_time": "2022-11-30T15:01:58.972Z"
   },
   {
    "duration": 4,
    "start_time": "2022-11-30T15:02:03.115Z"
   },
   {
    "duration": 75,
    "start_time": "2022-11-30T15:03:19.969Z"
   },
   {
    "duration": 356975,
    "start_time": "2022-11-30T15:03:28.736Z"
   },
   {
    "duration": 48,
    "start_time": "2022-11-30T15:10:13.866Z"
   },
   {
    "duration": 819057,
    "start_time": "2022-11-30T15:13:57.021Z"
   },
   {
    "duration": 272,
    "start_time": "2022-11-30T15:27:36.080Z"
   },
   {
    "duration": 1890,
    "start_time": "2022-11-30T16:07:22.424Z"
   },
   {
    "duration": 1438,
    "start_time": "2022-11-30T16:07:24.316Z"
   },
   {
    "duration": 63,
    "start_time": "2022-11-30T16:07:25.755Z"
   },
   {
    "duration": 11,
    "start_time": "2022-11-30T16:07:25.820Z"
   },
   {
    "duration": 28,
    "start_time": "2022-11-30T16:07:25.832Z"
   },
   {
    "duration": 21,
    "start_time": "2022-11-30T16:07:25.861Z"
   },
   {
    "duration": 27,
    "start_time": "2022-11-30T16:07:25.884Z"
   },
   {
    "duration": 132,
    "start_time": "2022-11-30T16:07:25.912Z"
   },
   {
    "duration": 10,
    "start_time": "2022-11-30T16:07:26.052Z"
   },
   {
    "duration": 125,
    "start_time": "2022-11-30T16:07:26.063Z"
   },
   {
    "duration": 211,
    "start_time": "2022-11-30T16:07:26.190Z"
   },
   {
    "duration": 14,
    "start_time": "2022-11-30T16:07:26.402Z"
   },
   {
    "duration": 40,
    "start_time": "2022-11-30T16:07:26.417Z"
   },
   {
    "duration": 32,
    "start_time": "2022-11-30T16:07:26.458Z"
   },
   {
    "duration": 36,
    "start_time": "2022-11-30T16:07:26.491Z"
   },
   {
    "duration": 32,
    "start_time": "2022-11-30T16:07:26.528Z"
   },
   {
    "duration": 16,
    "start_time": "2022-11-30T16:07:26.562Z"
   },
   {
    "duration": 286,
    "start_time": "2022-11-30T16:07:26.579Z"
   },
   {
    "duration": 1,
    "start_time": "2022-11-30T16:07:26.867Z"
   },
   {
    "duration": 0,
    "start_time": "2022-11-30T16:07:26.869Z"
   },
   {
    "duration": 0,
    "start_time": "2022-11-30T16:07:26.870Z"
   },
   {
    "duration": 0,
    "start_time": "2022-11-30T16:07:26.871Z"
   },
   {
    "duration": 0,
    "start_time": "2022-11-30T16:07:26.873Z"
   },
   {
    "duration": 0,
    "start_time": "2022-11-30T16:07:26.874Z"
   },
   {
    "duration": 0,
    "start_time": "2022-11-30T16:07:26.875Z"
   },
   {
    "duration": 0,
    "start_time": "2022-11-30T16:07:26.877Z"
   },
   {
    "duration": 0,
    "start_time": "2022-11-30T16:07:26.878Z"
   },
   {
    "duration": 0,
    "start_time": "2022-11-30T16:07:26.879Z"
   },
   {
    "duration": 0,
    "start_time": "2022-11-30T16:07:26.881Z"
   },
   {
    "duration": 0,
    "start_time": "2022-11-30T16:07:26.882Z"
   },
   {
    "duration": 0,
    "start_time": "2022-11-30T16:07:26.884Z"
   },
   {
    "duration": 0,
    "start_time": "2022-11-30T16:07:26.885Z"
   },
   {
    "duration": 0,
    "start_time": "2022-11-30T16:07:26.886Z"
   },
   {
    "duration": 0,
    "start_time": "2022-11-30T16:07:26.887Z"
   },
   {
    "duration": 0,
    "start_time": "2022-11-30T16:07:26.888Z"
   },
   {
    "duration": 0,
    "start_time": "2022-11-30T16:07:26.889Z"
   },
   {
    "duration": 0,
    "start_time": "2022-11-30T16:07:26.890Z"
   },
   {
    "duration": 0,
    "start_time": "2022-11-30T16:07:26.891Z"
   },
   {
    "duration": 0,
    "start_time": "2022-11-30T16:07:26.892Z"
   },
   {
    "duration": 0,
    "start_time": "2022-11-30T16:07:26.893Z"
   },
   {
    "duration": 0,
    "start_time": "2022-11-30T16:07:26.894Z"
   },
   {
    "duration": 0,
    "start_time": "2022-11-30T16:07:26.895Z"
   },
   {
    "duration": 0,
    "start_time": "2022-11-30T16:07:26.896Z"
   },
   {
    "duration": 0,
    "start_time": "2022-11-30T16:07:26.897Z"
   },
   {
    "duration": 0,
    "start_time": "2022-11-30T16:07:26.898Z"
   },
   {
    "duration": 0,
    "start_time": "2022-11-30T16:07:26.899Z"
   },
   {
    "duration": 0,
    "start_time": "2022-11-30T16:07:26.900Z"
   },
   {
    "duration": 0,
    "start_time": "2022-11-30T16:07:26.901Z"
   },
   {
    "duration": 189,
    "start_time": "2022-11-30T16:09:27.696Z"
   },
   {
    "duration": 195,
    "start_time": "2022-11-30T16:09:33.047Z"
   },
   {
    "duration": 291,
    "start_time": "2022-11-30T16:10:12.671Z"
   },
   {
    "duration": 75,
    "start_time": "2022-11-30T16:10:57.987Z"
   },
   {
    "duration": 196,
    "start_time": "2022-11-30T16:11:02.633Z"
   },
   {
    "duration": 25,
    "start_time": "2022-11-30T16:11:32.040Z"
   },
   {
    "duration": 30,
    "start_time": "2022-11-30T16:11:36.034Z"
   },
   {
    "duration": 671,
    "start_time": "2022-11-30T16:11:43.538Z"
   },
   {
    "duration": 531,
    "start_time": "2022-11-30T16:11:59.849Z"
   },
   {
    "duration": 1925,
    "start_time": "2022-11-30T16:12:12.215Z"
   },
   {
    "duration": 7,
    "start_time": "2022-11-30T16:12:14.142Z"
   },
   {
    "duration": 85,
    "start_time": "2022-11-30T16:12:14.151Z"
   },
   {
    "duration": 13,
    "start_time": "2022-11-30T16:12:14.237Z"
   },
   {
    "duration": 24,
    "start_time": "2022-11-30T16:12:14.253Z"
   },
   {
    "duration": 22,
    "start_time": "2022-11-30T16:12:14.279Z"
   },
   {
    "duration": 23,
    "start_time": "2022-11-30T16:12:14.303Z"
   },
   {
    "duration": 121,
    "start_time": "2022-11-30T16:12:14.328Z"
   },
   {
    "duration": 11,
    "start_time": "2022-11-30T16:12:14.452Z"
   },
   {
    "duration": 133,
    "start_time": "2022-11-30T16:12:14.464Z"
   },
   {
    "duration": 154,
    "start_time": "2022-11-30T16:12:14.598Z"
   },
   {
    "duration": 15,
    "start_time": "2022-11-30T16:12:14.754Z"
   },
   {
    "duration": 27,
    "start_time": "2022-11-30T16:12:14.770Z"
   },
   {
    "duration": 25,
    "start_time": "2022-11-30T16:12:14.800Z"
   },
   {
    "duration": 28,
    "start_time": "2022-11-30T16:12:14.827Z"
   },
   {
    "duration": 31,
    "start_time": "2022-11-30T16:12:14.857Z"
   },
   {
    "duration": 4,
    "start_time": "2022-11-30T16:12:14.889Z"
   },
   {
    "duration": 618,
    "start_time": "2022-11-30T16:12:14.895Z"
   },
   {
    "duration": 17,
    "start_time": "2022-11-30T16:12:15.515Z"
   },
   {
    "duration": 0,
    "start_time": "2022-11-30T16:12:15.534Z"
   },
   {
    "duration": 0,
    "start_time": "2022-11-30T16:12:15.535Z"
   },
   {
    "duration": 0,
    "start_time": "2022-11-30T16:12:15.536Z"
   },
   {
    "duration": 0,
    "start_time": "2022-11-30T16:12:15.537Z"
   },
   {
    "duration": 0,
    "start_time": "2022-11-30T16:12:15.552Z"
   },
   {
    "duration": 0,
    "start_time": "2022-11-30T16:12:15.554Z"
   },
   {
    "duration": 0,
    "start_time": "2022-11-30T16:12:15.555Z"
   },
   {
    "duration": 0,
    "start_time": "2022-11-30T16:12:15.556Z"
   },
   {
    "duration": 0,
    "start_time": "2022-11-30T16:12:15.557Z"
   },
   {
    "duration": 0,
    "start_time": "2022-11-30T16:12:15.558Z"
   },
   {
    "duration": 0,
    "start_time": "2022-11-30T16:12:15.559Z"
   },
   {
    "duration": 0,
    "start_time": "2022-11-30T16:12:15.560Z"
   },
   {
    "duration": 0,
    "start_time": "2022-11-30T16:12:15.560Z"
   },
   {
    "duration": 0,
    "start_time": "2022-11-30T16:12:15.561Z"
   },
   {
    "duration": 0,
    "start_time": "2022-11-30T16:12:15.562Z"
   },
   {
    "duration": 0,
    "start_time": "2022-11-30T16:12:15.563Z"
   },
   {
    "duration": 0,
    "start_time": "2022-11-30T16:12:15.564Z"
   },
   {
    "duration": 0,
    "start_time": "2022-11-30T16:12:15.565Z"
   },
   {
    "duration": 0,
    "start_time": "2022-11-30T16:12:15.566Z"
   },
   {
    "duration": 0,
    "start_time": "2022-11-30T16:12:15.567Z"
   },
   {
    "duration": 0,
    "start_time": "2022-11-30T16:12:15.568Z"
   },
   {
    "duration": 0,
    "start_time": "2022-11-30T16:12:15.570Z"
   },
   {
    "duration": 0,
    "start_time": "2022-11-30T16:12:15.571Z"
   },
   {
    "duration": 0,
    "start_time": "2022-11-30T16:12:15.572Z"
   },
   {
    "duration": 0,
    "start_time": "2022-11-30T16:12:15.573Z"
   },
   {
    "duration": 0,
    "start_time": "2022-11-30T16:12:15.574Z"
   },
   {
    "duration": 0,
    "start_time": "2022-11-30T16:12:15.575Z"
   },
   {
    "duration": 0,
    "start_time": "2022-11-30T16:12:15.576Z"
   },
   {
    "duration": 0,
    "start_time": "2022-11-30T16:12:15.577Z"
   },
   {
    "duration": 2,
    "start_time": "2022-11-30T16:12:32.951Z"
   },
   {
    "duration": 1124,
    "start_time": "2022-11-30T16:12:32.958Z"
   },
   {
    "duration": 211,
    "start_time": "2022-11-30T16:12:34.084Z"
   },
   {
    "duration": 139,
    "start_time": "2022-11-30T16:12:34.296Z"
   },
   {
    "duration": 5,
    "start_time": "2022-11-30T16:12:34.437Z"
   },
   {
    "duration": 11,
    "start_time": "2022-11-30T16:12:34.451Z"
   },
   {
    "duration": 21,
    "start_time": "2022-11-30T16:12:34.463Z"
   },
   {
    "duration": 6,
    "start_time": "2022-11-30T16:12:34.487Z"
   },
   {
    "duration": 23,
    "start_time": "2022-11-30T16:12:34.495Z"
   },
   {
    "duration": 158,
    "start_time": "2022-11-30T16:12:34.520Z"
   },
   {
    "duration": 14,
    "start_time": "2022-11-30T16:12:34.680Z"
   },
   {
    "duration": 4,
    "start_time": "2022-11-30T16:12:34.695Z"
   },
   {
    "duration": 14,
    "start_time": "2022-11-30T16:12:34.701Z"
   },
   {
    "duration": 6,
    "start_time": "2022-11-30T16:12:34.717Z"
   },
   {
    "duration": 44,
    "start_time": "2022-11-30T16:12:34.726Z"
   },
   {
    "duration": 7,
    "start_time": "2022-11-30T16:12:34.772Z"
   },
   {
    "duration": 9,
    "start_time": "2022-11-30T16:12:34.780Z"
   },
   {
    "duration": 12,
    "start_time": "2022-11-30T16:12:34.791Z"
   },
   {
    "duration": 11,
    "start_time": "2022-11-30T16:12:34.805Z"
   },
   {
    "duration": 11375,
    "start_time": "2022-11-30T16:12:34.818Z"
   },
   {
    "duration": 70,
    "start_time": "2022-11-30T16:12:46.195Z"
   },
   {
    "duration": 345,
    "start_time": "2022-11-30T16:12:46.267Z"
   },
   {
    "duration": 81,
    "start_time": "2022-11-30T16:12:46.614Z"
   },
   {
    "duration": 5,
    "start_time": "2022-11-30T16:12:46.697Z"
   },
   {
    "duration": 23,
    "start_time": "2022-11-30T16:12:46.703Z"
   },
   {
    "duration": 48203,
    "start_time": "2022-11-30T16:12:46.727Z"
   },
   {
    "duration": 276,
    "start_time": "2022-11-30T16:13:34.931Z"
   },
   {
    "duration": 1486,
    "start_time": "2022-11-30T16:13:35.209Z"
   },
   {
    "duration": 0,
    "start_time": "2022-11-30T16:13:36.697Z"
   },
   {
    "duration": 14,
    "start_time": "2022-11-30T16:15:20.483Z"
   },
   {
    "duration": 21,
    "start_time": "2022-11-30T16:15:33.314Z"
   },
   {
    "duration": 2102,
    "start_time": "2022-11-30T18:15:48.392Z"
   },
   {
    "duration": 10,
    "start_time": "2022-11-30T18:15:50.496Z"
   },
   {
    "duration": 55,
    "start_time": "2022-11-30T18:15:50.508Z"
   },
   {
    "duration": 14,
    "start_time": "2022-11-30T18:15:50.566Z"
   },
   {
    "duration": 12,
    "start_time": "2022-11-30T18:15:50.582Z"
   },
   {
    "duration": 19,
    "start_time": "2022-11-30T18:15:50.596Z"
   },
   {
    "duration": 43,
    "start_time": "2022-11-30T18:15:50.617Z"
   },
   {
    "duration": 149,
    "start_time": "2022-11-30T18:15:50.662Z"
   },
   {
    "duration": 11,
    "start_time": "2022-11-30T18:15:50.813Z"
   },
   {
    "duration": 144,
    "start_time": "2022-11-30T18:15:50.826Z"
   },
   {
    "duration": 157,
    "start_time": "2022-11-30T18:15:50.972Z"
   },
   {
    "duration": 24,
    "start_time": "2022-11-30T18:15:51.131Z"
   },
   {
    "duration": 10,
    "start_time": "2022-11-30T18:15:51.157Z"
   },
   {
    "duration": 18,
    "start_time": "2022-11-30T18:15:51.168Z"
   },
   {
    "duration": 23,
    "start_time": "2022-11-30T18:15:51.188Z"
   },
   {
    "duration": 62,
    "start_time": "2022-11-30T18:15:51.213Z"
   },
   {
    "duration": 5,
    "start_time": "2022-11-30T18:15:51.276Z"
   },
   {
    "duration": 640,
    "start_time": "2022-11-30T18:15:51.282Z"
   },
   {
    "duration": 3,
    "start_time": "2022-11-30T18:15:51.924Z"
   },
   {
    "duration": 1142,
    "start_time": "2022-11-30T18:15:51.928Z"
   },
   {
    "duration": 329,
    "start_time": "2022-11-30T18:15:53.071Z"
   },
   {
    "duration": 138,
    "start_time": "2022-11-30T18:15:53.402Z"
   },
   {
    "duration": 15,
    "start_time": "2022-11-30T18:15:53.542Z"
   },
   {
    "duration": 12,
    "start_time": "2022-11-30T18:15:53.558Z"
   },
   {
    "duration": 23,
    "start_time": "2022-11-30T18:15:53.571Z"
   },
   {
    "duration": 7,
    "start_time": "2022-11-30T18:15:53.596Z"
   },
   {
    "duration": 38,
    "start_time": "2022-11-30T18:15:53.604Z"
   },
   {
    "duration": 150,
    "start_time": "2022-11-30T18:15:53.655Z"
   },
   {
    "duration": 14,
    "start_time": "2022-11-30T18:15:53.806Z"
   },
   {
    "duration": 8,
    "start_time": "2022-11-30T18:15:53.822Z"
   },
   {
    "duration": 10,
    "start_time": "2022-11-30T18:15:53.832Z"
   },
   {
    "duration": 8,
    "start_time": "2022-11-30T18:15:53.853Z"
   },
   {
    "duration": 33,
    "start_time": "2022-11-30T18:15:53.862Z"
   },
   {
    "duration": 7,
    "start_time": "2022-11-30T18:15:53.897Z"
   },
   {
    "duration": 10,
    "start_time": "2022-11-30T18:15:53.906Z"
   },
   {
    "duration": 5,
    "start_time": "2022-11-30T18:15:53.918Z"
   },
   {
    "duration": 32,
    "start_time": "2022-11-30T18:15:53.925Z"
   },
   {
    "duration": 81703,
    "start_time": "2022-11-30T18:15:53.958Z"
   },
   {
    "duration": 20,
    "start_time": "2022-11-30T18:17:15.663Z"
   },
   {
    "duration": 361,
    "start_time": "2022-11-30T18:17:15.685Z"
   },
   {
    "duration": 75,
    "start_time": "2022-11-30T18:17:16.049Z"
   },
   {
    "duration": 4,
    "start_time": "2022-11-30T18:17:16.125Z"
   },
   {
    "duration": 24,
    "start_time": "2022-11-30T18:17:16.131Z"
   },
   {
    "duration": 51211,
    "start_time": "2022-11-30T18:17:16.158Z"
   },
   {
    "duration": 316,
    "start_time": "2022-11-30T18:18:07.371Z"
   },
   {
    "duration": 28,
    "start_time": "2022-11-30T18:18:07.688Z"
   },
   {
    "duration": 0,
    "start_time": "2022-11-30T18:18:07.718Z"
   },
   {
    "duration": 0,
    "start_time": "2022-11-30T18:18:07.720Z"
   },
   {
    "duration": 2519,
    "start_time": "2022-12-03T10:40:01.643Z"
   },
   {
    "duration": 1742,
    "start_time": "2022-12-03T10:40:04.165Z"
   },
   {
    "duration": 195,
    "start_time": "2022-12-03T10:40:05.909Z"
   },
   {
    "duration": 16,
    "start_time": "2022-12-03T10:40:06.107Z"
   },
   {
    "duration": 7,
    "start_time": "2022-12-03T10:40:06.125Z"
   },
   {
    "duration": 14,
    "start_time": "2022-12-03T10:40:06.134Z"
   },
   {
    "duration": 32,
    "start_time": "2022-12-03T10:40:06.149Z"
   },
   {
    "duration": 140,
    "start_time": "2022-12-03T10:40:06.182Z"
   },
   {
    "duration": 9,
    "start_time": "2022-12-03T10:40:06.324Z"
   },
   {
    "duration": 129,
    "start_time": "2022-12-03T10:40:06.336Z"
   },
   {
    "duration": 221,
    "start_time": "2022-12-03T10:40:06.466Z"
   },
   {
    "duration": 16,
    "start_time": "2022-12-03T10:40:06.689Z"
   },
   {
    "duration": 7,
    "start_time": "2022-12-03T10:40:06.707Z"
   },
   {
    "duration": 18,
    "start_time": "2022-12-03T10:40:06.715Z"
   },
   {
    "duration": 47,
    "start_time": "2022-12-03T10:40:06.734Z"
   },
   {
    "duration": 30,
    "start_time": "2022-12-03T10:40:06.782Z"
   },
   {
    "duration": 4,
    "start_time": "2022-12-03T10:40:06.814Z"
   },
   {
    "duration": 560,
    "start_time": "2022-12-03T10:40:06.819Z"
   },
   {
    "duration": 3,
    "start_time": "2022-12-03T10:40:07.380Z"
   },
   {
    "duration": 945,
    "start_time": "2022-12-03T10:40:07.384Z"
   },
   {
    "duration": 216,
    "start_time": "2022-12-03T10:40:08.331Z"
   },
   {
    "duration": 122,
    "start_time": "2022-12-03T10:40:08.549Z"
   },
   {
    "duration": 6,
    "start_time": "2022-12-03T10:40:08.677Z"
   },
   {
    "duration": 31,
    "start_time": "2022-12-03T10:40:08.685Z"
   },
   {
    "duration": 20,
    "start_time": "2022-12-03T10:40:08.718Z"
   },
   {
    "duration": 10,
    "start_time": "2022-12-03T10:40:08.739Z"
   },
   {
    "duration": 32,
    "start_time": "2022-12-03T10:40:08.750Z"
   },
   {
    "duration": 120,
    "start_time": "2022-12-03T10:40:08.786Z"
   },
   {
    "duration": 14,
    "start_time": "2022-12-03T10:40:08.908Z"
   },
   {
    "duration": 6,
    "start_time": "2022-12-03T10:40:08.923Z"
   },
   {
    "duration": 16,
    "start_time": "2022-12-03T10:40:08.931Z"
   },
   {
    "duration": 16,
    "start_time": "2022-12-03T10:40:08.949Z"
   },
   {
    "duration": 37,
    "start_time": "2022-12-03T10:40:08.966Z"
   },
   {
    "duration": 7,
    "start_time": "2022-12-03T10:40:09.004Z"
   },
   {
    "duration": 29,
    "start_time": "2022-12-03T10:40:09.013Z"
   },
   {
    "duration": 22,
    "start_time": "2022-12-03T10:40:09.045Z"
   },
   {
    "duration": 19,
    "start_time": "2022-12-03T10:40:09.069Z"
   },
   {
    "duration": 1090,
    "start_time": "2022-12-03T10:40:09.090Z"
   },
   {
    "duration": 107,
    "start_time": "2022-12-03T10:40:10.183Z"
   },
   {
    "duration": 348,
    "start_time": "2022-12-03T10:40:10.292Z"
   },
   {
    "duration": 77,
    "start_time": "2022-12-03T10:40:10.641Z"
   },
   {
    "duration": 3,
    "start_time": "2022-12-03T10:40:10.720Z"
   },
   {
    "duration": 6,
    "start_time": "2022-12-03T10:40:10.725Z"
   },
   {
    "duration": 50157,
    "start_time": "2022-12-03T10:40:10.732Z"
   },
   {
    "duration": 288,
    "start_time": "2022-12-03T10:41:00.891Z"
   },
   {
    "duration": 131,
    "start_time": "2022-12-03T10:41:01.181Z"
   },
   {
    "duration": 0,
    "start_time": "2022-12-03T10:41:01.313Z"
   },
   {
    "duration": 20,
    "start_time": "2022-12-03T10:41:49.895Z"
   },
   {
    "duration": 10,
    "start_time": "2022-12-03T10:42:16.096Z"
   },
   {
    "duration": 11,
    "start_time": "2022-12-03T10:42:31.179Z"
   },
   {
    "duration": 9,
    "start_time": "2022-12-03T10:48:59.130Z"
   },
   {
    "duration": 8689,
    "start_time": "2022-12-03T10:50:05.666Z"
   },
   {
    "duration": 13,
    "start_time": "2022-12-03T10:50:20.934Z"
   },
   {
    "duration": 72,
    "start_time": "2022-12-03T10:50:30.608Z"
   },
   {
    "duration": 4915,
    "start_time": "2022-12-03T10:52:10.433Z"
   },
   {
    "duration": 1540,
    "start_time": "2022-12-03T10:52:15.351Z"
   },
   {
    "duration": 52,
    "start_time": "2022-12-03T10:52:16.893Z"
   },
   {
    "duration": 14,
    "start_time": "2022-12-03T10:52:16.948Z"
   },
   {
    "duration": 9,
    "start_time": "2022-12-03T10:52:16.965Z"
   },
   {
    "duration": 18,
    "start_time": "2022-12-03T10:52:16.976Z"
   },
   {
    "duration": 17,
    "start_time": "2022-12-03T10:52:16.995Z"
   },
   {
    "duration": 199,
    "start_time": "2022-12-03T10:52:17.013Z"
   },
   {
    "duration": 10,
    "start_time": "2022-12-03T10:52:17.214Z"
   },
   {
    "duration": 202,
    "start_time": "2022-12-03T10:52:17.227Z"
   },
   {
    "duration": 208,
    "start_time": "2022-12-03T10:52:17.431Z"
   },
   {
    "duration": 20,
    "start_time": "2022-12-03T10:52:17.641Z"
   },
   {
    "duration": 22,
    "start_time": "2022-12-03T10:52:17.663Z"
   },
   {
    "duration": 23,
    "start_time": "2022-12-03T10:52:17.687Z"
   },
   {
    "duration": 28,
    "start_time": "2022-12-03T10:52:17.711Z"
   },
   {
    "duration": 53,
    "start_time": "2022-12-03T10:52:17.741Z"
   },
   {
    "duration": 4,
    "start_time": "2022-12-03T10:52:17.796Z"
   },
   {
    "duration": 567,
    "start_time": "2022-12-03T10:52:17.802Z"
   },
   {
    "duration": 8,
    "start_time": "2022-12-03T10:52:18.370Z"
   },
   {
    "duration": 1085,
    "start_time": "2022-12-03T10:52:18.380Z"
   },
   {
    "duration": 269,
    "start_time": "2022-12-03T10:52:19.466Z"
   },
   {
    "duration": 151,
    "start_time": "2022-12-03T10:52:19.737Z"
   },
   {
    "duration": 8,
    "start_time": "2022-12-03T10:52:19.890Z"
   },
   {
    "duration": 9,
    "start_time": "2022-12-03T10:52:19.900Z"
   },
   {
    "duration": 6,
    "start_time": "2022-12-03T10:52:19.911Z"
   },
   {
    "duration": 31,
    "start_time": "2022-12-03T10:52:19.919Z"
   },
   {
    "duration": 8,
    "start_time": "2022-12-03T10:52:19.977Z"
   },
   {
    "duration": 38,
    "start_time": "2022-12-03T10:52:19.990Z"
   },
   {
    "duration": 197,
    "start_time": "2022-12-03T10:52:20.031Z"
   },
   {
    "duration": 20,
    "start_time": "2022-12-03T10:52:20.230Z"
   },
   {
    "duration": 7,
    "start_time": "2022-12-03T10:52:20.253Z"
   },
   {
    "duration": 23,
    "start_time": "2022-12-03T10:52:20.262Z"
   },
   {
    "duration": 11,
    "start_time": "2022-12-03T10:52:20.287Z"
   },
   {
    "duration": 36,
    "start_time": "2022-12-03T10:52:20.301Z"
   },
   {
    "duration": 8,
    "start_time": "2022-12-03T10:52:20.339Z"
   },
   {
    "duration": 30,
    "start_time": "2022-12-03T10:52:20.348Z"
   },
   {
    "duration": 8,
    "start_time": "2022-12-03T10:52:20.380Z"
   },
   {
    "duration": 123,
    "start_time": "2022-12-03T10:52:20.390Z"
   },
   {
    "duration": 568,
    "start_time": "2022-12-03T10:52:20.514Z"
   },
   {
    "duration": 112,
    "start_time": "2022-12-03T10:52:21.084Z"
   },
   {
    "duration": 404,
    "start_time": "2022-12-03T10:52:21.197Z"
   },
   {
    "duration": 75,
    "start_time": "2022-12-03T10:52:21.603Z"
   },
   {
    "duration": 4,
    "start_time": "2022-12-03T10:52:21.679Z"
   },
   {
    "duration": 31,
    "start_time": "2022-12-03T10:52:21.685Z"
   },
   {
    "duration": 50601,
    "start_time": "2022-12-03T10:52:21.718Z"
   },
   {
    "duration": 273,
    "start_time": "2022-12-03T10:53:12.321Z"
   },
   {
    "duration": 170,
    "start_time": "2022-12-03T10:53:12.596Z"
   },
   {
    "duration": 20,
    "start_time": "2022-12-03T10:53:12.768Z"
   },
   {
    "duration": 35,
    "start_time": "2022-12-03T10:53:12.790Z"
   },
   {
    "duration": 78,
    "start_time": "2022-12-03T10:53:52.138Z"
   },
   {
    "duration": 14,
    "start_time": "2022-12-03T10:58:22.377Z"
   },
   {
    "duration": 7,
    "start_time": "2022-12-03T10:59:15.797Z"
   },
   {
    "duration": 15,
    "start_time": "2022-12-03T10:59:22.444Z"
   },
   {
    "duration": 10,
    "start_time": "2022-12-03T10:59:28.143Z"
   },
   {
    "duration": 7,
    "start_time": "2022-12-03T10:59:45.230Z"
   },
   {
    "duration": 5,
    "start_time": "2022-12-03T10:59:46.640Z"
   },
   {
    "duration": 18,
    "start_time": "2022-12-03T10:59:53.510Z"
   },
   {
    "duration": 4584,
    "start_time": "2022-12-03T11:01:39.770Z"
   },
   {
    "duration": 9,
    "start_time": "2022-12-03T11:01:44.357Z"
   },
   {
    "duration": 59,
    "start_time": "2022-12-03T11:01:44.368Z"
   },
   {
    "duration": 12,
    "start_time": "2022-12-03T11:01:44.429Z"
   },
   {
    "duration": 8,
    "start_time": "2022-12-03T11:01:44.443Z"
   },
   {
    "duration": 16,
    "start_time": "2022-12-03T11:01:44.453Z"
   },
   {
    "duration": 14,
    "start_time": "2022-12-03T11:01:44.470Z"
   },
   {
    "duration": 126,
    "start_time": "2022-12-03T11:01:44.485Z"
   },
   {
    "duration": 10,
    "start_time": "2022-12-03T11:01:44.613Z"
   },
   {
    "duration": 127,
    "start_time": "2022-12-03T11:01:44.624Z"
   },
   {
    "duration": 135,
    "start_time": "2022-12-03T11:01:44.752Z"
   },
   {
    "duration": 13,
    "start_time": "2022-12-03T11:01:44.889Z"
   },
   {
    "duration": 10,
    "start_time": "2022-12-03T11:01:44.904Z"
   },
   {
    "duration": 18,
    "start_time": "2022-12-03T11:01:44.916Z"
   },
   {
    "duration": 21,
    "start_time": "2022-12-03T11:01:44.935Z"
   },
   {
    "duration": 30,
    "start_time": "2022-12-03T11:01:44.977Z"
   },
   {
    "duration": 4,
    "start_time": "2022-12-03T11:01:45.008Z"
   },
   {
    "duration": 629,
    "start_time": "2022-12-03T11:01:45.014Z"
   },
   {
    "duration": 3,
    "start_time": "2022-12-03T11:01:45.645Z"
   },
   {
    "duration": 1054,
    "start_time": "2022-12-03T11:01:45.649Z"
   },
   {
    "duration": 202,
    "start_time": "2022-12-03T11:01:46.705Z"
   },
   {
    "duration": 152,
    "start_time": "2022-12-03T11:01:46.909Z"
   },
   {
    "duration": 7,
    "start_time": "2022-12-03T11:01:47.062Z"
   },
   {
    "duration": 19,
    "start_time": "2022-12-03T11:01:47.078Z"
   },
   {
    "duration": 18,
    "start_time": "2022-12-03T11:01:47.098Z"
   },
   {
    "duration": 30,
    "start_time": "2022-12-03T11:01:47.117Z"
   },
   {
    "duration": 6,
    "start_time": "2022-12-03T11:01:47.148Z"
   },
   {
    "duration": 22,
    "start_time": "2022-12-03T11:01:47.156Z"
   },
   {
    "duration": 132,
    "start_time": "2022-12-03T11:01:47.179Z"
   },
   {
    "duration": 13,
    "start_time": "2022-12-03T11:01:47.312Z"
   },
   {
    "duration": 6,
    "start_time": "2022-12-03T11:01:47.326Z"
   },
   {
    "duration": 11,
    "start_time": "2022-12-03T11:01:47.334Z"
   },
   {
    "duration": 9,
    "start_time": "2022-12-03T11:01:47.346Z"
   },
   {
    "duration": 36,
    "start_time": "2022-12-03T11:01:47.356Z"
   },
   {
    "duration": 7,
    "start_time": "2022-12-03T11:01:47.394Z"
   },
   {
    "duration": 6,
    "start_time": "2022-12-03T11:01:47.402Z"
   },
   {
    "duration": 25,
    "start_time": "2022-12-03T11:01:47.410Z"
   },
   {
    "duration": 8,
    "start_time": "2022-12-03T11:01:47.436Z"
   },
   {
    "duration": 9,
    "start_time": "2022-12-03T11:01:47.446Z"
   },
   {
    "duration": 627,
    "start_time": "2022-12-03T11:01:47.456Z"
   },
   {
    "duration": 193,
    "start_time": "2022-12-03T11:01:48.089Z"
   },
   {
    "duration": 316,
    "start_time": "2022-12-03T11:01:48.284Z"
   },
   {
    "duration": 76,
    "start_time": "2022-12-03T11:01:48.602Z"
   },
   {
    "duration": 4,
    "start_time": "2022-12-03T11:01:48.680Z"
   },
   {
    "duration": 8,
    "start_time": "2022-12-03T11:01:48.685Z"
   },
   {
    "duration": 51773,
    "start_time": "2022-12-03T11:01:48.695Z"
   },
   {
    "duration": 277,
    "start_time": "2022-12-03T11:02:40.469Z"
   },
   {
    "duration": 17,
    "start_time": "2022-12-03T11:02:40.748Z"
   },
   {
    "duration": 160,
    "start_time": "2022-12-03T11:02:40.777Z"
   },
   {
    "duration": 5,
    "start_time": "2022-12-03T11:02:40.939Z"
   },
   {
    "duration": 30,
    "start_time": "2022-12-03T11:02:40.945Z"
   },
   {
    "duration": 42,
    "start_time": "2022-12-03T11:03:20.870Z"
   },
   {
    "duration": 144,
    "start_time": "2022-12-03T11:03:40.346Z"
   },
   {
    "duration": 155,
    "start_time": "2022-12-03T11:04:09.118Z"
   },
   {
    "duration": 159,
    "start_time": "2022-12-03T11:05:24.509Z"
   },
   {
    "duration": 149,
    "start_time": "2022-12-03T11:05:37.688Z"
   },
   {
    "duration": 39,
    "start_time": "2022-12-03T11:12:34.602Z"
   },
   {
    "duration": 169,
    "start_time": "2022-12-03T11:14:01.096Z"
   },
   {
    "duration": 157,
    "start_time": "2022-12-03T11:14:07.494Z"
   },
   {
    "duration": 171,
    "start_time": "2022-12-03T11:14:20.490Z"
   },
   {
    "duration": 116,
    "start_time": "2022-12-03T11:14:28.963Z"
   },
   {
    "duration": 101,
    "start_time": "2022-12-03T11:14:36.378Z"
   },
   {
    "duration": 150,
    "start_time": "2022-12-03T11:14:43.306Z"
   },
   {
    "duration": 252,
    "start_time": "2022-12-03T11:15:21.781Z"
   },
   {
    "duration": 281,
    "start_time": "2022-12-03T11:17:04.883Z"
   },
   {
    "duration": 206,
    "start_time": "2022-12-03T11:17:14.918Z"
   },
   {
    "duration": 105,
    "start_time": "2022-12-03T11:17:19.286Z"
   },
   {
    "duration": 96,
    "start_time": "2022-12-03T11:17:27.885Z"
   },
   {
    "duration": 123,
    "start_time": "2022-12-03T11:17:31.477Z"
   },
   {
    "duration": 150,
    "start_time": "2022-12-03T11:17:54.259Z"
   },
   {
    "duration": 124,
    "start_time": "2022-12-03T11:17:57.745Z"
   },
   {
    "duration": 161,
    "start_time": "2022-12-03T11:18:08.721Z"
   },
   {
    "duration": 176,
    "start_time": "2022-12-03T11:19:00.972Z"
   },
   {
    "duration": 42,
    "start_time": "2022-12-03T11:19:15.455Z"
   },
   {
    "duration": 164,
    "start_time": "2022-12-03T11:19:20.525Z"
   },
   {
    "duration": 160,
    "start_time": "2022-12-03T11:19:52.400Z"
   },
   {
    "duration": 98,
    "start_time": "2022-12-03T11:19:56.681Z"
   },
   {
    "duration": 117,
    "start_time": "2022-12-03T11:20:03.681Z"
   },
   {
    "duration": 85,
    "start_time": "2022-12-03T11:20:09.210Z"
   },
   {
    "duration": 106,
    "start_time": "2022-12-03T11:20:30.607Z"
   },
   {
    "duration": 148,
    "start_time": "2022-12-03T11:20:33.096Z"
   },
   {
    "duration": 156,
    "start_time": "2022-12-03T11:20:37.312Z"
   },
   {
    "duration": 161,
    "start_time": "2022-12-03T11:21:02.509Z"
   },
   {
    "duration": 161,
    "start_time": "2022-12-03T11:21:38.788Z"
   },
   {
    "duration": 77,
    "start_time": "2022-12-03T11:23:11.697Z"
   },
   {
    "duration": 1645,
    "start_time": "2022-12-03T11:23:24.803Z"
   },
   {
    "duration": 226,
    "start_time": "2022-12-03T11:23:31.832Z"
   },
   {
    "duration": 312,
    "start_time": "2022-12-03T11:24:01.711Z"
   },
   {
    "duration": 87,
    "start_time": "2022-12-03T11:24:02.738Z"
   },
   {
    "duration": 338,
    "start_time": "2022-12-03T11:25:18.661Z"
   },
   {
    "duration": 246,
    "start_time": "2022-12-03T11:25:42.340Z"
   },
   {
    "duration": 10,
    "start_time": "2022-12-03T11:26:20.590Z"
   },
   {
    "duration": 358,
    "start_time": "2022-12-03T11:26:24.754Z"
   },
   {
    "duration": 474,
    "start_time": "2022-12-03T11:27:16.495Z"
   },
   {
    "duration": 476,
    "start_time": "2022-12-03T11:27:29.445Z"
   },
   {
    "duration": 477,
    "start_time": "2022-12-03T11:27:55.491Z"
   },
   {
    "duration": 452,
    "start_time": "2022-12-03T11:28:03.343Z"
   },
   {
    "duration": 456,
    "start_time": "2022-12-03T11:28:17.814Z"
   },
   {
    "duration": 245,
    "start_time": "2022-12-03T11:29:15.089Z"
   },
   {
    "duration": 230,
    "start_time": "2022-12-03T11:29:28.697Z"
   },
   {
    "duration": 286,
    "start_time": "2022-12-03T11:29:50.580Z"
   },
   {
    "duration": 307,
    "start_time": "2022-12-03T11:30:23.256Z"
   },
   {
    "duration": 358,
    "start_time": "2022-12-03T11:30:34.252Z"
   },
   {
    "duration": 289,
    "start_time": "2022-12-03T11:30:44.289Z"
   },
   {
    "duration": 300,
    "start_time": "2022-12-03T11:37:57.890Z"
   },
   {
    "duration": 714601,
    "start_time": "2022-12-03T11:39:13.277Z"
   },
   {
    "duration": 108,
    "start_time": "2022-12-03T11:51:07.880Z"
   },
   {
    "duration": 227,
    "start_time": "2022-12-03T11:53:51.322Z"
   },
   {
    "duration": 1092994,
    "start_time": "2022-12-03T11:55:23.539Z"
   },
   {
    "duration": 85,
    "start_time": "2022-12-03T12:13:36.535Z"
   },
   {
    "duration": 6477,
    "start_time": "2022-12-03T12:17:43.442Z"
   },
   {
    "duration": 77,
    "start_time": "2022-12-03T12:18:02.405Z"
   },
   {
    "duration": 19112,
    "start_time": "2022-12-03T12:18:18.779Z"
   },
   {
    "duration": 92,
    "start_time": "2022-12-03T12:18:37.894Z"
   },
   {
    "duration": 11,
    "start_time": "2022-12-03T12:22:22.236Z"
   },
   {
    "duration": 16,
    "start_time": "2022-12-03T12:22:26.876Z"
   },
   {
    "duration": 14,
    "start_time": "2022-12-03T12:22:37.755Z"
   },
   {
    "duration": 1131,
    "start_time": "2022-12-03T12:23:11.535Z"
   },
   {
    "duration": 1154,
    "start_time": "2022-12-03T12:24:36.501Z"
   },
   {
    "duration": 10,
    "start_time": "2022-12-03T12:25:01.695Z"
   },
   {
    "duration": 13,
    "start_time": "2022-12-03T12:25:10.794Z"
   },
   {
    "duration": 5,
    "start_time": "2022-12-03T12:26:15.964Z"
   },
   {
    "duration": 15,
    "start_time": "2022-12-03T12:26:48.867Z"
   },
   {
    "duration": 11,
    "start_time": "2022-12-03T12:29:06.385Z"
   },
   {
    "duration": 14,
    "start_time": "2022-12-03T12:29:11.630Z"
   },
   {
    "duration": 4,
    "start_time": "2022-12-03T12:29:18.475Z"
   },
   {
    "duration": 73358,
    "start_time": "2022-12-03T12:29:21.147Z"
   },
   {
    "duration": 12,
    "start_time": "2022-12-03T12:31:02.285Z"
   },
   {
    "duration": 116,
    "start_time": "2022-12-03T12:31:54.027Z"
   },
   {
    "duration": 271,
    "start_time": "2022-12-03T12:33:20.864Z"
   },
   {
    "duration": 178,
    "start_time": "2022-12-03T12:34:20.379Z"
   },
   {
    "duration": 160,
    "start_time": "2022-12-03T12:34:36.880Z"
   },
   {
    "duration": 169,
    "start_time": "2022-12-03T12:34:41.310Z"
   },
   {
    "duration": 103,
    "start_time": "2022-12-03T12:35:33.487Z"
   },
   {
    "duration": 15,
    "start_time": "2022-12-03T12:37:21.857Z"
   },
   {
    "duration": 4598,
    "start_time": "2022-12-03T12:38:05.858Z"
   },
   {
    "duration": 8,
    "start_time": "2022-12-03T12:38:10.458Z"
   },
   {
    "duration": 58,
    "start_time": "2022-12-03T12:38:10.468Z"
   },
   {
    "duration": 11,
    "start_time": "2022-12-03T12:38:10.528Z"
   },
   {
    "duration": 8,
    "start_time": "2022-12-03T12:38:10.541Z"
   },
   {
    "duration": 16,
    "start_time": "2022-12-03T12:38:10.550Z"
   },
   {
    "duration": 13,
    "start_time": "2022-12-03T12:38:10.568Z"
   },
   {
    "duration": 115,
    "start_time": "2022-12-03T12:38:10.583Z"
   },
   {
    "duration": 9,
    "start_time": "2022-12-03T12:38:10.699Z"
   },
   {
    "duration": 133,
    "start_time": "2022-12-03T12:38:10.711Z"
   },
   {
    "duration": 137,
    "start_time": "2022-12-03T12:38:10.845Z"
   },
   {
    "duration": 14,
    "start_time": "2022-12-03T12:38:10.983Z"
   },
   {
    "duration": 10,
    "start_time": "2022-12-03T12:38:10.998Z"
   },
   {
    "duration": 17,
    "start_time": "2022-12-03T12:38:11.009Z"
   },
   {
    "duration": 23,
    "start_time": "2022-12-03T12:38:11.027Z"
   },
   {
    "duration": 55,
    "start_time": "2022-12-03T12:38:11.051Z"
   },
   {
    "duration": 4,
    "start_time": "2022-12-03T12:38:11.107Z"
   },
   {
    "duration": 639,
    "start_time": "2022-12-03T12:38:11.113Z"
   },
   {
    "duration": 2,
    "start_time": "2022-12-03T12:38:11.753Z"
   },
   {
    "duration": 1196,
    "start_time": "2022-12-03T12:38:11.757Z"
   },
   {
    "duration": 224,
    "start_time": "2022-12-03T12:38:12.955Z"
   },
   {
    "duration": 140,
    "start_time": "2022-12-03T12:38:13.181Z"
   },
   {
    "duration": 5,
    "start_time": "2022-12-03T12:38:13.323Z"
   },
   {
    "duration": 6,
    "start_time": "2022-12-03T12:38:13.330Z"
   },
   {
    "duration": 5,
    "start_time": "2022-12-03T12:38:13.338Z"
   },
   {
    "duration": 36,
    "start_time": "2022-12-03T12:38:13.345Z"
   },
   {
    "duration": 6,
    "start_time": "2022-12-03T12:38:13.383Z"
   },
   {
    "duration": 20,
    "start_time": "2022-12-03T12:38:13.391Z"
   },
   {
    "duration": 146,
    "start_time": "2022-12-03T12:38:13.413Z"
   },
   {
    "duration": 19,
    "start_time": "2022-12-03T12:38:13.561Z"
   },
   {
    "duration": 12,
    "start_time": "2022-12-03T12:38:13.581Z"
   },
   {
    "duration": 11,
    "start_time": "2022-12-03T12:38:13.595Z"
   },
   {
    "duration": 6,
    "start_time": "2022-12-03T12:38:13.608Z"
   },
   {
    "duration": 30,
    "start_time": "2022-12-03T12:38:13.616Z"
   },
   {
    "duration": 7,
    "start_time": "2022-12-03T12:38:13.648Z"
   },
   {
    "duration": 6,
    "start_time": "2022-12-03T12:38:13.678Z"
   },
   {
    "duration": 51,
    "start_time": "2022-12-03T12:38:13.685Z"
   },
   {
    "duration": 9,
    "start_time": "2022-12-03T12:38:13.738Z"
   },
   {
    "duration": 7,
    "start_time": "2022-12-03T12:38:13.749Z"
   },
   {
    "duration": 632,
    "start_time": "2022-12-03T12:38:13.757Z"
   },
   {
    "duration": 105,
    "start_time": "2022-12-03T12:38:14.479Z"
   },
   {
    "duration": 325,
    "start_time": "2022-12-03T12:38:14.585Z"
   },
   {
    "duration": 79,
    "start_time": "2022-12-03T12:38:14.912Z"
   },
   {
    "duration": 4,
    "start_time": "2022-12-03T12:38:14.993Z"
   },
   {
    "duration": 19874,
    "start_time": "2022-12-03T12:38:14.999Z"
   },
   {
    "duration": 75,
    "start_time": "2022-12-03T12:38:34.875Z"
   },
   {
    "duration": 246,
    "start_time": "2022-12-03T12:38:34.952Z"
   },
   {
    "duration": 11,
    "start_time": "2022-12-03T12:38:35.200Z"
   },
   {
    "duration": 47,
    "start_time": "2022-12-03T12:38:35.213Z"
   },
   {
    "duration": 25,
    "start_time": "2022-12-03T12:38:35.262Z"
   },
   {
    "duration": 16752,
    "start_time": "2022-12-03T12:38:35.288Z"
   },
   {
    "duration": 83,
    "start_time": "2022-12-03T12:38:52.042Z"
   },
   {
    "duration": 168,
    "start_time": "2022-12-03T12:38:52.127Z"
   },
   {
    "duration": 17559,
    "start_time": "2022-12-03T12:40:32.432Z"
   },
   {
    "duration": 16652,
    "start_time": "2022-12-03T12:41:14.185Z"
   },
   {
    "duration": 55635,
    "start_time": "2022-12-03T12:42:18.516Z"
   },
   {
    "duration": 96,
    "start_time": "2022-12-03T12:43:14.153Z"
   },
   {
    "duration": 14,
    "start_time": "2022-12-03T12:44:41.784Z"
   },
   {
    "duration": 21,
    "start_time": "2022-12-03T12:44:43.507Z"
   },
   {
    "duration": 5,
    "start_time": "2022-12-03T12:44:48.340Z"
   },
   {
    "duration": 5,
    "start_time": "2022-12-03T12:44:55.225Z"
   },
   {
    "duration": 76208,
    "start_time": "2022-12-03T12:44:56.812Z"
   },
   {
    "duration": 103,
    "start_time": "2022-12-03T12:46:13.023Z"
   },
   {
    "duration": 219,
    "start_time": "2022-12-03T12:46:53.882Z"
   },
   {
    "duration": 179,
    "start_time": "2022-12-03T12:47:23.454Z"
   },
   {
    "duration": 113,
    "start_time": "2022-12-03T12:47:55.677Z"
   },
   {
    "duration": 5810,
    "start_time": "2022-12-03T12:48:48.352Z"
   },
   {
    "duration": 14,
    "start_time": "2022-12-03T12:48:54.164Z"
   },
   {
    "duration": 118,
    "start_time": "2022-12-03T12:48:54.180Z"
   },
   {
    "duration": 18,
    "start_time": "2022-12-03T12:48:54.301Z"
   },
   {
    "duration": 29,
    "start_time": "2022-12-03T12:48:54.320Z"
   },
   {
    "duration": 38,
    "start_time": "2022-12-03T12:48:54.351Z"
   },
   {
    "duration": 38,
    "start_time": "2022-12-03T12:48:54.391Z"
   },
   {
    "duration": 176,
    "start_time": "2022-12-03T12:48:54.431Z"
   },
   {
    "duration": 14,
    "start_time": "2022-12-03T12:48:54.609Z"
   },
   {
    "duration": 153,
    "start_time": "2022-12-03T12:48:54.627Z"
   },
   {
    "duration": 287,
    "start_time": "2022-12-03T12:48:54.782Z"
   },
   {
    "duration": 14,
    "start_time": "2022-12-03T12:48:55.078Z"
   },
   {
    "duration": 37,
    "start_time": "2022-12-03T12:48:55.094Z"
   },
   {
    "duration": 37,
    "start_time": "2022-12-03T12:48:55.132Z"
   },
   {
    "duration": 34,
    "start_time": "2022-12-03T12:48:55.170Z"
   },
   {
    "duration": 33,
    "start_time": "2022-12-03T12:48:55.206Z"
   },
   {
    "duration": 26,
    "start_time": "2022-12-03T12:48:55.241Z"
   },
   {
    "duration": 574,
    "start_time": "2022-12-03T12:48:55.269Z"
   },
   {
    "duration": 3,
    "start_time": "2022-12-03T12:48:55.845Z"
   },
   {
    "duration": 999,
    "start_time": "2022-12-03T12:48:55.850Z"
   },
   {
    "duration": 207,
    "start_time": "2022-12-03T12:48:56.851Z"
   },
   {
    "duration": 167,
    "start_time": "2022-12-03T12:48:57.060Z"
   },
   {
    "duration": 8,
    "start_time": "2022-12-03T12:48:57.229Z"
   },
   {
    "duration": 36,
    "start_time": "2022-12-03T12:48:57.238Z"
   },
   {
    "duration": 18,
    "start_time": "2022-12-03T12:48:57.277Z"
   },
   {
    "duration": 59,
    "start_time": "2022-12-03T12:48:57.298Z"
   },
   {
    "duration": 8,
    "start_time": "2022-12-03T12:48:57.359Z"
   },
   {
    "duration": 33,
    "start_time": "2022-12-03T12:48:57.372Z"
   },
   {
    "duration": 144,
    "start_time": "2022-12-03T12:48:57.407Z"
   },
   {
    "duration": 13,
    "start_time": "2022-12-03T12:48:57.553Z"
   },
   {
    "duration": 30,
    "start_time": "2022-12-03T12:48:57.568Z"
   },
   {
    "duration": 30,
    "start_time": "2022-12-03T12:48:57.600Z"
   },
   {
    "duration": 35,
    "start_time": "2022-12-03T12:48:57.633Z"
   },
   {
    "duration": 55,
    "start_time": "2022-12-03T12:48:57.670Z"
   },
   {
    "duration": 8,
    "start_time": "2022-12-03T12:48:57.727Z"
   },
   {
    "duration": 22,
    "start_time": "2022-12-03T12:48:57.737Z"
   },
   {
    "duration": 38,
    "start_time": "2022-12-03T12:48:57.761Z"
   },
   {
    "duration": 38,
    "start_time": "2022-12-03T12:48:57.802Z"
   },
   {
    "duration": 28,
    "start_time": "2022-12-03T12:48:57.842Z"
   },
   {
    "duration": 518,
    "start_time": "2022-12-03T12:48:57.871Z"
   },
   {
    "duration": 182,
    "start_time": "2022-12-03T12:48:58.397Z"
   },
   {
    "duration": 354,
    "start_time": "2022-12-03T12:48:58.581Z"
   },
   {
    "duration": 82,
    "start_time": "2022-12-03T12:48:58.937Z"
   },
   {
    "duration": 6,
    "start_time": "2022-12-03T12:48:59.021Z"
   },
   {
    "duration": 22089,
    "start_time": "2022-12-03T12:48:59.029Z"
   },
   {
    "duration": 123,
    "start_time": "2022-12-03T12:49:21.120Z"
   },
   {
    "duration": 339,
    "start_time": "2022-12-03T12:49:21.245Z"
   },
   {
    "duration": 16,
    "start_time": "2022-12-03T12:49:21.587Z"
   },
   {
    "duration": 25,
    "start_time": "2022-12-03T12:49:21.605Z"
   },
   {
    "duration": 13,
    "start_time": "2022-12-03T12:49:21.632Z"
   },
   {
    "duration": 86647,
    "start_time": "2022-12-03T12:49:21.648Z"
   },
   {
    "duration": 97,
    "start_time": "2022-12-03T12:50:48.297Z"
   },
   {
    "duration": 294,
    "start_time": "2022-12-03T12:50:48.396Z"
   },
   {
    "duration": 4848,
    "start_time": "2022-12-03T13:01:59.670Z"
   },
   {
    "duration": 9,
    "start_time": "2022-12-03T13:02:04.521Z"
   },
   {
    "duration": 71,
    "start_time": "2022-12-03T13:02:04.532Z"
   },
   {
    "duration": 15,
    "start_time": "2022-12-03T13:02:04.605Z"
   },
   {
    "duration": 10,
    "start_time": "2022-12-03T13:02:04.625Z"
   },
   {
    "duration": 20,
    "start_time": "2022-12-03T13:02:04.638Z"
   },
   {
    "duration": 34,
    "start_time": "2022-12-03T13:02:04.660Z"
   },
   {
    "duration": 150,
    "start_time": "2022-12-03T13:02:04.696Z"
   },
   {
    "duration": 9,
    "start_time": "2022-12-03T13:02:04.848Z"
   },
   {
    "duration": 310,
    "start_time": "2022-12-03T13:02:04.859Z"
   },
   {
    "duration": 141,
    "start_time": "2022-12-03T13:02:05.171Z"
   },
   {
    "duration": 19,
    "start_time": "2022-12-03T13:02:05.314Z"
   },
   {
    "duration": 23,
    "start_time": "2022-12-03T13:02:05.334Z"
   },
   {
    "duration": 33,
    "start_time": "2022-12-03T13:02:05.361Z"
   },
   {
    "duration": 40,
    "start_time": "2022-12-03T13:02:05.395Z"
   },
   {
    "duration": 59,
    "start_time": "2022-12-03T13:02:05.437Z"
   },
   {
    "duration": 4,
    "start_time": "2022-12-03T13:02:05.498Z"
   },
   {
    "duration": 622,
    "start_time": "2022-12-03T13:02:05.503Z"
   },
   {
    "duration": 2,
    "start_time": "2022-12-03T13:02:06.127Z"
   },
   {
    "duration": 1182,
    "start_time": "2022-12-03T13:02:06.131Z"
   },
   {
    "duration": 480,
    "start_time": "2022-12-03T13:02:07.315Z"
   },
   {
    "duration": 11,
    "start_time": "2022-12-03T13:02:07.797Z"
   },
   {
    "duration": 68,
    "start_time": "2022-12-03T13:02:07.810Z"
   },
   {
    "duration": 6,
    "start_time": "2022-12-03T13:02:07.880Z"
   },
   {
    "duration": 95,
    "start_time": "2022-12-03T13:02:07.888Z"
   },
   {
    "duration": 0,
    "start_time": "2022-12-03T13:02:07.986Z"
   },
   {
    "duration": 0,
    "start_time": "2022-12-03T13:02:07.988Z"
   },
   {
    "duration": 0,
    "start_time": "2022-12-03T13:02:07.990Z"
   },
   {
    "duration": 0,
    "start_time": "2022-12-03T13:02:07.991Z"
   },
   {
    "duration": 0,
    "start_time": "2022-12-03T13:02:07.992Z"
   },
   {
    "duration": 0,
    "start_time": "2022-12-03T13:02:07.994Z"
   },
   {
    "duration": 0,
    "start_time": "2022-12-03T13:02:07.996Z"
   },
   {
    "duration": 0,
    "start_time": "2022-12-03T13:02:07.997Z"
   },
   {
    "duration": 0,
    "start_time": "2022-12-03T13:02:07.998Z"
   },
   {
    "duration": 0,
    "start_time": "2022-12-03T13:02:08.000Z"
   },
   {
    "duration": 0,
    "start_time": "2022-12-03T13:02:08.001Z"
   },
   {
    "duration": 0,
    "start_time": "2022-12-03T13:02:08.003Z"
   },
   {
    "duration": 0,
    "start_time": "2022-12-03T13:02:08.004Z"
   },
   {
    "duration": 0,
    "start_time": "2022-12-03T13:02:08.006Z"
   },
   {
    "duration": 0,
    "start_time": "2022-12-03T13:02:08.008Z"
   },
   {
    "duration": 0,
    "start_time": "2022-12-03T13:02:08.009Z"
   },
   {
    "duration": 0,
    "start_time": "2022-12-03T13:02:08.011Z"
   },
   {
    "duration": 0,
    "start_time": "2022-12-03T13:02:08.013Z"
   },
   {
    "duration": 0,
    "start_time": "2022-12-03T13:02:08.015Z"
   },
   {
    "duration": 0,
    "start_time": "2022-12-03T13:02:08.016Z"
   },
   {
    "duration": 0,
    "start_time": "2022-12-03T13:02:08.017Z"
   },
   {
    "duration": 0,
    "start_time": "2022-12-03T13:02:08.019Z"
   },
   {
    "duration": 0,
    "start_time": "2022-12-03T13:02:08.021Z"
   },
   {
    "duration": 0,
    "start_time": "2022-12-03T13:02:08.078Z"
   },
   {
    "duration": 0,
    "start_time": "2022-12-03T13:02:08.080Z"
   },
   {
    "duration": 0,
    "start_time": "2022-12-03T13:02:08.081Z"
   },
   {
    "duration": 0,
    "start_time": "2022-12-03T13:02:08.083Z"
   },
   {
    "duration": 0,
    "start_time": "2022-12-03T13:02:08.084Z"
   },
   {
    "duration": 0,
    "start_time": "2022-12-03T13:02:08.086Z"
   },
   {
    "duration": 0,
    "start_time": "2022-12-03T13:02:08.087Z"
   },
   {
    "duration": 0,
    "start_time": "2022-12-03T13:02:08.088Z"
   },
   {
    "duration": 0,
    "start_time": "2022-12-03T13:02:08.090Z"
   },
   {
    "duration": 653,
    "start_time": "2022-12-03T13:03:06.267Z"
   },
   {
    "duration": 116,
    "start_time": "2022-12-03T13:03:09.723Z"
   },
   {
    "duration": 4628,
    "start_time": "2022-12-03T13:04:36.441Z"
   },
   {
    "duration": 10,
    "start_time": "2022-12-03T13:04:41.071Z"
   },
   {
    "duration": 67,
    "start_time": "2022-12-03T13:04:41.083Z"
   },
   {
    "duration": 17,
    "start_time": "2022-12-03T13:04:41.153Z"
   },
   {
    "duration": 7,
    "start_time": "2022-12-03T13:04:41.172Z"
   },
   {
    "duration": 27,
    "start_time": "2022-12-03T13:04:41.181Z"
   },
   {
    "duration": 26,
    "start_time": "2022-12-03T13:04:41.210Z"
   },
   {
    "duration": 123,
    "start_time": "2022-12-03T13:04:41.238Z"
   },
   {
    "duration": 23,
    "start_time": "2022-12-03T13:04:41.363Z"
   },
   {
    "duration": 150,
    "start_time": "2022-12-03T13:04:41.390Z"
   },
   {
    "duration": 171,
    "start_time": "2022-12-03T13:04:41.542Z"
   },
   {
    "duration": 21,
    "start_time": "2022-12-03T13:04:41.715Z"
   },
   {
    "duration": 10,
    "start_time": "2022-12-03T13:04:41.738Z"
   },
   {
    "duration": 62,
    "start_time": "2022-12-03T13:04:41.750Z"
   },
   {
    "duration": 28,
    "start_time": "2022-12-03T13:04:41.814Z"
   },
   {
    "duration": 31,
    "start_time": "2022-12-03T13:04:41.843Z"
   },
   {
    "duration": 4,
    "start_time": "2022-12-03T13:04:41.875Z"
   },
   {
    "duration": 662,
    "start_time": "2022-12-03T13:04:41.881Z"
   },
   {
    "duration": 4,
    "start_time": "2022-12-03T13:04:42.545Z"
   },
   {
    "duration": 1088,
    "start_time": "2022-12-03T13:04:42.551Z"
   },
   {
    "duration": 366,
    "start_time": "2022-12-03T13:04:43.641Z"
   },
   {
    "duration": 11,
    "start_time": "2022-12-03T13:04:44.011Z"
   },
   {
    "duration": 37,
    "start_time": "2022-12-03T13:04:44.024Z"
   },
   {
    "duration": 30,
    "start_time": "2022-12-03T13:04:44.063Z"
   },
   {
    "duration": 647,
    "start_time": "2022-12-03T13:04:44.095Z"
   },
   {
    "duration": 119,
    "start_time": "2022-12-03T13:04:44.744Z"
   },
   {
    "duration": 136,
    "start_time": "2022-12-03T13:04:44.864Z"
   },
   {
    "duration": 6,
    "start_time": "2022-12-03T13:04:45.004Z"
   },
   {
    "duration": 24,
    "start_time": "2022-12-03T13:04:45.012Z"
   },
   {
    "duration": 18,
    "start_time": "2022-12-03T13:04:45.038Z"
   },
   {
    "duration": 31,
    "start_time": "2022-12-03T13:04:45.058Z"
   },
   {
    "duration": 7,
    "start_time": "2022-12-03T13:04:45.092Z"
   },
   {
    "duration": 34,
    "start_time": "2022-12-03T13:04:45.101Z"
   },
   {
    "duration": 192,
    "start_time": "2022-12-03T13:04:45.137Z"
   },
   {
    "duration": 17,
    "start_time": "2022-12-03T13:04:45.330Z"
   },
   {
    "duration": 9,
    "start_time": "2022-12-03T13:04:45.349Z"
   },
   {
    "duration": 7,
    "start_time": "2022-12-03T13:04:45.378Z"
   },
   {
    "duration": 33,
    "start_time": "2022-12-03T13:04:45.387Z"
   },
   {
    "duration": 7,
    "start_time": "2022-12-03T13:04:45.421Z"
   },
   {
    "duration": 6,
    "start_time": "2022-12-03T13:04:45.430Z"
   },
   {
    "duration": 49,
    "start_time": "2022-12-03T13:04:45.438Z"
   },
   {
    "duration": 3,
    "start_time": "2022-12-03T13:04:45.488Z"
   },
   {
    "duration": 10,
    "start_time": "2022-12-03T13:04:45.493Z"
   },
   {
    "duration": 1086,
    "start_time": "2022-12-03T13:04:45.504Z"
   },
   {
    "duration": 192,
    "start_time": "2022-12-03T13:04:46.592Z"
   },
   {
    "duration": 452,
    "start_time": "2022-12-03T13:04:46.785Z"
   },
   {
    "duration": 77,
    "start_time": "2022-12-03T13:04:47.239Z"
   },
   {
    "duration": 4,
    "start_time": "2022-12-03T13:04:47.317Z"
   },
   {
    "duration": 20332,
    "start_time": "2022-12-03T13:04:47.322Z"
   },
   {
    "duration": 88,
    "start_time": "2022-12-03T13:05:07.655Z"
   },
   {
    "duration": 215,
    "start_time": "2022-12-03T13:05:07.745Z"
   },
   {
    "duration": 20,
    "start_time": "2022-12-03T13:05:07.962Z"
   },
   {
    "duration": 19,
    "start_time": "2022-12-03T13:05:07.983Z"
   },
   {
    "duration": 10,
    "start_time": "2022-12-03T13:05:08.004Z"
   },
   {
    "duration": 73507,
    "start_time": "2022-12-03T13:05:08.016Z"
   },
   {
    "duration": 97,
    "start_time": "2022-12-03T13:06:21.525Z"
   },
   {
    "duration": 262,
    "start_time": "2022-12-03T13:06:21.624Z"
   },
   {
    "duration": 311,
    "start_time": "2022-12-03T13:12:07.026Z"
   },
   {
    "duration": 291,
    "start_time": "2022-12-03T13:13:06.473Z"
   },
   {
    "duration": 347,
    "start_time": "2022-12-03T13:13:13.419Z"
   },
   {
    "duration": 322,
    "start_time": "2022-12-03T13:13:22.581Z"
   },
   {
    "duration": 3,
    "start_time": "2022-12-03T14:30:01.178Z"
   },
   {
    "duration": 3373,
    "start_time": "2022-12-04T14:31:42.414Z"
   },
   {
    "duration": 2063,
    "start_time": "2022-12-04T14:34:50.199Z"
   },
   {
    "duration": 910,
    "start_time": "2022-12-04T14:35:20.607Z"
   },
   {
    "duration": 840,
    "start_time": "2022-12-04T14:38:07.355Z"
   },
   {
    "duration": 1969,
    "start_time": "2022-12-04T14:38:16.417Z"
   },
   {
    "duration": 64,
    "start_time": "2022-12-04T14:39:22.869Z"
   },
   {
    "duration": 47,
    "start_time": "2022-12-04T14:39:29.346Z"
   },
   {
    "duration": 386,
    "start_time": "2022-12-04T14:39:33.355Z"
   },
   {
    "duration": 2,
    "start_time": "2022-12-04T14:43:33.480Z"
   },
   {
    "duration": 2,
    "start_time": "2022-12-04T14:43:36.628Z"
   },
   {
    "duration": 1465,
    "start_time": "2022-12-04T14:43:36.632Z"
   },
   {
    "duration": 50,
    "start_time": "2022-12-04T14:43:38.098Z"
   },
   {
    "duration": 11,
    "start_time": "2022-12-04T14:43:38.150Z"
   },
   {
    "duration": 10,
    "start_time": "2022-12-04T14:43:38.163Z"
   },
   {
    "duration": 16,
    "start_time": "2022-12-04T14:43:38.175Z"
   },
   {
    "duration": 38,
    "start_time": "2022-12-04T14:43:38.193Z"
   },
   {
    "duration": 162,
    "start_time": "2022-12-04T14:43:38.232Z"
   },
   {
    "duration": 12,
    "start_time": "2022-12-04T14:43:38.396Z"
   },
   {
    "duration": 134,
    "start_time": "2022-12-04T14:43:38.422Z"
   },
   {
    "duration": 247,
    "start_time": "2022-12-04T14:43:38.559Z"
   },
   {
    "duration": 23,
    "start_time": "2022-12-04T14:43:38.808Z"
   },
   {
    "duration": 34,
    "start_time": "2022-12-04T14:43:38.833Z"
   },
   {
    "duration": 45,
    "start_time": "2022-12-04T14:43:38.868Z"
   },
   {
    "duration": 53,
    "start_time": "2022-12-04T14:43:38.915Z"
   },
   {
    "duration": 42,
    "start_time": "2022-12-04T14:43:38.970Z"
   },
   {
    "duration": 4,
    "start_time": "2022-12-04T14:43:39.014Z"
   },
   {
    "duration": 526,
    "start_time": "2022-12-04T14:43:39.022Z"
   },
   {
    "duration": 2,
    "start_time": "2022-12-04T14:43:39.550Z"
   },
   {
    "duration": 1088,
    "start_time": "2022-12-04T14:43:39.554Z"
   },
   {
    "duration": 228,
    "start_time": "2022-12-04T14:43:40.644Z"
   },
   {
    "duration": 10,
    "start_time": "2022-12-04T14:43:40.874Z"
   },
   {
    "duration": 13,
    "start_time": "2022-12-04T14:43:40.886Z"
   },
   {
    "duration": 25,
    "start_time": "2022-12-04T14:43:40.900Z"
   },
   {
    "duration": 619,
    "start_time": "2022-12-04T14:43:40.926Z"
   },
   {
    "duration": 122,
    "start_time": "2022-12-04T14:43:41.548Z"
   },
   {
    "duration": 149,
    "start_time": "2022-12-04T14:43:41.671Z"
   },
   {
    "duration": 6,
    "start_time": "2022-12-04T14:43:41.822Z"
   },
   {
    "duration": 8,
    "start_time": "2022-12-04T14:43:41.832Z"
   },
   {
    "duration": 6,
    "start_time": "2022-12-04T14:43:41.842Z"
   },
   {
    "duration": 24,
    "start_time": "2022-12-04T14:43:41.850Z"
   },
   {
    "duration": 6,
    "start_time": "2022-12-04T14:43:41.876Z"
   },
   {
    "duration": 20,
    "start_time": "2022-12-04T14:43:41.923Z"
   },
   {
    "duration": 158,
    "start_time": "2022-12-04T14:43:41.945Z"
   },
   {
    "duration": 23,
    "start_time": "2022-12-04T14:43:42.104Z"
   },
   {
    "duration": 17,
    "start_time": "2022-12-04T14:43:42.128Z"
   },
   {
    "duration": 10,
    "start_time": "2022-12-04T14:43:42.147Z"
   },
   {
    "duration": 35,
    "start_time": "2022-12-04T14:43:42.159Z"
   },
   {
    "duration": 26,
    "start_time": "2022-12-04T14:43:42.196Z"
   },
   {
    "duration": 6,
    "start_time": "2022-12-04T14:43:42.224Z"
   },
   {
    "duration": 24,
    "start_time": "2022-12-04T14:43:42.231Z"
   },
   {
    "duration": 2,
    "start_time": "2022-12-04T14:43:42.257Z"
   },
   {
    "duration": 136,
    "start_time": "2022-12-04T14:43:42.261Z"
   },
   {
    "duration": 726,
    "start_time": "2022-12-04T14:43:42.399Z"
   },
   {
    "duration": 200,
    "start_time": "2022-12-04T14:43:43.127Z"
   },
   {
    "duration": 378,
    "start_time": "2022-12-04T14:43:43.329Z"
   },
   {
    "duration": 76,
    "start_time": "2022-12-04T14:43:43.709Z"
   },
   {
    "duration": 4,
    "start_time": "2022-12-04T14:43:43.788Z"
   },
   {
    "duration": 19945,
    "start_time": "2022-12-04T14:43:43.793Z"
   },
   {
    "duration": 98,
    "start_time": "2022-12-04T14:44:03.740Z"
   },
   {
    "duration": 197,
    "start_time": "2022-12-04T14:44:03.844Z"
   },
   {
    "duration": 0,
    "start_time": "2022-12-04T14:44:04.043Z"
   },
   {
    "duration": 0,
    "start_time": "2022-12-04T14:44:04.045Z"
   },
   {
    "duration": 0,
    "start_time": "2022-12-04T14:44:04.046Z"
   },
   {
    "duration": 0,
    "start_time": "2022-12-04T14:44:04.047Z"
   },
   {
    "duration": 0,
    "start_time": "2022-12-04T14:44:04.048Z"
   },
   {
    "duration": 0,
    "start_time": "2022-12-04T14:44:04.049Z"
   },
   {
    "duration": 8,
    "start_time": "2022-12-04T14:46:15.909Z"
   },
   {
    "duration": 209,
    "start_time": "2022-12-04T14:46:32.653Z"
   },
   {
    "duration": 5,
    "start_time": "2022-12-04T14:48:01.402Z"
   },
   {
    "duration": 221,
    "start_time": "2022-12-04T14:50:25.700Z"
   },
   {
    "duration": 126,
    "start_time": "2022-12-04T14:50:31.259Z"
   },
   {
    "duration": 207,
    "start_time": "2022-12-04T14:50:41.361Z"
   },
   {
    "duration": 1232,
    "start_time": "2022-12-04T14:50:50.543Z"
   },
   {
    "duration": 1318,
    "start_time": "2022-12-04T14:51:23.856Z"
   },
   {
    "duration": 1561,
    "start_time": "2022-12-04T14:51:39.380Z"
   },
   {
    "duration": 10,
    "start_time": "2022-12-04T14:52:35.208Z"
   },
   {
    "duration": 12,
    "start_time": "2022-12-04T14:53:13.571Z"
   },
   {
    "duration": 11,
    "start_time": "2022-12-04T14:53:17.108Z"
   },
   {
    "duration": 11,
    "start_time": "2022-12-04T14:53:41.102Z"
   },
   {
    "duration": 9,
    "start_time": "2022-12-04T14:53:51.375Z"
   },
   {
    "duration": 9,
    "start_time": "2022-12-04T14:53:55.011Z"
   },
   {
    "duration": 9,
    "start_time": "2022-12-04T14:54:07.298Z"
   },
   {
    "duration": 9,
    "start_time": "2022-12-04T14:54:16.064Z"
   },
   {
    "duration": 10,
    "start_time": "2022-12-04T14:58:41.539Z"
   },
   {
    "duration": 70,
    "start_time": "2022-12-04T14:59:01.492Z"
   },
   {
    "duration": 9,
    "start_time": "2022-12-04T14:59:39.688Z"
   },
   {
    "duration": 10,
    "start_time": "2022-12-04T15:00:02.550Z"
   },
   {
    "duration": 12,
    "start_time": "2022-12-04T15:01:43.432Z"
   },
   {
    "duration": 12,
    "start_time": "2022-12-04T15:02:11.673Z"
   },
   {
    "duration": 5,
    "start_time": "2022-12-04T15:02:45.903Z"
   },
   {
    "duration": 4,
    "start_time": "2022-12-04T15:02:59.469Z"
   },
   {
    "duration": 9,
    "start_time": "2022-12-04T15:03:05.215Z"
   },
   {
    "duration": 5,
    "start_time": "2022-12-04T15:04:23.544Z"
   },
   {
    "duration": 11,
    "start_time": "2022-12-04T15:04:42.977Z"
   },
   {
    "duration": 90,
    "start_time": "2022-12-04T15:06:32.038Z"
   },
   {
    "duration": 13,
    "start_time": "2022-12-04T15:07:18.940Z"
   },
   {
    "duration": 12,
    "start_time": "2022-12-04T15:08:42.400Z"
   },
   {
    "duration": 12,
    "start_time": "2022-12-04T15:08:51.696Z"
   },
   {
    "duration": 5,
    "start_time": "2022-12-04T15:10:22.997Z"
   },
   {
    "duration": 4,
    "start_time": "2022-12-04T15:10:27.998Z"
   },
   {
    "duration": 10,
    "start_time": "2022-12-04T15:10:33.792Z"
   },
   {
    "duration": 9,
    "start_time": "2022-12-04T15:10:47.037Z"
   },
   {
    "duration": 5,
    "start_time": "2022-12-04T15:11:02.931Z"
   },
   {
    "duration": 9,
    "start_time": "2022-12-04T15:11:11.664Z"
   },
   {
    "duration": 5,
    "start_time": "2022-12-04T15:11:15.416Z"
   },
   {
    "duration": 5,
    "start_time": "2022-12-04T15:11:18.427Z"
   },
   {
    "duration": 4,
    "start_time": "2022-12-04T15:11:22.189Z"
   },
   {
    "duration": 5,
    "start_time": "2022-12-04T15:11:25.293Z"
   },
   {
    "duration": 9,
    "start_time": "2022-12-04T15:11:31.904Z"
   },
   {
    "duration": 9,
    "start_time": "2022-12-04T15:11:38.076Z"
   },
   {
    "duration": 5,
    "start_time": "2022-12-04T15:11:40.742Z"
   },
   {
    "duration": 9,
    "start_time": "2022-12-04T15:11:54.310Z"
   },
   {
    "duration": 855,
    "start_time": "2022-12-04T15:20:57.732Z"
   },
   {
    "duration": 812,
    "start_time": "2022-12-04T15:23:21.043Z"
   },
   {
    "duration": 2754,
    "start_time": "2022-12-04T15:24:15.743Z"
   },
   {
    "duration": 753,
    "start_time": "2022-12-04T15:24:55.016Z"
   },
   {
    "duration": 2254,
    "start_time": "2022-12-04T15:25:39.848Z"
   },
   {
    "duration": 743,
    "start_time": "2022-12-04T15:25:44.514Z"
   },
   {
    "duration": 72,
    "start_time": "2022-12-04T15:26:17.016Z"
   },
   {
    "duration": 754,
    "start_time": "2022-12-04T15:26:26.693Z"
   },
   {
    "duration": 757,
    "start_time": "2022-12-04T15:26:37.509Z"
   },
   {
    "duration": 3460,
    "start_time": "2022-12-04T15:27:36.320Z"
   },
   {
    "duration": 75,
    "start_time": "2022-12-04T15:28:20.905Z"
   },
   {
    "duration": 128,
    "start_time": "2022-12-04T15:28:32.552Z"
   },
   {
    "duration": 135,
    "start_time": "2022-12-04T15:29:03.372Z"
   },
   {
    "duration": 12,
    "start_time": "2022-12-04T15:30:37.519Z"
   },
   {
    "duration": 9,
    "start_time": "2022-12-04T15:32:43.067Z"
   },
   {
    "duration": 1903,
    "start_time": "2022-12-04T15:32:45.024Z"
   },
   {
    "duration": 1368,
    "start_time": "2022-12-04T15:33:26.357Z"
   },
   {
    "duration": 8,
    "start_time": "2022-12-04T15:34:57.606Z"
   },
   {
    "duration": 1486,
    "start_time": "2022-12-04T15:35:04.152Z"
   },
   {
    "duration": 183,
    "start_time": "2022-12-04T15:35:35.297Z"
   },
   {
    "duration": 8,
    "start_time": "2022-12-04T15:35:40.315Z"
   },
   {
    "duration": 1513,
    "start_time": "2022-12-04T15:37:23.516Z"
   },
   {
    "duration": 7,
    "start_time": "2022-12-04T15:37:45.854Z"
   },
   {
    "duration": 1151,
    "start_time": "2022-12-04T15:37:47.694Z"
   },
   {
    "duration": 35,
    "start_time": "2022-12-04T15:38:05.669Z"
   },
   {
    "duration": 50,
    "start_time": "2022-12-04T15:38:27.788Z"
   },
   {
    "duration": 8690,
    "start_time": "2022-12-04T15:42:06.452Z"
   },
   {
    "duration": 157,
    "start_time": "2022-12-04T15:42:33.748Z"
   },
   {
    "duration": 3376,
    "start_time": "2022-12-04T15:42:42.651Z"
   },
   {
    "duration": 1811,
    "start_time": "2022-12-04T15:42:46.035Z"
   },
   {
    "duration": 82,
    "start_time": "2022-12-04T15:42:47.851Z"
   },
   {
    "duration": 28,
    "start_time": "2022-12-04T15:42:47.936Z"
   },
   {
    "duration": 9,
    "start_time": "2022-12-04T15:42:47.967Z"
   },
   {
    "duration": 60,
    "start_time": "2022-12-04T15:42:47.978Z"
   },
   {
    "duration": 22,
    "start_time": "2022-12-04T15:42:48.040Z"
   },
   {
    "duration": 220,
    "start_time": "2022-12-04T15:42:48.064Z"
   },
   {
    "duration": 13,
    "start_time": "2022-12-04T15:42:48.287Z"
   },
   {
    "duration": 209,
    "start_time": "2022-12-04T15:42:48.321Z"
   },
   {
    "duration": 274,
    "start_time": "2022-12-04T15:42:48.532Z"
   },
   {
    "duration": 34,
    "start_time": "2022-12-04T15:42:48.808Z"
   },
   {
    "duration": 18,
    "start_time": "2022-12-04T15:42:48.845Z"
   },
   {
    "duration": 29,
    "start_time": "2022-12-04T15:42:48.867Z"
   },
   {
    "duration": 62,
    "start_time": "2022-12-04T15:42:48.898Z"
   },
   {
    "duration": 79,
    "start_time": "2022-12-04T15:42:48.963Z"
   },
   {
    "duration": 8,
    "start_time": "2022-12-04T15:42:49.044Z"
   },
   {
    "duration": 142,
    "start_time": "2022-12-04T15:42:49.054Z"
   },
   {
    "duration": 4,
    "start_time": "2022-12-04T15:42:49.197Z"
   },
   {
    "duration": 1902,
    "start_time": "2022-12-04T15:42:49.203Z"
   },
   {
    "duration": 3,
    "start_time": "2022-12-04T15:42:51.107Z"
   },
   {
    "duration": 25,
    "start_time": "2022-12-04T15:42:51.111Z"
   },
   {
    "duration": 1390,
    "start_time": "2022-12-04T15:42:51.138Z"
   },
   {
    "duration": 252,
    "start_time": "2022-12-04T15:42:52.531Z"
   },
   {
    "duration": 13,
    "start_time": "2022-12-04T15:42:52.786Z"
   },
   {
    "duration": 51,
    "start_time": "2022-12-04T15:42:52.801Z"
   },
   {
    "duration": 6,
    "start_time": "2022-12-04T15:42:52.854Z"
   },
   {
    "duration": 707,
    "start_time": "2022-12-04T15:42:52.866Z"
   },
   {
    "duration": 138,
    "start_time": "2022-12-04T15:42:53.577Z"
   },
   {
    "duration": 173,
    "start_time": "2022-12-04T15:42:53.723Z"
   },
   {
    "duration": 7,
    "start_time": "2022-12-04T15:42:53.898Z"
   },
   {
    "duration": 9,
    "start_time": "2022-12-04T15:42:53.922Z"
   },
   {
    "duration": 42,
    "start_time": "2022-12-04T15:42:53.933Z"
   },
   {
    "duration": 36,
    "start_time": "2022-12-04T15:42:53.977Z"
   },
   {
    "duration": 37,
    "start_time": "2022-12-04T15:42:54.016Z"
   },
   {
    "duration": 46,
    "start_time": "2022-12-04T15:42:54.057Z"
   },
   {
    "duration": 366,
    "start_time": "2022-12-04T15:42:54.105Z"
   },
   {
    "duration": 20,
    "start_time": "2022-12-04T15:42:54.473Z"
   },
   {
    "duration": 43,
    "start_time": "2022-12-04T15:42:54.495Z"
   },
   {
    "duration": 30,
    "start_time": "2022-12-04T15:42:54.540Z"
   },
   {
    "duration": 99,
    "start_time": "2022-12-04T15:42:54.573Z"
   },
   {
    "duration": 12,
    "start_time": "2022-12-04T15:42:54.675Z"
   },
   {
    "duration": 33,
    "start_time": "2022-12-04T15:42:54.694Z"
   },
   {
    "duration": 59,
    "start_time": "2022-12-04T15:42:54.730Z"
   },
   {
    "duration": 14,
    "start_time": "2022-12-04T15:42:54.791Z"
   },
   {
    "duration": 11,
    "start_time": "2022-12-04T15:42:54.807Z"
   },
   {
    "duration": 1017,
    "start_time": "2022-12-04T15:42:54.821Z"
   },
   {
    "duration": 142,
    "start_time": "2022-12-04T15:42:55.841Z"
   },
   {
    "duration": 501,
    "start_time": "2022-12-04T15:42:55.990Z"
   },
   {
    "duration": 143,
    "start_time": "2022-12-04T15:42:56.493Z"
   },
   {
    "duration": 7,
    "start_time": "2022-12-04T15:42:56.643Z"
   },
   {
    "duration": 26485,
    "start_time": "2022-12-04T15:42:56.653Z"
   },
   {
    "duration": 211,
    "start_time": "2022-12-04T15:43:23.148Z"
   },
   {
    "duration": 371,
    "start_time": "2022-12-04T15:43:23.361Z"
   },
   {
    "duration": 17,
    "start_time": "2022-12-04T15:43:23.735Z"
   },
   {
    "duration": 23,
    "start_time": "2022-12-04T15:43:23.757Z"
   },
   {
    "duration": 12,
    "start_time": "2022-12-04T15:43:23.782Z"
   },
   {
    "duration": 84586,
    "start_time": "2022-12-04T15:43:23.796Z"
   },
   {
    "duration": 146,
    "start_time": "2022-12-04T15:44:48.384Z"
   },
   {
    "duration": 332,
    "start_time": "2022-12-04T15:44:48.532Z"
   },
   {
    "duration": 34045,
    "start_time": "2022-12-04T15:53:48.007Z"
   },
   {
    "duration": 117,
    "start_time": "2022-12-04T15:55:10.624Z"
   },
   {
    "duration": 125451,
    "start_time": "2022-12-04T15:55:42.519Z"
   },
   {
    "duration": 153,
    "start_time": "2022-12-04T15:57:47.972Z"
   },
   {
    "duration": 65999,
    "start_time": "2022-12-04T15:58:30.033Z"
   },
   {
    "duration": 156,
    "start_time": "2022-12-04T15:59:36.034Z"
   },
   {
    "duration": 93097,
    "start_time": "2022-12-04T16:02:48.382Z"
   },
   {
    "duration": 171,
    "start_time": "2022-12-04T16:04:21.482Z"
   },
   {
    "duration": 97,
    "start_time": "2022-12-04T16:04:33.860Z"
   },
   {
    "duration": 83,
    "start_time": "2022-12-04T16:05:01.653Z"
   },
   {
    "duration": 137,
    "start_time": "2022-12-04T16:05:24.454Z"
   },
   {
    "duration": 18,
    "start_time": "2022-12-04T16:05:51.897Z"
   },
   {
    "duration": 4,
    "start_time": "2022-12-04T16:06:01.346Z"
   },
   {
    "duration": 712,
    "start_time": "2022-12-04T16:06:05.340Z"
   },
   {
    "duration": 113,
    "start_time": "2022-12-04T16:06:12.735Z"
   },
   {
    "duration": 12,
    "start_time": "2022-12-04T16:07:01.401Z"
   },
   {
    "duration": 2351,
    "start_time": "2022-12-05T14:41:29.221Z"
   },
   {
    "duration": 10101,
    "start_time": "2022-12-05T14:41:32.761Z"
   },
   {
    "duration": 28,
    "start_time": "2022-12-05T14:41:42.864Z"
   },
   {
    "duration": 0,
    "start_time": "2022-12-05T14:41:42.896Z"
   },
   {
    "duration": 0,
    "start_time": "2022-12-05T14:41:42.897Z"
   },
   {
    "duration": 0,
    "start_time": "2022-12-05T14:41:42.898Z"
   },
   {
    "duration": 0,
    "start_time": "2022-12-05T14:41:42.899Z"
   },
   {
    "duration": 0,
    "start_time": "2022-12-05T14:41:42.900Z"
   },
   {
    "duration": 0,
    "start_time": "2022-12-05T14:41:42.901Z"
   },
   {
    "duration": 0,
    "start_time": "2022-12-05T14:41:42.902Z"
   },
   {
    "duration": 0,
    "start_time": "2022-12-05T14:41:42.903Z"
   },
   {
    "duration": 0,
    "start_time": "2022-12-05T14:41:42.904Z"
   },
   {
    "duration": 0,
    "start_time": "2022-12-05T14:41:42.905Z"
   },
   {
    "duration": 0,
    "start_time": "2022-12-05T14:41:42.906Z"
   },
   {
    "duration": 0,
    "start_time": "2022-12-05T14:41:42.907Z"
   },
   {
    "duration": 0,
    "start_time": "2022-12-05T14:41:42.908Z"
   },
   {
    "duration": 0,
    "start_time": "2022-12-05T14:41:42.909Z"
   },
   {
    "duration": 0,
    "start_time": "2022-12-05T14:41:42.910Z"
   },
   {
    "duration": 0,
    "start_time": "2022-12-05T14:41:42.912Z"
   },
   {
    "duration": 0,
    "start_time": "2022-12-05T14:41:42.916Z"
   },
   {
    "duration": 0,
    "start_time": "2022-12-05T14:41:42.917Z"
   },
   {
    "duration": 0,
    "start_time": "2022-12-05T14:41:42.917Z"
   },
   {
    "duration": 0,
    "start_time": "2022-12-05T14:41:42.918Z"
   },
   {
    "duration": 0,
    "start_time": "2022-12-05T14:41:42.919Z"
   },
   {
    "duration": 0,
    "start_time": "2022-12-05T14:41:42.919Z"
   },
   {
    "duration": 0,
    "start_time": "2022-12-05T14:41:42.924Z"
   },
   {
    "duration": 0,
    "start_time": "2022-12-05T14:41:42.925Z"
   },
   {
    "duration": 0,
    "start_time": "2022-12-05T14:41:42.925Z"
   },
   {
    "duration": 0,
    "start_time": "2022-12-05T14:41:42.926Z"
   },
   {
    "duration": 0,
    "start_time": "2022-12-05T14:41:42.926Z"
   },
   {
    "duration": 0,
    "start_time": "2022-12-05T14:41:42.931Z"
   },
   {
    "duration": 0,
    "start_time": "2022-12-05T14:41:42.932Z"
   },
   {
    "duration": 0,
    "start_time": "2022-12-05T14:41:42.933Z"
   },
   {
    "duration": 0,
    "start_time": "2022-12-05T14:41:42.943Z"
   },
   {
    "duration": 0,
    "start_time": "2022-12-05T14:41:42.944Z"
   },
   {
    "duration": 0,
    "start_time": "2022-12-05T14:41:42.945Z"
   },
   {
    "duration": 0,
    "start_time": "2022-12-05T14:41:42.946Z"
   },
   {
    "duration": 0,
    "start_time": "2022-12-05T14:41:42.947Z"
   },
   {
    "duration": 0,
    "start_time": "2022-12-05T14:41:42.947Z"
   },
   {
    "duration": 0,
    "start_time": "2022-12-05T14:41:42.948Z"
   },
   {
    "duration": 0,
    "start_time": "2022-12-05T14:41:42.949Z"
   },
   {
    "duration": 0,
    "start_time": "2022-12-05T14:41:42.950Z"
   },
   {
    "duration": 0,
    "start_time": "2022-12-05T14:41:42.952Z"
   },
   {
    "duration": 0,
    "start_time": "2022-12-05T14:41:42.953Z"
   },
   {
    "duration": 0,
    "start_time": "2022-12-05T14:41:42.956Z"
   },
   {
    "duration": 0,
    "start_time": "2022-12-05T14:41:42.957Z"
   },
   {
    "duration": 0,
    "start_time": "2022-12-05T14:41:42.958Z"
   },
   {
    "duration": 1,
    "start_time": "2022-12-05T14:41:42.959Z"
   },
   {
    "duration": 0,
    "start_time": "2022-12-05T14:41:42.961Z"
   },
   {
    "duration": 0,
    "start_time": "2022-12-05T14:41:42.962Z"
   },
   {
    "duration": 0,
    "start_time": "2022-12-05T14:41:42.963Z"
   },
   {
    "duration": 0,
    "start_time": "2022-12-05T14:41:42.965Z"
   },
   {
    "duration": 0,
    "start_time": "2022-12-05T14:41:42.966Z"
   },
   {
    "duration": 0,
    "start_time": "2022-12-05T14:41:42.966Z"
   },
   {
    "duration": 0,
    "start_time": "2022-12-05T14:41:42.967Z"
   },
   {
    "duration": 0,
    "start_time": "2022-12-05T14:41:42.968Z"
   },
   {
    "duration": 0,
    "start_time": "2022-12-05T14:41:42.970Z"
   },
   {
    "duration": 0,
    "start_time": "2022-12-05T14:41:42.971Z"
   },
   {
    "duration": 0,
    "start_time": "2022-12-05T14:41:42.973Z"
   },
   {
    "duration": 0,
    "start_time": "2022-12-05T14:41:42.974Z"
   },
   {
    "duration": 0,
    "start_time": "2022-12-05T14:41:42.976Z"
   },
   {
    "duration": 0,
    "start_time": "2022-12-05T14:41:43.013Z"
   },
   {
    "duration": 0,
    "start_time": "2022-12-05T14:41:43.015Z"
   },
   {
    "duration": 2699,
    "start_time": "2022-12-05T14:42:30.751Z"
   },
   {
    "duration": 21,
    "start_time": "2022-12-05T14:42:33.453Z"
   },
   {
    "duration": 0,
    "start_time": "2022-12-05T14:42:33.477Z"
   },
   {
    "duration": 0,
    "start_time": "2022-12-05T14:42:33.478Z"
   },
   {
    "duration": 0,
    "start_time": "2022-12-05T14:42:33.480Z"
   },
   {
    "duration": 0,
    "start_time": "2022-12-05T14:42:33.481Z"
   },
   {
    "duration": 0,
    "start_time": "2022-12-05T14:42:33.482Z"
   },
   {
    "duration": 0,
    "start_time": "2022-12-05T14:42:33.484Z"
   },
   {
    "duration": 0,
    "start_time": "2022-12-05T14:42:33.485Z"
   },
   {
    "duration": 0,
    "start_time": "2022-12-05T14:42:33.485Z"
   },
   {
    "duration": 0,
    "start_time": "2022-12-05T14:42:33.486Z"
   },
   {
    "duration": 0,
    "start_time": "2022-12-05T14:42:33.488Z"
   },
   {
    "duration": 0,
    "start_time": "2022-12-05T14:42:33.489Z"
   },
   {
    "duration": 0,
    "start_time": "2022-12-05T14:42:33.490Z"
   },
   {
    "duration": 0,
    "start_time": "2022-12-05T14:42:33.491Z"
   },
   {
    "duration": 0,
    "start_time": "2022-12-05T14:42:33.492Z"
   },
   {
    "duration": 0,
    "start_time": "2022-12-05T14:42:33.493Z"
   },
   {
    "duration": 0,
    "start_time": "2022-12-05T14:42:33.494Z"
   },
   {
    "duration": 0,
    "start_time": "2022-12-05T14:42:33.496Z"
   },
   {
    "duration": 0,
    "start_time": "2022-12-05T14:42:33.497Z"
   },
   {
    "duration": 0,
    "start_time": "2022-12-05T14:42:33.499Z"
   },
   {
    "duration": 0,
    "start_time": "2022-12-05T14:42:33.500Z"
   },
   {
    "duration": 0,
    "start_time": "2022-12-05T14:42:33.502Z"
   },
   {
    "duration": 0,
    "start_time": "2022-12-05T14:42:33.504Z"
   },
   {
    "duration": 0,
    "start_time": "2022-12-05T14:42:33.512Z"
   },
   {
    "duration": 0,
    "start_time": "2022-12-05T14:42:33.513Z"
   },
   {
    "duration": 0,
    "start_time": "2022-12-05T14:42:33.516Z"
   },
   {
    "duration": 0,
    "start_time": "2022-12-05T14:42:33.517Z"
   },
   {
    "duration": 0,
    "start_time": "2022-12-05T14:42:33.518Z"
   },
   {
    "duration": 0,
    "start_time": "2022-12-05T14:42:33.518Z"
   },
   {
    "duration": 0,
    "start_time": "2022-12-05T14:42:33.519Z"
   },
   {
    "duration": 0,
    "start_time": "2022-12-05T14:42:33.520Z"
   },
   {
    "duration": 0,
    "start_time": "2022-12-05T14:42:33.521Z"
   },
   {
    "duration": 0,
    "start_time": "2022-12-05T14:42:33.521Z"
   },
   {
    "duration": 0,
    "start_time": "2022-12-05T14:42:33.522Z"
   },
   {
    "duration": 0,
    "start_time": "2022-12-05T14:42:33.523Z"
   },
   {
    "duration": 0,
    "start_time": "2022-12-05T14:42:33.530Z"
   },
   {
    "duration": 0,
    "start_time": "2022-12-05T14:42:33.533Z"
   },
   {
    "duration": 0,
    "start_time": "2022-12-05T14:42:33.534Z"
   },
   {
    "duration": 0,
    "start_time": "2022-12-05T14:42:33.535Z"
   },
   {
    "duration": 0,
    "start_time": "2022-12-05T14:42:33.538Z"
   },
   {
    "duration": 0,
    "start_time": "2022-12-05T14:42:33.540Z"
   },
   {
    "duration": 0,
    "start_time": "2022-12-05T14:42:33.541Z"
   },
   {
    "duration": 0,
    "start_time": "2022-12-05T14:42:33.543Z"
   },
   {
    "duration": 0,
    "start_time": "2022-12-05T14:42:33.545Z"
   },
   {
    "duration": 0,
    "start_time": "2022-12-05T14:42:33.546Z"
   },
   {
    "duration": 0,
    "start_time": "2022-12-05T14:42:33.547Z"
   },
   {
    "duration": 0,
    "start_time": "2022-12-05T14:42:33.549Z"
   },
   {
    "duration": 0,
    "start_time": "2022-12-05T14:42:33.550Z"
   },
   {
    "duration": 1,
    "start_time": "2022-12-05T14:42:33.551Z"
   },
   {
    "duration": 0,
    "start_time": "2022-12-05T14:42:33.553Z"
   },
   {
    "duration": 1,
    "start_time": "2022-12-05T14:42:33.554Z"
   },
   {
    "duration": 0,
    "start_time": "2022-12-05T14:42:33.556Z"
   },
   {
    "duration": 0,
    "start_time": "2022-12-05T14:42:33.558Z"
   },
   {
    "duration": 0,
    "start_time": "2022-12-05T14:42:33.559Z"
   },
   {
    "duration": 0,
    "start_time": "2022-12-05T14:42:33.615Z"
   },
   {
    "duration": 0,
    "start_time": "2022-12-05T14:42:33.616Z"
   },
   {
    "duration": 0,
    "start_time": "2022-12-05T14:42:33.617Z"
   },
   {
    "duration": 0,
    "start_time": "2022-12-05T14:42:33.622Z"
   },
   {
    "duration": 0,
    "start_time": "2022-12-05T14:42:33.624Z"
   },
   {
    "duration": 0,
    "start_time": "2022-12-05T14:42:33.625Z"
   },
   {
    "duration": 0,
    "start_time": "2022-12-05T14:42:33.627Z"
   },
   {
    "duration": 2796,
    "start_time": "2022-12-05T14:43:09.042Z"
   },
   {
    "duration": 22,
    "start_time": "2022-12-05T14:43:11.841Z"
   },
   {
    "duration": 0,
    "start_time": "2022-12-05T14:43:11.867Z"
   },
   {
    "duration": 0,
    "start_time": "2022-12-05T14:43:11.869Z"
   },
   {
    "duration": 0,
    "start_time": "2022-12-05T14:43:11.870Z"
   },
   {
    "duration": 0,
    "start_time": "2022-12-05T14:43:11.872Z"
   },
   {
    "duration": 0,
    "start_time": "2022-12-05T14:43:11.874Z"
   },
   {
    "duration": 0,
    "start_time": "2022-12-05T14:43:11.875Z"
   },
   {
    "duration": 0,
    "start_time": "2022-12-05T14:43:11.877Z"
   },
   {
    "duration": 0,
    "start_time": "2022-12-05T14:43:11.878Z"
   },
   {
    "duration": 0,
    "start_time": "2022-12-05T14:43:11.880Z"
   },
   {
    "duration": 0,
    "start_time": "2022-12-05T14:43:11.881Z"
   },
   {
    "duration": 0,
    "start_time": "2022-12-05T14:43:11.883Z"
   },
   {
    "duration": 0,
    "start_time": "2022-12-05T14:43:11.884Z"
   },
   {
    "duration": 0,
    "start_time": "2022-12-05T14:43:11.885Z"
   },
   {
    "duration": 0,
    "start_time": "2022-12-05T14:43:11.887Z"
   },
   {
    "duration": 0,
    "start_time": "2022-12-05T14:43:11.888Z"
   },
   {
    "duration": 0,
    "start_time": "2022-12-05T14:43:11.890Z"
   },
   {
    "duration": 0,
    "start_time": "2022-12-05T14:43:11.891Z"
   },
   {
    "duration": 0,
    "start_time": "2022-12-05T14:43:11.919Z"
   },
   {
    "duration": 0,
    "start_time": "2022-12-05T14:43:11.924Z"
   },
   {
    "duration": 0,
    "start_time": "2022-12-05T14:43:11.925Z"
   },
   {
    "duration": 0,
    "start_time": "2022-12-05T14:43:11.926Z"
   },
   {
    "duration": 0,
    "start_time": "2022-12-05T14:43:11.927Z"
   },
   {
    "duration": 0,
    "start_time": "2022-12-05T14:43:11.928Z"
   },
   {
    "duration": 0,
    "start_time": "2022-12-05T14:43:11.929Z"
   },
   {
    "duration": 0,
    "start_time": "2022-12-05T14:43:11.930Z"
   },
   {
    "duration": 0,
    "start_time": "2022-12-05T14:43:11.931Z"
   },
   {
    "duration": 0,
    "start_time": "2022-12-05T14:43:11.932Z"
   },
   {
    "duration": 0,
    "start_time": "2022-12-05T14:43:11.934Z"
   },
   {
    "duration": 0,
    "start_time": "2022-12-05T14:43:11.935Z"
   },
   {
    "duration": 0,
    "start_time": "2022-12-05T14:43:11.936Z"
   },
   {
    "duration": 0,
    "start_time": "2022-12-05T14:43:11.937Z"
   },
   {
    "duration": 0,
    "start_time": "2022-12-05T14:43:11.939Z"
   },
   {
    "duration": 0,
    "start_time": "2022-12-05T14:43:11.940Z"
   },
   {
    "duration": 0,
    "start_time": "2022-12-05T14:43:11.941Z"
   },
   {
    "duration": 0,
    "start_time": "2022-12-05T14:43:11.942Z"
   },
   {
    "duration": 0,
    "start_time": "2022-12-05T14:43:11.943Z"
   },
   {
    "duration": 0,
    "start_time": "2022-12-05T14:43:11.945Z"
   },
   {
    "duration": 0,
    "start_time": "2022-12-05T14:43:11.946Z"
   },
   {
    "duration": 0,
    "start_time": "2022-12-05T14:43:11.947Z"
   },
   {
    "duration": 0,
    "start_time": "2022-12-05T14:43:11.948Z"
   },
   {
    "duration": 0,
    "start_time": "2022-12-05T14:43:11.949Z"
   },
   {
    "duration": 0,
    "start_time": "2022-12-05T14:43:11.950Z"
   },
   {
    "duration": 0,
    "start_time": "2022-12-05T14:43:11.951Z"
   },
   {
    "duration": 0,
    "start_time": "2022-12-05T14:43:11.952Z"
   },
   {
    "duration": 0,
    "start_time": "2022-12-05T14:43:11.953Z"
   },
   {
    "duration": 0,
    "start_time": "2022-12-05T14:43:11.954Z"
   },
   {
    "duration": 0,
    "start_time": "2022-12-05T14:43:11.955Z"
   },
   {
    "duration": 0,
    "start_time": "2022-12-05T14:43:11.956Z"
   },
   {
    "duration": 0,
    "start_time": "2022-12-05T14:43:11.957Z"
   },
   {
    "duration": 0,
    "start_time": "2022-12-05T14:43:11.958Z"
   },
   {
    "duration": 0,
    "start_time": "2022-12-05T14:43:11.959Z"
   },
   {
    "duration": 0,
    "start_time": "2022-12-05T14:43:11.960Z"
   },
   {
    "duration": 0,
    "start_time": "2022-12-05T14:43:12.013Z"
   },
   {
    "duration": 0,
    "start_time": "2022-12-05T14:43:12.015Z"
   },
   {
    "duration": 0,
    "start_time": "2022-12-05T14:43:12.020Z"
   },
   {
    "duration": 0,
    "start_time": "2022-12-05T14:43:12.020Z"
   },
   {
    "duration": 0,
    "start_time": "2022-12-05T14:43:12.021Z"
   },
   {
    "duration": 0,
    "start_time": "2022-12-05T14:43:12.022Z"
   },
   {
    "duration": 0,
    "start_time": "2022-12-05T14:43:12.024Z"
   },
   {
    "duration": 0,
    "start_time": "2022-12-05T14:43:12.030Z"
   },
   {
    "duration": 2870,
    "start_time": "2022-12-05T14:45:01.200Z"
   },
   {
    "duration": 3,
    "start_time": "2022-12-05T14:46:06.508Z"
   },
   {
    "duration": 1602,
    "start_time": "2022-12-05T14:46:06.518Z"
   },
   {
    "duration": 190,
    "start_time": "2022-12-05T14:46:08.122Z"
   },
   {
    "duration": 17,
    "start_time": "2022-12-05T14:46:08.314Z"
   },
   {
    "duration": 11,
    "start_time": "2022-12-05T14:46:08.333Z"
   },
   {
    "duration": 14,
    "start_time": "2022-12-05T14:46:08.346Z"
   },
   {
    "duration": 14,
    "start_time": "2022-12-05T14:46:08.361Z"
   },
   {
    "duration": 264,
    "start_time": "2022-12-05T14:46:08.377Z"
   },
   {
    "duration": 9,
    "start_time": "2022-12-05T14:46:08.643Z"
   },
   {
    "duration": 292,
    "start_time": "2022-12-05T14:46:08.654Z"
   },
   {
    "duration": 492,
    "start_time": "2022-12-05T14:46:08.950Z"
   },
   {
    "duration": 77,
    "start_time": "2022-12-05T14:46:09.445Z"
   },
   {
    "duration": 9,
    "start_time": "2022-12-05T14:46:09.524Z"
   },
   {
    "duration": 17,
    "start_time": "2022-12-05T14:46:09.535Z"
   },
   {
    "duration": 76,
    "start_time": "2022-12-05T14:46:09.554Z"
   },
   {
    "duration": 90,
    "start_time": "2022-12-05T14:46:09.633Z"
   },
   {
    "duration": 7,
    "start_time": "2022-12-05T14:46:09.725Z"
   },
   {
    "duration": 320,
    "start_time": "2022-12-05T14:46:09.735Z"
   },
   {
    "duration": 5,
    "start_time": "2022-12-05T14:46:10.056Z"
   },
   {
    "duration": 3399,
    "start_time": "2022-12-05T14:46:10.062Z"
   },
   {
    "duration": 4,
    "start_time": "2022-12-05T14:46:13.463Z"
   },
   {
    "duration": 6,
    "start_time": "2022-12-05T14:46:13.468Z"
   },
   {
    "duration": 1063,
    "start_time": "2022-12-05T14:46:13.476Z"
   },
   {
    "duration": 237,
    "start_time": "2022-12-05T14:46:14.540Z"
   },
   {
    "duration": 11,
    "start_time": "2022-12-05T14:46:14.779Z"
   },
   {
    "duration": 34,
    "start_time": "2022-12-05T14:46:14.792Z"
   },
   {
    "duration": 6,
    "start_time": "2022-12-05T14:46:14.828Z"
   },
   {
    "duration": 623,
    "start_time": "2022-12-05T14:46:14.836Z"
   },
   {
    "duration": 128,
    "start_time": "2022-12-05T14:46:15.463Z"
   },
   {
    "duration": 101633,
    "start_time": "2022-12-05T14:46:15.593Z"
   },
   {
    "duration": 173,
    "start_time": "2022-12-05T14:47:57.229Z"
   },
   {
    "duration": 254,
    "start_time": "2022-12-05T14:47:57.404Z"
   },
   {
    "duration": 7,
    "start_time": "2022-12-05T14:47:57.660Z"
   },
   {
    "duration": 9,
    "start_time": "2022-12-05T14:47:57.669Z"
   },
   {
    "duration": 8,
    "start_time": "2022-12-05T14:47:57.680Z"
   },
   {
    "duration": 44,
    "start_time": "2022-12-05T14:47:57.690Z"
   },
   {
    "duration": 7,
    "start_time": "2022-12-05T14:47:57.736Z"
   },
   {
    "duration": 22,
    "start_time": "2022-12-05T14:47:57.745Z"
   },
   {
    "duration": 185,
    "start_time": "2022-12-05T14:47:57.769Z"
   },
   {
    "duration": 14,
    "start_time": "2022-12-05T14:47:57.956Z"
   },
   {
    "duration": 15,
    "start_time": "2022-12-05T14:47:57.971Z"
   },
   {
    "duration": 15,
    "start_time": "2022-12-05T14:47:57.988Z"
   },
   {
    "duration": 41,
    "start_time": "2022-12-05T14:47:58.005Z"
   },
   {
    "duration": 9,
    "start_time": "2022-12-05T14:47:58.048Z"
   },
   {
    "duration": 11,
    "start_time": "2022-12-05T14:47:58.059Z"
   },
   {
    "duration": 22,
    "start_time": "2022-12-05T14:47:58.072Z"
   },
   {
    "duration": 19,
    "start_time": "2022-12-05T14:47:58.095Z"
   },
   {
    "duration": 21,
    "start_time": "2022-12-05T14:47:58.120Z"
   },
   {
    "duration": 1380,
    "start_time": "2022-12-05T14:47:58.143Z"
   },
   {
    "duration": 197,
    "start_time": "2022-12-05T14:47:59.527Z"
   },
   {
    "duration": 366,
    "start_time": "2022-12-05T14:47:59.726Z"
   },
   {
    "duration": 83,
    "start_time": "2022-12-05T14:48:00.094Z"
   },
   {
    "duration": 4,
    "start_time": "2022-12-05T14:48:00.178Z"
   },
   {
    "duration": 21187,
    "start_time": "2022-12-05T14:48:00.184Z"
   },
   {
    "duration": 97,
    "start_time": "2022-12-05T14:48:21.372Z"
   },
   {
    "duration": 254,
    "start_time": "2022-12-05T14:48:21.471Z"
   },
   {
    "duration": 11,
    "start_time": "2022-12-05T14:48:21.729Z"
   },
   {
    "duration": 15,
    "start_time": "2022-12-05T14:48:21.742Z"
   },
   {
    "duration": 10,
    "start_time": "2022-12-05T14:48:21.759Z"
   },
   {
    "duration": 81197,
    "start_time": "2022-12-05T14:48:21.770Z"
   },
   {
    "duration": 101,
    "start_time": "2022-12-05T14:49:42.969Z"
   },
   {
    "duration": 301,
    "start_time": "2022-12-05T14:49:43.072Z"
   },
   {
    "duration": 3,
    "start_time": "2022-12-05T14:49:43.377Z"
   },
   {
    "duration": 16,
    "start_time": "2022-12-05T14:50:35.355Z"
   },
   {
    "duration": 16,
    "start_time": "2022-12-05T14:51:36.296Z"
   },
   {
    "duration": 23,
    "start_time": "2022-12-05T14:51:44.659Z"
   },
   {
    "duration": 18,
    "start_time": "2022-12-05T14:52:07.643Z"
   },
   {
    "duration": 133,
    "start_time": "2022-12-05T14:52:13.374Z"
   },
   {
    "duration": 11,
    "start_time": "2022-12-05T14:52:17.809Z"
   },
   {
    "duration": 6,
    "start_time": "2022-12-05T14:52:26.449Z"
   },
   {
    "duration": 16,
    "start_time": "2022-12-05T14:52:38.958Z"
   },
   {
    "duration": 14,
    "start_time": "2022-12-05T14:52:42.403Z"
   },
   {
    "duration": 6,
    "start_time": "2022-12-05T14:52:44.834Z"
   },
   {
    "duration": 3,
    "start_time": "2022-12-05T14:55:09.771Z"
   },
   {
    "duration": 23,
    "start_time": "2022-12-05T14:55:35.359Z"
   },
   {
    "duration": 3,
    "start_time": "2022-12-05T14:57:30.634Z"
   },
   {
    "duration": 12,
    "start_time": "2022-12-05T15:03:01.294Z"
   },
   {
    "duration": 11,
    "start_time": "2022-12-05T15:04:11.452Z"
   },
   {
    "duration": 12,
    "start_time": "2022-12-05T15:04:30.557Z"
   },
   {
    "duration": 10,
    "start_time": "2022-12-05T15:05:30.130Z"
   },
   {
    "duration": 5,
    "start_time": "2022-12-05T15:07:20.935Z"
   },
   {
    "duration": 14,
    "start_time": "2022-12-05T15:07:30.370Z"
   },
   {
    "duration": 4,
    "start_time": "2022-12-05T15:08:39.096Z"
   },
   {
    "duration": 9,
    "start_time": "2022-12-05T15:09:43.024Z"
   },
   {
    "duration": 24,
    "start_time": "2022-12-05T15:10:01.534Z"
   },
   {
    "duration": 17,
    "start_time": "2022-12-05T15:10:19.346Z"
   },
   {
    "duration": 83,
    "start_time": "2022-12-05T15:11:02.442Z"
   },
   {
    "duration": 6,
    "start_time": "2022-12-05T15:11:34.710Z"
   },
   {
    "duration": 1242,
    "start_time": "2022-12-05T15:11:41.969Z"
   },
   {
    "duration": 62,
    "start_time": "2022-12-05T15:13:31.573Z"
   },
   {
    "duration": 17,
    "start_time": "2022-12-05T15:14:58.481Z"
   },
   {
    "duration": 15,
    "start_time": "2022-12-05T15:19:56.067Z"
   },
   {
    "duration": 10,
    "start_time": "2022-12-05T15:20:00.786Z"
   },
   {
    "duration": 19,
    "start_time": "2022-12-05T15:20:26.739Z"
   },
   {
    "duration": 10,
    "start_time": "2022-12-05T15:20:56.975Z"
   },
   {
    "duration": 27,
    "start_time": "2022-12-05T15:21:06.403Z"
   },
   {
    "duration": 15,
    "start_time": "2022-12-05T15:21:16.462Z"
   },
   {
    "duration": 22,
    "start_time": "2022-12-05T15:21:28.418Z"
   },
   {
    "duration": 16,
    "start_time": "2022-12-05T15:22:06.308Z"
   },
   {
    "duration": 12,
    "start_time": "2022-12-05T15:22:15.393Z"
   },
   {
    "duration": 17,
    "start_time": "2022-12-05T15:22:27.225Z"
   },
   {
    "duration": 11,
    "start_time": "2022-12-05T15:22:31.841Z"
   },
   {
    "duration": 16,
    "start_time": "2022-12-05T15:22:39.230Z"
   },
   {
    "duration": 12,
    "start_time": "2022-12-05T15:22:42.649Z"
   },
   {
    "duration": 7,
    "start_time": "2022-12-05T15:26:51.369Z"
   },
   {
    "duration": 30,
    "start_time": "2022-12-05T15:27:06.991Z"
   },
   {
    "duration": 9,
    "start_time": "2022-12-05T15:29:34.999Z"
   },
   {
    "duration": 13,
    "start_time": "2022-12-05T15:29:43.714Z"
   },
   {
    "duration": 11,
    "start_time": "2022-12-05T15:30:04.231Z"
   },
   {
    "duration": 14,
    "start_time": "2022-12-05T15:30:38.725Z"
   },
   {
    "duration": 13,
    "start_time": "2022-12-05T15:30:45.883Z"
   },
   {
    "duration": 14,
    "start_time": "2022-12-05T15:30:47.679Z"
   },
   {
    "duration": 3,
    "start_time": "2022-12-05T15:30:49.766Z"
   },
   {
    "duration": 1394,
    "start_time": "2022-12-05T15:30:52.394Z"
   },
   {
    "duration": 67,
    "start_time": "2022-12-05T15:30:59.671Z"
   },
   {
    "duration": 15,
    "start_time": "2022-12-05T15:38:59.854Z"
   },
   {
    "duration": 8,
    "start_time": "2022-12-05T15:39:05.954Z"
   },
   {
    "duration": 10,
    "start_time": "2022-12-05T15:39:18.498Z"
   },
   {
    "duration": 28,
    "start_time": "2022-12-05T15:39:23.250Z"
   },
   {
    "duration": 13,
    "start_time": "2022-12-05T15:40:12.844Z"
   },
   {
    "duration": 5,
    "start_time": "2022-12-05T15:40:13.269Z"
   },
   {
    "duration": 15,
    "start_time": "2022-12-05T15:40:13.491Z"
   },
   {
    "duration": 5,
    "start_time": "2022-12-05T15:40:13.710Z"
   },
   {
    "duration": 3,
    "start_time": "2022-12-05T15:40:14.218Z"
   },
   {
    "duration": 3,
    "start_time": "2022-12-05T15:40:14.349Z"
   },
   {
    "duration": 1376,
    "start_time": "2022-12-05T15:40:14.546Z"
   },
   {
    "duration": 60,
    "start_time": "2022-12-05T15:40:15.924Z"
   },
   {
    "duration": 10,
    "start_time": "2022-12-05T15:40:15.986Z"
   },
   {
    "duration": 20,
    "start_time": "2022-12-05T15:40:26.543Z"
   },
   {
    "duration": 18,
    "start_time": "2022-12-05T15:40:32.953Z"
   },
   {
    "duration": 15,
    "start_time": "2022-12-05T15:42:57.991Z"
   },
   {
    "duration": 1283,
    "start_time": "2022-12-05T15:43:04.605Z"
   },
   {
    "duration": 28,
    "start_time": "2022-12-05T15:45:41.985Z"
   },
   {
    "duration": 22,
    "start_time": "2022-12-05T15:45:46.432Z"
   },
   {
    "duration": 2,
    "start_time": "2022-12-05T15:56:14.497Z"
   },
   {
    "duration": 14,
    "start_time": "2022-12-05T15:56:14.503Z"
   },
   {
    "duration": 51,
    "start_time": "2022-12-05T15:56:14.519Z"
   },
   {
    "duration": 12,
    "start_time": "2022-12-05T15:56:14.572Z"
   },
   {
    "duration": 10,
    "start_time": "2022-12-05T15:56:14.586Z"
   },
   {
    "duration": 21,
    "start_time": "2022-12-05T15:56:14.598Z"
   },
   {
    "duration": 23,
    "start_time": "2022-12-05T15:56:14.621Z"
   },
   {
    "duration": 322,
    "start_time": "2022-12-05T15:56:14.645Z"
   },
   {
    "duration": 12,
    "start_time": "2022-12-05T15:56:14.969Z"
   },
   {
    "duration": 139,
    "start_time": "2022-12-05T15:56:14.983Z"
   },
   {
    "duration": 157,
    "start_time": "2022-12-05T15:56:15.126Z"
   },
   {
    "duration": 16,
    "start_time": "2022-12-05T15:56:15.285Z"
   },
   {
    "duration": 14,
    "start_time": "2022-12-05T15:56:15.303Z"
   },
   {
    "duration": 16,
    "start_time": "2022-12-05T15:56:15.319Z"
   },
   {
    "duration": 22,
    "start_time": "2022-12-05T15:56:15.337Z"
   },
   {
    "duration": 61,
    "start_time": "2022-12-05T15:56:15.361Z"
   },
   {
    "duration": 4,
    "start_time": "2022-12-05T15:56:15.425Z"
   },
   {
    "duration": 248,
    "start_time": "2022-12-05T15:56:15.430Z"
   },
   {
    "duration": 3,
    "start_time": "2022-12-05T15:56:15.680Z"
   },
   {
    "duration": 1474,
    "start_time": "2022-12-05T15:56:15.685Z"
   },
   {
    "duration": 3,
    "start_time": "2022-12-05T15:56:17.161Z"
   },
   {
    "duration": 7,
    "start_time": "2022-12-05T15:56:17.166Z"
   },
   {
    "duration": 1013,
    "start_time": "2022-12-05T15:56:17.174Z"
   },
   {
    "duration": 201,
    "start_time": "2022-12-05T15:56:18.189Z"
   },
   {
    "duration": 21,
    "start_time": "2022-12-05T15:56:18.392Z"
   },
   {
    "duration": 13,
    "start_time": "2022-12-05T15:56:18.414Z"
   },
   {
    "duration": 4,
    "start_time": "2022-12-05T15:56:18.429Z"
   },
   {
    "duration": 586,
    "start_time": "2022-12-05T15:56:18.435Z"
   },
   {
    "duration": 117,
    "start_time": "2022-12-05T15:56:19.025Z"
   },
   {
    "duration": 88457,
    "start_time": "2022-12-05T15:56:19.144Z"
   },
   {
    "duration": 171,
    "start_time": "2022-12-05T15:57:47.602Z"
   },
   {
    "duration": 3,
    "start_time": "2022-12-05T15:57:47.774Z"
   },
   {
    "duration": 16,
    "start_time": "2022-12-05T15:57:47.779Z"
   },
   {
    "duration": 5,
    "start_time": "2022-12-05T15:57:47.796Z"
   },
   {
    "duration": 15,
    "start_time": "2022-12-05T15:57:47.813Z"
   },
   {
    "duration": 5,
    "start_time": "2022-12-05T15:57:47.829Z"
   },
   {
    "duration": 5,
    "start_time": "2022-12-05T15:57:47.836Z"
   },
   {
    "duration": 6,
    "start_time": "2022-12-05T15:57:47.842Z"
   },
   {
    "duration": 1321,
    "start_time": "2022-12-05T15:57:47.850Z"
   },
   {
    "duration": 64,
    "start_time": "2022-12-05T15:57:49.173Z"
   },
   {
    "duration": 10,
    "start_time": "2022-12-05T15:57:49.238Z"
   },
   {
    "duration": 22,
    "start_time": "2022-12-05T15:57:49.249Z"
   },
   {
    "duration": 17,
    "start_time": "2022-12-05T15:57:49.273Z"
   },
   {
    "duration": 137,
    "start_time": "2022-12-05T15:57:49.313Z"
   },
   {
    "duration": 5,
    "start_time": "2022-12-05T15:57:49.452Z"
   },
   {
    "duration": 9,
    "start_time": "2022-12-05T15:57:49.459Z"
   },
   {
    "duration": 33,
    "start_time": "2022-12-05T15:57:49.470Z"
   },
   {
    "duration": 10,
    "start_time": "2022-12-05T15:57:49.505Z"
   },
   {
    "duration": 23,
    "start_time": "2022-12-05T15:57:49.517Z"
   },
   {
    "duration": 149,
    "start_time": "2022-12-05T15:57:49.542Z"
   },
   {
    "duration": 22,
    "start_time": "2022-12-05T15:57:49.692Z"
   },
   {
    "duration": 7,
    "start_time": "2022-12-05T15:57:49.715Z"
   },
   {
    "duration": 10,
    "start_time": "2022-12-05T15:57:49.724Z"
   },
   {
    "duration": 39,
    "start_time": "2022-12-05T15:57:49.735Z"
   },
   {
    "duration": 7,
    "start_time": "2022-12-05T15:57:49.775Z"
   },
   {
    "duration": 6,
    "start_time": "2022-12-05T15:57:49.784Z"
   },
   {
    "duration": 40,
    "start_time": "2022-12-05T15:57:49.791Z"
   },
   {
    "duration": 6,
    "start_time": "2022-12-05T15:57:49.832Z"
   },
   {
    "duration": 8,
    "start_time": "2022-12-05T15:57:49.840Z"
   },
   {
    "duration": 563,
    "start_time": "2022-12-05T15:57:49.850Z"
   },
   {
    "duration": 105,
    "start_time": "2022-12-05T15:57:50.415Z"
   },
   {
    "duration": 327,
    "start_time": "2022-12-05T15:57:50.522Z"
   },
   {
    "duration": 71,
    "start_time": "2022-12-05T15:57:50.850Z"
   },
   {
    "duration": 4,
    "start_time": "2022-12-05T15:57:50.923Z"
   },
   {
    "duration": 20432,
    "start_time": "2022-12-05T15:57:50.929Z"
   },
   {
    "duration": 88,
    "start_time": "2022-12-05T15:58:11.362Z"
   },
   {
    "duration": 215,
    "start_time": "2022-12-05T15:58:11.452Z"
   },
   {
    "duration": 11,
    "start_time": "2022-12-05T15:58:11.668Z"
   },
   {
    "duration": 14,
    "start_time": "2022-12-05T15:58:11.680Z"
   },
   {
    "duration": 22,
    "start_time": "2022-12-05T15:58:11.696Z"
   },
   {
    "duration": 70294,
    "start_time": "2022-12-05T15:58:11.719Z"
   },
   {
    "duration": 80,
    "start_time": "2022-12-05T15:59:22.015Z"
   },
   {
    "duration": 263,
    "start_time": "2022-12-05T15:59:22.096Z"
   },
   {
    "duration": 85,
    "start_time": "2022-12-05T16:02:09.569Z"
   },
   {
    "duration": 77,
    "start_time": "2022-12-05T16:02:23.770Z"
   },
   {
    "duration": 47,
    "start_time": "2022-12-07T15:42:48.153Z"
   },
   {
    "duration": 2,
    "start_time": "2022-12-07T15:42:53.415Z"
   },
   {
    "duration": 1555,
    "start_time": "2022-12-07T15:42:53.419Z"
   },
   {
    "duration": 105,
    "start_time": "2022-12-07T15:42:54.976Z"
   },
   {
    "duration": 13,
    "start_time": "2022-12-07T15:42:55.083Z"
   },
   {
    "duration": 8,
    "start_time": "2022-12-07T15:42:55.097Z"
   },
   {
    "duration": 16,
    "start_time": "2022-12-07T15:42:55.106Z"
   },
   {
    "duration": 19,
    "start_time": "2022-12-07T15:42:55.124Z"
   },
   {
    "duration": 136,
    "start_time": "2022-12-07T15:42:55.149Z"
   },
   {
    "duration": 10,
    "start_time": "2022-12-07T15:42:55.286Z"
   },
   {
    "duration": 139,
    "start_time": "2022-12-07T15:42:55.298Z"
   },
   {
    "duration": 213,
    "start_time": "2022-12-07T15:42:55.439Z"
   },
   {
    "duration": 14,
    "start_time": "2022-12-07T15:42:55.654Z"
   },
   {
    "duration": 14,
    "start_time": "2022-12-07T15:42:55.669Z"
   },
   {
    "duration": 23,
    "start_time": "2022-12-07T15:42:55.684Z"
   },
   {
    "duration": 33,
    "start_time": "2022-12-07T15:42:55.709Z"
   },
   {
    "duration": 32,
    "start_time": "2022-12-07T15:42:55.744Z"
   },
   {
    "duration": 4,
    "start_time": "2022-12-07T15:42:55.777Z"
   },
   {
    "duration": 126,
    "start_time": "2022-12-07T15:42:55.782Z"
   },
   {
    "duration": 3,
    "start_time": "2022-12-07T15:42:55.910Z"
   },
   {
    "duration": 1676,
    "start_time": "2022-12-07T15:42:55.914Z"
   },
   {
    "duration": 2,
    "start_time": "2022-12-07T15:42:57.592Z"
   },
   {
    "duration": 11,
    "start_time": "2022-12-07T15:42:57.596Z"
   },
   {
    "duration": 1048,
    "start_time": "2022-12-07T15:42:57.608Z"
   },
   {
    "duration": 214,
    "start_time": "2022-12-07T15:42:58.658Z"
   },
   {
    "duration": 9,
    "start_time": "2022-12-07T15:42:58.873Z"
   },
   {
    "duration": 11,
    "start_time": "2022-12-07T15:42:58.884Z"
   },
   {
    "duration": 7,
    "start_time": "2022-12-07T15:42:58.897Z"
   },
   {
    "duration": 784,
    "start_time": "2022-12-07T15:42:58.905Z"
   },
   {
    "duration": 0,
    "start_time": "2022-12-07T15:42:59.691Z"
   },
   {
    "duration": 0,
    "start_time": "2022-12-07T15:42:59.693Z"
   },
   {
    "duration": 0,
    "start_time": "2022-12-07T15:42:59.694Z"
   },
   {
    "duration": 0,
    "start_time": "2022-12-07T15:42:59.695Z"
   },
   {
    "duration": 0,
    "start_time": "2022-12-07T15:42:59.696Z"
   },
   {
    "duration": 0,
    "start_time": "2022-12-07T15:42:59.697Z"
   },
   {
    "duration": 0,
    "start_time": "2022-12-07T15:42:59.698Z"
   },
   {
    "duration": 0,
    "start_time": "2022-12-07T15:42:59.699Z"
   },
   {
    "duration": 0,
    "start_time": "2022-12-07T15:42:59.701Z"
   },
   {
    "duration": 0,
    "start_time": "2022-12-07T15:42:59.702Z"
   },
   {
    "duration": 0,
    "start_time": "2022-12-07T15:42:59.703Z"
   },
   {
    "duration": 0,
    "start_time": "2022-12-07T15:42:59.704Z"
   },
   {
    "duration": 0,
    "start_time": "2022-12-07T15:42:59.705Z"
   },
   {
    "duration": 0,
    "start_time": "2022-12-07T15:42:59.706Z"
   },
   {
    "duration": 0,
    "start_time": "2022-12-07T15:42:59.707Z"
   },
   {
    "duration": 0,
    "start_time": "2022-12-07T15:42:59.735Z"
   },
   {
    "duration": 0,
    "start_time": "2022-12-07T15:42:59.736Z"
   },
   {
    "duration": 0,
    "start_time": "2022-12-07T15:42:59.738Z"
   },
   {
    "duration": 0,
    "start_time": "2022-12-07T15:42:59.739Z"
   },
   {
    "duration": 0,
    "start_time": "2022-12-07T15:42:59.741Z"
   },
   {
    "duration": 0,
    "start_time": "2022-12-07T15:42:59.742Z"
   },
   {
    "duration": 0,
    "start_time": "2022-12-07T15:42:59.743Z"
   },
   {
    "duration": 0,
    "start_time": "2022-12-07T15:42:59.745Z"
   },
   {
    "duration": 0,
    "start_time": "2022-12-07T15:42:59.746Z"
   },
   {
    "duration": 0,
    "start_time": "2022-12-07T15:42:59.748Z"
   },
   {
    "duration": 0,
    "start_time": "2022-12-07T15:42:59.749Z"
   },
   {
    "duration": 0,
    "start_time": "2022-12-07T15:42:59.751Z"
   },
   {
    "duration": 0,
    "start_time": "2022-12-07T15:42:59.753Z"
   },
   {
    "duration": 0,
    "start_time": "2022-12-07T15:42:59.754Z"
   },
   {
    "duration": 0,
    "start_time": "2022-12-07T15:42:59.756Z"
   },
   {
    "duration": 0,
    "start_time": "2022-12-07T15:42:59.757Z"
   },
   {
    "duration": 0,
    "start_time": "2022-12-07T15:42:59.759Z"
   },
   {
    "duration": 0,
    "start_time": "2022-12-07T15:42:59.760Z"
   },
   {
    "duration": 0,
    "start_time": "2022-12-07T15:42:59.762Z"
   },
   {
    "duration": 0,
    "start_time": "2022-12-07T15:42:59.763Z"
   },
   {
    "duration": 0,
    "start_time": "2022-12-07T15:42:59.764Z"
   },
   {
    "duration": 0,
    "start_time": "2022-12-07T15:42:59.766Z"
   },
   {
    "duration": 0,
    "start_time": "2022-12-07T15:42:59.767Z"
   },
   {
    "duration": 1,
    "start_time": "2022-12-07T15:42:59.768Z"
   },
   {
    "duration": 0,
    "start_time": "2022-12-07T15:42:59.770Z"
   },
   {
    "duration": 0,
    "start_time": "2022-12-07T15:42:59.771Z"
   },
   {
    "duration": 0,
    "start_time": "2022-12-07T15:42:59.836Z"
   },
   {
    "duration": 0,
    "start_time": "2022-12-07T15:42:59.839Z"
   },
   {
    "duration": 0,
    "start_time": "2022-12-07T15:42:59.841Z"
   },
   {
    "duration": 0,
    "start_time": "2022-12-07T15:42:59.842Z"
   },
   {
    "duration": 798,
    "start_time": "2022-12-07T15:44:46.116Z"
   },
   {
    "duration": 754,
    "start_time": "2022-12-07T15:47:03.500Z"
   },
   {
    "duration": 11,
    "start_time": "2022-12-07T15:48:31.794Z"
   },
   {
    "duration": 8,
    "start_time": "2022-12-07T15:48:48.175Z"
   },
   {
    "duration": 3182,
    "start_time": "2022-12-07T15:48:54.091Z"
   },
   {
    "duration": 3177,
    "start_time": "2022-12-07T15:49:06.571Z"
   },
   {
    "duration": 12,
    "start_time": "2022-12-07T15:49:34.216Z"
   },
   {
    "duration": 3,
    "start_time": "2022-12-07T15:50:32.328Z"
   },
   {
    "duration": 27788,
    "start_time": "2022-12-07T15:50:50.180Z"
   },
   {
    "duration": 29329,
    "start_time": "2022-12-07T15:51:59.647Z"
   },
   {
    "duration": 4437,
    "start_time": "2022-12-07T15:53:44.406Z"
   },
   {
    "duration": 23860,
    "start_time": "2022-12-07T15:56:54.627Z"
   },
   {
    "duration": 35904,
    "start_time": "2022-12-07T15:57:24.734Z"
   },
   {
    "duration": 3,
    "start_time": "2022-12-07T16:00:34.406Z"
   },
   {
    "duration": 5,
    "start_time": "2022-12-07T16:01:34.932Z"
   },
   {
    "duration": 45,
    "start_time": "2022-12-07T16:01:40.040Z"
   },
   {
    "duration": 25163,
    "start_time": "2022-12-07T16:02:40.393Z"
   },
   {
    "duration": 25822,
    "start_time": "2022-12-07T16:03:22.852Z"
   },
   {
    "duration": 2,
    "start_time": "2022-12-07T16:03:53.309Z"
   },
   {
    "duration": 42558,
    "start_time": "2022-12-07T16:04:28.478Z"
   },
   {
    "duration": 3,
    "start_time": "2022-12-07T16:06:40.853Z"
   },
   {
    "duration": 46,
    "start_time": "2022-12-07T16:09:19.855Z"
   },
   {
    "duration": 56995,
    "start_time": "2022-12-07T16:10:05.665Z"
   },
   {
    "duration": 484387,
    "start_time": "2022-12-07T16:11:04.555Z"
   },
   {
    "duration": 47,
    "start_time": "2022-12-07T16:19:26.327Z"
   },
   {
    "duration": 9,
    "start_time": "2022-12-07T16:19:53.017Z"
   },
   {
    "duration": 9,
    "start_time": "2022-12-07T16:20:00.249Z"
   },
   {
    "duration": 5,
    "start_time": "2022-12-07T16:20:22.669Z"
   },
   {
    "duration": 3,
    "start_time": "2022-12-07T16:20:44.570Z"
   },
   {
    "duration": 4,
    "start_time": "2022-12-07T16:20:51.953Z"
   },
   {
    "duration": 10,
    "start_time": "2022-12-07T16:21:02.180Z"
   },
   {
    "duration": 9,
    "start_time": "2022-12-07T16:21:12.114Z"
   },
   {
    "duration": 11,
    "start_time": "2022-12-07T16:21:20.559Z"
   },
   {
    "duration": 6,
    "start_time": "2022-12-07T16:23:52.001Z"
   },
   {
    "duration": 57,
    "start_time": "2022-12-07T16:24:22.198Z"
   },
   {
    "duration": 143152,
    "start_time": "2022-12-07T16:24:44.422Z"
   },
   {
    "duration": 11,
    "start_time": "2022-12-07T16:27:22.864Z"
   },
   {
    "duration": 10,
    "start_time": "2022-12-07T16:27:32.417Z"
   },
   {
    "duration": 12,
    "start_time": "2022-12-07T16:30:36.761Z"
   },
   {
    "duration": 45601,
    "start_time": "2022-12-07T16:32:39.456Z"
   },
   {
    "duration": 10,
    "start_time": "2022-12-07T16:34:36.503Z"
   },
   {
    "duration": 33,
    "start_time": "2022-12-07T16:35:26.344Z"
   },
   {
    "duration": 9,
    "start_time": "2022-12-07T16:37:18.061Z"
   },
   {
    "duration": 9,
    "start_time": "2022-12-07T16:37:24.197Z"
   },
   {
    "duration": 12,
    "start_time": "2022-12-07T16:37:32.537Z"
   },
   {
    "duration": 265,
    "start_time": "2022-12-07T16:38:05.121Z"
   },
   {
    "duration": 247,
    "start_time": "2022-12-07T16:38:15.030Z"
   },
   {
    "duration": 45900,
    "start_time": "2022-12-07T16:38:35.635Z"
   },
   {
    "duration": 2118200,
    "start_time": "2022-12-07T16:39:21.537Z"
   },
   {
    "duration": 0,
    "start_time": "2022-12-07T17:14:39.739Z"
   },
   {
    "duration": 32,
    "start_time": "2022-12-07T17:15:15.783Z"
   },
   {
    "duration": 40,
    "start_time": "2022-12-07T17:15:19.154Z"
   },
   {
    "duration": 38,
    "start_time": "2022-12-07T17:15:49.170Z"
   },
   {
    "duration": 43,
    "start_time": "2022-12-07T17:15:54.777Z"
   },
   {
    "duration": 2,
    "start_time": "2022-12-07T17:16:28.302Z"
   },
   {
    "duration": 18,
    "start_time": "2022-12-07T17:16:28.309Z"
   },
   {
    "duration": 61,
    "start_time": "2022-12-07T17:16:28.329Z"
   },
   {
    "duration": 12,
    "start_time": "2022-12-07T17:16:28.392Z"
   },
   {
    "duration": 16,
    "start_time": "2022-12-07T17:16:28.406Z"
   },
   {
    "duration": 20,
    "start_time": "2022-12-07T17:16:28.424Z"
   },
   {
    "duration": 21,
    "start_time": "2022-12-07T17:16:28.446Z"
   },
   {
    "duration": 126,
    "start_time": "2022-12-07T17:16:28.469Z"
   },
   {
    "duration": 9,
    "start_time": "2022-12-07T17:16:28.597Z"
   },
   {
    "duration": 157,
    "start_time": "2022-12-07T17:16:28.608Z"
   },
   {
    "duration": 152,
    "start_time": "2022-12-07T17:16:28.767Z"
   },
   {
    "duration": 25,
    "start_time": "2022-12-07T17:16:28.921Z"
   },
   {
    "duration": 28,
    "start_time": "2022-12-07T17:16:28.948Z"
   },
   {
    "duration": 27,
    "start_time": "2022-12-07T17:16:28.978Z"
   },
   {
    "duration": 27,
    "start_time": "2022-12-07T17:16:29.009Z"
   },
   {
    "duration": 33,
    "start_time": "2022-12-07T17:16:29.038Z"
   },
   {
    "duration": 5,
    "start_time": "2022-12-07T17:16:29.073Z"
   },
   {
    "duration": 155,
    "start_time": "2022-12-07T17:16:29.080Z"
   },
   {
    "duration": 3,
    "start_time": "2022-12-07T17:16:29.237Z"
   },
   {
    "duration": 1441,
    "start_time": "2022-12-07T17:16:29.242Z"
   },
   {
    "duration": 2,
    "start_time": "2022-12-07T17:16:30.685Z"
   },
   {
    "duration": 19,
    "start_time": "2022-12-07T17:16:30.689Z"
   },
   {
    "duration": 1843,
    "start_time": "2022-12-07T17:16:30.709Z"
   },
   {
    "duration": 802,
    "start_time": "2022-12-07T17:16:32.555Z"
   },
   {
    "duration": 8,
    "start_time": "2022-12-07T17:16:33.359Z"
   },
   {
    "duration": 9,
    "start_time": "2022-12-07T17:16:33.369Z"
   },
   {
    "duration": 5,
    "start_time": "2022-12-07T17:16:33.379Z"
   },
   {
    "duration": 6,
    "start_time": "2022-12-07T17:16:33.385Z"
   },
   {
    "duration": 460542,
    "start_time": "2022-12-07T17:16:33.393Z"
   },
   {
    "duration": 3,
    "start_time": "2022-12-07T17:24:13.938Z"
   },
   {
    "duration": 122,
    "start_time": "2022-12-07T17:24:13.943Z"
   },
   {
    "duration": 0,
    "start_time": "2022-12-07T17:24:14.069Z"
   },
   {
    "duration": 0,
    "start_time": "2022-12-07T17:24:14.070Z"
   },
   {
    "duration": 0,
    "start_time": "2022-12-07T17:24:14.072Z"
   },
   {
    "duration": 0,
    "start_time": "2022-12-07T17:24:14.073Z"
   },
   {
    "duration": 0,
    "start_time": "2022-12-07T17:24:14.074Z"
   },
   {
    "duration": 0,
    "start_time": "2022-12-07T17:24:14.076Z"
   },
   {
    "duration": 0,
    "start_time": "2022-12-07T17:24:14.078Z"
   },
   {
    "duration": 0,
    "start_time": "2022-12-07T17:24:14.079Z"
   },
   {
    "duration": 0,
    "start_time": "2022-12-07T17:24:14.080Z"
   },
   {
    "duration": 0,
    "start_time": "2022-12-07T17:24:14.082Z"
   },
   {
    "duration": 0,
    "start_time": "2022-12-07T17:24:14.083Z"
   },
   {
    "duration": 0,
    "start_time": "2022-12-07T17:24:14.084Z"
   },
   {
    "duration": 0,
    "start_time": "2022-12-07T17:24:14.086Z"
   },
   {
    "duration": 0,
    "start_time": "2022-12-07T17:24:14.087Z"
   },
   {
    "duration": 0,
    "start_time": "2022-12-07T17:24:14.089Z"
   },
   {
    "duration": 0,
    "start_time": "2022-12-07T17:24:14.090Z"
   },
   {
    "duration": 0,
    "start_time": "2022-12-07T17:24:14.091Z"
   },
   {
    "duration": 0,
    "start_time": "2022-12-07T17:24:14.134Z"
   },
   {
    "duration": 0,
    "start_time": "2022-12-07T17:24:14.137Z"
   },
   {
    "duration": 0,
    "start_time": "2022-12-07T17:24:14.138Z"
   },
   {
    "duration": 0,
    "start_time": "2022-12-07T17:24:14.140Z"
   },
   {
    "duration": 0,
    "start_time": "2022-12-07T17:24:14.141Z"
   },
   {
    "duration": 0,
    "start_time": "2022-12-07T17:24:14.143Z"
   },
   {
    "duration": 0,
    "start_time": "2022-12-07T17:24:14.144Z"
   },
   {
    "duration": 0,
    "start_time": "2022-12-07T17:24:14.146Z"
   },
   {
    "duration": 0,
    "start_time": "2022-12-07T17:24:14.147Z"
   },
   {
    "duration": 1,
    "start_time": "2022-12-07T17:24:14.148Z"
   },
   {
    "duration": 0,
    "start_time": "2022-12-07T17:24:14.150Z"
   },
   {
    "duration": 0,
    "start_time": "2022-12-07T17:24:14.151Z"
   },
   {
    "duration": 0,
    "start_time": "2022-12-07T17:24:14.153Z"
   },
   {
    "duration": 0,
    "start_time": "2022-12-07T17:24:14.155Z"
   },
   {
    "duration": 0,
    "start_time": "2022-12-07T17:24:14.156Z"
   },
   {
    "duration": 0,
    "start_time": "2022-12-07T17:24:14.157Z"
   },
   {
    "duration": 0,
    "start_time": "2022-12-07T17:24:14.158Z"
   },
   {
    "duration": 0,
    "start_time": "2022-12-07T17:24:14.160Z"
   },
   {
    "duration": 0,
    "start_time": "2022-12-07T17:24:14.161Z"
   },
   {
    "duration": 0,
    "start_time": "2022-12-07T17:24:14.163Z"
   },
   {
    "duration": 0,
    "start_time": "2022-12-07T17:24:14.164Z"
   },
   {
    "duration": 0,
    "start_time": "2022-12-07T17:24:14.166Z"
   },
   {
    "duration": 0,
    "start_time": "2022-12-07T17:24:14.167Z"
   },
   {
    "duration": 0,
    "start_time": "2022-12-07T17:24:14.171Z"
   },
   {
    "duration": 0,
    "start_time": "2022-12-07T17:24:14.172Z"
   },
   {
    "duration": 0,
    "start_time": "2022-12-07T17:24:14.173Z"
   },
   {
    "duration": 0,
    "start_time": "2022-12-07T17:24:14.235Z"
   },
   {
    "duration": 0,
    "start_time": "2022-12-07T17:24:14.237Z"
   },
   {
    "duration": 35,
    "start_time": "2022-12-07T17:24:35.568Z"
   },
   {
    "duration": 32,
    "start_time": "2022-12-07T17:24:46.049Z"
   },
   {
    "duration": 28,
    "start_time": "2022-12-07T17:24:49.186Z"
   },
   {
    "duration": 35,
    "start_time": "2022-12-07T17:24:58.937Z"
   },
   {
    "duration": 33,
    "start_time": "2022-12-07T17:25:05.546Z"
   },
   {
    "duration": 3,
    "start_time": "2022-12-09T07:22:47.517Z"
   },
   {
    "duration": 1966,
    "start_time": "2022-12-09T07:22:47.521Z"
   },
   {
    "duration": 106,
    "start_time": "2022-12-09T07:22:49.489Z"
   },
   {
    "duration": 13,
    "start_time": "2022-12-09T07:22:49.598Z"
   },
   {
    "duration": 7,
    "start_time": "2022-12-09T07:22:49.614Z"
   },
   {
    "duration": 16,
    "start_time": "2022-12-09T07:22:49.623Z"
   },
   {
    "duration": 15,
    "start_time": "2022-12-09T07:22:49.641Z"
   },
   {
    "duration": 197,
    "start_time": "2022-12-09T07:22:49.657Z"
   },
   {
    "duration": 10,
    "start_time": "2022-12-09T07:22:49.855Z"
   },
   {
    "duration": 152,
    "start_time": "2022-12-09T07:22:49.867Z"
   },
   {
    "duration": 251,
    "start_time": "2022-12-09T07:22:50.022Z"
   },
   {
    "duration": 25,
    "start_time": "2022-12-09T07:22:50.275Z"
   },
   {
    "duration": 21,
    "start_time": "2022-12-09T07:22:50.302Z"
   },
   {
    "duration": 21,
    "start_time": "2022-12-09T07:22:50.325Z"
   },
   {
    "duration": 50,
    "start_time": "2022-12-09T07:22:50.348Z"
   },
   {
    "duration": 31,
    "start_time": "2022-12-09T07:22:50.400Z"
   },
   {
    "duration": 4,
    "start_time": "2022-12-09T07:22:50.433Z"
   },
   {
    "duration": 132,
    "start_time": "2022-12-09T07:22:50.438Z"
   },
   {
    "duration": 4,
    "start_time": "2022-12-09T07:22:50.571Z"
   },
   {
    "duration": 1733,
    "start_time": "2022-12-09T07:22:50.577Z"
   },
   {
    "duration": 4,
    "start_time": "2022-12-09T07:22:52.311Z"
   },
   {
    "duration": 7,
    "start_time": "2022-12-09T07:22:52.317Z"
   },
   {
    "duration": 1064,
    "start_time": "2022-12-09T07:22:52.325Z"
   },
   {
    "duration": 218,
    "start_time": "2022-12-09T07:22:53.391Z"
   },
   {
    "duration": 9,
    "start_time": "2022-12-09T07:22:53.611Z"
   },
   {
    "duration": 9,
    "start_time": "2022-12-09T07:22:53.622Z"
   },
   {
    "duration": 14,
    "start_time": "2022-12-09T07:22:53.633Z"
   },
   {
    "duration": 12,
    "start_time": "2022-12-09T07:22:53.649Z"
   },
   {
    "duration": 61636,
    "start_time": "2022-12-09T07:22:53.666Z"
   },
   {
    "duration": 3,
    "start_time": "2022-12-09T07:23:55.303Z"
   },
   {
    "duration": 323,
    "start_time": "2022-12-09T07:23:55.307Z"
   },
   {
    "duration": 0,
    "start_time": "2022-12-09T07:23:55.633Z"
   },
   {
    "duration": 0,
    "start_time": "2022-12-09T07:23:55.635Z"
   },
   {
    "duration": 0,
    "start_time": "2022-12-09T07:23:55.636Z"
   },
   {
    "duration": 0,
    "start_time": "2022-12-09T07:23:55.638Z"
   },
   {
    "duration": 0,
    "start_time": "2022-12-09T07:23:55.640Z"
   },
   {
    "duration": 0,
    "start_time": "2022-12-09T07:23:55.641Z"
   },
   {
    "duration": 0,
    "start_time": "2022-12-09T07:23:55.643Z"
   },
   {
    "duration": 0,
    "start_time": "2022-12-09T07:23:55.644Z"
   },
   {
    "duration": 0,
    "start_time": "2022-12-09T07:23:55.645Z"
   },
   {
    "duration": 0,
    "start_time": "2022-12-09T07:23:55.647Z"
   },
   {
    "duration": 0,
    "start_time": "2022-12-09T07:23:55.648Z"
   },
   {
    "duration": 0,
    "start_time": "2022-12-09T07:23:55.650Z"
   },
   {
    "duration": 0,
    "start_time": "2022-12-09T07:23:55.652Z"
   },
   {
    "duration": 0,
    "start_time": "2022-12-09T07:23:55.654Z"
   },
   {
    "duration": 0,
    "start_time": "2022-12-09T07:23:55.655Z"
   },
   {
    "duration": 0,
    "start_time": "2022-12-09T07:23:55.696Z"
   },
   {
    "duration": 0,
    "start_time": "2022-12-09T07:23:55.697Z"
   },
   {
    "duration": 0,
    "start_time": "2022-12-09T07:23:55.699Z"
   },
   {
    "duration": 0,
    "start_time": "2022-12-09T07:23:55.700Z"
   },
   {
    "duration": 0,
    "start_time": "2022-12-09T07:23:55.702Z"
   },
   {
    "duration": 0,
    "start_time": "2022-12-09T07:23:55.703Z"
   },
   {
    "duration": 1,
    "start_time": "2022-12-09T07:23:55.704Z"
   },
   {
    "duration": 0,
    "start_time": "2022-12-09T07:23:55.706Z"
   },
   {
    "duration": 0,
    "start_time": "2022-12-09T07:23:55.707Z"
   },
   {
    "duration": 0,
    "start_time": "2022-12-09T07:23:55.709Z"
   },
   {
    "duration": 0,
    "start_time": "2022-12-09T07:23:55.710Z"
   },
   {
    "duration": 0,
    "start_time": "2022-12-09T07:23:55.711Z"
   },
   {
    "duration": 0,
    "start_time": "2022-12-09T07:23:55.713Z"
   },
   {
    "duration": 0,
    "start_time": "2022-12-09T07:23:55.714Z"
   },
   {
    "duration": 0,
    "start_time": "2022-12-09T07:23:55.715Z"
   },
   {
    "duration": 0,
    "start_time": "2022-12-09T07:23:55.716Z"
   },
   {
    "duration": 0,
    "start_time": "2022-12-09T07:23:55.718Z"
   },
   {
    "duration": 0,
    "start_time": "2022-12-09T07:23:55.720Z"
   },
   {
    "duration": 0,
    "start_time": "2022-12-09T07:23:55.721Z"
   },
   {
    "duration": 0,
    "start_time": "2022-12-09T07:23:55.722Z"
   },
   {
    "duration": 0,
    "start_time": "2022-12-09T07:23:55.723Z"
   },
   {
    "duration": 0,
    "start_time": "2022-12-09T07:23:55.724Z"
   },
   {
    "duration": 0,
    "start_time": "2022-12-09T07:23:55.725Z"
   },
   {
    "duration": 0,
    "start_time": "2022-12-09T07:23:55.726Z"
   },
   {
    "duration": 0,
    "start_time": "2022-12-09T07:23:55.727Z"
   },
   {
    "duration": 0,
    "start_time": "2022-12-09T07:23:55.728Z"
   },
   {
    "duration": 0,
    "start_time": "2022-12-09T07:23:55.729Z"
   },
   {
    "duration": 0,
    "start_time": "2022-12-09T07:23:55.730Z"
   },
   {
    "duration": 0,
    "start_time": "2022-12-09T07:23:55.731Z"
   },
   {
    "duration": 297416,
    "start_time": "2022-12-09T07:26:51.714Z"
   },
   {
    "duration": 18657,
    "start_time": "2022-12-09T07:32:17.871Z"
   },
   {
    "duration": 3,
    "start_time": "2022-12-09T07:32:45.756Z"
   },
   {
    "duration": 17488,
    "start_time": "2022-12-09T07:33:01.721Z"
   },
   {
    "duration": 24458,
    "start_time": "2022-12-09T07:33:28.867Z"
   },
   {
    "duration": 49181,
    "start_time": "2022-12-09T07:35:13.173Z"
   },
   {
    "duration": 38912,
    "start_time": "2022-12-09T07:37:10.292Z"
   },
   {
    "duration": 44434,
    "start_time": "2022-12-09T07:38:46.576Z"
   },
   {
    "duration": 73754,
    "start_time": "2022-12-09T07:39:52.748Z"
   },
   {
    "duration": 453465,
    "start_time": "2022-12-09T07:42:42.052Z"
   },
   {
    "duration": 66778,
    "start_time": "2022-12-09T07:50:15.519Z"
   },
   {
    "duration": 6,
    "start_time": "2022-12-09T07:55:12.577Z"
   },
   {
    "duration": 2405,
    "start_time": "2022-12-09T07:55:45.662Z"
   },
   {
    "duration": 34,
    "start_time": "2022-12-09T07:56:29.205Z"
   },
   {
    "duration": 7373,
    "start_time": "2022-12-09T07:56:54.432Z"
   },
   {
    "duration": 8599,
    "start_time": "2022-12-09T07:57:59.136Z"
   },
   {
    "duration": 14055,
    "start_time": "2022-12-09T07:58:52.678Z"
   },
   {
    "duration": 44014,
    "start_time": "2022-12-09T08:00:35.232Z"
   },
   {
    "duration": 12445,
    "start_time": "2022-12-09T08:02:06.232Z"
   },
   {
    "duration": 2062760,
    "start_time": "2022-12-09T08:02:54.191Z"
   },
   {
    "duration": 516912,
    "start_time": "2022-12-09T08:37:40.223Z"
   },
   {
    "duration": 2464712,
    "start_time": "2022-12-09T08:46:33.795Z"
   },
   {
    "duration": 438894,
    "start_time": "2022-12-09T09:28:14.605Z"
   },
   {
    "duration": 200740,
    "start_time": "2022-12-09T09:36:19.864Z"
   },
   {
    "duration": 23684,
    "start_time": "2022-12-09T13:50:17.735Z"
   },
   {
    "duration": 12063,
    "start_time": "2022-12-09T13:50:43.861Z"
   },
   {
    "duration": 51908,
    "start_time": "2022-12-09T13:51:18.714Z"
   },
   {
    "duration": 28176,
    "start_time": "2022-12-09T13:52:19.550Z"
   },
   {
    "duration": 48945,
    "start_time": "2022-12-09T13:53:09.892Z"
   },
   {
    "duration": 40744,
    "start_time": "2022-12-09T13:54:04.114Z"
   },
   {
    "duration": 18,
    "start_time": "2022-12-09T13:55:05.286Z"
   },
   {
    "duration": 121383,
    "start_time": "2022-12-09T13:55:15.217Z"
   },
   {
    "duration": 23522,
    "start_time": "2022-12-09T13:57:45.030Z"
   },
   {
    "duration": 45696,
    "start_time": "2022-12-09T13:58:10.731Z"
   },
   {
    "duration": 8620,
    "start_time": "2022-12-09T13:59:00.518Z"
   },
   {
    "duration": 530891,
    "start_time": "2022-12-09T13:59:39.860Z"
   },
   {
    "duration": 14,
    "start_time": "2022-12-09T14:08:36.001Z"
   },
   {
    "duration": 3,
    "start_time": "2022-12-09T14:08:42.095Z"
   },
   {
    "duration": 9262,
    "start_time": "2022-12-09T14:08:44.538Z"
   },
   {
    "duration": 3,
    "start_time": "2022-12-09T14:08:57.712Z"
   },
   {
    "duration": 11214,
    "start_time": "2022-12-09T14:09:00.097Z"
   },
   {
    "duration": 15927,
    "start_time": "2022-12-09T14:09:40.172Z"
   },
   {
    "duration": 9206,
    "start_time": "2022-12-09T14:12:39.815Z"
   },
   {
    "duration": 17345,
    "start_time": "2022-12-09T14:13:40.011Z"
   },
   {
    "duration": 46910,
    "start_time": "2022-12-09T14:41:12.963Z"
   },
   {
    "duration": 41162,
    "start_time": "2022-12-09T14:47:52.397Z"
   },
   {
    "duration": 27724,
    "start_time": "2022-12-09T14:50:29.831Z"
   },
   {
    "duration": 117029,
    "start_time": "2022-12-09T14:51:22.283Z"
   },
   {
    "duration": 54,
    "start_time": "2022-12-09T15:03:02.265Z"
   },
   {
    "duration": 108879,
    "start_time": "2022-12-09T15:03:58.360Z"
   },
   {
    "duration": 107015,
    "start_time": "2022-12-09T15:06:39.621Z"
   },
   {
    "duration": 160944,
    "start_time": "2022-12-09T15:10:29.668Z"
   },
   {
    "duration": 93693,
    "start_time": "2022-12-09T15:16:34.266Z"
   },
   {
    "duration": 144541,
    "start_time": "2022-12-09T15:23:52.382Z"
   },
   {
    "duration": 291993,
    "start_time": "2022-12-09T15:51:38.524Z"
   },
   {
    "duration": 133117,
    "start_time": "2022-12-09T15:58:58.774Z"
   },
   {
    "duration": 148008,
    "start_time": "2022-12-09T16:07:01.857Z"
   },
   {
    "duration": 14,
    "start_time": "2022-12-09T16:09:29.868Z"
   },
   {
    "duration": 0,
    "start_time": "2022-12-09T16:09:29.885Z"
   },
   {
    "duration": 0,
    "start_time": "2022-12-09T16:09:29.896Z"
   },
   {
    "duration": 0,
    "start_time": "2022-12-09T16:09:29.898Z"
   },
   {
    "duration": 0,
    "start_time": "2022-12-09T16:09:29.899Z"
   },
   {
    "duration": 0,
    "start_time": "2022-12-09T16:09:29.901Z"
   },
   {
    "duration": 0,
    "start_time": "2022-12-09T16:09:29.902Z"
   },
   {
    "duration": 0,
    "start_time": "2022-12-09T16:09:29.903Z"
   },
   {
    "duration": 0,
    "start_time": "2022-12-09T16:09:29.904Z"
   },
   {
    "duration": 0,
    "start_time": "2022-12-09T16:09:29.905Z"
   },
   {
    "duration": 0,
    "start_time": "2022-12-09T16:09:29.906Z"
   },
   {
    "duration": 0,
    "start_time": "2022-12-09T16:09:29.907Z"
   },
   {
    "duration": 0,
    "start_time": "2022-12-09T16:09:29.908Z"
   },
   {
    "duration": 0,
    "start_time": "2022-12-09T16:09:29.909Z"
   },
   {
    "duration": 0,
    "start_time": "2022-12-09T16:09:29.911Z"
   },
   {
    "duration": 0,
    "start_time": "2022-12-09T16:09:29.912Z"
   },
   {
    "duration": 0,
    "start_time": "2022-12-09T16:09:29.913Z"
   },
   {
    "duration": 0,
    "start_time": "2022-12-09T16:09:29.914Z"
   },
   {
    "duration": 0,
    "start_time": "2022-12-09T16:09:29.915Z"
   },
   {
    "duration": 0,
    "start_time": "2022-12-09T16:09:29.916Z"
   },
   {
    "duration": 0,
    "start_time": "2022-12-09T16:09:29.917Z"
   },
   {
    "duration": 0,
    "start_time": "2022-12-09T16:09:29.918Z"
   },
   {
    "duration": 0,
    "start_time": "2022-12-09T16:09:29.919Z"
   },
   {
    "duration": 0,
    "start_time": "2022-12-09T16:09:29.920Z"
   },
   {
    "duration": 0,
    "start_time": "2022-12-09T16:09:29.921Z"
   },
   {
    "duration": 0,
    "start_time": "2022-12-09T16:09:29.922Z"
   },
   {
    "duration": 0,
    "start_time": "2022-12-09T16:09:29.924Z"
   },
   {
    "duration": 0,
    "start_time": "2022-12-09T16:09:29.926Z"
   },
   {
    "duration": 0,
    "start_time": "2022-12-09T16:09:29.927Z"
   },
   {
    "duration": 0,
    "start_time": "2022-12-09T16:09:29.928Z"
   },
   {
    "duration": 0,
    "start_time": "2022-12-09T16:09:29.929Z"
   },
   {
    "duration": 0,
    "start_time": "2022-12-09T16:09:29.931Z"
   },
   {
    "duration": 0,
    "start_time": "2022-12-09T16:09:29.932Z"
   },
   {
    "duration": 0,
    "start_time": "2022-12-09T16:09:29.933Z"
   },
   {
    "duration": 0,
    "start_time": "2022-12-09T16:09:29.934Z"
   },
   {
    "duration": 0,
    "start_time": "2022-12-09T16:09:29.935Z"
   },
   {
    "duration": 0,
    "start_time": "2022-12-09T16:09:29.997Z"
   },
   {
    "duration": 0,
    "start_time": "2022-12-09T16:09:29.998Z"
   },
   {
    "duration": 0,
    "start_time": "2022-12-09T16:09:29.999Z"
   },
   {
    "duration": 0,
    "start_time": "2022-12-09T16:09:30.000Z"
   },
   {
    "duration": 0,
    "start_time": "2022-12-09T16:09:30.001Z"
   },
   {
    "duration": 0,
    "start_time": "2022-12-09T16:09:30.002Z"
   },
   {
    "duration": 0,
    "start_time": "2022-12-09T16:09:30.003Z"
   },
   {
    "duration": 0,
    "start_time": "2022-12-09T16:09:30.004Z"
   },
   {
    "duration": 10152,
    "start_time": "2022-12-09T16:10:01.488Z"
   },
   {
    "duration": 25,
    "start_time": "2022-12-09T16:10:20.075Z"
   },
   {
    "duration": 9,
    "start_time": "2022-12-09T16:10:39.991Z"
   },
   {
    "duration": 15,
    "start_time": "2022-12-09T16:10:44.383Z"
   },
   {
    "duration": 15,
    "start_time": "2022-12-09T16:10:51.137Z"
   },
   {
    "duration": 4502,
    "start_time": "2022-12-09T16:11:45.984Z"
   },
   {
    "duration": 17,
    "start_time": "2022-12-09T16:11:55.071Z"
   },
   {
    "duration": 13,
    "start_time": "2022-12-09T16:13:17.320Z"
   },
   {
    "duration": 49,
    "start_time": "2022-12-09T16:14:00.452Z"
   },
   {
    "duration": 392,
    "start_time": "2022-12-09T16:14:03.889Z"
   },
   {
    "duration": 4486,
    "start_time": "2022-12-09T16:15:11.273Z"
   },
   {
    "duration": 20,
    "start_time": "2022-12-09T16:15:21.872Z"
   },
   {
    "duration": 6815,
    "start_time": "2022-12-09T16:16:24.068Z"
   },
   {
    "duration": 19,
    "start_time": "2022-12-09T16:16:40.159Z"
   },
   {
    "duration": 8,
    "start_time": "2022-12-09T16:16:51.157Z"
   },
   {
    "duration": 13,
    "start_time": "2022-12-09T16:17:01.017Z"
   },
   {
    "duration": 7537,
    "start_time": "2022-12-09T16:17:19.550Z"
   },
   {
    "duration": 1568,
    "start_time": "2022-12-09T16:17:27.089Z"
   },
   {
    "duration": 44,
    "start_time": "2022-12-09T16:17:28.659Z"
   },
   {
    "duration": 89,
    "start_time": "2022-12-09T16:17:28.705Z"
   },
   {
    "duration": 11,
    "start_time": "2022-12-09T16:17:28.796Z"
   },
   {
    "duration": 8,
    "start_time": "2022-12-09T16:17:28.809Z"
   },
   {
    "duration": 15,
    "start_time": "2022-12-09T16:17:28.819Z"
   },
   {
    "duration": 16,
    "start_time": "2022-12-09T16:17:28.836Z"
   },
   {
    "duration": 182,
    "start_time": "2022-12-09T16:17:28.854Z"
   },
   {
    "duration": 11,
    "start_time": "2022-12-09T16:17:29.039Z"
   },
   {
    "duration": 219,
    "start_time": "2022-12-09T16:17:29.051Z"
   },
   {
    "duration": 152,
    "start_time": "2022-12-09T16:17:29.272Z"
   },
   {
    "duration": 14,
    "start_time": "2022-12-09T16:17:29.426Z"
   },
   {
    "duration": 7,
    "start_time": "2022-12-09T16:17:29.442Z"
   },
   {
    "duration": 16,
    "start_time": "2022-12-09T16:17:29.451Z"
   },
   {
    "duration": 43,
    "start_time": "2022-12-09T16:17:29.469Z"
   },
   {
    "duration": 33,
    "start_time": "2022-12-09T16:17:29.514Z"
   },
   {
    "duration": 4,
    "start_time": "2022-12-09T16:17:29.549Z"
   },
   {
    "duration": 208,
    "start_time": "2022-12-09T16:17:29.554Z"
   },
   {
    "duration": 3,
    "start_time": "2022-12-09T16:17:29.764Z"
   },
   {
    "duration": 1622,
    "start_time": "2022-12-09T16:17:29.768Z"
   },
   {
    "duration": 6,
    "start_time": "2022-12-09T16:17:31.391Z"
   },
   {
    "duration": 5,
    "start_time": "2022-12-09T16:17:31.399Z"
   },
   {
    "duration": 1119,
    "start_time": "2022-12-09T16:17:31.406Z"
   },
   {
    "duration": 227,
    "start_time": "2022-12-09T16:17:32.527Z"
   },
   {
    "duration": 10,
    "start_time": "2022-12-09T16:17:32.756Z"
   },
   {
    "duration": 10,
    "start_time": "2022-12-09T16:17:32.767Z"
   },
   {
    "duration": 5,
    "start_time": "2022-12-09T16:17:32.795Z"
   },
   {
    "duration": 6,
    "start_time": "2022-12-09T16:17:32.802Z"
   },
   {
    "duration": 8993,
    "start_time": "2022-12-09T16:17:32.810Z"
   },
   {
    "duration": 95,
    "start_time": "2022-12-09T16:17:41.805Z"
   },
   {
    "duration": 101,
    "start_time": "2022-12-09T16:17:41.902Z"
   },
   {
    "duration": 18823,
    "start_time": "2022-12-09T16:17:42.005Z"
   },
   {
    "duration": 104344,
    "start_time": "2022-12-09T16:18:00.830Z"
   },
   {
    "duration": 3,
    "start_time": "2022-12-09T16:19:45.176Z"
   },
   {
    "duration": 26,
    "start_time": "2022-12-09T16:19:45.181Z"
   },
   {
    "duration": 4,
    "start_time": "2022-12-09T16:19:45.209Z"
   },
   {
    "duration": 18,
    "start_time": "2022-12-09T16:19:45.215Z"
   },
   {
    "duration": 5,
    "start_time": "2022-12-09T16:19:45.234Z"
   },
   {
    "duration": 16414,
    "start_time": "2022-12-09T16:19:45.241Z"
   },
   {
    "duration": 180652,
    "start_time": "2022-12-09T16:20:01.657Z"
   },
   {
    "duration": 2,
    "start_time": "2022-12-09T16:23:02.311Z"
   },
   {
    "duration": 6,
    "start_time": "2022-12-09T16:23:02.315Z"
   },
   {
    "duration": 1408,
    "start_time": "2022-12-09T16:23:02.322Z"
   },
   {
    "duration": 4,
    "start_time": "2022-12-09T16:23:03.731Z"
   },
   {
    "duration": 11,
    "start_time": "2022-12-09T16:23:03.737Z"
   },
   {
    "duration": 24,
    "start_time": "2022-12-09T16:23:03.750Z"
   },
   {
    "duration": 38,
    "start_time": "2022-12-09T16:23:03.775Z"
   },
   {
    "duration": 175,
    "start_time": "2022-12-09T16:23:03.815Z"
   },
   {
    "duration": 6,
    "start_time": "2022-12-09T16:23:03.996Z"
   },
   {
    "duration": 8,
    "start_time": "2022-12-09T16:23:04.004Z"
   },
   {
    "duration": 24,
    "start_time": "2022-12-09T16:23:04.014Z"
   },
   {
    "duration": 6,
    "start_time": "2022-12-09T16:23:04.040Z"
   },
   {
    "duration": 21,
    "start_time": "2022-12-09T16:23:04.047Z"
   },
   {
    "duration": 157,
    "start_time": "2022-12-09T16:23:04.069Z"
   },
   {
    "duration": 14,
    "start_time": "2022-12-09T16:23:04.228Z"
   },
   {
    "duration": 9,
    "start_time": "2022-12-09T16:23:04.243Z"
   },
   {
    "duration": 7,
    "start_time": "2022-12-09T16:23:04.253Z"
   },
   {
    "duration": 54,
    "start_time": "2022-12-09T16:23:04.261Z"
   },
   {
    "duration": 7,
    "start_time": "2022-12-09T16:23:04.316Z"
   },
   {
    "duration": 7,
    "start_time": "2022-12-09T16:23:04.324Z"
   },
   {
    "duration": 27,
    "start_time": "2022-12-09T16:23:04.332Z"
   },
   {
    "duration": 43,
    "start_time": "2022-12-09T16:23:04.360Z"
   },
   {
    "duration": 9,
    "start_time": "2022-12-09T16:23:04.405Z"
   },
   {
    "duration": 688,
    "start_time": "2022-12-09T16:23:04.416Z"
   },
   {
    "duration": 205,
    "start_time": "2022-12-09T16:23:05.106Z"
   },
   {
    "duration": 361,
    "start_time": "2022-12-09T16:23:05.313Z"
   },
   {
    "duration": 80,
    "start_time": "2022-12-09T16:23:05.675Z"
   },
   {
    "duration": 4,
    "start_time": "2022-12-09T16:23:05.757Z"
   },
   {
    "duration": 21772,
    "start_time": "2022-12-09T16:23:05.763Z"
   },
   {
    "duration": 93,
    "start_time": "2022-12-09T16:23:27.536Z"
   },
   {
    "duration": 224,
    "start_time": "2022-12-09T16:23:27.631Z"
   },
   {
    "duration": 10,
    "start_time": "2022-12-09T16:23:27.856Z"
   },
   {
    "duration": 29,
    "start_time": "2022-12-09T16:23:27.868Z"
   },
   {
    "duration": 4,
    "start_time": "2022-12-09T16:23:27.899Z"
   },
   {
    "duration": 80350,
    "start_time": "2022-12-09T16:23:27.905Z"
   },
   {
    "duration": 106,
    "start_time": "2022-12-09T16:24:48.257Z"
   },
   {
    "duration": 293,
    "start_time": "2022-12-09T16:24:48.364Z"
   },
   {
    "duration": 134,
    "start_time": "2022-12-09T16:24:48.659Z"
   },
   {
    "duration": 9,
    "start_time": "2022-12-09T16:33:42.784Z"
   },
   {
    "duration": 6,
    "start_time": "2022-12-09T16:57:12.212Z"
   },
   {
    "duration": 6,
    "start_time": "2022-12-09T16:57:22.380Z"
   },
   {
    "duration": 20,
    "start_time": "2022-12-09T16:57:24.292Z"
   },
   {
    "duration": 3,
    "start_time": "2022-12-09T17:00:23.652Z"
   },
   {
    "duration": 3,
    "start_time": "2022-12-09T17:00:41.512Z"
   },
   {
    "duration": 6,
    "start_time": "2022-12-09T17:00:41.517Z"
   },
   {
    "duration": 44347,
    "start_time": "2022-12-09T17:00:41.528Z"
   },
   {
    "duration": 62,
    "start_time": "2022-12-09T17:01:25.877Z"
   },
   {
    "duration": 0,
    "start_time": "2022-12-09T17:01:25.942Z"
   },
   {
    "duration": 0,
    "start_time": "2022-12-09T17:01:25.944Z"
   },
   {
    "duration": 0,
    "start_time": "2022-12-09T17:01:25.945Z"
   },
   {
    "duration": 0,
    "start_time": "2022-12-09T17:01:25.946Z"
   },
   {
    "duration": 0,
    "start_time": "2022-12-09T17:01:25.947Z"
   },
   {
    "duration": 0,
    "start_time": "2022-12-09T17:01:25.949Z"
   },
   {
    "duration": 0,
    "start_time": "2022-12-09T17:01:25.950Z"
   },
   {
    "duration": 0,
    "start_time": "2022-12-09T17:01:25.951Z"
   },
   {
    "duration": 34,
    "start_time": "2022-12-09T17:02:05.589Z"
   },
   {
    "duration": 47630,
    "start_time": "2022-12-09T17:03:08.847Z"
   },
   {
    "duration": 88,
    "start_time": "2022-12-09T17:05:04.460Z"
   },
   {
    "duration": 18,
    "start_time": "2022-12-09T17:06:11.710Z"
   },
   {
    "duration": 20,
    "start_time": "2022-12-09T17:08:15.397Z"
   },
   {
    "duration": 18,
    "start_time": "2022-12-09T17:08:20.513Z"
   },
   {
    "duration": 79,
    "start_time": "2022-12-09T17:08:41.042Z"
   },
   {
    "duration": 22928,
    "start_time": "2022-12-09T17:11:41.027Z"
   },
   {
    "duration": 18,
    "start_time": "2022-12-09T17:13:31.521Z"
   },
   {
    "duration": 22599,
    "start_time": "2022-12-09T17:13:48.931Z"
   },
   {
    "duration": 43,
    "start_time": "2022-12-09T17:15:33.278Z"
   },
   {
    "duration": 15,
    "start_time": "2022-12-09T17:16:20.820Z"
   },
   {
    "duration": 39,
    "start_time": "2022-12-09T17:16:42.571Z"
   },
   {
    "duration": 17,
    "start_time": "2022-12-09T17:17:04.065Z"
   },
   {
    "duration": 36,
    "start_time": "2022-12-09T17:17:32.411Z"
   },
   {
    "duration": 4,
    "start_time": "2022-12-09T17:17:59.328Z"
   },
   {
    "duration": 27,
    "start_time": "2022-12-09T17:18:59.718Z"
   },
   {
    "duration": 21,
    "start_time": "2022-12-09T17:19:16.638Z"
   },
   {
    "duration": 18,
    "start_time": "2022-12-09T17:19:23.229Z"
   },
   {
    "duration": 12,
    "start_time": "2022-12-09T17:21:06.217Z"
   },
   {
    "duration": 15,
    "start_time": "2022-12-09T17:21:16.298Z"
   },
   {
    "duration": 10,
    "start_time": "2022-12-09T17:21:20.622Z"
   },
   {
    "duration": 11,
    "start_time": "2022-12-09T17:21:35.891Z"
   },
   {
    "duration": 4,
    "start_time": "2022-12-09T17:21:56.961Z"
   },
   {
    "duration": 3,
    "start_time": "2022-12-09T17:22:37.180Z"
   },
   {
    "duration": 12,
    "start_time": "2022-12-09T17:22:41.268Z"
   },
   {
    "duration": 274,
    "start_time": "2022-12-09T17:23:43.255Z"
   },
   {
    "duration": 36,
    "start_time": "2022-12-09T17:23:52.213Z"
   },
   {
    "duration": 80,
    "start_time": "2022-12-09T17:24:18.040Z"
   },
   {
    "duration": 3,
    "start_time": "2022-12-09T17:26:06.414Z"
   },
   {
    "duration": 21366,
    "start_time": "2022-12-09T17:26:18.702Z"
   },
   {
    "duration": 275,
    "start_time": "2022-12-09T17:26:51.021Z"
   },
   {
    "duration": 76,
    "start_time": "2022-12-09T17:27:00.545Z"
   },
   {
    "duration": 51,
    "start_time": "2022-12-09T17:28:17.122Z"
   },
   {
    "duration": 185,
    "start_time": "2022-12-09T17:29:05.716Z"
   },
   {
    "duration": 9156,
    "start_time": "2022-12-09T17:49:38.149Z"
   },
   {
    "duration": 15,
    "start_time": "2022-12-09T17:49:47.309Z"
   },
   {
    "duration": 10,
    "start_time": "2022-12-09T17:49:47.326Z"
   },
   {
    "duration": 72,
    "start_time": "2022-12-09T17:49:47.339Z"
   },
   {
    "duration": 12,
    "start_time": "2022-12-09T17:49:47.413Z"
   },
   {
    "duration": 9,
    "start_time": "2022-12-09T17:49:47.427Z"
   },
   {
    "duration": 20,
    "start_time": "2022-12-09T17:49:47.437Z"
   },
   {
    "duration": 13,
    "start_time": "2022-12-09T17:49:47.459Z"
   },
   {
    "duration": 154,
    "start_time": "2022-12-09T17:49:47.474Z"
   },
   {
    "duration": 14,
    "start_time": "2022-12-09T17:49:47.631Z"
   },
   {
    "duration": 171,
    "start_time": "2022-12-09T17:49:47.647Z"
   },
   {
    "duration": 159,
    "start_time": "2022-12-09T17:49:47.819Z"
   },
   {
    "duration": 23,
    "start_time": "2022-12-09T17:49:47.980Z"
   },
   {
    "duration": 9,
    "start_time": "2022-12-09T17:49:48.005Z"
   },
   {
    "duration": 16,
    "start_time": "2022-12-09T17:49:48.016Z"
   },
   {
    "duration": 23,
    "start_time": "2022-12-09T17:49:48.034Z"
   },
   {
    "duration": 207,
    "start_time": "2022-12-09T17:49:48.059Z"
   },
   {
    "duration": 4,
    "start_time": "2022-12-09T17:49:48.268Z"
   },
   {
    "duration": 124,
    "start_time": "2022-12-09T17:49:48.274Z"
   },
   {
    "duration": 3,
    "start_time": "2022-12-09T17:49:48.400Z"
   },
   {
    "duration": 1660,
    "start_time": "2022-12-09T17:49:48.405Z"
   },
   {
    "duration": 2,
    "start_time": "2022-12-09T17:49:50.067Z"
   },
   {
    "duration": 10,
    "start_time": "2022-12-09T17:49:50.071Z"
   },
   {
    "duration": 1252,
    "start_time": "2022-12-09T17:49:50.082Z"
   },
   {
    "duration": 235,
    "start_time": "2022-12-09T17:49:51.336Z"
   },
   {
    "duration": 9,
    "start_time": "2022-12-09T17:49:51.573Z"
   },
   {
    "duration": 18,
    "start_time": "2022-12-09T17:49:51.584Z"
   },
   {
    "duration": 12,
    "start_time": "2022-12-09T17:49:51.607Z"
   },
   {
    "duration": 7,
    "start_time": "2022-12-09T17:49:51.621Z"
   },
   {
    "duration": 9473,
    "start_time": "2022-12-09T17:49:51.630Z"
   },
   {
    "duration": 93,
    "start_time": "2022-12-09T17:50:01.104Z"
   },
   {
    "duration": 126,
    "start_time": "2022-12-09T17:50:01.199Z"
   },
   {
    "duration": 16687,
    "start_time": "2022-12-09T17:50:01.327Z"
   },
   {
    "duration": 109117,
    "start_time": "2022-12-09T17:50:18.017Z"
   },
   {
    "duration": 3,
    "start_time": "2022-12-09T17:52:07.136Z"
   },
   {
    "duration": 16,
    "start_time": "2022-12-09T17:52:07.140Z"
   },
   {
    "duration": 5,
    "start_time": "2022-12-09T17:52:07.157Z"
   },
   {
    "duration": 38,
    "start_time": "2022-12-09T17:52:07.163Z"
   },
   {
    "duration": 7,
    "start_time": "2022-12-09T17:52:07.203Z"
   },
   {
    "duration": 16324,
    "start_time": "2022-12-09T17:52:07.212Z"
   },
   {
    "duration": 6,
    "start_time": "2022-12-09T17:52:23.538Z"
   },
   {
    "duration": 187978,
    "start_time": "2022-12-09T17:52:23.546Z"
   },
   {
    "duration": 3,
    "start_time": "2022-12-09T17:55:31.526Z"
   },
   {
    "duration": 8,
    "start_time": "2022-12-09T17:55:31.531Z"
   },
   {
    "duration": 886,
    "start_time": "2022-12-09T17:55:31.541Z"
   },
   {
    "duration": 11,
    "start_time": "2022-12-09T17:55:32.429Z"
   },
   {
    "duration": 27,
    "start_time": "2022-12-09T17:55:32.443Z"
   },
   {
    "duration": 37,
    "start_time": "2022-12-09T17:55:32.471Z"
   },
   {
    "duration": 157,
    "start_time": "2022-12-09T17:55:32.510Z"
   },
   {
    "duration": 6,
    "start_time": "2022-12-09T17:55:32.669Z"
   },
   {
    "duration": 20,
    "start_time": "2022-12-09T17:55:32.677Z"
   },
   {
    "duration": 32,
    "start_time": "2022-12-09T17:55:32.698Z"
   },
   {
    "duration": 5,
    "start_time": "2022-12-09T17:55:32.732Z"
   },
   {
    "duration": 20,
    "start_time": "2022-12-09T17:55:32.739Z"
   },
   {
    "duration": 149,
    "start_time": "2022-12-09T17:55:32.760Z"
   },
   {
    "duration": 13,
    "start_time": "2022-12-09T17:55:32.911Z"
   },
   {
    "duration": 9,
    "start_time": "2022-12-09T17:55:32.925Z"
   },
   {
    "duration": 19,
    "start_time": "2022-12-09T17:55:32.936Z"
   },
   {
    "duration": 61,
    "start_time": "2022-12-09T17:55:32.957Z"
   },
   {
    "duration": 7,
    "start_time": "2022-12-09T17:55:33.020Z"
   },
   {
    "duration": 23,
    "start_time": "2022-12-09T17:55:33.029Z"
   },
   {
    "duration": 34,
    "start_time": "2022-12-09T17:55:33.055Z"
   },
   {
    "duration": 6,
    "start_time": "2022-12-09T17:55:33.092Z"
   },
   {
    "duration": 11,
    "start_time": "2022-12-09T17:55:33.100Z"
   },
   {
    "duration": 688,
    "start_time": "2022-12-09T17:55:33.113Z"
   },
   {
    "duration": 108,
    "start_time": "2022-12-09T17:55:33.803Z"
   },
   {
    "duration": 100,
    "start_time": "2022-12-09T17:55:33.913Z"
   },
   {
    "duration": 18277,
    "start_time": "2022-12-09T17:55:34.015Z"
   },
   {
    "duration": 295,
    "start_time": "2022-12-09T17:55:52.294Z"
   },
   {
    "duration": 45,
    "start_time": "2022-12-09T17:55:52.595Z"
   },
   {
    "duration": 1,
    "start_time": "2022-12-09T17:55:52.642Z"
   },
   {
    "duration": 0,
    "start_time": "2022-12-09T17:55:52.644Z"
   },
   {
    "duration": 0,
    "start_time": "2022-12-09T17:55:52.646Z"
   },
   {
    "duration": 0,
    "start_time": "2022-12-09T17:55:52.648Z"
   },
   {
    "duration": 0,
    "start_time": "2022-12-09T17:55:52.649Z"
   },
   {
    "duration": 0,
    "start_time": "2022-12-09T17:55:52.651Z"
   },
   {
    "duration": 0,
    "start_time": "2022-12-09T17:55:52.653Z"
   },
   {
    "duration": 33,
    "start_time": "2022-12-09T18:02:17.323Z"
   },
   {
    "duration": 20,
    "start_time": "2022-12-09T18:03:01.248Z"
   },
   {
    "duration": 290,
    "start_time": "2022-12-09T18:06:42.146Z"
   },
   {
    "duration": 19,
    "start_time": "2022-12-09T18:06:48.007Z"
   },
   {
    "duration": 18,
    "start_time": "2022-12-09T18:06:58.278Z"
   },
   {
    "duration": 20,
    "start_time": "2022-12-09T18:07:06.846Z"
   },
   {
    "duration": 18,
    "start_time": "2022-12-09T18:07:25.329Z"
   },
   {
    "duration": 27,
    "start_time": "2022-12-09T18:07:29.975Z"
   },
   {
    "duration": 25,
    "start_time": "2022-12-09T18:07:36.150Z"
   },
   {
    "duration": 26,
    "start_time": "2022-12-09T18:07:54.994Z"
   },
   {
    "duration": 14,
    "start_time": "2022-12-09T18:08:52.848Z"
   },
   {
    "duration": 4,
    "start_time": "2022-12-09T18:08:55.612Z"
   },
   {
    "duration": 20,
    "start_time": "2022-12-09T18:09:00.552Z"
   },
   {
    "duration": 23,
    "start_time": "2022-12-09T18:09:02.482Z"
   },
   {
    "duration": 17,
    "start_time": "2022-12-09T18:09:07.376Z"
   },
   {
    "duration": 18,
    "start_time": "2022-12-09T18:09:17.342Z"
   },
   {
    "duration": 17,
    "start_time": "2022-12-09T18:09:23.013Z"
   },
   {
    "duration": 296,
    "start_time": "2022-12-09T18:09:27.217Z"
   },
   {
    "duration": 49,
    "start_time": "2022-12-09T18:09:32.923Z"
   },
   {
    "duration": 184,
    "start_time": "2022-12-09T18:09:38.927Z"
   },
   {
    "duration": 7236,
    "start_time": "2022-12-09T18:09:47.721Z"
   },
   {
    "duration": 12,
    "start_time": "2022-12-09T18:09:54.959Z"
   },
   {
    "duration": 11,
    "start_time": "2022-12-09T18:09:54.972Z"
   },
   {
    "duration": 62,
    "start_time": "2022-12-09T18:09:54.985Z"
   },
   {
    "duration": 14,
    "start_time": "2022-12-09T18:09:55.049Z"
   },
   {
    "duration": 11,
    "start_time": "2022-12-09T18:09:55.064Z"
   },
   {
    "duration": 13,
    "start_time": "2022-12-09T18:09:55.077Z"
   },
   {
    "duration": 21,
    "start_time": "2022-12-09T18:09:55.092Z"
   },
   {
    "duration": 158,
    "start_time": "2022-12-09T18:09:55.114Z"
   },
   {
    "duration": 10,
    "start_time": "2022-12-09T18:09:55.276Z"
   },
   {
    "duration": 132,
    "start_time": "2022-12-09T18:09:55.305Z"
   },
   {
    "duration": 135,
    "start_time": "2022-12-09T18:09:55.438Z"
   },
   {
    "duration": 27,
    "start_time": "2022-12-09T18:09:55.574Z"
   },
   {
    "duration": 11,
    "start_time": "2022-12-09T18:09:55.607Z"
   },
   {
    "duration": 15,
    "start_time": "2022-12-09T18:09:55.619Z"
   },
   {
    "duration": 22,
    "start_time": "2022-12-09T18:09:55.635Z"
   },
   {
    "duration": 59,
    "start_time": "2022-12-09T18:09:55.659Z"
   },
   {
    "duration": 4,
    "start_time": "2022-12-09T18:09:55.719Z"
   },
   {
    "duration": 347,
    "start_time": "2022-12-09T18:09:55.725Z"
   },
   {
    "duration": 4,
    "start_time": "2022-12-09T18:09:56.075Z"
   },
   {
    "duration": 1539,
    "start_time": "2022-12-09T18:09:56.081Z"
   },
   {
    "duration": 3,
    "start_time": "2022-12-09T18:09:57.622Z"
   },
   {
    "duration": 8,
    "start_time": "2022-12-09T18:09:57.626Z"
   },
   {
    "duration": 1035,
    "start_time": "2022-12-09T18:09:57.635Z"
   },
   {
    "duration": 368,
    "start_time": "2022-12-09T18:09:58.672Z"
   },
   {
    "duration": 8,
    "start_time": "2022-12-09T18:09:59.042Z"
   },
   {
    "duration": 9,
    "start_time": "2022-12-09T18:09:59.052Z"
   },
   {
    "duration": 4,
    "start_time": "2022-12-09T18:09:59.064Z"
   },
   {
    "duration": 4,
    "start_time": "2022-12-09T18:09:59.070Z"
   },
   {
    "duration": 10341,
    "start_time": "2022-12-09T18:09:59.076Z"
   },
   {
    "duration": 83,
    "start_time": "2022-12-09T18:10:09.420Z"
   },
   {
    "duration": 97,
    "start_time": "2022-12-09T18:10:09.507Z"
   },
   {
    "duration": 18953,
    "start_time": "2022-12-09T18:10:09.607Z"
   },
   {
    "duration": 104846,
    "start_time": "2022-12-09T18:10:28.562Z"
   },
   {
    "duration": 3,
    "start_time": "2022-12-09T18:12:13.410Z"
   },
   {
    "duration": 17,
    "start_time": "2022-12-09T18:12:13.414Z"
   },
   {
    "duration": 3,
    "start_time": "2022-12-09T18:12:13.433Z"
   },
   {
    "duration": 21,
    "start_time": "2022-12-09T18:12:13.437Z"
   },
   {
    "duration": 5,
    "start_time": "2022-12-09T18:12:13.460Z"
   },
   {
    "duration": 18621,
    "start_time": "2022-12-09T18:12:13.466Z"
   },
   {
    "duration": 15,
    "start_time": "2022-12-09T18:12:32.096Z"
   },
   {
    "duration": 181312,
    "start_time": "2022-12-09T18:12:32.113Z"
   },
   {
    "duration": 2,
    "start_time": "2022-12-09T18:15:33.427Z"
   },
   {
    "duration": 6,
    "start_time": "2022-12-09T18:15:33.431Z"
   },
   {
    "duration": 851,
    "start_time": "2022-12-09T18:15:33.438Z"
   },
   {
    "duration": 147,
    "start_time": "2022-12-09T18:15:34.290Z"
   },
   {
    "duration": 6,
    "start_time": "2022-12-09T18:15:34.439Z"
   },
   {
    "duration": 20,
    "start_time": "2022-12-09T18:15:34.446Z"
   },
   {
    "duration": 20,
    "start_time": "2022-12-09T18:15:34.468Z"
   },
   {
    "duration": 16,
    "start_time": "2022-12-09T18:15:34.490Z"
   },
   {
    "duration": 22,
    "start_time": "2022-12-09T18:15:34.508Z"
   },
   {
    "duration": 128,
    "start_time": "2022-12-09T18:15:34.531Z"
   },
   {
    "duration": 13,
    "start_time": "2022-12-09T18:15:34.660Z"
   },
   {
    "duration": 9,
    "start_time": "2022-12-09T18:15:34.674Z"
   },
   {
    "duration": 30,
    "start_time": "2022-12-09T18:15:34.684Z"
   },
   {
    "duration": 33,
    "start_time": "2022-12-09T18:15:34.716Z"
   },
   {
    "duration": 6,
    "start_time": "2022-12-09T18:15:34.751Z"
   },
   {
    "duration": 8,
    "start_time": "2022-12-09T18:15:34.758Z"
   },
   {
    "duration": 38,
    "start_time": "2022-12-09T18:15:34.768Z"
   },
   {
    "duration": 7,
    "start_time": "2022-12-09T18:15:34.808Z"
   },
   {
    "duration": 8,
    "start_time": "2022-12-09T18:15:34.817Z"
   },
   {
    "duration": 971,
    "start_time": "2022-12-09T18:15:34.827Z"
   },
   {
    "duration": 124,
    "start_time": "2022-12-09T18:15:35.800Z"
   },
   {
    "duration": 33,
    "start_time": "2022-12-09T18:15:35.927Z"
   },
   {
    "duration": 22,
    "start_time": "2022-12-09T18:15:35.962Z"
   },
   {
    "duration": 18629,
    "start_time": "2022-12-09T18:15:35.986Z"
   },
   {
    "duration": 296,
    "start_time": "2022-12-09T18:15:54.617Z"
   },
   {
    "duration": 52,
    "start_time": "2022-12-09T18:15:54.915Z"
   },
   {
    "duration": 211,
    "start_time": "2022-12-09T18:15:54.969Z"
   },
   {
    "duration": 30,
    "start_time": "2022-12-09T18:15:55.182Z"
   },
   {
    "duration": 15,
    "start_time": "2022-12-09T18:15:55.213Z"
   },
   {
    "duration": 7,
    "start_time": "2022-12-09T18:15:55.230Z"
   },
   {
    "duration": 84626,
    "start_time": "2022-12-09T18:15:55.238Z"
   },
   {
    "duration": 97,
    "start_time": "2022-12-09T18:17:19.865Z"
   },
   {
    "duration": 212,
    "start_time": "2022-12-09T18:17:19.964Z"
   },
   {
    "duration": 201,
    "start_time": "2022-12-09T18:22:38.473Z"
   },
   {
    "duration": 255,
    "start_time": "2022-12-09T18:23:08.651Z"
   }
  ],
  "celltoolbar": "Raw Cell Format",
  "kernelspec": {
   "display_name": "Python 3 (ipykernel)",
   "language": "python",
   "name": "python3"
  },
  "language_info": {
   "codemirror_mode": {
    "name": "ipython",
    "version": 3
   },
   "file_extension": ".py",
   "mimetype": "text/x-python",
   "name": "python",
   "nbconvert_exporter": "python",
   "pygments_lexer": "ipython3",
   "version": "3.9.12"
  },
  "toc": {
   "base_numbering": 1,
   "nav_menu": {},
   "number_sections": true,
   "sideBar": true,
   "skip_h1_title": true,
   "title_cell": "Содержание",
   "title_sidebar": "Contents",
   "toc_cell": true,
   "toc_position": {
    "height": "calc(100% - 180px)",
    "left": "10px",
    "top": "150px",
    "width": "186.188px"
   },
   "toc_section_display": true,
   "toc_window_display": true
  },
  "vscode": {
   "interpreter": {
    "hash": "aee8b7b246df8f9039afb4144a1f6fd8d2ca17a180786b69acc140d282b71a49"
   }
  }
 },
 "nbformat": 4,
 "nbformat_minor": 2
}
