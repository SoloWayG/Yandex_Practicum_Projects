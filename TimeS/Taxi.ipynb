{
 "cells": [
  {
   "cell_type": "markdown",
   "metadata": {},
   "source": [
    "#  Прогнозирование заказов такси"
   ]
  },
  {
   "cell_type": "markdown",
   "metadata": {},
   "source": [
    "Компания «Чётенькое такси» собрала исторические данные о заказах такси в аэропортах. Чтобы привлекать больше водителей в период пиковой нагрузки, нужно спрогнозировать количество заказов такси на следующий час. Постройте модель для такого предсказания.\n",
    "\n",
    "Значение метрики *RMSE* на тестовой выборке должно быть не больше 48.\n",
    "\n",
    "Вам нужно:\n",
    "\n",
    "1. Загрузить данные и выполнить их ресемплирование по одному часу.\n",
    "2. Проанализировать данные.\n",
    "3. Обучить разные модели с различными гиперпараметрами. Сделать тестовую выборку размером 10% от исходных данных.\n",
    "4. Проверить данные на тестовой выборке и сделать выводы.\n",
    "\n",
    "\n",
    "Данные лежат в файле `taxi.csv`. Количество заказов находится в столбце `num_orders` (от англ. *number of orders*, «число заказов»)."
   ]
  },
  {
   "cell_type": "markdown",
   "metadata": {},
   "source": [
    "## Подготовка"
   ]
  },
  {
   "cell_type": "code",
   "execution_count": 1,
   "metadata": {},
   "outputs": [],
   "source": [
    "import pandas as pd\n",
    "import numpy as np\n",
    "from statsmodels.tsa.seasonal import seasonal_decompose\n",
    "import matplotlib.pyplot as plt\n",
    "from sklearn.linear_model import LinearRegression\n",
    "from sklearn.ensemble import RandomForestRegressor,GradientBoostingRegressor\n",
    "from sklearn.model_selection import RandomizedSearchCV,GridSearchCV,train_test_split,TimeSeriesSplit\n",
    "from sklearn.preprocessing import StandardScaler\n",
    "from sklearn.pipeline import make_pipeline\n",
    "from sklearn.metrics import fbeta_score, make_scorer,mean_squared_error\n"
   ]
  },
  {
   "cell_type": "code",
   "execution_count": 2,
   "metadata": {},
   "outputs": [],
   "source": [
    "data=pd.read_csv('/datasets/taxi.csv',parse_dates=['datetime'])"
   ]
  },
  {
   "cell_type": "code",
   "execution_count": 3,
   "metadata": {},
   "outputs": [
    {
     "name": "stdout",
     "output_type": "stream",
     "text": [
      "<class 'pandas.core.frame.DataFrame'>\n",
      "RangeIndex: 26496 entries, 0 to 26495\n",
      "Data columns (total 2 columns):\n",
      " #   Column      Non-Null Count  Dtype         \n",
      "---  ------      --------------  -----         \n",
      " 0   datetime    26496 non-null  datetime64[ns]\n",
      " 1   num_orders  26496 non-null  int64         \n",
      "dtypes: datetime64[ns](1), int64(1)\n",
      "memory usage: 414.1 KB\n"
     ]
    }
   ],
   "source": [
    "data.info()"
   ]
  },
  {
   "cell_type": "code",
   "execution_count": 4,
   "metadata": {},
   "outputs": [
    {
     "data": {
      "text/html": [
       "<div>\n",
       "<style scoped>\n",
       "    .dataframe tbody tr th:only-of-type {\n",
       "        vertical-align: middle;\n",
       "    }\n",
       "\n",
       "    .dataframe tbody tr th {\n",
       "        vertical-align: top;\n",
       "    }\n",
       "\n",
       "    .dataframe thead th {\n",
       "        text-align: right;\n",
       "    }\n",
       "</style>\n",
       "<table border=\"1\" class=\"dataframe\">\n",
       "  <thead>\n",
       "    <tr style=\"text-align: right;\">\n",
       "      <th></th>\n",
       "      <th>datetime</th>\n",
       "      <th>num_orders</th>\n",
       "    </tr>\n",
       "  </thead>\n",
       "  <tbody>\n",
       "    <tr>\n",
       "      <th>0</th>\n",
       "      <td>2018-03-01 00:00:00</td>\n",
       "      <td>9</td>\n",
       "    </tr>\n",
       "    <tr>\n",
       "      <th>1</th>\n",
       "      <td>2018-03-01 00:10:00</td>\n",
       "      <td>14</td>\n",
       "    </tr>\n",
       "    <tr>\n",
       "      <th>2</th>\n",
       "      <td>2018-03-01 00:20:00</td>\n",
       "      <td>28</td>\n",
       "    </tr>\n",
       "    <tr>\n",
       "      <th>3</th>\n",
       "      <td>2018-03-01 00:30:00</td>\n",
       "      <td>20</td>\n",
       "    </tr>\n",
       "    <tr>\n",
       "      <th>4</th>\n",
       "      <td>2018-03-01 00:40:00</td>\n",
       "      <td>32</td>\n",
       "    </tr>\n",
       "  </tbody>\n",
       "</table>\n",
       "</div>"
      ],
      "text/plain": [
       "             datetime  num_orders\n",
       "0 2018-03-01 00:00:00           9\n",
       "1 2018-03-01 00:10:00          14\n",
       "2 2018-03-01 00:20:00          28\n",
       "3 2018-03-01 00:30:00          20\n",
       "4 2018-03-01 00:40:00          32"
      ]
     },
     "execution_count": 4,
     "metadata": {},
     "output_type": "execute_result"
    }
   ],
   "source": [
    "data.head()"
   ]
  },
  {
   "cell_type": "markdown",
   "metadata": {},
   "source": [
    "Ресемплирование по одному часу (сумма за час)"
   ]
  },
  {
   "cell_type": "code",
   "execution_count": 5,
   "metadata": {},
   "outputs": [
    {
     "data": {
      "text/html": [
       "<div>\n",
       "<style scoped>\n",
       "    .dataframe tbody tr th:only-of-type {\n",
       "        vertical-align: middle;\n",
       "    }\n",
       "\n",
       "    .dataframe tbody tr th {\n",
       "        vertical-align: top;\n",
       "    }\n",
       "\n",
       "    .dataframe thead th {\n",
       "        text-align: right;\n",
       "    }\n",
       "</style>\n",
       "<table border=\"1\" class=\"dataframe\">\n",
       "  <thead>\n",
       "    <tr style=\"text-align: right;\">\n",
       "      <th></th>\n",
       "      <th>num_orders</th>\n",
       "    </tr>\n",
       "    <tr>\n",
       "      <th>datetime</th>\n",
       "      <th></th>\n",
       "    </tr>\n",
       "  </thead>\n",
       "  <tbody>\n",
       "    <tr>\n",
       "      <th>2018-03-01 00:00:00</th>\n",
       "      <td>124</td>\n",
       "    </tr>\n",
       "    <tr>\n",
       "      <th>2018-03-01 01:00:00</th>\n",
       "      <td>85</td>\n",
       "    </tr>\n",
       "    <tr>\n",
       "      <th>2018-03-01 02:00:00</th>\n",
       "      <td>71</td>\n",
       "    </tr>\n",
       "    <tr>\n",
       "      <th>2018-03-01 03:00:00</th>\n",
       "      <td>66</td>\n",
       "    </tr>\n",
       "    <tr>\n",
       "      <th>2018-03-01 04:00:00</th>\n",
       "      <td>43</td>\n",
       "    </tr>\n",
       "  </tbody>\n",
       "</table>\n",
       "</div>"
      ],
      "text/plain": [
       "                     num_orders\n",
       "datetime                       \n",
       "2018-03-01 00:00:00         124\n",
       "2018-03-01 01:00:00          85\n",
       "2018-03-01 02:00:00          71\n",
       "2018-03-01 03:00:00          66\n",
       "2018-03-01 04:00:00          43"
      ]
     },
     "execution_count": 5,
     "metadata": {},
     "output_type": "execute_result"
    }
   ],
   "source": [
    "data=data.resample(\"H\",on='datetime').sum()\n",
    "data.head()"
   ]
  },
  {
   "cell_type": "code",
   "execution_count": 6,
   "metadata": {},
   "outputs": [
    {
     "name": "stdout",
     "output_type": "stream",
     "text": [
      "<class 'pandas.core.frame.DataFrame'>\n",
      "DatetimeIndex: 4416 entries, 2018-03-01 00:00:00 to 2018-08-31 23:00:00\n",
      "Freq: H\n",
      "Data columns (total 1 columns):\n",
      " #   Column      Non-Null Count  Dtype\n",
      "---  ------      --------------  -----\n",
      " 0   num_orders  4416 non-null   int64\n",
      "dtypes: int64(1)\n",
      "memory usage: 69.0 KB\n"
     ]
    }
   ],
   "source": [
    "data.info()"
   ]
  },
  {
   "cell_type": "markdown",
   "metadata": {},
   "source": [
    "## Анализ"
   ]
  },
  {
   "cell_type": "code",
   "execution_count": 7,
   "metadata": {},
   "outputs": [
    {
     "data": {
      "text/plain": [
       "num_orders    0\n",
       "dtype: int64"
      ]
     },
     "execution_count": 7,
     "metadata": {},
     "output_type": "execute_result"
    }
   ],
   "source": [
    "data.isna().sum()"
   ]
  },
  {
   "cell_type": "markdown",
   "metadata": {},
   "source": [
    "Проверю на монотонность временной ряд."
   ]
  },
  {
   "cell_type": "code",
   "execution_count": 8,
   "metadata": {},
   "outputs": [
    {
     "name": "stdout",
     "output_type": "stream",
     "text": [
      "True\n"
     ]
    }
   ],
   "source": [
    "data=data.sort_index()\n",
    "print(data.index.is_monotonic)"
   ]
  },
  {
   "cell_type": "code",
   "execution_count": 9,
   "metadata": {},
   "outputs": [
    {
     "data": {
      "image/png": "[encoded data removed]",
      "text/plain": [
       "<Figure size 864x576 with 1 Axes>"
      ]
     },
     "metadata": {
      "needs_background": "light"
     },
     "output_type": "display_data"
    }
   ],
   "source": [
    "data.plot(figsize=(12,8))\n",
    "plt.title('Распределение заказов');"
   ]
  },
  {
   "cell_type": "markdown",
   "metadata": {},
   "source": [
    "Если просмотреть скользящее среднее за год, то можно посмотреть как меняются заказы в течении года и прикинуть тренд"
   ]
  },
  {
   "cell_type": "code",
   "execution_count": 10,
   "metadata": {},
   "outputs": [
    {
     "data": {
      "image/png": "[encoded data removed]",
      "text/plain": [
       "<Figure size 864x576 with 1 Axes>"
      ]
     },
     "metadata": {
      "needs_background": "light"
     },
     "output_type": "display_data"
    }
   ],
   "source": [
    "data.rolling(300).mean().plot(figsize=(12,8))\n",
    "plt.title('Cкользящее среднее за год');"
   ]
  },
  {
   "cell_type": "markdown",
   "metadata": {},
   "source": [
    "По скользящему более очевилен тренд. Он восходящий, и имеет две точки ускорения начиная с середины апреля и более выраженный рост с августа."
   ]
  },
  {
   "cell_type": "code",
   "execution_count": 11,
   "metadata": {},
   "outputs": [
    {
     "data": {
      "image/png": "[encoded data removed]",
      "text/plain": [
       "<Figure size 864x1152 with 3 Axes>"
      ]
     },
     "metadata": {
      "needs_background": "light"
     },
     "output_type": "display_data"
    }
   ],
   "source": [
    "decomposed = seasonal_decompose(data)\n",
    "\n",
    "plt.figure(figsize=(12, 16))\n",
    "plt.subplot(311)\n",
    "\n",
    "decomposed.trend.plot(ax=plt.gca())\n",
    "plt.title('Тренд за год')\n",
    "\n",
    "plt.subplot(312)\n",
    "decomposed.seasonal['2018-03-01':'2018-03-02'].plot(ax=plt.gca()) \n",
    "plt.title('Сезонность за сутки')\n",
    "\n",
    "\n",
    "plt.subplot(313)\n",
    "decomposed.resid.plot(ax=plt.gca(),) \n",
    "plt.title('Остатки за год')\n",
    "plt.tight_layout()"
   ]
  },
  {
   "cell_type": "markdown",
   "metadata": {},
   "source": [
    "Тренд явно возрастающий, видно что с августа интенсивность роста увеличивлась. Очень хорошо показана сезонность за сутки, видно что меньше всего заказов в 6 утра, и пиками в 17:00 (послерабочее время) и 00:00, веротяно связанно с возвратом людей домой после вечерних развлечений. Однако нет различий в буднии и выходные дни(если сделать сезонность за 7 дней) - это говорит о том, что данные вероятно синтетические. Остатки увеличиваются к концу года, в тестовую выборку попадет чуть больше данных, которые сложно объяснить и на которых модели будет сложнее обучиться. Но в целом здесь это не сильно критично."
   ]
  },
  {
   "cell_type": "code",
   "execution_count": 12,
   "metadata": {},
   "outputs": [
    {
     "data": {
      "image/png": "[encoded data removed]",
      "text/plain": [
       "<Figure size 864x576 with 1 Axes>"
      ]
     },
     "metadata": {
      "needs_background": "light"
     },
     "output_type": "display_data"
    }
   ],
   "source": [
    "decomposed.seasonal['2018-03-01':'2018-03-07'].plot(ax=plt.gca(),figsize=(12,8)) \n",
    "plt.title('Сезонность за неделю');"
   ]
  },
  {
   "cell_type": "markdown",
   "metadata": {},
   "source": [
    "По тренду видно, что количество заказов в такси растет.чОтенько растет.\n",
    "Судя по сесознному распределению. Стохастический процесс распределения заказов стационарный по месяцам. Но это не точно."
   ]
  },
  {
   "cell_type": "code",
   "execution_count": 13,
   "metadata": {},
   "outputs": [
    {
     "name": "stdout",
     "output_type": "stream",
     "text": [
      "Если значение с индексом 1 меньше P-Value, заданное нами (обычно берут 0.05), то ряд стационарный\n",
      "Наш ряд стационарный\n"
     ]
    }
   ],
   "source": [
    "\n",
    "from statsmodels.tsa.stattools import adfuller\n",
    "\n",
    "ts = data['num_orders']\n",
    "st_test = adfuller(ts, regression='ctt')\n",
    "\n",
    "print('Если значение с индексом 1 меньше P-Value, заданное нами (обычно берут 0.05), то ряд стационарный')\n",
    "if st_test[1] < 0.05:\n",
    "    print('Наш ряд стационарный')\n",
    "else:\n",
    "    print('Ряд нестационарный')\n"
   ]
  },
  {
   "cell_type": "code",
   "execution_count": 14,
   "metadata": {},
   "outputs": [
    {
     "data": {
      "image/png": "[encoded data removed]",
      "text/plain": [
       "<Figure size 864x576 with 1 Axes>"
      ]
     },
     "metadata": {
      "needs_background": "light"
     },
     "output_type": "display_data"
    }
   ],
   "source": [
    "shift_df=data-data.shift()\n",
    "shift_df['mean'] = data['num_orders'].rolling(24).mean()\n",
    "shift_df['std'] = data['num_orders'].rolling(24).std()\n",
    "shift_df.drop(['num_orders'],axis=1).plot(figsize=(12,8))\n",
    "plt.title('Разность временого ряда со среднеквадратичным откл и средним');"
   ]
  },
  {
   "cell_type": "markdown",
   "metadata": {},
   "source": [
    "Можно заметить, что хоть и идет рост заказов после августа, но при этом и идет рост среднеквадратичного отклонения"
   ]
  },
  {
   "cell_type": "markdown",
   "metadata": {},
   "source": [
    "### Вывод:"
   ]
  },
  {
   "cell_type": "markdown",
   "metadata": {},
   "source": [
    "Тренд явно возрастающий, видно что с августа интенсивность роста увеличивлась. Очень хорошо показана сезонность за сутки, видно что меньше всего заказов в 6 утра, и пиками в 17:00 (послерабочее время) и 00:00, веротяно связанно с возвратом людей домой после вечерних развлечений. Однако нет различий в буднии и выходные дни(если сделать сезонность за 7 дней) - это говорит о том, что данные вероятно синтетические. Остатки увеличиваются к концу года, в тестовую выборку попадет чуть больше данных, которые сложно объяснить и на которых модели будет сложнее обучиться. Но в целом здесь это не сильно критично.\n",
    "\n",
    "По скользящему более очевилен тренд. Он восходящий, и имеет две точки ускорения начиная с середины апреля и более выраженный рост с августа.\n",
    "\n",
    "Можно заметить, что хоть и идет рост заказов после августа, но при этом и идет рост среднеквадратичного отклонения\n",
    "\n",
    "Наш ряд стационарный\n",
    "\n"
   ]
  },
  {
   "cell_type": "markdown",
   "metadata": {},
   "source": [
    "## Обучение"
   ]
  },
  {
   "cell_type": "markdown",
   "metadata": {},
   "source": [
    "### Новые признаки"
   ]
  },
  {
   "cell_type": "markdown",
   "metadata": {},
   "source": [
    "Создадим доп признаки из датты. Возьмем их из индекса датты."
   ]
  },
  {
   "cell_type": "markdown",
   "metadata": {},
   "source": [
    "Создам признаки час, день, день недели, отстающие значения lag, и скользящее среднее"
   ]
  },
  {
   "cell_type": "code",
   "execution_count": 15,
   "metadata": {},
   "outputs": [],
   "source": [
    "def make_features(data, max_lag, rolling_mean_size):\n",
    "    data['hour'] = data.index.hour\n",
    "    data['day'] = data.index.day\n",
    "    data['dayofweek'] = data.index.dayofweek\n",
    "    for lag in range(1, max_lag + 1):\n",
    "        data['lag_{}'.format(lag)] = data['num_orders'].shift(lag)\n",
    "\n",
    "    data['rolling_mean'] = data['num_orders'].shift().rolling(rolling_mean_size).mean()\n",
    "\n"
   ]
  },
  {
   "cell_type": "code",
   "execution_count": 16,
   "metadata": {},
   "outputs": [
    {
     "name": "stdout",
     "output_type": "stream",
     "text": [
      "<class 'pandas.core.frame.DataFrame'>\n",
      "DatetimeIndex: 4248 entries, 2018-03-08 00:00:00 to 2018-08-31 23:00:00\n",
      "Freq: H\n",
      "Columns: 173 entries, num_orders to rolling_mean\n",
      "dtypes: float64(169), int64(4)\n",
      "memory usage: 5.6 MB\n"
     ]
    }
   ],
   "source": [
    "make_features(data, 168, 6)\n",
    "data=data.dropna()\n",
    "data.info()"
   ]
  },
  {
   "cell_type": "code",
   "execution_count": 17,
   "metadata": {},
   "outputs": [
    {
     "data": {
      "image/png": "[encoded data removed]",
      "text/plain": [
       "<Figure size 1332x432 with 1 Axes>"
      ]
     },
     "metadata": {
      "needs_background": "light"
     },
     "output_type": "display_data"
    }
   ],
   "source": [
    "# Код ревьюера\n",
    "from statsmodels.graphics import tsaplots\n",
    "\n",
    "fig = tsaplots.plot_acf(data['num_orders'],lags= 168)\n",
    "fig.set_size_inches(18.5, 6)\n",
    "plt.ylim(-.1, 1.1)\n",
    "plt.show() \n",
    "\n"
   ]
  },
  {
   "cell_type": "code",
   "execution_count": 18,
   "metadata": {},
   "outputs": [
    {
     "data": {
      "text/html": [
       "<div>\n",
       "<style scoped>\n",
       "    .dataframe tbody tr th:only-of-type {\n",
       "        vertical-align: middle;\n",
       "    }\n",
       "\n",
       "    .dataframe tbody tr th {\n",
       "        vertical-align: top;\n",
       "    }\n",
       "\n",
       "    .dataframe thead th {\n",
       "        text-align: right;\n",
       "    }\n",
       "</style>\n",
       "<table border=\"1\" class=\"dataframe\">\n",
       "  <thead>\n",
       "    <tr style=\"text-align: right;\">\n",
       "      <th></th>\n",
       "      <th>num_orders</th>\n",
       "      <th>hour</th>\n",
       "      <th>day</th>\n",
       "      <th>dayofweek</th>\n",
       "      <th>lag_1</th>\n",
       "      <th>lag_2</th>\n",
       "      <th>lag_3</th>\n",
       "      <th>lag_4</th>\n",
       "      <th>lag_5</th>\n",
       "      <th>lag_6</th>\n",
       "      <th>...</th>\n",
       "      <th>lag_160</th>\n",
       "      <th>lag_161</th>\n",
       "      <th>lag_162</th>\n",
       "      <th>lag_163</th>\n",
       "      <th>lag_164</th>\n",
       "      <th>lag_165</th>\n",
       "      <th>lag_166</th>\n",
       "      <th>lag_167</th>\n",
       "      <th>lag_168</th>\n",
       "      <th>rolling_mean</th>\n",
       "    </tr>\n",
       "    <tr>\n",
       "      <th>datetime</th>\n",
       "      <th></th>\n",
       "      <th></th>\n",
       "      <th></th>\n",
       "      <th></th>\n",
       "      <th></th>\n",
       "      <th></th>\n",
       "      <th></th>\n",
       "      <th></th>\n",
       "      <th></th>\n",
       "      <th></th>\n",
       "      <th></th>\n",
       "      <th></th>\n",
       "      <th></th>\n",
       "      <th></th>\n",
       "      <th></th>\n",
       "      <th></th>\n",
       "      <th></th>\n",
       "      <th></th>\n",
       "      <th></th>\n",
       "      <th></th>\n",
       "      <th></th>\n",
       "    </tr>\n",
       "  </thead>\n",
       "  <tbody>\n",
       "    <tr>\n",
       "      <th>2018-03-08 00:00:00</th>\n",
       "      <td>143</td>\n",
       "      <td>0</td>\n",
       "      <td>8</td>\n",
       "      <td>3</td>\n",
       "      <td>94.0</td>\n",
       "      <td>127.0</td>\n",
       "      <td>108.0</td>\n",
       "      <td>76.0</td>\n",
       "      <td>50.0</td>\n",
       "      <td>99.0</td>\n",
       "      <td>...</td>\n",
       "      <td>34.0</td>\n",
       "      <td>15.0</td>\n",
       "      <td>12.0</td>\n",
       "      <td>6.0</td>\n",
       "      <td>43.0</td>\n",
       "      <td>66.0</td>\n",
       "      <td>71.0</td>\n",
       "      <td>85.0</td>\n",
       "      <td>124.0</td>\n",
       "      <td>92.333333</td>\n",
       "    </tr>\n",
       "    <tr>\n",
       "      <th>2018-03-08 01:00:00</th>\n",
       "      <td>78</td>\n",
       "      <td>1</td>\n",
       "      <td>8</td>\n",
       "      <td>3</td>\n",
       "      <td>143.0</td>\n",
       "      <td>94.0</td>\n",
       "      <td>127.0</td>\n",
       "      <td>108.0</td>\n",
       "      <td>76.0</td>\n",
       "      <td>50.0</td>\n",
       "      <td>...</td>\n",
       "      <td>69.0</td>\n",
       "      <td>34.0</td>\n",
       "      <td>15.0</td>\n",
       "      <td>12.0</td>\n",
       "      <td>6.0</td>\n",
       "      <td>43.0</td>\n",
       "      <td>66.0</td>\n",
       "      <td>71.0</td>\n",
       "      <td>85.0</td>\n",
       "      <td>99.666667</td>\n",
       "    </tr>\n",
       "    <tr>\n",
       "      <th>2018-03-08 02:00:00</th>\n",
       "      <td>65</td>\n",
       "      <td>2</td>\n",
       "      <td>8</td>\n",
       "      <td>3</td>\n",
       "      <td>78.0</td>\n",
       "      <td>143.0</td>\n",
       "      <td>94.0</td>\n",
       "      <td>127.0</td>\n",
       "      <td>108.0</td>\n",
       "      <td>76.0</td>\n",
       "      <td>...</td>\n",
       "      <td>64.0</td>\n",
       "      <td>69.0</td>\n",
       "      <td>34.0</td>\n",
       "      <td>15.0</td>\n",
       "      <td>12.0</td>\n",
       "      <td>6.0</td>\n",
       "      <td>43.0</td>\n",
       "      <td>66.0</td>\n",
       "      <td>71.0</td>\n",
       "      <td>104.333333</td>\n",
       "    </tr>\n",
       "    <tr>\n",
       "      <th>2018-03-08 03:00:00</th>\n",
       "      <td>68</td>\n",
       "      <td>3</td>\n",
       "      <td>8</td>\n",
       "      <td>3</td>\n",
       "      <td>65.0</td>\n",
       "      <td>78.0</td>\n",
       "      <td>143.0</td>\n",
       "      <td>94.0</td>\n",
       "      <td>127.0</td>\n",
       "      <td>108.0</td>\n",
       "      <td>...</td>\n",
       "      <td>96.0</td>\n",
       "      <td>64.0</td>\n",
       "      <td>69.0</td>\n",
       "      <td>34.0</td>\n",
       "      <td>15.0</td>\n",
       "      <td>12.0</td>\n",
       "      <td>6.0</td>\n",
       "      <td>43.0</td>\n",
       "      <td>66.0</td>\n",
       "      <td>102.500000</td>\n",
       "    </tr>\n",
       "    <tr>\n",
       "      <th>2018-03-08 04:00:00</th>\n",
       "      <td>60</td>\n",
       "      <td>4</td>\n",
       "      <td>8</td>\n",
       "      <td>3</td>\n",
       "      <td>68.0</td>\n",
       "      <td>65.0</td>\n",
       "      <td>78.0</td>\n",
       "      <td>143.0</td>\n",
       "      <td>94.0</td>\n",
       "      <td>127.0</td>\n",
       "      <td>...</td>\n",
       "      <td>30.0</td>\n",
       "      <td>96.0</td>\n",
       "      <td>64.0</td>\n",
       "      <td>69.0</td>\n",
       "      <td>34.0</td>\n",
       "      <td>15.0</td>\n",
       "      <td>12.0</td>\n",
       "      <td>6.0</td>\n",
       "      <td>43.0</td>\n",
       "      <td>95.833333</td>\n",
       "    </tr>\n",
       "  </tbody>\n",
       "</table>\n",
       "<p>5 rows × 173 columns</p>\n",
       "</div>"
      ],
      "text/plain": [
       "                     num_orders  hour  day  dayofweek  lag_1  lag_2  lag_3  \\\n",
       "datetime                                                                     \n",
       "2018-03-08 00:00:00         143     0    8          3   94.0  127.0  108.0   \n",
       "2018-03-08 01:00:00          78     1    8          3  143.0   94.0  127.0   \n",
       "2018-03-08 02:00:00          65     2    8          3   78.0  143.0   94.0   \n",
       "2018-03-08 03:00:00          68     3    8          3   65.0   78.0  143.0   \n",
       "2018-03-08 04:00:00          60     4    8          3   68.0   65.0   78.0   \n",
       "\n",
       "                     lag_4  lag_5  lag_6  ...  lag_160  lag_161  lag_162  \\\n",
       "datetime                                  ...                              \n",
       "2018-03-08 00:00:00   76.0   50.0   99.0  ...     34.0     15.0     12.0   \n",
       "2018-03-08 01:00:00  108.0   76.0   50.0  ...     69.0     34.0     15.0   \n",
       "2018-03-08 02:00:00  127.0  108.0   76.0  ...     64.0     69.0     34.0   \n",
       "2018-03-08 03:00:00   94.0  127.0  108.0  ...     96.0     64.0     69.0   \n",
       "2018-03-08 04:00:00  143.0   94.0  127.0  ...     30.0     96.0     64.0   \n",
       "\n",
       "                     lag_163  lag_164  lag_165  lag_166  lag_167  lag_168  \\\n",
       "datetime                                                                    \n",
       "2018-03-08 00:00:00      6.0     43.0     66.0     71.0     85.0    124.0   \n",
       "2018-03-08 01:00:00     12.0      6.0     43.0     66.0     71.0     85.0   \n",
       "2018-03-08 02:00:00     15.0     12.0      6.0     43.0     66.0     71.0   \n",
       "2018-03-08 03:00:00     34.0     15.0     12.0      6.0     43.0     66.0   \n",
       "2018-03-08 04:00:00     69.0     34.0     15.0     12.0      6.0     43.0   \n",
       "\n",
       "                     rolling_mean  \n",
       "datetime                           \n",
       "2018-03-08 00:00:00     92.333333  \n",
       "2018-03-08 01:00:00     99.666667  \n",
       "2018-03-08 02:00:00    104.333333  \n",
       "2018-03-08 03:00:00    102.500000  \n",
       "2018-03-08 04:00:00     95.833333  \n",
       "\n",
       "[5 rows x 173 columns]"
      ]
     },
     "execution_count": 18,
     "metadata": {},
     "output_type": "execute_result"
    }
   ],
   "source": [
    "data.head()"
   ]
  },
  {
   "cell_type": "code",
   "execution_count": 19,
   "metadata": {},
   "outputs": [
    {
     "data": {
      "text/html": [
       "<div>\n",
       "<style scoped>\n",
       "    .dataframe tbody tr th:only-of-type {\n",
       "        vertical-align: middle;\n",
       "    }\n",
       "\n",
       "    .dataframe tbody tr th {\n",
       "        vertical-align: top;\n",
       "    }\n",
       "\n",
       "    .dataframe thead th {\n",
       "        text-align: right;\n",
       "    }\n",
       "</style>\n",
       "<table border=\"1\" class=\"dataframe\">\n",
       "  <thead>\n",
       "    <tr style=\"text-align: right;\">\n",
       "      <th></th>\n",
       "      <th>num_orders</th>\n",
       "      <th>hour</th>\n",
       "      <th>day</th>\n",
       "      <th>dayofweek</th>\n",
       "      <th>lag_1</th>\n",
       "      <th>lag_2</th>\n",
       "      <th>lag_3</th>\n",
       "      <th>lag_4</th>\n",
       "      <th>lag_5</th>\n",
       "      <th>lag_6</th>\n",
       "      <th>...</th>\n",
       "      <th>lag_160</th>\n",
       "      <th>lag_161</th>\n",
       "      <th>lag_162</th>\n",
       "      <th>lag_163</th>\n",
       "      <th>lag_164</th>\n",
       "      <th>lag_165</th>\n",
       "      <th>lag_166</th>\n",
       "      <th>lag_167</th>\n",
       "      <th>lag_168</th>\n",
       "      <th>rolling_mean</th>\n",
       "    </tr>\n",
       "  </thead>\n",
       "  <tbody>\n",
       "    <tr>\n",
       "      <th>count</th>\n",
       "      <td>4248.000000</td>\n",
       "      <td>4248.000000</td>\n",
       "      <td>4248.000000</td>\n",
       "      <td>4248.000000</td>\n",
       "      <td>4248.000000</td>\n",
       "      <td>4248.000000</td>\n",
       "      <td>4248.000000</td>\n",
       "      <td>4248.000000</td>\n",
       "      <td>4248.000000</td>\n",
       "      <td>4248.000000</td>\n",
       "      <td>...</td>\n",
       "      <td>4248.000000</td>\n",
       "      <td>4248.000000</td>\n",
       "      <td>4248.000000</td>\n",
       "      <td>4248.000000</td>\n",
       "      <td>4248.000000</td>\n",
       "      <td>4248.000000</td>\n",
       "      <td>4248.000000</td>\n",
       "      <td>4248.000000</td>\n",
       "      <td>4248.000000</td>\n",
       "      <td>4248.000000</td>\n",
       "    </tr>\n",
       "    <tr>\n",
       "      <th>mean</th>\n",
       "      <td>85.616996</td>\n",
       "      <td>11.500000</td>\n",
       "      <td>16.305085</td>\n",
       "      <td>3.005650</td>\n",
       "      <td>85.590866</td>\n",
       "      <td>85.568267</td>\n",
       "      <td>85.556262</td>\n",
       "      <td>85.537900</td>\n",
       "      <td>85.517655</td>\n",
       "      <td>85.492232</td>\n",
       "      <td>...</td>\n",
       "      <td>81.859463</td>\n",
       "      <td>81.857815</td>\n",
       "      <td>81.843220</td>\n",
       "      <td>81.816855</td>\n",
       "      <td>81.780838</td>\n",
       "      <td>81.752354</td>\n",
       "      <td>81.731403</td>\n",
       "      <td>81.693503</td>\n",
       "      <td>81.658427</td>\n",
       "      <td>85.543864</td>\n",
       "    </tr>\n",
       "    <tr>\n",
       "      <th>std</th>\n",
       "      <td>45.115366</td>\n",
       "      <td>6.923001</td>\n",
       "      <td>8.694656</td>\n",
       "      <td>1.990315</td>\n",
       "      <td>45.078335</td>\n",
       "      <td>45.033473</td>\n",
       "      <td>45.020688</td>\n",
       "      <td>45.008672</td>\n",
       "      <td>45.005310</td>\n",
       "      <td>44.967156</td>\n",
       "      <td>...</td>\n",
       "      <td>42.070918</td>\n",
       "      <td>42.073400</td>\n",
       "      <td>42.086878</td>\n",
       "      <td>42.099302</td>\n",
       "      <td>42.067027</td>\n",
       "      <td>42.036720</td>\n",
       "      <td>42.019888</td>\n",
       "      <td>41.944229</td>\n",
       "      <td>41.846399</td>\n",
       "      <td>32.769627</td>\n",
       "    </tr>\n",
       "    <tr>\n",
       "      <th>min</th>\n",
       "      <td>0.000000</td>\n",
       "      <td>0.000000</td>\n",
       "      <td>1.000000</td>\n",
       "      <td>0.000000</td>\n",
       "      <td>0.000000</td>\n",
       "      <td>0.000000</td>\n",
       "      <td>0.000000</td>\n",
       "      <td>0.000000</td>\n",
       "      <td>0.000000</td>\n",
       "      <td>0.000000</td>\n",
       "      <td>...</td>\n",
       "      <td>0.000000</td>\n",
       "      <td>0.000000</td>\n",
       "      <td>0.000000</td>\n",
       "      <td>0.000000</td>\n",
       "      <td>0.000000</td>\n",
       "      <td>0.000000</td>\n",
       "      <td>0.000000</td>\n",
       "      <td>0.000000</td>\n",
       "      <td>0.000000</td>\n",
       "      <td>18.500000</td>\n",
       "    </tr>\n",
       "    <tr>\n",
       "      <th>25%</th>\n",
       "      <td>55.750000</td>\n",
       "      <td>5.750000</td>\n",
       "      <td>9.000000</td>\n",
       "      <td>1.000000</td>\n",
       "      <td>55.750000</td>\n",
       "      <td>55.750000</td>\n",
       "      <td>55.750000</td>\n",
       "      <td>55.750000</td>\n",
       "      <td>55.000000</td>\n",
       "      <td>55.000000</td>\n",
       "      <td>...</td>\n",
       "      <td>53.000000</td>\n",
       "      <td>53.000000</td>\n",
       "      <td>53.000000</td>\n",
       "      <td>53.000000</td>\n",
       "      <td>53.000000</td>\n",
       "      <td>53.000000</td>\n",
       "      <td>53.000000</td>\n",
       "      <td>53.000000</td>\n",
       "      <td>53.000000</td>\n",
       "      <td>63.625000</td>\n",
       "    </tr>\n",
       "    <tr>\n",
       "      <th>50%</th>\n",
       "      <td>80.000000</td>\n",
       "      <td>11.500000</td>\n",
       "      <td>16.000000</td>\n",
       "      <td>3.000000</td>\n",
       "      <td>80.000000</td>\n",
       "      <td>80.000000</td>\n",
       "      <td>80.000000</td>\n",
       "      <td>80.000000</td>\n",
       "      <td>80.000000</td>\n",
       "      <td>80.000000</td>\n",
       "      <td>...</td>\n",
       "      <td>77.000000</td>\n",
       "      <td>77.000000</td>\n",
       "      <td>77.000000</td>\n",
       "      <td>77.000000</td>\n",
       "      <td>77.000000</td>\n",
       "      <td>77.000000</td>\n",
       "      <td>77.000000</td>\n",
       "      <td>77.000000</td>\n",
       "      <td>77.000000</td>\n",
       "      <td>80.166667</td>\n",
       "    </tr>\n",
       "    <tr>\n",
       "      <th>75%</th>\n",
       "      <td>109.000000</td>\n",
       "      <td>17.250000</td>\n",
       "      <td>24.000000</td>\n",
       "      <td>5.000000</td>\n",
       "      <td>109.000000</td>\n",
       "      <td>109.000000</td>\n",
       "      <td>109.000000</td>\n",
       "      <td>108.250000</td>\n",
       "      <td>108.000000</td>\n",
       "      <td>108.000000</td>\n",
       "      <td>...</td>\n",
       "      <td>104.000000</td>\n",
       "      <td>104.000000</td>\n",
       "      <td>104.000000</td>\n",
       "      <td>104.000000</td>\n",
       "      <td>104.000000</td>\n",
       "      <td>104.000000</td>\n",
       "      <td>104.000000</td>\n",
       "      <td>104.000000</td>\n",
       "      <td>104.000000</td>\n",
       "      <td>103.208333</td>\n",
       "    </tr>\n",
       "    <tr>\n",
       "      <th>max</th>\n",
       "      <td>462.000000</td>\n",
       "      <td>23.000000</td>\n",
       "      <td>31.000000</td>\n",
       "      <td>6.000000</td>\n",
       "      <td>462.000000</td>\n",
       "      <td>462.000000</td>\n",
       "      <td>462.000000</td>\n",
       "      <td>462.000000</td>\n",
       "      <td>462.000000</td>\n",
       "      <td>462.000000</td>\n",
       "      <td>...</td>\n",
       "      <td>462.000000</td>\n",
       "      <td>462.000000</td>\n",
       "      <td>462.000000</td>\n",
       "      <td>462.000000</td>\n",
       "      <td>462.000000</td>\n",
       "      <td>462.000000</td>\n",
       "      <td>462.000000</td>\n",
       "      <td>462.000000</td>\n",
       "      <td>462.000000</td>\n",
       "      <td>272.333333</td>\n",
       "    </tr>\n",
       "  </tbody>\n",
       "</table>\n",
       "<p>8 rows × 173 columns</p>\n",
       "</div>"
      ],
      "text/plain": [
       "        num_orders         hour          day    dayofweek        lag_1  \\\n",
       "count  4248.000000  4248.000000  4248.000000  4248.000000  4248.000000   \n",
       "mean     85.616996    11.500000    16.305085     3.005650    85.590866   \n",
       "std      45.115366     6.923001     8.694656     1.990315    45.078335   \n",
       "min       0.000000     0.000000     1.000000     0.000000     0.000000   \n",
       "25%      55.750000     5.750000     9.000000     1.000000    55.750000   \n",
       "50%      80.000000    11.500000    16.000000     3.000000    80.000000   \n",
       "75%     109.000000    17.250000    24.000000     5.000000   109.000000   \n",
       "max     462.000000    23.000000    31.000000     6.000000   462.000000   \n",
       "\n",
       "             lag_2        lag_3        lag_4        lag_5        lag_6  ...  \\\n",
       "count  4248.000000  4248.000000  4248.000000  4248.000000  4248.000000  ...   \n",
       "mean     85.568267    85.556262    85.537900    85.517655    85.492232  ...   \n",
       "std      45.033473    45.020688    45.008672    45.005310    44.967156  ...   \n",
       "min       0.000000     0.000000     0.000000     0.000000     0.000000  ...   \n",
       "25%      55.750000    55.750000    55.750000    55.000000    55.000000  ...   \n",
       "50%      80.000000    80.000000    80.000000    80.000000    80.000000  ...   \n",
       "75%     109.000000   109.000000   108.250000   108.000000   108.000000  ...   \n",
       "max     462.000000   462.000000   462.000000   462.000000   462.000000  ...   \n",
       "\n",
       "           lag_160      lag_161      lag_162      lag_163      lag_164  \\\n",
       "count  4248.000000  4248.000000  4248.000000  4248.000000  4248.000000   \n",
       "mean     81.859463    81.857815    81.843220    81.816855    81.780838   \n",
       "std      42.070918    42.073400    42.086878    42.099302    42.067027   \n",
       "min       0.000000     0.000000     0.000000     0.000000     0.000000   \n",
       "25%      53.000000    53.000000    53.000000    53.000000    53.000000   \n",
       "50%      77.000000    77.000000    77.000000    77.000000    77.000000   \n",
       "75%     104.000000   104.000000   104.000000   104.000000   104.000000   \n",
       "max     462.000000   462.000000   462.000000   462.000000   462.000000   \n",
       "\n",
       "           lag_165      lag_166      lag_167      lag_168  rolling_mean  \n",
       "count  4248.000000  4248.000000  4248.000000  4248.000000   4248.000000  \n",
       "mean     81.752354    81.731403    81.693503    81.658427     85.543864  \n",
       "std      42.036720    42.019888    41.944229    41.846399     32.769627  \n",
       "min       0.000000     0.000000     0.000000     0.000000     18.500000  \n",
       "25%      53.000000    53.000000    53.000000    53.000000     63.625000  \n",
       "50%      77.000000    77.000000    77.000000    77.000000     80.166667  \n",
       "75%     104.000000   104.000000   104.000000   104.000000    103.208333  \n",
       "max     462.000000   462.000000   462.000000   462.000000    272.333333  \n",
       "\n",
       "[8 rows x 173 columns]"
      ]
     },
     "execution_count": 19,
     "metadata": {},
     "output_type": "execute_result"
    }
   ],
   "source": [
    "data.describe()"
   ]
  },
  {
   "cell_type": "markdown",
   "metadata": {},
   "source": [
    "### Разделение датасета"
   ]
  },
  {
   "cell_type": "markdown",
   "metadata": {},
   "source": [
    "Выделим фичи и таргеты и разделим на тестовую и обучающую выборку датасет"
   ]
  },
  {
   "cell_type": "code",
   "execution_count": 20,
   "metadata": {},
   "outputs": [],
   "source": [
    "X=data.drop('num_orders',axis=1)\n",
    "Y=data['num_orders']\n",
    "X_train,X_test,Y_train,Y_test=train_test_split(X,Y,shuffle=False,test_size=0.1)"
   ]
  },
  {
   "cell_type": "markdown",
   "metadata": {},
   "source": [
    "### Обучение модели"
   ]
  },
  {
   "cell_type": "code",
   "execution_count": 21,
   "metadata": {},
   "outputs": [],
   "source": [
    "rf=RandomForestRegressor(random_state=42)\n",
    "gbr=GradientBoostingRegressor()\n",
    "liner_reg=LinearRegression()\n",
    "\n",
    "tscv = TimeSeriesSplit(n_splits=4)"
   ]
  },
  {
   "cell_type": "markdown",
   "metadata": {},
   "source": [
    "Проверю модели из коробки."
   ]
  },
  {
   "cell_type": "code",
   "execution_count": 36,
   "metadata": {},
   "outputs": [
    {
     "name": "stdout",
     "output_type": "stream",
     "text": [
      "Ошибка при обучении модели решающего дерева =8.038384387915189\n",
      "Ошибка при обучении модели Градиентного бустинга = 16.931067420870747\n",
      "CPU times: user 38.8 s, sys: 132 ms, total: 38.9 s\n",
      "Wall time: 38.9 s\n"
     ]
    }
   ],
   "source": [
    "%%time\n",
    "rf_pred1=RandomForestRegressor(random_state=42).fit(X_train,Y_train).predict(X_train)\n",
    "gbr_pred1=GradientBoostingRegressor().fit(X_train,Y_train).predict(X_train)\n",
    "\n",
    "print(f'Ошибка при обучении модели решающего дерева ={mean_squared_error(Y_train,rf_pred1)**0.5}',\n",
    "      f'Ошибка при обучении модели Градиентного бустинга = {mean_squared_error(Y_train,gbr_pred1)**0.5}',sep='\\n')"
   ]
  },
  {
   "cell_type": "code",
   "execution_count": 22,
   "metadata": {},
   "outputs": [
    {
     "data": {
      "text/plain": [
       "dict_keys(['bootstrap', 'ccp_alpha', 'criterion', 'max_depth', 'max_features', 'max_leaf_nodes', 'max_samples', 'min_impurity_decrease', 'min_impurity_split', 'min_samples_leaf', 'min_samples_split', 'min_weight_fraction_leaf', 'n_estimators', 'n_jobs', 'oob_score', 'random_state', 'verbose', 'warm_start'])"
      ]
     },
     "execution_count": 22,
     "metadata": {},
     "output_type": "execute_result"
    }
   ],
   "source": [
    "rf.get_params().keys()"
   ]
  },
  {
   "cell_type": "code",
   "execution_count": 23,
   "metadata": {},
   "outputs": [],
   "source": [
    "def my_custom_loss_func(y_true, y_pred):\n",
    "    diff = mean_squared_error(y_true, y_pred)\n",
    "    return diff**0.5\n",
    "score = make_scorer(my_custom_loss_func, greater_is_better=False)"
   ]
  },
  {
   "cell_type": "markdown",
   "metadata": {},
   "source": [
    "#### GradientBoostingRegressor"
   ]
  },
  {
   "cell_type": "code",
   "execution_count": 28,
   "metadata": {},
   "outputs": [
    {
     "name": "stdout",
     "output_type": "stream",
     "text": [
      "CPU times: user 84 µs, sys: 1e+03 ns, total: 85 µs\n",
      "Wall time: 67 µs\n"
     ]
    }
   ],
   "source": [
    "%%time\n",
    "param_grid2 = {'n_estimators': range(500, 650, 50),\n",
    "              'max_depth':np.arange(9, 13, 1),\n",
    "               'learning_rate':[0.01,0.1]}\n",
    "grd_gbr = RandomizedSearchCV(gbr,cv=tscv,\n",
    "                             param_distributions=param_grid2, n_jobs=-1,\n",
    "                             scoring='neg_root_mean_squared_error',verbose=3)\n"
   ]
  },
  {
   "cell_type": "code",
   "execution_count": 29,
   "metadata": {},
   "outputs": [
    {
     "name": "stdout",
     "output_type": "stream",
     "text": [
      "Fitting 4 folds for each of 10 candidates, totalling 40 fits\n",
      "[CV 1/4] END learning_rate=0.1, max_depth=10, n_estimators=500; total time=  32.8s\n",
      "[CV 2/4] END learning_rate=0.1, max_depth=10, n_estimators=500; total time= 1.0min\n",
      "[CV 3/4] END learning_rate=0.1, max_depth=10, n_estimators=500; total time= 1.6min\n",
      "[CV 4/4] END learning_rate=0.1, max_depth=10, n_estimators=500; total time= 2.1min\n",
      "[CV 1/4] END learning_rate=0.01, max_depth=9, n_estimators=500; total time=  31.1s\n",
      "[CV 2/4] END learning_rate=0.01, max_depth=9, n_estimators=500; total time=  59.9s\n",
      "[CV 3/4] END learning_rate=0.01, max_depth=9, n_estimators=500; total time= 1.5min\n",
      "[CV 4/4] END learning_rate=0.01, max_depth=9, n_estimators=500; total time= 2.0min\n",
      "[CV 1/4] END learning_rate=0.01, max_depth=10, n_estimators=500; total time=  32.0s\n",
      "[CV 2/4] END learning_rate=0.01, max_depth=10, n_estimators=500; total time= 1.1min\n",
      "[CV 3/4] END learning_rate=0.01, max_depth=10, n_estimators=500; total time= 1.7min\n",
      "[CV 4/4] END learning_rate=0.01, max_depth=10, n_estimators=500; total time= 2.2min\n",
      "[CV 1/4] END learning_rate=0.01, max_depth=12, n_estimators=600; total time=  42.9s\n",
      "[CV 2/4] END learning_rate=0.01, max_depth=12, n_estimators=600; total time= 1.5min\n",
      "[CV 3/4] END learning_rate=0.01, max_depth=12, n_estimators=600; total time= 2.3min\n",
      "[CV 4/4] END learning_rate=0.01, max_depth=12, n_estimators=600; total time= 3.1min\n",
      "[CV 1/4] END learning_rate=0.1, max_depth=12, n_estimators=600; total time=  44.2s\n",
      "[CV 2/4] END learning_rate=0.1, max_depth=12, n_estimators=600; total time= 1.5min\n",
      "[CV 3/4] END learning_rate=0.1, max_depth=12, n_estimators=600; total time= 2.2min\n",
      "[CV 4/4] END learning_rate=0.1, max_depth=12, n_estimators=600; total time= 2.9min\n",
      "[CV 1/4] END learning_rate=0.01, max_depth=11, n_estimators=550; total time=  36.8s\n",
      "[CV 2/4] END learning_rate=0.01, max_depth=11, n_estimators=550; total time= 1.3min\n",
      "[CV 3/4] END learning_rate=0.01, max_depth=11, n_estimators=550; total time= 2.0min\n",
      "[CV 4/4] END learning_rate=0.01, max_depth=11, n_estimators=550; total time= 2.7min\n",
      "[CV 1/4] END learning_rate=0.01, max_depth=12, n_estimators=550; total time=  39.3s\n",
      "[CV 2/4] END learning_rate=0.01, max_depth=12, n_estimators=550; total time= 1.4min\n",
      "[CV 3/4] END learning_rate=0.01, max_depth=12, n_estimators=550; total time= 2.1min\n",
      "[CV 4/4] END learning_rate=0.01, max_depth=12, n_estimators=550; total time= 2.9min\n",
      "[CV 1/4] END learning_rate=0.1, max_depth=11, n_estimators=550; total time=  37.9s\n",
      "[CV 2/4] END learning_rate=0.1, max_depth=11, n_estimators=550; total time= 1.2min\n",
      "[CV 3/4] END learning_rate=0.1, max_depth=11, n_estimators=550; total time= 1.9min\n",
      "[CV 4/4] END learning_rate=0.1, max_depth=11, n_estimators=550; total time= 2.5min\n",
      "[CV 1/4] END learning_rate=0.01, max_depth=12, n_estimators=500; total time=  35.1s\n",
      "[CV 2/4] END learning_rate=0.01, max_depth=12, n_estimators=500; total time= 1.2min\n",
      "[CV 3/4] END learning_rate=0.01, max_depth=12, n_estimators=500; total time= 1.9min\n",
      "[CV 4/4] END learning_rate=0.01, max_depth=12, n_estimators=500; total time= 2.6min\n",
      "[CV 1/4] END learning_rate=0.1, max_depth=10, n_estimators=600; total time=  38.0s\n",
      "[CV 2/4] END learning_rate=0.1, max_depth=10, n_estimators=600; total time= 1.2min\n",
      "[CV 3/4] END learning_rate=0.1, max_depth=10, n_estimators=600; total time= 1.9min\n",
      "[CV 4/4] END learning_rate=0.1, max_depth=10, n_estimators=600; total time= 2.5min\n",
      "-24.635534833940007 {'n_estimators': 500, 'max_depth': 9, 'learning_rate': 0.01}\n",
      "CPU times: user 1h 5min 19s, sys: 11 s, total: 1h 5min 30s\n",
      "Wall time: 1h 5min 37s\n"
     ]
    }
   ],
   "source": [
    "'''-24.635534833940007 {'n_estimators': 500, 'max_depth': 9, 'learning_rate': 0.01}\n",
    "CPU times: user 1h 5min 19s, sys: 11 s, total: 1h 5min 30s\n",
    "Wall time: 1h 5min 37s'''\n",
    "%%time\n",
    "grd_gbr.fit(X_train,Y_train)\n",
    "print(grd_gbr.best_score_,grd_gbr.best_params_)"
   ]
  },
  {
   "cell_type": "markdown",
   "metadata": {},
   "source": [
    "ммм RandomSearch 1 час 5 минут подбирал параметры, и те хуже линейной регрессии)"
   ]
  },
  {
   "cell_type": "markdown",
   "metadata": {},
   "source": [
    "Почему отрицательное значения у квадратного корня..."
   ]
  },
  {
   "cell_type": "markdown",
   "metadata": {},
   "source": [
    "#### RandomForestRegressor"
   ]
  },
  {
   "cell_type": "code",
   "execution_count": 42,
   "metadata": {},
   "outputs": [
    {
     "name": "stdout",
     "output_type": "stream",
     "text": [
      "CPU times: user 444 µs, sys: 0 ns, total: 444 µs\n",
      "Wall time: 348 µs\n"
     ]
    }
   ],
   "source": [
    "%%time\n",
    "param_grid = {'n_estimators': range(500, 650, 50),\n",
    "              'max_depth':np.arange(1, 12, 2),\n",
    "              'min_samples_split':range(2, 4),\n",
    "              'min_samples_leaf':range(1, 2)\n",
    "             }\n",
    "param_grid_2 = {'n_estimators': range(90, 115, 5),\n",
    "              'max_depth':np.arange(3, 8, 1),\n",
    "              'min_samples_split':range(2, 4),\n",
    "              'min_samples_leaf':range(1, 2)\n",
    "             }\n",
    "\n",
    "grd_rf = RandomizedSearchCV(rf,cv=tscv, param_distributions=param_grid_2, n_jobs=-1,scoring='neg_root_mean_squared_error',verbose=100)\n"
   ]
  },
  {
   "cell_type": "code",
   "execution_count": 40,
   "metadata": {},
   "outputs": [
    {
     "data": {
      "text/plain": [
       "\"-23.022207856287437 {'n_estimators': 550, 'min_samples_split': 3, 'min_samples_leaf': 1, 'max_depth': 11}\\nCPU times: user 29min 21s, sys: 4.64 s, total: 29min 26s\\nWall time: 29min 28s\""
      ]
     },
     "execution_count": 40,
     "metadata": {},
     "output_type": "execute_result"
    }
   ],
   "source": [
    "\"\"\"-23.022207856287437 {'n_estimators': 550, 'min_samples_split': 3, 'min_samples_leaf': 1, 'max_depth': 11}\n",
    "CPU times: user 29min 21s, sys: 4.64 s, total: 29min 26s\n",
    "Wall time: 29min 28s\"\"\"\n"
   ]
  },
  {
   "cell_type": "code",
   "execution_count": 45,
   "metadata": {},
   "outputs": [
    {
     "data": {
      "text/plain": [
       "\"-23.146325251176595 {'n_estimators': 110, 'min_samples_split': 2, 'min_samples_leaf': 1, 'max_depth': 7}\\nCPU times: user 4min 21s, sys: 526 ms, total: 4min 21s\\nWall time: 4min 25s\""
      ]
     },
     "execution_count": 45,
     "metadata": {},
     "output_type": "execute_result"
    }
   ],
   "source": [
    "'''-23.146325251176595 {'n_estimators': 110, 'min_samples_split': 2, 'min_samples_leaf': 1, 'max_depth': 7}\n",
    "CPU times: user 4min 21s, sys: 526 ms, total: 4min 21s\n",
    "Wall time: 4min 25s'''"
   ]
  },
  {
   "cell_type": "code",
   "execution_count": 43,
   "metadata": {},
   "outputs": [
    {
     "name": "stdout",
     "output_type": "stream",
     "text": [
      "Fitting 4 folds for each of 10 candidates, totalling 40 fits\n",
      "[CV 1/4; 1/10] START max_depth=4, min_samples_leaf=1, min_samples_split=2, n_estimators=105\n",
      "[CV 1/4; 1/10] END max_depth=4, min_samples_leaf=1, min_samples_split=2, n_estimators=105; total time=   2.0s\n",
      "[CV 2/4; 1/10] START max_depth=4, min_samples_leaf=1, min_samples_split=2, n_estimators=105\n",
      "[CV 2/4; 1/10] END max_depth=4, min_samples_leaf=1, min_samples_split=2, n_estimators=105; total time=   3.8s\n",
      "[CV 3/4; 1/10] START max_depth=4, min_samples_leaf=1, min_samples_split=2, n_estimators=105\n",
      "[CV 3/4; 1/10] END max_depth=4, min_samples_leaf=1, min_samples_split=2, n_estimators=105; total time=   5.5s\n",
      "[CV 4/4; 1/10] START max_depth=4, min_samples_leaf=1, min_samples_split=2, n_estimators=105\n",
      "[CV 4/4; 1/10] END max_depth=4, min_samples_leaf=1, min_samples_split=2, n_estimators=105; total time=   7.3s\n",
      "[CV 1/4; 2/10] START max_depth=5, min_samples_leaf=1, min_samples_split=3, n_estimators=110\n",
      "[CV 1/4; 2/10] END max_depth=5, min_samples_leaf=1, min_samples_split=3, n_estimators=110; total time=   2.6s\n",
      "[CV 2/4; 2/10] START max_depth=5, min_samples_leaf=1, min_samples_split=3, n_estimators=110\n",
      "[CV 2/4; 2/10] END max_depth=5, min_samples_leaf=1, min_samples_split=3, n_estimators=110; total time=   4.9s\n",
      "[CV 3/4; 2/10] START max_depth=5, min_samples_leaf=1, min_samples_split=3, n_estimators=110\n",
      "[CV 3/4; 2/10] END max_depth=5, min_samples_leaf=1, min_samples_split=3, n_estimators=110; total time=   7.2s\n",
      "[CV 4/4; 2/10] START max_depth=5, min_samples_leaf=1, min_samples_split=3, n_estimators=110\n",
      "[CV 4/4; 2/10] END max_depth=5, min_samples_leaf=1, min_samples_split=3, n_estimators=110; total time=   9.8s\n",
      "[CV 1/4; 3/10] START max_depth=6, min_samples_leaf=1, min_samples_split=2, n_estimators=105\n",
      "[CV 1/4; 3/10] END max_depth=6, min_samples_leaf=1, min_samples_split=2, n_estimators=105; total time=   2.9s\n",
      "[CV 2/4; 3/10] START max_depth=6, min_samples_leaf=1, min_samples_split=2, n_estimators=105\n",
      "[CV 2/4; 3/10] END max_depth=6, min_samples_leaf=1, min_samples_split=2, n_estimators=105; total time=   5.7s\n",
      "[CV 3/4; 3/10] START max_depth=6, min_samples_leaf=1, min_samples_split=2, n_estimators=105\n",
      "[CV 3/4; 3/10] END max_depth=6, min_samples_leaf=1, min_samples_split=2, n_estimators=105; total time=   8.4s\n",
      "[CV 4/4; 3/10] START max_depth=6, min_samples_leaf=1, min_samples_split=2, n_estimators=105\n",
      "[CV 4/4; 3/10] END max_depth=6, min_samples_leaf=1, min_samples_split=2, n_estimators=105; total time=  11.2s\n",
      "[CV 1/4; 4/10] START max_depth=6, min_samples_leaf=1, min_samples_split=2, n_estimators=110\n",
      "[CV 1/4; 4/10] END max_depth=6, min_samples_leaf=1, min_samples_split=2, n_estimators=110; total time=   3.0s\n",
      "[CV 2/4; 4/10] START max_depth=6, min_samples_leaf=1, min_samples_split=2, n_estimators=110\n",
      "[CV 2/4; 4/10] END max_depth=6, min_samples_leaf=1, min_samples_split=2, n_estimators=110; total time=   5.9s\n",
      "[CV 3/4; 4/10] START max_depth=6, min_samples_leaf=1, min_samples_split=2, n_estimators=110\n",
      "[CV 3/4; 4/10] END max_depth=6, min_samples_leaf=1, min_samples_split=2, n_estimators=110; total time=   8.7s\n",
      "[CV 4/4; 4/10] START max_depth=6, min_samples_leaf=1, min_samples_split=2, n_estimators=110\n",
      "[CV 4/4; 4/10] END max_depth=6, min_samples_leaf=1, min_samples_split=2, n_estimators=110; total time=  11.9s\n",
      "[CV 1/4; 5/10] START max_depth=6, min_samples_leaf=1, min_samples_split=3, n_estimators=105\n",
      "[CV 1/4; 5/10] END max_depth=6, min_samples_leaf=1, min_samples_split=3, n_estimators=105; total time=   2.9s\n",
      "[CV 2/4; 5/10] START max_depth=6, min_samples_leaf=1, min_samples_split=3, n_estimators=105\n",
      "[CV 2/4; 5/10] END max_depth=6, min_samples_leaf=1, min_samples_split=3, n_estimators=105; total time=   5.7s\n",
      "[CV 3/4; 5/10] START max_depth=6, min_samples_leaf=1, min_samples_split=3, n_estimators=105\n",
      "[CV 3/4; 5/10] END max_depth=6, min_samples_leaf=1, min_samples_split=3, n_estimators=105; total time=   8.3s\n",
      "[CV 4/4; 5/10] START max_depth=6, min_samples_leaf=1, min_samples_split=3, n_estimators=105\n",
      "[CV 4/4; 5/10] END max_depth=6, min_samples_leaf=1, min_samples_split=3, n_estimators=105; total time=  11.1s\n",
      "[CV 1/4; 6/10] START max_depth=5, min_samples_leaf=1, min_samples_split=2, n_estimators=110\n",
      "[CV 1/4; 6/10] END max_depth=5, min_samples_leaf=1, min_samples_split=2, n_estimators=110; total time=   3.4s\n",
      "[CV 2/4; 6/10] START max_depth=5, min_samples_leaf=1, min_samples_split=2, n_estimators=110\n",
      "[CV 2/4; 6/10] END max_depth=5, min_samples_leaf=1, min_samples_split=2, n_estimators=110; total time=   5.0s\n",
      "[CV 3/4; 6/10] START max_depth=5, min_samples_leaf=1, min_samples_split=2, n_estimators=110\n",
      "[CV 3/4; 6/10] END max_depth=5, min_samples_leaf=1, min_samples_split=2, n_estimators=110; total time=   7.2s\n",
      "[CV 4/4; 6/10] START max_depth=5, min_samples_leaf=1, min_samples_split=2, n_estimators=110\n",
      "[CV 4/4; 6/10] END max_depth=5, min_samples_leaf=1, min_samples_split=2, n_estimators=110; total time=   9.6s\n",
      "[CV 1/4; 7/10] START max_depth=7, min_samples_leaf=1, min_samples_split=2, n_estimators=105\n",
      "[CV 1/4; 7/10] END max_depth=7, min_samples_leaf=1, min_samples_split=2, n_estimators=105; total time=   3.3s\n",
      "[CV 2/4; 7/10] START max_depth=7, min_samples_leaf=1, min_samples_split=2, n_estimators=105\n",
      "[CV 2/4; 7/10] END max_depth=7, min_samples_leaf=1, min_samples_split=2, n_estimators=105; total time=   6.4s\n",
      "[CV 3/4; 7/10] START max_depth=7, min_samples_leaf=1, min_samples_split=2, n_estimators=105\n",
      "[CV 3/4; 7/10] END max_depth=7, min_samples_leaf=1, min_samples_split=2, n_estimators=105; total time=  10.6s\n",
      "[CV 4/4; 7/10] START max_depth=7, min_samples_leaf=1, min_samples_split=2, n_estimators=105\n",
      "[CV 4/4; 7/10] END max_depth=7, min_samples_leaf=1, min_samples_split=2, n_estimators=105; total time=  14.3s\n",
      "[CV 1/4; 8/10] START max_depth=3, min_samples_leaf=1, min_samples_split=3, n_estimators=100\n",
      "[CV 1/4; 8/10] END max_depth=3, min_samples_leaf=1, min_samples_split=3, n_estimators=100; total time=   1.5s\n",
      "[CV 2/4; 8/10] START max_depth=3, min_samples_leaf=1, min_samples_split=3, n_estimators=100\n",
      "[CV 2/4; 8/10] END max_depth=3, min_samples_leaf=1, min_samples_split=3, n_estimators=100; total time=   2.7s\n",
      "[CV 3/4; 8/10] START max_depth=3, min_samples_leaf=1, min_samples_split=3, n_estimators=100\n",
      "[CV 3/4; 8/10] END max_depth=3, min_samples_leaf=1, min_samples_split=3, n_estimators=100; total time=   3.9s\n",
      "[CV 4/4; 8/10] START max_depth=3, min_samples_leaf=1, min_samples_split=3, n_estimators=100\n",
      "[CV 4/4; 8/10] END max_depth=3, min_samples_leaf=1, min_samples_split=3, n_estimators=100; total time=   5.2s\n",
      "[CV 1/4; 9/10] START max_depth=7, min_samples_leaf=1, min_samples_split=2, n_estimators=110\n",
      "[CV 1/4; 9/10] END max_depth=7, min_samples_leaf=1, min_samples_split=2, n_estimators=110; total time=   3.5s\n",
      "[CV 2/4; 9/10] START max_depth=7, min_samples_leaf=1, min_samples_split=2, n_estimators=110\n",
      "[CV 2/4; 9/10] END max_depth=7, min_samples_leaf=1, min_samples_split=2, n_estimators=110; total time=   6.6s\n",
      "[CV 3/4; 9/10] START max_depth=7, min_samples_leaf=1, min_samples_split=2, n_estimators=110\n",
      "[CV 3/4; 9/10] END max_depth=7, min_samples_leaf=1, min_samples_split=2, n_estimators=110; total time=  11.0s\n",
      "[CV 4/4; 9/10] START max_depth=7, min_samples_leaf=1, min_samples_split=2, n_estimators=110\n",
      "[CV 4/4; 9/10] END max_depth=7, min_samples_leaf=1, min_samples_split=2, n_estimators=110; total time=  13.9s\n",
      "[CV 1/4; 10/10] START max_depth=3, min_samples_leaf=1, min_samples_split=3, n_estimators=90\n",
      "[CV 1/4; 10/10] END max_depth=3, min_samples_leaf=1, min_samples_split=3, n_estimators=90; total time=   1.3s\n",
      "[CV 2/4; 10/10] START max_depth=3, min_samples_leaf=1, min_samples_split=3, n_estimators=90\n",
      "[CV 2/4; 10/10] END max_depth=3, min_samples_leaf=1, min_samples_split=3, n_estimators=90; total time=   2.4s\n",
      "[CV 3/4; 10/10] START max_depth=3, min_samples_leaf=1, min_samples_split=3, n_estimators=90\n",
      "[CV 3/4; 10/10] END max_depth=3, min_samples_leaf=1, min_samples_split=3, n_estimators=90; total time=   3.4s\n",
      "[CV 4/4; 10/10] START max_depth=3, min_samples_leaf=1, min_samples_split=3, n_estimators=90\n",
      "[CV 4/4; 10/10] END max_depth=3, min_samples_leaf=1, min_samples_split=3, n_estimators=90; total time=   4.6s\n",
      "-23.146325251176595 {'n_estimators': 110, 'min_samples_split': 2, 'min_samples_leaf': 1, 'max_depth': 7}\n",
      "CPU times: user 4min 21s, sys: 526 ms, total: 4min 21s\n",
      "Wall time: 4min 25s\n"
     ]
    }
   ],
   "source": [
    "%%time\n",
    "grd_rf.fit(X_train,Y_train)\n",
    "print(grd_rf.best_score_,grd_rf.best_params_)"
   ]
  },
  {
   "cell_type": "markdown",
   "metadata": {},
   "source": [
    "#### Линейная регрессия"
   ]
  },
  {
   "cell_type": "code",
   "execution_count": 30,
   "metadata": {},
   "outputs": [
    {
     "data": {
      "text/plain": [
       "LinearRegression()"
      ]
     },
     "execution_count": 30,
     "metadata": {},
     "output_type": "execute_result"
    }
   ],
   "source": [
    "liner_reg.fit(X_train,Y_train)"
   ]
  },
  {
   "cell_type": "code",
   "execution_count": 35,
   "metadata": {},
   "outputs": [
    {
     "name": "stdout",
     "output_type": "stream",
     "text": [
      "CPU times: user 112 ms, sys: 99.9 ms, total: 212 ms\n",
      "Wall time: 188 ms\n"
     ]
    },
    {
     "data": {
      "text/plain": [
       "20.471727165334432"
      ]
     },
     "execution_count": 35,
     "metadata": {},
     "output_type": "execute_result"
    }
   ],
   "source": [
    "%%time\n",
    "mean_squared_error(Y_train,liner_reg.fit(X_train,Y_train).predict(X_train))**0.5"
   ]
  },
  {
   "cell_type": "code",
   "execution_count": null,
   "metadata": {},
   "outputs": [],
   "source": []
  },
  {
   "cell_type": "markdown",
   "metadata": {},
   "source": [
    "### Вывод"
   ]
  },
  {
   "cell_type": "markdown",
   "metadata": {},
   "source": [
    "По итогу обучения моделей, было созданы новые признаки час, день, день недели, отстающие значения lag (168), и скользящее среднее. \n",
    "Были обучены три модели : RandomForestRegressor, GradientBoostingRegressor, LinerRegressor. К первым двум был выполнен подбор гипперпараметров.\n",
    "По итогу получен следующий результат по RMSE:\n",
    "RandomForestRegressor : 23.02\n",
    "GradientBoostingRegressor : 24.63\n",
    "LinerRegressor : 20.47\n",
    "Линейная регрессия оказалась наилучшей моделью\n",
    "Как-то я неудачно посчитал гипперпараметры, что модели из коробки показали результат лучше(\n",
    "Ошибка при обучении модели решающего дерева =8.038384387915189\n",
    "Ошибка при обучении модели Градиентного бустинга = 16.931067420870747)"
   ]
  },
  {
   "cell_type": "markdown",
   "metadata": {},
   "source": [
    "## Тестирование"
   ]
  },
  {
   "cell_type": "code",
   "execution_count": 32,
   "metadata": {},
   "outputs": [],
   "source": [
    "rf_pred=grd_rf.best_estimator_.fit(X_train,Y_train).predict(X_test)\n",
    "gbr_pred=grd_gbr.best_estimator_.fit(X_train,Y_train).predict(X_test)\n",
    "lin_pred=liner_reg.predict(X_test)"
   ]
  },
  {
   "cell_type": "code",
   "execution_count": 33,
   "metadata": {},
   "outputs": [
    {
     "name": "stdout",
     "output_type": "stream",
     "text": [
      "Ошибка модели решающего дерева =38.97065741425791\n",
      "Ошибка модели Градиентного бустинга = 40.70050959537883\n",
      "Ошибка модели Линейной регрессии = 34.21612393982236\n"
     ]
    }
   ],
   "source": [
    "print(f'Ошибка модели решающего дерева ={mean_squared_error(Y_test,rf_pred)**0.5}',\n",
    "      f'Ошибка модели Градиентного бустинга = {mean_squared_error(Y_test,gbr_pred)**0.5}',\n",
    "     f'Ошибка модели Линейной регрессии = {mean_squared_error(Y_test,lin_pred)**0.5}',sep='\\n')"
   ]
  },
  {
   "cell_type": "code",
   "execution_count": 46,
   "metadata": {},
   "outputs": [
    {
     "name": "stdout",
     "output_type": "stream",
     "text": [
      "Ошибка модели решающего дерева =38.927984042935734\n",
      "Ошибка модели Градиентного бустинга = 38.11955553577225\n"
     ]
    }
   ],
   "source": [
    "rf_stock_pred=RandomForestRegressor(random_state=42).fit(X_train,Y_train).predict(X_test)\n",
    "gbr_stock_pred=GradientBoostingRegressor().fit(X_train,Y_train).predict(X_test)\n",
    "print(f'Ошибка модели решающего дерева ={mean_squared_error(Y_test,rf_stock_pred)**0.5}',\n",
    "      f'Ошибка модели Градиентного бустинга = {mean_squared_error(Y_test,gbr_stock_pred)**0.5}',sep='\\n')"
   ]
  },
  {
   "cell_type": "markdown",
   "metadata": {},
   "source": [
    "### Вывод:"
   ]
  },
  {
   "cell_type": "markdown",
   "metadata": {},
   "source": [
    "По итогу тестирования имеем наименьшую ошибку у Линейной регрессии RMSE=34.2, остальные модели получились менее эффективными.\n",
    "Ошибка модели Градиентного бустинга = 40.7\n",
    "Ошибка модели Линейной регрессии = 34.21"
   ]
  },
  {
   "cell_type": "markdown",
   "metadata": {},
   "source": [
    "## Вывод"
   ]
  },
  {
   "cell_type": "markdown",
   "metadata": {},
   "source": [
    "По итогу проекта, был проанализирован временной ряд заказов в такси за год. Выборка была разбита на тестовую и учебну без перемешивания. После разбития были обучены 3 модели: Решающий лес, Градиентный бустинг, линейная регресиия. К первым двум были подобраны гипперпараметры. По итогу обучения и тестирования было решено, что наилучшая модель для решения данной задачи - Линейная реграссия, с ошибкой RMSE на тесте 34.21"
   ]
  }
 ],
 "metadata": {
  "ExecuteTimeLog": [
   {
    "duration": 406,
    "start_time": "2023-02-13T15:38:12.056Z"
   },
   {
    "duration": 262,
    "start_time": "2023-02-13T15:39:26.896Z"
   },
   {
    "duration": 15,
    "start_time": "2023-02-13T15:39:32.258Z"
   },
   {
    "duration": 92,
    "start_time": "2023-02-13T15:39:49.351Z"
   },
   {
    "duration": 14,
    "start_time": "2023-02-13T15:48:36.816Z"
   },
   {
    "duration": 10,
    "start_time": "2023-02-13T15:48:54.151Z"
   },
   {
    "duration": 12,
    "start_time": "2023-02-13T15:49:05.565Z"
   },
   {
    "duration": 10,
    "start_time": "2023-02-13T15:49:28.668Z"
   },
   {
    "duration": 12,
    "start_time": "2023-02-13T15:49:52.221Z"
   },
   {
    "duration": 15,
    "start_time": "2023-02-13T15:50:31.690Z"
   },
   {
    "duration": 57,
    "start_time": "2023-02-13T15:51:17.656Z"
   },
   {
    "duration": 13,
    "start_time": "2023-02-13T15:51:18.289Z"
   },
   {
    "duration": 15,
    "start_time": "2023-02-13T15:51:23.780Z"
   },
   {
    "duration": 14,
    "start_time": "2023-02-13T15:51:36.527Z"
   },
   {
    "duration": 12,
    "start_time": "2023-02-13T15:51:52.640Z"
   },
   {
    "duration": 14,
    "start_time": "2023-02-13T15:52:12.318Z"
   },
   {
    "duration": 12,
    "start_time": "2023-02-13T15:53:20.256Z"
   },
   {
    "duration": 6,
    "start_time": "2023-02-13T15:53:24.447Z"
   },
   {
    "duration": 17,
    "start_time": "2023-02-13T15:53:30.852Z"
   },
   {
    "duration": 10,
    "start_time": "2023-02-13T15:53:40.440Z"
   },
   {
    "duration": 21,
    "start_time": "2023-02-13T15:54:05.090Z"
   },
   {
    "duration": 14,
    "start_time": "2023-02-13T15:54:19.069Z"
   },
   {
    "duration": 11,
    "start_time": "2023-02-13T15:54:24.309Z"
   },
   {
    "duration": 9,
    "start_time": "2023-02-13T15:55:04.746Z"
   },
   {
    "duration": 3,
    "start_time": "2023-02-13T16:22:01.841Z"
   },
   {
    "duration": 68,
    "start_time": "2023-02-13T16:22:01.847Z"
   },
   {
    "duration": 10,
    "start_time": "2023-02-13T16:22:01.918Z"
   },
   {
    "duration": 32,
    "start_time": "2023-02-13T16:22:01.930Z"
   },
   {
    "duration": 51,
    "start_time": "2023-02-13T16:22:01.964Z"
   },
   {
    "duration": 26,
    "start_time": "2023-02-13T16:22:02.017Z"
   },
   {
    "duration": 767,
    "start_time": "2023-02-13T16:22:55.605Z"
   },
   {
    "duration": 46,
    "start_time": "2023-02-13T16:23:46.735Z"
   },
   {
    "duration": 56,
    "start_time": "2023-02-13T16:23:49.651Z"
   },
   {
    "duration": 11,
    "start_time": "2023-02-13T16:23:50.212Z"
   },
   {
    "duration": 7,
    "start_time": "2023-02-13T16:23:52.933Z"
   },
   {
    "duration": 22,
    "start_time": "2023-02-13T16:23:55.348Z"
   },
   {
    "duration": 46,
    "start_time": "2023-02-13T16:24:00.410Z"
   },
   {
    "duration": 18,
    "start_time": "2023-02-13T16:24:00.791Z"
   },
   {
    "duration": 9,
    "start_time": "2023-02-13T16:24:01.194Z"
   },
   {
    "duration": 12,
    "start_time": "2023-02-13T16:24:02.631Z"
   },
   {
    "duration": 7,
    "start_time": "2023-02-13T16:24:05.238Z"
   },
   {
    "duration": 5,
    "start_time": "2023-02-13T16:27:10.439Z"
   },
   {
    "duration": 12,
    "start_time": "2023-02-13T16:31:26.635Z"
   },
   {
    "duration": 225,
    "start_time": "2023-02-13T16:31:31.926Z"
   },
   {
    "duration": 272,
    "start_time": "2023-02-13T16:31:42.213Z"
   },
   {
    "duration": 286,
    "start_time": "2023-02-13T16:33:53.094Z"
   },
   {
    "duration": 329,
    "start_time": "2023-02-13T16:33:58.537Z"
   },
   {
    "duration": 312,
    "start_time": "2023-02-13T16:34:16.516Z"
   },
   {
    "duration": 323,
    "start_time": "2023-02-13T16:35:17.108Z"
   },
   {
    "duration": 307,
    "start_time": "2023-02-13T16:35:24.592Z"
   },
   {
    "duration": 12,
    "start_time": "2023-02-13T16:36:43.455Z"
   },
   {
    "duration": 2,
    "start_time": "2023-02-13T16:36:58.486Z"
   },
   {
    "duration": 454,
    "start_time": "2023-02-13T16:37:02.494Z"
   },
   {
    "duration": 727,
    "start_time": "2023-02-13T16:37:07.617Z"
   },
   {
    "duration": 882,
    "start_time": "2023-02-13T16:37:25.413Z"
   },
   {
    "duration": 516,
    "start_time": "2023-02-13T16:38:03.025Z"
   },
   {
    "duration": 420,
    "start_time": "2023-02-13T16:38:12.520Z"
   },
   {
    "duration": 428,
    "start_time": "2023-02-13T16:38:41.687Z"
   },
   {
    "duration": 497,
    "start_time": "2023-02-13T16:38:47.876Z"
   },
   {
    "duration": 404,
    "start_time": "2023-02-13T16:38:59.280Z"
   },
   {
    "duration": 264,
    "start_time": "2023-02-13T16:45:40.814Z"
   },
   {
    "duration": 269,
    "start_time": "2023-02-13T16:45:55.124Z"
   },
   {
    "duration": 290,
    "start_time": "2023-02-13T16:46:06.280Z"
   },
   {
    "duration": 363,
    "start_time": "2023-02-13T16:46:14.622Z"
   },
   {
    "duration": 1424,
    "start_time": "2023-02-13T16:49:21.300Z"
   },
   {
    "duration": 331,
    "start_time": "2023-02-13T16:49:43.714Z"
   },
   {
    "duration": 332,
    "start_time": "2023-02-13T16:50:06.933Z"
   },
   {
    "duration": 312,
    "start_time": "2023-02-13T16:50:46.599Z"
   },
   {
    "duration": 280,
    "start_time": "2023-02-13T16:51:23.647Z"
   },
   {
    "duration": 391,
    "start_time": "2023-02-13T16:51:31.190Z"
   },
   {
    "duration": 315,
    "start_time": "2023-02-13T16:56:39.088Z"
   },
   {
    "duration": 15,
    "start_time": "2023-02-13T16:58:21.640Z"
   },
   {
    "duration": 302,
    "start_time": "2023-02-13T16:59:08.729Z"
   },
   {
    "duration": 256,
    "start_time": "2023-02-13T16:59:47.339Z"
   },
   {
    "duration": 479,
    "start_time": "2023-02-13T17:03:25.937Z"
   },
   {
    "duration": 414,
    "start_time": "2023-02-13T17:05:16.506Z"
   },
   {
    "duration": 553,
    "start_time": "2023-02-13T17:05:25.422Z"
   },
   {
    "duration": 407,
    "start_time": "2023-02-13T17:05:33.916Z"
   },
   {
    "duration": 279,
    "start_time": "2023-02-13T17:05:41.091Z"
   },
   {
    "duration": 9,
    "start_time": "2023-02-13T17:08:21.833Z"
   },
   {
    "duration": 10,
    "start_time": "2023-02-13T17:08:38.885Z"
   },
   {
    "duration": 10,
    "start_time": "2023-02-13T17:08:45.430Z"
   },
   {
    "duration": 52,
    "start_time": "2023-02-13T17:09:08.984Z"
   },
   {
    "duration": 10,
    "start_time": "2023-02-13T17:09:09.440Z"
   },
   {
    "duration": 8,
    "start_time": "2023-02-13T17:09:10.641Z"
   },
   {
    "duration": 12,
    "start_time": "2023-02-13T17:09:11.920Z"
   },
   {
    "duration": 6,
    "start_time": "2023-02-13T17:10:51.210Z"
   },
   {
    "duration": 81,
    "start_time": "2023-02-13T17:21:05.246Z"
   },
   {
    "duration": 5,
    "start_time": "2023-02-13T17:21:15.927Z"
   },
   {
    "duration": 14,
    "start_time": "2023-02-13T17:21:24.495Z"
   },
   {
    "duration": 17,
    "start_time": "2023-02-13T17:21:39.862Z"
   },
   {
    "duration": 8,
    "start_time": "2023-02-13T17:29:18.811Z"
   },
   {
    "duration": 18,
    "start_time": "2023-02-13T17:29:29.372Z"
   },
   {
    "duration": 18,
    "start_time": "2023-02-13T17:30:22.907Z"
   },
   {
    "duration": 5,
    "start_time": "2023-02-13T17:31:51.802Z"
   },
   {
    "duration": 328,
    "start_time": "2023-02-13T17:34:41.676Z"
   },
   {
    "duration": 7,
    "start_time": "2023-02-13T17:36:41.379Z"
   },
   {
    "duration": 41,
    "start_time": "2023-02-13T17:38:26.968Z"
   },
   {
    "duration": 3,
    "start_time": "2023-02-13T17:38:50.972Z"
   },
   {
    "duration": 10,
    "start_time": "2023-02-13T17:38:51.368Z"
   },
   {
    "duration": 3,
    "start_time": "2023-02-13T17:39:33.617Z"
   },
   {
    "duration": 55,
    "start_time": "2023-02-13T17:39:33.623Z"
   },
   {
    "duration": 20,
    "start_time": "2023-02-13T17:39:33.681Z"
   },
   {
    "duration": 23,
    "start_time": "2023-02-13T17:39:33.703Z"
   },
   {
    "duration": 22,
    "start_time": "2023-02-13T17:39:33.728Z"
   },
   {
    "duration": 5,
    "start_time": "2023-02-13T17:39:33.752Z"
   },
   {
    "duration": 5,
    "start_time": "2023-02-13T17:39:33.759Z"
   },
   {
    "duration": 248,
    "start_time": "2023-02-13T17:39:33.765Z"
   },
   {
    "duration": 299,
    "start_time": "2023-02-13T17:39:34.015Z"
   },
   {
    "duration": 431,
    "start_time": "2023-02-13T17:39:34.316Z"
   },
   {
    "duration": 306,
    "start_time": "2023-02-13T17:39:34.749Z"
   },
   {
    "duration": 4,
    "start_time": "2023-02-13T17:39:35.057Z"
   },
   {
    "duration": 36,
    "start_time": "2023-02-13T17:39:35.062Z"
   },
   {
    "duration": 15,
    "start_time": "2023-02-13T17:39:35.101Z"
   },
   {
    "duration": 39,
    "start_time": "2023-02-13T17:39:35.118Z"
   },
   {
    "duration": 5,
    "start_time": "2023-02-13T17:39:35.160Z"
   },
   {
    "duration": 29,
    "start_time": "2023-02-13T17:44:23.536Z"
   },
   {
    "duration": 3,
    "start_time": "2023-02-13T17:45:37.778Z"
   },
   {
    "duration": 4,
    "start_time": "2023-02-13T17:49:06.657Z"
   },
   {
    "duration": 5,
    "start_time": "2023-02-13T18:07:20.529Z"
   },
   {
    "duration": 25,
    "start_time": "2023-02-13T18:11:31.609Z"
   },
   {
    "duration": 89,
    "start_time": "2023-02-13T18:15:28.135Z"
   },
   {
    "duration": 3,
    "start_time": "2023-02-13T18:15:56.664Z"
   },
   {
    "duration": 91,
    "start_time": "2023-02-13T18:17:23.523Z"
   },
   {
    "duration": 3,
    "start_time": "2023-02-13T18:17:31.662Z"
   },
   {
    "duration": 5,
    "start_time": "2023-02-13T18:17:32.077Z"
   },
   {
    "duration": 86,
    "start_time": "2023-02-13T18:18:07.023Z"
   },
   {
    "duration": 4607,
    "start_time": "2023-02-13T18:18:34.821Z"
   },
   {
    "duration": 5,
    "start_time": "2023-02-13T18:19:24.282Z"
   },
   {
    "duration": 4,
    "start_time": "2023-02-13T18:21:03.051Z"
   },
   {
    "duration": 5,
    "start_time": "2023-02-13T18:28:31.222Z"
   },
   {
    "duration": 149713,
    "start_time": "2023-02-13T18:28:32.043Z"
   },
   {
    "duration": 6,
    "start_time": "2023-02-13T18:32:16.875Z"
   },
   {
    "duration": 178525,
    "start_time": "2023-02-13T18:32:20.853Z"
   },
   {
    "duration": 6,
    "start_time": "2023-02-13T18:37:04.615Z"
   },
   {
    "duration": 98,
    "start_time": "2023-02-13T18:37:06.284Z"
   },
   {
    "duration": 7,
    "start_time": "2023-02-13T18:37:17.814Z"
   },
   {
    "duration": 108,
    "start_time": "2023-02-13T18:37:18.462Z"
   },
   {
    "duration": 11,
    "start_time": "2023-02-13T18:37:39.330Z"
   },
   {
    "duration": 5,
    "start_time": "2023-02-13T18:38:05.630Z"
   },
   {
    "duration": 5,
    "start_time": "2023-02-13T18:38:10.608Z"
   },
   {
    "duration": 14,
    "start_time": "2023-02-13T18:38:51.880Z"
   },
   {
    "duration": 4,
    "start_time": "2023-02-13T18:38:55.681Z"
   },
   {
    "duration": 58,
    "start_time": "2023-02-13T18:38:55.687Z"
   },
   {
    "duration": 11,
    "start_time": "2023-02-13T18:38:55.747Z"
   },
   {
    "duration": 9,
    "start_time": "2023-02-13T18:38:55.761Z"
   },
   {
    "duration": 16,
    "start_time": "2023-02-13T18:38:55.771Z"
   },
   {
    "duration": 13,
    "start_time": "2023-02-13T18:38:55.789Z"
   },
   {
    "duration": 8,
    "start_time": "2023-02-13T18:38:55.803Z"
   },
   {
    "duration": 502,
    "start_time": "2023-02-13T18:38:55.813Z"
   },
   {
    "duration": 316,
    "start_time": "2023-02-13T18:38:56.317Z"
   },
   {
    "duration": 427,
    "start_time": "2023-02-13T18:38:56.637Z"
   },
   {
    "duration": 286,
    "start_time": "2023-02-13T18:38:57.066Z"
   },
   {
    "duration": 5,
    "start_time": "2023-02-13T18:38:57.354Z"
   },
   {
    "duration": 16,
    "start_time": "2023-02-13T18:38:57.361Z"
   },
   {
    "duration": 20,
    "start_time": "2023-02-13T18:38:57.379Z"
   },
   {
    "duration": 40,
    "start_time": "2023-02-13T18:38:57.405Z"
   },
   {
    "duration": 7,
    "start_time": "2023-02-13T18:38:57.447Z"
   },
   {
    "duration": 10,
    "start_time": "2023-02-13T18:38:57.456Z"
   },
   {
    "duration": 9,
    "start_time": "2023-02-13T18:38:57.468Z"
   },
   {
    "duration": 35,
    "start_time": "2023-02-13T18:38:57.479Z"
   },
   {
    "duration": 9335,
    "start_time": "2023-02-13T18:38:57.516Z"
   },
   {
    "duration": 5,
    "start_time": "2023-02-13T18:39:06.853Z"
   },
   {
    "duration": 9,
    "start_time": "2023-02-13T18:39:47.185Z"
   },
   {
    "duration": 124357,
    "start_time": "2023-02-13T18:39:48.945Z"
   },
   {
    "duration": 5,
    "start_time": "2023-02-13T18:42:38.153Z"
   },
   {
    "duration": 128317,
    "start_time": "2023-02-13T18:42:40.814Z"
   },
   {
    "duration": 76,
    "start_time": "2023-02-13T18:48:57.911Z"
   },
   {
    "duration": 5,
    "start_time": "2023-02-13T18:49:03.422Z"
   },
   {
    "duration": 5,
    "start_time": "2023-02-13T18:50:07.820Z"
   },
   {
    "duration": 3,
    "start_time": "2023-02-13T18:50:44.069Z"
   },
   {
    "duration": 4,
    "start_time": "2023-02-13T18:51:35.462Z"
   },
   {
    "duration": 6,
    "start_time": "2023-02-13T18:51:40.279Z"
   },
   {
    "duration": 125,
    "start_time": "2023-02-13T18:51:46.436Z"
   },
   {
    "duration": 6,
    "start_time": "2023-02-13T18:52:53.213Z"
   },
   {
    "duration": 132056,
    "start_time": "2023-02-13T18:52:53.916Z"
   },
   {
    "duration": 4,
    "start_time": "2023-02-13T18:56:34.244Z"
   },
   {
    "duration": 125123,
    "start_time": "2023-02-13T18:56:38.962Z"
   },
   {
    "duration": 4,
    "start_time": "2023-02-13T18:59:28.781Z"
   },
   {
    "duration": 17,
    "start_time": "2023-02-13T19:00:20.386Z"
   },
   {
    "duration": 13,
    "start_time": "2023-02-13T19:00:25.486Z"
   },
   {
    "duration": 6,
    "start_time": "2023-02-13T19:00:27.846Z"
   },
   {
    "duration": 45,
    "start_time": "2023-02-13T19:00:57.517Z"
   },
   {
    "duration": 7,
    "start_time": "2023-02-13T19:01:17.772Z"
   },
   {
    "duration": 77,
    "start_time": "2023-02-13T19:01:57.563Z"
   },
   {
    "duration": 2563,
    "start_time": "2023-02-13T19:02:02.108Z"
   },
   {
    "duration": 2648,
    "start_time": "2023-02-13T19:02:17.080Z"
   },
   {
    "duration": 2880,
    "start_time": "2023-02-13T19:03:43.659Z"
   },
   {
    "duration": 5,
    "start_time": "2023-02-13T19:03:56.709Z"
   },
   {
    "duration": 5,
    "start_time": "2023-02-13T19:04:51.074Z"
   },
   {
    "duration": 131634,
    "start_time": "2023-02-13T19:04:55.309Z"
   },
   {
    "duration": 5,
    "start_time": "2023-02-13T19:07:06.946Z"
   },
   {
    "duration": 2069,
    "start_time": "2023-02-14T13:17:29.530Z"
   },
   {
    "duration": 266,
    "start_time": "2023-02-14T13:17:31.602Z"
   },
   {
    "duration": 15,
    "start_time": "2023-02-14T13:17:31.870Z"
   },
   {
    "duration": 124,
    "start_time": "2023-02-14T13:17:31.887Z"
   },
   {
    "duration": 39,
    "start_time": "2023-02-14T13:17:32.015Z"
   },
   {
    "duration": 46,
    "start_time": "2023-02-14T13:17:32.056Z"
   },
   {
    "duration": 33,
    "start_time": "2023-02-14T13:17:32.104Z"
   },
   {
    "duration": 347,
    "start_time": "2023-02-14T13:17:32.139Z"
   },
   {
    "duration": 363,
    "start_time": "2023-02-14T13:17:32.488Z"
   },
   {
    "duration": 603,
    "start_time": "2023-02-14T13:17:32.853Z"
   },
   {
    "duration": 321,
    "start_time": "2023-02-14T13:17:33.459Z"
   },
   {
    "duration": 6,
    "start_time": "2023-02-14T13:17:33.783Z"
   },
   {
    "duration": 58,
    "start_time": "2023-02-14T13:17:33.791Z"
   },
   {
    "duration": 43,
    "start_time": "2023-02-14T13:17:33.854Z"
   },
   {
    "duration": 89,
    "start_time": "2023-02-14T13:17:33.899Z"
   },
   {
    "duration": 18,
    "start_time": "2023-02-14T13:17:33.990Z"
   },
   {
    "duration": 22,
    "start_time": "2023-02-14T13:17:34.010Z"
   },
   {
    "duration": 64,
    "start_time": "2023-02-14T13:17:34.034Z"
   },
   {
    "duration": 55,
    "start_time": "2023-02-14T13:17:34.101Z"
   },
   {
    "duration": 60,
    "start_time": "2023-02-14T13:17:34.158Z"
   },
   {
    "duration": 13458,
    "start_time": "2023-02-14T13:17:34.220Z"
   },
   {
    "duration": 14,
    "start_time": "2023-02-14T13:17:47.680Z"
   },
   {
    "duration": 0,
    "start_time": "2023-02-14T13:17:47.695Z"
   },
   {
    "duration": 0,
    "start_time": "2023-02-14T13:17:47.697Z"
   },
   {
    "duration": 7,
    "start_time": "2023-02-14T13:18:13.968Z"
   },
   {
    "duration": 1373,
    "start_time": "2023-02-14T14:13:08.966Z"
   },
   {
    "duration": 49,
    "start_time": "2023-02-14T14:13:10.341Z"
   },
   {
    "duration": 12,
    "start_time": "2023-02-14T14:13:10.392Z"
   },
   {
    "duration": 23,
    "start_time": "2023-02-14T14:13:10.406Z"
   },
   {
    "duration": 28,
    "start_time": "2023-02-14T14:13:10.432Z"
   },
   {
    "duration": 15,
    "start_time": "2023-02-14T14:13:10.461Z"
   },
   {
    "duration": 22,
    "start_time": "2023-02-14T14:13:10.478Z"
   },
   {
    "duration": 259,
    "start_time": "2023-02-14T14:13:10.502Z"
   },
   {
    "duration": 327,
    "start_time": "2023-02-14T14:13:10.764Z"
   },
   {
    "duration": 434,
    "start_time": "2023-02-14T14:13:11.093Z"
   },
   {
    "duration": 359,
    "start_time": "2023-02-14T14:13:11.529Z"
   },
   {
    "duration": 4,
    "start_time": "2023-02-14T14:13:11.889Z"
   },
   {
    "duration": 45,
    "start_time": "2023-02-14T14:13:11.895Z"
   },
   {
    "duration": 14,
    "start_time": "2023-02-14T14:13:11.943Z"
   },
   {
    "duration": 50,
    "start_time": "2023-02-14T14:13:11.958Z"
   },
   {
    "duration": 5,
    "start_time": "2023-02-14T14:13:12.010Z"
   },
   {
    "duration": 22,
    "start_time": "2023-02-14T14:13:12.017Z"
   },
   {
    "duration": 40,
    "start_time": "2023-02-14T14:13:12.041Z"
   },
   {
    "duration": 35,
    "start_time": "2023-02-14T14:13:12.083Z"
   },
   {
    "duration": 40,
    "start_time": "2023-02-14T14:13:12.119Z"
   },
   {
    "duration": 2211354,
    "start_time": "2023-02-14T14:13:12.162Z"
   },
   {
    "duration": 15,
    "start_time": "2023-02-14T14:50:03.519Z"
   },
   {
    "duration": 0,
    "start_time": "2023-02-14T14:50:03.536Z"
   },
   {
    "duration": 0,
    "start_time": "2023-02-14T14:50:03.537Z"
   },
   {
    "duration": 6,
    "start_time": "2023-02-14T14:50:19.969Z"
   },
   {
    "duration": 5256,
    "start_time": "2023-02-14T14:50:21.132Z"
   },
   {
    "duration": 6,
    "start_time": "2023-02-14T14:50:37.603Z"
   },
   {
    "duration": 546559,
    "start_time": "2023-02-14T14:50:38.815Z"
   },
   {
    "duration": 3498,
    "start_time": "2023-02-14T15:01:16.392Z"
   },
   {
    "duration": 3487,
    "start_time": "2023-02-14T15:01:19.893Z"
   },
   {
    "duration": 5,
    "start_time": "2023-02-14T15:02:32.930Z"
   },
   {
    "duration": 7,
    "start_time": "2023-02-14T15:03:42.390Z"
   },
   {
    "duration": 118,
    "start_time": "2023-02-14T15:03:43.508Z"
   },
   {
    "duration": 6,
    "start_time": "2023-02-14T15:08:06.785Z"
   },
   {
    "duration": 128779,
    "start_time": "2023-02-14T15:08:09.159Z"
   },
   {
    "duration": 3328,
    "start_time": "2023-02-14T15:10:33.364Z"
   },
   {
    "duration": 3462,
    "start_time": "2023-02-14T15:10:36.694Z"
   },
   {
    "duration": 3329,
    "start_time": "2023-02-14T15:10:49.766Z"
   },
   {
    "duration": 5,
    "start_time": "2023-02-14T15:24:42.962Z"
   },
   {
    "duration": 1426,
    "start_time": "2023-02-14T15:28:47.856Z"
   },
   {
    "duration": 64,
    "start_time": "2023-02-14T15:28:49.285Z"
   },
   {
    "duration": 15,
    "start_time": "2023-02-14T15:28:49.354Z"
   },
   {
    "duration": 15,
    "start_time": "2023-02-14T15:28:49.370Z"
   },
   {
    "duration": 15,
    "start_time": "2023-02-14T15:28:49.388Z"
   },
   {
    "duration": 34,
    "start_time": "2023-02-14T15:28:49.404Z"
   },
   {
    "duration": 3,
    "start_time": "2023-02-14T15:28:49.440Z"
   },
   {
    "duration": 244,
    "start_time": "2023-02-14T15:28:49.445Z"
   },
   {
    "duration": 333,
    "start_time": "2023-02-14T15:28:49.691Z"
   },
   {
    "duration": 422,
    "start_time": "2023-02-14T15:28:50.027Z"
   },
   {
    "duration": 367,
    "start_time": "2023-02-14T15:28:50.451Z"
   },
   {
    "duration": 4,
    "start_time": "2023-02-14T15:28:50.820Z"
   },
   {
    "duration": 28,
    "start_time": "2023-02-14T15:28:50.826Z"
   },
   {
    "duration": 11,
    "start_time": "2023-02-14T15:28:50.856Z"
   },
   {
    "duration": 33,
    "start_time": "2023-02-14T15:28:50.869Z"
   },
   {
    "duration": 7,
    "start_time": "2023-02-14T15:28:50.903Z"
   },
   {
    "duration": 17,
    "start_time": "2023-02-14T15:28:50.911Z"
   },
   {
    "duration": 11,
    "start_time": "2023-02-14T15:28:50.930Z"
   },
   {
    "duration": 11,
    "start_time": "2023-02-14T15:28:50.942Z"
   },
   {
    "duration": 14,
    "start_time": "2023-02-14T15:28:50.954Z"
   },
   {
    "duration": 8505,
    "start_time": "2023-02-14T15:28:50.969Z"
   },
   {
    "duration": 11,
    "start_time": "2023-02-14T15:28:59.477Z"
   },
   {
    "duration": 0,
    "start_time": "2023-02-14T15:28:59.490Z"
   },
   {
    "duration": 1128,
    "start_time": "2023-02-14T15:29:24.152Z"
   },
   {
    "duration": 6,
    "start_time": "2023-02-14T15:32:10.431Z"
   },
   {
    "duration": 3735,
    "start_time": "2023-02-14T15:32:11.933Z"
   },
   {
    "duration": 5,
    "start_time": "2023-02-14T15:33:20.950Z"
   },
   {
    "duration": 324225,
    "start_time": "2023-02-14T15:33:21.648Z"
   },
   {
    "duration": 5,
    "start_time": "2023-02-14T15:38:45.876Z"
   },
   {
    "duration": 154872,
    "start_time": "2023-02-14T15:38:45.884Z"
   },
   {
    "duration": 4137,
    "start_time": "2023-02-14T15:45:07.579Z"
   },
   {
    "duration": 6,
    "start_time": "2023-02-14T15:45:23.281Z"
   },
   {
    "duration": 5,
    "start_time": "2023-02-14T15:45:35.181Z"
   },
   {
    "duration": 1266,
    "start_time": "2023-02-14T16:49:13.662Z"
   },
   {
    "duration": 144,
    "start_time": "2023-02-14T16:49:14.930Z"
   },
   {
    "duration": 15,
    "start_time": "2023-02-14T16:49:15.077Z"
   },
   {
    "duration": 20,
    "start_time": "2023-02-14T16:49:15.094Z"
   },
   {
    "duration": 16,
    "start_time": "2023-02-14T16:49:15.117Z"
   },
   {
    "duration": 5,
    "start_time": "2023-02-14T16:49:15.135Z"
   },
   {
    "duration": 5,
    "start_time": "2023-02-14T16:49:15.142Z"
   },
   {
    "duration": 243,
    "start_time": "2023-02-14T16:49:15.149Z"
   },
   {
    "duration": 283,
    "start_time": "2023-02-14T16:49:15.394Z"
   },
   {
    "duration": 383,
    "start_time": "2023-02-14T16:49:15.679Z"
   },
   {
    "duration": 2231,
    "start_time": "2023-02-14T16:49:16.063Z"
   },
   {
    "duration": 254,
    "start_time": "2023-02-14T16:53:02.421Z"
   },
   {
    "duration": 4,
    "start_time": "2023-02-14T17:23:42.290Z"
   },
   {
    "duration": 52,
    "start_time": "2023-02-14T17:23:42.295Z"
   },
   {
    "duration": 12,
    "start_time": "2023-02-14T17:23:42.349Z"
   },
   {
    "duration": 16,
    "start_time": "2023-02-14T17:23:42.363Z"
   },
   {
    "duration": 36,
    "start_time": "2023-02-14T17:23:42.382Z"
   },
   {
    "duration": 6,
    "start_time": "2023-02-14T17:23:42.419Z"
   },
   {
    "duration": 5,
    "start_time": "2023-02-14T17:23:42.427Z"
   },
   {
    "duration": 214,
    "start_time": "2023-02-14T17:23:42.434Z"
   },
   {
    "duration": 254,
    "start_time": "2023-02-14T17:23:42.650Z"
   },
   {
    "duration": 415,
    "start_time": "2023-02-14T17:23:42.906Z"
   },
   {
    "duration": 1880,
    "start_time": "2023-02-14T17:23:43.322Z"
   },
   {
    "duration": 329,
    "start_time": "2023-02-14T17:23:45.293Z"
   },
   {
    "duration": 4,
    "start_time": "2023-02-14T17:23:45.623Z"
   },
   {
    "duration": 12,
    "start_time": "2023-02-14T17:23:45.629Z"
   },
   {
    "duration": 234,
    "start_time": "2023-02-14T17:23:45.642Z"
   },
   {
    "duration": 18,
    "start_time": "2023-02-14T17:23:45.877Z"
   },
   {
    "duration": 26,
    "start_time": "2023-02-14T17:23:45.897Z"
   },
   {
    "duration": 5,
    "start_time": "2023-02-14T17:23:45.924Z"
   },
   {
    "duration": 5,
    "start_time": "2023-02-14T17:23:45.930Z"
   },
   {
    "duration": 6,
    "start_time": "2023-02-14T17:23:45.936Z"
   },
   {
    "duration": 4,
    "start_time": "2023-02-14T17:23:45.943Z"
   },
   {
    "duration": 5,
    "start_time": "2023-02-14T17:23:45.949Z"
   },
   {
    "duration": 322511,
    "start_time": "2023-02-14T17:23:45.956Z"
   },
   {
    "duration": 5,
    "start_time": "2023-02-14T17:29:08.469Z"
   },
   {
    "duration": 155657,
    "start_time": "2023-02-14T17:29:08.475Z"
   },
   {
    "duration": 4323,
    "start_time": "2023-02-14T17:31:44.138Z"
   },
   {
    "duration": 4,
    "start_time": "2023-02-14T17:31:48.463Z"
   },
   {
    "duration": 12,
    "start_time": "2023-02-14T17:31:48.469Z"
   },
   {
    "duration": 62,
    "start_time": "2023-02-14T17:44:28.589Z"
   },
   {
    "duration": 1647,
    "start_time": "2023-02-14T17:44:34.074Z"
   },
   {
    "duration": 136,
    "start_time": "2023-02-14T17:44:35.723Z"
   },
   {
    "duration": 14,
    "start_time": "2023-02-14T17:44:35.860Z"
   },
   {
    "duration": 12,
    "start_time": "2023-02-14T17:44:35.876Z"
   },
   {
    "duration": 31,
    "start_time": "2023-02-14T17:44:35.891Z"
   },
   {
    "duration": 7,
    "start_time": "2023-02-14T17:44:35.924Z"
   },
   {
    "duration": 6,
    "start_time": "2023-02-14T17:44:35.933Z"
   },
   {
    "duration": 232,
    "start_time": "2023-02-14T17:44:35.941Z"
   },
   {
    "duration": 347,
    "start_time": "2023-02-14T17:44:36.175Z"
   },
   {
    "duration": 361,
    "start_time": "2023-02-14T17:44:52.050Z"
   },
   {
    "duration": 301,
    "start_time": "2023-02-14T17:44:57.652Z"
   },
   {
    "duration": 273,
    "start_time": "2023-02-14T17:45:02.666Z"
   },
   {
    "duration": 444,
    "start_time": "2023-02-14T17:45:29.043Z"
   },
   {
    "duration": 455,
    "start_time": "2023-02-14T17:45:34.704Z"
   },
   {
    "duration": 351,
    "start_time": "2023-02-14T17:45:50.385Z"
   },
   {
    "duration": 391,
    "start_time": "2023-02-14T17:46:17.425Z"
   },
   {
    "duration": 5579,
    "start_time": "2023-02-14T17:46:58.848Z"
   },
   {
    "duration": 436,
    "start_time": "2023-02-14T17:48:31.627Z"
   },
   {
    "duration": 844,
    "start_time": "2023-02-14T17:50:40.820Z"
   },
   {
    "duration": 53,
    "start_time": "2023-02-15T09:10:22.773Z"
   },
   {
    "duration": 1612,
    "start_time": "2023-02-15T09:10:28.094Z"
   },
   {
    "duration": 118,
    "start_time": "2023-02-15T09:10:29.708Z"
   },
   {
    "duration": 12,
    "start_time": "2023-02-15T09:10:29.828Z"
   },
   {
    "duration": 15,
    "start_time": "2023-02-15T09:10:29.842Z"
   },
   {
    "duration": 19,
    "start_time": "2023-02-15T09:10:29.859Z"
   },
   {
    "duration": 4,
    "start_time": "2023-02-15T09:10:29.880Z"
   },
   {
    "duration": 24,
    "start_time": "2023-02-15T09:10:29.886Z"
   },
   {
    "duration": 306,
    "start_time": "2023-02-15T09:10:29.912Z"
   },
   {
    "duration": 296,
    "start_time": "2023-02-15T09:10:30.220Z"
   },
   {
    "duration": 929,
    "start_time": "2023-02-15T09:10:41.308Z"
   },
   {
    "duration": 1081,
    "start_time": "2023-02-15T09:10:52.076Z"
   },
   {
    "duration": 943,
    "start_time": "2023-02-15T09:11:09.068Z"
   },
   {
    "duration": 875,
    "start_time": "2023-02-15T09:12:09.067Z"
   },
   {
    "duration": 833,
    "start_time": "2023-02-15T09:12:17.186Z"
   },
   {
    "duration": 901,
    "start_time": "2023-02-15T09:13:16.341Z"
   },
   {
    "duration": 768,
    "start_time": "2023-02-15T09:13:28.796Z"
   },
   {
    "duration": 739,
    "start_time": "2023-02-15T09:13:54.605Z"
   },
   {
    "duration": 817,
    "start_time": "2023-02-15T09:14:09.931Z"
   },
   {
    "duration": 397,
    "start_time": "2023-02-15T09:14:51.641Z"
   },
   {
    "duration": 317,
    "start_time": "2023-02-15T09:16:27.560Z"
   },
   {
    "duration": 207,
    "start_time": "2023-02-15T09:17:58.533Z"
   },
   {
    "duration": 328,
    "start_time": "2023-02-15T09:18:07.908Z"
   },
   {
    "duration": 348,
    "start_time": "2023-02-15T09:18:18.632Z"
   },
   {
    "duration": 250,
    "start_time": "2023-02-15T09:19:03.087Z"
   },
   {
    "duration": 289,
    "start_time": "2023-02-15T09:19:33.252Z"
   },
   {
    "duration": 372,
    "start_time": "2023-02-15T09:19:44.632Z"
   },
   {
    "duration": 13,
    "start_time": "2023-02-15T09:20:10.342Z"
   },
   {
    "duration": 17,
    "start_time": "2023-02-15T09:20:27.331Z"
   },
   {
    "duration": 5,
    "start_time": "2023-02-15T09:20:35.005Z"
   },
   {
    "duration": 68,
    "start_time": "2023-02-15T09:20:35.012Z"
   },
   {
    "duration": 18,
    "start_time": "2023-02-15T09:20:35.083Z"
   },
   {
    "duration": 25,
    "start_time": "2023-02-15T09:20:35.103Z"
   },
   {
    "duration": 32,
    "start_time": "2023-02-15T09:20:35.131Z"
   },
   {
    "duration": 39,
    "start_time": "2023-02-15T09:20:35.165Z"
   },
   {
    "duration": 33,
    "start_time": "2023-02-15T09:20:35.205Z"
   },
   {
    "duration": 43,
    "start_time": "2023-02-15T09:20:35.241Z"
   },
   {
    "duration": 336,
    "start_time": "2023-02-15T09:20:35.286Z"
   },
   {
    "duration": 304,
    "start_time": "2023-02-15T09:20:35.623Z"
   },
   {
    "duration": 860,
    "start_time": "2023-02-15T09:20:35.928Z"
   },
   {
    "duration": 6368,
    "start_time": "2023-02-15T09:20:36.789Z"
   },
   {
    "duration": 1686,
    "start_time": "2023-02-15T09:20:59.319Z"
   },
   {
    "duration": 62,
    "start_time": "2023-02-15T09:21:01.007Z"
   },
   {
    "duration": 17,
    "start_time": "2023-02-15T09:21:01.071Z"
   },
   {
    "duration": 28,
    "start_time": "2023-02-15T09:21:01.091Z"
   },
   {
    "duration": 29,
    "start_time": "2023-02-15T09:21:01.121Z"
   },
   {
    "duration": 40,
    "start_time": "2023-02-15T09:21:01.153Z"
   },
   {
    "duration": 63,
    "start_time": "2023-02-15T09:21:01.195Z"
   },
   {
    "duration": 28,
    "start_time": "2023-02-15T09:21:01.262Z"
   },
   {
    "duration": 405,
    "start_time": "2023-02-15T09:21:01.291Z"
   },
   {
    "duration": 291,
    "start_time": "2023-02-15T09:21:01.700Z"
   },
   {
    "duration": 1043,
    "start_time": "2023-02-15T09:21:01.993Z"
   },
   {
    "duration": 6310,
    "start_time": "2023-02-15T09:21:03.037Z"
   },
   {
    "duration": 549,
    "start_time": "2023-02-15T09:21:09.351Z"
   },
   {
    "duration": 5,
    "start_time": "2023-02-15T09:21:09.901Z"
   },
   {
    "duration": 23,
    "start_time": "2023-02-15T09:21:09.908Z"
   },
   {
    "duration": 295,
    "start_time": "2023-02-15T09:21:09.932Z"
   },
   {
    "duration": 27,
    "start_time": "2023-02-15T09:21:10.229Z"
   },
   {
    "duration": 30,
    "start_time": "2023-02-15T09:21:10.260Z"
   },
   {
    "duration": 6,
    "start_time": "2023-02-15T09:21:10.292Z"
   },
   {
    "duration": 11,
    "start_time": "2023-02-15T09:21:10.299Z"
   },
   {
    "duration": 27,
    "start_time": "2023-02-15T09:21:10.312Z"
   },
   {
    "duration": 9,
    "start_time": "2023-02-15T09:21:10.342Z"
   },
   {
    "duration": 15,
    "start_time": "2023-02-15T09:21:10.353Z"
   },
   {
    "duration": 2008,
    "start_time": "2023-02-15T09:21:10.370Z"
   },
   {
    "duration": 6,
    "start_time": "2023-02-15T09:21:12.380Z"
   },
   {
    "duration": 30623,
    "start_time": "2023-02-15T09:21:12.388Z"
   },
   {
    "duration": 11,
    "start_time": "2023-02-15T09:21:43.013Z"
   },
   {
    "duration": 0,
    "start_time": "2023-02-15T09:21:43.025Z"
   },
   {
    "duration": 0,
    "start_time": "2023-02-15T09:21:43.026Z"
   },
   {
    "duration": 0,
    "start_time": "2023-02-15T09:21:43.029Z"
   },
   {
    "duration": 12,
    "start_time": "2023-02-15T09:21:52.623Z"
   },
   {
    "duration": 53,
    "start_time": "2023-02-15T09:22:23.877Z"
   },
   {
    "duration": 6,
    "start_time": "2023-02-15T09:22:43.155Z"
   },
   {
    "duration": 414,
    "start_time": "2023-02-15T09:23:16.027Z"
   },
   {
    "duration": 6,
    "start_time": "2023-02-15T09:23:34.103Z"
   },
   {
    "duration": 83,
    "start_time": "2023-02-15T09:23:34.111Z"
   },
   {
    "duration": 11,
    "start_time": "2023-02-15T09:23:34.196Z"
   },
   {
    "duration": 18,
    "start_time": "2023-02-15T09:23:34.209Z"
   },
   {
    "duration": 27,
    "start_time": "2023-02-15T09:23:34.228Z"
   },
   {
    "duration": 10,
    "start_time": "2023-02-15T09:23:34.257Z"
   },
   {
    "duration": 19,
    "start_time": "2023-02-15T09:23:34.268Z"
   },
   {
    "duration": 405,
    "start_time": "2023-02-15T09:23:34.289Z"
   },
   {
    "duration": 253,
    "start_time": "2023-02-15T09:23:34.697Z"
   },
   {
    "duration": 242,
    "start_time": "2023-02-15T09:23:57.821Z"
   },
   {
    "duration": 795,
    "start_time": "2023-02-15T09:27:35.184Z"
   },
   {
    "duration": 1550,
    "start_time": "2023-02-15T11:30:38.210Z"
   },
   {
    "duration": 144,
    "start_time": "2023-02-15T11:30:39.765Z"
   },
   {
    "duration": 12,
    "start_time": "2023-02-15T11:30:39.910Z"
   },
   {
    "duration": 9,
    "start_time": "2023-02-15T11:30:39.924Z"
   },
   {
    "duration": 19,
    "start_time": "2023-02-15T11:30:39.935Z"
   },
   {
    "duration": 6,
    "start_time": "2023-02-15T11:30:39.955Z"
   },
   {
    "duration": 10,
    "start_time": "2023-02-15T11:30:39.963Z"
   },
   {
    "duration": 300,
    "start_time": "2023-02-15T11:30:39.975Z"
   },
   {
    "duration": 243,
    "start_time": "2023-02-15T11:30:40.277Z"
   },
   {
    "duration": 912,
    "start_time": "2023-02-15T11:30:40.522Z"
   },
   {
    "duration": 1622,
    "start_time": "2023-02-15T11:30:41.436Z"
   },
   {
    "duration": 498,
    "start_time": "2023-02-15T11:30:43.060Z"
   },
   {
    "duration": 773,
    "start_time": "2023-02-15T11:33:19.486Z"
   },
   {
    "duration": 701,
    "start_time": "2023-02-15T11:33:33.832Z"
   },
   {
    "duration": 540,
    "start_time": "2023-02-15T11:34:09.029Z"
   },
   {
    "duration": 547,
    "start_time": "2023-02-15T11:34:17.525Z"
   },
   {
    "duration": 355,
    "start_time": "2023-02-15T11:35:04.263Z"
   },
   {
    "duration": 708,
    "start_time": "2023-02-15T11:35:16.778Z"
   },
   {
    "duration": 24,
    "start_time": "2023-02-15T11:35:37.762Z"
   },
   {
    "duration": 732,
    "start_time": "2023-02-15T11:36:15.703Z"
   },
   {
    "duration": 114,
    "start_time": "2023-02-15T11:36:21.123Z"
   },
   {
    "duration": 49,
    "start_time": "2023-02-15T11:36:41.482Z"
   },
   {
    "duration": 161,
    "start_time": "2023-02-15T11:36:47.874Z"
   },
   {
    "duration": 169,
    "start_time": "2023-02-15T11:36:52.597Z"
   },
   {
    "duration": 159,
    "start_time": "2023-02-15T11:37:44.046Z"
   },
   {
    "duration": 3,
    "start_time": "2023-02-15T11:43:28.877Z"
   },
   {
    "duration": 14,
    "start_time": "2023-02-15T11:43:40.994Z"
   },
   {
    "duration": 232,
    "start_time": "2023-02-15T11:44:45.188Z"
   },
   {
    "duration": 265,
    "start_time": "2023-02-15T11:44:57.909Z"
   },
   {
    "duration": 127,
    "start_time": "2023-02-15T11:45:16.545Z"
   },
   {
    "duration": 5,
    "start_time": "2023-02-15T11:45:23.503Z"
   },
   {
    "duration": 52,
    "start_time": "2023-02-15T11:45:23.510Z"
   },
   {
    "duration": 10,
    "start_time": "2023-02-15T11:45:23.564Z"
   },
   {
    "duration": 12,
    "start_time": "2023-02-15T11:45:23.575Z"
   },
   {
    "duration": 14,
    "start_time": "2023-02-15T11:45:23.589Z"
   },
   {
    "duration": 6,
    "start_time": "2023-02-15T11:45:23.604Z"
   },
   {
    "duration": 6,
    "start_time": "2023-02-15T11:45:23.611Z"
   },
   {
    "duration": 363,
    "start_time": "2023-02-15T11:45:23.618Z"
   },
   {
    "duration": 238,
    "start_time": "2023-02-15T11:45:23.983Z"
   },
   {
    "duration": 719,
    "start_time": "2023-02-15T11:45:24.223Z"
   },
   {
    "duration": 182,
    "start_time": "2023-02-15T11:45:24.944Z"
   },
   {
    "duration": 1830,
    "start_time": "2023-02-15T11:45:25.128Z"
   },
   {
    "duration": 468,
    "start_time": "2023-02-15T11:45:26.960Z"
   },
   {
    "duration": 3,
    "start_time": "2023-02-15T11:45:27.430Z"
   },
   {
    "duration": 139,
    "start_time": "2023-02-15T11:45:27.434Z"
   },
   {
    "duration": 25,
    "start_time": "2023-02-15T11:46:08.570Z"
   },
   {
    "duration": 342,
    "start_time": "2023-02-15T11:47:42.389Z"
   },
   {
    "duration": 11,
    "start_time": "2023-02-15T11:47:47.006Z"
   },
   {
    "duration": 4,
    "start_time": "2023-02-15T12:23:03.392Z"
   },
   {
    "duration": 4,
    "start_time": "2023-02-15T12:23:12.302Z"
   },
   {
    "duration": 90,
    "start_time": "2023-02-15T12:23:12.309Z"
   },
   {
    "duration": 10,
    "start_time": "2023-02-15T12:23:12.401Z"
   },
   {
    "duration": 7,
    "start_time": "2023-02-15T12:23:12.413Z"
   },
   {
    "duration": 18,
    "start_time": "2023-02-15T12:23:12.422Z"
   },
   {
    "duration": 5,
    "start_time": "2023-02-15T12:23:12.442Z"
   },
   {
    "duration": 6,
    "start_time": "2023-02-15T12:23:12.449Z"
   },
   {
    "duration": 367,
    "start_time": "2023-02-15T12:23:12.457Z"
   },
   {
    "duration": 251,
    "start_time": "2023-02-15T12:23:12.826Z"
   },
   {
    "duration": 844,
    "start_time": "2023-02-15T12:23:13.078Z"
   },
   {
    "duration": 183,
    "start_time": "2023-02-15T12:23:13.924Z"
   },
   {
    "duration": 2054,
    "start_time": "2023-02-15T12:23:14.109Z"
   },
   {
    "duration": 412,
    "start_time": "2023-02-15T12:23:16.257Z"
   },
   {
    "duration": 5,
    "start_time": "2023-02-15T12:23:16.671Z"
   },
   {
    "duration": 139,
    "start_time": "2023-02-15T12:23:16.678Z"
   },
   {
    "duration": 313,
    "start_time": "2023-02-15T12:23:16.819Z"
   },
   {
    "duration": 34,
    "start_time": "2023-02-15T12:23:17.134Z"
   },
   {
    "duration": 520,
    "start_time": "2023-02-15T12:23:17.169Z"
   },
   {
    "duration": 63,
    "start_time": "2023-02-15T12:23:17.691Z"
   },
   {
    "duration": 12,
    "start_time": "2023-02-15T12:23:17.756Z"
   },
   {
    "duration": 46,
    "start_time": "2023-02-15T12:27:16.096Z"
   },
   {
    "duration": 3,
    "start_time": "2023-02-15T12:27:41.116Z"
   },
   {
    "duration": 4,
    "start_time": "2023-02-15T12:30:22.082Z"
   },
   {
    "duration": 3,
    "start_time": "2023-02-15T12:30:58.505Z"
   },
   {
    "duration": 52,
    "start_time": "2023-02-15T12:30:58.510Z"
   },
   {
    "duration": 11,
    "start_time": "2023-02-15T12:30:58.563Z"
   },
   {
    "duration": 10,
    "start_time": "2023-02-15T12:30:58.575Z"
   },
   {
    "duration": 11,
    "start_time": "2023-02-15T12:30:58.587Z"
   },
   {
    "duration": 5,
    "start_time": "2023-02-15T12:30:58.600Z"
   },
   {
    "duration": 6,
    "start_time": "2023-02-15T12:30:58.606Z"
   },
   {
    "duration": 365,
    "start_time": "2023-02-15T12:30:58.614Z"
   },
   {
    "duration": 222,
    "start_time": "2023-02-15T12:30:58.980Z"
   },
   {
    "duration": 750,
    "start_time": "2023-02-15T12:30:59.204Z"
   },
   {
    "duration": 177,
    "start_time": "2023-02-15T12:30:59.956Z"
   },
   {
    "duration": 2128,
    "start_time": "2023-02-15T12:31:00.134Z"
   },
   {
    "duration": 385,
    "start_time": "2023-02-15T12:31:02.356Z"
   },
   {
    "duration": 10,
    "start_time": "2023-02-15T12:31:02.743Z"
   },
   {
    "duration": 133,
    "start_time": "2023-02-15T12:31:02.755Z"
   },
   {
    "duration": 268,
    "start_time": "2023-02-15T12:31:02.890Z"
   },
   {
    "duration": 23,
    "start_time": "2023-02-15T12:31:03.161Z"
   },
   {
    "duration": 467,
    "start_time": "2023-02-15T12:31:03.186Z"
   },
   {
    "duration": 9,
    "start_time": "2023-02-15T12:31:03.655Z"
   },
   {
    "duration": 6,
    "start_time": "2023-02-15T12:31:03.666Z"
   },
   {
    "duration": 7,
    "start_time": "2023-02-15T12:31:03.673Z"
   },
   {
    "duration": 4,
    "start_time": "2023-02-15T12:31:03.682Z"
   },
   {
    "duration": 7,
    "start_time": "2023-02-15T12:31:03.687Z"
   },
   {
    "duration": 1168838,
    "start_time": "2023-02-15T12:31:03.695Z"
   },
   {
    "duration": 319,
    "start_time": "2023-02-15T12:50:32.535Z"
   },
   {
    "duration": 423,
    "start_time": "2023-02-15T12:50:53.035Z"
   },
   {
    "duration": 376,
    "start_time": "2023-02-15T12:51:23.081Z"
   },
   {
    "duration": 29,
    "start_time": "2023-02-15T12:51:41.036Z"
   },
   {
    "duration": 3,
    "start_time": "2023-02-15T12:52:17.233Z"
   },
   {
    "duration": 600,
    "start_time": "2023-02-15T12:52:39.156Z"
   },
   {
    "duration": 271,
    "start_time": "2023-02-15T12:52:47.391Z"
   },
   {
    "duration": 3,
    "start_time": "2023-02-15T12:53:12.180Z"
   },
   {
    "duration": 56,
    "start_time": "2023-02-15T12:53:12.185Z"
   },
   {
    "duration": 10,
    "start_time": "2023-02-15T12:53:12.243Z"
   },
   {
    "duration": 9,
    "start_time": "2023-02-15T12:53:12.254Z"
   },
   {
    "duration": 18,
    "start_time": "2023-02-15T12:53:12.265Z"
   },
   {
    "duration": 11,
    "start_time": "2023-02-15T12:53:12.285Z"
   },
   {
    "duration": 6,
    "start_time": "2023-02-15T12:53:12.298Z"
   },
   {
    "duration": 253,
    "start_time": "2023-02-15T12:53:12.305Z"
   },
   {
    "duration": 231,
    "start_time": "2023-02-15T12:53:12.560Z"
   },
   {
    "duration": 761,
    "start_time": "2023-02-15T12:53:12.792Z"
   },
   {
    "duration": 180,
    "start_time": "2023-02-15T12:53:13.555Z"
   },
   {
    "duration": 2825,
    "start_time": "2023-02-15T12:53:13.737Z"
   },
   {
    "duration": 927,
    "start_time": "2023-02-15T12:53:16.655Z"
   },
   {
    "duration": 5,
    "start_time": "2023-02-15T12:53:17.584Z"
   },
   {
    "duration": 68,
    "start_time": "2023-02-15T12:53:17.591Z"
   },
   {
    "duration": 221,
    "start_time": "2023-02-15T12:53:19.936Z"
   },
   {
    "duration": 215,
    "start_time": "2023-02-15T12:53:22.839Z"
   },
   {
    "duration": 322,
    "start_time": "2023-02-15T12:53:26.743Z"
   },
   {
    "duration": 38,
    "start_time": "2023-02-15T12:53:39.374Z"
   },
   {
    "duration": 16,
    "start_time": "2023-02-15T12:53:42.478Z"
   },
   {
    "duration": 1472,
    "start_time": "2023-02-15T13:00:28.429Z"
   },
   {
    "duration": 52,
    "start_time": "2023-02-15T13:00:29.903Z"
   },
   {
    "duration": 15,
    "start_time": "2023-02-15T13:00:29.957Z"
   },
   {
    "duration": 26,
    "start_time": "2023-02-15T13:00:29.974Z"
   },
   {
    "duration": 17,
    "start_time": "2023-02-15T13:00:30.003Z"
   },
   {
    "duration": 54,
    "start_time": "2023-02-15T13:00:30.023Z"
   },
   {
    "duration": 15,
    "start_time": "2023-02-15T13:00:30.079Z"
   },
   {
    "duration": 31,
    "start_time": "2023-02-15T13:00:30.096Z"
   },
   {
    "duration": 344,
    "start_time": "2023-02-15T13:00:30.129Z"
   },
   {
    "duration": 268,
    "start_time": "2023-02-15T13:00:30.475Z"
   },
   {
    "duration": 1402,
    "start_time": "2023-02-15T13:00:30.752Z"
   },
   {
    "duration": 342,
    "start_time": "2023-02-15T13:00:32.156Z"
   },
   {
    "duration": 2869,
    "start_time": "2023-02-15T13:00:32.500Z"
   },
   {
    "duration": 455,
    "start_time": "2023-02-15T13:00:35.455Z"
   },
   {
    "duration": 3,
    "start_time": "2023-02-15T13:00:35.913Z"
   },
   {
    "duration": 159,
    "start_time": "2023-02-15T13:00:35.918Z"
   },
   {
    "duration": 326,
    "start_time": "2023-02-15T13:00:36.079Z"
   },
   {
    "duration": 62,
    "start_time": "2023-02-15T13:00:36.406Z"
   },
   {
    "duration": 388,
    "start_time": "2023-02-15T13:00:36.470Z"
   },
   {
    "duration": 12,
    "start_time": "2023-02-15T13:00:36.859Z"
   },
   {
    "duration": 10,
    "start_time": "2023-02-15T13:00:36.873Z"
   },
   {
    "duration": 7,
    "start_time": "2023-02-15T13:00:36.885Z"
   },
   {
    "duration": 10,
    "start_time": "2023-02-15T13:00:36.893Z"
   },
   {
    "duration": 11,
    "start_time": "2023-02-15T13:00:36.905Z"
   },
   {
    "duration": 3602,
    "start_time": "2023-02-15T13:00:36.918Z"
   },
   {
    "duration": 5,
    "start_time": "2023-02-15T13:00:40.522Z"
   },
   {
    "duration": 10539,
    "start_time": "2023-02-15T13:00:40.528Z"
   },
   {
    "duration": 584,
    "start_time": "2023-02-15T13:00:51.071Z"
   },
   {
    "duration": 497,
    "start_time": "2023-02-15T13:00:51.658Z"
   },
   {
    "duration": 13,
    "start_time": "2023-02-15T13:00:52.158Z"
   },
   {
    "duration": 0,
    "start_time": "2023-02-15T13:00:52.254Z"
   },
   {
    "duration": 0,
    "start_time": "2023-02-15T13:00:52.255Z"
   },
   {
    "duration": 433,
    "start_time": "2023-02-15T13:01:25.327Z"
   },
   {
    "duration": 56,
    "start_time": "2023-02-15T13:01:52.058Z"
   },
   {
    "duration": 7,
    "start_time": "2023-02-15T13:01:57.311Z"
   },
   {
    "duration": 5,
    "start_time": "2023-02-15T13:02:06.923Z"
   },
   {
    "duration": 69071,
    "start_time": "2023-02-15T13:02:19.342Z"
   },
   {
    "duration": 5,
    "start_time": "2023-02-15T13:03:45.747Z"
   },
   {
    "duration": 1367,
    "start_time": "2023-02-15T13:29:28.649Z"
   },
   {
    "duration": 45,
    "start_time": "2023-02-15T13:29:30.018Z"
   },
   {
    "duration": 11,
    "start_time": "2023-02-15T13:29:30.065Z"
   },
   {
    "duration": 16,
    "start_time": "2023-02-15T13:29:30.077Z"
   },
   {
    "duration": 18,
    "start_time": "2023-02-15T13:29:30.095Z"
   },
   {
    "duration": 8,
    "start_time": "2023-02-15T13:29:30.115Z"
   },
   {
    "duration": 15,
    "start_time": "2023-02-15T13:29:30.125Z"
   },
   {
    "duration": 26,
    "start_time": "2023-02-15T13:29:30.141Z"
   },
   {
    "duration": 278,
    "start_time": "2023-02-15T13:29:30.169Z"
   },
   {
    "duration": 500,
    "start_time": "2023-02-15T13:29:30.453Z"
   },
   {
    "duration": 1511,
    "start_time": "2023-02-15T13:29:30.955Z"
   },
   {
    "duration": 172,
    "start_time": "2023-02-15T13:29:32.468Z"
   },
   {
    "duration": 2220,
    "start_time": "2023-02-15T13:29:32.642Z"
   },
   {
    "duration": 707,
    "start_time": "2023-02-15T13:29:34.957Z"
   },
   {
    "duration": 4,
    "start_time": "2023-02-15T13:29:35.666Z"
   },
   {
    "duration": 292,
    "start_time": "2023-02-15T13:29:35.671Z"
   },
   {
    "duration": 408,
    "start_time": "2023-02-15T13:29:35.965Z"
   },
   {
    "duration": 91,
    "start_time": "2023-02-15T13:29:36.375Z"
   },
   {
    "duration": 704,
    "start_time": "2023-02-15T13:29:36.467Z"
   },
   {
    "duration": 11,
    "start_time": "2023-02-15T13:29:37.172Z"
   },
   {
    "duration": 5,
    "start_time": "2023-02-15T13:29:37.185Z"
   },
   {
    "duration": 8,
    "start_time": "2023-02-15T13:29:37.192Z"
   },
   {
    "duration": 4,
    "start_time": "2023-02-15T13:29:37.254Z"
   },
   {
    "duration": 4,
    "start_time": "2023-02-15T13:29:43.324Z"
   },
   {
    "duration": 1768622,
    "start_time": "2023-02-15T13:29:46.375Z"
   },
   {
    "duration": 278,
    "start_time": "2023-02-15T14:00:33.484Z"
   },
   {
    "duration": 315,
    "start_time": "2023-02-15T14:00:35.139Z"
   },
   {
    "duration": 4,
    "start_time": "2023-02-15T14:01:13.000Z"
   },
   {
    "duration": 3937834,
    "start_time": "2023-02-15T14:01:14.286Z"
   },
   {
    "duration": 239,
    "start_time": "2023-02-15T15:06:52.122Z"
   },
   {
    "duration": 635,
    "start_time": "2023-02-15T15:06:52.452Z"
   },
   {
    "duration": 282771,
    "start_time": "2023-02-15T15:06:53.089Z"
   },
   {
    "duration": 91,
    "start_time": "2023-02-15T15:11:35.863Z"
   },
   {
    "duration": 677,
    "start_time": "2023-02-15T15:18:09.186Z"
   },
   {
    "duration": 197,
    "start_time": "2023-02-15T15:18:27.064Z"
   },
   {
    "duration": 38908,
    "start_time": "2023-02-15T15:28:56.054Z"
   },
   {
    "duration": 6,
    "start_time": "2023-02-15T15:32:53.098Z"
   },
   {
    "duration": 5,
    "start_time": "2023-02-15T15:33:02.121Z"
   },
   {
    "duration": 3,
    "start_time": "2023-02-15T15:33:10.076Z"
   },
   {
    "duration": 4,
    "start_time": "2023-02-15T15:33:20.025Z"
   },
   {
    "duration": 91656,
    "start_time": "2023-02-15T15:33:23.651Z"
   },
   {
    "duration": 5,
    "start_time": "2023-02-15T15:35:47.906Z"
   },
   {
    "duration": 265903,
    "start_time": "2023-02-15T15:35:50.933Z"
   },
   {
    "duration": 28952,
    "start_time": "2023-02-15T15:41:27.394Z"
   },
   {
    "duration": 0,
    "start_time": "2023-02-15T15:41:56.348Z"
   },
   {
    "duration": 4,
    "start_time": "2023-02-15T15:42:02.129Z"
   },
   {
    "duration": 38719,
    "start_time": "2023-02-15T15:42:11.486Z"
   }
  ],
  "kernelspec": {
   "display_name": "Python 3 (ipykernel)",
   "language": "python",
   "name": "python3"
  },
  "language_info": {
   "codemirror_mode": {
    "name": "ipython",
    "version": 3
   },
   "file_extension": ".py",
   "mimetype": "text/x-python",
   "name": "python",
   "nbconvert_exporter": "python",
   "pygments_lexer": "ipython3",
   "version": "3.9.12"
  },
  "toc": {
   "base_numbering": 1,
   "nav_menu": {},
   "number_sections": true,
   "sideBar": true,
   "skip_h1_title": true,
   "title_cell": "Содержание",
   "title_sidebar": "Contents",
   "toc_cell": true,
   "toc_position": {
    "height": "calc(100% - 180px)",
    "left": "10px",
    "top": "150px",
    "width": "318.188px"
   },
   "toc_section_display": true,
   "toc_window_display": false
  }
 },
 "nbformat": 4,
 "nbformat_minor": 2
}
