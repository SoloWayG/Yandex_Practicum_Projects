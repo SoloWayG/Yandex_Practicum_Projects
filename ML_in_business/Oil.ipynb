{
 "cells": [
  {
   "cell_type": "markdown",
   "metadata": {},
   "source": [
    "# Выбор локации для скважины"
   ]
  },
  {
   "cell_type": "markdown",
   "metadata": {},
   "source": [
    "Допустим, вы работаете в добывающей компании «ГлавРосГосНефть». Нужно решить, где бурить новую скважину.\n",
    "\n",
    "Вам предоставлены пробы нефти в трёх регионах: в каждом 10 000 месторождений, где измерили качество нефти и объём её запасов. Постройте модель машинного обучения, которая поможет определить регион, где добыча принесёт наибольшую прибыль. Проанализируйте возможную прибыль и риски техникой *Bootstrap.*\n",
    "\n",
    "Шаги для выбора локации:\n",
    "\n",
    "- В избранном регионе ищут месторождения, для каждого определяют значения признаков;\n",
    "- Строят модель и оценивают объём запасов;\n",
    "- Выбирают месторождения с самым высокими оценками значений. Количество месторождений зависит от бюджета компании и стоимости разработки одной скважины;\n",
    "- Прибыль равна суммарной прибыли отобранных месторождений."
   ]
  },
  {
   "cell_type": "markdown",
   "metadata": {},
   "source": [
    "## Загрузка и подготовка данных"
   ]
  },
  {
   "cell_type": "code",
   "execution_count": 2,
   "metadata": {},
   "outputs": [],
   "source": [
    "import pandas as pd\n",
    "import numpy as np\n",
    "from scipy import stats as st \n",
    "\n",
    "from sklearn.model_selection import train_test_split\n",
    "\n",
    "import seaborn as sns\n",
    "\n",
    "from sklearn.preprocessing import StandardScaler\n",
    "from sklearn.linear_model import LinearRegression\n",
    "from sklearn.linear_model import HuberRegressor\n",
    "from sklearn.linear_model import SGDRegressor\n",
    "\n",
    "from sklearn.metrics import mean_squared_error\n",
    "from sklearn.metrics import r2_score\n",
    "\n",
    "from sklearn.model_selection import GridSearchCV,RandomizedSearchCV\n",
    "from sklearn.pipeline import make_pipeline\n",
    "from sklearn.datasets import make_classification\n",
    "from sklearn.model_selection import cross_val_score"
   ]
  },
  {
   "cell_type": "code",
   "execution_count": 3,
   "metadata": {},
   "outputs": [],
   "source": [
    "data_0 = pd.read_csv('/datasets/geo_data_0.csv')\n",
    "data_1 = pd.read_csv('/datasets/geo_data_1.csv')\n",
    "data_2 = pd.read_csv('/datasets/geo_data_2.csv')"
   ]
  },
  {
   "cell_type": "code",
   "execution_count": 4,
   "metadata": {},
   "outputs": [
    {
     "data": {
      "text/plain": [
       "'Region0'"
      ]
     },
     "metadata": {},
     "output_type": "display_data"
    },
    {
     "data": {
      "text/html": [
       "<div>\n",
       "<style scoped>\n",
       "    .dataframe tbody tr th:only-of-type {\n",
       "        vertical-align: middle;\n",
       "    }\n",
       "\n",
       "    .dataframe tbody tr th {\n",
       "        vertical-align: top;\n",
       "    }\n",
       "\n",
       "    .dataframe thead th {\n",
       "        text-align: right;\n",
       "    }\n",
       "</style>\n",
       "<table border=\"1\" class=\"dataframe\">\n",
       "  <thead>\n",
       "    <tr style=\"text-align: right;\">\n",
       "      <th></th>\n",
       "      <th>id</th>\n",
       "      <th>f0</th>\n",
       "      <th>f1</th>\n",
       "      <th>f2</th>\n",
       "      <th>product</th>\n",
       "    </tr>\n",
       "  </thead>\n",
       "  <tbody>\n",
       "    <tr>\n",
       "      <th>0</th>\n",
       "      <td>txEyH</td>\n",
       "      <td>0.705745</td>\n",
       "      <td>-0.497823</td>\n",
       "      <td>1.221170</td>\n",
       "      <td>105.280062</td>\n",
       "    </tr>\n",
       "    <tr>\n",
       "      <th>1</th>\n",
       "      <td>2acmU</td>\n",
       "      <td>1.334711</td>\n",
       "      <td>-0.340164</td>\n",
       "      <td>4.365080</td>\n",
       "      <td>73.037750</td>\n",
       "    </tr>\n",
       "    <tr>\n",
       "      <th>2</th>\n",
       "      <td>409Wp</td>\n",
       "      <td>1.022732</td>\n",
       "      <td>0.151990</td>\n",
       "      <td>1.419926</td>\n",
       "      <td>85.265647</td>\n",
       "    </tr>\n",
       "    <tr>\n",
       "      <th>3</th>\n",
       "      <td>iJLyR</td>\n",
       "      <td>-0.032172</td>\n",
       "      <td>0.139033</td>\n",
       "      <td>2.978566</td>\n",
       "      <td>168.620776</td>\n",
       "    </tr>\n",
       "    <tr>\n",
       "      <th>4</th>\n",
       "      <td>Xdl7t</td>\n",
       "      <td>1.988431</td>\n",
       "      <td>0.155413</td>\n",
       "      <td>4.751769</td>\n",
       "      <td>154.036647</td>\n",
       "    </tr>\n",
       "  </tbody>\n",
       "</table>\n",
       "</div>"
      ],
      "text/plain": [
       "      id        f0        f1        f2     product\n",
       "0  txEyH  0.705745 -0.497823  1.221170  105.280062\n",
       "1  2acmU  1.334711 -0.340164  4.365080   73.037750\n",
       "2  409Wp  1.022732  0.151990  1.419926   85.265647\n",
       "3  iJLyR -0.032172  0.139033  2.978566  168.620776\n",
       "4  Xdl7t  1.988431  0.155413  4.751769  154.036647"
      ]
     },
     "metadata": {},
     "output_type": "display_data"
    },
    {
     "data": {
      "text/plain": [
       "'Region1'"
      ]
     },
     "metadata": {},
     "output_type": "display_data"
    },
    {
     "data": {
      "text/html": [
       "<div>\n",
       "<style scoped>\n",
       "    .dataframe tbody tr th:only-of-type {\n",
       "        vertical-align: middle;\n",
       "    }\n",
       "\n",
       "    .dataframe tbody tr th {\n",
       "        vertical-align: top;\n",
       "    }\n",
       "\n",
       "    .dataframe thead th {\n",
       "        text-align: right;\n",
       "    }\n",
       "</style>\n",
       "<table border=\"1\" class=\"dataframe\">\n",
       "  <thead>\n",
       "    <tr style=\"text-align: right;\">\n",
       "      <th></th>\n",
       "      <th>id</th>\n",
       "      <th>f0</th>\n",
       "      <th>f1</th>\n",
       "      <th>f2</th>\n",
       "      <th>product</th>\n",
       "    </tr>\n",
       "  </thead>\n",
       "  <tbody>\n",
       "    <tr>\n",
       "      <th>0</th>\n",
       "      <td>kBEdx</td>\n",
       "      <td>-15.001348</td>\n",
       "      <td>-8.276000</td>\n",
       "      <td>-0.005876</td>\n",
       "      <td>3.179103</td>\n",
       "    </tr>\n",
       "    <tr>\n",
       "      <th>1</th>\n",
       "      <td>62mP7</td>\n",
       "      <td>14.272088</td>\n",
       "      <td>-3.475083</td>\n",
       "      <td>0.999183</td>\n",
       "      <td>26.953261</td>\n",
       "    </tr>\n",
       "    <tr>\n",
       "      <th>2</th>\n",
       "      <td>vyE1P</td>\n",
       "      <td>6.263187</td>\n",
       "      <td>-5.948386</td>\n",
       "      <td>5.001160</td>\n",
       "      <td>134.766305</td>\n",
       "    </tr>\n",
       "    <tr>\n",
       "      <th>3</th>\n",
       "      <td>KcrkZ</td>\n",
       "      <td>-13.081196</td>\n",
       "      <td>-11.506057</td>\n",
       "      <td>4.999415</td>\n",
       "      <td>137.945408</td>\n",
       "    </tr>\n",
       "    <tr>\n",
       "      <th>4</th>\n",
       "      <td>AHL4O</td>\n",
       "      <td>12.702195</td>\n",
       "      <td>-8.147433</td>\n",
       "      <td>5.004363</td>\n",
       "      <td>134.766305</td>\n",
       "    </tr>\n",
       "  </tbody>\n",
       "</table>\n",
       "</div>"
      ],
      "text/plain": [
       "      id         f0         f1        f2     product\n",
       "0  kBEdx -15.001348  -8.276000 -0.005876    3.179103\n",
       "1  62mP7  14.272088  -3.475083  0.999183   26.953261\n",
       "2  vyE1P   6.263187  -5.948386  5.001160  134.766305\n",
       "3  KcrkZ -13.081196 -11.506057  4.999415  137.945408\n",
       "4  AHL4O  12.702195  -8.147433  5.004363  134.766305"
      ]
     },
     "metadata": {},
     "output_type": "display_data"
    },
    {
     "data": {
      "text/plain": [
       "'Region2'"
      ]
     },
     "metadata": {},
     "output_type": "display_data"
    },
    {
     "data": {
      "text/html": [
       "<div>\n",
       "<style scoped>\n",
       "    .dataframe tbody tr th:only-of-type {\n",
       "        vertical-align: middle;\n",
       "    }\n",
       "\n",
       "    .dataframe tbody tr th {\n",
       "        vertical-align: top;\n",
       "    }\n",
       "\n",
       "    .dataframe thead th {\n",
       "        text-align: right;\n",
       "    }\n",
       "</style>\n",
       "<table border=\"1\" class=\"dataframe\">\n",
       "  <thead>\n",
       "    <tr style=\"text-align: right;\">\n",
       "      <th></th>\n",
       "      <th>id</th>\n",
       "      <th>f0</th>\n",
       "      <th>f1</th>\n",
       "      <th>f2</th>\n",
       "      <th>product</th>\n",
       "    </tr>\n",
       "  </thead>\n",
       "  <tbody>\n",
       "    <tr>\n",
       "      <th>0</th>\n",
       "      <td>fwXo0</td>\n",
       "      <td>-1.146987</td>\n",
       "      <td>0.963328</td>\n",
       "      <td>-0.828965</td>\n",
       "      <td>27.758673</td>\n",
       "    </tr>\n",
       "    <tr>\n",
       "      <th>1</th>\n",
       "      <td>WJtFt</td>\n",
       "      <td>0.262778</td>\n",
       "      <td>0.269839</td>\n",
       "      <td>-2.530187</td>\n",
       "      <td>56.069697</td>\n",
       "    </tr>\n",
       "    <tr>\n",
       "      <th>2</th>\n",
       "      <td>ovLUW</td>\n",
       "      <td>0.194587</td>\n",
       "      <td>0.289035</td>\n",
       "      <td>-5.586433</td>\n",
       "      <td>62.871910</td>\n",
       "    </tr>\n",
       "    <tr>\n",
       "      <th>3</th>\n",
       "      <td>q6cA6</td>\n",
       "      <td>2.236060</td>\n",
       "      <td>-0.553760</td>\n",
       "      <td>0.930038</td>\n",
       "      <td>114.572842</td>\n",
       "    </tr>\n",
       "    <tr>\n",
       "      <th>4</th>\n",
       "      <td>WPMUX</td>\n",
       "      <td>-0.515993</td>\n",
       "      <td>1.716266</td>\n",
       "      <td>5.899011</td>\n",
       "      <td>149.600746</td>\n",
       "    </tr>\n",
       "  </tbody>\n",
       "</table>\n",
       "</div>"
      ],
      "text/plain": [
       "      id        f0        f1        f2     product\n",
       "0  fwXo0 -1.146987  0.963328 -0.828965   27.758673\n",
       "1  WJtFt  0.262778  0.269839 -2.530187   56.069697\n",
       "2  ovLUW  0.194587  0.289035 -5.586433   62.871910\n",
       "3  q6cA6  2.236060 -0.553760  0.930038  114.572842\n",
       "4  WPMUX -0.515993  1.716266  5.899011  149.600746"
      ]
     },
     "metadata": {},
     "output_type": "display_data"
    }
   ],
   "source": [
    "display('Region0',data_0.head())\n",
    "display('Region1',data_1.head())\n",
    "display('Region2',data_2.head())"
   ]
  },
  {
   "cell_type": "markdown",
   "metadata": {},
   "source": [
    "Вот наши рабочие данные, 4 столбца со значениями, и столбец с id скважины. К сожалению у нас нет данные по столбцам f, это условные показатели качества нефти. Рассматривать их я не буду в дальнешем анализе, но будем на основании их обучать модель."
   ]
  },
  {
   "cell_type": "code",
   "execution_count": 5,
   "metadata": {},
   "outputs": [
    {
     "data": {
      "text/plain": [
       "'Region0'"
      ]
     },
     "metadata": {},
     "output_type": "display_data"
    },
    {
     "data": {
      "text/html": [
       "<div>\n",
       "<style scoped>\n",
       "    .dataframe tbody tr th:only-of-type {\n",
       "        vertical-align: middle;\n",
       "    }\n",
       "\n",
       "    .dataframe tbody tr th {\n",
       "        vertical-align: top;\n",
       "    }\n",
       "\n",
       "    .dataframe thead th {\n",
       "        text-align: right;\n",
       "    }\n",
       "</style>\n",
       "<table border=\"1\" class=\"dataframe\">\n",
       "  <thead>\n",
       "    <tr style=\"text-align: right;\">\n",
       "      <th></th>\n",
       "      <th>f0</th>\n",
       "      <th>f1</th>\n",
       "      <th>f2</th>\n",
       "      <th>product</th>\n",
       "    </tr>\n",
       "  </thead>\n",
       "  <tbody>\n",
       "    <tr>\n",
       "      <th>count</th>\n",
       "      <td>100000.000000</td>\n",
       "      <td>100000.000000</td>\n",
       "      <td>100000.000000</td>\n",
       "      <td>100000.000000</td>\n",
       "    </tr>\n",
       "    <tr>\n",
       "      <th>mean</th>\n",
       "      <td>0.500419</td>\n",
       "      <td>0.250143</td>\n",
       "      <td>2.502647</td>\n",
       "      <td>92.500000</td>\n",
       "    </tr>\n",
       "    <tr>\n",
       "      <th>std</th>\n",
       "      <td>0.871832</td>\n",
       "      <td>0.504433</td>\n",
       "      <td>3.248248</td>\n",
       "      <td>44.288691</td>\n",
       "    </tr>\n",
       "    <tr>\n",
       "      <th>min</th>\n",
       "      <td>-1.408605</td>\n",
       "      <td>-0.848218</td>\n",
       "      <td>-12.088328</td>\n",
       "      <td>0.000000</td>\n",
       "    </tr>\n",
       "    <tr>\n",
       "      <th>25%</th>\n",
       "      <td>-0.072580</td>\n",
       "      <td>-0.200881</td>\n",
       "      <td>0.287748</td>\n",
       "      <td>56.497507</td>\n",
       "    </tr>\n",
       "    <tr>\n",
       "      <th>50%</th>\n",
       "      <td>0.502360</td>\n",
       "      <td>0.250252</td>\n",
       "      <td>2.515969</td>\n",
       "      <td>91.849972</td>\n",
       "    </tr>\n",
       "    <tr>\n",
       "      <th>75%</th>\n",
       "      <td>1.073581</td>\n",
       "      <td>0.700646</td>\n",
       "      <td>4.715088</td>\n",
       "      <td>128.564089</td>\n",
       "    </tr>\n",
       "    <tr>\n",
       "      <th>max</th>\n",
       "      <td>2.362331</td>\n",
       "      <td>1.343769</td>\n",
       "      <td>16.003790</td>\n",
       "      <td>185.364347</td>\n",
       "    </tr>\n",
       "  </tbody>\n",
       "</table>\n",
       "</div>"
      ],
      "text/plain": [
       "                  f0             f1             f2        product\n",
       "count  100000.000000  100000.000000  100000.000000  100000.000000\n",
       "mean        0.500419       0.250143       2.502647      92.500000\n",
       "std         0.871832       0.504433       3.248248      44.288691\n",
       "min        -1.408605      -0.848218     -12.088328       0.000000\n",
       "25%        -0.072580      -0.200881       0.287748      56.497507\n",
       "50%         0.502360       0.250252       2.515969      91.849972\n",
       "75%         1.073581       0.700646       4.715088     128.564089\n",
       "max         2.362331       1.343769      16.003790     185.364347"
      ]
     },
     "metadata": {},
     "output_type": "display_data"
    },
    {
     "data": {
      "text/plain": [
       "'Region1'"
      ]
     },
     "metadata": {},
     "output_type": "display_data"
    },
    {
     "data": {
      "text/html": [
       "<div>\n",
       "<style scoped>\n",
       "    .dataframe tbody tr th:only-of-type {\n",
       "        vertical-align: middle;\n",
       "    }\n",
       "\n",
       "    .dataframe tbody tr th {\n",
       "        vertical-align: top;\n",
       "    }\n",
       "\n",
       "    .dataframe thead th {\n",
       "        text-align: right;\n",
       "    }\n",
       "</style>\n",
       "<table border=\"1\" class=\"dataframe\">\n",
       "  <thead>\n",
       "    <tr style=\"text-align: right;\">\n",
       "      <th></th>\n",
       "      <th>f0</th>\n",
       "      <th>f1</th>\n",
       "      <th>f2</th>\n",
       "      <th>product</th>\n",
       "    </tr>\n",
       "  </thead>\n",
       "  <tbody>\n",
       "    <tr>\n",
       "      <th>count</th>\n",
       "      <td>100000.000000</td>\n",
       "      <td>100000.000000</td>\n",
       "      <td>100000.000000</td>\n",
       "      <td>100000.000000</td>\n",
       "    </tr>\n",
       "    <tr>\n",
       "      <th>mean</th>\n",
       "      <td>1.141296</td>\n",
       "      <td>-4.796579</td>\n",
       "      <td>2.494541</td>\n",
       "      <td>68.825000</td>\n",
       "    </tr>\n",
       "    <tr>\n",
       "      <th>std</th>\n",
       "      <td>8.965932</td>\n",
       "      <td>5.119872</td>\n",
       "      <td>1.703572</td>\n",
       "      <td>45.944423</td>\n",
       "    </tr>\n",
       "    <tr>\n",
       "      <th>min</th>\n",
       "      <td>-31.609576</td>\n",
       "      <td>-26.358598</td>\n",
       "      <td>-0.018144</td>\n",
       "      <td>0.000000</td>\n",
       "    </tr>\n",
       "    <tr>\n",
       "      <th>25%</th>\n",
       "      <td>-6.298551</td>\n",
       "      <td>-8.267985</td>\n",
       "      <td>1.000021</td>\n",
       "      <td>26.953261</td>\n",
       "    </tr>\n",
       "    <tr>\n",
       "      <th>50%</th>\n",
       "      <td>1.153055</td>\n",
       "      <td>-4.813172</td>\n",
       "      <td>2.011479</td>\n",
       "      <td>57.085625</td>\n",
       "    </tr>\n",
       "    <tr>\n",
       "      <th>75%</th>\n",
       "      <td>8.621015</td>\n",
       "      <td>-1.332816</td>\n",
       "      <td>3.999904</td>\n",
       "      <td>107.813044</td>\n",
       "    </tr>\n",
       "    <tr>\n",
       "      <th>max</th>\n",
       "      <td>29.421755</td>\n",
       "      <td>18.734063</td>\n",
       "      <td>5.019721</td>\n",
       "      <td>137.945408</td>\n",
       "    </tr>\n",
       "  </tbody>\n",
       "</table>\n",
       "</div>"
      ],
      "text/plain": [
       "                  f0             f1             f2        product\n",
       "count  100000.000000  100000.000000  100000.000000  100000.000000\n",
       "mean        1.141296      -4.796579       2.494541      68.825000\n",
       "std         8.965932       5.119872       1.703572      45.944423\n",
       "min       -31.609576     -26.358598      -0.018144       0.000000\n",
       "25%        -6.298551      -8.267985       1.000021      26.953261\n",
       "50%         1.153055      -4.813172       2.011479      57.085625\n",
       "75%         8.621015      -1.332816       3.999904     107.813044\n",
       "max        29.421755      18.734063       5.019721     137.945408"
      ]
     },
     "metadata": {},
     "output_type": "display_data"
    },
    {
     "data": {
      "text/plain": [
       "'Region2'"
      ]
     },
     "metadata": {},
     "output_type": "display_data"
    },
    {
     "data": {
      "text/html": [
       "<div>\n",
       "<style scoped>\n",
       "    .dataframe tbody tr th:only-of-type {\n",
       "        vertical-align: middle;\n",
       "    }\n",
       "\n",
       "    .dataframe tbody tr th {\n",
       "        vertical-align: top;\n",
       "    }\n",
       "\n",
       "    .dataframe thead th {\n",
       "        text-align: right;\n",
       "    }\n",
       "</style>\n",
       "<table border=\"1\" class=\"dataframe\">\n",
       "  <thead>\n",
       "    <tr style=\"text-align: right;\">\n",
       "      <th></th>\n",
       "      <th>f0</th>\n",
       "      <th>f1</th>\n",
       "      <th>f2</th>\n",
       "      <th>product</th>\n",
       "    </tr>\n",
       "  </thead>\n",
       "  <tbody>\n",
       "    <tr>\n",
       "      <th>count</th>\n",
       "      <td>100000.000000</td>\n",
       "      <td>100000.000000</td>\n",
       "      <td>100000.000000</td>\n",
       "      <td>100000.000000</td>\n",
       "    </tr>\n",
       "    <tr>\n",
       "      <th>mean</th>\n",
       "      <td>0.002023</td>\n",
       "      <td>-0.002081</td>\n",
       "      <td>2.495128</td>\n",
       "      <td>95.000000</td>\n",
       "    </tr>\n",
       "    <tr>\n",
       "      <th>std</th>\n",
       "      <td>1.732045</td>\n",
       "      <td>1.730417</td>\n",
       "      <td>3.473445</td>\n",
       "      <td>44.749921</td>\n",
       "    </tr>\n",
       "    <tr>\n",
       "      <th>min</th>\n",
       "      <td>-8.760004</td>\n",
       "      <td>-7.084020</td>\n",
       "      <td>-11.970335</td>\n",
       "      <td>0.000000</td>\n",
       "    </tr>\n",
       "    <tr>\n",
       "      <th>25%</th>\n",
       "      <td>-1.162288</td>\n",
       "      <td>-1.174820</td>\n",
       "      <td>0.130359</td>\n",
       "      <td>59.450441</td>\n",
       "    </tr>\n",
       "    <tr>\n",
       "      <th>50%</th>\n",
       "      <td>0.009424</td>\n",
       "      <td>-0.009482</td>\n",
       "      <td>2.484236</td>\n",
       "      <td>94.925613</td>\n",
       "    </tr>\n",
       "    <tr>\n",
       "      <th>75%</th>\n",
       "      <td>1.158535</td>\n",
       "      <td>1.163678</td>\n",
       "      <td>4.858794</td>\n",
       "      <td>130.595027</td>\n",
       "    </tr>\n",
       "    <tr>\n",
       "      <th>max</th>\n",
       "      <td>7.238262</td>\n",
       "      <td>7.844801</td>\n",
       "      <td>16.739402</td>\n",
       "      <td>190.029838</td>\n",
       "    </tr>\n",
       "  </tbody>\n",
       "</table>\n",
       "</div>"
      ],
      "text/plain": [
       "                  f0             f1             f2        product\n",
       "count  100000.000000  100000.000000  100000.000000  100000.000000\n",
       "mean        0.002023      -0.002081       2.495128      95.000000\n",
       "std         1.732045       1.730417       3.473445      44.749921\n",
       "min        -8.760004      -7.084020     -11.970335       0.000000\n",
       "25%        -1.162288      -1.174820       0.130359      59.450441\n",
       "50%         0.009424      -0.009482       2.484236      94.925613\n",
       "75%         1.158535       1.163678       4.858794     130.595027\n",
       "max         7.238262       7.844801      16.739402     190.029838"
      ]
     },
     "metadata": {},
     "output_type": "display_data"
    }
   ],
   "source": [
    "display('Region0',data_0.describe())\n",
    "display('Region1',data_1.describe())\n",
    "display('Region2',data_2.describe())"
   ]
  },
  {
   "cell_type": "markdown",
   "metadata": {},
   "source": [
    "По собранным параметрам данных можно заключить, что среднее ст отклонения объемов добычи нефти примерно одинаковы по всех регионах. Максимальные значения по каждой скважине имеются во 2 регионе, наименьшее максимальное значение имеется в 1. В Целом распределение добычи нефти хорошо видно по гистограммам, ниже посмотрим на них."
   ]
  },
  {
   "cell_type": "code",
   "execution_count": 6,
   "metadata": {},
   "outputs": [
    {
     "data": {
      "image/png": "[encoded data removed]",
      "text/plain": [
       "<Figure size 432x288 with 4 Axes>"
      ]
     },
     "metadata": {
      "needs_background": "light"
     },
     "output_type": "display_data"
    },
    {
     "data": {
      "image/png": "[encoded data removed]",
      "text/plain": [
       "<Figure size 432x288 with 4 Axes>"
      ]
     },
     "metadata": {
      "needs_background": "light"
     },
     "output_type": "display_data"
    },
    {
     "data": {
      "image/png": "[encoded data removed]",
      "text/plain": [
       "<Figure size 432x288 with 4 Axes>"
      ]
     },
     "metadata": {
      "needs_background": "light"
     },
     "output_type": "display_data"
    }
   ],
   "source": [
    "data_0.hist();\n",
    "data_1.hist();\n",
    "data_2.hist();"
   ]
  },
  {
   "cell_type": "markdown",
   "metadata": {},
   "source": [
    "Распределение параметров в регионе 1 отличается от 0 и 2. Возможно это скажется на резульатах. Пока это выглядит так, что регионы 0 и 2 чем-то схожы, а 1 должен иметь отличия по добычи и качеству нефти."
   ]
  },
  {
   "cell_type": "code",
   "execution_count": 7,
   "metadata": {},
   "outputs": [],
   "source": [
    "regions=[data_0,data_1,data_2]"
   ]
  },
  {
   "cell_type": "markdown",
   "metadata": {},
   "source": [
    "Проверка на дубликаты"
   ]
  },
  {
   "cell_type": "code",
   "execution_count": 8,
   "metadata": {},
   "outputs": [
    {
     "name": "stdout",
     "output_type": "stream",
     "text": [
      "Empty DataFrame\n",
      "Columns: [id, f0, f1, f2, product]\n",
      "Index: []\n",
      "Empty DataFrame\n",
      "Columns: [id, f0, f1, f2, product]\n",
      "Index: []\n",
      "Empty DataFrame\n",
      "Columns: [id, f0, f1, f2, product]\n",
      "Index: []\n"
     ]
    }
   ],
   "source": [
    "for i in regions:\n",
    "    print(i[i.duplicated()])"
   ]
  },
  {
   "cell_type": "code",
   "execution_count": 9,
   "metadata": {},
   "outputs": [
    {
     "name": "stdout",
     "output_type": "stream",
     "text": [
      "          id        f0        f1         f2     product\n",
      "7530   HZww2  1.061194 -0.373969  10.430210  158.828695\n",
      "41724  bxg6G -0.823752  0.546319   3.630479   93.007798\n",
      "51970  A5aEY -0.180335  0.935548  -2.094773   33.020205\n",
      "63593  QcMuo  0.635635 -0.473422   0.862670   64.578675\n",
      "66136  74z30  1.084962 -0.312358   6.990771  127.643327\n",
      "69163  AGS9W -0.933795  0.116194  -3.655896   19.230453\n",
      "75715  Tdehs  0.112079  0.430296   3.218993   60.964018\n",
      "90815  fiKDv  0.049883  0.841313   6.394613  137.346586\n",
      "92341  TtcGQ  0.110711  1.022689   0.911381  101.318008\n",
      "97785  bsk9y  0.378429  0.005837   0.160827  160.637302\n",
      "          id         f0        f1        f2     product\n",
      "41906  LHZR0  -8.989672 -4.286607  2.009139   57.085625\n",
      "82178  bfPNe  -6.202799 -4.820045  2.995107   84.038886\n",
      "82873  wt4Uk  10.259972 -9.376355  4.994297  134.766305\n",
      "84461  5ltQ6  18.213839  2.191999  3.993869  107.813044\n",
      "          id        f0        f1        f2     product\n",
      "43233  xCHr8 -0.847066  2.101796  5.597130  184.388641\n",
      "49564  VF7Jo -0.883115  0.560537  0.723601  136.233420\n",
      "55967  KUPhW  1.211150  3.176408  5.543540  132.831802\n",
      "95090  Vcm5J  2.587702  1.986875  2.482245   92.327572\n"
     ]
    }
   ],
   "source": [
    "for i in regions:\n",
    "    print(i[i.duplicated(subset = ['id'])])"
   ]
  },
  {
   "cell_type": "markdown",
   "metadata": {},
   "source": [
    "Есть дубликаты по id скважины, я думаю их немного, и можно спокойно их отбросить"
   ]
  },
  {
   "cell_type": "code",
   "execution_count": 10,
   "metadata": {},
   "outputs": [
    {
     "name": "stdout",
     "output_type": "stream",
     "text": [
      "Empty DataFrame\n",
      "Columns: [id, f0, f1, f2, product]\n",
      "Index: []\n",
      "Empty DataFrame\n",
      "Columns: [id, f0, f1, f2, product]\n",
      "Index: []\n",
      "Empty DataFrame\n",
      "Columns: [id, f0, f1, f2, product]\n",
      "Index: []\n"
     ]
    }
   ],
   "source": [
    "for i in regions:\n",
    "    i=(i.drop_duplicates(subset = ['id']))\n",
    "    i=i.reset_index(drop=True)\n",
    "    print(i[i.duplicated(subset = ['id'])])"
   ]
  },
  {
   "cell_type": "markdown",
   "metadata": {},
   "source": [
    "Убрал дубликаты. Далее необходимо убрать столбец id, он более не пригодится. И посмотрим как выглядят таблицы с данными теперь:"
   ]
  },
  {
   "cell_type": "code",
   "execution_count": 11,
   "metadata": {},
   "outputs": [
    {
     "data": {
      "text/plain": [
       "'Region0'"
      ]
     },
     "metadata": {},
     "output_type": "display_data"
    },
    {
     "data": {
      "text/html": [
       "<div>\n",
       "<style scoped>\n",
       "    .dataframe tbody tr th:only-of-type {\n",
       "        vertical-align: middle;\n",
       "    }\n",
       "\n",
       "    .dataframe tbody tr th {\n",
       "        vertical-align: top;\n",
       "    }\n",
       "\n",
       "    .dataframe thead th {\n",
       "        text-align: right;\n",
       "    }\n",
       "</style>\n",
       "<table border=\"1\" class=\"dataframe\">\n",
       "  <thead>\n",
       "    <tr style=\"text-align: right;\">\n",
       "      <th></th>\n",
       "      <th>f0</th>\n",
       "      <th>f1</th>\n",
       "      <th>f2</th>\n",
       "      <th>product</th>\n",
       "    </tr>\n",
       "  </thead>\n",
       "  <tbody>\n",
       "    <tr>\n",
       "      <th>0</th>\n",
       "      <td>0.705745</td>\n",
       "      <td>-0.497823</td>\n",
       "      <td>1.221170</td>\n",
       "      <td>105.280062</td>\n",
       "    </tr>\n",
       "    <tr>\n",
       "      <th>1</th>\n",
       "      <td>1.334711</td>\n",
       "      <td>-0.340164</td>\n",
       "      <td>4.365080</td>\n",
       "      <td>73.037750</td>\n",
       "    </tr>\n",
       "    <tr>\n",
       "      <th>2</th>\n",
       "      <td>1.022732</td>\n",
       "      <td>0.151990</td>\n",
       "      <td>1.419926</td>\n",
       "      <td>85.265647</td>\n",
       "    </tr>\n",
       "    <tr>\n",
       "      <th>3</th>\n",
       "      <td>-0.032172</td>\n",
       "      <td>0.139033</td>\n",
       "      <td>2.978566</td>\n",
       "      <td>168.620776</td>\n",
       "    </tr>\n",
       "    <tr>\n",
       "      <th>4</th>\n",
       "      <td>1.988431</td>\n",
       "      <td>0.155413</td>\n",
       "      <td>4.751769</td>\n",
       "      <td>154.036647</td>\n",
       "    </tr>\n",
       "  </tbody>\n",
       "</table>\n",
       "</div>"
      ],
      "text/plain": [
       "         f0        f1        f2     product\n",
       "0  0.705745 -0.497823  1.221170  105.280062\n",
       "1  1.334711 -0.340164  4.365080   73.037750\n",
       "2  1.022732  0.151990  1.419926   85.265647\n",
       "3 -0.032172  0.139033  2.978566  168.620776\n",
       "4  1.988431  0.155413  4.751769  154.036647"
      ]
     },
     "metadata": {},
     "output_type": "display_data"
    },
    {
     "data": {
      "text/plain": [
       "'Region1'"
      ]
     },
     "metadata": {},
     "output_type": "display_data"
    },
    {
     "data": {
      "text/html": [
       "<div>\n",
       "<style scoped>\n",
       "    .dataframe tbody tr th:only-of-type {\n",
       "        vertical-align: middle;\n",
       "    }\n",
       "\n",
       "    .dataframe tbody tr th {\n",
       "        vertical-align: top;\n",
       "    }\n",
       "\n",
       "    .dataframe thead th {\n",
       "        text-align: right;\n",
       "    }\n",
       "</style>\n",
       "<table border=\"1\" class=\"dataframe\">\n",
       "  <thead>\n",
       "    <tr style=\"text-align: right;\">\n",
       "      <th></th>\n",
       "      <th>f0</th>\n",
       "      <th>f1</th>\n",
       "      <th>f2</th>\n",
       "      <th>product</th>\n",
       "    </tr>\n",
       "  </thead>\n",
       "  <tbody>\n",
       "    <tr>\n",
       "      <th>0</th>\n",
       "      <td>-15.001348</td>\n",
       "      <td>-8.276000</td>\n",
       "      <td>-0.005876</td>\n",
       "      <td>3.179103</td>\n",
       "    </tr>\n",
       "    <tr>\n",
       "      <th>1</th>\n",
       "      <td>14.272088</td>\n",
       "      <td>-3.475083</td>\n",
       "      <td>0.999183</td>\n",
       "      <td>26.953261</td>\n",
       "    </tr>\n",
       "    <tr>\n",
       "      <th>2</th>\n",
       "      <td>6.263187</td>\n",
       "      <td>-5.948386</td>\n",
       "      <td>5.001160</td>\n",
       "      <td>134.766305</td>\n",
       "    </tr>\n",
       "    <tr>\n",
       "      <th>3</th>\n",
       "      <td>-13.081196</td>\n",
       "      <td>-11.506057</td>\n",
       "      <td>4.999415</td>\n",
       "      <td>137.945408</td>\n",
       "    </tr>\n",
       "    <tr>\n",
       "      <th>4</th>\n",
       "      <td>12.702195</td>\n",
       "      <td>-8.147433</td>\n",
       "      <td>5.004363</td>\n",
       "      <td>134.766305</td>\n",
       "    </tr>\n",
       "  </tbody>\n",
       "</table>\n",
       "</div>"
      ],
      "text/plain": [
       "          f0         f1        f2     product\n",
       "0 -15.001348  -8.276000 -0.005876    3.179103\n",
       "1  14.272088  -3.475083  0.999183   26.953261\n",
       "2   6.263187  -5.948386  5.001160  134.766305\n",
       "3 -13.081196 -11.506057  4.999415  137.945408\n",
       "4  12.702195  -8.147433  5.004363  134.766305"
      ]
     },
     "metadata": {},
     "output_type": "display_data"
    },
    {
     "data": {
      "text/plain": [
       "'Region2'"
      ]
     },
     "metadata": {},
     "output_type": "display_data"
    },
    {
     "data": {
      "text/html": [
       "<div>\n",
       "<style scoped>\n",
       "    .dataframe tbody tr th:only-of-type {\n",
       "        vertical-align: middle;\n",
       "    }\n",
       "\n",
       "    .dataframe tbody tr th {\n",
       "        vertical-align: top;\n",
       "    }\n",
       "\n",
       "    .dataframe thead th {\n",
       "        text-align: right;\n",
       "    }\n",
       "</style>\n",
       "<table border=\"1\" class=\"dataframe\">\n",
       "  <thead>\n",
       "    <tr style=\"text-align: right;\">\n",
       "      <th></th>\n",
       "      <th>f0</th>\n",
       "      <th>f1</th>\n",
       "      <th>f2</th>\n",
       "      <th>product</th>\n",
       "    </tr>\n",
       "  </thead>\n",
       "  <tbody>\n",
       "    <tr>\n",
       "      <th>0</th>\n",
       "      <td>-1.146987</td>\n",
       "      <td>0.963328</td>\n",
       "      <td>-0.828965</td>\n",
       "      <td>27.758673</td>\n",
       "    </tr>\n",
       "    <tr>\n",
       "      <th>1</th>\n",
       "      <td>0.262778</td>\n",
       "      <td>0.269839</td>\n",
       "      <td>-2.530187</td>\n",
       "      <td>56.069697</td>\n",
       "    </tr>\n",
       "    <tr>\n",
       "      <th>2</th>\n",
       "      <td>0.194587</td>\n",
       "      <td>0.289035</td>\n",
       "      <td>-5.586433</td>\n",
       "      <td>62.871910</td>\n",
       "    </tr>\n",
       "    <tr>\n",
       "      <th>3</th>\n",
       "      <td>2.236060</td>\n",
       "      <td>-0.553760</td>\n",
       "      <td>0.930038</td>\n",
       "      <td>114.572842</td>\n",
       "    </tr>\n",
       "    <tr>\n",
       "      <th>4</th>\n",
       "      <td>-0.515993</td>\n",
       "      <td>1.716266</td>\n",
       "      <td>5.899011</td>\n",
       "      <td>149.600746</td>\n",
       "    </tr>\n",
       "  </tbody>\n",
       "</table>\n",
       "</div>"
      ],
      "text/plain": [
       "         f0        f1        f2     product\n",
       "0 -1.146987  0.963328 -0.828965   27.758673\n",
       "1  0.262778  0.269839 -2.530187   56.069697\n",
       "2  0.194587  0.289035 -5.586433   62.871910\n",
       "3  2.236060 -0.553760  0.930038  114.572842\n",
       "4 -0.515993  1.716266  5.899011  149.600746"
      ]
     },
     "metadata": {},
     "output_type": "display_data"
    }
   ],
   "source": [
    "data_0=data_0.drop(['id'],axis=1)\n",
    "data_1=data_1.drop(['id'],axis=1)\n",
    "data_2=data_2.drop(['id'],axis=1)\n",
    "regions=[data_0,data_1,data_2]\n",
    "display('Region0',data_0.head())\n",
    "display('Region1',data_1.head())\n",
    "display('Region2',data_2.head())\n"
   ]
  },
  {
   "cell_type": "code",
   "execution_count": 12,
   "metadata": {},
   "outputs": [],
   "source": [
    "def split_data(data,target): \n",
    "    data_train, data_valid = train_test_split(data, test_size=0.25, random_state=42, shuffle = True)\n",
    "    target_train= data_train[target]\n",
    "    features_train = data_train.drop([target],axis=1)\n",
    "    target_valid= data_train[target]\n",
    "    features_valid = data_train.drop([target],axis=1)\n",
    "    return features_train, target_train,features_valid,target_valid"
   ]
  },
  {
   "cell_type": "code",
   "execution_count": 13,
   "metadata": {},
   "outputs": [],
   "source": [
    "feat_dict={'features_train':[],'target_train':[],'features_valid':[],'target_valid':[]}\n"
   ]
  },
  {
   "cell_type": "code",
   "execution_count": 14,
   "metadata": {},
   "outputs": [],
   "source": [
    "for i in regions:\n",
    "    features_train, target_train,features_valid,target_valid=split_data(i,'product')\n",
    "    feat_dict['features_train'].append(features_train)\n",
    "    feat_dict['target_train'].append(target_train)\n",
    "    feat_dict['features_valid'].append(features_valid)\n",
    "    feat_dict['target_valid'].append(target_valid)"
   ]
  },
  {
   "cell_type": "code",
   "execution_count": 15,
   "metadata": {},
   "outputs": [
    {
     "data": {
      "text/html": [
       "<div>\n",
       "<style scoped>\n",
       "    .dataframe tbody tr th:only-of-type {\n",
       "        vertical-align: middle;\n",
       "    }\n",
       "\n",
       "    .dataframe tbody tr th {\n",
       "        vertical-align: top;\n",
       "    }\n",
       "\n",
       "    .dataframe thead th {\n",
       "        text-align: right;\n",
       "    }\n",
       "</style>\n",
       "<table border=\"1\" class=\"dataframe\">\n",
       "  <thead>\n",
       "    <tr style=\"text-align: right;\">\n",
       "      <th></th>\n",
       "      <th>f0</th>\n",
       "      <th>f1</th>\n",
       "      <th>f2</th>\n",
       "    </tr>\n",
       "  </thead>\n",
       "  <tbody>\n",
       "    <tr>\n",
       "      <th>98980</th>\n",
       "      <td>-0.592927</td>\n",
       "      <td>-2.323059</td>\n",
       "      <td>5.344840</td>\n",
       "    </tr>\n",
       "    <tr>\n",
       "      <th>69824</th>\n",
       "      <td>-0.690844</td>\n",
       "      <td>1.715501</td>\n",
       "      <td>-1.331142</td>\n",
       "    </tr>\n",
       "    <tr>\n",
       "      <th>9928</th>\n",
       "      <td>1.741680</td>\n",
       "      <td>-1.604639</td>\n",
       "      <td>0.499745</td>\n",
       "    </tr>\n",
       "    <tr>\n",
       "      <th>75599</th>\n",
       "      <td>-1.354850</td>\n",
       "      <td>0.984588</td>\n",
       "      <td>5.683113</td>\n",
       "    </tr>\n",
       "    <tr>\n",
       "      <th>95621</th>\n",
       "      <td>1.075114</td>\n",
       "      <td>1.175117</td>\n",
       "      <td>1.010025</td>\n",
       "    </tr>\n",
       "    <tr>\n",
       "      <th>...</th>\n",
       "      <td>...</td>\n",
       "      <td>...</td>\n",
       "      <td>...</td>\n",
       "    </tr>\n",
       "    <tr>\n",
       "      <th>6265</th>\n",
       "      <td>-1.842672</td>\n",
       "      <td>-0.003145</td>\n",
       "      <td>0.926830</td>\n",
       "    </tr>\n",
       "    <tr>\n",
       "      <th>54886</th>\n",
       "      <td>0.079216</td>\n",
       "      <td>1.076507</td>\n",
       "      <td>3.761491</td>\n",
       "    </tr>\n",
       "    <tr>\n",
       "      <th>76820</th>\n",
       "      <td>-2.285696</td>\n",
       "      <td>1.500897</td>\n",
       "      <td>-1.051454</td>\n",
       "    </tr>\n",
       "    <tr>\n",
       "      <th>860</th>\n",
       "      <td>-1.446403</td>\n",
       "      <td>-2.164471</td>\n",
       "      <td>3.334692</td>\n",
       "    </tr>\n",
       "    <tr>\n",
       "      <th>15795</th>\n",
       "      <td>1.381842</td>\n",
       "      <td>2.413188</td>\n",
       "      <td>5.973761</td>\n",
       "    </tr>\n",
       "  </tbody>\n",
       "</table>\n",
       "<p>75000 rows × 3 columns</p>\n",
       "</div>"
      ],
      "text/plain": [
       "             f0        f1        f2\n",
       "98980 -0.592927 -2.323059  5.344840\n",
       "69824 -0.690844  1.715501 -1.331142\n",
       "9928   1.741680 -1.604639  0.499745\n",
       "75599 -1.354850  0.984588  5.683113\n",
       "95621  1.075114  1.175117  1.010025\n",
       "...         ...       ...       ...\n",
       "6265  -1.842672 -0.003145  0.926830\n",
       "54886  0.079216  1.076507  3.761491\n",
       "76820 -2.285696  1.500897 -1.051454\n",
       "860   -1.446403 -2.164471  3.334692\n",
       "15795  1.381842  2.413188  5.973761\n",
       "\n",
       "[75000 rows x 3 columns]"
      ]
     },
     "metadata": {},
     "output_type": "display_data"
    },
    {
     "data": {
      "text/plain": [
       "98980    122.402114\n",
       "69824     43.299623\n",
       "9928     144.915121\n",
       "75599    114.038791\n",
       "95621     95.600308\n",
       "            ...    \n",
       "6265      54.598839\n",
       "54886     63.428292\n",
       "76820     37.780858\n",
       "860       68.317185\n",
       "15795    147.700315\n",
       "Name: product, Length: 75000, dtype: float64"
      ]
     },
     "metadata": {},
     "output_type": "display_data"
    }
   ],
   "source": [
    "display(feat_dict['features_train'][2])\n",
    "display(feat_dict['target_train'][2])"
   ]
  },
  {
   "cell_type": "markdown",
   "metadata": {},
   "source": [
    "## Обучение и проверка модели"
   ]
  },
  {
   "cell_type": "code",
   "execution_count": 16,
   "metadata": {},
   "outputs": [],
   "source": [
    "models=[LinearRegression()]"
   ]
  },
  {
   "cell_type": "code",
   "execution_count": 17,
   "metadata": {
    "scrolled": true
   },
   "outputs": [
    {
     "name": "stdout",
     "output_type": "stream",
     "text": [
      "Region num= 0 | RMSE -37.67200536313506 | LinearRegression()\n",
      "Region num= 1 | RMSE -0.8904559629285671 | LinearRegression()\n",
      "Region num= 2 | RMSE -40.02698159997838 | LinearRegression()\n",
      "Средний скор RMSE модели по всем регионам= -26.196480975347338\n",
      "///////////////////////////////////////////////////////////////////////////\n"
     ]
    }
   ],
   "source": [
    "\n",
    "for i in models:\n",
    "    pipe=make_pipeline(StandardScaler(),i)\n",
    "    sum_score=0\n",
    "    mean_cv_score_reg=0\n",
    "    for reg_n in [0,1,2]:\n",
    "        mean_cv_score=cross_val_score(pipe,feat_dict['features_train'][reg_n],\n",
    "                                      feat_dict['target_train'][reg_n],cv=5,scoring='neg_root_mean_squared_error').mean()\n",
    "        sum_score+=mean_cv_score\n",
    "        top_cv_score=mean_cv_score\n",
    "        top_model=i\n",
    "        print('Region num=',reg_n,'|','RMSE',top_cv_score,'|',top_model)\n",
    "    print('Средний скор RMSE модели по всем регионам=',sum_score/3)\n",
    "    print('///'*25)"
   ]
  },
  {
   "cell_type": "markdown",
   "metadata": {},
   "source": [
    "Получаем RMSE скор по 3 регионам "
   ]
  },
  {
   "cell_type": "code",
   "execution_count": 18,
   "metadata": {},
   "outputs": [
    {
     "data": {
      "text/plain": [
       "dict_keys(['explained_variance', 'r2', 'max_error', 'neg_median_absolute_error', 'neg_mean_absolute_error', 'neg_mean_absolute_percentage_error', 'neg_mean_squared_error', 'neg_mean_squared_log_error', 'neg_root_mean_squared_error', 'neg_mean_poisson_deviance', 'neg_mean_gamma_deviance', 'accuracy', 'top_k_accuracy', 'roc_auc', 'roc_auc_ovr', 'roc_auc_ovo', 'roc_auc_ovr_weighted', 'roc_auc_ovo_weighted', 'balanced_accuracy', 'average_precision', 'neg_log_loss', 'neg_brier_score', 'adjusted_rand_score', 'rand_score', 'homogeneity_score', 'completeness_score', 'v_measure_score', 'mutual_info_score', 'adjusted_mutual_info_score', 'normalized_mutual_info_score', 'fowlkes_mallows_score', 'precision', 'precision_macro', 'precision_micro', 'precision_samples', 'precision_weighted', 'recall', 'recall_macro', 'recall_micro', 'recall_samples', 'recall_weighted', 'f1', 'f1_macro', 'f1_micro', 'f1_samples', 'f1_weighted', 'jaccard', 'jaccard_macro', 'jaccard_micro', 'jaccard_samples', 'jaccard_weighted'])"
      ]
     },
     "execution_count": 18,
     "metadata": {},
     "output_type": "execute_result"
    }
   ],
   "source": [
    "import sklearn\n",
    "sklearn.metrics.SCORERS.keys()"
   ]
  },
  {
   "cell_type": "code",
   "execution_count": 19,
   "metadata": {},
   "outputs": [
    {
     "name": "stdout",
     "output_type": "stream",
     "text": [
      "Region num= 0 | Score 0.27646862289690327 | LinearRegression()\n",
      "Region num= 1 | Score 0.9996243124448292 | LinearRegression()\n",
      "Region num= 2 | Score 0.1994800504549819 | LinearRegression()\n",
      "Средний скор модели по всем регионам= 0.4918576619322381\n",
      "///////////////////////////////////////////////////////////////////////////\n"
     ]
    }
   ],
   "source": [
    "for i in models:\n",
    "    pipe=make_pipeline(StandardScaler(),i)\n",
    "    sum_score=0\n",
    "    mean_cv_score_reg=0\n",
    "    for reg_n in [0,1,2]:\n",
    "        mean_cv_score=cross_val_score(pipe,feat_dict['features_train'][reg_n],\n",
    "                                      feat_dict['target_train'][reg_n],cv=5).mean()\n",
    "        sum_score+=mean_cv_score\n",
    "        top_cv_score=mean_cv_score\n",
    "        top_model=i\n",
    "        print('Region num=',reg_n,'|','Score',top_cv_score,'|',top_model)\n",
    "    print('Средний скор модели по всем регионам=',sum_score/3)\n",
    "    print('///'*25)"
   ]
  },
  {
   "cell_type": "markdown",
   "metadata": {},
   "source": [
    "Проведено два расчета по подсчету скора кросс-валидации"
   ]
  },
  {
   "cell_type": "code",
   "execution_count": 33,
   "metadata": {},
   "outputs": [
    {
     "name": "stderr",
     "output_type": "stream",
     "text": [
      "/opt/conda/lib/python3.9/site-packages/sklearn/model_selection/_search.py:285: UserWarning: The total space of parameters 4 is smaller than n_iter=10. Running 4 iterations. For exhaustive searches, use GridSearchCV.\n",
      "  warnings.warn(\n"
     ]
    },
    {
     "name": "stdout",
     "output_type": "stream",
     "text": [
      "Region= 0 | -37.67200536313506 | {'fit_intercept': True, 'copy_X': True}\n",
      "Лучшая модель: LinearRegression()\n",
      "////////////////////////////////////////////////////////////////////////////////////////////////////////////////////////\n"
     ]
    },
    {
     "name": "stderr",
     "output_type": "stream",
     "text": [
      "/opt/conda/lib/python3.9/site-packages/sklearn/model_selection/_search.py:285: UserWarning: The total space of parameters 4 is smaller than n_iter=10. Running 4 iterations. For exhaustive searches, use GridSearchCV.\n",
      "  warnings.warn(\n"
     ]
    },
    {
     "name": "stdout",
     "output_type": "stream",
     "text": [
      "Region= 1 | -0.8904559629285673 | {'fit_intercept': True, 'copy_X': True}\n",
      "Лучшая модель: LinearRegression()\n",
      "////////////////////////////////////////////////////////////////////////////////////////////////////////////////////////\n"
     ]
    },
    {
     "name": "stderr",
     "output_type": "stream",
     "text": [
      "/opt/conda/lib/python3.9/site-packages/sklearn/model_selection/_search.py:285: UserWarning: The total space of parameters 4 is smaller than n_iter=10. Running 4 iterations. For exhaustive searches, use GridSearchCV.\n",
      "  warnings.warn(\n"
     ]
    },
    {
     "name": "stdout",
     "output_type": "stream",
     "text": [
      "Region= 2 | -40.02698159997838 | {'fit_intercept': True, 'copy_X': True}\n",
      "Лучшая модель: LinearRegression()\n",
      "////////////////////////////////////////////////////////////////////////////////////////////////////////////////////////\n"
     ]
    }
   ],
   "source": [
    "param={'fit_intercept':[True,False],\n",
    "       'copy_X':[True,False],\n",
    "\n",
    "    \n",
    "}\n",
    "\n",
    "grd=RandomizedSearchCV(LinearRegression(),\n",
    "                       param_distributions=param,cv=5,\n",
    "                       scoring='neg_root_mean_squared_error', n_jobs=8,random_state=42, verbose=False)\n",
    "\n",
    "pipe=make_pipeline(StandardScaler(),grd)\n",
    "model_dict={'best_estimator':[]}\n",
    "for i in [0,1,2]:\n",
    "    \n",
    "    pipe.fit(feat_dict['features_train'][i],\n",
    "                                      feat_dict['target_train'][i])\n",
    "    model_dict['best_estimator'].append(grd.best_estimator_)\n",
    "    print('Region=',i,'|',grd.best_score_,'|',grd.best_params_,)\n",
    "    print('Лучшая модель:',grd.best_estimator_)\n",
    "    print('////'*30)"
   ]
  },
  {
   "cell_type": "code",
   "execution_count": 34,
   "metadata": {},
   "outputs": [
    {
     "data": {
      "text/plain": [
       "{'best_estimator': [LinearRegression(),\n",
       "  LinearRegression(),\n",
       "  LinearRegression()]}"
      ]
     },
     "execution_count": 34,
     "metadata": {},
     "output_type": "execute_result"
    }
   ],
   "source": [
    "model_dict"
   ]
  },
  {
   "cell_type": "code",
   "execution_count": 35,
   "metadata": {},
   "outputs": [],
   "source": [
    "def find_rmse(target, predicted):\n",
    "    return mean_squared_error(target, predicted) ** 0.5\n"
   ]
  },
  {
   "cell_type": "code",
   "execution_count": 46,
   "metadata": {},
   "outputs": [
    {
     "name": "stdout",
     "output_type": "stream",
     "text": [
      "Ошибка по региону  0 RMSE= 37.67049903536212\n",
      "Ошибка по региону  1 RMSE= 0.8904196385265012\n",
      "Ошибка по региону  2 RMSE= 40.025181468019824\n"
     ]
    }
   ],
   "source": [
    "dict_predict={'predict':[]}\n",
    "dict_rmse={'rmse':[],\n",
    "           'mean_pred':[],\n",
    "           'mean_valid':[]\n",
    "}\n",
    "for i in [0,1,2]:\n",
    "    pipe=make_pipeline(StandardScaler(),LinearRegression())\n",
    "    predict=pipe.fit(feat_dict['features_train'][i],\n",
    "             feat_dict['target_train'][i]).predict(feat_dict['features_valid'][i])\n",
    "    dict_predict['predict'].append(predict)\n",
    "    rmse=find_rmse(feat_dict['target_valid'][i],predict)\n",
    "    dict_rmse['rmse'].append(rmse)\n",
    "    dict_rmse['mean_pred'].append(predict.mean())\n",
    "    dict_rmse['mean_valid'].append(feat_dict['target_valid'][i].mean())\n",
    "    print(\"Ошибка по региону \",i,'RMSE=',rmse)\n",
    "                       "
   ]
  },
  {
   "cell_type": "code",
   "execution_count": 47,
   "metadata": {},
   "outputs": [
    {
     "data": {
      "text/plain": [
       "{'rmse': [37.67049903536212, 0.8904196385265012, 40.025181468019824],\n",
       " 'mean_pred': [92.55801454305207, 68.85820641759084, 94.94966697609351],\n",
       " 'mean_valid': [92.55801454305207, 68.85820641759085, 94.9496669760935]}"
      ]
     },
     "execution_count": 47,
     "metadata": {},
     "output_type": "execute_result"
    }
   ],
   "source": [
    "dict_rmse"
   ]
  },
  {
   "cell_type": "code",
   "execution_count": 48,
   "metadata": {
    "scrolled": true
   },
   "outputs": [
    {
     "data": {
      "text/html": [
       "<div>\n",
       "<style scoped>\n",
       "    .dataframe tbody tr th:only-of-type {\n",
       "        vertical-align: middle;\n",
       "    }\n",
       "\n",
       "    .dataframe tbody tr th {\n",
       "        vertical-align: top;\n",
       "    }\n",
       "\n",
       "    .dataframe thead th {\n",
       "        text-align: right;\n",
       "    }\n",
       "</style>\n",
       "<table border=\"1\" class=\"dataframe\">\n",
       "  <thead>\n",
       "    <tr style=\"text-align: right;\">\n",
       "      <th></th>\n",
       "      <th>rmse</th>\n",
       "      <th>mean_pred</th>\n",
       "      <th>mean_valid</th>\n",
       "    </tr>\n",
       "  </thead>\n",
       "  <tbody>\n",
       "    <tr>\n",
       "      <th>0</th>\n",
       "      <td>37.670499</td>\n",
       "      <td>92.558015</td>\n",
       "      <td>92.558015</td>\n",
       "    </tr>\n",
       "    <tr>\n",
       "      <th>1</th>\n",
       "      <td>0.890420</td>\n",
       "      <td>68.858206</td>\n",
       "      <td>68.858206</td>\n",
       "    </tr>\n",
       "    <tr>\n",
       "      <th>2</th>\n",
       "      <td>40.025181</td>\n",
       "      <td>94.949667</td>\n",
       "      <td>94.949667</td>\n",
       "    </tr>\n",
       "  </tbody>\n",
       "</table>\n",
       "</div>"
      ],
      "text/plain": [
       "        rmse  mean_pred  mean_valid\n",
       "0  37.670499  92.558015   92.558015\n",
       "1   0.890420  68.858206   68.858206\n",
       "2  40.025181  94.949667   94.949667"
      ]
     },
     "execution_count": 48,
     "metadata": {},
     "output_type": "execute_result"
    }
   ],
   "source": [
    "pd.DataFrame(dict_rmse)"
   ]
  },
  {
   "cell_type": "markdown",
   "metadata": {},
   "source": [
    "Вывод: по результатам обучения и предсказания модели видно, что наименьшая ошибка RMSE получена в первом регионе,наибольшая во 2-м. Средние значения получились одинаковые по валидным выборкам и предикту."
   ]
  },
  {
   "cell_type": "markdown",
   "metadata": {},
   "source": [
    "## Подготовка к расчёту прибыли"
   ]
  },
  {
   "cell_type": "code",
   "execution_count": 39,
   "metadata": {},
   "outputs": [
    {
     "name": "stdout",
     "output_type": "stream",
     "text": [
      "Объём сырья для безубыточной разработки новой скважины:  111.11111111111111\n"
     ]
    }
   ],
   "source": [
    "Budget = 10000000000\n",
    "Price = 450000\n",
    "Oil_best = 200\n",
    "print('Объём сырья для безубыточной разработки новой скважины: ', Budget / Price / Oil_best)"
   ]
  },
  {
   "cell_type": "code",
   "execution_count": 40,
   "metadata": {
    "scrolled": true
   },
   "outputs": [
    {
     "name": "stdout",
     "output_type": "stream",
     "text": [
      "Средний объем запасов скважины в 0-м регионе:  92.50000000000001\n",
      "Средний объем запасов скважины в 1-м регионе:  68.82500000000002\n",
      "Средний объем запасов скважины в 2-м регионе:  95.00000000000004\n"
     ]
    }
   ],
   "source": [
    "print('Средний объем запасов скважины в 0-м регионе: ', data_0['product'].mean())\n",
    "print('Средний объем запасов скважины в 1-м регионе: ', data_1['product'].mean())\n",
    "print('Средний объем запасов скважины в 2-м регионе: ', data_2['product'].mean())"
   ]
  },
  {
   "cell_type": "markdown",
   "metadata": {},
   "source": [
    "<div class=\"alert alert-block alert-danger\">\n",
    "<b>Ошибка:</b> Нас просили сравнить объём сырья для безубыточной разработки новой скважины со средними запасами в каждом регионе - это подразумевает под собой написание небольшого вывода.\n",
    "     \n",
    "  \n",
    "</div>"
   ]
  },
  {
   "cell_type": "code",
   "execution_count": 50,
   "metadata": {},
   "outputs": [
    {
     "name": "stdout",
     "output_type": "stream",
     "text": [
      "Средний объем запасов скважины в 0-м регионе:  92.50000000000001\n",
      "Средний объем запасов скважины в 1-м регионе:  68.82500000000002\n",
      "Средний объем запасов скважины в 2-м регионе:  95.00000000000004\n",
      "Объём сырья для безубыточной разработки новой скважины:  111.11111111111111\n"
     ]
    }
   ],
   "source": [
    "print('Средний объем запасов скважины в 0-м регионе: ', data_0['product'].mean())\n",
    "print('Средний объем запасов скважины в 1-м регионе: ', data_1['product'].mean())\n",
    "print('Средний объем запасов скважины в 2-м регионе: ', data_2['product'].mean())\n",
    "print('Объём сырья для безубыточной разработки новой скважины: ', Budget / Price / Oil_best)"
   ]
  },
  {
   "cell_type": "markdown",
   "metadata": {},
   "source": [
    "Вывод: Видим, что ни один регион не показаыват объемов, привышающих безубыточный объем. Особенно плохо выглядит первый регион. Что ж, я думаю это изменится если мы будем оценивать в дальнейшем риски по заданному ТЗ."
   ]
  },
  {
   "cell_type": "markdown",
   "metadata": {},
   "source": [
    "## Расчёт прибыли и рисков "
   ]
  },
  {
   "cell_type": "code",
   "execution_count": 41,
   "metadata": {},
   "outputs": [],
   "source": [
    "\n",
    "\n",
    "def revenue(target, predictions, cost, count):\n",
    "    probs_sorted = pd.Series(predictions,index=target.index).sort_values(ascending=False)\n",
    "    selected = target[probs_sorted.index][:count] \n",
    "    return cost * selected.sum()-Budget"
   ]
  },
  {
   "cell_type": "code",
   "execution_count": 42,
   "metadata": {},
   "outputs": [],
   "source": [
    "def bootsrtap(target, predictions):\n",
    "    state = np.random.RandomState(42)\n",
    "\n",
    "    values = []\n",
    "    for i in range(1000):\n",
    "        new_target = target.reset_index(drop=True).sample(replace = True, random_state = state, n = 500)\n",
    "        \n",
    "        new_predictions = predictions[new_target.index.values]\n",
    "\n",
    "        values.append(revenue(new_target, new_predictions, Price, 200))\n",
    "\n",
    "    values = pd.Series(values)\n",
    "    return values"
   ]
  },
  {
   "cell_type": "code",
   "execution_count": 43,
   "metadata": {},
   "outputs": [],
   "source": [
    "def mean_revenue(values):\n",
    "    return round(values.mean()/1000000,0)\n",
    "    \n",
    "    \n",
    "def dint_95(values):\n",
    "    return round((values.quantile(0.025))/1000000,1),round((values.quantile(0.975))/1000000,1)\n",
    "    \n",
    "    \n",
    "def risk_of_loss(values):\n",
    "    return st.percentileofscore(values, 0)\n",
    "    "
   ]
  },
  {
   "cell_type": "code",
   "execution_count": 44,
   "metadata": {},
   "outputs": [],
   "source": [
    "dict_result={'Средняя выручка,млн':[],\n",
    "             'Доверительный интервал 95%: млн':[],\n",
    "             'Риск_убытков,%':[]\n",
    "    \n",
    "}\n",
    "for i in [0,1,2]:\n",
    "    raspred = bootsrtap(feat_dict['target_valid'][i], dict_predict['predict'][i])\n",
    "    mean_r=mean_revenue(raspred)\n",
    "    dov_interval=dint_95(raspred)\n",
    "    r=risk_of_loss(raspred)\n",
    "    dict_result['Средняя выручка,млн'].append(mean_r)\n",
    "    dict_result['Доверительный интервал 95%: млн'].append(dov_interval)\n",
    "    dict_result['Риск_убытков,%'].append(r)"
   ]
  },
  {
   "cell_type": "code",
   "execution_count": 45,
   "metadata": {
    "scrolled": true
   },
   "outputs": [
    {
     "data": {
      "text/html": [
       "<div>\n",
       "<style scoped>\n",
       "    .dataframe tbody tr th:only-of-type {\n",
       "        vertical-align: middle;\n",
       "    }\n",
       "\n",
       "    .dataframe tbody tr th {\n",
       "        vertical-align: top;\n",
       "    }\n",
       "\n",
       "    .dataframe thead th {\n",
       "        text-align: right;\n",
       "    }\n",
       "</style>\n",
       "<table border=\"1\" class=\"dataframe\">\n",
       "  <thead>\n",
       "    <tr style=\"text-align: right;\">\n",
       "      <th></th>\n",
       "      <th>Средняя выручка,млн</th>\n",
       "      <th>Доверительный интервал 95%: млн</th>\n",
       "      <th>Риск_убытков,%</th>\n",
       "    </tr>\n",
       "  </thead>\n",
       "  <tbody>\n",
       "    <tr>\n",
       "      <th>Регион 0</th>\n",
       "      <td>448.0</td>\n",
       "      <td>(-93.5, 964.8)</td>\n",
       "      <td>5.1</td>\n",
       "    </tr>\n",
       "    <tr>\n",
       "      <th>Регион 1</th>\n",
       "      <td>474.0</td>\n",
       "      <td>(85.3, 895.8)</td>\n",
       "      <td>1.2</td>\n",
       "    </tr>\n",
       "    <tr>\n",
       "      <th>Регион 2</th>\n",
       "      <td>372.0</td>\n",
       "      <td>(-142.8, 912.5)</td>\n",
       "      <td>8.8</td>\n",
       "    </tr>\n",
       "  </tbody>\n",
       "</table>\n",
       "</div>"
      ],
      "text/plain": [
       "          Средняя выручка,млн Доверительный интервал 95%: млн  Риск_убытков,%\n",
       "Регион 0                448.0                  (-93.5, 964.8)             5.1\n",
       "Регион 1                474.0                   (85.3, 895.8)             1.2\n",
       "Регион 2                372.0                 (-142.8, 912.5)             8.8"
      ]
     },
     "execution_count": 45,
     "metadata": {},
     "output_type": "execute_result"
    }
   ],
   "source": [
    "pd.DataFrame(dict_result,index=['Регион 0','Регион 1','Регион 2'])"
   ]
  },
  {
   "cell_type": "markdown",
   "metadata": {},
   "source": [
    "#### Вывод"
   ]
  },
  {
   "cell_type": "markdown",
   "metadata": {},
   "source": [
    "В ходе выполнения проекта были проанализированны данные добычи нефти в скважинах по 3-м регионам. Была построена линейная модель предсказания объемов добычи.\n",
    "\n",
    "По выполненому решению можно заключить что только Регион 1 подходит под условие, где вероятность убытков меньше 2.5%, а именно 1.2%. Таким образом, рекомендую начинать бурение в первом регионе.\n",
    "\n",
    "Можно заметить интересную ситуацию, что хоть по средним объемам добычи первый регион был аутсайдером. А по рискам он вышел менее рисковый и почти лучший по средней выручке (разница минимальна по сравннию с регионом 0)"
   ]
  },
  {
   "cell_type": "code",
   "execution_count": null,
   "metadata": {},
   "outputs": [],
   "source": []
  }
 ],
 "metadata": {
  "ExecuteTimeLog": [
   {
    "duration": 433,
    "start_time": "2022-12-13T09:35:48.700Z"
   },
   {
    "duration": 222,
    "start_time": "2022-12-13T09:36:03.469Z"
   },
   {
    "duration": 20,
    "start_time": "2022-12-13T09:36:07.434Z"
   },
   {
    "duration": 9,
    "start_time": "2022-12-13T09:37:43.254Z"
   },
   {
    "duration": 36,
    "start_time": "2022-12-13T09:37:46.590Z"
   },
   {
    "duration": 11,
    "start_time": "2022-12-13T09:38:12.532Z"
   },
   {
    "duration": 13,
    "start_time": "2022-12-13T09:40:10.713Z"
   },
   {
    "duration": 532,
    "start_time": "2022-12-13T09:46:30.243Z"
   },
   {
    "duration": 15,
    "start_time": "2022-12-13T09:46:37.165Z"
   },
   {
    "duration": 12,
    "start_time": "2022-12-13T09:46:42.227Z"
   },
   {
    "duration": 48,
    "start_time": "2022-12-13T12:29:57.474Z"
   },
   {
    "duration": 374,
    "start_time": "2022-12-13T12:30:03.449Z"
   },
   {
    "duration": 675,
    "start_time": "2022-12-13T12:30:04.197Z"
   },
   {
    "duration": 15,
    "start_time": "2022-12-13T12:30:05.033Z"
   },
   {
    "duration": 8,
    "start_time": "2022-12-13T12:30:17.595Z"
   },
   {
    "duration": 10,
    "start_time": "2022-12-13T12:30:19.558Z"
   },
   {
    "duration": 366,
    "start_time": "2022-12-13T12:31:03.207Z"
   },
   {
    "duration": 8,
    "start_time": "2022-12-13T12:31:03.596Z"
   },
   {
    "duration": 8,
    "start_time": "2022-12-13T12:31:04.205Z"
   },
   {
    "duration": 8,
    "start_time": "2022-12-13T12:31:04.611Z"
   },
   {
    "duration": 9,
    "start_time": "2022-12-13T12:34:35.409Z"
   },
   {
    "duration": 6,
    "start_time": "2022-12-13T12:34:46.417Z"
   },
   {
    "duration": 8,
    "start_time": "2022-12-13T12:34:56.716Z"
   },
   {
    "duration": 35,
    "start_time": "2022-12-13T12:35:48.576Z"
   },
   {
    "duration": 54,
    "start_time": "2022-12-13T12:35:59.816Z"
   },
   {
    "duration": 32,
    "start_time": "2022-12-13T12:36:10.040Z"
   },
   {
    "duration": 31,
    "start_time": "2022-12-13T12:36:24.352Z"
   },
   {
    "duration": 32,
    "start_time": "2022-12-13T12:36:27.537Z"
   },
   {
    "duration": 679,
    "start_time": "2022-12-13T12:36:40.107Z"
   },
   {
    "duration": 382,
    "start_time": "2022-12-13T12:36:45.452Z"
   },
   {
    "duration": 734,
    "start_time": "2022-12-13T12:37:06.619Z"
   },
   {
    "duration": 944,
    "start_time": "2022-12-13T12:37:20.210Z"
   },
   {
    "duration": 774,
    "start_time": "2022-12-13T12:40:21.500Z"
   },
   {
    "duration": 19,
    "start_time": "2022-12-13T12:40:53.317Z"
   },
   {
    "duration": 23,
    "start_time": "2022-12-13T12:41:55.720Z"
   },
   {
    "duration": 22,
    "start_time": "2022-12-13T12:42:23.029Z"
   },
   {
    "duration": 21,
    "start_time": "2022-12-13T12:42:31.069Z"
   },
   {
    "duration": 397,
    "start_time": "2022-12-13T12:43:15.312Z"
   },
   {
    "duration": 21,
    "start_time": "2022-12-13T12:43:15.912Z"
   },
   {
    "duration": 966,
    "start_time": "2022-12-13T12:43:16.508Z"
   },
   {
    "duration": 98,
    "start_time": "2022-12-13T12:43:37.711Z"
   },
   {
    "duration": 2,
    "start_time": "2022-12-13T12:44:35.793Z"
   },
   {
    "duration": 134,
    "start_time": "2022-12-13T12:45:01.851Z"
   },
   {
    "duration": 46,
    "start_time": "2022-12-13T12:45:36.044Z"
   },
   {
    "duration": 55,
    "start_time": "2022-12-13T12:46:32.957Z"
   },
   {
    "duration": 113,
    "start_time": "2022-12-13T12:49:11.823Z"
   },
   {
    "duration": 79,
    "start_time": "2022-12-13T12:49:53.423Z"
   },
   {
    "duration": 3,
    "start_time": "2022-12-13T12:50:08.418Z"
   },
   {
    "duration": 360,
    "start_time": "2022-12-13T12:50:08.423Z"
   },
   {
    "duration": 22,
    "start_time": "2022-12-13T12:50:08.784Z"
   },
   {
    "duration": 104,
    "start_time": "2022-12-13T12:50:08.820Z"
   },
   {
    "duration": 1054,
    "start_time": "2022-12-13T12:50:08.925Z"
   },
   {
    "duration": 8,
    "start_time": "2022-12-13T12:50:09.982Z"
   },
   {
    "duration": 127,
    "start_time": "2022-12-13T12:50:09.992Z"
   },
   {
    "duration": 58,
    "start_time": "2022-12-13T12:50:10.121Z"
   },
   {
    "duration": 258,
    "start_time": "2022-12-13T12:50:10.182Z"
   },
   {
    "duration": 119,
    "start_time": "2022-12-13T12:50:57.104Z"
   },
   {
    "duration": 140,
    "start_time": "2022-12-13T12:51:02.686Z"
   },
   {
    "duration": 3,
    "start_time": "2022-12-13T12:51:05.589Z"
   },
   {
    "duration": 365,
    "start_time": "2022-12-13T12:51:05.594Z"
   },
   {
    "duration": 23,
    "start_time": "2022-12-13T12:51:05.961Z"
   },
   {
    "duration": 110,
    "start_time": "2022-12-13T12:51:05.985Z"
   },
   {
    "duration": 924,
    "start_time": "2022-12-13T12:51:06.097Z"
   },
   {
    "duration": 6,
    "start_time": "2022-12-13T12:51:07.022Z"
   },
   {
    "duration": 119,
    "start_time": "2022-12-13T12:51:07.030Z"
   },
   {
    "duration": 55,
    "start_time": "2022-12-13T12:51:07.151Z"
   },
   {
    "duration": 144,
    "start_time": "2022-12-13T12:51:07.208Z"
   },
   {
    "duration": 99,
    "start_time": "2022-12-13T12:51:48.151Z"
   },
   {
    "duration": 3,
    "start_time": "2022-12-13T12:52:18.638Z"
   },
   {
    "duration": 346,
    "start_time": "2022-12-13T12:52:18.644Z"
   },
   {
    "duration": 37,
    "start_time": "2022-12-13T12:52:18.992Z"
   },
   {
    "duration": 120,
    "start_time": "2022-12-13T12:52:19.031Z"
   },
   {
    "duration": 1071,
    "start_time": "2022-12-13T12:52:19.153Z"
   },
   {
    "duration": 8,
    "start_time": "2022-12-13T12:52:20.225Z"
   },
   {
    "duration": 121,
    "start_time": "2022-12-13T12:52:20.234Z"
   },
   {
    "duration": 56,
    "start_time": "2022-12-13T12:52:20.357Z"
   },
   {
    "duration": 109,
    "start_time": "2022-12-13T12:52:20.422Z"
   },
   {
    "duration": 68,
    "start_time": "2022-12-13T12:53:39.495Z"
   },
   {
    "duration": 117,
    "start_time": "2022-12-13T12:54:12.745Z"
   },
   {
    "duration": 41,
    "start_time": "2022-12-13T12:56:02.210Z"
   },
   {
    "duration": 12,
    "start_time": "2022-12-13T12:58:44.660Z"
   },
   {
    "duration": 24,
    "start_time": "2022-12-13T12:58:58.003Z"
   },
   {
    "duration": 4,
    "start_time": "2022-12-13T13:04:47.644Z"
   },
   {
    "duration": 14,
    "start_time": "2022-12-13T13:09:18.722Z"
   },
   {
    "duration": 2,
    "start_time": "2022-12-13T13:15:45.100Z"
   },
   {
    "duration": 98,
    "start_time": "2022-12-13T13:16:04.680Z"
   },
   {
    "duration": 3,
    "start_time": "2022-12-13T13:16:13.158Z"
   },
   {
    "duration": 10,
    "start_time": "2022-12-13T13:16:32.507Z"
   },
   {
    "duration": 3,
    "start_time": "2022-12-13T13:16:40.434Z"
   },
   {
    "duration": 3,
    "start_time": "2022-12-13T13:17:16.667Z"
   },
   {
    "duration": 4,
    "start_time": "2022-12-13T13:17:20.801Z"
   },
   {
    "duration": 2,
    "start_time": "2022-12-13T13:17:29.952Z"
   },
   {
    "duration": 9,
    "start_time": "2022-12-13T13:18:22.524Z"
   },
   {
    "duration": 9,
    "start_time": "2022-12-13T13:18:31.849Z"
   },
   {
    "duration": 8,
    "start_time": "2022-12-13T13:18:37.629Z"
   },
   {
    "duration": 29,
    "start_time": "2022-12-13T13:19:20.428Z"
   },
   {
    "duration": 2,
    "start_time": "2022-12-13T13:20:01.962Z"
   },
   {
    "duration": 68,
    "start_time": "2022-12-13T13:20:04.818Z"
   },
   {
    "duration": 27,
    "start_time": "2022-12-13T13:20:10.350Z"
   },
   {
    "duration": 46,
    "start_time": "2022-12-13T13:23:16.570Z"
   },
   {
    "duration": 4,
    "start_time": "2022-12-13T13:23:23.501Z"
   },
   {
    "duration": 2,
    "start_time": "2022-12-13T13:23:24.919Z"
   },
   {
    "duration": 83,
    "start_time": "2022-12-13T13:23:26.360Z"
   },
   {
    "duration": 29,
    "start_time": "2022-12-13T13:23:27.498Z"
   },
   {
    "duration": 9,
    "start_time": "2022-12-13T13:23:42.899Z"
   },
   {
    "duration": 16,
    "start_time": "2022-12-13T13:23:58.780Z"
   },
   {
    "duration": 11,
    "start_time": "2022-12-13T13:24:04.643Z"
   },
   {
    "duration": 12,
    "start_time": "2022-12-13T13:24:10.183Z"
   },
   {
    "duration": 11,
    "start_time": "2022-12-13T13:24:14.365Z"
   },
   {
    "duration": 18,
    "start_time": "2022-12-13T13:24:25.670Z"
   },
   {
    "duration": 3,
    "start_time": "2022-12-13T13:25:10.972Z"
   },
   {
    "duration": 387,
    "start_time": "2022-12-13T13:25:10.977Z"
   },
   {
    "duration": 22,
    "start_time": "2022-12-13T13:25:11.366Z"
   },
   {
    "duration": 113,
    "start_time": "2022-12-13T13:25:11.390Z"
   },
   {
    "duration": 942,
    "start_time": "2022-12-13T13:25:11.520Z"
   },
   {
    "duration": 6,
    "start_time": "2022-12-13T13:25:12.464Z"
   },
   {
    "duration": 145,
    "start_time": "2022-12-13T13:25:12.472Z"
   },
   {
    "duration": 57,
    "start_time": "2022-12-13T13:25:12.621Z"
   },
   {
    "duration": 130,
    "start_time": "2022-12-13T13:25:12.680Z"
   },
   {
    "duration": 54,
    "start_time": "2022-12-13T13:25:12.811Z"
   },
   {
    "duration": 27,
    "start_time": "2022-12-13T13:25:12.866Z"
   },
   {
    "duration": 30,
    "start_time": "2022-12-13T13:25:12.895Z"
   },
   {
    "duration": 29,
    "start_time": "2022-12-13T13:25:12.926Z"
   },
   {
    "duration": 44,
    "start_time": "2022-12-13T13:25:12.957Z"
   },
   {
    "duration": 14,
    "start_time": "2022-12-13T13:25:13.003Z"
   },
   {
    "duration": 8,
    "start_time": "2022-12-13T13:28:43.775Z"
   },
   {
    "duration": 12,
    "start_time": "2022-12-13T13:29:04.433Z"
   },
   {
    "duration": 4,
    "start_time": "2022-12-13T13:31:08.080Z"
   },
   {
    "duration": 11,
    "start_time": "2022-12-13T13:32:24.642Z"
   },
   {
    "duration": 3,
    "start_time": "2022-12-13T13:33:04.559Z"
   },
   {
    "duration": 4,
    "start_time": "2022-12-13T13:33:50.684Z"
   },
   {
    "duration": 4,
    "start_time": "2022-12-13T13:33:59.659Z"
   },
   {
    "duration": 16,
    "start_time": "2022-12-13T13:38:15.568Z"
   },
   {
    "duration": 25932,
    "start_time": "2022-12-13T13:38:55.490Z"
   },
   {
    "duration": 24777,
    "start_time": "2022-12-13T13:41:19.150Z"
   },
   {
    "duration": 38,
    "start_time": "2022-12-13T13:42:38.115Z"
   },
   {
    "duration": 21014,
    "start_time": "2022-12-13T13:42:45.414Z"
   },
   {
    "duration": 23529,
    "start_time": "2022-12-13T13:43:25.791Z"
   },
   {
    "duration": 24672,
    "start_time": "2022-12-13T13:45:06.753Z"
   },
   {
    "duration": 23159,
    "start_time": "2022-12-13T13:47:04.367Z"
   },
   {
    "duration": 20700,
    "start_time": "2022-12-13T13:47:37.626Z"
   },
   {
    "duration": 16966,
    "start_time": "2022-12-13T13:50:21.865Z"
   },
   {
    "duration": 16,
    "start_time": "2022-12-13T13:53:22.173Z"
   },
   {
    "duration": 9,
    "start_time": "2022-12-13T13:53:32.298Z"
   },
   {
    "duration": 3,
    "start_time": "2022-12-13T13:53:46.833Z"
   },
   {
    "duration": 23,
    "start_time": "2022-12-13T13:54:30.852Z"
   },
   {
    "duration": 17853,
    "start_time": "2022-12-13T13:54:34.372Z"
   },
   {
    "duration": 16934,
    "start_time": "2022-12-13T13:55:48.488Z"
   },
   {
    "duration": 16989,
    "start_time": "2022-12-13T13:56:38.737Z"
   },
   {
    "duration": 2,
    "start_time": "2022-12-13T13:57:39.774Z"
   },
   {
    "duration": 291,
    "start_time": "2022-12-13T13:58:30.030Z"
   },
   {
    "duration": 17223,
    "start_time": "2022-12-13T13:58:33.204Z"
   },
   {
    "duration": 16205,
    "start_time": "2022-12-13T13:59:53.628Z"
   },
   {
    "duration": 20026,
    "start_time": "2022-12-13T14:01:00.705Z"
   },
   {
    "duration": 7,
    "start_time": "2022-12-13T14:06:35.222Z"
   },
   {
    "duration": 11,
    "start_time": "2022-12-13T14:06:40.339Z"
   },
   {
    "duration": 13,
    "start_time": "2022-12-13T14:06:43.779Z"
   },
   {
    "duration": 3,
    "start_time": "2022-12-13T14:06:45.963Z"
   },
   {
    "duration": 15629,
    "start_time": "2022-12-13T14:06:47.793Z"
   },
   {
    "duration": 17305,
    "start_time": "2022-12-13T14:07:03.426Z"
   },
   {
    "duration": 6,
    "start_time": "2022-12-13T14:11:45.045Z"
   },
   {
    "duration": 70,
    "start_time": "2022-12-13T14:15:23.400Z"
   },
   {
    "duration": 15,
    "start_time": "2022-12-13T14:15:54.328Z"
   },
   {
    "duration": 46932,
    "start_time": "2022-12-13T14:16:26.879Z"
   },
   {
    "duration": 25607,
    "start_time": "2022-12-13T14:21:58.267Z"
   },
   {
    "duration": 22645,
    "start_time": "2022-12-13T14:22:56.756Z"
   },
   {
    "duration": 33512,
    "start_time": "2022-12-13T14:23:36.394Z"
   },
   {
    "duration": 54983,
    "start_time": "2022-12-13T14:25:46.800Z"
   },
   {
    "duration": 50,
    "start_time": "2022-12-13T14:28:42.471Z"
   },
   {
    "duration": 15834,
    "start_time": "2022-12-13T14:28:49.502Z"
   },
   {
    "duration": 13718,
    "start_time": "2022-12-13T14:29:11.105Z"
   },
   {
    "duration": 43550,
    "start_time": "2022-12-13T14:30:22.036Z"
   },
   {
    "duration": 3,
    "start_time": "2022-12-13T14:31:25.608Z"
   },
   {
    "duration": 44091,
    "start_time": "2022-12-13T14:32:03.149Z"
   },
   {
    "duration": 4,
    "start_time": "2022-12-13T14:32:47.243Z"
   },
   {
    "duration": 40556,
    "start_time": "2022-12-13T14:33:08.926Z"
   },
   {
    "duration": 6,
    "start_time": "2022-12-13T14:36:53.554Z"
   },
   {
    "duration": 301,
    "start_time": "2022-12-13T14:41:46.224Z"
   },
   {
    "duration": 934,
    "start_time": "2022-12-13T14:42:03.394Z"
   },
   {
    "duration": 4,
    "start_time": "2022-12-13T14:44:24.341Z"
   },
   {
    "duration": 375,
    "start_time": "2022-12-13T14:44:24.347Z"
   },
   {
    "duration": 25,
    "start_time": "2022-12-13T14:44:24.723Z"
   },
   {
    "duration": 126,
    "start_time": "2022-12-13T14:44:24.750Z"
   },
   {
    "duration": 1239,
    "start_time": "2022-12-13T14:44:24.878Z"
   },
   {
    "duration": 3,
    "start_time": "2022-12-13T14:44:26.120Z"
   },
   {
    "duration": 144,
    "start_time": "2022-12-13T14:44:26.125Z"
   },
   {
    "duration": 71,
    "start_time": "2022-12-13T14:44:26.271Z"
   },
   {
    "duration": 120,
    "start_time": "2022-12-13T14:44:26.345Z"
   },
   {
    "duration": 56,
    "start_time": "2022-12-13T14:44:26.466Z"
   },
   {
    "duration": 35,
    "start_time": "2022-12-13T14:44:26.524Z"
   },
   {
    "duration": 4,
    "start_time": "2022-12-13T14:44:26.561Z"
   },
   {
    "duration": 7,
    "start_time": "2022-12-13T14:44:26.567Z"
   },
   {
    "duration": 59,
    "start_time": "2022-12-13T14:44:26.575Z"
   },
   {
    "duration": 11,
    "start_time": "2022-12-13T14:44:26.636Z"
   },
   {
    "duration": 6,
    "start_time": "2022-12-13T14:44:26.649Z"
   },
   {
    "duration": 26171,
    "start_time": "2022-12-13T14:44:26.657Z"
   },
   {
    "duration": 92,
    "start_time": "2022-12-13T14:44:52.832Z"
   },
   {
    "duration": 29405,
    "start_time": "2022-12-13T14:44:52.927Z"
   },
   {
    "duration": 49078,
    "start_time": "2022-12-13T14:45:22.421Z"
   },
   {
    "duration": 964,
    "start_time": "2022-12-13T14:46:11.502Z"
   },
   {
    "duration": 56,
    "start_time": "2022-12-13T14:46:12.469Z"
   },
   {
    "duration": 4,
    "start_time": "2022-12-13T14:46:57.360Z"
   },
   {
    "duration": 395,
    "start_time": "2022-12-13T14:46:57.366Z"
   },
   {
    "duration": 22,
    "start_time": "2022-12-13T14:46:57.763Z"
   },
   {
    "duration": 110,
    "start_time": "2022-12-13T14:46:57.787Z"
   },
   {
    "duration": 946,
    "start_time": "2022-12-13T14:46:57.899Z"
   },
   {
    "duration": 3,
    "start_time": "2022-12-13T14:46:58.847Z"
   },
   {
    "duration": 124,
    "start_time": "2022-12-13T14:46:58.851Z"
   },
   {
    "duration": 69,
    "start_time": "2022-12-13T14:46:58.977Z"
   },
   {
    "duration": 124,
    "start_time": "2022-12-13T14:46:59.049Z"
   },
   {
    "duration": 57,
    "start_time": "2022-12-13T14:46:59.175Z"
   },
   {
    "duration": 38,
    "start_time": "2022-12-13T14:46:59.234Z"
   },
   {
    "duration": 5,
    "start_time": "2022-12-13T14:46:59.274Z"
   },
   {
    "duration": 26,
    "start_time": "2022-12-13T14:46:59.280Z"
   },
   {
    "duration": 49,
    "start_time": "2022-12-13T14:46:59.307Z"
   },
   {
    "duration": 12,
    "start_time": "2022-12-13T14:46:59.357Z"
   },
   {
    "duration": 10,
    "start_time": "2022-12-13T14:46:59.371Z"
   },
   {
    "duration": 20548,
    "start_time": "2022-12-13T14:46:59.382Z"
   },
   {
    "duration": 5,
    "start_time": "2022-12-13T14:47:20.023Z"
   },
   {
    "duration": 24296,
    "start_time": "2022-12-13T14:47:20.030Z"
   },
   {
    "duration": 41670,
    "start_time": "2022-12-13T14:47:44.329Z"
   },
   {
    "duration": 921,
    "start_time": "2022-12-13T14:48:26.001Z"
   },
   {
    "duration": 3,
    "start_time": "2022-12-13T14:53:18.614Z"
   },
   {
    "duration": 953,
    "start_time": "2022-12-13T14:58:14.637Z"
   },
   {
    "duration": 4,
    "start_time": "2022-12-13T14:58:25.663Z"
   },
   {
    "duration": 3,
    "start_time": "2022-12-13T14:59:41.746Z"
   },
   {
    "duration": 999,
    "start_time": "2022-12-13T14:59:59.867Z"
   },
   {
    "duration": 7,
    "start_time": "2022-12-13T15:00:02.835Z"
   },
   {
    "duration": 5,
    "start_time": "2022-12-13T15:00:45.948Z"
   },
   {
    "duration": 9,
    "start_time": "2022-12-13T15:01:14.660Z"
   },
   {
    "duration": 6,
    "start_time": "2022-12-13T15:02:10.678Z"
   },
   {
    "duration": 16,
    "start_time": "2022-12-13T15:02:22.290Z"
   },
   {
    "duration": 14,
    "start_time": "2022-12-13T15:02:28.050Z"
   },
   {
    "duration": 6,
    "start_time": "2022-12-13T15:02:37.749Z"
   },
   {
    "duration": 930,
    "start_time": "2022-12-13T15:03:42.694Z"
   },
   {
    "duration": 2,
    "start_time": "2022-12-13T15:10:07.091Z"
   },
   {
    "duration": 3,
    "start_time": "2022-12-13T15:10:37.976Z"
   },
   {
    "duration": 7,
    "start_time": "2022-12-13T15:11:15.510Z"
   },
   {
    "duration": 3,
    "start_time": "2022-12-13T15:12:20.891Z"
   },
   {
    "duration": 3,
    "start_time": "2022-12-13T15:13:43.969Z"
   },
   {
    "duration": 3,
    "start_time": "2022-12-13T15:14:42.215Z"
   },
   {
    "duration": 9,
    "start_time": "2022-12-13T15:16:37.138Z"
   },
   {
    "duration": 5,
    "start_time": "2022-12-13T15:16:51.000Z"
   },
   {
    "duration": 14,
    "start_time": "2022-12-13T15:17:16.239Z"
   },
   {
    "duration": 4,
    "start_time": "2022-12-13T15:17:49.117Z"
   },
   {
    "duration": 15,
    "start_time": "2022-12-13T15:17:50.872Z"
   },
   {
    "duration": 4,
    "start_time": "2022-12-13T15:19:37.964Z"
   },
   {
    "duration": 19,
    "start_time": "2022-12-13T15:19:42.836Z"
   },
   {
    "duration": 3,
    "start_time": "2022-12-13T15:21:31.645Z"
   },
   {
    "duration": 2742,
    "start_time": "2022-12-13T15:21:34.175Z"
   },
   {
    "duration": 6,
    "start_time": "2022-12-13T15:21:44.401Z"
   },
   {
    "duration": 7,
    "start_time": "2022-12-13T15:22:19.344Z"
   },
   {
    "duration": 5,
    "start_time": "2022-12-13T15:23:41.260Z"
   },
   {
    "duration": 370,
    "start_time": "2022-12-13T15:23:41.266Z"
   },
   {
    "duration": 24,
    "start_time": "2022-12-13T15:23:41.637Z"
   },
   {
    "duration": 114,
    "start_time": "2022-12-13T15:23:41.663Z"
   },
   {
    "duration": 1351,
    "start_time": "2022-12-13T15:23:41.779Z"
   },
   {
    "duration": 3,
    "start_time": "2022-12-13T15:23:43.131Z"
   },
   {
    "duration": 222,
    "start_time": "2022-12-13T15:23:43.135Z"
   },
   {
    "duration": 163,
    "start_time": "2022-12-13T15:23:43.358Z"
   },
   {
    "duration": 2,
    "start_time": "2022-12-13T15:23:43.524Z"
   },
   {
    "duration": 102,
    "start_time": "2022-12-13T15:23:43.528Z"
   },
   {
    "duration": 89,
    "start_time": "2022-12-13T15:23:43.633Z"
   },
   {
    "duration": 4,
    "start_time": "2022-12-13T15:23:43.723Z"
   },
   {
    "duration": 8,
    "start_time": "2022-12-13T15:23:43.729Z"
   },
   {
    "duration": 33,
    "start_time": "2022-12-13T15:23:43.739Z"
   },
   {
    "duration": 57,
    "start_time": "2022-12-13T15:23:43.773Z"
   },
   {
    "duration": 6,
    "start_time": "2022-12-13T15:23:43.831Z"
   },
   {
    "duration": 20784,
    "start_time": "2022-12-13T15:23:43.838Z"
   },
   {
    "duration": 94,
    "start_time": "2022-12-13T15:24:04.629Z"
   },
   {
    "duration": 25001,
    "start_time": "2022-12-13T15:24:04.724Z"
   },
   {
    "duration": 50108,
    "start_time": "2022-12-13T15:24:29.731Z"
   },
   {
    "duration": 6,
    "start_time": "2022-12-13T15:25:19.841Z"
   },
   {
    "duration": 6,
    "start_time": "2022-12-13T15:25:19.849Z"
   },
   {
    "duration": 971,
    "start_time": "2022-12-13T15:25:19.857Z"
   },
   {
    "duration": 93,
    "start_time": "2022-12-13T15:25:20.831Z"
   },
   {
    "duration": 101,
    "start_time": "2022-12-13T15:25:20.930Z"
   },
   {
    "duration": 8,
    "start_time": "2022-12-13T15:25:21.032Z"
   },
   {
    "duration": 11,
    "start_time": "2022-12-13T15:25:21.042Z"
   },
   {
    "duration": 3,
    "start_time": "2022-12-13T15:25:21.055Z"
   },
   {
    "duration": 4,
    "start_time": "2022-12-13T15:25:21.062Z"
   },
   {
    "duration": 11,
    "start_time": "2022-12-13T15:25:21.067Z"
   },
   {
    "duration": 16,
    "start_time": "2022-12-13T15:25:21.079Z"
   },
   {
    "duration": 25,
    "start_time": "2022-12-13T15:25:21.097Z"
   },
   {
    "duration": 0,
    "start_time": "2022-12-13T15:25:21.123Z"
   },
   {
    "duration": 0,
    "start_time": "2022-12-13T15:25:21.125Z"
   },
   {
    "duration": 7,
    "start_time": "2022-12-13T15:27:18.770Z"
   },
   {
    "duration": 4,
    "start_time": "2022-12-13T15:27:27.264Z"
   },
   {
    "duration": 5,
    "start_time": "2022-12-13T15:27:41.094Z"
   },
   {
    "duration": 6,
    "start_time": "2022-12-13T15:27:56.991Z"
   },
   {
    "duration": 3,
    "start_time": "2022-12-13T15:29:31.289Z"
   },
   {
    "duration": 5,
    "start_time": "2022-12-13T15:29:31.788Z"
   },
   {
    "duration": 3,
    "start_time": "2022-12-13T15:29:32.874Z"
   },
   {
    "duration": 4,
    "start_time": "2022-12-13T15:29:36.220Z"
   },
   {
    "duration": 53,
    "start_time": "2022-12-13T15:29:38.841Z"
   },
   {
    "duration": 18,
    "start_time": "2022-12-13T15:29:51.992Z"
   },
   {
    "duration": 3,
    "start_time": "2022-12-13T15:30:08.889Z"
   },
   {
    "duration": 25,
    "start_time": "2022-12-13T15:30:11.767Z"
   },
   {
    "duration": 3,
    "start_time": "2022-12-13T15:31:25.146Z"
   },
   {
    "duration": 4,
    "start_time": "2022-12-13T15:31:25.706Z"
   },
   {
    "duration": 23,
    "start_time": "2022-12-13T15:31:28.397Z"
   },
   {
    "duration": 4,
    "start_time": "2022-12-13T15:35:38.848Z"
   },
   {
    "duration": 24,
    "start_time": "2022-12-13T15:35:47.356Z"
   },
   {
    "duration": 4,
    "start_time": "2022-12-13T15:36:08.900Z"
   },
   {
    "duration": 3,
    "start_time": "2022-12-13T15:36:24.209Z"
   },
   {
    "duration": 17,
    "start_time": "2022-12-13T15:36:28.339Z"
   },
   {
    "duration": 17,
    "start_time": "2022-12-13T15:37:27.275Z"
   },
   {
    "duration": 3,
    "start_time": "2022-12-13T15:37:31.423Z"
   },
   {
    "duration": 24,
    "start_time": "2022-12-13T15:37:34.602Z"
   },
   {
    "duration": 6,
    "start_time": "2022-12-13T15:38:52.504Z"
   },
   {
    "duration": 6,
    "start_time": "2022-12-13T15:39:05.222Z"
   },
   {
    "duration": 3,
    "start_time": "2022-12-13T15:39:34.242Z"
   },
   {
    "duration": 23,
    "start_time": "2022-12-13T15:39:37.447Z"
   },
   {
    "duration": 4,
    "start_time": "2022-12-13T15:41:02.355Z"
   },
   {
    "duration": 22,
    "start_time": "2022-12-13T15:41:05.610Z"
   },
   {
    "duration": 10,
    "start_time": "2022-12-13T15:41:42.126Z"
   },
   {
    "duration": 5,
    "start_time": "2022-12-13T15:41:54.607Z"
   },
   {
    "duration": 5,
    "start_time": "2022-12-13T15:42:06.302Z"
   },
   {
    "duration": 4,
    "start_time": "2022-12-13T15:42:26.211Z"
   },
   {
    "duration": 24,
    "start_time": "2022-12-13T15:42:30.308Z"
   },
   {
    "duration": 4,
    "start_time": "2022-12-13T15:44:26.026Z"
   },
   {
    "duration": 23,
    "start_time": "2022-12-13T15:44:29.503Z"
   },
   {
    "duration": 3,
    "start_time": "2022-12-13T15:48:20.751Z"
   },
   {
    "duration": 24,
    "start_time": "2022-12-13T15:48:23.856Z"
   },
   {
    "duration": 3,
    "start_time": "2022-12-13T15:48:55.865Z"
   },
   {
    "duration": 23,
    "start_time": "2022-12-13T15:48:59.804Z"
   },
   {
    "duration": 3,
    "start_time": "2022-12-13T15:56:50.619Z"
   },
   {
    "duration": 3932,
    "start_time": "2022-12-13T15:56:54.708Z"
   },
   {
    "duration": 7,
    "start_time": "2022-12-13T15:57:01.451Z"
   },
   {
    "duration": 7,
    "start_time": "2022-12-13T15:57:04.879Z"
   },
   {
    "duration": 10,
    "start_time": "2022-12-13T16:02:18.455Z"
   },
   {
    "duration": 3,
    "start_time": "2022-12-13T16:03:57.986Z"
   },
   {
    "duration": 6,
    "start_time": "2022-12-13T16:04:03.515Z"
   },
   {
    "duration": 52,
    "start_time": "2022-12-13T16:04:16.145Z"
   },
   {
    "duration": 6,
    "start_time": "2022-12-13T16:04:22.312Z"
   },
   {
    "duration": 3,
    "start_time": "2022-12-13T16:05:05.784Z"
   },
   {
    "duration": 6,
    "start_time": "2022-12-13T16:05:26.405Z"
   },
   {
    "duration": 3867,
    "start_time": "2022-12-13T16:05:54.917Z"
   },
   {
    "duration": 3863,
    "start_time": "2022-12-13T16:06:25.643Z"
   },
   {
    "duration": 8,
    "start_time": "2022-12-13T16:06:40.202Z"
   },
   {
    "duration": 1314,
    "start_time": "2022-12-13T16:08:29.729Z"
   },
   {
    "duration": 3,
    "start_time": "2022-12-13T16:08:48.885Z"
   },
   {
    "duration": 1267,
    "start_time": "2022-12-13T16:08:55.773Z"
   },
   {
    "duration": 3895,
    "start_time": "2022-12-13T16:09:12.262Z"
   },
   {
    "duration": 10,
    "start_time": "2022-12-13T16:09:21.091Z"
   },
   {
    "duration": 3,
    "start_time": "2022-12-13T16:10:20.651Z"
   },
   {
    "duration": 3919,
    "start_time": "2022-12-13T16:10:24.964Z"
   },
   {
    "duration": 9,
    "start_time": "2022-12-13T16:10:28.885Z"
   },
   {
    "duration": 1303,
    "start_time": "2022-12-13T16:11:04.313Z"
   },
   {
    "duration": 3810,
    "start_time": "2022-12-13T16:11:12.425Z"
   },
   {
    "duration": 8,
    "start_time": "2022-12-13T16:11:16.237Z"
   },
   {
    "duration": 4,
    "start_time": "2022-12-13T16:12:05.425Z"
   },
   {
    "duration": 413,
    "start_time": "2022-12-13T16:12:05.430Z"
   },
   {
    "duration": 22,
    "start_time": "2022-12-13T16:12:05.845Z"
   },
   {
    "duration": 104,
    "start_time": "2022-12-13T16:12:05.869Z"
   },
   {
    "duration": 1745,
    "start_time": "2022-12-13T16:12:05.976Z"
   },
   {
    "duration": 3,
    "start_time": "2022-12-13T16:12:07.723Z"
   },
   {
    "duration": 231,
    "start_time": "2022-12-13T16:12:07.728Z"
   },
   {
    "duration": 162,
    "start_time": "2022-12-13T16:12:07.961Z"
   },
   {
    "duration": 2,
    "start_time": "2022-12-13T16:12:08.125Z"
   },
   {
    "duration": 95,
    "start_time": "2022-12-13T16:12:08.128Z"
   },
   {
    "duration": 29,
    "start_time": "2022-12-13T16:12:08.225Z"
   },
   {
    "duration": 3,
    "start_time": "2022-12-13T16:12:08.256Z"
   },
   {
    "duration": 7,
    "start_time": "2022-12-13T16:12:08.260Z"
   },
   {
    "duration": 31,
    "start_time": "2022-12-13T16:12:08.321Z"
   },
   {
    "duration": 12,
    "start_time": "2022-12-13T16:12:08.354Z"
   },
   {
    "duration": 10,
    "start_time": "2022-12-13T16:12:08.367Z"
   },
   {
    "duration": 24950,
    "start_time": "2022-12-13T16:12:08.378Z"
   },
   {
    "duration": 93,
    "start_time": "2022-12-13T16:12:33.330Z"
   },
   {
    "duration": 25400,
    "start_time": "2022-12-13T16:12:33.426Z"
   },
   {
    "duration": 48746,
    "start_time": "2022-12-13T16:12:58.827Z"
   },
   {
    "duration": 7,
    "start_time": "2022-12-13T16:13:47.576Z"
   },
   {
    "duration": 8,
    "start_time": "2022-12-13T16:13:47.584Z"
   },
   {
    "duration": 876,
    "start_time": "2022-12-13T16:13:47.594Z"
   },
   {
    "duration": 6,
    "start_time": "2022-12-13T16:13:48.522Z"
   },
   {
    "duration": 107,
    "start_time": "2022-12-13T16:13:48.530Z"
   },
   {
    "duration": 6,
    "start_time": "2022-12-13T16:13:48.639Z"
   },
   {
    "duration": 9,
    "start_time": "2022-12-13T16:13:48.647Z"
   },
   {
    "duration": 4,
    "start_time": "2022-12-13T16:13:48.658Z"
   },
   {
    "duration": 5,
    "start_time": "2022-12-13T16:13:48.666Z"
   },
   {
    "duration": 9,
    "start_time": "2022-12-13T16:13:48.672Z"
   },
   {
    "duration": 3887,
    "start_time": "2022-12-13T16:13:48.683Z"
   },
   {
    "duration": 10,
    "start_time": "2022-12-13T16:13:52.572Z"
   },
   {
    "duration": 4,
    "start_time": "2022-12-13T16:15:08.260Z"
   },
   {
    "duration": 380,
    "start_time": "2022-12-13T16:15:08.267Z"
   },
   {
    "duration": 24,
    "start_time": "2022-12-13T16:15:08.649Z"
   },
   {
    "duration": 111,
    "start_time": "2022-12-13T16:15:08.675Z"
   },
   {
    "duration": 918,
    "start_time": "2022-12-13T16:15:08.788Z"
   },
   {
    "duration": 3,
    "start_time": "2022-12-13T16:15:09.707Z"
   },
   {
    "duration": 220,
    "start_time": "2022-12-13T16:15:09.721Z"
   },
   {
    "duration": 115,
    "start_time": "2022-12-13T16:15:09.943Z"
   },
   {
    "duration": 271,
    "start_time": "2022-12-13T16:15:10.059Z"
   },
   {
    "duration": 97,
    "start_time": "2022-12-13T16:15:10.331Z"
   },
   {
    "duration": 31,
    "start_time": "2022-12-13T16:15:10.429Z"
   },
   {
    "duration": 60,
    "start_time": "2022-12-13T16:15:10.461Z"
   },
   {
    "duration": 2,
    "start_time": "2022-12-13T16:15:10.525Z"
   },
   {
    "duration": 92,
    "start_time": "2022-12-13T16:15:10.529Z"
   },
   {
    "duration": 13,
    "start_time": "2022-12-13T16:15:10.623Z"
   },
   {
    "duration": 39,
    "start_time": "2022-12-13T16:15:10.638Z"
   },
   {
    "duration": 26646,
    "start_time": "2022-12-13T16:15:10.679Z"
   },
   {
    "duration": 94,
    "start_time": "2022-12-13T16:15:37.327Z"
   },
   {
    "duration": 25812,
    "start_time": "2022-12-13T16:15:37.423Z"
   },
   {
    "duration": 39639,
    "start_time": "2022-12-13T16:16:03.237Z"
   },
   {
    "duration": 6,
    "start_time": "2022-12-13T16:16:42.878Z"
   },
   {
    "duration": 18,
    "start_time": "2022-12-13T16:16:42.885Z"
   },
   {
    "duration": 865,
    "start_time": "2022-12-13T16:16:42.904Z"
   },
   {
    "duration": 6,
    "start_time": "2022-12-13T16:16:43.822Z"
   },
   {
    "duration": 99,
    "start_time": "2022-12-13T16:16:43.830Z"
   },
   {
    "duration": 9,
    "start_time": "2022-12-13T16:16:43.931Z"
   },
   {
    "duration": 10,
    "start_time": "2022-12-13T16:16:43.941Z"
   },
   {
    "duration": 9,
    "start_time": "2022-12-13T16:16:43.952Z"
   },
   {
    "duration": 7,
    "start_time": "2022-12-13T16:16:43.962Z"
   },
   {
    "duration": 7,
    "start_time": "2022-12-13T16:16:43.970Z"
   },
   {
    "duration": 3896,
    "start_time": "2022-12-13T16:16:43.979Z"
   },
   {
    "duration": 8,
    "start_time": "2022-12-13T16:16:47.877Z"
   },
   {
    "duration": 1282,
    "start_time": "2022-12-13T16:19:02.866Z"
   },
   {
    "duration": 0,
    "start_time": "2022-12-13T16:19:04.150Z"
   },
   {
    "duration": 4,
    "start_time": "2022-12-13T16:19:10.479Z"
   },
   {
    "duration": 3864,
    "start_time": "2022-12-13T16:19:11.283Z"
   },
   {
    "duration": 9,
    "start_time": "2022-12-13T16:19:15.149Z"
   },
   {
    "duration": 4,
    "start_time": "2022-12-13T16:20:20.319Z"
   },
   {
    "duration": 3888,
    "start_time": "2022-12-13T16:20:22.064Z"
   },
   {
    "duration": 8,
    "start_time": "2022-12-13T16:20:25.954Z"
   },
   {
    "duration": 9,
    "start_time": "2022-12-13T16:21:04.414Z"
   },
   {
    "duration": 10,
    "start_time": "2022-12-13T16:21:21.908Z"
   },
   {
    "duration": 3123,
    "start_time": "2022-12-14T10:55:28.710Z"
   },
   {
    "duration": 2359,
    "start_time": "2022-12-14T10:55:31.835Z"
   },
   {
    "duration": 29,
    "start_time": "2022-12-14T10:55:34.196Z"
   },
   {
    "duration": 112,
    "start_time": "2022-12-14T10:55:34.226Z"
   },
   {
    "duration": 1043,
    "start_time": "2022-12-14T10:55:34.341Z"
   },
   {
    "duration": 2,
    "start_time": "2022-12-14T10:55:35.386Z"
   },
   {
    "duration": 152,
    "start_time": "2022-12-14T10:55:35.389Z"
   },
   {
    "duration": 79,
    "start_time": "2022-12-14T10:55:35.543Z"
   },
   {
    "duration": 154,
    "start_time": "2022-12-14T10:55:35.624Z"
   },
   {
    "duration": 33,
    "start_time": "2022-12-14T10:55:35.781Z"
   },
   {
    "duration": 39,
    "start_time": "2022-12-14T10:55:35.816Z"
   },
   {
    "duration": 26,
    "start_time": "2022-12-14T10:55:35.857Z"
   },
   {
    "duration": 56,
    "start_time": "2022-12-14T10:55:35.885Z"
   },
   {
    "duration": 12,
    "start_time": "2022-12-14T10:55:35.944Z"
   },
   {
    "duration": 10,
    "start_time": "2022-12-14T10:55:35.957Z"
   },
   {
    "duration": 20217,
    "start_time": "2022-12-14T10:55:35.968Z"
   },
   {
    "duration": 94,
    "start_time": "2022-12-14T10:55:56.187Z"
   },
   {
    "duration": 20503,
    "start_time": "2022-12-14T10:55:56.283Z"
   },
   {
    "duration": 53073,
    "start_time": "2022-12-14T10:56:16.879Z"
   },
   {
    "duration": 6,
    "start_time": "2022-12-14T10:57:09.954Z"
   },
   {
    "duration": 21,
    "start_time": "2022-12-14T10:57:09.961Z"
   },
   {
    "duration": 952,
    "start_time": "2022-12-14T10:57:09.984Z"
   },
   {
    "duration": 47,
    "start_time": "2022-12-14T10:57:10.938Z"
   },
   {
    "duration": 106,
    "start_time": "2022-12-14T10:57:10.987Z"
   },
   {
    "duration": 22,
    "start_time": "2022-12-14T10:57:11.095Z"
   },
   {
    "duration": 23,
    "start_time": "2022-12-14T10:57:11.118Z"
   },
   {
    "duration": 17,
    "start_time": "2022-12-14T10:57:11.143Z"
   },
   {
    "duration": 17,
    "start_time": "2022-12-14T10:57:11.162Z"
   },
   {
    "duration": 16,
    "start_time": "2022-12-14T10:57:11.180Z"
   },
   {
    "duration": 3934,
    "start_time": "2022-12-14T10:57:11.197Z"
   },
   {
    "duration": 10,
    "start_time": "2022-12-14T10:57:15.132Z"
   },
   {
    "duration": 48,
    "start_time": "2022-12-14T11:50:47.800Z"
   },
   {
    "duration": 1576,
    "start_time": "2022-12-14T11:50:51.440Z"
   },
   {
    "duration": 598,
    "start_time": "2022-12-14T11:50:53.018Z"
   },
   {
    "duration": 29,
    "start_time": "2022-12-14T11:50:53.618Z"
   },
   {
    "duration": 177,
    "start_time": "2022-12-14T11:50:53.649Z"
   },
   {
    "duration": 2094,
    "start_time": "2022-12-14T11:50:53.828Z"
   },
   {
    "duration": 4,
    "start_time": "2022-12-14T11:50:55.923Z"
   },
   {
    "duration": 157,
    "start_time": "2022-12-14T11:50:55.928Z"
   },
   {
    "duration": 78,
    "start_time": "2022-12-14T11:50:56.087Z"
   },
   {
    "duration": 141,
    "start_time": "2022-12-14T11:50:56.166Z"
   },
   {
    "duration": 36,
    "start_time": "2022-12-14T11:50:56.311Z"
   },
   {
    "duration": 4,
    "start_time": "2022-12-14T11:50:56.349Z"
   },
   {
    "duration": 5,
    "start_time": "2022-12-14T11:50:56.354Z"
   },
   {
    "duration": 63,
    "start_time": "2022-12-14T11:50:56.360Z"
   },
   {
    "duration": 12,
    "start_time": "2022-12-14T11:50:56.425Z"
   },
   {
    "duration": 4,
    "start_time": "2022-12-14T11:50:56.438Z"
   },
   {
    "duration": 1674,
    "start_time": "2022-12-14T11:50:56.443Z"
   },
   {
    "duration": 5,
    "start_time": "2022-12-14T11:50:58.119Z"
   },
   {
    "duration": 1905,
    "start_time": "2022-12-14T11:50:58.213Z"
   },
   {
    "duration": 56693,
    "start_time": "2022-12-14T11:51:00.120Z"
   },
   {
    "duration": 7,
    "start_time": "2022-12-14T11:51:56.815Z"
   },
   {
    "duration": 15,
    "start_time": "2022-12-14T11:51:56.823Z"
   },
   {
    "duration": 973,
    "start_time": "2022-12-14T11:51:56.840Z"
   },
   {
    "duration": 97,
    "start_time": "2022-12-14T11:51:57.816Z"
   },
   {
    "duration": 13,
    "start_time": "2022-12-14T11:51:57.915Z"
   },
   {
    "duration": 6,
    "start_time": "2022-12-14T11:51:57.930Z"
   },
   {
    "duration": 9,
    "start_time": "2022-12-14T11:51:57.938Z"
   },
   {
    "duration": 3,
    "start_time": "2022-12-14T11:51:57.949Z"
   },
   {
    "duration": 4,
    "start_time": "2022-12-14T11:51:57.955Z"
   },
   {
    "duration": 7,
    "start_time": "2022-12-14T11:51:57.961Z"
   },
   {
    "duration": 4311,
    "start_time": "2022-12-14T11:51:57.970Z"
   },
   {
    "duration": 10,
    "start_time": "2022-12-14T11:52:02.283Z"
   },
   {
    "duration": 2673,
    "start_time": "2022-12-14T11:53:58.778Z"
   },
   {
    "duration": 5,
    "start_time": "2022-12-14T11:58:00.016Z"
   },
   {
    "duration": 3,
    "start_time": "2022-12-14T11:58:12.538Z"
   },
   {
    "duration": 276,
    "start_time": "2022-12-14T11:58:12.544Z"
   },
   {
    "duration": 5,
    "start_time": "2022-12-14T11:58:12.912Z"
   },
   {
    "duration": 15,
    "start_time": "2022-12-14T11:58:13.011Z"
   },
   {
    "duration": 12,
    "start_time": "2022-12-14T11:58:13.028Z"
   },
   {
    "duration": 8,
    "start_time": "2022-12-14T11:58:13.042Z"
   },
   {
    "duration": 3,
    "start_time": "2022-12-14T11:58:13.052Z"
   },
   {
    "duration": 8,
    "start_time": "2022-12-14T11:58:13.056Z"
   },
   {
    "duration": 6,
    "start_time": "2022-12-14T11:58:13.065Z"
   },
   {
    "duration": 5220,
    "start_time": "2022-12-14T11:58:13.072Z"
   },
   {
    "duration": 10,
    "start_time": "2022-12-14T11:58:18.294Z"
   },
   {
    "duration": 316,
    "start_time": "2022-12-14T12:03:34.504Z"
   },
   {
    "duration": 5,
    "start_time": "2022-12-14T12:03:40.333Z"
   },
   {
    "duration": 9,
    "start_time": "2022-12-14T12:03:42.155Z"
   },
   {
    "duration": 51,
    "start_time": "2022-12-14T12:05:21.236Z"
   },
   {
    "duration": 7,
    "start_time": "2022-12-14T12:05:45.787Z"
   }
  ],
  "kernelspec": {
   "display_name": "Python 3 (ipykernel)",
   "language": "python",
   "name": "python3"
  },
  "language_info": {
   "codemirror_mode": {
    "name": "ipython",
    "version": 3
   },
   "file_extension": ".py",
   "mimetype": "text/x-python",
   "name": "python",
   "nbconvert_exporter": "python",
   "pygments_lexer": "ipython3",
   "version": "3.9.12"
  },
  "toc": {
   "base_numbering": 1,
   "nav_menu": {},
   "number_sections": true,
   "sideBar": true,
   "skip_h1_title": true,
   "title_cell": "Table of Contents",
   "title_sidebar": "Contents",
   "toc_cell": false,
   "toc_position": {
    "height": "calc(100% - 180px)",
    "left": "10px",
    "top": "150px",
    "width": "318.195px"
   },
   "toc_section_display": true,
   "toc_window_display": true
  }
 },
 "nbformat": 4,
 "nbformat_minor": 2
}
