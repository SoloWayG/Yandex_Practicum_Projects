{
 "cells": [
  {
   "cell_type": "markdown",
   "metadata": {},
   "source": [
    "# Определение стоимости автомобилей"
   ]
  },
  {
   "cell_type": "markdown",
   "metadata": {},
   "source": [
    "Сервис по продаже автомобилей с пробегом «Не бит, не крашен» разрабатывает приложение для привлечения новых клиентов. В нём можно быстро узнать рыночную стоимость своего автомобиля. В вашем распоряжении исторические данные: технические характеристики, комплектации и цены автомобилей. Вам нужно построить модель для определения стоимости. \n",
    "\n",
    "Заказчику важны:\n",
    "\n",
    "- качество предсказания;\n",
    "- скорость предсказания;\n",
    "- время обучения."
   ]
  },
  {
   "cell_type": "markdown",
   "metadata": {},
   "source": [
    "## Подготовка данных"
   ]
  },
  {
   "cell_type": "code",
   "execution_count": 2,
   "metadata": {},
   "outputs": [],
   "source": [
    "import pandas as pd\n",
    "import numpy as np\n",
    "import seaborn as sns\n",
    "from sklearn.pipeline import make_pipeline\n",
    "from sklearn.preprocessing import OrdinalEncoder\n",
    "import time\n",
    "import lightgbm as lgb\n",
    "import matplotlib.pyplot as plt\n",
    "from sklearn.metrics import roc_auc_score, precision_score, recall_score, classification_report, accuracy_score\n",
    "from sklearn.model_selection import train_test_split\n",
    "from sklearn.metrics import mean_squared_error\n",
    "from sklearn.model_selection import GridSearchCV,RandomizedSearchCV\n",
    "from tqdm import tqdm\n",
    "from sklearn.tree import DecisionTreeRegressor\n",
    "from sklearn.ensemble import RandomForestRegressor"
   ]
  },
  {
   "cell_type": "code",
   "execution_count": 4,
   "metadata": {},
   "outputs": [],
   "source": [
    "df=pd.read_csv('/datasets/autos.csv')\n"
   ]
  },
  {
   "cell_type": "code",
   "execution_count": 5,
   "metadata": {},
   "outputs": [
    {
     "data": {
      "text/html": [
       "<div>\n",
       "<style scoped>\n",
       "    .dataframe tbody tr th:only-of-type {\n",
       "        vertical-align: middle;\n",
       "    }\n",
       "\n",
       "    .dataframe tbody tr th {\n",
       "        vertical-align: top;\n",
       "    }\n",
       "\n",
       "    .dataframe thead th {\n",
       "        text-align: right;\n",
       "    }\n",
       "</style>\n",
       "<table border=\"1\" class=\"dataframe\">\n",
       "  <thead>\n",
       "    <tr style=\"text-align: right;\">\n",
       "      <th></th>\n",
       "      <th>DateCrawled</th>\n",
       "      <th>Price</th>\n",
       "      <th>VehicleType</th>\n",
       "      <th>RegistrationYear</th>\n",
       "      <th>Gearbox</th>\n",
       "      <th>Power</th>\n",
       "      <th>Model</th>\n",
       "      <th>Kilometer</th>\n",
       "      <th>RegistrationMonth</th>\n",
       "      <th>FuelType</th>\n",
       "      <th>Brand</th>\n",
       "      <th>Repaired</th>\n",
       "      <th>DateCreated</th>\n",
       "      <th>NumberOfPictures</th>\n",
       "      <th>PostalCode</th>\n",
       "      <th>LastSeen</th>\n",
       "    </tr>\n",
       "  </thead>\n",
       "  <tbody>\n",
       "    <tr>\n",
       "      <th>0</th>\n",
       "      <td>2016-03-24 11:52:17</td>\n",
       "      <td>480</td>\n",
       "      <td>NaN</td>\n",
       "      <td>1993</td>\n",
       "      <td>manual</td>\n",
       "      <td>0</td>\n",
       "      <td>golf</td>\n",
       "      <td>150000</td>\n",
       "      <td>0</td>\n",
       "      <td>petrol</td>\n",
       "      <td>volkswagen</td>\n",
       "      <td>NaN</td>\n",
       "      <td>2016-03-24 00:00:00</td>\n",
       "      <td>0</td>\n",
       "      <td>70435</td>\n",
       "      <td>2016-04-07 03:16:57</td>\n",
       "    </tr>\n",
       "    <tr>\n",
       "      <th>1</th>\n",
       "      <td>2016-03-24 10:58:45</td>\n",
       "      <td>18300</td>\n",
       "      <td>coupe</td>\n",
       "      <td>2011</td>\n",
       "      <td>manual</td>\n",
       "      <td>190</td>\n",
       "      <td>NaN</td>\n",
       "      <td>125000</td>\n",
       "      <td>5</td>\n",
       "      <td>gasoline</td>\n",
       "      <td>audi</td>\n",
       "      <td>yes</td>\n",
       "      <td>2016-03-24 00:00:00</td>\n",
       "      <td>0</td>\n",
       "      <td>66954</td>\n",
       "      <td>2016-04-07 01:46:50</td>\n",
       "    </tr>\n",
       "    <tr>\n",
       "      <th>2</th>\n",
       "      <td>2016-03-14 12:52:21</td>\n",
       "      <td>9800</td>\n",
       "      <td>suv</td>\n",
       "      <td>2004</td>\n",
       "      <td>auto</td>\n",
       "      <td>163</td>\n",
       "      <td>grand</td>\n",
       "      <td>125000</td>\n",
       "      <td>8</td>\n",
       "      <td>gasoline</td>\n",
       "      <td>jeep</td>\n",
       "      <td>NaN</td>\n",
       "      <td>2016-03-14 00:00:00</td>\n",
       "      <td>0</td>\n",
       "      <td>90480</td>\n",
       "      <td>2016-04-05 12:47:46</td>\n",
       "    </tr>\n",
       "    <tr>\n",
       "      <th>3</th>\n",
       "      <td>2016-03-17 16:54:04</td>\n",
       "      <td>1500</td>\n",
       "      <td>small</td>\n",
       "      <td>2001</td>\n",
       "      <td>manual</td>\n",
       "      <td>75</td>\n",
       "      <td>golf</td>\n",
       "      <td>150000</td>\n",
       "      <td>6</td>\n",
       "      <td>petrol</td>\n",
       "      <td>volkswagen</td>\n",
       "      <td>no</td>\n",
       "      <td>2016-03-17 00:00:00</td>\n",
       "      <td>0</td>\n",
       "      <td>91074</td>\n",
       "      <td>2016-03-17 17:40:17</td>\n",
       "    </tr>\n",
       "    <tr>\n",
       "      <th>4</th>\n",
       "      <td>2016-03-31 17:25:20</td>\n",
       "      <td>3600</td>\n",
       "      <td>small</td>\n",
       "      <td>2008</td>\n",
       "      <td>manual</td>\n",
       "      <td>69</td>\n",
       "      <td>fabia</td>\n",
       "      <td>90000</td>\n",
       "      <td>7</td>\n",
       "      <td>gasoline</td>\n",
       "      <td>skoda</td>\n",
       "      <td>no</td>\n",
       "      <td>2016-03-31 00:00:00</td>\n",
       "      <td>0</td>\n",
       "      <td>60437</td>\n",
       "      <td>2016-04-06 10:17:21</td>\n",
       "    </tr>\n",
       "  </tbody>\n",
       "</table>\n",
       "</div>"
      ],
      "text/plain": [
       "           DateCrawled  Price VehicleType  RegistrationYear Gearbox  Power  \\\n",
       "0  2016-03-24 11:52:17    480         NaN              1993  manual      0   \n",
       "1  2016-03-24 10:58:45  18300       coupe              2011  manual    190   \n",
       "2  2016-03-14 12:52:21   9800         suv              2004    auto    163   \n",
       "3  2016-03-17 16:54:04   1500       small              2001  manual     75   \n",
       "4  2016-03-31 17:25:20   3600       small              2008  manual     69   \n",
       "\n",
       "   Model  Kilometer  RegistrationMonth  FuelType       Brand Repaired  \\\n",
       "0   golf     150000                  0    petrol  volkswagen      NaN   \n",
       "1    NaN     125000                  5  gasoline        audi      yes   \n",
       "2  grand     125000                  8  gasoline        jeep      NaN   \n",
       "3   golf     150000                  6    petrol  volkswagen       no   \n",
       "4  fabia      90000                  7  gasoline       skoda       no   \n",
       "\n",
       "           DateCreated  NumberOfPictures  PostalCode             LastSeen  \n",
       "0  2016-03-24 00:00:00                 0       70435  2016-04-07 03:16:57  \n",
       "1  2016-03-24 00:00:00                 0       66954  2016-04-07 01:46:50  \n",
       "2  2016-03-14 00:00:00                 0       90480  2016-04-05 12:47:46  \n",
       "3  2016-03-17 00:00:00                 0       91074  2016-03-17 17:40:17  \n",
       "4  2016-03-31 00:00:00                 0       60437  2016-04-06 10:17:21  "
      ]
     },
     "execution_count": 5,
     "metadata": {},
     "output_type": "execute_result"
    }
   ],
   "source": [
    "df.head()"
   ]
  },
  {
   "cell_type": "markdown",
   "metadata": {},
   "source": [
    "### Выбросы и пропуски"
   ]
  },
  {
   "cell_type": "code",
   "execution_count": 6,
   "metadata": {},
   "outputs": [
    {
     "data": {
      "text/plain": [
       "array([0])"
      ]
     },
     "execution_count": 6,
     "metadata": {},
     "output_type": "execute_result"
    }
   ],
   "source": [
    "df['NumberOfPictures'].unique()"
   ]
  },
  {
   "cell_type": "markdown",
   "metadata": {},
   "source": [
    "Хороший магазин, и машиные красивые. Ничего что нет ни одной фотографии"
   ]
  },
  {
   "cell_type": "code",
   "execution_count": 7,
   "metadata": {},
   "outputs": [],
   "source": [
    "df=df.drop('NumberOfPictures',axis=1)"
   ]
  },
  {
   "cell_type": "code",
   "execution_count": 8,
   "metadata": {},
   "outputs": [
    {
     "name": "stdout",
     "output_type": "stream",
     "text": [
      "<class 'pandas.core.frame.DataFrame'>\n",
      "RangeIndex: 354369 entries, 0 to 354368\n",
      "Data columns (total 15 columns):\n",
      " #   Column             Non-Null Count   Dtype \n",
      "---  ------             --------------   ----- \n",
      " 0   DateCrawled        354369 non-null  object\n",
      " 1   Price              354369 non-null  int64 \n",
      " 2   VehicleType        316879 non-null  object\n",
      " 3   RegistrationYear   354369 non-null  int64 \n",
      " 4   Gearbox            334536 non-null  object\n",
      " 5   Power              354369 non-null  int64 \n",
      " 6   Model              334664 non-null  object\n",
      " 7   Kilometer          354369 non-null  int64 \n",
      " 8   RegistrationMonth  354369 non-null  int64 \n",
      " 9   FuelType           321474 non-null  object\n",
      " 10  Brand              354369 non-null  object\n",
      " 11  Repaired           283215 non-null  object\n",
      " 12  DateCreated        354369 non-null  object\n",
      " 13  PostalCode         354369 non-null  int64 \n",
      " 14  LastSeen           354369 non-null  object\n",
      "dtypes: int64(6), object(9)\n",
      "memory usage: 40.6+ MB\n"
     ]
    }
   ],
   "source": [
    "df.info()"
   ]
  },
  {
   "cell_type": "code",
   "execution_count": 9,
   "metadata": {},
   "outputs": [],
   "source": [
    "cat_col=list(df.select_dtypes(include=object).columns)\n",
    "num_col=list(df.select_dtypes(exclude=object).columns)"
   ]
  },
  {
   "cell_type": "code",
   "execution_count": 10,
   "metadata": {},
   "outputs": [
    {
     "data": {
      "text/plain": [
       "<AxesSubplot:>"
      ]
     },
     "execution_count": 10,
     "metadata": {},
     "output_type": "execute_result"
    },
    {
     "data": {
      "image/png": "[encoded data removed]",
      "text/plain": [
       "<Figure size 1080x1080 with 2 Axes>"
      ]
     },
     "metadata": {
      "needs_background": "light"
     },
     "output_type": "display_data"
    }
   ],
   "source": [
    "enc_df=df.copy().dropna()\n",
    "enc=OrdinalEncoder().fit_transform(df[cat_col].dropna())\n",
    "enc_df[cat_col]=enc\n",
    "fig, ax = plt.subplots(figsize=(15,15)) \n",
    "sns.heatmap(pd.DataFrame(enc_df,columns=df.columns).corr(),annot=True)"
   ]
  },
  {
   "cell_type": "markdown",
   "metadata": {},
   "source": [
    "DateCreated и DateCrawled  зависят друг от друга напряму, анкету создают и скачивают в полдннь, не думаю что это несет ценность, вохможно стоит удалить один из столбцов, или даже оба- как дата публикации объявления влияет на цену? Никак, тогда и lastseen. Ну наверное почтый индекс тоже не несет нагрузки."
   ]
  },
  {
   "cell_type": "code",
   "execution_count": 11,
   "metadata": {},
   "outputs": [],
   "source": [
    "df=df.drop(['DateCreated','DateCrawled','LastSeen','PostalCode'],axis=1)"
   ]
  },
  {
   "cell_type": "code",
   "execution_count": 12,
   "metadata": {},
   "outputs": [
    {
     "data": {
      "text/plain": [
       "Price                    0\n",
       "VehicleType          37490\n",
       "RegistrationYear         0\n",
       "Gearbox              19833\n",
       "Power                    0\n",
       "Model                19705\n",
       "Kilometer                0\n",
       "RegistrationMonth        0\n",
       "FuelType             32895\n",
       "Brand                    0\n",
       "Repaired             71154\n",
       "dtype: int64"
      ]
     },
     "execution_count": 12,
     "metadata": {},
     "output_type": "execute_result"
    }
   ],
   "source": [
    "df.isna().sum()"
   ]
  },
  {
   "cell_type": "code",
   "execution_count": 13,
   "metadata": {},
   "outputs": [
    {
     "data": {
      "text/html": [
       "<div>\n",
       "<style scoped>\n",
       "    .dataframe tbody tr th:only-of-type {\n",
       "        vertical-align: middle;\n",
       "    }\n",
       "\n",
       "    .dataframe tbody tr th {\n",
       "        vertical-align: top;\n",
       "    }\n",
       "\n",
       "    .dataframe thead th {\n",
       "        text-align: right;\n",
       "    }\n",
       "</style>\n",
       "<table border=\"1\" class=\"dataframe\">\n",
       "  <thead>\n",
       "    <tr style=\"text-align: right;\">\n",
       "      <th></th>\n",
       "      <th>Price</th>\n",
       "      <th>VehicleType</th>\n",
       "      <th>RegistrationYear</th>\n",
       "      <th>Gearbox</th>\n",
       "      <th>Power</th>\n",
       "      <th>Kilometer</th>\n",
       "      <th>RegistrationMonth</th>\n",
       "      <th>FuelType</th>\n",
       "      <th>Brand</th>\n",
       "      <th>Repaired</th>\n",
       "    </tr>\n",
       "    <tr>\n",
       "      <th>Model</th>\n",
       "      <th></th>\n",
       "      <th></th>\n",
       "      <th></th>\n",
       "      <th></th>\n",
       "      <th></th>\n",
       "      <th></th>\n",
       "      <th></th>\n",
       "      <th></th>\n",
       "      <th></th>\n",
       "      <th></th>\n",
       "    </tr>\n",
       "  </thead>\n",
       "  <tbody>\n",
       "    <tr>\n",
       "      <th>100</th>\n",
       "      <td>0</td>\n",
       "      <td>sedan</td>\n",
       "      <td>1991</td>\n",
       "      <td>manual</td>\n",
       "      <td>150</td>\n",
       "      <td>150000</td>\n",
       "      <td>0</td>\n",
       "      <td>petrol</td>\n",
       "      <td>audi</td>\n",
       "      <td>no</td>\n",
       "    </tr>\n",
       "    <tr>\n",
       "      <th>145</th>\n",
       "      <td>250</td>\n",
       "      <td>small</td>\n",
       "      <td>2000</td>\n",
       "      <td>manual</td>\n",
       "      <td>103</td>\n",
       "      <td>150000</td>\n",
       "      <td>0</td>\n",
       "      <td>petrol</td>\n",
       "      <td>alfa_romeo</td>\n",
       "      <td>no</td>\n",
       "    </tr>\n",
       "    <tr>\n",
       "      <th>147</th>\n",
       "      <td>1500</td>\n",
       "      <td>sedan</td>\n",
       "      <td>2001</td>\n",
       "      <td>manual</td>\n",
       "      <td>105</td>\n",
       "      <td>150000</td>\n",
       "      <td>3</td>\n",
       "      <td>petrol</td>\n",
       "      <td>alfa_romeo</td>\n",
       "      <td>no</td>\n",
       "    </tr>\n",
       "    <tr>\n",
       "      <th>156</th>\n",
       "      <td>0</td>\n",
       "      <td>wagon</td>\n",
       "      <td>2001</td>\n",
       "      <td>manual</td>\n",
       "      <td>155</td>\n",
       "      <td>150000</td>\n",
       "      <td>0</td>\n",
       "      <td>petrol</td>\n",
       "      <td>alfa_romeo</td>\n",
       "      <td>no</td>\n",
       "    </tr>\n",
       "    <tr>\n",
       "      <th>159</th>\n",
       "      <td>5500</td>\n",
       "      <td>wagon</td>\n",
       "      <td>2006</td>\n",
       "      <td>manual</td>\n",
       "      <td>150</td>\n",
       "      <td>150000</td>\n",
       "      <td>5</td>\n",
       "      <td>gasoline</td>\n",
       "      <td>alfa_romeo</td>\n",
       "      <td>no</td>\n",
       "    </tr>\n",
       "    <tr>\n",
       "      <th>...</th>\n",
       "      <td>...</td>\n",
       "      <td>...</td>\n",
       "      <td>...</td>\n",
       "      <td>...</td>\n",
       "      <td>...</td>\n",
       "      <td>...</td>\n",
       "      <td>...</td>\n",
       "      <td>...</td>\n",
       "      <td>...</td>\n",
       "      <td>...</td>\n",
       "    </tr>\n",
       "    <tr>\n",
       "      <th>yaris</th>\n",
       "      <td>2500</td>\n",
       "      <td>small</td>\n",
       "      <td>2001</td>\n",
       "      <td>manual</td>\n",
       "      <td>69</td>\n",
       "      <td>150000</td>\n",
       "      <td>3</td>\n",
       "      <td>petrol</td>\n",
       "      <td>toyota</td>\n",
       "      <td>no</td>\n",
       "    </tr>\n",
       "    <tr>\n",
       "      <th>yeti</th>\n",
       "      <td>12900</td>\n",
       "      <td>suv</td>\n",
       "      <td>2011</td>\n",
       "      <td>manual</td>\n",
       "      <td>105</td>\n",
       "      <td>70000</td>\n",
       "      <td>3</td>\n",
       "      <td>petrol</td>\n",
       "      <td>skoda</td>\n",
       "      <td>no</td>\n",
       "    </tr>\n",
       "    <tr>\n",
       "      <th>ypsilon</th>\n",
       "      <td>500</td>\n",
       "      <td>small</td>\n",
       "      <td>2000</td>\n",
       "      <td>manual</td>\n",
       "      <td>60</td>\n",
       "      <td>150000</td>\n",
       "      <td>3</td>\n",
       "      <td>petrol</td>\n",
       "      <td>lancia</td>\n",
       "      <td>no</td>\n",
       "    </tr>\n",
       "    <tr>\n",
       "      <th>z_reihe</th>\n",
       "      <td>[9900, 13900]</td>\n",
       "      <td>convertible</td>\n",
       "      <td>2003</td>\n",
       "      <td>manual</td>\n",
       "      <td>192</td>\n",
       "      <td>150000</td>\n",
       "      <td>3</td>\n",
       "      <td>petrol</td>\n",
       "      <td>bmw</td>\n",
       "      <td>no</td>\n",
       "    </tr>\n",
       "    <tr>\n",
       "      <th>zafira</th>\n",
       "      <td>2500</td>\n",
       "      <td>bus</td>\n",
       "      <td>2005</td>\n",
       "      <td>manual</td>\n",
       "      <td>125</td>\n",
       "      <td>150000</td>\n",
       "      <td>5</td>\n",
       "      <td>petrol</td>\n",
       "      <td>opel</td>\n",
       "      <td>no</td>\n",
       "    </tr>\n",
       "  </tbody>\n",
       "</table>\n",
       "<p>250 rows × 10 columns</p>\n",
       "</div>"
      ],
      "text/plain": [
       "                 Price  VehicleType RegistrationYear Gearbox Power Kilometer  \\\n",
       "Model                                                                          \n",
       "100                  0        sedan             1991  manual   150    150000   \n",
       "145                250        small             2000  manual   103    150000   \n",
       "147               1500        sedan             2001  manual   105    150000   \n",
       "156                  0        wagon             2001  manual   155    150000   \n",
       "159               5500        wagon             2006  manual   150    150000   \n",
       "...                ...          ...              ...     ...   ...       ...   \n",
       "yaris             2500        small             2001  manual    69    150000   \n",
       "yeti             12900          suv             2011  manual   105     70000   \n",
       "ypsilon            500        small             2000  manual    60    150000   \n",
       "z_reihe  [9900, 13900]  convertible             2003  manual   192    150000   \n",
       "zafira            2500          bus             2005  manual   125    150000   \n",
       "\n",
       "        RegistrationMonth  FuelType       Brand Repaired  \n",
       "Model                                                     \n",
       "100                     0    petrol        audi       no  \n",
       "145                     0    petrol  alfa_romeo       no  \n",
       "147                     3    petrol  alfa_romeo       no  \n",
       "156                     0    petrol  alfa_romeo       no  \n",
       "159                     5  gasoline  alfa_romeo       no  \n",
       "...                   ...       ...         ...      ...  \n",
       "yaris                   3    petrol      toyota       no  \n",
       "yeti                    3    petrol       skoda       no  \n",
       "ypsilon                 3    petrol      lancia       no  \n",
       "z_reihe                 3    petrol         bmw       no  \n",
       "zafira                  5    petrol        opel       no  \n",
       "\n",
       "[250 rows x 10 columns]"
      ]
     },
     "execution_count": 13,
     "metadata": {},
     "output_type": "execute_result"
    }
   ],
   "source": [
    "df.groupby(by=['Model']).agg(\n",
    "        pd.Series.mode)\n"
   ]
  },
  {
   "cell_type": "code",
   "execution_count": 14,
   "metadata": {},
   "outputs": [
    {
     "data": {
      "text/html": [
       "<div>\n",
       "<style scoped>\n",
       "    .dataframe tbody tr th:only-of-type {\n",
       "        vertical-align: middle;\n",
       "    }\n",
       "\n",
       "    .dataframe tbody tr th {\n",
       "        vertical-align: top;\n",
       "    }\n",
       "\n",
       "    .dataframe thead th {\n",
       "        text-align: right;\n",
       "    }\n",
       "</style>\n",
       "<table border=\"1\" class=\"dataframe\">\n",
       "  <thead>\n",
       "    <tr style=\"text-align: right;\">\n",
       "      <th></th>\n",
       "      <th>Price</th>\n",
       "      <th>VehicleType</th>\n",
       "      <th>RegistrationYear</th>\n",
       "      <th>Gearbox</th>\n",
       "      <th>Power</th>\n",
       "      <th>Model</th>\n",
       "      <th>Kilometer</th>\n",
       "      <th>RegistrationMonth</th>\n",
       "      <th>FuelType</th>\n",
       "      <th>Repaired</th>\n",
       "    </tr>\n",
       "    <tr>\n",
       "      <th>Brand</th>\n",
       "      <th></th>\n",
       "      <th></th>\n",
       "      <th></th>\n",
       "      <th></th>\n",
       "      <th></th>\n",
       "      <th></th>\n",
       "      <th></th>\n",
       "      <th></th>\n",
       "      <th></th>\n",
       "      <th></th>\n",
       "    </tr>\n",
       "  </thead>\n",
       "  <tbody>\n",
       "    <tr>\n",
       "      <th>alfa_romeo</th>\n",
       "      <td>0</td>\n",
       "      <td>sedan</td>\n",
       "      <td>2001</td>\n",
       "      <td>manual</td>\n",
       "      <td>150</td>\n",
       "      <td>156</td>\n",
       "      <td>150000</td>\n",
       "      <td>0</td>\n",
       "      <td>petrol</td>\n",
       "      <td>no</td>\n",
       "    </tr>\n",
       "    <tr>\n",
       "      <th>audi</th>\n",
       "      <td>0</td>\n",
       "      <td>wagon</td>\n",
       "      <td>2006</td>\n",
       "      <td>manual</td>\n",
       "      <td>0</td>\n",
       "      <td>a4</td>\n",
       "      <td>150000</td>\n",
       "      <td>3</td>\n",
       "      <td>petrol</td>\n",
       "      <td>no</td>\n",
       "    </tr>\n",
       "    <tr>\n",
       "      <th>bmw</th>\n",
       "      <td>0</td>\n",
       "      <td>sedan</td>\n",
       "      <td>2005</td>\n",
       "      <td>manual</td>\n",
       "      <td>150</td>\n",
       "      <td>3er</td>\n",
       "      <td>150000</td>\n",
       "      <td>6</td>\n",
       "      <td>petrol</td>\n",
       "      <td>no</td>\n",
       "    </tr>\n",
       "    <tr>\n",
       "      <th>chevrolet</th>\n",
       "      <td>0</td>\n",
       "      <td>small</td>\n",
       "      <td>2007</td>\n",
       "      <td>manual</td>\n",
       "      <td>0</td>\n",
       "      <td>other</td>\n",
       "      <td>150000</td>\n",
       "      <td>7</td>\n",
       "      <td>petrol</td>\n",
       "      <td>no</td>\n",
       "    </tr>\n",
       "    <tr>\n",
       "      <th>chrysler</th>\n",
       "      <td>0</td>\n",
       "      <td>bus</td>\n",
       "      <td>2000</td>\n",
       "      <td>auto</td>\n",
       "      <td>0</td>\n",
       "      <td>other</td>\n",
       "      <td>150000</td>\n",
       "      <td>0</td>\n",
       "      <td>petrol</td>\n",
       "      <td>no</td>\n",
       "    </tr>\n",
       "    <tr>\n",
       "      <th>citroen</th>\n",
       "      <td>0</td>\n",
       "      <td>small</td>\n",
       "      <td>2005</td>\n",
       "      <td>manual</td>\n",
       "      <td>0</td>\n",
       "      <td>other</td>\n",
       "      <td>150000</td>\n",
       "      <td>3</td>\n",
       "      <td>petrol</td>\n",
       "      <td>no</td>\n",
       "    </tr>\n",
       "    <tr>\n",
       "      <th>dacia</th>\n",
       "      <td>2500</td>\n",
       "      <td>wagon</td>\n",
       "      <td>2009</td>\n",
       "      <td>manual</td>\n",
       "      <td>75</td>\n",
       "      <td>logan</td>\n",
       "      <td>150000</td>\n",
       "      <td>[3, 6]</td>\n",
       "      <td>petrol</td>\n",
       "      <td>no</td>\n",
       "    </tr>\n",
       "    <tr>\n",
       "      <th>daewoo</th>\n",
       "      <td>300</td>\n",
       "      <td>small</td>\n",
       "      <td>2004</td>\n",
       "      <td>manual</td>\n",
       "      <td>0</td>\n",
       "      <td>matiz</td>\n",
       "      <td>150000</td>\n",
       "      <td>3</td>\n",
       "      <td>petrol</td>\n",
       "      <td>no</td>\n",
       "    </tr>\n",
       "    <tr>\n",
       "      <th>daihatsu</th>\n",
       "      <td>0</td>\n",
       "      <td>small</td>\n",
       "      <td>2000</td>\n",
       "      <td>manual</td>\n",
       "      <td>0</td>\n",
       "      <td>cuore</td>\n",
       "      <td>150000</td>\n",
       "      <td>0</td>\n",
       "      <td>petrol</td>\n",
       "      <td>no</td>\n",
       "    </tr>\n",
       "    <tr>\n",
       "      <th>fiat</th>\n",
       "      <td>0</td>\n",
       "      <td>small</td>\n",
       "      <td>2000</td>\n",
       "      <td>manual</td>\n",
       "      <td>60</td>\n",
       "      <td>punto</td>\n",
       "      <td>150000</td>\n",
       "      <td>0</td>\n",
       "      <td>petrol</td>\n",
       "      <td>no</td>\n",
       "    </tr>\n",
       "    <tr>\n",
       "      <th>ford</th>\n",
       "      <td>0</td>\n",
       "      <td>small</td>\n",
       "      <td>2000</td>\n",
       "      <td>manual</td>\n",
       "      <td>0</td>\n",
       "      <td>focus</td>\n",
       "      <td>150000</td>\n",
       "      <td>0</td>\n",
       "      <td>petrol</td>\n",
       "      <td>no</td>\n",
       "    </tr>\n",
       "    <tr>\n",
       "      <th>honda</th>\n",
       "      <td>0</td>\n",
       "      <td>sedan</td>\n",
       "      <td>1997</td>\n",
       "      <td>manual</td>\n",
       "      <td>90</td>\n",
       "      <td>civic</td>\n",
       "      <td>150000</td>\n",
       "      <td>0</td>\n",
       "      <td>petrol</td>\n",
       "      <td>no</td>\n",
       "    </tr>\n",
       "    <tr>\n",
       "      <th>hyundai</th>\n",
       "      <td>0</td>\n",
       "      <td>small</td>\n",
       "      <td>2005</td>\n",
       "      <td>manual</td>\n",
       "      <td>0</td>\n",
       "      <td>i_reihe</td>\n",
       "      <td>150000</td>\n",
       "      <td>3</td>\n",
       "      <td>petrol</td>\n",
       "      <td>no</td>\n",
       "    </tr>\n",
       "    <tr>\n",
       "      <th>jaguar</th>\n",
       "      <td>5500</td>\n",
       "      <td>sedan</td>\n",
       "      <td>2000</td>\n",
       "      <td>auto</td>\n",
       "      <td>0</td>\n",
       "      <td>other</td>\n",
       "      <td>150000</td>\n",
       "      <td>[3, 12]</td>\n",
       "      <td>petrol</td>\n",
       "      <td>no</td>\n",
       "    </tr>\n",
       "    <tr>\n",
       "      <th>jeep</th>\n",
       "      <td>0</td>\n",
       "      <td>suv</td>\n",
       "      <td>2006</td>\n",
       "      <td>auto</td>\n",
       "      <td>0</td>\n",
       "      <td>grand</td>\n",
       "      <td>150000</td>\n",
       "      <td>3</td>\n",
       "      <td>petrol</td>\n",
       "      <td>no</td>\n",
       "    </tr>\n",
       "    <tr>\n",
       "      <th>kia</th>\n",
       "      <td>0</td>\n",
       "      <td>suv</td>\n",
       "      <td>2005</td>\n",
       "      <td>manual</td>\n",
       "      <td>0</td>\n",
       "      <td>other</td>\n",
       "      <td>150000</td>\n",
       "      <td>3</td>\n",
       "      <td>petrol</td>\n",
       "      <td>no</td>\n",
       "    </tr>\n",
       "    <tr>\n",
       "      <th>lada</th>\n",
       "      <td>2500</td>\n",
       "      <td>suv</td>\n",
       "      <td>2009</td>\n",
       "      <td>manual</td>\n",
       "      <td>82</td>\n",
       "      <td>niva</td>\n",
       "      <td>80000</td>\n",
       "      <td>0</td>\n",
       "      <td>petrol</td>\n",
       "      <td>no</td>\n",
       "    </tr>\n",
       "    <tr>\n",
       "      <th>lancia</th>\n",
       "      <td>500</td>\n",
       "      <td>small</td>\n",
       "      <td>2000</td>\n",
       "      <td>manual</td>\n",
       "      <td>60</td>\n",
       "      <td>ypsilon</td>\n",
       "      <td>150000</td>\n",
       "      <td>3</td>\n",
       "      <td>petrol</td>\n",
       "      <td>no</td>\n",
       "    </tr>\n",
       "    <tr>\n",
       "      <th>land_rover</th>\n",
       "      <td>[0, 12500]</td>\n",
       "      <td>suv</td>\n",
       "      <td>2005</td>\n",
       "      <td>manual</td>\n",
       "      <td>190</td>\n",
       "      <td>freelander</td>\n",
       "      <td>150000</td>\n",
       "      <td>7</td>\n",
       "      <td>gasoline</td>\n",
       "      <td>no</td>\n",
       "    </tr>\n",
       "    <tr>\n",
       "      <th>mazda</th>\n",
       "      <td>0</td>\n",
       "      <td>sedan</td>\n",
       "      <td>2003</td>\n",
       "      <td>manual</td>\n",
       "      <td>0</td>\n",
       "      <td>3_reihe</td>\n",
       "      <td>150000</td>\n",
       "      <td>3</td>\n",
       "      <td>petrol</td>\n",
       "      <td>no</td>\n",
       "    </tr>\n",
       "    <tr>\n",
       "      <th>mercedes_benz</th>\n",
       "      <td>0</td>\n",
       "      <td>sedan</td>\n",
       "      <td>2000</td>\n",
       "      <td>auto</td>\n",
       "      <td>0</td>\n",
       "      <td>c_klasse</td>\n",
       "      <td>150000</td>\n",
       "      <td>3</td>\n",
       "      <td>petrol</td>\n",
       "      <td>no</td>\n",
       "    </tr>\n",
       "    <tr>\n",
       "      <th>mini</th>\n",
       "      <td>6500</td>\n",
       "      <td>small</td>\n",
       "      <td>2009</td>\n",
       "      <td>manual</td>\n",
       "      <td>116</td>\n",
       "      <td>cooper</td>\n",
       "      <td>150000</td>\n",
       "      <td>5</td>\n",
       "      <td>petrol</td>\n",
       "      <td>no</td>\n",
       "    </tr>\n",
       "    <tr>\n",
       "      <th>mitsubishi</th>\n",
       "      <td>0</td>\n",
       "      <td>sedan</td>\n",
       "      <td>1999</td>\n",
       "      <td>manual</td>\n",
       "      <td>75</td>\n",
       "      <td>colt</td>\n",
       "      <td>150000</td>\n",
       "      <td>0</td>\n",
       "      <td>petrol</td>\n",
       "      <td>no</td>\n",
       "    </tr>\n",
       "    <tr>\n",
       "      <th>nissan</th>\n",
       "      <td>0</td>\n",
       "      <td>small</td>\n",
       "      <td>2000</td>\n",
       "      <td>manual</td>\n",
       "      <td>0</td>\n",
       "      <td>micra</td>\n",
       "      <td>150000</td>\n",
       "      <td>3</td>\n",
       "      <td>petrol</td>\n",
       "      <td>no</td>\n",
       "    </tr>\n",
       "    <tr>\n",
       "      <th>opel</th>\n",
       "      <td>0</td>\n",
       "      <td>small</td>\n",
       "      <td>2000</td>\n",
       "      <td>manual</td>\n",
       "      <td>0</td>\n",
       "      <td>corsa</td>\n",
       "      <td>150000</td>\n",
       "      <td>0</td>\n",
       "      <td>petrol</td>\n",
       "      <td>no</td>\n",
       "    </tr>\n",
       "    <tr>\n",
       "      <th>peugeot</th>\n",
       "      <td>0</td>\n",
       "      <td>small</td>\n",
       "      <td>2005</td>\n",
       "      <td>manual</td>\n",
       "      <td>109</td>\n",
       "      <td>2_reihe</td>\n",
       "      <td>150000</td>\n",
       "      <td>3</td>\n",
       "      <td>petrol</td>\n",
       "      <td>no</td>\n",
       "    </tr>\n",
       "    <tr>\n",
       "      <th>porsche</th>\n",
       "      <td>0</td>\n",
       "      <td>convertible</td>\n",
       "      <td>2005</td>\n",
       "      <td>manual</td>\n",
       "      <td>0</td>\n",
       "      <td>cayenne</td>\n",
       "      <td>150000</td>\n",
       "      <td>0</td>\n",
       "      <td>petrol</td>\n",
       "      <td>no</td>\n",
       "    </tr>\n",
       "    <tr>\n",
       "      <th>renault</th>\n",
       "      <td>0</td>\n",
       "      <td>small</td>\n",
       "      <td>2000</td>\n",
       "      <td>manual</td>\n",
       "      <td>0</td>\n",
       "      <td>twingo</td>\n",
       "      <td>150000</td>\n",
       "      <td>0</td>\n",
       "      <td>petrol</td>\n",
       "      <td>no</td>\n",
       "    </tr>\n",
       "    <tr>\n",
       "      <th>rover</th>\n",
       "      <td>0</td>\n",
       "      <td>sedan</td>\n",
       "      <td>2000</td>\n",
       "      <td>manual</td>\n",
       "      <td>0</td>\n",
       "      <td>other</td>\n",
       "      <td>150000</td>\n",
       "      <td>0</td>\n",
       "      <td>petrol</td>\n",
       "      <td>no</td>\n",
       "    </tr>\n",
       "    <tr>\n",
       "      <th>saab</th>\n",
       "      <td>500</td>\n",
       "      <td>sedan</td>\n",
       "      <td>2000</td>\n",
       "      <td>manual</td>\n",
       "      <td>150</td>\n",
       "      <td>other</td>\n",
       "      <td>150000</td>\n",
       "      <td>6</td>\n",
       "      <td>petrol</td>\n",
       "      <td>no</td>\n",
       "    </tr>\n",
       "    <tr>\n",
       "      <th>seat</th>\n",
       "      <td>0</td>\n",
       "      <td>small</td>\n",
       "      <td>2000</td>\n",
       "      <td>manual</td>\n",
       "      <td>75</td>\n",
       "      <td>ibiza</td>\n",
       "      <td>150000</td>\n",
       "      <td>3</td>\n",
       "      <td>petrol</td>\n",
       "      <td>no</td>\n",
       "    </tr>\n",
       "    <tr>\n",
       "      <th>skoda</th>\n",
       "      <td>2500</td>\n",
       "      <td>wagon</td>\n",
       "      <td>2009</td>\n",
       "      <td>manual</td>\n",
       "      <td>105</td>\n",
       "      <td>octavia</td>\n",
       "      <td>150000</td>\n",
       "      <td>3</td>\n",
       "      <td>petrol</td>\n",
       "      <td>no</td>\n",
       "    </tr>\n",
       "    <tr>\n",
       "      <th>smart</th>\n",
       "      <td>1500</td>\n",
       "      <td>small</td>\n",
       "      <td>2000</td>\n",
       "      <td>auto</td>\n",
       "      <td>71</td>\n",
       "      <td>fortwo</td>\n",
       "      <td>150000</td>\n",
       "      <td>5</td>\n",
       "      <td>petrol</td>\n",
       "      <td>no</td>\n",
       "    </tr>\n",
       "    <tr>\n",
       "      <th>sonstige_autos</th>\n",
       "      <td>0</td>\n",
       "      <td>sedan</td>\n",
       "      <td>2000</td>\n",
       "      <td>manual</td>\n",
       "      <td>0</td>\n",
       "      <td>[]</td>\n",
       "      <td>150000</td>\n",
       "      <td>0</td>\n",
       "      <td>petrol</td>\n",
       "      <td>no</td>\n",
       "    </tr>\n",
       "    <tr>\n",
       "      <th>subaru</th>\n",
       "      <td>0</td>\n",
       "      <td>wagon</td>\n",
       "      <td>1999</td>\n",
       "      <td>manual</td>\n",
       "      <td>125</td>\n",
       "      <td>impreza</td>\n",
       "      <td>150000</td>\n",
       "      <td>0</td>\n",
       "      <td>petrol</td>\n",
       "      <td>no</td>\n",
       "    </tr>\n",
       "    <tr>\n",
       "      <th>suzuki</th>\n",
       "      <td>0</td>\n",
       "      <td>small</td>\n",
       "      <td>2009</td>\n",
       "      <td>manual</td>\n",
       "      <td>0</td>\n",
       "      <td>other</td>\n",
       "      <td>150000</td>\n",
       "      <td>3</td>\n",
       "      <td>petrol</td>\n",
       "      <td>no</td>\n",
       "    </tr>\n",
       "    <tr>\n",
       "      <th>toyota</th>\n",
       "      <td>4500</td>\n",
       "      <td>small</td>\n",
       "      <td>2006</td>\n",
       "      <td>manual</td>\n",
       "      <td>68</td>\n",
       "      <td>yaris</td>\n",
       "      <td>150000</td>\n",
       "      <td>3</td>\n",
       "      <td>petrol</td>\n",
       "      <td>no</td>\n",
       "    </tr>\n",
       "    <tr>\n",
       "      <th>trabant</th>\n",
       "      <td>0</td>\n",
       "      <td>sedan</td>\n",
       "      <td>1990</td>\n",
       "      <td>manual</td>\n",
       "      <td>26</td>\n",
       "      <td>601</td>\n",
       "      <td>5000</td>\n",
       "      <td>0</td>\n",
       "      <td>petrol</td>\n",
       "      <td>no</td>\n",
       "    </tr>\n",
       "    <tr>\n",
       "      <th>volkswagen</th>\n",
       "      <td>0</td>\n",
       "      <td>sedan</td>\n",
       "      <td>1999</td>\n",
       "      <td>manual</td>\n",
       "      <td>75</td>\n",
       "      <td>golf</td>\n",
       "      <td>150000</td>\n",
       "      <td>0</td>\n",
       "      <td>petrol</td>\n",
       "      <td>no</td>\n",
       "    </tr>\n",
       "    <tr>\n",
       "      <th>volvo</th>\n",
       "      <td>0</td>\n",
       "      <td>wagon</td>\n",
       "      <td>1999</td>\n",
       "      <td>manual</td>\n",
       "      <td>140</td>\n",
       "      <td>v40</td>\n",
       "      <td>150000</td>\n",
       "      <td>3</td>\n",
       "      <td>petrol</td>\n",
       "      <td>no</td>\n",
       "    </tr>\n",
       "  </tbody>\n",
       "</table>\n",
       "</div>"
      ],
      "text/plain": [
       "                     Price  VehicleType  RegistrationYear Gearbox  Power  \\\n",
       "Brand                                                                      \n",
       "alfa_romeo               0        sedan              2001  manual    150   \n",
       "audi                     0        wagon              2006  manual      0   \n",
       "bmw                      0        sedan              2005  manual    150   \n",
       "chevrolet                0        small              2007  manual      0   \n",
       "chrysler                 0          bus              2000    auto      0   \n",
       "citroen                  0        small              2005  manual      0   \n",
       "dacia                 2500        wagon              2009  manual     75   \n",
       "daewoo                 300        small              2004  manual      0   \n",
       "daihatsu                 0        small              2000  manual      0   \n",
       "fiat                     0        small              2000  manual     60   \n",
       "ford                     0        small              2000  manual      0   \n",
       "honda                    0        sedan              1997  manual     90   \n",
       "hyundai                  0        small              2005  manual      0   \n",
       "jaguar                5500        sedan              2000    auto      0   \n",
       "jeep                     0          suv              2006    auto      0   \n",
       "kia                      0          suv              2005  manual      0   \n",
       "lada                  2500          suv              2009  manual     82   \n",
       "lancia                 500        small              2000  manual     60   \n",
       "land_rover      [0, 12500]          suv              2005  manual    190   \n",
       "mazda                    0        sedan              2003  manual      0   \n",
       "mercedes_benz            0        sedan              2000    auto      0   \n",
       "mini                  6500        small              2009  manual    116   \n",
       "mitsubishi               0        sedan              1999  manual     75   \n",
       "nissan                   0        small              2000  manual      0   \n",
       "opel                     0        small              2000  manual      0   \n",
       "peugeot                  0        small              2005  manual    109   \n",
       "porsche                  0  convertible              2005  manual      0   \n",
       "renault                  0        small              2000  manual      0   \n",
       "rover                    0        sedan              2000  manual      0   \n",
       "saab                   500        sedan              2000  manual    150   \n",
       "seat                     0        small              2000  manual     75   \n",
       "skoda                 2500        wagon              2009  manual    105   \n",
       "smart                 1500        small              2000    auto     71   \n",
       "sonstige_autos           0        sedan              2000  manual      0   \n",
       "subaru                   0        wagon              1999  manual    125   \n",
       "suzuki                   0        small              2009  manual      0   \n",
       "toyota                4500        small              2006  manual     68   \n",
       "trabant                  0        sedan              1990  manual     26   \n",
       "volkswagen               0        sedan              1999  manual     75   \n",
       "volvo                    0        wagon              1999  manual    140   \n",
       "\n",
       "                     Model  Kilometer RegistrationMonth  FuelType Repaired  \n",
       "Brand                                                                       \n",
       "alfa_romeo             156     150000                 0    petrol       no  \n",
       "audi                    a4     150000                 3    petrol       no  \n",
       "bmw                    3er     150000                 6    petrol       no  \n",
       "chevrolet            other     150000                 7    petrol       no  \n",
       "chrysler             other     150000                 0    petrol       no  \n",
       "citroen              other     150000                 3    petrol       no  \n",
       "dacia                logan     150000            [3, 6]    petrol       no  \n",
       "daewoo               matiz     150000                 3    petrol       no  \n",
       "daihatsu             cuore     150000                 0    petrol       no  \n",
       "fiat                 punto     150000                 0    petrol       no  \n",
       "ford                 focus     150000                 0    petrol       no  \n",
       "honda                civic     150000                 0    petrol       no  \n",
       "hyundai            i_reihe     150000                 3    petrol       no  \n",
       "jaguar               other     150000           [3, 12]    petrol       no  \n",
       "jeep                 grand     150000                 3    petrol       no  \n",
       "kia                  other     150000                 3    petrol       no  \n",
       "lada                  niva      80000                 0    petrol       no  \n",
       "lancia             ypsilon     150000                 3    petrol       no  \n",
       "land_rover      freelander     150000                 7  gasoline       no  \n",
       "mazda              3_reihe     150000                 3    petrol       no  \n",
       "mercedes_benz     c_klasse     150000                 3    petrol       no  \n",
       "mini                cooper     150000                 5    petrol       no  \n",
       "mitsubishi            colt     150000                 0    petrol       no  \n",
       "nissan               micra     150000                 3    petrol       no  \n",
       "opel                 corsa     150000                 0    petrol       no  \n",
       "peugeot            2_reihe     150000                 3    petrol       no  \n",
       "porsche            cayenne     150000                 0    petrol       no  \n",
       "renault             twingo     150000                 0    petrol       no  \n",
       "rover                other     150000                 0    petrol       no  \n",
       "saab                 other     150000                 6    petrol       no  \n",
       "seat                 ibiza     150000                 3    petrol       no  \n",
       "skoda              octavia     150000                 3    petrol       no  \n",
       "smart               fortwo     150000                 5    petrol       no  \n",
       "sonstige_autos          []     150000                 0    petrol       no  \n",
       "subaru             impreza     150000                 0    petrol       no  \n",
       "suzuki               other     150000                 3    petrol       no  \n",
       "toyota               yaris     150000                 3    petrol       no  \n",
       "trabant                601       5000                 0    petrol       no  \n",
       "volkswagen            golf     150000                 0    petrol       no  \n",
       "volvo                  v40     150000                 3    petrol       no  "
      ]
     },
     "execution_count": 14,
     "metadata": {},
     "output_type": "execute_result"
    }
   ],
   "source": [
    "df.groupby(by=['Brand']).agg(\n",
    "        pd.Series.mode)"
   ]
  },
  {
   "cell_type": "markdown",
   "metadata": {},
   "source": [
    "Итак, мы имеем пропуски, и пропуски в категориальных признаках. В целом их можно заменить как можно более точно, но для этого нужно закодировать в численные значения, и через группировку выбирать медианные значения. Но так как тут можно поймать ошибку, и на мой взгляд можно решить проще, я сделаю проще.\n"
   ]
  },
  {
   "cell_type": "markdown",
   "metadata": {},
   "source": [
    "Заполню модель машины по моде среди бренда."
   ]
  },
  {
   "cell_type": "code",
   "execution_count": 15,
   "metadata": {},
   "outputs": [
    {
     "data": {
      "text/html": [
       "<div>\n",
       "<style scoped>\n",
       "    .dataframe tbody tr th:only-of-type {\n",
       "        vertical-align: middle;\n",
       "    }\n",
       "\n",
       "    .dataframe tbody tr th {\n",
       "        vertical-align: top;\n",
       "    }\n",
       "\n",
       "    .dataframe thead th {\n",
       "        text-align: right;\n",
       "    }\n",
       "</style>\n",
       "<table border=\"1\" class=\"dataframe\">\n",
       "  <thead>\n",
       "    <tr style=\"text-align: right;\">\n",
       "      <th></th>\n",
       "      <th>Price</th>\n",
       "      <th>VehicleType</th>\n",
       "      <th>RegistrationYear</th>\n",
       "      <th>Gearbox</th>\n",
       "      <th>Power</th>\n",
       "      <th>Model</th>\n",
       "      <th>Kilometer</th>\n",
       "      <th>RegistrationMonth</th>\n",
       "      <th>FuelType</th>\n",
       "      <th>Brand</th>\n",
       "      <th>Repaired</th>\n",
       "    </tr>\n",
       "  </thead>\n",
       "  <tbody>\n",
       "    <tr>\n",
       "      <th>59</th>\n",
       "      <td>1</td>\n",
       "      <td>suv</td>\n",
       "      <td>1994</td>\n",
       "      <td>manual</td>\n",
       "      <td>286</td>\n",
       "      <td>NaN</td>\n",
       "      <td>150000</td>\n",
       "      <td>11</td>\n",
       "      <td>NaN</td>\n",
       "      <td>sonstige_autos</td>\n",
       "      <td>NaN</td>\n",
       "    </tr>\n",
       "    <tr>\n",
       "      <th>306</th>\n",
       "      <td>200</td>\n",
       "      <td>NaN</td>\n",
       "      <td>2009</td>\n",
       "      <td>NaN</td>\n",
       "      <td>0</td>\n",
       "      <td>NaN</td>\n",
       "      <td>10000</td>\n",
       "      <td>0</td>\n",
       "      <td>NaN</td>\n",
       "      <td>sonstige_autos</td>\n",
       "      <td>NaN</td>\n",
       "    </tr>\n",
       "    <tr>\n",
       "      <th>431</th>\n",
       "      <td>3950</td>\n",
       "      <td>small</td>\n",
       "      <td>2004</td>\n",
       "      <td>auto</td>\n",
       "      <td>5</td>\n",
       "      <td>NaN</td>\n",
       "      <td>70000</td>\n",
       "      <td>5</td>\n",
       "      <td>gasoline</td>\n",
       "      <td>sonstige_autos</td>\n",
       "      <td>no</td>\n",
       "    </tr>\n",
       "    <tr>\n",
       "      <th>650</th>\n",
       "      <td>15000</td>\n",
       "      <td>coupe</td>\n",
       "      <td>1971</td>\n",
       "      <td>NaN</td>\n",
       "      <td>0</td>\n",
       "      <td>NaN</td>\n",
       "      <td>5000</td>\n",
       "      <td>4</td>\n",
       "      <td>NaN</td>\n",
       "      <td>sonstige_autos</td>\n",
       "      <td>no</td>\n",
       "    </tr>\n",
       "    <tr>\n",
       "      <th>661</th>\n",
       "      <td>9900</td>\n",
       "      <td>suv</td>\n",
       "      <td>2000</td>\n",
       "      <td>auto</td>\n",
       "      <td>250</td>\n",
       "      <td>NaN</td>\n",
       "      <td>150000</td>\n",
       "      <td>4</td>\n",
       "      <td>lpg</td>\n",
       "      <td>sonstige_autos</td>\n",
       "      <td>no</td>\n",
       "    </tr>\n",
       "    <tr>\n",
       "      <th>...</th>\n",
       "      <td>...</td>\n",
       "      <td>...</td>\n",
       "      <td>...</td>\n",
       "      <td>...</td>\n",
       "      <td>...</td>\n",
       "      <td>...</td>\n",
       "      <td>...</td>\n",
       "      <td>...</td>\n",
       "      <td>...</td>\n",
       "      <td>...</td>\n",
       "      <td>...</td>\n",
       "    </tr>\n",
       "    <tr>\n",
       "      <th>354062</th>\n",
       "      <td>6000</td>\n",
       "      <td>small</td>\n",
       "      <td>2008</td>\n",
       "      <td>manual</td>\n",
       "      <td>155</td>\n",
       "      <td>NaN</td>\n",
       "      <td>150000</td>\n",
       "      <td>5</td>\n",
       "      <td>petrol</td>\n",
       "      <td>sonstige_autos</td>\n",
       "      <td>no</td>\n",
       "    </tr>\n",
       "    <tr>\n",
       "      <th>354073</th>\n",
       "      <td>1750</td>\n",
       "      <td>NaN</td>\n",
       "      <td>1995</td>\n",
       "      <td>NaN</td>\n",
       "      <td>0</td>\n",
       "      <td>NaN</td>\n",
       "      <td>100000</td>\n",
       "      <td>12</td>\n",
       "      <td>NaN</td>\n",
       "      <td>sonstige_autos</td>\n",
       "      <td>NaN</td>\n",
       "    </tr>\n",
       "    <tr>\n",
       "      <th>354083</th>\n",
       "      <td>0</td>\n",
       "      <td>NaN</td>\n",
       "      <td>2000</td>\n",
       "      <td>NaN</td>\n",
       "      <td>0</td>\n",
       "      <td>NaN</td>\n",
       "      <td>150000</td>\n",
       "      <td>0</td>\n",
       "      <td>NaN</td>\n",
       "      <td>sonstige_autos</td>\n",
       "      <td>NaN</td>\n",
       "    </tr>\n",
       "    <tr>\n",
       "      <th>354321</th>\n",
       "      <td>9400</td>\n",
       "      <td>wagon</td>\n",
       "      <td>2007</td>\n",
       "      <td>manual</td>\n",
       "      <td>200</td>\n",
       "      <td>NaN</td>\n",
       "      <td>150000</td>\n",
       "      <td>4</td>\n",
       "      <td>gasoline</td>\n",
       "      <td>sonstige_autos</td>\n",
       "      <td>yes</td>\n",
       "    </tr>\n",
       "    <tr>\n",
       "      <th>354365</th>\n",
       "      <td>2200</td>\n",
       "      <td>NaN</td>\n",
       "      <td>2005</td>\n",
       "      <td>NaN</td>\n",
       "      <td>0</td>\n",
       "      <td>NaN</td>\n",
       "      <td>20000</td>\n",
       "      <td>1</td>\n",
       "      <td>NaN</td>\n",
       "      <td>sonstige_autos</td>\n",
       "      <td>NaN</td>\n",
       "    </tr>\n",
       "  </tbody>\n",
       "</table>\n",
       "<p>3374 rows × 11 columns</p>\n",
       "</div>"
      ],
      "text/plain": [
       "        Price VehicleType  RegistrationYear Gearbox  Power Model  Kilometer  \\\n",
       "59          1         suv              1994  manual    286   NaN     150000   \n",
       "306       200         NaN              2009     NaN      0   NaN      10000   \n",
       "431      3950       small              2004    auto      5   NaN      70000   \n",
       "650     15000       coupe              1971     NaN      0   NaN       5000   \n",
       "661      9900         suv              2000    auto    250   NaN     150000   \n",
       "...       ...         ...               ...     ...    ...   ...        ...   \n",
       "354062   6000       small              2008  manual    155   NaN     150000   \n",
       "354073   1750         NaN              1995     NaN      0   NaN     100000   \n",
       "354083      0         NaN              2000     NaN      0   NaN     150000   \n",
       "354321   9400       wagon              2007  manual    200   NaN     150000   \n",
       "354365   2200         NaN              2005     NaN      0   NaN      20000   \n",
       "\n",
       "        RegistrationMonth  FuelType           Brand Repaired  \n",
       "59                     11       NaN  sonstige_autos      NaN  \n",
       "306                     0       NaN  sonstige_autos      NaN  \n",
       "431                     5  gasoline  sonstige_autos       no  \n",
       "650                     4       NaN  sonstige_autos       no  \n",
       "661                     4       lpg  sonstige_autos       no  \n",
       "...                   ...       ...             ...      ...  \n",
       "354062                  5    petrol  sonstige_autos       no  \n",
       "354073                 12       NaN  sonstige_autos      NaN  \n",
       "354083                  0       NaN  sonstige_autos      NaN  \n",
       "354321                  4  gasoline  sonstige_autos      yes  \n",
       "354365                  1       NaN  sonstige_autos      NaN  \n",
       "\n",
       "[3374 rows x 11 columns]"
      ]
     },
     "execution_count": 15,
     "metadata": {},
     "output_type": "execute_result"
    }
   ],
   "source": [
    "df[df['Brand']=='sonstige_autos']"
   ]
  },
  {
   "cell_type": "code",
   "execution_count": 16,
   "metadata": {},
   "outputs": [
    {
     "data": {
      "text/plain": [
       "array(['volkswagen', 'audi', 'jeep', 'skoda', 'bmw', 'peugeot', 'ford',\n",
       "       'mazda', 'nissan', 'renault', 'mercedes_benz', 'opel', 'seat',\n",
       "       'citroen', 'honda', 'fiat', 'mini', 'smart', 'hyundai',\n",
       "       'sonstige_autos', 'alfa_romeo', 'subaru', 'volvo', 'mitsubishi',\n",
       "       'kia', 'suzuki', 'lancia', 'toyota', 'chevrolet', 'dacia',\n",
       "       'daihatsu', 'trabant', 'saab', 'chrysler', 'jaguar', 'daewoo',\n",
       "       'porsche', 'rover', 'land_rover', 'lada'], dtype=object)"
      ]
     },
     "execution_count": 16,
     "metadata": {},
     "output_type": "execute_result"
    }
   ],
   "source": [
    "df['Brand'].unique()"
   ]
  },
  {
   "cell_type": "markdown",
   "metadata": {},
   "source": [
    "Я выявил проблему, что у бренда sonstige_autos вообще не известны модели."
   ]
  },
  {
   "cell_type": "code",
   "execution_count": 17,
   "metadata": {},
   "outputs": [],
   "source": [
    "df.loc[df['Brand']=='sonstige_autos','Model']=df.loc[df['Brand']=='sonstige_autos','Model'].fillna('sonstige_autos')"
   ]
  },
  {
   "cell_type": "markdown",
   "metadata": {},
   "source": [
    "Заполнил модели брендом"
   ]
  },
  {
   "cell_type": "markdown",
   "metadata": {},
   "source": [
    "Теперь заполним пропуски в моделях-модой по бренду"
   ]
  },
  {
   "cell_type": "code",
   "execution_count": 18,
   "metadata": {},
   "outputs": [],
   "source": [
    "group_model = df.groupby(by=['Brand']).agg(pd.Series.mode)['Model'] #Столбец из агрегации моды групировки ДФ по модели\n",
    "for i in df[df['Model'].isna() == True].index:\n",
    "    df.loc[i, 'Model'] = group_model[df.loc[i, 'Brand']]"
   ]
  },
  {
   "cell_type": "markdown",
   "metadata": {},
   "source": [
    "Заполню пропуски для коробки передач модой по модели машины. Неизвестные модели машины заполню other"
   ]
  },
  {
   "cell_type": "code",
   "execution_count": 19,
   "metadata": {},
   "outputs": [],
   "source": [
    "group_gear = df.groupby(by=['Model']).agg(pd.Series.mode)['Gearbox'] #Столбец из агрегации моды групировки ДФ по модели\n",
    "for i in df[df['Gearbox'].isna() == True].index:\n",
    "    df.loc[i, 'Gearbox'] = group_gear[df.loc[i, 'Model']]"
   ]
  },
  {
   "cell_type": "markdown",
   "metadata": {},
   "source": [
    "И заполним тип топлива yf petrol"
   ]
  },
  {
   "cell_type": "code",
   "execution_count": 20,
   "metadata": {},
   "outputs": [],
   "source": [
    "df.loc[df['FuelType'].isna() == True,'FuelType']=df.loc[df['FuelType'].isna() == True,'FuelType'].fillna('petrol')"
   ]
  },
  {
   "cell_type": "code",
   "execution_count": 21,
   "metadata": {},
   "outputs": [
    {
     "data": {
      "text/plain": [
       "Price                    0\n",
       "VehicleType          37490\n",
       "RegistrationYear         0\n",
       "Gearbox                  0\n",
       "Power                    0\n",
       "Model                    0\n",
       "Kilometer                0\n",
       "RegistrationMonth        0\n",
       "FuelType                 0\n",
       "Brand                    0\n",
       "Repaired             71154\n",
       "dtype: int64"
      ]
     },
     "execution_count": 21,
     "metadata": {},
     "output_type": "execute_result"
    }
   ],
   "source": [
    "df.isna().sum()"
   ]
  },
  {
   "cell_type": "markdown",
   "metadata": {},
   "source": [
    "Часть пропусков заполнили. "
   ]
  },
  {
   "cell_type": "code",
   "execution_count": 22,
   "metadata": {},
   "outputs": [],
   "source": [
    "df.loc[df['Repaired'].isna() == True,'Repaired']=df.loc[df['Repaired'].isna() == True,'Repaired'].fillna('unknown')"
   ]
  },
  {
   "cell_type": "markdown",
   "metadata": {},
   "source": [
    "Пропуски по типу кузова заполню по моде бренда"
   ]
  },
  {
   "cell_type": "code",
   "execution_count": 23,
   "metadata": {},
   "outputs": [],
   "source": [
    "group_type = df.groupby(by=['Brand']).agg(pd.Series.mode)['VehicleType'] #Столбец из агрегации моды групировки ДФ по модели\n",
    "for i in df[df['VehicleType'].isna() == True].index:\n",
    "    df.loc[i, 'VehicleType'] = group_type[df.loc[i, 'Brand']]"
   ]
  },
  {
   "cell_type": "code",
   "execution_count": 24,
   "metadata": {},
   "outputs": [
    {
     "data": {
      "text/plain": [
       "Price                0\n",
       "VehicleType          0\n",
       "RegistrationYear     0\n",
       "Gearbox              0\n",
       "Power                0\n",
       "Model                0\n",
       "Kilometer            0\n",
       "RegistrationMonth    0\n",
       "FuelType             0\n",
       "Brand                0\n",
       "Repaired             0\n",
       "dtype: int64"
      ]
     },
     "execution_count": 24,
     "metadata": {},
     "output_type": "execute_result"
    }
   ],
   "source": [
    "df.isna().sum()"
   ]
  },
  {
   "cell_type": "markdown",
   "metadata": {},
   "source": [
    "Пропусков нет. Обновлю колонки категорий."
   ]
  },
  {
   "cell_type": "code",
   "execution_count": 25,
   "metadata": {},
   "outputs": [],
   "source": [
    "cat_col=list(df.select_dtypes(include=object).columns)\n",
    "num_col=list(df.select_dtypes(exclude=object).columns)"
   ]
  },
  {
   "cell_type": "code",
   "execution_count": 26,
   "metadata": {},
   "outputs": [
    {
     "data": {
      "image/png": "[encoded data removed]",
      "text/plain": [
       "<Figure size 1080x1080 with 2 Axes>"
      ]
     },
     "metadata": {
      "needs_background": "light"
     },
     "output_type": "display_data"
    }
   ],
   "source": [
    "enc_df=df.copy()\n",
    "enc=OrdinalEncoder().fit_transform(df[cat_col])\n",
    "enc_df[cat_col]=enc\n",
    "fig, ax = plt.subplots(figsize=(15,15)) \n",
    "sns.heatmap(pd.DataFrame(enc_df,columns=df.columns).corr(),annot=True);"
   ]
  },
  {
   "cell_type": "code",
   "execution_count": 27,
   "metadata": {},
   "outputs": [
    {
     "data": {
      "text/html": [
       "<div>\n",
       "<style scoped>\n",
       "    .dataframe tbody tr th:only-of-type {\n",
       "        vertical-align: middle;\n",
       "    }\n",
       "\n",
       "    .dataframe tbody tr th {\n",
       "        vertical-align: top;\n",
       "    }\n",
       "\n",
       "    .dataframe thead th {\n",
       "        text-align: right;\n",
       "    }\n",
       "</style>\n",
       "<table border=\"1\" class=\"dataframe\">\n",
       "  <thead>\n",
       "    <tr style=\"text-align: right;\">\n",
       "      <th></th>\n",
       "      <th>Price</th>\n",
       "      <th>RegistrationYear</th>\n",
       "      <th>Power</th>\n",
       "      <th>Kilometer</th>\n",
       "      <th>RegistrationMonth</th>\n",
       "    </tr>\n",
       "  </thead>\n",
       "  <tbody>\n",
       "    <tr>\n",
       "      <th>count</th>\n",
       "      <td>354369.000000</td>\n",
       "      <td>354369.000000</td>\n",
       "      <td>354369.000000</td>\n",
       "      <td>354369.000000</td>\n",
       "      <td>354369.000000</td>\n",
       "    </tr>\n",
       "    <tr>\n",
       "      <th>mean</th>\n",
       "      <td>4416.656776</td>\n",
       "      <td>2004.234448</td>\n",
       "      <td>110.094337</td>\n",
       "      <td>128211.172535</td>\n",
       "      <td>5.714645</td>\n",
       "    </tr>\n",
       "    <tr>\n",
       "      <th>std</th>\n",
       "      <td>4514.158514</td>\n",
       "      <td>90.227958</td>\n",
       "      <td>189.850405</td>\n",
       "      <td>37905.341530</td>\n",
       "      <td>3.726421</td>\n",
       "    </tr>\n",
       "    <tr>\n",
       "      <th>min</th>\n",
       "      <td>0.000000</td>\n",
       "      <td>1000.000000</td>\n",
       "      <td>0.000000</td>\n",
       "      <td>5000.000000</td>\n",
       "      <td>0.000000</td>\n",
       "    </tr>\n",
       "    <tr>\n",
       "      <th>25%</th>\n",
       "      <td>1050.000000</td>\n",
       "      <td>1999.000000</td>\n",
       "      <td>69.000000</td>\n",
       "      <td>125000.000000</td>\n",
       "      <td>3.000000</td>\n",
       "    </tr>\n",
       "    <tr>\n",
       "      <th>50%</th>\n",
       "      <td>2700.000000</td>\n",
       "      <td>2003.000000</td>\n",
       "      <td>105.000000</td>\n",
       "      <td>150000.000000</td>\n",
       "      <td>6.000000</td>\n",
       "    </tr>\n",
       "    <tr>\n",
       "      <th>75%</th>\n",
       "      <td>6400.000000</td>\n",
       "      <td>2008.000000</td>\n",
       "      <td>143.000000</td>\n",
       "      <td>150000.000000</td>\n",
       "      <td>9.000000</td>\n",
       "    </tr>\n",
       "    <tr>\n",
       "      <th>max</th>\n",
       "      <td>20000.000000</td>\n",
       "      <td>9999.000000</td>\n",
       "      <td>20000.000000</td>\n",
       "      <td>150000.000000</td>\n",
       "      <td>12.000000</td>\n",
       "    </tr>\n",
       "  </tbody>\n",
       "</table>\n",
       "</div>"
      ],
      "text/plain": [
       "               Price  RegistrationYear          Power      Kilometer  \\\n",
       "count  354369.000000     354369.000000  354369.000000  354369.000000   \n",
       "mean     4416.656776       2004.234448     110.094337  128211.172535   \n",
       "std      4514.158514         90.227958     189.850405   37905.341530   \n",
       "min         0.000000       1000.000000       0.000000    5000.000000   \n",
       "25%      1050.000000       1999.000000      69.000000  125000.000000   \n",
       "50%      2700.000000       2003.000000     105.000000  150000.000000   \n",
       "75%      6400.000000       2008.000000     143.000000  150000.000000   \n",
       "max     20000.000000       9999.000000   20000.000000  150000.000000   \n",
       "\n",
       "       RegistrationMonth  \n",
       "count      354369.000000  \n",
       "mean            5.714645  \n",
       "std             3.726421  \n",
       "min             0.000000  \n",
       "25%             3.000000  \n",
       "50%             6.000000  \n",
       "75%             9.000000  \n",
       "max            12.000000  "
      ]
     },
     "execution_count": 27,
     "metadata": {},
     "output_type": "execute_result"
    }
   ],
   "source": [
    "df.describe()"
   ]
  },
  {
   "cell_type": "markdown",
   "metadata": {},
   "source": [
    "Что-то не так с годом регистрации ТС. Есть выбросы до 1000 года и до 9999. удалю значения до 1900 и больше 2023, и уберем машины с выбросами по мощности"
   ]
  },
  {
   "cell_type": "code",
   "execution_count": 28,
   "metadata": {},
   "outputs": [
    {
     "data": {
      "text/plain": [
       "<AxesSubplot:>"
      ]
     },
     "execution_count": 28,
     "metadata": {},
     "output_type": "execute_result"
    },
    {
     "data": {
      "image/png": "[encoded data removed]",
      "text/plain": [
       "<Figure size 432x288 with 1 Axes>"
      ]
     },
     "metadata": {
      "needs_background": "light"
     },
     "output_type": "display_data"
    }
   ],
   "source": [
    "df['Power'].hist(range=(0,100))"
   ]
  },
  {
   "cell_type": "code",
   "execution_count": 29,
   "metadata": {},
   "outputs": [],
   "source": [
    "df=df[(df['RegistrationYear']>1900)&(df['RegistrationYear']<=2016)]\n",
    "df=df[(df['Power']>=40)&(df['Power']<1000)]"
   ]
  },
  {
   "cell_type": "code",
   "execution_count": 30,
   "metadata": {},
   "outputs": [
    {
     "data": {
      "text/html": [
       "<div>\n",
       "<style scoped>\n",
       "    .dataframe tbody tr th:only-of-type {\n",
       "        vertical-align: middle;\n",
       "    }\n",
       "\n",
       "    .dataframe tbody tr th {\n",
       "        vertical-align: top;\n",
       "    }\n",
       "\n",
       "    .dataframe thead th {\n",
       "        text-align: right;\n",
       "    }\n",
       "</style>\n",
       "<table border=\"1\" class=\"dataframe\">\n",
       "  <thead>\n",
       "    <tr style=\"text-align: right;\">\n",
       "      <th></th>\n",
       "      <th>Price</th>\n",
       "      <th>RegistrationYear</th>\n",
       "      <th>Power</th>\n",
       "      <th>Kilometer</th>\n",
       "      <th>RegistrationMonth</th>\n",
       "    </tr>\n",
       "  </thead>\n",
       "  <tbody>\n",
       "    <tr>\n",
       "      <th>count</th>\n",
       "      <td>301658.000000</td>\n",
       "      <td>301658.000000</td>\n",
       "      <td>301658.000000</td>\n",
       "      <td>301658.0000</td>\n",
       "      <td>301658.000000</td>\n",
       "    </tr>\n",
       "    <tr>\n",
       "      <th>mean</th>\n",
       "      <td>4757.516326</td>\n",
       "      <td>2002.820224</td>\n",
       "      <td>121.078228</td>\n",
       "      <td>128585.6997</td>\n",
       "      <td>5.967682</td>\n",
       "    </tr>\n",
       "    <tr>\n",
       "      <th>std</th>\n",
       "      <td>4618.835326</td>\n",
       "      <td>6.436883</td>\n",
       "      <td>54.618951</td>\n",
       "      <td>36617.8313</td>\n",
       "      <td>3.598434</td>\n",
       "    </tr>\n",
       "    <tr>\n",
       "      <th>min</th>\n",
       "      <td>0.000000</td>\n",
       "      <td>1910.000000</td>\n",
       "      <td>40.000000</td>\n",
       "      <td>5000.0000</td>\n",
       "      <td>0.000000</td>\n",
       "    </tr>\n",
       "    <tr>\n",
       "      <th>25%</th>\n",
       "      <td>1250.000000</td>\n",
       "      <td>1999.000000</td>\n",
       "      <td>77.000000</td>\n",
       "      <td>125000.0000</td>\n",
       "      <td>3.000000</td>\n",
       "    </tr>\n",
       "    <tr>\n",
       "      <th>50%</th>\n",
       "      <td>3000.000000</td>\n",
       "      <td>2003.000000</td>\n",
       "      <td>112.000000</td>\n",
       "      <td>150000.0000</td>\n",
       "      <td>6.000000</td>\n",
       "    </tr>\n",
       "    <tr>\n",
       "      <th>75%</th>\n",
       "      <td>6900.000000</td>\n",
       "      <td>2007.000000</td>\n",
       "      <td>150.000000</td>\n",
       "      <td>150000.0000</td>\n",
       "      <td>9.000000</td>\n",
       "    </tr>\n",
       "    <tr>\n",
       "      <th>max</th>\n",
       "      <td>20000.000000</td>\n",
       "      <td>2016.000000</td>\n",
       "      <td>999.000000</td>\n",
       "      <td>150000.0000</td>\n",
       "      <td>12.000000</td>\n",
       "    </tr>\n",
       "  </tbody>\n",
       "</table>\n",
       "</div>"
      ],
      "text/plain": [
       "               Price  RegistrationYear          Power    Kilometer  \\\n",
       "count  301658.000000     301658.000000  301658.000000  301658.0000   \n",
       "mean     4757.516326       2002.820224     121.078228  128585.6997   \n",
       "std      4618.835326          6.436883      54.618951   36617.8313   \n",
       "min         0.000000       1910.000000      40.000000    5000.0000   \n",
       "25%      1250.000000       1999.000000      77.000000  125000.0000   \n",
       "50%      3000.000000       2003.000000     112.000000  150000.0000   \n",
       "75%      6900.000000       2007.000000     150.000000  150000.0000   \n",
       "max     20000.000000       2016.000000     999.000000  150000.0000   \n",
       "\n",
       "       RegistrationMonth  \n",
       "count      301658.000000  \n",
       "mean            5.967682  \n",
       "std             3.598434  \n",
       "min             0.000000  \n",
       "25%             3.000000  \n",
       "50%             6.000000  \n",
       "75%             9.000000  \n",
       "max            12.000000  "
      ]
     },
     "execution_count": 30,
     "metadata": {},
     "output_type": "execute_result"
    }
   ],
   "source": [
    "df.describe()"
   ]
  },
  {
   "cell_type": "markdown",
   "metadata": {},
   "source": [
    "Цена 0 - вот это удача, берем...и удаляем эти выбросы) Не ну а что, это целевой признак, мне и так кажется можно было бы удалить все NaNы и не париться 3 часа. Если мы сейчас начнем цену забивать медиаными и тд, мне кажется у нас все поплывет по предсказаниям."
   ]
  },
  {
   "cell_type": "code",
   "execution_count": 31,
   "metadata": {},
   "outputs": [
    {
     "data": {
      "text/plain": [
       "<AxesSubplot:>"
      ]
     },
     "execution_count": 31,
     "metadata": {},
     "output_type": "execute_result"
    },
    {
     "data": {
      "image/png": "[encoded data removed]",
      "text/plain": [
       "<Figure size 432x288 with 1 Axes>"
      ]
     },
     "metadata": {
      "needs_background": "light"
     },
     "output_type": "display_data"
    }
   ],
   "source": [
    "df['Price'].hist(range=(0,1000))"
   ]
  },
  {
   "cell_type": "code",
   "execution_count": 32,
   "metadata": {},
   "outputs": [],
   "source": [
    "df=df[(df['Price']>500)]"
   ]
  },
  {
   "cell_type": "code",
   "execution_count": 33,
   "metadata": {},
   "outputs": [
    {
     "data": {
      "text/plain": [
       "<AxesSubplot:>"
      ]
     },
     "execution_count": 33,
     "metadata": {},
     "output_type": "execute_result"
    },
    {
     "data": {
      "image/png": "[encoded data removed]",
      "text/plain": [
       "<Figure size 432x288 with 1 Axes>"
      ]
     },
     "metadata": {
      "needs_background": "light"
     },
     "output_type": "display_data"
    }
   ],
   "source": [
    "df['Price'].hist(range=(0,1000))"
   ]
  },
  {
   "cell_type": "markdown",
   "metadata": {},
   "source": [
    "Цены в евро, за 500 евро можно купить машину? Не сегодня) Ну ладно мы купим"
   ]
  },
  {
   "cell_type": "code",
   "execution_count": 34,
   "metadata": {},
   "outputs": [
    {
     "data": {
      "text/html": [
       "<div>\n",
       "<style scoped>\n",
       "    .dataframe tbody tr th:only-of-type {\n",
       "        vertical-align: middle;\n",
       "    }\n",
       "\n",
       "    .dataframe tbody tr th {\n",
       "        vertical-align: top;\n",
       "    }\n",
       "\n",
       "    .dataframe thead th {\n",
       "        text-align: right;\n",
       "    }\n",
       "</style>\n",
       "<table border=\"1\" class=\"dataframe\">\n",
       "  <thead>\n",
       "    <tr style=\"text-align: right;\">\n",
       "      <th></th>\n",
       "      <th>Price</th>\n",
       "      <th>RegistrationYear</th>\n",
       "      <th>Power</th>\n",
       "      <th>Kilometer</th>\n",
       "      <th>RegistrationMonth</th>\n",
       "    </tr>\n",
       "  </thead>\n",
       "  <tbody>\n",
       "    <tr>\n",
       "      <th>count</th>\n",
       "      <td>273945.000000</td>\n",
       "      <td>273945.000000</td>\n",
       "      <td>273945.000000</td>\n",
       "      <td>273945.000000</td>\n",
       "      <td>273945.000000</td>\n",
       "    </tr>\n",
       "    <tr>\n",
       "      <th>mean</th>\n",
       "      <td>5212.883645</td>\n",
       "      <td>2003.225250</td>\n",
       "      <td>124.037884</td>\n",
       "      <td>127681.158627</td>\n",
       "      <td>6.084535</td>\n",
       "    </tr>\n",
       "    <tr>\n",
       "      <th>std</th>\n",
       "      <td>4607.727139</td>\n",
       "      <td>6.295533</td>\n",
       "      <td>54.432284</td>\n",
       "      <td>36865.798972</td>\n",
       "      <td>3.545331</td>\n",
       "    </tr>\n",
       "    <tr>\n",
       "      <th>min</th>\n",
       "      <td>501.000000</td>\n",
       "      <td>1910.000000</td>\n",
       "      <td>40.000000</td>\n",
       "      <td>5000.000000</td>\n",
       "      <td>0.000000</td>\n",
       "    </tr>\n",
       "    <tr>\n",
       "      <th>25%</th>\n",
       "      <td>1600.000000</td>\n",
       "      <td>2000.000000</td>\n",
       "      <td>84.000000</td>\n",
       "      <td>125000.000000</td>\n",
       "      <td>3.000000</td>\n",
       "    </tr>\n",
       "    <tr>\n",
       "      <th>50%</th>\n",
       "      <td>3500.000000</td>\n",
       "      <td>2004.000000</td>\n",
       "      <td>116.000000</td>\n",
       "      <td>150000.000000</td>\n",
       "      <td>6.000000</td>\n",
       "    </tr>\n",
       "    <tr>\n",
       "      <th>75%</th>\n",
       "      <td>7499.000000</td>\n",
       "      <td>2007.000000</td>\n",
       "      <td>150.000000</td>\n",
       "      <td>150000.000000</td>\n",
       "      <td>9.000000</td>\n",
       "    </tr>\n",
       "    <tr>\n",
       "      <th>max</th>\n",
       "      <td>20000.000000</td>\n",
       "      <td>2016.000000</td>\n",
       "      <td>999.000000</td>\n",
       "      <td>150000.000000</td>\n",
       "      <td>12.000000</td>\n",
       "    </tr>\n",
       "  </tbody>\n",
       "</table>\n",
       "</div>"
      ],
      "text/plain": [
       "               Price  RegistrationYear          Power      Kilometer  \\\n",
       "count  273945.000000     273945.000000  273945.000000  273945.000000   \n",
       "mean     5212.883645       2003.225250     124.037884  127681.158627   \n",
       "std      4607.727139          6.295533      54.432284   36865.798972   \n",
       "min       501.000000       1910.000000      40.000000    5000.000000   \n",
       "25%      1600.000000       2000.000000      84.000000  125000.000000   \n",
       "50%      3500.000000       2004.000000     116.000000  150000.000000   \n",
       "75%      7499.000000       2007.000000     150.000000  150000.000000   \n",
       "max     20000.000000       2016.000000     999.000000  150000.000000   \n",
       "\n",
       "       RegistrationMonth  \n",
       "count      273945.000000  \n",
       "mean            6.084535  \n",
       "std             3.545331  \n",
       "min             0.000000  \n",
       "25%             3.000000  \n",
       "50%             6.000000  \n",
       "75%             9.000000  \n",
       "max            12.000000  "
      ]
     },
     "execution_count": 34,
     "metadata": {},
     "output_type": "execute_result"
    }
   ],
   "source": [
    "df.describe()"
   ]
  },
  {
   "cell_type": "markdown",
   "metadata": {},
   "source": [
    "Ну вроде теперь все выглядит вменяемо"
   ]
  },
  {
   "cell_type": "markdown",
   "metadata": {},
   "source": [
    "### Подготовка выборок к обучению"
   ]
  },
  {
   "cell_type": "code",
   "execution_count": 35,
   "metadata": {},
   "outputs": [],
   "source": [
    "cat_col=list(df.select_dtypes(include=object).columns)\n",
    "num_col=list(df.select_dtypes(exclude=object).columns)"
   ]
  },
  {
   "cell_type": "code",
   "execution_count": 36,
   "metadata": {},
   "outputs": [],
   "source": [
    "X=df.drop('Price',axis=1)\n",
    "y=df['Price']"
   ]
  },
  {
   "cell_type": "code",
   "execution_count": 37,
   "metadata": {},
   "outputs": [],
   "source": [
    "X_train, X_test, y_train, y_test = train_test_split(X, y, test_size=0.25, random_state=42)"
   ]
  },
  {
   "cell_type": "code",
   "execution_count": 38,
   "metadata": {},
   "outputs": [
    {
     "data": {
      "text/html": [
       "<div>\n",
       "<style scoped>\n",
       "    .dataframe tbody tr th:only-of-type {\n",
       "        vertical-align: middle;\n",
       "    }\n",
       "\n",
       "    .dataframe tbody tr th {\n",
       "        vertical-align: top;\n",
       "    }\n",
       "\n",
       "    .dataframe thead th {\n",
       "        text-align: right;\n",
       "    }\n",
       "</style>\n",
       "<table border=\"1\" class=\"dataframe\">\n",
       "  <thead>\n",
       "    <tr style=\"text-align: right;\">\n",
       "      <th></th>\n",
       "      <th>VehicleType</th>\n",
       "      <th>RegistrationYear</th>\n",
       "      <th>Gearbox</th>\n",
       "      <th>Power</th>\n",
       "      <th>Model</th>\n",
       "      <th>Kilometer</th>\n",
       "      <th>RegistrationMonth</th>\n",
       "      <th>FuelType</th>\n",
       "      <th>Brand</th>\n",
       "      <th>Repaired</th>\n",
       "    </tr>\n",
       "  </thead>\n",
       "  <tbody>\n",
       "    <tr>\n",
       "      <th>262220</th>\n",
       "      <td>wagon</td>\n",
       "      <td>2006</td>\n",
       "      <td>manual</td>\n",
       "      <td>174</td>\n",
       "      <td>transporter</td>\n",
       "      <td>150000</td>\n",
       "      <td>5</td>\n",
       "      <td>gasoline</td>\n",
       "      <td>volkswagen</td>\n",
       "      <td>no</td>\n",
       "    </tr>\n",
       "    <tr>\n",
       "      <th>168509</th>\n",
       "      <td>sedan</td>\n",
       "      <td>2000</td>\n",
       "      <td>manual</td>\n",
       "      <td>50</td>\n",
       "      <td>polo</td>\n",
       "      <td>150000</td>\n",
       "      <td>10</td>\n",
       "      <td>petrol</td>\n",
       "      <td>volkswagen</td>\n",
       "      <td>unknown</td>\n",
       "    </tr>\n",
       "    <tr>\n",
       "      <th>315105</th>\n",
       "      <td>coupe</td>\n",
       "      <td>1999</td>\n",
       "      <td>manual</td>\n",
       "      <td>179</td>\n",
       "      <td>tt</td>\n",
       "      <td>150000</td>\n",
       "      <td>4</td>\n",
       "      <td>petrol</td>\n",
       "      <td>audi</td>\n",
       "      <td>no</td>\n",
       "    </tr>\n",
       "    <tr>\n",
       "      <th>157800</th>\n",
       "      <td>small</td>\n",
       "      <td>2010</td>\n",
       "      <td>manual</td>\n",
       "      <td>105</td>\n",
       "      <td>ibiza</td>\n",
       "      <td>125000</td>\n",
       "      <td>4</td>\n",
       "      <td>gasoline</td>\n",
       "      <td>seat</td>\n",
       "      <td>no</td>\n",
       "    </tr>\n",
       "    <tr>\n",
       "      <th>200359</th>\n",
       "      <td>sedan</td>\n",
       "      <td>2004</td>\n",
       "      <td>manual</td>\n",
       "      <td>101</td>\n",
       "      <td>golf</td>\n",
       "      <td>150000</td>\n",
       "      <td>4</td>\n",
       "      <td>gasoline</td>\n",
       "      <td>volkswagen</td>\n",
       "      <td>no</td>\n",
       "    </tr>\n",
       "    <tr>\n",
       "      <th>...</th>\n",
       "      <td>...</td>\n",
       "      <td>...</td>\n",
       "      <td>...</td>\n",
       "      <td>...</td>\n",
       "      <td>...</td>\n",
       "      <td>...</td>\n",
       "      <td>...</td>\n",
       "      <td>...</td>\n",
       "      <td>...</td>\n",
       "      <td>...</td>\n",
       "    </tr>\n",
       "    <tr>\n",
       "      <th>155089</th>\n",
       "      <td>bus</td>\n",
       "      <td>2005</td>\n",
       "      <td>manual</td>\n",
       "      <td>125</td>\n",
       "      <td>zafira</td>\n",
       "      <td>150000</td>\n",
       "      <td>1</td>\n",
       "      <td>petrol</td>\n",
       "      <td>opel</td>\n",
       "      <td>no</td>\n",
       "    </tr>\n",
       "    <tr>\n",
       "      <th>335159</th>\n",
       "      <td>wagon</td>\n",
       "      <td>1997</td>\n",
       "      <td>manual</td>\n",
       "      <td>101</td>\n",
       "      <td>a4</td>\n",
       "      <td>150000</td>\n",
       "      <td>9</td>\n",
       "      <td>petrol</td>\n",
       "      <td>audi</td>\n",
       "      <td>unknown</td>\n",
       "    </tr>\n",
       "    <tr>\n",
       "      <th>170657</th>\n",
       "      <td>wagon</td>\n",
       "      <td>1995</td>\n",
       "      <td>auto</td>\n",
       "      <td>150</td>\n",
       "      <td>e_klasse</td>\n",
       "      <td>150000</td>\n",
       "      <td>7</td>\n",
       "      <td>petrol</td>\n",
       "      <td>mercedes_benz</td>\n",
       "      <td>unknown</td>\n",
       "    </tr>\n",
       "    <tr>\n",
       "      <th>189989</th>\n",
       "      <td>bus</td>\n",
       "      <td>2003</td>\n",
       "      <td>manual</td>\n",
       "      <td>116</td>\n",
       "      <td>touran</td>\n",
       "      <td>150000</td>\n",
       "      <td>12</td>\n",
       "      <td>petrol</td>\n",
       "      <td>volkswagen</td>\n",
       "      <td>no</td>\n",
       "    </tr>\n",
       "    <tr>\n",
       "      <th>157748</th>\n",
       "      <td>bus</td>\n",
       "      <td>2007</td>\n",
       "      <td>manual</td>\n",
       "      <td>95</td>\n",
       "      <td>vito</td>\n",
       "      <td>150000</td>\n",
       "      <td>1</td>\n",
       "      <td>gasoline</td>\n",
       "      <td>mercedes_benz</td>\n",
       "      <td>no</td>\n",
       "    </tr>\n",
       "  </tbody>\n",
       "</table>\n",
       "<p>205458 rows × 10 columns</p>\n",
       "</div>"
      ],
      "text/plain": [
       "       VehicleType  RegistrationYear Gearbox  Power        Model  Kilometer  \\\n",
       "262220       wagon              2006  manual    174  transporter     150000   \n",
       "168509       sedan              2000  manual     50         polo     150000   \n",
       "315105       coupe              1999  manual    179           tt     150000   \n",
       "157800       small              2010  manual    105        ibiza     125000   \n",
       "200359       sedan              2004  manual    101         golf     150000   \n",
       "...            ...               ...     ...    ...          ...        ...   \n",
       "155089         bus              2005  manual    125       zafira     150000   \n",
       "335159       wagon              1997  manual    101           a4     150000   \n",
       "170657       wagon              1995    auto    150     e_klasse     150000   \n",
       "189989         bus              2003  manual    116       touran     150000   \n",
       "157748         bus              2007  manual     95         vito     150000   \n",
       "\n",
       "        RegistrationMonth  FuelType          Brand Repaired  \n",
       "262220                  5  gasoline     volkswagen       no  \n",
       "168509                 10    petrol     volkswagen  unknown  \n",
       "315105                  4    petrol           audi       no  \n",
       "157800                  4  gasoline           seat       no  \n",
       "200359                  4  gasoline     volkswagen       no  \n",
       "...                   ...       ...            ...      ...  \n",
       "155089                  1    petrol           opel       no  \n",
       "335159                  9    petrol           audi  unknown  \n",
       "170657                  7    petrol  mercedes_benz  unknown  \n",
       "189989                 12    petrol     volkswagen       no  \n",
       "157748                  1  gasoline  mercedes_benz       no  \n",
       "\n",
       "[205458 rows x 10 columns]"
      ]
     },
     "execution_count": 38,
     "metadata": {},
     "output_type": "execute_result"
    }
   ],
   "source": [
    "X_train"
   ]
  },
  {
   "cell_type": "markdown",
   "metadata": {},
   "source": [
    "Вывод: В ходе предобработки данных были убраны пропуски в значениях, и странные выбросы по данным."
   ]
  },
  {
   "cell_type": "markdown",
   "metadata": {},
   "source": [
    "## Обучение моделей"
   ]
  },
  {
   "cell_type": "markdown",
   "metadata": {},
   "source": [
    "### Решающее дерево"
   ]
  },
  {
   "cell_type": "code",
   "execution_count": 39,
   "metadata": {},
   "outputs": [],
   "source": [
    "enc_X_train=X_train.copy()\n",
    "enc_tr=OrdinalEncoder().fit_transform(X_train[cat_col])\n",
    "enc_X_train[cat_col]=enc_tr\n",
    "\n",
    "enc_X_test=X_test.copy()\n",
    "enc_test=OrdinalEncoder().fit_transform(X_test[cat_col])\n",
    "enc_X_test[cat_col]=enc_test"
   ]
  },
  {
   "cell_type": "code",
   "execution_count": 40,
   "metadata": {},
   "outputs": [
    {
     "name": "stdout",
     "output_type": "stream",
     "text": [
      "RMSE для решающего дерева: 2083.1619904210334\n",
      "CPU times: user 834 ms, sys: 16 ms, total: 850 ms\n",
      "Wall time: 855 ms\n"
     ]
    }
   ],
   "source": [
    "%%time\n",
    "model = DecisionTreeRegressor(random_state=12345)\n",
    "model.fit(enc_X_train, y_train)\n",
    "predictions_train_oe = model.predict(enc_X_test)\n",
    "rmse = mean_squared_error(y_test, predictions_train_oe)**0.5\n",
    "print('RMSE для решающего дерева:', rmse)"
   ]
  },
  {
   "cell_type": "code",
   "execution_count": 41,
   "metadata": {},
   "outputs": [
    {
     "data": {
      "text/plain": [
       "{'min_samples_split': 3, 'min_samples_leaf': 7, 'max_depth': 19}"
      ]
     },
     "metadata": {},
     "output_type": "display_data"
    },
    {
     "data": {
      "text/plain": [
       "1796.3309009532309"
      ]
     },
     "metadata": {},
     "output_type": "display_data"
    },
    {
     "name": "stdout",
     "output_type": "stream",
     "text": [
      "CPU times: user 867 ms, sys: 288 ms, total: 1.15 s\n",
      "Wall time: 33.3 s\n"
     ]
    }
   ],
   "source": [
    "%%time\n",
    "param_grid2 = {'min_samples_leaf': range(1, 20, 1),\n",
    "              'min_samples_split':range(2, 20, 1),\n",
    "              'max_depth':range(1, 20,1)\n",
    "             }\n",
    "\n",
    "grd2 = RandomizedSearchCV(DecisionTreeRegressor(random_state=12345), param_distributions=param_grid2,cv=5, scoring='neg_root_mean_squared_error', n_jobs=4,random_state=42)\n",
    "grd2.fit(enc_X_train, y_train)\n",
    "display(grd2.best_params_)\n",
    "display(grd2.best_score_*-1)"
   ]
  },
  {
   "cell_type": "markdown",
   "metadata": {},
   "source": [
    "Получили rmse 1831, меньше 2500 по заданию, посмотрим что даст бустинг."
   ]
  },
  {
   "cell_type": "markdown",
   "metadata": {},
   "source": [
    "### LightGBM"
   ]
  },
  {
   "cell_type": "markdown",
   "metadata": {},
   "source": [
    "Нужно привести кат признаки к типо category"
   ]
  },
  {
   "cell_type": "code",
   "execution_count": 42,
   "metadata": {},
   "outputs": [
    {
     "name": "stderr",
     "output_type": "stream",
     "text": [
      "/tmp/ipykernel_245/3865537407.py:4: SettingWithCopyWarning: \n",
      "A value is trying to be set on a copy of a slice from a DataFrame.\n",
      "Try using .loc[row_indexer,col_indexer] = value instead\n",
      "\n",
      "See the caveats in the documentation: https://pandas.pydata.org/pandas-docs/stable/user_guide/indexing.html#returning-a-view-versus-a-copy\n",
      "  X_train[c] = X_train[c].astype('category')\n",
      "/tmp/ipykernel_245/3865537407.py:9: SettingWithCopyWarning: \n",
      "A value is trying to be set on a copy of a slice from a DataFrame.\n",
      "Try using .loc[row_indexer,col_indexer] = value instead\n",
      "\n",
      "See the caveats in the documentation: https://pandas.pydata.org/pandas-docs/stable/user_guide/indexing.html#returning-a-view-versus-a-copy\n",
      "  X_test[c] = X_test[c].astype('category')\n"
     ]
    }
   ],
   "source": [
    "for c in X_train.columns:\n",
    "    col_type = X_train[c].dtype\n",
    "    if col_type == 'object':\n",
    "        X_train[c] = X_train[c].astype('category')\n",
    "        \n",
    "for c in X_test.columns:\n",
    "    col_type = X_test[c].dtype\n",
    "    if col_type == 'object':\n",
    "        X_test[c] = X_test[c].astype('category')"
   ]
  },
  {
   "cell_type": "code",
   "execution_count": 43,
   "metadata": {},
   "outputs": [],
   "source": [
    "model = lgb.LGBMRegressor(random_state=12345)\n",
    "model.fit(X_train, y_train)\n",
    "predictions_train = model.predict(X_test)\n"
   ]
  },
  {
   "cell_type": "code",
   "execution_count": 44,
   "metadata": {},
   "outputs": [
    {
     "name": "stdout",
     "output_type": "stream",
     "text": [
      "1606.3942178172485\n"
     ]
    }
   ],
   "source": [
    "rmse = mean_squared_error(y_test, predictions_train)**0.5\n",
    "print(rmse)"
   ]
  },
  {
   "cell_type": "markdown",
   "metadata": {},
   "source": [
    "Подберу параметры"
   ]
  },
  {
   "cell_type": "code",
   "execution_count": 45,
   "metadata": {},
   "outputs": [
    {
     "data": {
      "text/plain": [
       "\"model = lgb.LGBMRegressor(random_state=12345)\\nparam_grid = {'n_estimators': range(480, 520, 10),\\n              'num_leaves':range(170, 200,10),\\n              'learning_rate':[0.05,0.01,0.001]\\n             }\\ngrd = RandomizedSearchCV(model, param_distributions=param_grid,cv=5, scoring='neg_root_mean_squared_error', n_jobs=4,random_state=42)\\ngrd.fit(X_train, y_train)\\ndisplay(grd.best_params_)\\ndisplay(grd.best_score_*-1)\""
      ]
     },
     "execution_count": 45,
     "metadata": {},
     "output_type": "execute_result"
    }
   ],
   "source": [
    "#{'num_leaves': 190, 'n_estimators': 500, 'learning_rate': 0.05}\n",
    "\"\"\"model = lgb.LGBMRegressor(random_state=12345)\n",
    "param_grid = {'n_estimators': range(480, 520, 10),\n",
    "              'num_leaves':range(170, 200,10),\n",
    "              'learning_rate':[0.05,0.01,0.001]\n",
    "             }\n",
    "grd = RandomizedSearchCV(model, param_distributions=param_grid,cv=5, scoring='neg_root_mean_squared_error', n_jobs=4,random_state=42)\n",
    "grd.fit(X_train, y_train)\n",
    "display(grd.best_params_)\n",
    "display(grd.best_score_*-1)\"\"\"\n",
    "\n"
   ]
  },
  {
   "cell_type": "markdown",
   "metadata": {},
   "source": [
    "Вывод: после обучения моделей по перебору 3 гипперпараметров получены результаты качетсва моделей 1531 LightGBM и 1618 Решающего дерева.\n",
    "П.С. Могу сделать предположение, что решающее дерево может обучаться дольше или на равне с ГБ, так как тоже имеет гиппер параметр \"Количество решателей\", что увеличивает время решения."
   ]
  },
  {
   "cell_type": "markdown",
   "metadata": {},
   "source": [
    "## Анализ моделей"
   ]
  },
  {
   "cell_type": "markdown",
   "metadata": {},
   "source": [
    "### LGBM"
   ]
  },
  {
   "cell_type": "markdown",
   "metadata": {},
   "source": [
    "Обучение модели"
   ]
  },
  {
   "cell_type": "code",
   "execution_count": 52,
   "metadata": {},
   "outputs": [
    {
     "name": "stdout",
     "output_type": "stream",
     "text": [
      "CPU times: user 5min 3s, sys: 3.27 s, total: 5min 6s\n",
      "Wall time: 5min 8s\n"
     ]
    },
    {
     "data": {
      "text/plain": [
       "LGBMRegressor(learning_rate=0.05, n_estimators=500, num_leaves=190,\n",
       "              random_state=12345)"
      ]
     },
     "execution_count": 52,
     "metadata": {},
     "output_type": "execute_result"
    }
   ],
   "source": [
    "%%time\n",
    "model1 = lgb.LGBMRegressor(random_state=12345,\n",
    "                          n_estimators=500,\n",
    "                          num_leaves=190,\n",
    "                         learning_rate=0.05)\n",
    "model1.fit(X_train, y_train)"
   ]
  },
  {
   "cell_type": "markdown",
   "metadata": {},
   "source": [
    "Время предсказания модели"
   ]
  },
  {
   "cell_type": "code",
   "execution_count": 47,
   "metadata": {},
   "outputs": [
    {
     "name": "stdout",
     "output_type": "stream",
     "text": [
      "1549.293744585325\n",
      "CPU times: user 1.87 s, sys: 0 ns, total: 1.87 s\n",
      "Wall time: 1.89 s\n"
     ]
    }
   ],
   "source": [
    "%%time \n",
    "predictions_test = model.predict(X_train)\n",
    "rmse = mean_squared_error(y_train, predictions_test)**0.5\n",
    "print(rmse)"
   ]
  },
  {
   "cell_type": "markdown",
   "metadata": {},
   "source": [
    "### DecisionTreeRegressor"
   ]
  },
  {
   "cell_type": "markdown",
   "metadata": {},
   "source": [
    "#{'min_samples_split': 3, 'min_samples_leaf': 7, 'max_depth': 19}"
   ]
  },
  {
   "cell_type": "markdown",
   "metadata": {},
   "source": [
    "Время обучения модели"
   ]
  },
  {
   "cell_type": "code",
   "execution_count": 48,
   "metadata": {},
   "outputs": [
    {
     "name": "stdout",
     "output_type": "stream",
     "text": [
      "CPU times: user 575 ms, sys: 0 ns, total: 575 ms\n",
      "Wall time: 624 ms\n"
     ]
    },
    {
     "data": {
      "text/plain": [
       "DecisionTreeRegressor(max_depth=19, min_samples_leaf=7, min_samples_split=3,\n",
       "                      random_state=12345)"
      ]
     },
     "execution_count": 48,
     "metadata": {},
     "output_type": "execute_result"
    }
   ],
   "source": [
    "%%time\n",
    "model2 = DecisionTreeRegressor(random_state=12345,\n",
    "                          min_samples_split=3,\n",
    "                          min_samples_leaf=7,\n",
    "                         max_depth=19)\n",
    "model2.fit(enc_X_train, y_train)"
   ]
  },
  {
   "cell_type": "markdown",
   "metadata": {},
   "source": [
    "Время предсказания модели"
   ]
  },
  {
   "cell_type": "code",
   "execution_count": 49,
   "metadata": {},
   "outputs": [
    {
     "name": "stdout",
     "output_type": "stream",
     "text": [
      "1398.8371411827652\n",
      "CPU times: user 49.5 ms, sys: 1.14 ms, total: 50.6 ms\n",
      "Wall time: 57.9 ms\n"
     ]
    }
   ],
   "source": [
    "%%time \n",
    "predictions_test2 = model2.predict(enc_X_train)\n",
    "rmse2 = mean_squared_error(y_train, predictions_test2)**0.5\n",
    "print(rmse2)"
   ]
  },
  {
   "cell_type": "code",
   "execution_count": 56,
   "metadata": {},
   "outputs": [
    {
     "data": {
      "text/html": [
       "<div>\n",
       "<style scoped>\n",
       "    .dataframe tbody tr th:only-of-type {\n",
       "        vertical-align: middle;\n",
       "    }\n",
       "\n",
       "    .dataframe tbody tr th {\n",
       "        vertical-align: top;\n",
       "    }\n",
       "\n",
       "    .dataframe thead th {\n",
       "        text-align: right;\n",
       "    }\n",
       "</style>\n",
       "<table border=\"1\" class=\"dataframe\">\n",
       "  <thead>\n",
       "    <tr style=\"text-align: right;\">\n",
       "      <th></th>\n",
       "      <th>CPU-times</th>\n",
       "      <th>Wall time</th>\n",
       "      <th>RMSE Результат</th>\n",
       "    </tr>\n",
       "  </thead>\n",
       "  <tbody>\n",
       "    <tr>\n",
       "      <th>Решающее дерево: обучение</th>\n",
       "      <td>575 ms</td>\n",
       "      <td>624 ms</td>\n",
       "      <td></td>\n",
       "    </tr>\n",
       "    <tr>\n",
       "      <th>Решающее дерево: предсказание</th>\n",
       "      <td>49,5 ms</td>\n",
       "      <td>57,9 ms</td>\n",
       "      <td>1832</td>\n",
       "    </tr>\n",
       "    <tr>\n",
       "      <th>LightGBM: обучение</th>\n",
       "      <td>5min</td>\n",
       "      <td>5 min</td>\n",
       "      <td></td>\n",
       "    </tr>\n",
       "    <tr>\n",
       "      <th>LightGBM: предсказание</th>\n",
       "      <td>1,87 s</td>\n",
       "      <td>1,87 s</td>\n",
       "      <td>1496</td>\n",
       "    </tr>\n",
       "  </tbody>\n",
       "</table>\n",
       "</div>"
      ],
      "text/plain": [
       "                              CPU-times Wall time RMSE Результат\n",
       "Решающее дерево: обучение        575 ms    624 ms               \n",
       "Решающее дерево: предсказание   49,5 ms   57,9 ms           1832\n",
       "LightGBM: обучение                 5min     5 min               \n",
       "LightGBM: предсказание           1,87 s    1,87 s           1496"
      ]
     },
     "execution_count": 56,
     "metadata": {},
     "output_type": "execute_result"
    }
   ],
   "source": [
    "tabledata = [\n",
    "         [\"Решающее дерево: обучение\", \"575 ms\", \"624 ms\",' '],\n",
    "         [\"Решающее дерево: предсказание\", \"49,5 ms\", \"57,9 ms\",'1832'],\n",
    "         [\"LightGBM: обучение\", \"5min\", \"5 min\",' '],\n",
    "         [\"LightGBM: предсказание\", \"1,87 s\", \"1,87 s\",'1496']]\n",
    "dfr= pd.DataFrame(tabledata, columns=[\"модель\",\"CPU-times\", \"Wall time\",'RMSE Результат'])\n",
    "dfr = dfr.set_index('модель')\n",
    "dfr.index.names = [None]\n",
    "dfr"
   ]
  },
  {
   "cell_type": "markdown",
   "metadata": {},
   "source": [
    "Вывод: по сводной таблице видно, что модель градиентного бустинга обучается намного дольше чем решающее дерево. Однако время предсказания у ГБ больше всего в 3 раза, а результат по RMSE значительно выше.\n",
    "По данным анализа и условий ТЗ рекоммендую заказчику модель LightLGM. Проведем ее тестирование."
   ]
  },
  {
   "cell_type": "markdown",
   "metadata": {},
   "source": [
    "## Тестирование лучшей модели"
   ]
  },
  {
   "cell_type": "markdown",
   "metadata": {},
   "source": [
    "Поскольку в ТЗ было в первую очередь важно качество предсказаний, то я считаю что рационально сделать рекомендацию по применениею  LightLGM. В конце концов в бизнесе лучше не торопиться с выводами, особенно если они быстрые и ошибочные."
   ]
  },
  {
   "cell_type": "markdown",
   "metadata": {},
   "source": [
    "Выполню предикт по тестовой выборке"
   ]
  },
  {
   "cell_type": "code",
   "execution_count": 53,
   "metadata": {},
   "outputs": [
    {
     "name": "stdout",
     "output_type": "stream",
     "text": [
      "1496.207535330627\n",
      "CPU times: user 10.4 s, sys: 0 ns, total: 10.4 s\n",
      "Wall time: 10.5 s\n"
     ]
    }
   ],
   "source": [
    "%%time \n",
    "predictions_test = model1.predict(X_test)\n",
    "rmse = mean_squared_error(y_test, predictions_test)**0.5\n",
    "print(rmse)"
   ]
  },
  {
   "cell_type": "markdown",
   "metadata": {},
   "source": [
    "## Вывод"
   ]
  },
  {
   "cell_type": "markdown",
   "metadata": {},
   "source": [
    "На входе мы получили таблицу с более чем 350 тыс. строк и 16 столбцами. Мы перевели названия столбцов в более удобочитаемый нижний и змеиный регистр, удалили неинформативные столбцы, заполнили пропуски, избавились от аномалий. Удалили дубликаты.\n",
    "\n",
    " Для модели решающего дерева применили порядковое кодирование, в итоге количесвто столбцов не изменилось, а подбор гиперпараметров стал быстрее. Мы обучили разные модели, подобрали гиперпараметры для них и обнаружили, что модель LightGBM с гиперпараметрами {'num_leaves': 190, 'n_estimators': 500, 'learning_rate': 0.05} дает наименьшее значение rmse: 1496.\n",
    "\n",
    "Мы проанализировали все модели и обнаружили, что дольше всего учится модель LightGBM, но имеет наилучшие показания качества модели по RMSE 1495 против 1832 у Решающего дерева.\n",
    "\n",
    "Исходя из требований заказчика по скорости обучения, придсказания и качества модели, рекомендуем модель LightGBM, поскольку она имеет самые оптимальные характеристики. Так как в данном случае мы имеем недостаток только в скорости обучения, однако по сути это одноразовая процедура, а предсказания имеют переодический характер, и на мой взгляд на длинной дистанции предсказаний мы будем выигрывать по времени. А выйгрыш по качеству модели доказывает эффективность модели градиентного бустинга."
   ]
  }
 ],
 "metadata": {
  "ExecuteTimeLog": [
   {
    "duration": 492,
    "start_time": "2023-01-31T06:59:15.075Z"
   },
   {
    "duration": 2466,
    "start_time": "2023-01-31T07:04:22.404Z"
   },
   {
    "duration": 3,
    "start_time": "2023-01-31T07:04:34.294Z"
   },
   {
    "duration": 1188,
    "start_time": "2023-01-31T07:05:25.506Z"
   },
   {
    "duration": 3,
    "start_time": "2023-01-31T07:07:10.458Z"
   },
   {
    "duration": 8,
    "start_time": "2023-01-31T07:07:14.920Z"
   },
   {
    "duration": 102,
    "start_time": "2023-01-31T07:07:33.806Z"
   },
   {
    "duration": 13,
    "start_time": "2023-01-31T07:07:42.346Z"
   },
   {
    "duration": 1283,
    "start_time": "2023-01-31T07:09:14.883Z"
   },
   {
    "duration": 921,
    "start_time": "2023-01-31T07:10:37.142Z"
   },
   {
    "duration": 125,
    "start_time": "2023-01-31T07:11:07.159Z"
   },
   {
    "duration": 15,
    "start_time": "2023-01-31T07:11:27.307Z"
   },
   {
    "duration": 133,
    "start_time": "2023-01-31T07:12:32.852Z"
   },
   {
    "duration": 413,
    "start_time": "2023-01-31T07:15:44.087Z"
   },
   {
    "duration": 705,
    "start_time": "2023-01-31T07:16:08.238Z"
   },
   {
    "duration": 3,
    "start_time": "2023-01-31T07:17:01.767Z"
   },
   {
    "duration": 45,
    "start_time": "2023-01-31T07:23:11.764Z"
   },
   {
    "duration": 3133,
    "start_time": "2023-01-31T07:23:28.336Z"
   },
   {
    "duration": 2987,
    "start_time": "2023-01-31T07:23:47.735Z"
   },
   {
    "duration": 2760,
    "start_time": "2023-01-31T07:24:16.956Z"
   },
   {
    "duration": 2763,
    "start_time": "2023-01-31T07:24:40.910Z"
   },
   {
    "duration": 5265,
    "start_time": "2023-01-31T07:25:06.233Z"
   },
   {
    "duration": 14,
    "start_time": "2023-01-31T07:28:13.554Z"
   },
   {
    "duration": 139,
    "start_time": "2023-01-31T07:29:18.015Z"
   },
   {
    "duration": 16,
    "start_time": "2023-01-31T07:29:45.404Z"
   },
   {
    "duration": 11,
    "start_time": "2023-01-31T07:29:54.901Z"
   },
   {
    "duration": 232,
    "start_time": "2023-01-31T07:30:42.066Z"
   },
   {
    "duration": 15,
    "start_time": "2023-01-31T07:31:21.898Z"
   },
   {
    "duration": 11,
    "start_time": "2023-01-31T07:31:29.794Z"
   },
   {
    "duration": 200,
    "start_time": "2023-01-31T07:31:38.267Z"
   },
   {
    "duration": 15,
    "start_time": "2023-01-31T07:33:05.859Z"
   },
   {
    "duration": 208,
    "start_time": "2023-01-31T07:33:18.225Z"
   },
   {
    "duration": 4,
    "start_time": "2023-01-31T07:34:11.554Z"
   },
   {
    "duration": 16,
    "start_time": "2023-01-31T07:34:52.701Z"
   },
   {
    "duration": 37,
    "start_time": "2023-01-31T07:35:04.301Z"
   },
   {
    "duration": 16,
    "start_time": "2023-01-31T07:35:39.523Z"
   },
   {
    "duration": 42,
    "start_time": "2023-01-31T07:36:13.112Z"
   },
   {
    "duration": 40,
    "start_time": "2023-01-31T07:36:14.452Z"
   },
   {
    "duration": 364,
    "start_time": "2023-01-31T07:36:18.313Z"
   },
   {
    "duration": 2325,
    "start_time": "2023-01-31T07:36:42.275Z"
   },
   {
    "duration": 37,
    "start_time": "2023-01-31T07:37:37.941Z"
   },
   {
    "duration": 257,
    "start_time": "2023-01-31T07:37:53.822Z"
   },
   {
    "duration": 43,
    "start_time": "2023-01-31T07:39:00.518Z"
   },
   {
    "duration": 172,
    "start_time": "2023-01-31T07:39:24.419Z"
   },
   {
    "duration": 453,
    "start_time": "2023-01-31T07:39:59.308Z"
   },
   {
    "duration": 208,
    "start_time": "2023-01-31T07:41:01.862Z"
   },
   {
    "duration": 11,
    "start_time": "2023-01-31T07:42:52.204Z"
   },
   {
    "duration": 164,
    "start_time": "2023-01-31T07:43:37.240Z"
   },
   {
    "duration": 191,
    "start_time": "2023-01-31T07:47:41.275Z"
   },
   {
    "duration": 2308,
    "start_time": "2023-01-31T07:47:55.265Z"
   },
   {
    "duration": 53,
    "start_time": "2023-01-31T07:48:48.225Z"
   },
   {
    "duration": 28,
    "start_time": "2023-01-31T07:49:10.309Z"
   },
   {
    "duration": 5026,
    "start_time": "2023-01-31T07:54:01.496Z"
   },
   {
    "duration": 3180,
    "start_time": "2023-01-31T07:54:46.804Z"
   },
   {
    "duration": 3064,
    "start_time": "2023-01-31T07:57:21.906Z"
   },
   {
    "duration": 4,
    "start_time": "2023-01-31T07:57:47.978Z"
   },
   {
    "duration": 5017,
    "start_time": "2023-01-31T07:57:53.235Z"
   },
   {
    "duration": 6,
    "start_time": "2023-01-31T07:58:51.663Z"
   },
   {
    "duration": 46,
    "start_time": "2023-01-31T07:59:38.531Z"
   },
   {
    "duration": 27,
    "start_time": "2023-01-31T07:59:47.148Z"
   },
   {
    "duration": 129,
    "start_time": "2023-01-31T07:59:54.305Z"
   },
   {
    "duration": 136,
    "start_time": "2023-01-31T08:00:02.706Z"
   },
   {
    "duration": 49,
    "start_time": "2023-01-31T08:00:03.606Z"
   },
   {
    "duration": 5098,
    "start_time": "2023-01-31T08:00:04.208Z"
   },
   {
    "duration": 94,
    "start_time": "2023-01-31T08:10:21.518Z"
   },
   {
    "duration": 51,
    "start_time": "2023-01-31T08:10:51.324Z"
   },
   {
    "duration": 99,
    "start_time": "2023-01-31T08:10:56.833Z"
   },
   {
    "duration": 122,
    "start_time": "2023-01-31T08:11:52.312Z"
   },
   {
    "duration": 66,
    "start_time": "2023-01-31T08:12:02.685Z"
   },
   {
    "duration": 122,
    "start_time": "2023-01-31T08:12:05.975Z"
   },
   {
    "duration": 194,
    "start_time": "2023-01-31T08:12:44.148Z"
   },
   {
    "duration": 126,
    "start_time": "2023-01-31T08:14:00.908Z"
   },
   {
    "duration": 942,
    "start_time": "2023-01-31T08:14:28.508Z"
   },
   {
    "duration": 127,
    "start_time": "2023-01-31T08:14:34.023Z"
   },
   {
    "duration": 170,
    "start_time": "2023-01-31T08:15:04.088Z"
   },
   {
    "duration": 1239,
    "start_time": "2023-01-31T08:15:31.682Z"
   },
   {
    "duration": 165,
    "start_time": "2023-01-31T08:15:43.302Z"
   },
   {
    "duration": 184,
    "start_time": "2023-01-31T08:24:27.621Z"
   },
   {
    "duration": 139,
    "start_time": "2023-01-31T08:37:15.257Z"
   },
   {
    "duration": 170,
    "start_time": "2023-01-31T08:38:00.609Z"
   },
   {
    "duration": 1063,
    "start_time": "2023-01-31T08:39:29.220Z"
   },
   {
    "duration": 158,
    "start_time": "2023-01-31T08:39:37.076Z"
   },
   {
    "duration": 1009,
    "start_time": "2023-01-31T08:39:55.218Z"
   },
   {
    "duration": 161,
    "start_time": "2023-01-31T08:40:07.481Z"
   },
   {
    "duration": 26,
    "start_time": "2023-01-31T08:42:06.355Z"
   },
   {
    "duration": 98,
    "start_time": "2023-01-31T08:42:23.954Z"
   },
   {
    "duration": 117,
    "start_time": "2023-01-31T08:42:28.665Z"
   },
   {
    "duration": 129,
    "start_time": "2023-01-31T08:48:23.222Z"
   },
   {
    "duration": 131,
    "start_time": "2023-01-31T08:48:32.677Z"
   },
   {
    "duration": 9,
    "start_time": "2023-01-31T08:48:50.263Z"
   },
   {
    "duration": 7,
    "start_time": "2023-01-31T08:49:20.008Z"
   },
   {
    "duration": 6,
    "start_time": "2023-01-31T08:49:26.665Z"
   },
   {
    "duration": 10,
    "start_time": "2023-01-31T08:49:32.496Z"
   },
   {
    "duration": 802,
    "start_time": "2023-01-31T08:49:47.822Z"
   },
   {
    "duration": 5,
    "start_time": "2023-01-31T08:49:55.922Z"
   },
   {
    "duration": 6,
    "start_time": "2023-01-31T08:50:00.435Z"
   },
   {
    "duration": 6,
    "start_time": "2023-01-31T08:50:06.852Z"
   },
   {
    "duration": 9,
    "start_time": "2023-01-31T08:50:13.510Z"
   },
   {
    "duration": 848,
    "start_time": "2023-01-31T08:50:21.607Z"
   },
   {
    "duration": 9,
    "start_time": "2023-01-31T08:50:26.103Z"
   },
   {
    "duration": 850,
    "start_time": "2023-01-31T08:50:37.664Z"
   },
   {
    "duration": 14,
    "start_time": "2023-01-31T08:59:09.472Z"
   },
   {
    "duration": 64,
    "start_time": "2023-01-31T08:59:29.743Z"
   },
   {
    "duration": 64,
    "start_time": "2023-01-31T08:59:38.000Z"
   },
   {
    "duration": 5529,
    "start_time": "2023-01-31T09:08:04.521Z"
   },
   {
    "duration": 145,
    "start_time": "2023-01-31T09:08:36.732Z"
   },
   {
    "duration": 25,
    "start_time": "2023-01-31T09:09:24.427Z"
   },
   {
    "duration": 142,
    "start_time": "2023-01-31T09:09:27.150Z"
   },
   {
    "duration": 18,
    "start_time": "2023-01-31T09:10:39.505Z"
   },
   {
    "duration": 18,
    "start_time": "2023-01-31T09:10:44.970Z"
   },
   {
    "duration": 2246,
    "start_time": "2023-01-31T09:11:03.509Z"
   },
   {
    "duration": 4,
    "start_time": "2023-01-31T09:11:05.758Z"
   },
   {
    "duration": 11,
    "start_time": "2023-01-31T09:11:05.764Z"
   },
   {
    "duration": 769,
    "start_time": "2023-01-31T09:11:05.777Z"
   },
   {
    "duration": 14,
    "start_time": "2023-01-31T09:11:06.550Z"
   },
   {
    "duration": 19,
    "start_time": "2023-01-31T09:11:06.566Z"
   },
   {
    "duration": 27,
    "start_time": "2023-01-31T09:11:06.587Z"
   },
   {
    "duration": 147,
    "start_time": "2023-01-31T09:11:06.616Z"
   },
   {
    "duration": 139,
    "start_time": "2023-01-31T09:11:06.765Z"
   },
   {
    "duration": 46,
    "start_time": "2023-01-31T09:11:06.905Z"
   },
   {
    "duration": 5040,
    "start_time": "2023-01-31T09:11:06.953Z"
   },
   {
    "duration": 24,
    "start_time": "2023-01-31T09:11:11.995Z"
   },
   {
    "duration": 144,
    "start_time": "2023-01-31T09:11:12.021Z"
   },
   {
    "duration": 90,
    "start_time": "2023-01-31T09:11:45.351Z"
   },
   {
    "duration": 15,
    "start_time": "2023-01-31T10:11:40.296Z"
   },
   {
    "duration": 11,
    "start_time": "2023-01-31T10:11:45.485Z"
   },
   {
    "duration": 11,
    "start_time": "2023-01-31T10:11:48.214Z"
   },
   {
    "duration": 135,
    "start_time": "2023-01-31T10:12:28.121Z"
   },
   {
    "duration": 802,
    "start_time": "2023-01-31T10:12:34.260Z"
   },
   {
    "duration": 805,
    "start_time": "2023-01-31T10:15:32.391Z"
   },
   {
    "duration": 807,
    "start_time": "2023-01-31T10:15:44.273Z"
   },
   {
    "duration": 885,
    "start_time": "2023-01-31T10:16:05.232Z"
   },
   {
    "duration": 102,
    "start_time": "2023-01-31T10:20:54.883Z"
   },
   {
    "duration": 152,
    "start_time": "2023-01-31T10:21:10.889Z"
   },
   {
    "duration": 98,
    "start_time": "2023-01-31T10:21:57.162Z"
   },
   {
    "duration": 116,
    "start_time": "2023-01-31T10:22:03.581Z"
   },
   {
    "duration": 152,
    "start_time": "2023-01-31T10:22:09.821Z"
   },
   {
    "duration": 166,
    "start_time": "2023-01-31T10:22:29.037Z"
   },
   {
    "duration": 143,
    "start_time": "2023-01-31T10:22:41.875Z"
   },
   {
    "duration": 35,
    "start_time": "2023-01-31T10:23:08.377Z"
   },
   {
    "duration": 67,
    "start_time": "2023-01-31T10:23:29.462Z"
   },
   {
    "duration": 47,
    "start_time": "2023-01-31T10:23:41.835Z"
   },
   {
    "duration": 84,
    "start_time": "2023-01-31T10:23:55.706Z"
   },
   {
    "duration": 835,
    "start_time": "2023-01-31T10:28:20.018Z"
   },
   {
    "duration": 841,
    "start_time": "2023-01-31T10:28:55.400Z"
   },
   {
    "duration": 835,
    "start_time": "2023-01-31T10:29:02.425Z"
   },
   {
    "duration": 22,
    "start_time": "2023-01-31T10:29:23.959Z"
   },
   {
    "duration": 20,
    "start_time": "2023-01-31T10:29:56.748Z"
   },
   {
    "duration": 93,
    "start_time": "2023-01-31T10:30:06.567Z"
   },
   {
    "duration": 35,
    "start_time": "2023-01-31T10:30:15.252Z"
   },
   {
    "duration": 349,
    "start_time": "2023-01-31T10:30:56.166Z"
   },
   {
    "duration": 706,
    "start_time": "2023-01-31T10:32:30.931Z"
   },
   {
    "duration": 708,
    "start_time": "2023-01-31T10:32:54.314Z"
   },
   {
    "duration": 16,
    "start_time": "2023-01-31T10:33:04.078Z"
   },
   {
    "duration": 15,
    "start_time": "2023-01-31T10:33:35.191Z"
   },
   {
    "duration": 14,
    "start_time": "2023-01-31T10:33:53.286Z"
   },
   {
    "duration": 659,
    "start_time": "2023-01-31T10:34:06.776Z"
   },
   {
    "duration": 75,
    "start_time": "2023-01-31T10:34:12.078Z"
   },
   {
    "duration": 723,
    "start_time": "2023-01-31T10:34:18.346Z"
   },
   {
    "duration": 390,
    "start_time": "2023-01-31T10:34:31.188Z"
   },
   {
    "duration": 917,
    "start_time": "2023-01-31T10:37:47.541Z"
   },
   {
    "duration": 369,
    "start_time": "2023-01-31T10:37:56.828Z"
   },
   {
    "duration": 2408,
    "start_time": "2023-01-31T10:40:21.401Z"
   },
   {
    "duration": 5,
    "start_time": "2023-01-31T10:40:23.812Z"
   },
   {
    "duration": 12,
    "start_time": "2023-01-31T10:40:23.818Z"
   },
   {
    "duration": 812,
    "start_time": "2023-01-31T10:40:23.832Z"
   },
   {
    "duration": 14,
    "start_time": "2023-01-31T10:40:24.646Z"
   },
   {
    "duration": 11,
    "start_time": "2023-01-31T10:40:24.661Z"
   },
   {
    "duration": 31,
    "start_time": "2023-01-31T10:40:24.685Z"
   },
   {
    "duration": 138,
    "start_time": "2023-01-31T10:40:24.718Z"
   },
   {
    "duration": 57,
    "start_time": "2023-01-31T10:40:24.858Z"
   },
   {
    "duration": 5270,
    "start_time": "2023-01-31T10:40:24.917Z"
   },
   {
    "duration": 26,
    "start_time": "2023-01-31T10:40:30.189Z"
   },
   {
    "duration": 108,
    "start_time": "2023-01-31T10:40:30.218Z"
   },
   {
    "duration": 884,
    "start_time": "2023-01-31T10:40:30.328Z"
   },
   {
    "duration": 390,
    "start_time": "2023-01-31T10:40:31.215Z"
   },
   {
    "duration": 380,
    "start_time": "2023-01-31T10:40:31.608Z"
   },
   {
    "duration": 0,
    "start_time": "2023-01-31T10:40:31.989Z"
   },
   {
    "duration": 0,
    "start_time": "2023-01-31T10:40:31.990Z"
   },
   {
    "duration": 0,
    "start_time": "2023-01-31T10:40:31.992Z"
   },
   {
    "duration": 382,
    "start_time": "2023-01-31T10:40:53.794Z"
   },
   {
    "duration": 386,
    "start_time": "2023-01-31T10:41:02.299Z"
   },
   {
    "duration": 24,
    "start_time": "2023-01-31T10:41:42.389Z"
   },
   {
    "duration": 5,
    "start_time": "2023-01-31T10:42:09.318Z"
   },
   {
    "duration": 357,
    "start_time": "2023-01-31T10:43:15.874Z"
   },
   {
    "duration": 396,
    "start_time": "2023-01-31T10:43:59.887Z"
   },
   {
    "duration": 2969,
    "start_time": "2023-01-31T10:44:25.262Z"
   },
   {
    "duration": 371,
    "start_time": "2023-01-31T10:44:33.204Z"
   },
   {
    "duration": 1630,
    "start_time": "2023-01-31T10:44:55.794Z"
   },
   {
    "duration": 1623,
    "start_time": "2023-01-31T10:45:02.472Z"
   },
   {
    "duration": 373,
    "start_time": "2023-01-31T10:46:27.328Z"
   },
   {
    "duration": 377,
    "start_time": "2023-01-31T10:46:36.138Z"
   },
   {
    "duration": 408,
    "start_time": "2023-01-31T10:47:43.275Z"
   },
   {
    "duration": 379,
    "start_time": "2023-01-31T10:50:16.966Z"
   },
   {
    "duration": 3538,
    "start_time": "2023-01-31T10:50:32.648Z"
   },
   {
    "duration": 3534,
    "start_time": "2023-01-31T10:51:01.008Z"
   },
   {
    "duration": 12,
    "start_time": "2023-01-31T10:51:50.399Z"
   },
   {
    "duration": 13,
    "start_time": "2023-01-31T10:51:59.871Z"
   },
   {
    "duration": 30,
    "start_time": "2023-01-31T10:52:07.107Z"
   },
   {
    "duration": 6377,
    "start_time": "2023-01-31T10:52:37.410Z"
   },
   {
    "duration": 5,
    "start_time": "2023-01-31T10:52:50.758Z"
   },
   {
    "duration": 37,
    "start_time": "2023-01-31T10:54:06.414Z"
   },
   {
    "duration": 47,
    "start_time": "2023-01-31T10:56:52.741Z"
   },
   {
    "duration": 68,
    "start_time": "2023-01-31T10:56:57.174Z"
   },
   {
    "duration": 38,
    "start_time": "2023-01-31T11:01:42.505Z"
   },
   {
    "duration": 25,
    "start_time": "2023-01-31T11:02:03.572Z"
   },
   {
    "duration": 26,
    "start_time": "2023-01-31T11:02:29.355Z"
   },
   {
    "duration": 46,
    "start_time": "2023-01-31T11:02:40.316Z"
   },
   {
    "duration": 46,
    "start_time": "2023-01-31T11:02:47.930Z"
   },
   {
    "duration": 45,
    "start_time": "2023-01-31T11:02:52.463Z"
   },
   {
    "duration": 42,
    "start_time": "2023-01-31T11:03:00.691Z"
   },
   {
    "duration": 50,
    "start_time": "2023-01-31T11:03:11.004Z"
   },
   {
    "duration": 46,
    "start_time": "2023-01-31T11:03:16.955Z"
   },
   {
    "duration": 27,
    "start_time": "2023-01-31T11:03:37.424Z"
   },
   {
    "duration": 38,
    "start_time": "2023-01-31T11:03:47.394Z"
   },
   {
    "duration": 45,
    "start_time": "2023-01-31T11:04:10.180Z"
   },
   {
    "duration": 38,
    "start_time": "2023-01-31T11:04:20.036Z"
   },
   {
    "duration": 42771,
    "start_time": "2023-01-31T11:04:38.613Z"
   },
   {
    "duration": 86,
    "start_time": "2023-01-31T11:05:28.265Z"
   },
   {
    "duration": 68832,
    "start_time": "2023-01-31T11:06:24.502Z"
   },
   {
    "duration": 6800,
    "start_time": "2023-01-31T11:07:33.336Z"
   },
   {
    "duration": 37,
    "start_time": "2023-01-31T11:08:58.808Z"
   },
   {
    "duration": 25,
    "start_time": "2023-01-31T11:09:08.842Z"
   },
   {
    "duration": 355,
    "start_time": "2023-01-31T11:09:41.003Z"
   },
   {
    "duration": 40,
    "start_time": "2023-01-31T11:10:06.185Z"
   },
   {
    "duration": 87,
    "start_time": "2023-01-31T11:10:08.915Z"
   },
   {
    "duration": 6732,
    "start_time": "2023-01-31T11:11:21.854Z"
   },
   {
    "duration": 11105,
    "start_time": "2023-01-31T11:11:55.422Z"
   },
   {
    "duration": 50,
    "start_time": "2023-01-31T11:14:31.835Z"
   },
   {
    "duration": 11166,
    "start_time": "2023-01-31T11:14:47.534Z"
   },
   {
    "duration": 871,
    "start_time": "2023-01-31T11:15:03.869Z"
   },
   {
    "duration": 1357,
    "start_time": "2023-01-31T11:15:15.808Z"
   },
   {
    "duration": 1429,
    "start_time": "2023-01-31T11:15:29.381Z"
   },
   {
    "duration": 910,
    "start_time": "2023-01-31T11:17:03.493Z"
   },
   {
    "duration": 897,
    "start_time": "2023-01-31T11:17:44.956Z"
   },
   {
    "duration": 995,
    "start_time": "2023-01-31T11:18:02.034Z"
   },
   {
    "duration": 926,
    "start_time": "2023-01-31T11:18:13.561Z"
   },
   {
    "duration": 900,
    "start_time": "2023-01-31T11:18:21.247Z"
   },
   {
    "duration": 47,
    "start_time": "2023-01-31T11:18:53.738Z"
   },
   {
    "duration": 94750,
    "start_time": "2023-01-31T11:20:04.137Z"
   },
   {
    "duration": 100,
    "start_time": "2023-01-31T11:21:38.889Z"
   },
   {
    "duration": 48,
    "start_time": "2023-01-31T11:21:38.990Z"
   },
   {
    "duration": 24,
    "start_time": "2023-01-31T11:21:55.811Z"
   },
   {
    "duration": 22,
    "start_time": "2023-01-31T11:22:52.227Z"
   },
   {
    "duration": 2395,
    "start_time": "2023-01-31T11:22:53.821Z"
   },
   {
    "duration": 1106,
    "start_time": "2023-01-31T11:23:30.542Z"
   },
   {
    "duration": 150,
    "start_time": "2023-01-31T11:24:17.064Z"
   },
   {
    "duration": 157,
    "start_time": "2023-01-31T11:24:27.446Z"
   },
   {
    "duration": 202,
    "start_time": "2023-01-31T11:24:30.265Z"
   },
   {
    "duration": 75,
    "start_time": "2023-01-31T11:24:56.012Z"
   },
   {
    "duration": 10,
    "start_time": "2023-01-31T11:27:47.456Z"
   },
   {
    "duration": 75,
    "start_time": "2023-01-31T11:28:14.182Z"
   },
   {
    "duration": 7,
    "start_time": "2023-01-31T11:28:28.973Z"
   },
   {
    "duration": 47,
    "start_time": "2023-01-31T11:28:40.584Z"
   },
   {
    "duration": 20,
    "start_time": "2023-01-31T11:28:56.381Z"
   },
   {
    "duration": 19,
    "start_time": "2023-01-31T11:29:06.921Z"
   },
   {
    "duration": 13,
    "start_time": "2023-01-31T11:29:15.856Z"
   },
   {
    "duration": 20,
    "start_time": "2023-01-31T11:29:29.463Z"
   },
   {
    "duration": 3,
    "start_time": "2023-01-31T11:31:25.366Z"
   },
   {
    "duration": 45,
    "start_time": "2023-01-31T11:31:36.859Z"
   },
   {
    "duration": 22,
    "start_time": "2023-01-31T11:31:50.051Z"
   },
   {
    "duration": 75,
    "start_time": "2023-01-31T11:31:55.462Z"
   },
   {
    "duration": 48,
    "start_time": "2023-01-31T11:32:44.876Z"
   },
   {
    "duration": 74,
    "start_time": "2023-01-31T11:32:45.706Z"
   },
   {
    "duration": 50,
    "start_time": "2023-01-31T11:32:54.028Z"
   },
   {
    "duration": 72,
    "start_time": "2023-01-31T11:32:55.912Z"
   },
   {
    "duration": 2506,
    "start_time": "2023-01-31T11:33:03.569Z"
   },
   {
    "duration": 4,
    "start_time": "2023-01-31T11:33:06.079Z"
   },
   {
    "duration": 10,
    "start_time": "2023-01-31T11:33:06.085Z"
   },
   {
    "duration": 837,
    "start_time": "2023-01-31T11:33:06.098Z"
   },
   {
    "duration": 16,
    "start_time": "2023-01-31T11:33:06.937Z"
   },
   {
    "duration": 28,
    "start_time": "2023-01-31T11:33:06.955Z"
   },
   {
    "duration": 38,
    "start_time": "2023-01-31T11:33:06.985Z"
   },
   {
    "duration": 138,
    "start_time": "2023-01-31T11:33:07.025Z"
   },
   {
    "duration": 47,
    "start_time": "2023-01-31T11:33:07.165Z"
   },
   {
    "duration": 5603,
    "start_time": "2023-01-31T11:33:07.216Z"
   },
   {
    "duration": 26,
    "start_time": "2023-01-31T11:33:12.821Z"
   },
   {
    "duration": 103,
    "start_time": "2023-01-31T11:33:12.849Z"
   },
   {
    "duration": 896,
    "start_time": "2023-01-31T11:33:12.954Z"
   },
   {
    "duration": 56,
    "start_time": "2023-01-31T11:33:13.852Z"
   },
   {
    "duration": 0,
    "start_time": "2023-01-31T11:33:13.910Z"
   },
   {
    "duration": 0,
    "start_time": "2023-01-31T11:33:13.911Z"
   },
   {
    "duration": 0,
    "start_time": "2023-01-31T11:33:13.913Z"
   },
   {
    "duration": 0,
    "start_time": "2023-01-31T11:33:13.914Z"
   },
   {
    "duration": 0,
    "start_time": "2023-01-31T11:33:13.915Z"
   },
   {
    "duration": 0,
    "start_time": "2023-01-31T11:33:13.917Z"
   },
   {
    "duration": 0,
    "start_time": "2023-01-31T11:33:13.919Z"
   },
   {
    "duration": 0,
    "start_time": "2023-01-31T11:33:13.919Z"
   },
   {
    "duration": 0,
    "start_time": "2023-01-31T11:33:13.920Z"
   },
   {
    "duration": 1,
    "start_time": "2023-01-31T11:33:13.921Z"
   },
   {
    "duration": 0,
    "start_time": "2023-01-31T11:33:13.923Z"
   },
   {
    "duration": 0,
    "start_time": "2023-01-31T11:33:13.924Z"
   },
   {
    "duration": 0,
    "start_time": "2023-01-31T11:33:13.925Z"
   },
   {
    "duration": 0,
    "start_time": "2023-01-31T11:33:13.927Z"
   },
   {
    "duration": 0,
    "start_time": "2023-01-31T11:33:13.928Z"
   },
   {
    "duration": 399,
    "start_time": "2023-01-31T11:34:13.592Z"
   },
   {
    "duration": 375,
    "start_time": "2023-01-31T11:34:18.170Z"
   },
   {
    "duration": 47,
    "start_time": "2023-01-31T11:34:18.547Z"
   },
   {
    "duration": 29,
    "start_time": "2023-01-31T11:34:18.596Z"
   },
   {
    "duration": 65,
    "start_time": "2023-01-31T11:34:18.627Z"
   },
   {
    "duration": 46990,
    "start_time": "2023-01-31T11:34:18.694Z"
   },
   {
    "duration": 73591,
    "start_time": "2023-01-31T11:35:05.686Z"
   },
   {
    "duration": 42,
    "start_time": "2023-01-31T11:36:19.279Z"
   },
   {
    "duration": 99,
    "start_time": "2023-01-31T11:36:19.323Z"
   },
   {
    "duration": 45,
    "start_time": "2023-01-31T11:36:19.424Z"
   },
   {
    "duration": 101592,
    "start_time": "2023-01-31T11:36:19.474Z"
   },
   {
    "duration": 106,
    "start_time": "2023-01-31T11:38:01.068Z"
   },
   {
    "duration": 38,
    "start_time": "2023-01-31T11:38:01.183Z"
   },
   {
    "duration": 2412,
    "start_time": "2023-01-31T11:38:01.223Z"
   },
   {
    "duration": 83,
    "start_time": "2023-01-31T11:38:03.637Z"
   },
   {
    "duration": 47,
    "start_time": "2023-01-31T11:38:03.721Z"
   },
   {
    "duration": 78,
    "start_time": "2023-01-31T11:38:03.770Z"
   },
   {
    "duration": 15,
    "start_time": "2023-01-31T11:40:35.677Z"
   },
   {
    "duration": 182,
    "start_time": "2023-01-31T11:40:51.134Z"
   },
   {
    "duration": 23,
    "start_time": "2023-01-31T11:41:25.652Z"
   },
   {
    "duration": 168,
    "start_time": "2023-01-31T11:41:31.858Z"
   },
   {
    "duration": 72,
    "start_time": "2023-01-31T11:41:41.111Z"
   },
   {
    "duration": 157,
    "start_time": "2023-01-31T11:42:39.419Z"
   },
   {
    "duration": 155,
    "start_time": "2023-01-31T11:43:54.431Z"
   },
   {
    "duration": 37,
    "start_time": "2023-01-31T11:43:59.878Z"
   },
   {
    "duration": 176,
    "start_time": "2023-01-31T11:44:00.479Z"
   },
   {
    "duration": 155,
    "start_time": "2023-01-31T11:44:24.332Z"
   },
   {
    "duration": 147,
    "start_time": "2023-01-31T11:44:36.091Z"
   },
   {
    "duration": 136,
    "start_time": "2023-01-31T11:45:10.732Z"
   },
   {
    "duration": 54,
    "start_time": "2023-01-31T11:45:29.819Z"
   },
   {
    "duration": 72,
    "start_time": "2023-01-31T11:45:43.598Z"
   },
   {
    "duration": 4,
    "start_time": "2023-01-31T11:47:44.336Z"
   },
   {
    "duration": 13,
    "start_time": "2023-01-31T11:49:46.658Z"
   },
   {
    "duration": 60,
    "start_time": "2023-01-31T11:49:47.395Z"
   },
   {
    "duration": 57,
    "start_time": "2023-01-31T11:49:54.490Z"
   },
   {
    "duration": 18,
    "start_time": "2023-01-31T11:49:59.397Z"
   },
   {
    "duration": 12,
    "start_time": "2023-01-31T11:51:43.545Z"
   },
   {
    "duration": 3,
    "start_time": "2023-01-31T12:00:44.383Z"
   },
   {
    "duration": 12,
    "start_time": "2023-01-31T12:02:37.919Z"
   },
   {
    "duration": 24,
    "start_time": "2023-01-31T12:03:40.888Z"
   },
   {
    "duration": 11,
    "start_time": "2023-01-31T12:16:08.716Z"
   },
   {
    "duration": 40,
    "start_time": "2023-01-31T12:16:27.443Z"
   },
   {
    "duration": 113,
    "start_time": "2023-01-31T12:18:34.606Z"
   },
   {
    "duration": 4,
    "start_time": "2023-01-31T12:18:58.575Z"
   },
   {
    "duration": 570,
    "start_time": "2023-01-31T12:19:01.739Z"
   },
   {
    "duration": 559,
    "start_time": "2023-01-31T12:19:41.594Z"
   },
   {
    "duration": 40,
    "start_time": "2023-01-31T12:20:34.565Z"
   },
   {
    "duration": 5,
    "start_time": "2023-01-31T12:20:40.668Z"
   },
   {
    "duration": 1929,
    "start_time": "2023-01-31T12:20:45.771Z"
   },
   {
    "duration": 6899,
    "start_time": "2023-01-31T12:22:19.790Z"
   },
   {
    "duration": 4,
    "start_time": "2023-01-31T12:22:54.835Z"
   },
   {
    "duration": 5,
    "start_time": "2023-01-31T12:23:05.496Z"
   },
   {
    "duration": 12838,
    "start_time": "2023-01-31T12:24:19.361Z"
   },
   {
    "duration": 5,
    "start_time": "2023-01-31T12:24:32.201Z"
   },
   {
    "duration": 4,
    "start_time": "2023-01-31T12:27:46.972Z"
   },
   {
    "duration": 4,
    "start_time": "2023-01-31T12:30:17.614Z"
   },
   {
    "duration": 339208,
    "start_time": "2023-01-31T12:33:48.021Z"
   },
   {
    "duration": 9,
    "start_time": "2023-01-31T12:39:33.892Z"
   },
   {
    "duration": 8670,
    "start_time": "2023-01-31T12:39:55.177Z"
   },
   {
    "duration": 122236,
    "start_time": "2023-01-31T12:40:45.319Z"
   },
   {
    "duration": 642114,
    "start_time": "2023-01-31T12:43:34.394Z"
   },
   {
    "duration": 6,
    "start_time": "2023-01-31T12:55:12.611Z"
   },
   {
    "duration": 40,
    "start_time": "2023-01-31T12:56:43.424Z"
   },
   {
    "duration": 50,
    "start_time": "2023-01-31T12:57:47.967Z"
   },
   {
    "duration": 12,
    "start_time": "2023-01-31T12:58:14.175Z"
   },
   {
    "duration": 16,
    "start_time": "2023-01-31T12:58:19.692Z"
   },
   {
    "duration": 11,
    "start_time": "2023-01-31T12:58:22.795Z"
   },
   {
    "duration": 11,
    "start_time": "2023-01-31T12:59:13.596Z"
   },
   {
    "duration": 11,
    "start_time": "2023-01-31T12:59:32.538Z"
   },
   {
    "duration": 12,
    "start_time": "2023-01-31T12:59:54.735Z"
   },
   {
    "duration": 12,
    "start_time": "2023-01-31T13:00:03.051Z"
   },
   {
    "duration": 1209442,
    "start_time": "2023-01-31T13:01:23.553Z"
   },
   {
    "duration": 1162452,
    "start_time": "2023-01-31T13:23:47.151Z"
   },
   {
    "duration": 0,
    "start_time": "2023-01-31T13:43:09.631Z"
   },
   {
    "duration": 0,
    "start_time": "2023-01-31T13:43:09.632Z"
   },
   {
    "duration": 0,
    "start_time": "2023-01-31T13:43:09.634Z"
   },
   {
    "duration": 11,
    "start_time": "2023-01-31T13:49:09.694Z"
   },
   {
    "duration": 50,
    "start_time": "2023-01-31T13:49:44.840Z"
   },
   {
    "duration": 2823,
    "start_time": "2023-01-31T13:50:05.120Z"
   },
   {
    "duration": 173,
    "start_time": "2023-01-31T13:50:09.179Z"
   },
   {
    "duration": 2512,
    "start_time": "2023-01-31T13:50:19.127Z"
   },
   {
    "duration": 116,
    "start_time": "2023-01-31T13:50:23.714Z"
   },
   {
    "duration": 55,
    "start_time": "2023-01-31T13:51:52.437Z"
   },
   {
    "duration": 2310,
    "start_time": "2023-01-31T13:54:36.109Z"
   },
   {
    "duration": 2454,
    "start_time": "2023-01-31T13:54:38.422Z"
   },
   {
    "duration": 1609,
    "start_time": "2023-01-31T13:54:40.878Z"
   },
   {
    "duration": 0,
    "start_time": "2023-01-31T13:54:42.492Z"
   },
   {
    "duration": 0,
    "start_time": "2023-01-31T13:54:42.494Z"
   },
   {
    "duration": 0,
    "start_time": "2023-01-31T13:54:42.495Z"
   },
   {
    "duration": 0,
    "start_time": "2023-01-31T13:54:42.496Z"
   },
   {
    "duration": 0,
    "start_time": "2023-01-31T13:54:42.497Z"
   },
   {
    "duration": 0,
    "start_time": "2023-01-31T13:54:42.498Z"
   },
   {
    "duration": 0,
    "start_time": "2023-01-31T13:54:42.500Z"
   },
   {
    "duration": 0,
    "start_time": "2023-01-31T13:54:42.501Z"
   },
   {
    "duration": 0,
    "start_time": "2023-01-31T13:54:42.502Z"
   },
   {
    "duration": 0,
    "start_time": "2023-01-31T13:54:42.503Z"
   },
   {
    "duration": 0,
    "start_time": "2023-01-31T13:54:42.504Z"
   },
   {
    "duration": 0,
    "start_time": "2023-01-31T13:54:42.505Z"
   },
   {
    "duration": 0,
    "start_time": "2023-01-31T13:54:42.507Z"
   },
   {
    "duration": 0,
    "start_time": "2023-01-31T13:54:42.508Z"
   },
   {
    "duration": 0,
    "start_time": "2023-01-31T13:54:42.509Z"
   },
   {
    "duration": 0,
    "start_time": "2023-01-31T13:54:42.510Z"
   },
   {
    "duration": 0,
    "start_time": "2023-01-31T13:54:42.511Z"
   },
   {
    "duration": 0,
    "start_time": "2023-01-31T13:54:42.512Z"
   },
   {
    "duration": 0,
    "start_time": "2023-01-31T13:54:42.513Z"
   },
   {
    "duration": 0,
    "start_time": "2023-01-31T13:54:42.514Z"
   },
   {
    "duration": 0,
    "start_time": "2023-01-31T13:54:42.516Z"
   },
   {
    "duration": 0,
    "start_time": "2023-01-31T13:54:42.517Z"
   },
   {
    "duration": 0,
    "start_time": "2023-01-31T13:54:42.518Z"
   },
   {
    "duration": 0,
    "start_time": "2023-01-31T13:54:42.519Z"
   },
   {
    "duration": 0,
    "start_time": "2023-01-31T13:54:42.521Z"
   },
   {
    "duration": 0,
    "start_time": "2023-01-31T13:54:42.522Z"
   },
   {
    "duration": 0,
    "start_time": "2023-01-31T13:54:42.523Z"
   },
   {
    "duration": 0,
    "start_time": "2023-01-31T13:54:42.524Z"
   },
   {
    "duration": 0,
    "start_time": "2023-01-31T13:54:42.525Z"
   },
   {
    "duration": 0,
    "start_time": "2023-01-31T13:54:42.526Z"
   },
   {
    "duration": 0,
    "start_time": "2023-01-31T13:54:42.527Z"
   },
   {
    "duration": 0,
    "start_time": "2023-01-31T13:54:42.528Z"
   },
   {
    "duration": 0,
    "start_time": "2023-01-31T13:54:42.584Z"
   },
   {
    "duration": 0,
    "start_time": "2023-01-31T13:54:42.586Z"
   },
   {
    "duration": 0,
    "start_time": "2023-01-31T13:54:42.587Z"
   },
   {
    "duration": 0,
    "start_time": "2023-01-31T13:54:42.588Z"
   },
   {
    "duration": 0,
    "start_time": "2023-01-31T13:54:42.589Z"
   },
   {
    "duration": 48,
    "start_time": "2023-01-31T13:55:34.820Z"
   },
   {
    "duration": 48,
    "start_time": "2023-01-31T13:55:38.338Z"
   },
   {
    "duration": 4936,
    "start_time": "2023-01-31T13:55:46.259Z"
   },
   {
    "duration": 51,
    "start_time": "2023-01-31T13:55:56.818Z"
   },
   {
    "duration": 1625,
    "start_time": "2023-01-31T13:56:19.745Z"
   },
   {
    "duration": 937,
    "start_time": "2023-01-31T13:56:40.096Z"
   },
   {
    "duration": 65,
    "start_time": "2023-01-31T14:00:47.600Z"
   },
   {
    "duration": 70,
    "start_time": "2023-01-31T14:00:55.141Z"
   },
   {
    "duration": 2322,
    "start_time": "2023-01-31T14:01:06.469Z"
   },
   {
    "duration": 2386,
    "start_time": "2023-01-31T14:01:08.793Z"
   },
   {
    "duration": 6,
    "start_time": "2023-01-31T14:01:11.182Z"
   },
   {
    "duration": 22,
    "start_time": "2023-01-31T14:01:11.190Z"
   },
   {
    "duration": 1227,
    "start_time": "2023-01-31T14:01:11.216Z"
   },
   {
    "duration": 19,
    "start_time": "2023-01-31T14:01:12.445Z"
   },
   {
    "duration": 7,
    "start_time": "2023-01-31T14:01:12.465Z"
   },
   {
    "duration": 46,
    "start_time": "2023-01-31T14:01:12.473Z"
   },
   {
    "duration": 150,
    "start_time": "2023-01-31T14:01:12.521Z"
   },
   {
    "duration": 59,
    "start_time": "2023-01-31T14:01:12.673Z"
   },
   {
    "duration": 5572,
    "start_time": "2023-01-31T14:01:12.734Z"
   },
   {
    "duration": 29,
    "start_time": "2023-01-31T14:01:18.308Z"
   },
   {
    "duration": 87,
    "start_time": "2023-01-31T14:01:18.339Z"
   },
   {
    "duration": 860,
    "start_time": "2023-01-31T14:01:18.429Z"
   },
   {
    "duration": 378,
    "start_time": "2023-01-31T14:01:19.291Z"
   },
   {
    "duration": 54,
    "start_time": "2023-01-31T14:01:19.670Z"
   },
   {
    "duration": 61,
    "start_time": "2023-01-31T14:01:19.726Z"
   },
   {
    "duration": 67,
    "start_time": "2023-01-31T14:01:19.789Z"
   },
   {
    "duration": 46307,
    "start_time": "2023-01-31T14:01:19.858Z"
   },
   {
    "duration": 73795,
    "start_time": "2023-01-31T14:02:06.167Z"
   },
   {
    "duration": 43,
    "start_time": "2023-01-31T14:03:19.964Z"
   },
   {
    "duration": 92,
    "start_time": "2023-01-31T14:03:20.009Z"
   },
   {
    "duration": 68,
    "start_time": "2023-01-31T14:03:20.103Z"
   },
   {
    "duration": 97539,
    "start_time": "2023-01-31T14:03:20.173Z"
   },
   {
    "duration": 92,
    "start_time": "2023-01-31T14:04:57.714Z"
   },
   {
    "duration": 28,
    "start_time": "2023-01-31T14:04:57.808Z"
   },
   {
    "duration": 2539,
    "start_time": "2023-01-31T14:04:57.838Z"
   },
   {
    "duration": 73,
    "start_time": "2023-01-31T14:05:00.379Z"
   },
   {
    "duration": 239,
    "start_time": "2023-01-31T14:05:00.453Z"
   },
   {
    "duration": 48,
    "start_time": "2023-01-31T14:05:00.694Z"
   },
   {
    "duration": 84,
    "start_time": "2023-01-31T14:05:00.745Z"
   },
   {
    "duration": 161,
    "start_time": "2023-01-31T14:05:00.831Z"
   },
   {
    "duration": 21,
    "start_time": "2023-01-31T14:05:00.994Z"
   },
   {
    "duration": 203,
    "start_time": "2023-01-31T14:05:01.017Z"
   },
   {
    "duration": 70,
    "start_time": "2023-01-31T14:05:01.222Z"
   },
   {
    "duration": 13,
    "start_time": "2023-01-31T14:05:01.294Z"
   },
   {
    "duration": 93,
    "start_time": "2023-01-31T14:05:01.309Z"
   },
   {
    "duration": 17,
    "start_time": "2023-01-31T14:05:01.405Z"
   },
   {
    "duration": 646,
    "start_time": "2023-01-31T14:05:01.423Z"
   },
   {
    "duration": 0,
    "start_time": "2023-01-31T14:05:02.072Z"
   },
   {
    "duration": 0,
    "start_time": "2023-01-31T14:05:02.073Z"
   },
   {
    "duration": 0,
    "start_time": "2023-01-31T14:05:02.075Z"
   },
   {
    "duration": 1640,
    "start_time": "2023-01-31T14:09:07.323Z"
   },
   {
    "duration": 99,
    "start_time": "2023-01-31T14:09:26.204Z"
   },
   {
    "duration": 91,
    "start_time": "2023-01-31T14:09:31.764Z"
   },
   {
    "duration": 219,
    "start_time": "2023-01-31T14:09:36.182Z"
   },
   {
    "duration": 4,
    "start_time": "2023-01-31T14:09:46.153Z"
   },
   {
    "duration": 86,
    "start_time": "2023-01-31T14:09:49.045Z"
   },
   {
    "duration": 5,
    "start_time": "2023-01-31T14:10:37.307Z"
   },
   {
    "duration": 3,
    "start_time": "2023-01-31T14:10:43.778Z"
   },
   {
    "duration": 116,
    "start_time": "2023-01-31T14:10:48.087Z"
   },
   {
    "duration": 17,
    "start_time": "2023-01-31T14:10:56.298Z"
   },
   {
    "duration": 59,
    "start_time": "2023-01-31T14:10:56.819Z"
   },
   {
    "duration": 17,
    "start_time": "2023-01-31T14:10:58.920Z"
   },
   {
    "duration": 151,
    "start_time": "2023-01-31T14:11:01.980Z"
   },
   {
    "duration": 6390,
    "start_time": "2023-01-31T14:11:05.113Z"
   },
   {
    "duration": 4,
    "start_time": "2023-01-31T14:11:14.007Z"
   },
   {
    "duration": 93,
    "start_time": "2023-01-31T14:15:33.911Z"
   },
   {
    "duration": 1611,
    "start_time": "2023-01-31T14:15:42.772Z"
   },
   {
    "duration": 2,
    "start_time": "2023-01-31T14:15:48.555Z"
   },
   {
    "duration": 1205,
    "start_time": "2023-01-31T14:15:48.855Z"
   },
   {
    "duration": 21,
    "start_time": "2023-01-31T14:15:50.063Z"
   },
   {
    "duration": 6,
    "start_time": "2023-01-31T14:15:50.086Z"
   },
   {
    "duration": 45,
    "start_time": "2023-01-31T14:15:50.094Z"
   },
   {
    "duration": 149,
    "start_time": "2023-01-31T14:15:50.141Z"
   },
   {
    "duration": 59,
    "start_time": "2023-01-31T14:15:50.360Z"
   },
   {
    "duration": 5296,
    "start_time": "2023-01-31T14:15:50.606Z"
   },
   {
    "duration": 29,
    "start_time": "2023-01-31T14:15:55.904Z"
   },
   {
    "duration": 166,
    "start_time": "2023-01-31T14:15:55.935Z"
   },
   {
    "duration": 1724,
    "start_time": "2023-01-31T14:15:56.104Z"
   },
   {
    "duration": 83,
    "start_time": "2023-01-31T14:16:11.188Z"
   },
   {
    "duration": 0,
    "start_time": "2023-01-31T14:16:11.284Z"
   },
   {
    "duration": 0,
    "start_time": "2023-01-31T14:16:11.285Z"
   },
   {
    "duration": 0,
    "start_time": "2023-01-31T14:16:11.286Z"
   },
   {
    "duration": 0,
    "start_time": "2023-01-31T14:16:11.287Z"
   },
   {
    "duration": 0,
    "start_time": "2023-01-31T14:16:11.288Z"
   },
   {
    "duration": 0,
    "start_time": "2023-01-31T14:16:11.289Z"
   },
   {
    "duration": 2551,
    "start_time": "2023-01-31T14:16:19.087Z"
   },
   {
    "duration": 2332,
    "start_time": "2023-01-31T14:16:21.642Z"
   },
   {
    "duration": 6,
    "start_time": "2023-01-31T14:16:23.976Z"
   },
   {
    "duration": 20,
    "start_time": "2023-01-31T14:16:23.984Z"
   },
   {
    "duration": 1402,
    "start_time": "2023-01-31T14:16:24.007Z"
   },
   {
    "duration": 14,
    "start_time": "2023-01-31T14:16:25.411Z"
   },
   {
    "duration": 65,
    "start_time": "2023-01-31T14:16:25.427Z"
   },
   {
    "duration": 34,
    "start_time": "2023-01-31T14:16:25.494Z"
   },
   {
    "duration": 289,
    "start_time": "2023-01-31T14:16:25.530Z"
   },
   {
    "duration": 97,
    "start_time": "2023-01-31T14:16:25.821Z"
   },
   {
    "duration": 5685,
    "start_time": "2023-01-31T14:16:25.920Z"
   },
   {
    "duration": 27,
    "start_time": "2023-01-31T14:16:31.608Z"
   },
   {
    "duration": 102,
    "start_time": "2023-01-31T14:16:31.638Z"
   },
   {
    "duration": 850,
    "start_time": "2023-01-31T14:16:31.743Z"
   },
   {
    "duration": 357,
    "start_time": "2023-01-31T14:16:32.595Z"
   },
   {
    "duration": 47,
    "start_time": "2023-01-31T14:16:32.954Z"
   },
   {
    "duration": 25,
    "start_time": "2023-01-31T14:16:33.003Z"
   },
   {
    "duration": 74,
    "start_time": "2023-01-31T14:16:33.029Z"
   },
   {
    "duration": 44449,
    "start_time": "2023-01-31T14:16:33.105Z"
   },
   {
    "duration": 70857,
    "start_time": "2023-01-31T14:17:17.557Z"
   },
   {
    "duration": 42,
    "start_time": "2023-01-31T14:18:28.415Z"
   },
   {
    "duration": 98,
    "start_time": "2023-01-31T14:18:28.459Z"
   },
   {
    "duration": 57,
    "start_time": "2023-01-31T14:18:28.559Z"
   },
   {
    "duration": 101378,
    "start_time": "2023-01-31T14:18:28.618Z"
   },
   {
    "duration": 92,
    "start_time": "2023-01-31T14:20:09.998Z"
   },
   {
    "duration": 43,
    "start_time": "2023-01-31T14:20:10.092Z"
   },
   {
    "duration": 2343,
    "start_time": "2023-01-31T14:20:10.137Z"
   },
   {
    "duration": 72,
    "start_time": "2023-01-31T14:20:12.483Z"
   },
   {
    "duration": 174,
    "start_time": "2023-01-31T14:20:12.557Z"
   },
   {
    "duration": 57,
    "start_time": "2023-01-31T14:20:12.733Z"
   },
   {
    "duration": 67,
    "start_time": "2023-01-31T14:20:12.791Z"
   },
   {
    "duration": 157,
    "start_time": "2023-01-31T14:20:12.860Z"
   },
   {
    "duration": 20,
    "start_time": "2023-01-31T14:20:13.020Z"
   },
   {
    "duration": 160,
    "start_time": "2023-01-31T14:20:13.042Z"
   },
   {
    "duration": 58,
    "start_time": "2023-01-31T14:20:13.205Z"
   },
   {
    "duration": 29,
    "start_time": "2023-01-31T14:20:13.265Z"
   },
   {
    "duration": 67,
    "start_time": "2023-01-31T14:20:13.296Z"
   },
   {
    "duration": 100,
    "start_time": "2023-01-31T14:24:54.203Z"
   },
   {
    "duration": 2379,
    "start_time": "2023-01-31T14:25:12.228Z"
   },
   {
    "duration": 2303,
    "start_time": "2023-01-31T14:25:14.609Z"
   },
   {
    "duration": 1547,
    "start_time": "2023-01-31T14:25:16.914Z"
   },
   {
    "duration": 2,
    "start_time": "2023-01-31T14:25:18.464Z"
   },
   {
    "duration": 1293,
    "start_time": "2023-01-31T14:25:18.468Z"
   },
   {
    "duration": 24,
    "start_time": "2023-01-31T14:25:19.764Z"
   },
   {
    "duration": 23,
    "start_time": "2023-01-31T14:25:19.790Z"
   },
   {
    "duration": 60,
    "start_time": "2023-01-31T14:25:19.815Z"
   },
   {
    "duration": 182,
    "start_time": "2023-01-31T14:25:19.877Z"
   },
   {
    "duration": 77,
    "start_time": "2023-01-31T14:25:20.062Z"
   },
   {
    "duration": 5416,
    "start_time": "2023-01-31T14:25:20.142Z"
   },
   {
    "duration": 42,
    "start_time": "2023-01-31T14:25:25.559Z"
   },
   {
    "duration": 97,
    "start_time": "2023-01-31T14:25:25.606Z"
   },
   {
    "duration": 839,
    "start_time": "2023-01-31T14:25:25.704Z"
   },
   {
    "duration": 369,
    "start_time": "2023-01-31T14:25:26.545Z"
   },
   {
    "duration": 37,
    "start_time": "2023-01-31T14:25:26.916Z"
   },
   {
    "duration": 43,
    "start_time": "2023-01-31T14:25:26.956Z"
   },
   {
    "duration": 64,
    "start_time": "2023-01-31T14:25:27.001Z"
   },
   {
    "duration": 45093,
    "start_time": "2023-01-31T14:25:27.067Z"
   },
   {
    "duration": 14330,
    "start_time": "2023-01-31T14:26:12.162Z"
   },
   {
    "duration": 0,
    "start_time": "2023-01-31T14:26:26.494Z"
   },
   {
    "duration": 0,
    "start_time": "2023-01-31T14:26:26.495Z"
   },
   {
    "duration": 0,
    "start_time": "2023-01-31T14:26:26.497Z"
   },
   {
    "duration": 0,
    "start_time": "2023-01-31T14:26:26.498Z"
   },
   {
    "duration": 0,
    "start_time": "2023-01-31T14:26:26.499Z"
   },
   {
    "duration": 0,
    "start_time": "2023-01-31T14:26:26.500Z"
   },
   {
    "duration": 0,
    "start_time": "2023-01-31T14:26:26.501Z"
   },
   {
    "duration": 0,
    "start_time": "2023-01-31T14:26:26.502Z"
   },
   {
    "duration": 0,
    "start_time": "2023-01-31T14:26:26.503Z"
   },
   {
    "duration": 0,
    "start_time": "2023-01-31T14:26:26.504Z"
   },
   {
    "duration": 0,
    "start_time": "2023-01-31T14:26:26.505Z"
   },
   {
    "duration": 0,
    "start_time": "2023-01-31T14:26:26.507Z"
   },
   {
    "duration": 0,
    "start_time": "2023-01-31T14:26:26.508Z"
   },
   {
    "duration": 0,
    "start_time": "2023-01-31T14:26:26.509Z"
   },
   {
    "duration": 0,
    "start_time": "2023-01-31T14:26:26.510Z"
   },
   {
    "duration": 0,
    "start_time": "2023-01-31T14:26:26.511Z"
   },
   {
    "duration": 0,
    "start_time": "2023-01-31T14:26:26.512Z"
   },
   {
    "duration": 0,
    "start_time": "2023-01-31T14:26:26.513Z"
   },
   {
    "duration": 0,
    "start_time": "2023-01-31T14:26:26.514Z"
   },
   {
    "duration": 2284,
    "start_time": "2023-01-31T14:26:40.264Z"
   },
   {
    "duration": 2341,
    "start_time": "2023-01-31T14:26:42.550Z"
   },
   {
    "duration": 4,
    "start_time": "2023-01-31T14:26:44.894Z"
   },
   {
    "duration": 26,
    "start_time": "2023-01-31T14:26:44.900Z"
   },
   {
    "duration": 877,
    "start_time": "2023-01-31T14:26:44.929Z"
   },
   {
    "duration": 15,
    "start_time": "2023-01-31T14:26:45.808Z"
   },
   {
    "duration": 10,
    "start_time": "2023-01-31T14:26:45.825Z"
   },
   {
    "duration": 52,
    "start_time": "2023-01-31T14:26:45.837Z"
   },
   {
    "duration": 146,
    "start_time": "2023-01-31T14:26:45.891Z"
   },
   {
    "duration": 60,
    "start_time": "2023-01-31T14:26:46.039Z"
   },
   {
    "duration": 5455,
    "start_time": "2023-01-31T14:26:46.101Z"
   },
   {
    "duration": 39,
    "start_time": "2023-01-31T14:26:51.558Z"
   },
   {
    "duration": 92,
    "start_time": "2023-01-31T14:26:51.599Z"
   },
   {
    "duration": 865,
    "start_time": "2023-01-31T14:26:51.694Z"
   },
   {
    "duration": 366,
    "start_time": "2023-01-31T14:26:52.561Z"
   },
   {
    "duration": 36,
    "start_time": "2023-01-31T14:26:52.929Z"
   },
   {
    "duration": 53,
    "start_time": "2023-01-31T14:26:52.966Z"
   },
   {
    "duration": 60,
    "start_time": "2023-01-31T14:26:53.020Z"
   },
   {
    "duration": 45007,
    "start_time": "2023-01-31T14:26:53.082Z"
   },
   {
    "duration": 72415,
    "start_time": "2023-01-31T14:27:38.091Z"
   },
   {
    "duration": 41,
    "start_time": "2023-01-31T14:28:50.508Z"
   },
   {
    "duration": 110,
    "start_time": "2023-01-31T14:28:50.551Z"
   },
   {
    "duration": 54,
    "start_time": "2023-01-31T14:28:50.663Z"
   },
   {
    "duration": 103379,
    "start_time": "2023-01-31T14:28:50.719Z"
   },
   {
    "duration": 95,
    "start_time": "2023-01-31T14:30:34.100Z"
   },
   {
    "duration": 23,
    "start_time": "2023-01-31T14:30:34.196Z"
   },
   {
    "duration": 2356,
    "start_time": "2023-01-31T14:30:34.222Z"
   },
   {
    "duration": 72,
    "start_time": "2023-01-31T14:30:36.580Z"
   },
   {
    "duration": 180,
    "start_time": "2023-01-31T14:30:36.653Z"
   },
   {
    "duration": 56,
    "start_time": "2023-01-31T14:30:36.834Z"
   },
   {
    "duration": 72,
    "start_time": "2023-01-31T14:30:36.892Z"
   },
   {
    "duration": 181,
    "start_time": "2023-01-31T14:30:36.967Z"
   },
   {
    "duration": 22,
    "start_time": "2023-01-31T14:30:37.150Z"
   },
   {
    "duration": 161,
    "start_time": "2023-01-31T14:30:37.183Z"
   },
   {
    "duration": 74,
    "start_time": "2023-01-31T14:30:37.346Z"
   },
   {
    "duration": 14,
    "start_time": "2023-01-31T14:30:37.423Z"
   },
   {
    "duration": 79,
    "start_time": "2023-01-31T14:30:37.439Z"
   },
   {
    "duration": 25,
    "start_time": "2023-01-31T14:30:37.520Z"
   },
   {
    "duration": 16,
    "start_time": "2023-01-31T14:37:06.057Z"
   },
   {
    "duration": 3,
    "start_time": "2023-01-31T14:37:12.799Z"
   },
   {
    "duration": 5,
    "start_time": "2023-01-31T14:37:17.444Z"
   },
   {
    "duration": 2327,
    "start_time": "2023-01-31T14:37:30.859Z"
   },
   {
    "duration": 2267,
    "start_time": "2023-01-31T14:37:33.189Z"
   },
   {
    "duration": 1549,
    "start_time": "2023-01-31T14:37:35.458Z"
   },
   {
    "duration": 3,
    "start_time": "2023-01-31T14:37:37.009Z"
   },
   {
    "duration": 1160,
    "start_time": "2023-01-31T14:37:37.013Z"
   },
   {
    "duration": 19,
    "start_time": "2023-01-31T14:37:38.175Z"
   },
   {
    "duration": 10,
    "start_time": "2023-01-31T14:37:38.196Z"
   },
   {
    "duration": 41,
    "start_time": "2023-01-31T14:37:38.208Z"
   },
   {
    "duration": 153,
    "start_time": "2023-01-31T14:37:38.250Z"
   },
   {
    "duration": 54,
    "start_time": "2023-01-31T14:37:38.405Z"
   },
   {
    "duration": 5457,
    "start_time": "2023-01-31T14:37:38.461Z"
   },
   {
    "duration": 32,
    "start_time": "2023-01-31T14:37:43.920Z"
   },
   {
    "duration": 104,
    "start_time": "2023-01-31T14:37:43.954Z"
   },
   {
    "duration": 872,
    "start_time": "2023-01-31T14:37:44.059Z"
   },
   {
    "duration": 381,
    "start_time": "2023-01-31T14:37:44.933Z"
   },
   {
    "duration": 37,
    "start_time": "2023-01-31T14:37:45.315Z"
   },
   {
    "duration": 39,
    "start_time": "2023-01-31T14:37:45.354Z"
   },
   {
    "duration": 50,
    "start_time": "2023-01-31T14:37:45.394Z"
   },
   {
    "duration": 44607,
    "start_time": "2023-01-31T14:37:45.446Z"
   },
   {
    "duration": 71337,
    "start_time": "2023-01-31T14:38:30.055Z"
   },
   {
    "duration": 41,
    "start_time": "2023-01-31T14:39:41.394Z"
   },
   {
    "duration": 102,
    "start_time": "2023-01-31T14:39:41.437Z"
   },
   {
    "duration": 64,
    "start_time": "2023-01-31T14:39:41.541Z"
   },
   {
    "duration": 100488,
    "start_time": "2023-01-31T14:39:41.607Z"
   },
   {
    "duration": 112,
    "start_time": "2023-01-31T14:41:22.097Z"
   },
   {
    "duration": 21,
    "start_time": "2023-01-31T14:41:22.210Z"
   },
   {
    "duration": 2316,
    "start_time": "2023-01-31T14:41:22.233Z"
   },
   {
    "duration": 85,
    "start_time": "2023-01-31T14:41:24.553Z"
   },
   {
    "duration": 166,
    "start_time": "2023-01-31T14:41:24.639Z"
   },
   {
    "duration": 45,
    "start_time": "2023-01-31T14:41:24.807Z"
   },
   {
    "duration": 80,
    "start_time": "2023-01-31T14:41:24.854Z"
   },
   {
    "duration": 148,
    "start_time": "2023-01-31T14:41:24.936Z"
   },
   {
    "duration": 20,
    "start_time": "2023-01-31T14:41:25.086Z"
   },
   {
    "duration": 156,
    "start_time": "2023-01-31T14:41:25.108Z"
   },
   {
    "duration": 69,
    "start_time": "2023-01-31T14:41:25.266Z"
   },
   {
    "duration": 14,
    "start_time": "2023-01-31T14:41:25.337Z"
   },
   {
    "duration": 75,
    "start_time": "2023-01-31T14:41:25.353Z"
   },
   {
    "duration": 19,
    "start_time": "2023-01-31T14:41:25.430Z"
   },
   {
    "duration": 2508,
    "start_time": "2023-01-31T14:46:49.130Z"
   },
   {
    "duration": 2400,
    "start_time": "2023-01-31T14:46:51.641Z"
   },
   {
    "duration": 1556,
    "start_time": "2023-01-31T14:46:54.047Z"
   },
   {
    "duration": 2,
    "start_time": "2023-01-31T14:46:55.605Z"
   },
   {
    "duration": 1291,
    "start_time": "2023-01-31T14:46:55.609Z"
   },
   {
    "duration": 20,
    "start_time": "2023-01-31T14:46:56.902Z"
   },
   {
    "duration": 58,
    "start_time": "2023-01-31T14:46:56.924Z"
   },
   {
    "duration": 93,
    "start_time": "2023-01-31T14:46:56.984Z"
   },
   {
    "duration": 198,
    "start_time": "2023-01-31T14:46:57.079Z"
   },
   {
    "duration": 64,
    "start_time": "2023-01-31T14:46:57.284Z"
   },
   {
    "duration": 5824,
    "start_time": "2023-01-31T14:46:57.350Z"
   },
   {
    "duration": 30,
    "start_time": "2023-01-31T14:47:03.175Z"
   },
   {
    "duration": 98,
    "start_time": "2023-01-31T14:47:03.207Z"
   },
   {
    "duration": 968,
    "start_time": "2023-01-31T14:47:03.309Z"
   },
   {
    "duration": 423,
    "start_time": "2023-01-31T14:47:04.279Z"
   },
   {
    "duration": 58,
    "start_time": "2023-01-31T14:47:04.704Z"
   },
   {
    "duration": 39,
    "start_time": "2023-01-31T14:47:04.764Z"
   },
   {
    "duration": 85,
    "start_time": "2023-01-31T14:47:04.805Z"
   },
   {
    "duration": 49562,
    "start_time": "2023-01-31T14:47:04.893Z"
   },
   {
    "duration": 74561,
    "start_time": "2023-01-31T14:47:54.457Z"
   },
   {
    "duration": 44,
    "start_time": "2023-01-31T14:49:09.020Z"
   },
   {
    "duration": 99,
    "start_time": "2023-01-31T14:49:09.066Z"
   },
   {
    "duration": 67,
    "start_time": "2023-01-31T14:49:09.168Z"
   },
   {
    "duration": 105027,
    "start_time": "2023-01-31T14:49:09.237Z"
   },
   {
    "duration": 97,
    "start_time": "2023-01-31T14:50:54.265Z"
   },
   {
    "duration": 45,
    "start_time": "2023-01-31T14:50:54.365Z"
   },
   {
    "duration": 2500,
    "start_time": "2023-01-31T14:50:54.412Z"
   },
   {
    "duration": 82,
    "start_time": "2023-01-31T14:50:56.914Z"
   },
   {
    "duration": 174,
    "start_time": "2023-01-31T14:50:56.998Z"
   },
   {
    "duration": 50,
    "start_time": "2023-01-31T14:50:57.173Z"
   },
   {
    "duration": 76,
    "start_time": "2023-01-31T14:50:57.225Z"
   },
   {
    "duration": 159,
    "start_time": "2023-01-31T14:50:57.303Z"
   },
   {
    "duration": 28,
    "start_time": "2023-01-31T14:50:57.464Z"
   },
   {
    "duration": 171,
    "start_time": "2023-01-31T14:50:57.495Z"
   },
   {
    "duration": 73,
    "start_time": "2023-01-31T14:50:57.668Z"
   },
   {
    "duration": 15,
    "start_time": "2023-01-31T14:50:57.743Z"
   },
   {
    "duration": 75,
    "start_time": "2023-01-31T14:50:57.761Z"
   },
   {
    "duration": 18,
    "start_time": "2023-01-31T14:50:57.838Z"
   },
   {
    "duration": 2457,
    "start_time": "2023-01-31T16:11:38.577Z"
   },
   {
    "duration": 2230,
    "start_time": "2023-01-31T16:11:41.037Z"
   },
   {
    "duration": 1478,
    "start_time": "2023-01-31T16:11:43.269Z"
   },
   {
    "duration": 3,
    "start_time": "2023-01-31T16:11:44.749Z"
   },
   {
    "duration": 1153,
    "start_time": "2023-01-31T16:11:44.754Z"
   },
   {
    "duration": 19,
    "start_time": "2023-01-31T16:11:45.909Z"
   },
   {
    "duration": 22,
    "start_time": "2023-01-31T16:11:45.929Z"
   },
   {
    "duration": 54,
    "start_time": "2023-01-31T16:11:45.953Z"
   },
   {
    "duration": 170,
    "start_time": "2023-01-31T16:11:46.009Z"
   },
   {
    "duration": 52,
    "start_time": "2023-01-31T16:11:46.185Z"
   },
   {
    "duration": 5311,
    "start_time": "2023-01-31T16:11:46.239Z"
   },
   {
    "duration": 27,
    "start_time": "2023-01-31T16:11:51.552Z"
   },
   {
    "duration": 110,
    "start_time": "2023-01-31T16:11:51.581Z"
   },
   {
    "duration": 872,
    "start_time": "2023-01-31T16:11:51.693Z"
   },
   {
    "duration": 365,
    "start_time": "2023-01-31T16:11:52.567Z"
   },
   {
    "duration": 37,
    "start_time": "2023-01-31T16:11:52.934Z"
   },
   {
    "duration": 23,
    "start_time": "2023-01-31T16:11:52.985Z"
   },
   {
    "duration": 43,
    "start_time": "2023-01-31T16:11:53.010Z"
   },
   {
    "duration": 43495,
    "start_time": "2023-01-31T16:11:53.055Z"
   },
   {
    "duration": 69692,
    "start_time": "2023-01-31T16:12:36.551Z"
   },
   {
    "duration": 47,
    "start_time": "2023-01-31T16:13:46.245Z"
   },
   {
    "duration": 94,
    "start_time": "2023-01-31T16:13:46.293Z"
   },
   {
    "duration": 48,
    "start_time": "2023-01-31T16:13:46.388Z"
   },
   {
    "duration": 97669,
    "start_time": "2023-01-31T16:13:46.438Z"
   },
   {
    "duration": 98,
    "start_time": "2023-01-31T16:15:24.109Z"
   },
   {
    "duration": 32,
    "start_time": "2023-01-31T16:15:24.209Z"
   },
   {
    "duration": 2557,
    "start_time": "2023-01-31T16:15:24.243Z"
   },
   {
    "duration": 83,
    "start_time": "2023-01-31T16:15:26.804Z"
   },
   {
    "duration": 173,
    "start_time": "2023-01-31T16:15:26.889Z"
   },
   {
    "duration": 55,
    "start_time": "2023-01-31T16:15:27.064Z"
   },
   {
    "duration": 81,
    "start_time": "2023-01-31T16:15:27.121Z"
   },
   {
    "duration": 156,
    "start_time": "2023-01-31T16:15:27.204Z"
   },
   {
    "duration": 36,
    "start_time": "2023-01-31T16:15:27.362Z"
   },
   {
    "duration": 144,
    "start_time": "2023-01-31T16:15:27.401Z"
   },
   {
    "duration": 70,
    "start_time": "2023-01-31T16:15:27.547Z"
   },
   {
    "duration": 14,
    "start_time": "2023-01-31T16:15:27.619Z"
   },
   {
    "duration": 90,
    "start_time": "2023-01-31T16:15:27.634Z"
   },
   {
    "duration": 17,
    "start_time": "2023-01-31T16:15:27.726Z"
   },
   {
    "duration": 2365,
    "start_time": "2023-01-31T16:22:40.874Z"
   },
   {
    "duration": 2379,
    "start_time": "2023-01-31T16:22:43.242Z"
   },
   {
    "duration": 1699,
    "start_time": "2023-01-31T16:22:45.623Z"
   },
   {
    "duration": 3,
    "start_time": "2023-01-31T16:22:47.324Z"
   },
   {
    "duration": 1326,
    "start_time": "2023-01-31T16:22:47.328Z"
   },
   {
    "duration": 18,
    "start_time": "2023-01-31T16:22:48.656Z"
   },
   {
    "duration": 24,
    "start_time": "2023-01-31T16:22:48.676Z"
   },
   {
    "duration": 40,
    "start_time": "2023-01-31T16:22:48.702Z"
   },
   {
    "duration": 183,
    "start_time": "2023-01-31T16:22:48.743Z"
   },
   {
    "duration": 67,
    "start_time": "2023-01-31T16:22:48.929Z"
   },
   {
    "duration": 5699,
    "start_time": "2023-01-31T16:22:48.998Z"
   },
   {
    "duration": 34,
    "start_time": "2023-01-31T16:22:54.700Z"
   },
   {
    "duration": 103,
    "start_time": "2023-01-31T16:22:54.736Z"
   },
   {
    "duration": 924,
    "start_time": "2023-01-31T16:22:54.841Z"
   },
   {
    "duration": 408,
    "start_time": "2023-01-31T16:22:55.767Z"
   },
   {
    "duration": 51,
    "start_time": "2023-01-31T16:22:56.177Z"
   },
   {
    "duration": 24,
    "start_time": "2023-01-31T16:22:56.230Z"
   },
   {
    "duration": 77,
    "start_time": "2023-01-31T16:22:56.257Z"
   },
   {
    "duration": 45053,
    "start_time": "2023-01-31T16:22:56.336Z"
   },
   {
    "duration": 70281,
    "start_time": "2023-01-31T16:23:41.400Z"
   },
   {
    "duration": 42,
    "start_time": "2023-01-31T16:24:51.684Z"
   },
   {
    "duration": 95,
    "start_time": "2023-01-31T16:24:51.728Z"
   },
   {
    "duration": 54,
    "start_time": "2023-01-31T16:24:51.825Z"
   },
   {
    "duration": 99663,
    "start_time": "2023-01-31T16:24:51.884Z"
   },
   {
    "duration": 94,
    "start_time": "2023-01-31T16:26:31.549Z"
   },
   {
    "duration": 24,
    "start_time": "2023-01-31T16:26:31.645Z"
   },
   {
    "duration": 2619,
    "start_time": "2023-01-31T16:26:31.683Z"
   },
   {
    "duration": 87,
    "start_time": "2023-01-31T16:26:34.306Z"
   },
   {
    "duration": 176,
    "start_time": "2023-01-31T16:26:34.395Z"
   },
   {
    "duration": 53,
    "start_time": "2023-01-31T16:26:34.573Z"
   },
   {
    "duration": 77,
    "start_time": "2023-01-31T16:26:34.628Z"
   },
   {
    "duration": 168,
    "start_time": "2023-01-31T16:26:34.707Z"
   },
   {
    "duration": 31,
    "start_time": "2023-01-31T16:26:34.877Z"
   },
   {
    "duration": 164,
    "start_time": "2023-01-31T16:26:34.911Z"
   },
   {
    "duration": 67,
    "start_time": "2023-01-31T16:26:35.085Z"
   },
   {
    "duration": 33,
    "start_time": "2023-01-31T16:26:35.155Z"
   },
   {
    "duration": 62,
    "start_time": "2023-01-31T16:26:35.190Z"
   },
   {
    "duration": 43,
    "start_time": "2023-01-31T16:26:35.255Z"
   },
   {
    "duration": 42230,
    "start_time": "2023-01-31T16:26:35.301Z"
   },
   {
    "duration": 0,
    "start_time": "2023-01-31T16:27:17.533Z"
   },
   {
    "duration": 0,
    "start_time": "2023-01-31T16:27:17.534Z"
   },
   {
    "duration": 0,
    "start_time": "2023-01-31T16:27:17.535Z"
   },
   {
    "duration": 0,
    "start_time": "2023-01-31T16:27:17.537Z"
   },
   {
    "duration": 0,
    "start_time": "2023-01-31T16:27:17.538Z"
   },
   {
    "duration": 49724,
    "start_time": "2023-01-31T16:32:11.566Z"
   },
   {
    "duration": 4,
    "start_time": "2023-01-31T16:33:38.892Z"
   },
   {
    "duration": 1006,
    "start_time": "2023-01-31T16:36:43.722Z"
   },
   {
    "duration": 1148,
    "start_time": "2023-01-31T16:38:08.018Z"
   },
   {
    "duration": 73,
    "start_time": "2023-01-31T16:38:58.354Z"
   },
   {
    "duration": 19,
    "start_time": "2023-01-31T16:40:15.897Z"
   },
   {
    "duration": 872,
    "start_time": "2023-01-31T16:42:13.735Z"
   },
   {
    "duration": 480,
    "start_time": "2023-01-31T16:42:41.161Z"
   },
   {
    "duration": 469,
    "start_time": "2023-01-31T16:43:09.090Z"
   },
   {
    "duration": 489,
    "start_time": "2023-01-31T16:43:17.597Z"
   },
   {
    "duration": 838,
    "start_time": "2023-01-31T16:45:33.303Z"
   },
   {
    "duration": 766,
    "start_time": "2023-01-31T16:45:43.726Z"
   },
   {
    "duration": 649,
    "start_time": "2023-01-31T16:45:55.337Z"
   },
   {
    "duration": 549,
    "start_time": "2023-01-31T16:46:02.206Z"
   },
   {
    "duration": 598,
    "start_time": "2023-01-31T16:46:05.900Z"
   },
   {
    "duration": 677,
    "start_time": "2023-01-31T16:46:09.597Z"
   },
   {
    "duration": 156,
    "start_time": "2023-01-31T16:46:59.490Z"
   },
   {
    "duration": 6452,
    "start_time": "2023-01-31T16:46:59.649Z"
   },
   {
    "duration": 5,
    "start_time": "2023-01-31T16:47:06.103Z"
   },
   {
    "duration": 1284196,
    "start_time": "2023-01-31T16:47:06.111Z"
   },
   {
    "duration": 999,
    "start_time": "2023-01-31T17:08:30.310Z"
   },
   {
    "duration": 7169,
    "start_time": "2023-01-31T17:09:45.728Z"
   },
   {
    "duration": 23618,
    "start_time": "2023-01-31T17:09:59.633Z"
   },
   {
    "duration": 21064,
    "start_time": "2023-01-31T17:13:30.748Z"
   },
   {
    "duration": 34471,
    "start_time": "2023-01-31T17:26:51.528Z"
   },
   {
    "duration": 2359,
    "start_time": "2023-02-01T08:31:45.560Z"
   },
   {
    "duration": 1610,
    "start_time": "2023-02-01T08:31:47.921Z"
   },
   {
    "duration": 2,
    "start_time": "2023-02-01T08:31:49.533Z"
   },
   {
    "duration": 1092,
    "start_time": "2023-02-01T08:31:49.537Z"
   },
   {
    "duration": 23,
    "start_time": "2023-02-01T08:31:50.631Z"
   },
   {
    "duration": 6,
    "start_time": "2023-02-01T08:31:50.655Z"
   },
   {
    "duration": 46,
    "start_time": "2023-02-01T08:31:50.662Z"
   },
   {
    "duration": 128,
    "start_time": "2023-02-01T08:31:50.711Z"
   },
   {
    "duration": 60,
    "start_time": "2023-02-01T08:31:50.841Z"
   },
   {
    "duration": 4987,
    "start_time": "2023-02-01T08:31:50.902Z"
   },
   {
    "duration": 27,
    "start_time": "2023-02-01T08:31:55.891Z"
   },
   {
    "duration": 563,
    "start_time": "2023-02-01T08:31:55.920Z"
   },
   {
    "duration": 827,
    "start_time": "2023-02-01T08:31:56.485Z"
   },
   {
    "duration": 352,
    "start_time": "2023-02-01T08:31:57.315Z"
   },
   {
    "duration": 36,
    "start_time": "2023-02-01T08:31:57.669Z"
   },
   {
    "duration": 24,
    "start_time": "2023-02-01T08:31:57.707Z"
   },
   {
    "duration": 60,
    "start_time": "2023-02-01T08:31:57.733Z"
   },
   {
    "duration": 39350,
    "start_time": "2023-02-01T08:31:57.795Z"
   },
   {
    "duration": 62608,
    "start_time": "2023-02-01T08:32:37.146Z"
   },
   {
    "duration": 43,
    "start_time": "2023-02-01T08:33:39.756Z"
   },
   {
    "duration": 85,
    "start_time": "2023-02-01T08:33:39.801Z"
   },
   {
    "duration": 43,
    "start_time": "2023-02-01T08:33:39.888Z"
   },
   {
    "duration": 85447,
    "start_time": "2023-02-01T08:33:39.933Z"
   },
   {
    "duration": 76,
    "start_time": "2023-02-01T08:35:05.382Z"
   },
   {
    "duration": 20,
    "start_time": "2023-02-01T08:35:05.460Z"
   },
   {
    "duration": 2187,
    "start_time": "2023-02-01T08:35:05.483Z"
   },
   {
    "duration": 66,
    "start_time": "2023-02-01T08:35:07.671Z"
   },
   {
    "duration": 142,
    "start_time": "2023-02-01T08:35:07.738Z"
   },
   {
    "duration": 44,
    "start_time": "2023-02-01T08:35:07.882Z"
   },
   {
    "duration": 65,
    "start_time": "2023-02-01T08:35:07.928Z"
   },
   {
    "duration": 136,
    "start_time": "2023-02-01T08:35:07.995Z"
   },
   {
    "duration": 19,
    "start_time": "2023-02-01T08:35:08.132Z"
   },
   {
    "duration": 144,
    "start_time": "2023-02-01T08:35:08.152Z"
   },
   {
    "duration": 58,
    "start_time": "2023-02-01T08:35:08.297Z"
   },
   {
    "duration": 17,
    "start_time": "2023-02-01T08:35:08.357Z"
   },
   {
    "duration": 26,
    "start_time": "2023-02-01T08:35:08.376Z"
   },
   {
    "duration": 55,
    "start_time": "2023-02-01T08:35:08.403Z"
   },
   {
    "duration": 16,
    "start_time": "2023-02-01T08:35:08.459Z"
   },
   {
    "duration": 778,
    "start_time": "2023-02-01T08:35:08.494Z"
   },
   {
    "duration": 541,
    "start_time": "2023-02-01T08:35:09.274Z"
   },
   {
    "duration": 30957,
    "start_time": "2023-02-01T08:35:09.818Z"
   },
   {
    "duration": 141,
    "start_time": "2023-02-01T08:35:40.777Z"
   },
   {
    "duration": 11791,
    "start_time": "2023-02-01T08:35:40.920Z"
   },
   {
    "duration": 5,
    "start_time": "2023-02-01T08:35:52.712Z"
   },
   {
    "duration": 961611,
    "start_time": "2023-02-01T08:35:52.719Z"
   },
   {
    "duration": 0,
    "start_time": "2023-02-01T08:51:54.333Z"
   },
   {
    "duration": 5,
    "start_time": "2023-02-01T08:52:35.267Z"
   },
   {
    "duration": 5,
    "start_time": "2023-02-01T08:52:46.915Z"
   },
   {
    "duration": 23,
    "start_time": "2023-02-01T08:52:50.386Z"
   },
   {
    "duration": 79,
    "start_time": "2023-02-01T08:53:18.862Z"
   },
   {
    "duration": 25,
    "start_time": "2023-02-01T08:53:28.788Z"
   },
   {
    "duration": 55,
    "start_time": "2023-02-01T08:54:25.578Z"
   },
   {
    "duration": 1017,
    "start_time": "2023-02-01T08:56:28.829Z"
   },
   {
    "duration": 3,
    "start_time": "2023-02-01T08:56:44.650Z"
   },
   {
    "duration": 3818,
    "start_time": "2023-02-01T08:56:54.581Z"
   },
   {
    "duration": 41021,
    "start_time": "2023-02-01T08:57:43.254Z"
   },
   {
    "duration": 63,
    "start_time": "2023-02-01T08:58:32.093Z"
   },
   {
    "duration": 54,
    "start_time": "2023-02-01T08:58:35.825Z"
   },
   {
    "duration": 88,
    "start_time": "2023-02-01T08:59:34.149Z"
   },
   {
    "duration": 358,
    "start_time": "2023-02-01T08:59:41.506Z"
   },
   {
    "duration": 655546,
    "start_time": "2023-02-01T09:00:08.335Z"
   },
   {
    "duration": 633335,
    "start_time": "2023-02-01T09:11:24.929Z"
   },
   {
    "duration": 6902,
    "start_time": "2023-02-01T09:22:15.324Z"
   },
   {
    "duration": 11044,
    "start_time": "2023-02-01T09:22:24.739Z"
   },
   {
    "duration": 7491,
    "start_time": "2023-02-01T09:22:39.038Z"
   },
   {
    "duration": 20712,
    "start_time": "2023-02-01T09:22:58.370Z"
   },
   {
    "duration": 1058729,
    "start_time": "2023-02-01T09:23:28.901Z"
   },
   {
    "duration": 27,
    "start_time": "2023-02-01T09:41:20.410Z"
   },
   {
    "duration": 10425,
    "start_time": "2023-02-01T09:41:50.531Z"
   },
   {
    "duration": 3207,
    "start_time": "2023-02-01T09:52:40.310Z"
   },
   {
    "duration": 2805,
    "start_time": "2023-02-01T09:52:43.519Z"
   },
   {
    "duration": 3,
    "start_time": "2023-02-01T09:52:46.325Z"
   },
   {
    "duration": 1798,
    "start_time": "2023-02-01T09:52:46.331Z"
   },
   {
    "duration": 17,
    "start_time": "2023-02-01T09:52:48.131Z"
   },
   {
    "duration": 30,
    "start_time": "2023-02-01T09:52:48.149Z"
   },
   {
    "duration": 48,
    "start_time": "2023-02-01T09:52:48.181Z"
   },
   {
    "duration": 171,
    "start_time": "2023-02-01T09:52:48.232Z"
   },
   {
    "duration": 57,
    "start_time": "2023-02-01T09:52:48.405Z"
   },
   {
    "duration": 5409,
    "start_time": "2023-02-01T09:52:48.464Z"
   },
   {
    "duration": 33,
    "start_time": "2023-02-01T09:52:53.876Z"
   },
   {
    "duration": 114,
    "start_time": "2023-02-01T09:52:53.912Z"
   },
   {
    "duration": 1112,
    "start_time": "2023-02-01T09:52:54.029Z"
   },
   {
    "duration": 422,
    "start_time": "2023-02-01T09:52:55.143Z"
   },
   {
    "duration": 52,
    "start_time": "2023-02-01T09:52:55.566Z"
   },
   {
    "duration": 31,
    "start_time": "2023-02-01T09:52:55.620Z"
   },
   {
    "duration": 76,
    "start_time": "2023-02-01T09:52:55.654Z"
   },
   {
    "duration": 42997,
    "start_time": "2023-02-01T09:52:55.731Z"
   },
   {
    "duration": 65201,
    "start_time": "2023-02-01T09:53:38.730Z"
   },
   {
    "duration": 59,
    "start_time": "2023-02-01T09:54:43.934Z"
   },
   {
    "duration": 127,
    "start_time": "2023-02-01T09:54:43.995Z"
   },
   {
    "duration": 52,
    "start_time": "2023-02-01T09:54:44.124Z"
   },
   {
    "duration": 94386,
    "start_time": "2023-02-01T09:54:44.179Z"
   },
   {
    "duration": 117,
    "start_time": "2023-02-01T09:56:18.567Z"
   },
   {
    "duration": 27,
    "start_time": "2023-02-01T09:56:18.686Z"
   },
   {
    "duration": 2395,
    "start_time": "2023-02-01T09:56:18.715Z"
   },
   {
    "duration": 100,
    "start_time": "2023-02-01T09:56:21.112Z"
   },
   {
    "duration": 171,
    "start_time": "2023-02-01T09:56:21.217Z"
   },
   {
    "duration": 46,
    "start_time": "2023-02-01T09:56:21.393Z"
   },
   {
    "duration": 80,
    "start_time": "2023-02-01T09:56:21.441Z"
   },
   {
    "duration": 194,
    "start_time": "2023-02-01T09:56:21.523Z"
   },
   {
    "duration": 24,
    "start_time": "2023-02-01T09:56:21.720Z"
   },
   {
    "duration": 185,
    "start_time": "2023-02-01T09:56:21.746Z"
   },
   {
    "duration": 73,
    "start_time": "2023-02-01T09:56:21.933Z"
   },
   {
    "duration": 21,
    "start_time": "2023-02-01T09:56:22.008Z"
   },
   {
    "duration": 15,
    "start_time": "2023-02-01T09:56:22.031Z"
   },
   {
    "duration": 87,
    "start_time": "2023-02-01T09:56:22.048Z"
   },
   {
    "duration": 24,
    "start_time": "2023-02-01T09:56:22.137Z"
   },
   {
    "duration": 914,
    "start_time": "2023-02-01T09:56:22.163Z"
   },
   {
    "duration": 1028,
    "start_time": "2023-02-01T09:56:23.078Z"
   },
   {
    "duration": 42539,
    "start_time": "2023-02-01T09:56:24.108Z"
   },
   {
    "duration": 158,
    "start_time": "2023-02-01T09:57:06.649Z"
   },
   {
    "duration": 304188,
    "start_time": "2023-02-01T09:57:06.809Z"
   },
   {
    "duration": 4,
    "start_time": "2023-02-01T10:02:10.999Z"
   },
   {
    "duration": 26,
    "start_time": "2023-02-01T10:02:11.005Z"
   },
   {
    "duration": 309378,
    "start_time": "2023-02-01T10:02:11.033Z"
   },
   {
    "duration": 57388,
    "start_time": "2023-02-01T10:07:20.413Z"
   },
   {
    "duration": 10795,
    "start_time": "2023-02-01T10:08:17.803Z"
   },
   {
    "duration": 704,
    "start_time": "2023-02-01T10:08:28.599Z"
   },
   {
    "duration": 24,
    "start_time": "2023-02-01T10:08:29.305Z"
   },
   {
    "duration": 670,
    "start_time": "2023-02-01T10:21:10.999Z"
   },
   {
    "duration": 230,
    "start_time": "2023-02-01T10:21:14.092Z"
   },
   {
    "duration": 701,
    "start_time": "2023-02-01T10:21:30.738Z"
   },
   {
    "duration": 22,
    "start_time": "2023-02-01T10:21:33.307Z"
   },
   {
    "duration": 14,
    "start_time": "2023-02-01T10:27:08.985Z"
   },
   {
    "duration": 11,
    "start_time": "2023-02-01T10:27:36.572Z"
   },
   {
    "duration": 11,
    "start_time": "2023-02-01T10:28:28.405Z"
   },
   {
    "duration": 11,
    "start_time": "2023-02-01T10:28:40.936Z"
   },
   {
    "duration": 11,
    "start_time": "2023-02-01T10:28:54.483Z"
   },
   {
    "duration": 5,
    "start_time": "2023-02-01T13:47:17.585Z"
   },
   {
    "duration": 89,
    "start_time": "2023-02-01T14:21:37.602Z"
   },
   {
    "duration": 3,
    "start_time": "2023-02-01T14:21:50.085Z"
   },
   {
    "duration": 1512,
    "start_time": "2023-02-01T14:21:50.090Z"
   },
   {
    "duration": 3,
    "start_time": "2023-02-01T14:21:51.604Z"
   },
   {
    "duration": 1029,
    "start_time": "2023-02-01T14:21:51.608Z"
   },
   {
    "duration": 15,
    "start_time": "2023-02-01T14:21:52.638Z"
   },
   {
    "duration": 5,
    "start_time": "2023-02-01T14:21:52.655Z"
   },
   {
    "duration": 38,
    "start_time": "2023-02-01T14:21:52.661Z"
   },
   {
    "duration": 102,
    "start_time": "2023-02-01T14:21:52.701Z"
   },
   {
    "duration": 47,
    "start_time": "2023-02-01T14:21:52.805Z"
   },
   {
    "duration": 4536,
    "start_time": "2023-02-01T14:21:52.853Z"
   },
   {
    "duration": 25,
    "start_time": "2023-02-01T14:21:57.391Z"
   },
   {
    "duration": 73,
    "start_time": "2023-02-01T14:21:57.417Z"
   },
   {
    "duration": 714,
    "start_time": "2023-02-01T14:21:57.491Z"
   },
   {
    "duration": 300,
    "start_time": "2023-02-01T14:21:58.206Z"
   },
   {
    "duration": 32,
    "start_time": "2023-02-01T14:21:58.507Z"
   },
   {
    "duration": 20,
    "start_time": "2023-02-01T14:21:58.541Z"
   },
   {
    "duration": 57,
    "start_time": "2023-02-01T14:21:58.563Z"
   },
   {
    "duration": 36690,
    "start_time": "2023-02-01T14:21:58.621Z"
   },
   {
    "duration": 59692,
    "start_time": "2023-02-01T14:22:35.312Z"
   },
   {
    "duration": 33,
    "start_time": "2023-02-01T14:23:35.006Z"
   },
   {
    "duration": 67,
    "start_time": "2023-02-01T14:23:35.041Z"
   },
   {
    "duration": 34,
    "start_time": "2023-02-01T14:23:35.110Z"
   },
   {
    "duration": 83863,
    "start_time": "2023-02-01T14:23:35.146Z"
   },
   {
    "duration": 64,
    "start_time": "2023-02-01T14:24:59.011Z"
   },
   {
    "duration": 19,
    "start_time": "2023-02-01T14:24:59.085Z"
   },
   {
    "duration": 2139,
    "start_time": "2023-02-01T14:24:59.106Z"
   },
   {
    "duration": 73,
    "start_time": "2023-02-01T14:25:01.247Z"
   },
   {
    "duration": 149,
    "start_time": "2023-02-01T14:25:01.321Z"
   },
   {
    "duration": 47,
    "start_time": "2023-02-01T14:25:01.473Z"
   },
   {
    "duration": 66,
    "start_time": "2023-02-01T14:25:01.522Z"
   },
   {
    "duration": 133,
    "start_time": "2023-02-01T14:25:01.590Z"
   },
   {
    "duration": 18,
    "start_time": "2023-02-01T14:25:01.725Z"
   },
   {
    "duration": 183,
    "start_time": "2023-02-01T14:25:01.745Z"
   },
   {
    "duration": 59,
    "start_time": "2023-02-01T14:25:01.929Z"
   },
   {
    "duration": 16,
    "start_time": "2023-02-01T14:25:01.989Z"
   },
   {
    "duration": 31,
    "start_time": "2023-02-01T14:25:02.007Z"
   },
   {
    "duration": 78,
    "start_time": "2023-02-01T14:25:02.040Z"
   },
   {
    "duration": 16,
    "start_time": "2023-02-01T14:25:02.120Z"
   },
   {
    "duration": 744,
    "start_time": "2023-02-01T14:25:02.138Z"
   },
   {
    "duration": 897,
    "start_time": "2023-02-01T14:25:02.884Z"
   },
   {
    "duration": 31924,
    "start_time": "2023-02-01T14:25:03.782Z"
   },
   {
    "duration": 119,
    "start_time": "2023-02-01T14:25:35.708Z"
   },
   {
    "duration": 159173,
    "start_time": "2023-02-01T14:25:35.829Z"
   },
   {
    "duration": 4,
    "start_time": "2023-02-01T14:28:15.004Z"
   },
   {
    "duration": 8,
    "start_time": "2023-02-01T14:28:15.086Z"
   },
   {
    "duration": 3,
    "start_time": "2023-02-01T14:47:51.497Z"
   },
   {
    "duration": 13,
    "start_time": "2023-02-01T14:47:51.502Z"
   },
   {
    "duration": 24,
    "start_time": "2023-02-01T14:47:51.517Z"
   },
   {
    "duration": 692,
    "start_time": "2023-02-01T14:47:51.542Z"
   },
   {
    "duration": 13,
    "start_time": "2023-02-01T14:47:52.236Z"
   },
   {
    "duration": 14,
    "start_time": "2023-02-01T14:47:52.251Z"
   },
   {
    "duration": 34,
    "start_time": "2023-02-01T14:47:52.267Z"
   },
   {
    "duration": 103,
    "start_time": "2023-02-01T14:47:52.302Z"
   },
   {
    "duration": 48,
    "start_time": "2023-02-01T14:47:52.407Z"
   },
   {
    "duration": 4404,
    "start_time": "2023-02-01T14:47:52.456Z"
   },
   {
    "duration": 30,
    "start_time": "2023-02-01T14:47:56.863Z"
   },
   {
    "duration": 64,
    "start_time": "2023-02-01T14:47:56.894Z"
   },
   {
    "duration": 693,
    "start_time": "2023-02-01T14:47:56.959Z"
   },
   {
    "duration": 296,
    "start_time": "2023-02-01T14:47:57.654Z"
   },
   {
    "duration": 38,
    "start_time": "2023-02-01T14:47:57.952Z"
   },
   {
    "duration": 20,
    "start_time": "2023-02-01T14:47:57.991Z"
   },
   {
    "duration": 44,
    "start_time": "2023-02-01T14:47:58.013Z"
   },
   {
    "duration": 37399,
    "start_time": "2023-02-01T14:47:58.059Z"
   },
   {
    "duration": 60550,
    "start_time": "2023-02-01T14:48:35.460Z"
   },
   {
    "duration": 34,
    "start_time": "2023-02-01T14:49:36.012Z"
   },
   {
    "duration": 71,
    "start_time": "2023-02-01T14:49:36.047Z"
   },
   {
    "duration": 37,
    "start_time": "2023-02-01T14:49:36.120Z"
   },
   {
    "duration": 84144,
    "start_time": "2023-02-01T14:49:36.159Z"
   },
   {
    "duration": 59,
    "start_time": "2023-02-01T14:51:00.304Z"
   },
   {
    "duration": 31,
    "start_time": "2023-02-01T14:51:00.364Z"
   },
   {
    "duration": 1990,
    "start_time": "2023-02-01T14:51:00.397Z"
   },
   {
    "duration": 60,
    "start_time": "2023-02-01T14:51:02.389Z"
   },
   {
    "duration": 250,
    "start_time": "2023-02-01T14:51:02.450Z"
   },
   {
    "duration": 40,
    "start_time": "2023-02-01T14:51:02.703Z"
   },
   {
    "duration": 68,
    "start_time": "2023-02-01T14:51:02.745Z"
   },
   {
    "duration": 143,
    "start_time": "2023-02-01T14:51:02.814Z"
   },
   {
    "duration": 30,
    "start_time": "2023-02-01T14:51:02.959Z"
   },
   {
    "duration": 125,
    "start_time": "2023-02-01T14:51:02.991Z"
   },
   {
    "duration": 52,
    "start_time": "2023-02-01T14:51:03.118Z"
   },
   {
    "duration": 26,
    "start_time": "2023-02-01T14:51:03.172Z"
   },
   {
    "duration": 14,
    "start_time": "2023-02-01T14:51:03.200Z"
   },
   {
    "duration": 70,
    "start_time": "2023-02-01T14:51:03.216Z"
   },
   {
    "duration": 17,
    "start_time": "2023-02-01T14:51:03.287Z"
   },
   {
    "duration": 715,
    "start_time": "2023-02-01T14:51:03.305Z"
   },
   {
    "duration": 852,
    "start_time": "2023-02-01T14:51:04.022Z"
   },
   {
    "duration": 29736,
    "start_time": "2023-02-01T14:51:04.876Z"
   },
   {
    "duration": 133,
    "start_time": "2023-02-01T14:51:34.614Z"
   },
   {
    "duration": 7255,
    "start_time": "2023-02-01T14:51:34.748Z"
   },
   {
    "duration": 5,
    "start_time": "2023-02-01T14:51:42.087Z"
   },
   {
    "duration": 16,
    "start_time": "2023-02-01T14:51:42.094Z"
   },
   {
    "duration": 233491,
    "start_time": "2023-02-01T14:51:42.112Z"
   },
   {
    "duration": 49396,
    "start_time": "2023-02-01T14:55:35.605Z"
   },
   {
    "duration": 11001,
    "start_time": "2023-02-01T14:56:25.003Z"
   },
   {
    "duration": 667,
    "start_time": "2023-02-01T14:56:36.006Z"
   },
   {
    "duration": 61,
    "start_time": "2023-02-01T14:56:36.674Z"
   },
   {
    "duration": 11,
    "start_time": "2023-02-01T14:56:36.737Z"
   },
   {
    "duration": 184199,
    "start_time": "2023-02-01T15:04:24.652Z"
   },
   {
    "duration": 3,
    "start_time": "2023-02-01T15:08:30.700Z"
   },
   {
    "duration": 56,
    "start_time": "2023-02-01T15:08:30.705Z"
   },
   {
    "duration": 61,
    "start_time": "2023-02-01T15:08:30.763Z"
   },
   {
    "duration": 759,
    "start_time": "2023-02-01T15:08:30.827Z"
   },
   {
    "duration": 13,
    "start_time": "2023-02-01T15:08:31.587Z"
   },
   {
    "duration": 10,
    "start_time": "2023-02-01T15:08:31.602Z"
   },
   {
    "duration": 63,
    "start_time": "2023-02-01T15:08:31.614Z"
   },
   {
    "duration": 111,
    "start_time": "2023-02-01T15:08:31.679Z"
   },
   {
    "duration": 45,
    "start_time": "2023-02-01T15:08:31.793Z"
   },
   {
    "duration": 4560,
    "start_time": "2023-02-01T15:08:31.840Z"
   },
   {
    "duration": 26,
    "start_time": "2023-02-01T15:08:36.402Z"
   },
   {
    "duration": 88,
    "start_time": "2023-02-01T15:08:36.430Z"
   },
   {
    "duration": 728,
    "start_time": "2023-02-01T15:08:36.519Z"
   },
   {
    "duration": 311,
    "start_time": "2023-02-01T15:08:37.249Z"
   },
   {
    "duration": 34,
    "start_time": "2023-02-01T15:08:37.562Z"
   },
   {
    "duration": 27,
    "start_time": "2023-02-01T15:08:37.598Z"
   },
   {
    "duration": 77,
    "start_time": "2023-02-01T15:08:37.628Z"
   },
   {
    "duration": 39390,
    "start_time": "2023-02-01T15:08:37.708Z"
   },
   {
    "duration": 64726,
    "start_time": "2023-02-01T15:09:17.100Z"
   },
   {
    "duration": 88,
    "start_time": "2023-02-01T15:10:21.828Z"
   },
   {
    "duration": 172,
    "start_time": "2023-02-01T15:10:21.918Z"
   },
   {
    "duration": 109,
    "start_time": "2023-02-01T15:10:22.093Z"
   },
   {
    "duration": 90540,
    "start_time": "2023-02-01T15:10:22.205Z"
   },
   {
    "duration": 87,
    "start_time": "2023-02-01T15:11:52.748Z"
   },
   {
    "duration": 28,
    "start_time": "2023-02-01T15:11:52.837Z"
   },
   {
    "duration": 2971,
    "start_time": "2023-02-01T15:11:52.867Z"
   },
   {
    "duration": 77,
    "start_time": "2023-02-01T15:11:55.840Z"
   },
   {
    "duration": 160,
    "start_time": "2023-02-01T15:11:55.918Z"
   },
   {
    "duration": 41,
    "start_time": "2023-02-01T15:11:56.085Z"
   },
   {
    "duration": 72,
    "start_time": "2023-02-01T15:11:56.128Z"
   },
   {
    "duration": 136,
    "start_time": "2023-02-01T15:11:56.202Z"
   },
   {
    "duration": 19,
    "start_time": "2023-02-01T15:11:56.339Z"
   },
   {
    "duration": 150,
    "start_time": "2023-02-01T15:11:56.359Z"
   },
   {
    "duration": 53,
    "start_time": "2023-02-01T15:11:56.510Z"
   },
   {
    "duration": 30,
    "start_time": "2023-02-01T15:11:56.565Z"
   },
   {
    "duration": 16,
    "start_time": "2023-02-01T15:11:56.597Z"
   },
   {
    "duration": 53,
    "start_time": "2023-02-01T15:11:56.615Z"
   },
   {
    "duration": 31,
    "start_time": "2023-02-01T15:11:56.670Z"
   },
   {
    "duration": 771,
    "start_time": "2023-02-01T15:11:56.703Z"
   },
   {
    "duration": 920,
    "start_time": "2023-02-01T15:11:57.475Z"
   },
   {
    "duration": 36248,
    "start_time": "2023-02-01T15:11:58.397Z"
   },
   {
    "duration": 128,
    "start_time": "2023-02-01T15:12:34.647Z"
   },
   {
    "duration": 390422,
    "start_time": "2023-02-01T15:12:34.777Z"
   },
   {
    "duration": 5,
    "start_time": "2023-02-01T15:19:05.201Z"
   },
   {
    "duration": 44,
    "start_time": "2023-02-01T15:19:05.208Z"
   },
   {
    "duration": 4,
    "start_time": "2023-02-01T16:05:40.603Z"
   },
   {
    "duration": 1337,
    "start_time": "2023-02-01T16:05:40.608Z"
   },
   {
    "duration": 3,
    "start_time": "2023-02-01T16:05:41.946Z"
   },
   {
    "duration": 939,
    "start_time": "2023-02-01T16:05:41.951Z"
   },
   {
    "duration": 23,
    "start_time": "2023-02-01T16:05:42.893Z"
   },
   {
    "duration": 6,
    "start_time": "2023-02-01T16:05:42.917Z"
   },
   {
    "duration": 90,
    "start_time": "2023-02-01T16:05:42.924Z"
   },
   {
    "duration": 208,
    "start_time": "2023-02-01T16:05:43.016Z"
   },
   {
    "duration": 99,
    "start_time": "2023-02-01T16:05:43.227Z"
   },
   {
    "duration": 5121,
    "start_time": "2023-02-01T16:05:43.328Z"
   },
   {
    "duration": 26,
    "start_time": "2023-02-01T16:05:48.450Z"
   },
   {
    "duration": 62,
    "start_time": "2023-02-01T16:05:48.478Z"
   },
   {
    "duration": 737,
    "start_time": "2023-02-01T16:05:48.542Z"
   },
   {
    "duration": 303,
    "start_time": "2023-02-01T16:05:49.286Z"
   },
   {
    "duration": 32,
    "start_time": "2023-02-01T16:05:49.591Z"
   },
   {
    "duration": 24,
    "start_time": "2023-02-01T16:05:49.625Z"
   },
   {
    "duration": 57,
    "start_time": "2023-02-01T16:05:49.651Z"
   },
   {
    "duration": 37815,
    "start_time": "2023-02-01T16:05:49.710Z"
   },
   {
    "duration": 62097,
    "start_time": "2023-02-01T16:06:27.526Z"
   },
   {
    "duration": 34,
    "start_time": "2023-02-01T16:07:29.624Z"
   },
   {
    "duration": 98,
    "start_time": "2023-02-01T16:07:29.660Z"
   },
   {
    "duration": 49,
    "start_time": "2023-02-01T16:07:29.760Z"
   },
   {
    "duration": 86390,
    "start_time": "2023-02-01T16:07:29.810Z"
   },
   {
    "duration": 63,
    "start_time": "2023-02-01T16:08:56.203Z"
   },
   {
    "duration": 33,
    "start_time": "2023-02-01T16:08:56.268Z"
   },
   {
    "duration": 2146,
    "start_time": "2023-02-01T16:08:56.303Z"
   },
   {
    "duration": 70,
    "start_time": "2023-02-01T16:08:58.451Z"
   },
   {
    "duration": 148,
    "start_time": "2023-02-01T16:08:58.523Z"
   },
   {
    "duration": 52,
    "start_time": "2023-02-01T16:08:58.673Z"
   },
   {
    "duration": 63,
    "start_time": "2023-02-01T16:08:58.726Z"
   },
   {
    "duration": 145,
    "start_time": "2023-02-01T16:08:58.791Z"
   },
   {
    "duration": 19,
    "start_time": "2023-02-01T16:08:58.937Z"
   },
   {
    "duration": 142,
    "start_time": "2023-02-01T16:08:58.957Z"
   },
   {
    "duration": 54,
    "start_time": "2023-02-01T16:08:59.100Z"
   },
   {
    "duration": 35,
    "start_time": "2023-02-01T16:08:59.155Z"
   },
   {
    "duration": 14,
    "start_time": "2023-02-01T16:08:59.192Z"
   },
   {
    "duration": 87,
    "start_time": "2023-02-01T16:08:59.208Z"
   },
   {
    "duration": 18,
    "start_time": "2023-02-01T16:08:59.296Z"
   },
   {
    "duration": 761,
    "start_time": "2023-02-01T16:08:59.316Z"
   },
   {
    "duration": 889,
    "start_time": "2023-02-01T16:09:00.078Z"
   },
   {
    "duration": 37406,
    "start_time": "2023-02-01T16:09:00.968Z"
   },
   {
    "duration": 134,
    "start_time": "2023-02-01T16:09:38.376Z"
   },
   {
    "duration": 361190,
    "start_time": "2023-02-01T16:09:38.511Z"
   },
   {
    "duration": 4,
    "start_time": "2023-02-01T16:15:39.703Z"
   },
   {
    "duration": 20,
    "start_time": "2023-02-01T16:15:39.708Z"
   },
   {
    "duration": 3,
    "start_time": "2023-02-01T16:24:14.945Z"
   },
   {
    "duration": 1348,
    "start_time": "2023-02-01T16:24:14.950Z"
   },
   {
    "duration": 3,
    "start_time": "2023-02-01T16:24:16.300Z"
   },
   {
    "duration": 729,
    "start_time": "2023-02-01T16:24:16.304Z"
   },
   {
    "duration": 15,
    "start_time": "2023-02-01T16:24:17.035Z"
   },
   {
    "duration": 18,
    "start_time": "2023-02-01T16:24:17.051Z"
   },
   {
    "duration": 36,
    "start_time": "2023-02-01T16:24:17.070Z"
   },
   {
    "duration": 107,
    "start_time": "2023-02-01T16:24:17.108Z"
   },
   {
    "duration": 48,
    "start_time": "2023-02-01T16:24:17.217Z"
   },
   {
    "duration": 4600,
    "start_time": "2023-02-01T16:24:17.268Z"
   },
   {
    "duration": 27,
    "start_time": "2023-02-01T16:24:21.870Z"
   },
   {
    "duration": 63,
    "start_time": "2023-02-01T16:24:21.898Z"
   },
   {
    "duration": 724,
    "start_time": "2023-02-01T16:24:21.962Z"
   },
   {
    "duration": 330,
    "start_time": "2023-02-01T16:24:22.687Z"
   },
   {
    "duration": 30,
    "start_time": "2023-02-01T16:24:23.018Z"
   },
   {
    "duration": 34,
    "start_time": "2023-02-01T16:24:23.050Z"
   },
   {
    "duration": 62,
    "start_time": "2023-02-01T16:24:23.086Z"
   },
   {
    "duration": 37796,
    "start_time": "2023-02-01T16:24:23.150Z"
   },
   {
    "duration": 61749,
    "start_time": "2023-02-01T16:25:00.948Z"
   },
   {
    "duration": 31,
    "start_time": "2023-02-01T16:26:02.699Z"
   },
   {
    "duration": 71,
    "start_time": "2023-02-01T16:26:02.732Z"
   },
   {
    "duration": 44,
    "start_time": "2023-02-01T16:26:02.805Z"
   },
   {
    "duration": 84872,
    "start_time": "2023-02-01T16:26:02.851Z"
   },
   {
    "duration": 65,
    "start_time": "2023-02-01T16:27:27.725Z"
   },
   {
    "duration": 18,
    "start_time": "2023-02-01T16:27:27.791Z"
   },
   {
    "duration": 2095,
    "start_time": "2023-02-01T16:27:27.811Z"
   },
   {
    "duration": 60,
    "start_time": "2023-02-01T16:27:29.907Z"
   },
   {
    "duration": 156,
    "start_time": "2023-02-01T16:27:29.970Z"
   },
   {
    "duration": 40,
    "start_time": "2023-02-01T16:27:30.127Z"
   },
   {
    "duration": 66,
    "start_time": "2023-02-01T16:27:30.168Z"
   },
   {
    "duration": 132,
    "start_time": "2023-02-01T16:27:30.236Z"
   },
   {
    "duration": 25,
    "start_time": "2023-02-01T16:27:30.370Z"
   },
   {
    "duration": 132,
    "start_time": "2023-02-01T16:27:30.396Z"
   },
   {
    "duration": 63,
    "start_time": "2023-02-01T16:27:30.530Z"
   },
   {
    "duration": 19,
    "start_time": "2023-02-01T16:27:30.595Z"
   },
   {
    "duration": 62,
    "start_time": "2023-02-01T16:27:30.615Z"
   },
   {
    "duration": 79,
    "start_time": "2023-02-01T16:27:30.679Z"
   },
   {
    "duration": 16,
    "start_time": "2023-02-01T16:27:30.760Z"
   },
   {
    "duration": 765,
    "start_time": "2023-02-01T16:27:30.778Z"
   },
   {
    "duration": 858,
    "start_time": "2023-02-01T16:27:31.544Z"
   },
   {
    "duration": 30134,
    "start_time": "2023-02-01T16:27:32.403Z"
   },
   {
    "duration": 122,
    "start_time": "2023-02-01T16:28:02.539Z"
   },
   {
    "duration": 493834,
    "start_time": "2023-02-01T16:28:02.662Z"
   },
   {
    "duration": 4,
    "start_time": "2023-02-01T16:36:16.498Z"
   },
   {
    "duration": 8,
    "start_time": "2023-02-01T16:36:16.504Z"
   },
   {
    "duration": 325263,
    "start_time": "2023-02-01T16:36:16.514Z"
   },
   {
    "duration": 3,
    "start_time": "2023-02-01T16:41:57.689Z"
   },
   {
    "duration": 1315,
    "start_time": "2023-02-01T16:41:57.694Z"
   },
   {
    "duration": 3,
    "start_time": "2023-02-01T16:41:59.010Z"
   },
   {
    "duration": 733,
    "start_time": "2023-02-01T16:41:59.014Z"
   },
   {
    "duration": 14,
    "start_time": "2023-02-01T16:41:59.749Z"
   },
   {
    "duration": 79,
    "start_time": "2023-02-01T16:41:59.765Z"
   },
   {
    "duration": 263,
    "start_time": "2023-02-01T16:41:59.847Z"
   },
   {
    "duration": 132,
    "start_time": "2023-02-01T16:42:00.112Z"
   },
   {
    "duration": 65,
    "start_time": "2023-02-01T16:42:00.248Z"
   },
   {
    "duration": 4530,
    "start_time": "2023-02-01T16:42:00.314Z"
   },
   {
    "duration": 29,
    "start_time": "2023-02-01T16:42:04.846Z"
   },
   {
    "duration": 75,
    "start_time": "2023-02-01T16:42:04.876Z"
   },
   {
    "duration": 731,
    "start_time": "2023-02-01T16:42:04.952Z"
   },
   {
    "duration": 310,
    "start_time": "2023-02-01T16:42:05.686Z"
   },
   {
    "duration": 32,
    "start_time": "2023-02-01T16:42:05.998Z"
   },
   {
    "duration": 35,
    "start_time": "2023-02-01T16:42:06.031Z"
   },
   {
    "duration": 43,
    "start_time": "2023-02-01T16:42:06.068Z"
   },
   {
    "duration": 36781,
    "start_time": "2023-02-01T16:42:06.113Z"
   },
   {
    "duration": 60516,
    "start_time": "2023-02-01T16:42:42.896Z"
   },
   {
    "duration": 32,
    "start_time": "2023-02-01T16:43:43.413Z"
   },
   {
    "duration": 76,
    "start_time": "2023-02-01T16:43:43.446Z"
   },
   {
    "duration": 39,
    "start_time": "2023-02-01T16:43:43.523Z"
   },
   {
    "duration": 84587,
    "start_time": "2023-02-01T16:43:43.563Z"
   },
   {
    "duration": 63,
    "start_time": "2023-02-01T16:45:08.153Z"
   },
   {
    "duration": 25,
    "start_time": "2023-02-01T16:45:08.218Z"
   },
   {
    "duration": 2186,
    "start_time": "2023-02-01T16:45:08.245Z"
   },
   {
    "duration": 72,
    "start_time": "2023-02-01T16:45:10.433Z"
   },
   {
    "duration": 149,
    "start_time": "2023-02-01T16:45:10.507Z"
   },
   {
    "duration": 49,
    "start_time": "2023-02-01T16:45:10.658Z"
   },
   {
    "duration": 53,
    "start_time": "2023-02-01T16:45:10.708Z"
   },
   {
    "duration": 137,
    "start_time": "2023-02-01T16:45:10.763Z"
   },
   {
    "duration": 17,
    "start_time": "2023-02-01T16:45:10.902Z"
   },
   {
    "duration": 139,
    "start_time": "2023-02-01T16:45:10.921Z"
   },
   {
    "duration": 57,
    "start_time": "2023-02-01T16:45:11.061Z"
   },
   {
    "duration": 15,
    "start_time": "2023-02-01T16:45:11.119Z"
   },
   {
    "duration": 11,
    "start_time": "2023-02-01T16:45:11.136Z"
   },
   {
    "duration": 75,
    "start_time": "2023-02-01T16:45:11.149Z"
   },
   {
    "duration": 16,
    "start_time": "2023-02-01T16:45:11.225Z"
   },
   {
    "duration": 685,
    "start_time": "2023-02-01T16:45:11.242Z"
   },
   {
    "duration": 859,
    "start_time": "2023-02-01T16:45:11.929Z"
   },
   {
    "duration": 33285,
    "start_time": "2023-02-01T16:45:12.790Z"
   },
   {
    "duration": 125,
    "start_time": "2023-02-01T16:45:46.078Z"
   },
   {
    "duration": 366116,
    "start_time": "2023-02-01T16:45:46.205Z"
   },
   {
    "duration": 3,
    "start_time": "2023-02-01T16:51:52.323Z"
   },
   {
    "duration": 15,
    "start_time": "2023-02-01T16:51:52.328Z"
   },
   {
    "duration": 447459,
    "start_time": "2023-02-01T16:51:52.345Z"
   },
   {
    "duration": 1896,
    "start_time": "2023-02-01T16:59:19.806Z"
   },
   {
    "duration": 630,
    "start_time": "2023-02-01T16:59:21.704Z"
   },
   {
    "duration": 61,
    "start_time": "2023-02-01T16:59:22.335Z"
   },
   {
    "duration": 10,
    "start_time": "2023-02-01T16:59:22.398Z"
   },
   {
    "duration": 589,
    "start_time": "2023-02-01T16:59:22.410Z"
   },
   {
    "duration": 308887,
    "start_time": "2023-02-01T17:07:08.510Z"
   },
   {
    "duration": 10508,
    "start_time": "2023-02-01T17:12:17.399Z"
   },
   {
    "duration": 15,
    "start_time": "2023-02-01T17:13:08.555Z"
   },
   {
    "duration": 51,
    "start_time": "2023-02-01T17:13:22.515Z"
   },
   {
    "duration": 10,
    "start_time": "2023-02-01T17:18:29.940Z"
   }
  ],
  "kernelspec": {
   "display_name": "Python 3 (ipykernel)",
   "language": "python",
   "name": "python3"
  },
  "language_info": {
   "codemirror_mode": {
    "name": "ipython",
    "version": 3
   },
   "file_extension": ".py",
   "mimetype": "text/x-python",
   "name": "python",
   "nbconvert_exporter": "python",
   "pygments_lexer": "ipython3",
   "version": "3.9.12"
  },
  "toc": {
   "base_numbering": 1,
   "nav_menu": {},
   "number_sections": true,
   "sideBar": true,
   "skip_h1_title": true,
   "title_cell": "Table of Contents",
   "title_sidebar": "Contents",
   "toc_cell": false,
   "toc_position": {
    "height": "calc(100% - 180px)",
    "left": "10px",
    "top": "150px",
    "width": "165px"
   },
   "toc_section_display": true,
   "toc_window_display": true
  },
  "vscode": {
   "interpreter": {
    "hash": "aee8b7b246df8f9039afb4144a1f6fd8d2ca17a180786b69acc140d282b71a49"
   }
  }
 },
 "nbformat": 4,
 "nbformat_minor": 2
}
